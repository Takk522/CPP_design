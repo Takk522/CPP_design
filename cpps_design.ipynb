{
 "cells": [
  {
   "cell_type": "code",
   "execution_count": null,
   "metadata": {},
   "outputs": [],
   "source": [
    "#chroma api #import packages\n",
    "from chroma import api\n",
    "api.register_key(\"e424a1b4a1604a3a8cc83f0792dc3253\")\n",
    "from chroma import Protein, Chroma\n",
    "from chroma import Chroma, conditioners\n",
    "from chroma.models.graph_design import GraphDesign\n",
    "import torch"
   ]
  },
  {
   "cell_type": "code",
   "execution_count": null,
   "metadata": {},
   "outputs": [],
   "source": [
    "chroma = Chroma()\n",
    "design_model = GraphDesign() \n",
    "protein = Protein()\n",
    "conditioner = conditioners.SubsequenceConditioner(design_model, protein, selection=\"all\", weight=1, renormalize_grad=True)\n",
    "X = torch.randn(1, num_residues, 4)  \n",
    "C = torch.randint(20, (1, num_residues))  \n",
    "O = torch.randn(1, num_residues, 3)  \n",
    "U = torch.tensor(0.0)  \n",
    "t = torch.tensor(0.0)  \n",
    "\n",
    "result = conditioner(X, C, O, U, t)\n",
    "\n",
    "count = 0\n",
    "epoch = 100\n",
    "\n",
    "for i in range(epoch):\n",
    "    protein = chroma.sample(\n",
    "        chain_lengths=[5, 30],\n",
    "        conditioner=conditioner)\n",
    "\n",
    "    protein.to(f\"sample_{count}.pdb\")\n",
    "    count += 1"
   ]
  }
 ],
 "metadata": {
  "kernelspec": {
   "display_name": "chroma",
   "language": "python",
   "name": "python3"
  },
  "language_info": {
   "name": "python",
   "version": "3.9.18"
  }
 },
 "nbformat": 4,
 "nbformat_minor": 2
}
