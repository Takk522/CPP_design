{
 "cells": [
  {
   "cell_type": "code",
   "execution_count": 1,
   "metadata": {
    "vscode": {
     "languageId": "shellscript"
    }
   },
   "outputs": [
    {
     "name": "stderr",
     "output_type": "stream",
     "text": [
      "  % Total    % Received % Xferd  Average Speed   Time    Time     Time  Current\n",
      "                                 Dload  Upload   Total   Spent    Left  Speed\n",
      "100 18697  100 18672  100    25   6611      8  0:00:03  0:00:02  0:00:01  6618\n"
     ]
    },
    {
     "name": "stdout",
     "output_type": "stream",
     "text": [
      "PDB file generated successfully: /Users/jianchengluo/Desktop/CPPs/cpps_natrual/RRRRRRRGGIYLATALAKWALKQGF.pdb\n"
     ]
    },
    {
     "name": "stderr",
     "output_type": "stream",
     "text": [
      "  % Total    % Received % Xferd  Average Speed   Time    Time     Time  Current\n",
      "                                 Dload  Upload   Total   Spent    Left  Speed\n",
      "100 18697  100 18672  100    25   6844      9  0:00:02  0:00:02 --:--:--  6856\n"
     ]
    },
    {
     "name": "stdout",
     "output_type": "stream",
     "text": [
      "PDB file generated successfully: /Users/jianchengluo/Desktop/CPPs/cpps_natrual/IYLATALAKWALKQGFGGRRRRRRR.pdb\n"
     ]
    },
    {
     "name": "stderr",
     "output_type": "stream",
     "text": [
      "  % Total    % Received % Xferd  Average Speed   Time    Time     Time  Current\n",
      "                                 Dload  Upload   Total   Spent    Left  Speed\n",
      "100 17480  100 17457    0    23    223      0  0:01:18  0:01:18 --:--:--  4580\n"
     ]
    },
    {
     "name": "stdout",
     "output_type": "stream",
     "text": [
      "PDB file generated successfully: /Users/jianchengluo/Desktop/CPPs/cpps_natrual/RRRRRRRGGIYLATALAKWALKQ.pdb\n"
     ]
    },
    {
     "name": "stderr",
     "output_type": "stream",
     "text": [
      "  % Total    % Received % Xferd  Average Speed   Time    Time     Time  Current\n",
      "                                 Dload  Upload   Total   Spent    Left  Speed\n",
      "100 17480  100 17457  100    23   6632      8  0:00:02  0:00:02 --:--:--  6643\n"
     ]
    },
    {
     "name": "stdout",
     "output_type": "stream",
     "text": [
      "PDB file generated successfully: /Users/jianchengluo/Desktop/CPPs/cpps_natrual/IYLATALAKWALKQGGRRRRRRR.pdb\n"
     ]
    },
    {
     "name": "stderr",
     "output_type": "stream",
     "text": [
      "  % Total    % Received % Xferd  Average Speed   Time    Time     Time  Current\n",
      "                                 Dload  Upload   Total   Spent    Left  Speed\n",
      "100 16994  100 16971  100    23   6206      8  0:00:02  0:00:02 --:--:--  6213\n"
     ]
    },
    {
     "name": "stdout",
     "output_type": "stream",
     "text": [
      "PDB file generated successfully: /Users/jianchengluo/Desktop/CPPs/cpps_natrual/RRRRRRRGGKLAKLAKKLAKLAK.pdb\n"
     ]
    },
    {
     "name": "stderr",
     "output_type": "stream",
     "text": [
      "  % Total    % Received % Xferd  Average Speed   Time    Time     Time  Current\n",
      "                                 Dload  Upload   Total   Spent    Left  Speed\n",
      "100 16994  100 16971  100    23   6407      8  0:00:02  0:00:02 --:--:--  6415\n"
     ]
    },
    {
     "name": "stdout",
     "output_type": "stream",
     "text": [
      "PDB file generated successfully: /Users/jianchengluo/Desktop/CPPs/cpps_natrual/KLAKLAKKLAKLAKGGRRRRRRR.pdb\n"
     ]
    },
    {
     "name": "stderr",
     "output_type": "stream",
     "text": [
      "  % Total    % Received % Xferd  Average Speed   Time    Time     Time  Current\n",
      "                                 Dload  Upload   Total   Spent    Left  Speed\n",
      "100  9608  100  9600  100     8   4091      3  0:00:02  0:00:02 --:--:--  4095\n"
     ]
    },
    {
     "name": "stdout",
     "output_type": "stream",
     "text": [
      "PDB file generated successfully: /Users/jianchengluo/Desktop/CPPs/cpps_natrual/RWRWRWRW.pdb\n"
     ]
    },
    {
     "name": "stderr",
     "output_type": "stream",
     "text": [
      "  % Total    % Received % Xferd  Average Speed   Time    Time     Time  Current\n",
      "                                 Dload  Upload   Total   Spent    Left  Speed\n",
      "100  7988  100  7980  100     8   3513      3  0:00:02  0:00:02 --:--:--  3518\n"
     ]
    },
    {
     "name": "stdout",
     "output_type": "stream",
     "text": [
      "PDB file generated successfully: /Users/jianchengluo/Desktop/CPPs/cpps_natrual/WRWKKKKA.pdb\n"
     ]
    },
    {
     "name": "stderr",
     "output_type": "stream",
     "text": [
      "  % Total    % Received % Xferd  Average Speed   Time    Time     Time  Current\n",
      "                                 Dload  Upload   Total   Spent    Left  Speed\n",
      "100 10340  100 10329  100    11   4452      4  0:00:02  0:00:02 --:--:--  4456\n"
     ]
    },
    {
     "name": "stdout",
     "output_type": "stream",
     "text": [
      "PDB file generated successfully: /Users/jianchengluo/Desktop/CPPs/cpps_natrual/YGRKKRRQRRR.pdb\n"
     ]
    },
    {
     "name": "stderr",
     "output_type": "stream",
     "text": [
      "  % Total    % Received % Xferd  Average Speed   Time    Time     Time  Current\n",
      "                                 Dload  Upload   Total   Spent    Left  Speed\n",
      "100 17402  100 17376  100    26   6696     10  0:00:02  0:00:02 --:--:--  6708\n"
     ]
    },
    {
     "name": "stdout",
     "output_type": "stream",
     "text": [
      "PDB file generated successfully: /Users/jianchengluo/Desktop/CPPs/cpps_natrual/KKALLAHALHLLALLALHLAHALKKA.pdb\n"
     ]
    },
    {
     "name": "stderr",
     "output_type": "stream",
     "text": [
      "  % Total    % Received % Xferd  Average Speed   Time    Time     Time  Current\n",
      "                                 Dload  Upload   Total   Spent    Left  Speed\n",
      "100  8636  100  8628  100     8   3569      3  0:00:02  0:00:02 --:--:--  3573\n"
     ]
    },
    {
     "name": "stdout",
     "output_type": "stream",
     "text": [
      "PDB file generated successfully: /Users/jianchengluo/Desktop/CPPs/cpps_natrual/RRRRRRRR.pdb\n"
     ]
    },
    {
     "name": "stderr",
     "output_type": "stream",
     "text": [
      "  % Total    % Received % Xferd  Average Speed   Time    Time     Time  Current\n",
      "                                 Dload  Upload   Total   Spent    Left  Speed\n",
      "100 17241  100 17214  100    27   5916      9  0:00:03  0:00:02  0:00:01  5924\n"
     ]
    },
    {
     "name": "stdout",
     "output_type": "stream",
     "text": [
      "PDB file generated successfully: /Users/jianchengluo/Desktop/CPPs/cpps_natrual/GALFLGFLGAAGSTMGAWSQPKSKRKV.pdb\n"
     ]
    },
    {
     "name": "stderr",
     "output_type": "stream",
     "text": [
      "  % Total    % Received % Xferd  Average Speed   Time    Time     Time  Current\n",
      "                                 Dload  Upload   Total   Spent    Left  Speed\n",
      "100 16667  100 16647  100    20   5235      6  0:00:03  0:00:03 --:--:--  5242\n"
     ]
    },
    {
     "name": "stdout",
     "output_type": "stream",
     "text": [
      "PDB file generated successfully: /Users/jianchengluo/Desktop/CPPs/cpps_natrual/GLWRALWRLLRSLWRLLWRA.pdb\n"
     ]
    },
    {
     "name": "stderr",
     "output_type": "stream",
     "text": [
      "  % Total    % Received % Xferd  Average Speed   Time    Time     Time  Current\n",
      "                                 Dload  Upload   Total   Spent    Left  Speed\n",
      "100 15698  100 15675  100    23   6060      8  0:00:02  0:00:02 --:--:--  6068\n"
     ]
    },
    {
     "name": "stdout",
     "output_type": "stream",
     "text": [
      "PDB file generated successfully: /Users/jianchengluo/Desktop/CPPs/cpps_natrual/KAFAKLAARLYRKALARQLGVAA.pdb\n"
     ]
    },
    {
     "name": "stderr",
     "output_type": "stream",
     "text": [
      "  % Total    % Received % Xferd  Average Speed   Time    Time     Time  Current\n",
      "                                 Dload  Upload   Total   Spent    Left  Speed\n",
      "100 11802  100 11787  100    15   5014      6  0:00:02  0:00:02 --:--:--  5022\n"
     ]
    },
    {
     "name": "stdout",
     "output_type": "stream",
     "text": [
      "PDB file generated successfully: /Users/jianchengluo/Desktop/CPPs/cpps_natrual/GSRVQIRCRFRNSTR.pdb\n"
     ]
    },
    {
     "name": "stderr",
     "output_type": "stream",
     "text": [
      "  % Total    % Received % Xferd  Average Speed   Time    Time     Time  Current\n",
      "                                 Dload  Upload   Total   Spent    Left  Speed\n",
      "100 10665  100 10653  100    12  10087     11  0:00:01  0:00:01 --:--:-- 10109\n"
     ]
    },
    {
     "name": "stdout",
     "output_type": "stream",
     "text": [
      "PDB file generated successfully: /Users/jianchengluo/Desktop/CPPs/cpps_natrual/GRKKRRQRRRPQ.pdb\n"
     ]
    },
    {
     "name": "stderr",
     "output_type": "stream",
     "text": [
      "  % Total    % Received % Xferd  Average Speed   Time    Time     Time  Current\n",
      "                                 Dload  Upload   Total   Spent    Left  Speed\n",
      "100  6774  100  6765  100     9   2430      3  0:00:03  0:00:02  0:00:01  2434\n"
     ]
    },
    {
     "name": "stdout",
     "output_type": "stream",
     "text": [
      "PDB file generated successfully: /Users/jianchengluo/Desktop/CPPs/cpps_natrual/CRNGRGPDC.pdb\n"
     ]
    },
    {
     "name": "stderr",
     "output_type": "stream",
     "text": [
      "  % Total    % Received % Xferd  Average Speed   Time    Time     Time  Current\n",
      "                                 Dload  Upload   Total   Spent    Left  Speed\n",
      "100  4340  100  4335  100     5   1684      1  0:00:05  0:00:02  0:00:03  1686\n"
     ]
    },
    {
     "name": "stdout",
     "output_type": "stream",
     "text": [
      "PDB file generated successfully: /Users/jianchengluo/Desktop/CPPs/cpps_natrual/CNGRC.pdb\n"
     ]
    },
    {
     "name": "stderr",
     "output_type": "stream",
     "text": [
      "  % Total    % Received % Xferd  Average Speed   Time    Time     Time  Current\n",
      "                                 Dload  Upload   Total   Spent    Left  Speed\n",
      "100  4340  100  4335  100     5   1849      2  0:00:02  0:00:02 --:--:--  1851\n"
     ]
    },
    {
     "name": "stdout",
     "output_type": "stream",
     "text": [
      "PDB file generated successfully: /Users/jianchengluo/Desktop/CPPs/cpps_natrual/CRGDC.pdb\n"
     ]
    },
    {
     "name": "stderr",
     "output_type": "stream",
     "text": [
      "  % Total    % Received % Xferd  Average Speed   Time    Time     Time  Current\n",
      "                                 Dload  Upload   Total   Spent    Left  Speed\n",
      "100  6612  100  6603  100     9   2768      3  0:00:03  0:00:02  0:00:01  2773\n"
     ]
    },
    {
     "name": "stdout",
     "output_type": "stream",
     "text": [
      "PDB file generated successfully: /Users/jianchengluo/Desktop/CPPs/cpps_natrual/CRGDKGDPC.pdb\n"
     ]
    },
    {
     "name": "stderr",
     "output_type": "stream",
     "text": [
      "  % Total    % Received % Xferd  Average Speed   Time    Time     Time  Current\n",
      "                                 Dload  Upload   Total   Spent    Left  Speed\n",
      "100  9286  100  9276  100    10   4056      4  0:00:02  0:00:02 --:--:--  4062\n"
     ]
    },
    {
     "name": "stdout",
     "output_type": "stream",
     "text": [
      "PDB file generated successfully: /Users/jianchengluo/Desktop/CPPs/cpps_natrual/NYRWRCKNQN.pdb\n"
     ]
    },
    {
     "name": "stderr",
     "output_type": "stream",
     "text": [
      "  % Total    % Received % Xferd  Average Speed   Time    Time     Time  Current\n",
      "                                 Dload  Upload   Total   Spent    Left  Speed\n",
      "100  8881  100  8871  100    10   3804      4  0:00:02  0:00:02 --:--:--  3808\n"
     ]
    },
    {
     "name": "stdout",
     "output_type": "stream",
     "text": [
      "PDB file generated successfully: /Users/jianchengluo/Desktop/CPPs/cpps_natrual/NYQRRCKNQN.pdb\n"
     ]
    },
    {
     "name": "stderr",
     "output_type": "stream",
     "text": [
      "  % Total    % Received % Xferd  Average Speed   Time    Time     Time  Current\n",
      "                                 Dload  Upload   Total   Spent    Left  Speed\n",
      "100  9124  100  9114  100    10   4014      4  0:00:02  0:00:02 --:--:--  4019\n"
     ]
    },
    {
     "name": "stdout",
     "output_type": "stream",
     "text": [
      "PDB file generated successfully: /Users/jianchengluo/Desktop/CPPs/cpps_natrual/NYQWRCKNQN.pdb\n"
     ]
    },
    {
     "name": "stderr",
     "output_type": "stream",
     "text": [
      "  % Total    % Received % Xferd  Average Speed   Time    Time     Time  Current\n",
      "                                 Dload  Upload   Total   Spent    Left  Speed\n",
      "100  9043  100  9033  100    10   3758      4  0:00:02  0:00:02 --:--:--  3761\n"
     ]
    },
    {
     "name": "stdout",
     "output_type": "stream",
     "text": [
      "PDB file generated successfully: /Users/jianchengluo/Desktop/CPPs/cpps_natrual/NYRRRCKNQN.pdb\n"
     ]
    },
    {
     "name": "stderr",
     "output_type": "stream",
     "text": [
      "  % Total    % Received % Xferd  Average Speed   Time    Time     Time  Current\n",
      "                                 Dload  Upload   Total   Spent    Left  Speed\n",
      "100  8637  100  8628  100     9   3667      3  0:00:03  0:00:02  0:00:01  3672\n"
     ]
    },
    {
     "name": "stdout",
     "output_type": "stream",
     "text": [
      "PDB file generated successfully: /Users/jianchengluo/Desktop/CPPs/cpps_natrual/YRWRCKNQN.pdb\n"
     ]
    },
    {
     "name": "stderr",
     "output_type": "stream",
     "text": [
      "  % Total    % Received % Xferd  Average Speed   Time    Time     Time  Current\n",
      "                                 Dload  Upload   Total   Spent    Left  Speed\n",
      "100  8637  100  8628  100     9   3781      3  0:00:03  0:00:02  0:00:01  3786\n"
     ]
    },
    {
     "name": "stdout",
     "output_type": "stream",
     "text": [
      "PDB file generated successfully: /Users/jianchengluo/Desktop/CPPs/cpps_natrual/NYRWRCKNQ.pdb\n"
     ]
    },
    {
     "name": "stderr",
     "output_type": "stream",
     "text": [
      "  % Total    % Received % Xferd  Average Speed   Time    Time     Time  Current\n",
      "                                 Dload  Upload   Total   Spent    Left  Speed\n",
      "100  7988  100  7980  100     8   3506      3  0:00:02  0:00:02 --:--:--  3509\n"
     ]
    },
    {
     "name": "stdout",
     "output_type": "stream",
     "text": [
      "PDB file generated successfully: /Users/jianchengluo/Desktop/CPPs/cpps_natrual/YRWRCKNQ.pdb\n"
     ]
    },
    {
     "name": "stderr",
     "output_type": "stream",
     "text": [
      "  % Total    % Received % Xferd  Average Speed   Time    Time     Time  Current\n",
      "                                 Dload  Upload   Total   Spent    Left  Speed\n",
      "100  7907  100  7899  100     8   3421      3  0:00:02  0:00:02 --:--:--  3425\n"
     ]
    },
    {
     "name": "stdout",
     "output_type": "stream",
     "text": [
      "PDB file generated successfully: /Users/jianchengluo/Desktop/CPPs/cpps_natrual/NYRWRCKN.pdb\n"
     ]
    },
    {
     "name": "stderr",
     "output_type": "stream",
     "text": [
      "  % Total    % Received % Xferd  Average Speed   Time    Time     Time  Current\n",
      "                                 Dload  Upload   Total   Spent    Left  Speed\n",
      "100  7664  100  7656  100     8   3319      3  0:00:02  0:00:02 --:--:--  3323\n"
     ]
    },
    {
     "name": "stdout",
     "output_type": "stream",
     "text": [
      "PDB file generated successfully: /Users/jianchengluo/Desktop/CPPs/cpps_natrual/RWRCKNQN.pdb\n"
     ]
    },
    {
     "name": "stderr",
     "output_type": "stream",
     "text": [
      "  % Total    % Received % Xferd  Average Speed   Time    Time     Time  Current\n",
      "                                 Dload  Upload   Total   Spent    Left  Speed\n",
      "100  7258  100  7251  100     7   3142      3  0:00:02  0:00:02 --:--:--  3144\n"
     ]
    },
    {
     "name": "stdout",
     "output_type": "stream",
     "text": [
      "PDB file generated successfully: /Users/jianchengluo/Desktop/CPPs/cpps_natrual/NYRWRCK.pdb\n"
     ]
    },
    {
     "name": "stderr",
     "output_type": "stream",
     "text": [
      "  % Total    % Received % Xferd  Average Speed   Time    Time     Time  Current\n",
      "                                 Dload  Upload   Total   Spent    Left  Speed\n",
      "100  9935  100  9924  100    11   4293      4  0:00:02  0:00:02 --:--:--  4299\n"
     ]
    },
    {
     "name": "stdout",
     "output_type": "stream",
     "text": [
      "PDB file generated successfully: /Users/jianchengluo/Desktop/CPPs/cpps_natrual/GRKKRRQRRRP.pdb\n"
     ]
    },
    {
     "name": "stderr",
     "output_type": "stream",
     "text": [
      "  % Total    % Received % Xferd  Average Speed   Time    Time     Time  Current\n",
      "                                 Dload  Upload   Total   Spent    Left  Speed\n",
      "100 10100  100 10086  100    14   4370      6  0:00:02  0:00:02 --:--:--  4377\n"
     ]
    },
    {
     "name": "stdout",
     "output_type": "stream",
     "text": [
      "PDB file generated successfully: /Users/jianchengluo/Desktop/CPPs/cpps_natrual/KLAKLAKKLAKLAK.pdb\n"
     ]
    },
    {
     "name": "stderr",
     "output_type": "stream",
     "text": [
      "  % Total    % Received % Xferd  Average Speed   Time    Time     Time  Current\n",
      "                                 Dload  Upload   Total   Spent    Left  Speed\n",
      "100 18535  100 18510  100    25   7139      9  0:00:02  0:00:02 --:--:--  7148\n"
     ]
    },
    {
     "name": "stdout",
     "output_type": "stream",
     "text": [
      "PDB file generated successfully: /Users/jianchengluo/Desktop/CPPs/cpps_natrual/KLAKLAKKLAKLAKGRKKRRQRRRP.pdb\n"
     ]
    },
    {
     "name": "stderr",
     "output_type": "stream",
     "text": [
      "  % Total    % Received % Xferd  Average Speed   Time    Time     Time  Current\n",
      "                                 Dload  Upload   Total   Spent    Left  Speed\n",
      "100 17886  100 17862  100    24   6938      9  0:00:02  0:00:02 --:--:--  6948\n"
     ]
    },
    {
     "name": "stdout",
     "output_type": "stream",
     "text": [
      "PDB file generated successfully: /Users/jianchengluo/Desktop/CPPs/cpps_natrual/KLAKLAKKLAKLAKNYRWRCKNQN.pdb\n"
     ]
    },
    {
     "name": "stderr",
     "output_type": "stream",
     "text": [
      "  % Total    % Received % Xferd  Average Speed   Time    Time     Time  Current\n",
      "                                 Dload  Upload   Total   Spent    Left  Speed\n",
      "100 14073  100 14055  100    18   5961      7  0:00:02  0:00:02 --:--:--  5968\n"
     ]
    },
    {
     "name": "stdout",
     "output_type": "stream",
     "text": [
      "PDB file generated successfully: /Users/jianchengluo/Desktop/CPPs/cpps_natrual/LLIILRRRIRKQAHAHSK.pdb\n"
     ]
    },
    {
     "name": "stderr",
     "output_type": "stream",
     "text": [
      "  % Total    % Received % Xferd  Average Speed   Time    Time     Time  Current\n",
      "                                 Dload  Upload   Total   Spent    Left  Speed\n",
      "100  9693  100  9681  100    12   4097      5  0:00:02  0:00:02 --:--:--  4103\n"
     ]
    },
    {
     "name": "stdout",
     "output_type": "stream",
     "text": [
      "PDB file generated successfully: /Users/jianchengluo/Desktop/CPPs/cpps_natrual/NHQQQNPHQPPM.pdb\n"
     ]
    },
    {
     "name": "stderr",
     "output_type": "stream",
     "text": [
      "  % Total    % Received % Xferd  Average Speed   Time    Time     Time  Current\n",
      "                                 Dload  Upload   Total   Spent    Left  Speed\n",
      "100 22266  100 22236  100    30   8589     11  0:00:02  0:00:02 --:--:--  8600\n"
     ]
    },
    {
     "name": "stdout",
     "output_type": "stream",
     "text": [
      "PDB file generated successfully: /Users/jianchengluo/Desktop/CPPs/cpps_natrual/LLIILRRRIRKQAHAHSKNHQQQNPHQPPM.pdb\n"
     ]
    },
    {
     "name": "stderr",
     "output_type": "stream",
     "text": [
      "  % Total    % Received % Xferd  Average Speed   Time    Time     Time  Current\n",
      "                                 Dload  Upload   Total   Spent    Left  Speed\n",
      "100 22266  100 22236  100    30   8327     11  0:00:02  0:00:02 --:--:--  8339\n"
     ]
    },
    {
     "name": "stdout",
     "output_type": "stream",
     "text": [
      "PDB file generated successfully: /Users/jianchengluo/Desktop/CPPs/cpps_natrual/NHQQQNPHQPPMLLIILRRRIRKQAHAHSK.pdb\n"
     ]
    },
    {
     "name": "stderr",
     "output_type": "stream",
     "text": [
      "  % Total    % Received % Xferd  Average Speed   Time    Time     Time  Current\n",
      "                                 Dload  Upload   Total   Spent    Left  Speed\n",
      "100 22753  100 22722  100    31   7499     10  0:00:03  0:00:03 --:--:--  7511\n"
     ]
    },
    {
     "name": "stdout",
     "output_type": "stream",
     "text": [
      "PDB file generated successfully: /Users/jianchengluo/Desktop/CPPs/cpps_natrual/CLLIILRRRIRKQAHAHSKNHQQQNPHQPPM.pdb\n"
     ]
    },
    {
     "name": "stderr",
     "output_type": "stream",
     "text": [
      "  % Total    % Received % Xferd  Average Speed   Time    Time     Time  Current\n",
      "                                 Dload  Upload   Total   Spent    Left  Speed\n",
      "100  9854  100  9843  100    11   4266      4  0:00:02  0:00:02 --:--:--  4273\n"
     ]
    },
    {
     "name": "stdout",
     "output_type": "stream",
     "text": [
      "PDB file generated successfully: /Users/jianchengluo/Desktop/CPPs/cpps_natrual/RKKRRQRRRGC.pdb\n"
     ]
    },
    {
     "name": "stderr",
     "output_type": "stream",
     "text": [
      "  % Total    % Received % Xferd  Average Speed   Time    Time     Time  Current\n",
      "                                 Dload  Upload   Total   Spent    Left  Speed\n",
      "100  6124  100  6117  100     7   2629      3  0:00:02  0:00:02 --:--:--  2632\n"
     ]
    },
    {
     "name": "stdout",
     "output_type": "stream",
     "text": [
      "PDB file generated successfully: /Users/jianchengluo/Desktop/CPPs/cpps_natrual/RPARPAR.pdb\n"
     ]
    },
    {
     "name": "stderr",
     "output_type": "stream",
     "text": [
      "  % Total    % Received % Xferd  Average Speed   Time    Time     Time  Current\n",
      "                                 Dload  Upload   Total   Spent    Left  Speed\n",
      "100  6124  100  6117  100     7   5799      6  0:00:01  0:00:01 --:--:--  5810\n"
     ]
    },
    {
     "name": "stdout",
     "output_type": "stream",
     "text": [
      "PDB file generated successfully: /Users/jianchengluo/Desktop/CPPs/cpps_natrual/RPARPAR.pdb\n"
     ]
    },
    {
     "name": "stderr",
     "output_type": "stream",
     "text": [
      "  % Total    % Received % Xferd  Average Speed   Time    Time     Time  Current\n",
      "                                 Dload  Upload   Total   Spent    Left  Speed\n",
      "100  6124  100  6117  100     7   5834      6  0:00:01  0:00:01 --:--:--  5843\n"
     ]
    },
    {
     "name": "stdout",
     "output_type": "stream",
     "text": [
      "PDB file generated successfully: /Users/jianchengluo/Desktop/CPPs/cpps_natrual/RPARPAR.pdb\n"
     ]
    },
    {
     "name": "stderr",
     "output_type": "stream",
     "text": [
      "  % Total    % Received % Xferd  Average Speed   Time    Time     Time  Current\n",
      "                                 Dload  Upload   Total   Spent    Left  Speed\n",
      "100  6124  100  6117  100     7   3491      3  0:00:02  0:00:01  0:00:01  3493\n"
     ]
    },
    {
     "name": "stdout",
     "output_type": "stream",
     "text": [
      "PDB file generated successfully: /Users/jianchengluo/Desktop/CPPs/cpps_natrual/RPARPAR.pdb\n"
     ]
    },
    {
     "name": "stderr",
     "output_type": "stream",
     "text": [
      "  % Total    % Received % Xferd  Average Speed   Time    Time     Time  Current\n",
      "                                 Dload  Upload   Total   Spent    Left  Speed\n",
      "100  6124  100  6117  100     7   5904      6  0:00:01  0:00:01 --:--:--  5916\n"
     ]
    },
    {
     "name": "stdout",
     "output_type": "stream",
     "text": [
      "PDB file generated successfully: /Users/jianchengluo/Desktop/CPPs/cpps_natrual/RPARPAR.pdb\n"
     ]
    },
    {
     "name": "stderr",
     "output_type": "stream",
     "text": [
      "  % Total    % Received % Xferd  Average Speed   Time    Time     Time  Current\n",
      "                                 Dload  Upload   Total   Spent    Left  Speed\n",
      "100  6124  100  6117  100     7   5915      6  0:00:01  0:00:01 --:--:--  5922\n"
     ]
    },
    {
     "name": "stdout",
     "output_type": "stream",
     "text": [
      "PDB file generated successfully: /Users/jianchengluo/Desktop/CPPs/cpps_natrual/RPARPAR.pdb\n"
     ]
    },
    {
     "name": "stderr",
     "output_type": "stream",
     "text": [
      "  % Total    % Received % Xferd  Average Speed   Time    Time     Time  Current\n",
      "                                 Dload  Upload   Total   Spent    Left  Speed\n",
      "100  7014  100  7008  100     6   2828      2  0:00:03  0:00:02  0:00:01  2830\n"
     ]
    },
    {
     "name": "stdout",
     "output_type": "stream",
     "text": [
      "PDB file generated successfully: /Users/jianchengluo/Desktop/CPPs/cpps_natrual/RKKWFW.pdb\n"
     ]
    },
    {
     "name": "stderr",
     "output_type": "stream",
     "text": [
      "  % Total    % Received % Xferd  Average Speed   Time    Time     Time  Current\n",
      "                                 Dload  Upload   Total   Spent    Left  Speed\n",
      "100  5880  100  5874  100     6   1927      1  0:00:06  0:00:03  0:00:03  1929\n"
     ]
    },
    {
     "name": "stdout",
     "output_type": "stream",
     "text": [
      "PDB file generated successfully: /Users/jianchengluo/Desktop/CPPs/cpps_natrual/AAAWFW.pdb\n"
     ]
    },
    {
     "name": "stderr",
     "output_type": "stream",
     "text": [
      "  % Total    % Received % Xferd  Average Speed   Time    Time     Time  Current\n",
      "                                 Dload  Upload   Total   Spent    Left  Speed\n",
      "100  5070  100  5064  100     6   2181      2  0:00:03  0:00:02  0:00:01  2184\n"
     ]
    },
    {
     "name": "stdout",
     "output_type": "stream",
     "text": [
      "PDB file generated successfully: /Users/jianchengluo/Desktop/CPPs/cpps_natrual/RKKAAA.pdb\n"
     ]
    },
    {
     "name": "stderr",
     "output_type": "stream",
     "text": [
      "  % Total    % Received % Xferd  Average Speed   Time    Time     Time  Current\n",
      "                                 Dload  Upload   Total   Spent    Left  Speed\n",
      "100  9692  100  9681  100    11   3980      4  0:00:02  0:00:02 --:--:--  3985\n"
     ]
    },
    {
     "name": "stdout",
     "output_type": "stream",
     "text": [
      "PDB file generated successfully: /Users/jianchengluo/Desktop/CPPs/cpps_natrual/GRKKRRQRRRG.pdb\n"
     ]
    },
    {
     "name": "stderr",
     "output_type": "stream",
     "text": [
      "  % Total    % Received % Xferd  Average Speed   Time    Time     Time  Current\n",
      "                                 Dload  Upload   Total   Spent    Left  Speed\n",
      "100  9853  100  9843  100    10   4263      4  0:00:02  0:00:02 --:--:--  4269\n"
     ]
    },
    {
     "name": "stdout",
     "output_type": "stream",
     "text": [
      "PDB file generated successfully: /Users/jianchengluo/Desktop/CPPs/cpps_natrual/GRRRRRRRRR.pdb\n"
     ]
    },
    {
     "name": "stderr",
     "output_type": "stream",
     "text": [
      "  % Total    % Received % Xferd  Average Speed   Time    Time     Time  Current\n",
      "                                 Dload  Upload   Total   Spent    Left  Speed\n",
      "100  8070  100  8061  100     9   3549      3  0:00:03  0:00:02  0:00:01  3555\n"
     ]
    },
    {
     "name": "stdout",
     "output_type": "stream",
     "text": [
      "PDB file generated successfully: /Users/jianchengluo/Desktop/CPPs/cpps_natrual/KKKKKKKKK.pdb\n"
     ]
    },
    {
     "name": "stderr",
     "output_type": "stream",
     "text": [
      "  % Total    % Received % Xferd  Average Speed   Time    Time     Time  Current\n",
      "                                 Dload  Upload   Total   Spent    Left  Speed\n",
      "100  8636  100  8628  100     8   8198      7  0:00:01  0:00:01 --:--:--  8209\n"
     ]
    },
    {
     "name": "stdout",
     "output_type": "stream",
     "text": [
      "PDB file generated successfully: /Users/jianchengluo/Desktop/CPPs/cpps_natrual/RRRRRRRR.pdb\n"
     ]
    },
    {
     "name": "stderr",
     "output_type": "stream",
     "text": [
      "  % Total    % Received % Xferd  Average Speed   Time    Time     Time  Current\n",
      "                                 Dload  Upload   Total   Spent    Left  Speed\n",
      "100  9692  100  9681  100    11   4080      4  0:00:02  0:00:02 --:--:--  4084\n"
     ]
    },
    {
     "name": "stdout",
     "output_type": "stream",
     "text": [
      "PDB file generated successfully: /Users/jianchengluo/Desktop/CPPs/cpps_natrual/GGRRARRRRRR.pdb\n"
     ]
    },
    {
     "name": "stderr",
     "output_type": "stream",
     "text": [
      "  % Total    % Received % Xferd  Average Speed   Time    Time     Time  Current\n",
      "                                 Dload  Upload   Total   Spent    Left  Speed\n",
      "100 11312  100 11301  100    11   4869      4  0:00:02  0:00:02 --:--:--  4875\n"
     ]
    },
    {
     "name": "stdout",
     "output_type": "stream",
     "text": [
      "PDB file generated successfully: /Users/jianchengluo/Desktop/CPPs/cpps_natrual/RRRRRRRRRRR.pdb\n"
     ]
    },
    {
     "name": "stderr",
     "output_type": "stream",
     "text": [
      "  % Total    % Received % Xferd  Average Speed   Time    Time     Time  Current\n",
      "                                 Dload  Upload   Total   Spent    Left  Speed\n",
      "100  9693  100  9681  100    12   4176      5  0:00:02  0:00:02 --:--:--  4183\n"
     ]
    },
    {
     "name": "stdout",
     "output_type": "stream",
     "text": [
      "PDB file generated successfully: /Users/jianchengluo/Desktop/CPPs/cpps_natrual/YKALRISRKLAK.pdb\n"
     ]
    },
    {
     "name": "stderr",
     "output_type": "stream",
     "text": [
      "  % Total    % Received % Xferd  Average Speed   Time    Time     Time  Current\n",
      "                                 Dload  Upload   Total   Spent    Left  Speed\n",
      "100 18451  100 18429  100    22   7011      8  0:00:02  0:00:02 --:--:--  7018\n"
     ]
    },
    {
     "name": "stdout",
     "output_type": "stream",
     "text": [
      "PDB file generated successfully: /Users/jianchengluo/Desktop/CPPs/cpps_natrual/KETWWETWWTEWSQPKKKRKVC.pdb\n"
     ]
    },
    {
     "name": "stderr",
     "output_type": "stream",
     "text": [
      "  % Total    % Received % Xferd  Average Speed   Time    Time     Time  Current\n",
      "                                 Dload  Upload   Total   Spent    Left  Speed\n",
      "100  5960  100  5955  100     5   2597      2  0:00:02  0:00:02 --:--:--  2600\n"
     ]
    },
    {
     "name": "stdout",
     "output_type": "stream",
     "text": [
      "PDB file generated successfully: /Users/jianchengluo/Desktop/CPPs/cpps_natrual/RRRRR.pdb\n"
     ]
    },
    {
     "name": "stderr",
     "output_type": "stream",
     "text": [
      "  % Total    % Received % Xferd  Average Speed   Time    Time     Time  Current\n",
      "                                 Dload  Upload   Total   Spent    Left  Speed\n",
      "100  7744  100  7737  100     7   3349      3  0:00:02  0:00:02 --:--:--  3352\n"
     ]
    },
    {
     "name": "stdout",
     "output_type": "stream",
     "text": [
      "PDB file generated successfully: /Users/jianchengluo/Desktop/CPPs/cpps_natrual/RRRRRRR.pdb\n"
     ]
    },
    {
     "name": "stderr",
     "output_type": "stream",
     "text": [
      "  % Total    % Received % Xferd  Average Speed   Time    Time     Time  Current\n",
      "                                 Dload  Upload   Total   Spent    Left  Speed\n",
      "100  9528  100  9519  100     9   4136      3  0:00:03  0:00:02  0:00:01  4142\n"
     ]
    },
    {
     "name": "stdout",
     "output_type": "stream",
     "text": [
      "PDB file generated successfully: /Users/jianchengluo/Desktop/CPPs/cpps_natrual/RRRRRRRRR.pdb\n"
     ]
    },
    {
     "name": "stderr",
     "output_type": "stream",
     "text": [
      "  % Total    % Received % Xferd  Average Speed   Time    Time     Time  Current\n",
      "                                 Dload  Upload   Total   Spent    Left  Speed\n",
      "100 11312  100 11301  100    11  10806     10  0:00:01  0:00:01 --:--:-- 10824\n"
     ]
    },
    {
     "name": "stdout",
     "output_type": "stream",
     "text": [
      "PDB file generated successfully: /Users/jianchengluo/Desktop/CPPs/cpps_natrual/RRRRRRRRRRR.pdb\n"
     ]
    },
    {
     "name": "stderr",
     "output_type": "stream",
     "text": [
      "  % Total    % Received % Xferd  Average Speed   Time    Time     Time  Current\n",
      "                                 Dload  Upload   Total   Spent    Left  Speed\n",
      "100 12612  100 12597  100    15   5412      6  0:00:02  0:00:02 --:--:--  5419\n"
     ]
    },
    {
     "name": "stdout",
     "output_type": "stream",
     "text": [
      "PDB file generated successfully: /Users/jianchengluo/Desktop/CPPs/cpps_natrual/CVSRRRRRRGGRRRR.pdb\n"
     ]
    },
    {
     "name": "stderr",
     "output_type": "stream",
     "text": [
      "  % Total    % Received % Xferd  Average Speed   Time    Time     Time  Current\n",
      "                                 Dload  Upload   Total   Spent    Left  Speed\n",
      "100   193  100   161  100    32    154     30  0:00:01  0:00:01 --:--:--   185\n"
     ]
    },
    {
     "name": "stdout",
     "output_type": "stream",
     "text": [
      "PDB file generated successfully: /Users/jianchengluo/Desktop/CPPs/cpps_natrual/EEEEEEEEEE-PLGLAG-VSRRRRRRGGRRRR.pdb\n"
     ]
    },
    {
     "name": "stderr",
     "output_type": "stream",
     "text": [
      "  % Total    % Received % Xferd  Average Speed   Time    Time     Time  Current\n",
      "                                 Dload  Upload   Total   Spent    Left  Speed\n",
      "100 20075  100 20049  100    26   7470      9  0:00:02  0:00:02 --:--:--  7482\n"
     ]
    },
    {
     "name": "stdout",
     "output_type": "stream",
     "text": [
      "PDB file generated successfully: /Users/jianchengluo/Desktop/CPPs/cpps_natrual/HHHHHHESGGGGSPGRRRRRRRRRRR.pdb\n"
     ]
    },
    {
     "name": "stderr",
     "output_type": "stream",
     "text": [
      "  % Total    % Received % Xferd  Average Speed   Time    Time     Time  Current\n",
      "                                 Dload  Upload   Total   Spent    Left  Speed\n",
      "100  9772  100  9762  100    10   4103      4  0:00:02  0:00:02 --:--:--  4107\n"
     ]
    },
    {
     "name": "stdout",
     "output_type": "stream",
     "text": [
      "PDB file generated successfully: /Users/jianchengluo/Desktop/CPPs/cpps_natrual/KFFKFFKFFK.pdb\n"
     ]
    },
    {
     "name": "stderr",
     "output_type": "stream",
     "text": [
      "  % Total    % Received % Xferd  Average Speed   Time    Time     Time  Current\n",
      "                                 Dload  Upload   Total   Spent    Left  Speed\n",
      "100  9772  100  9762  100    10   8768      8  0:00:01  0:00:01 --:--:--  8779\n"
     ]
    },
    {
     "name": "stdout",
     "output_type": "stream",
     "text": [
      "PDB file generated successfully: /Users/jianchengluo/Desktop/CPPs/cpps_natrual/KFFKFFKFFK.pdb\n"
     ]
    },
    {
     "name": "stderr",
     "output_type": "stream",
     "text": [
      "  % Total    % Received % Xferd  Average Speed   Time    Time     Time  Current\n",
      "                                 Dload  Upload   Total   Spent    Left  Speed\n",
      "100  9772  100  9762  100    10   8991      9  0:00:01  0:00:01 --:--:--  9006\n"
     ]
    },
    {
     "name": "stdout",
     "output_type": "stream",
     "text": [
      "PDB file generated successfully: /Users/jianchengluo/Desktop/CPPs/cpps_natrual/KFFKFFKFFK.pdb\n"
     ]
    },
    {
     "name": "stderr",
     "output_type": "stream",
     "text": [
      "  % Total    % Received % Xferd  Average Speed   Time    Time     Time  Current\n",
      "                                 Dload  Upload   Total   Spent    Left  Speed\n",
      "100  9772  100  9762  100    10   8956      9  0:00:01  0:00:01 --:--:--  8973\n"
     ]
    },
    {
     "name": "stdout",
     "output_type": "stream",
     "text": [
      "PDB file generated successfully: /Users/jianchengluo/Desktop/CPPs/cpps_natrual/KFFKFFKFFK.pdb\n"
     ]
    },
    {
     "name": "stderr",
     "output_type": "stream",
     "text": [
      "  % Total    % Received % Xferd  Average Speed   Time    Time     Time  Current\n",
      "                                 Dload  Upload   Total   Spent    Left  Speed\n",
      "100  9772  100  9762  100    10   9454      9  0:00:01  0:00:01 --:--:--  9468\n"
     ]
    },
    {
     "name": "stdout",
     "output_type": "stream",
     "text": [
      "PDB file generated successfully: /Users/jianchengluo/Desktop/CPPs/cpps_natrual/KFFKFFKFFK.pdb\n"
     ]
    },
    {
     "name": "stderr",
     "output_type": "stream",
     "text": [
      "  % Total    % Received % Xferd  Average Speed   Time    Time     Time  Current\n",
      "                                 Dload  Upload   Total   Spent    Left  Speed\n",
      "100  9772  100  9762  100    10   9181      9  0:00:01  0:00:01 --:--:--  9192\n"
     ]
    },
    {
     "name": "stdout",
     "output_type": "stream",
     "text": [
      "PDB file generated successfully: /Users/jianchengluo/Desktop/CPPs/cpps_natrual/KFFKFFKFFK.pdb\n"
     ]
    },
    {
     "name": "stderr",
     "output_type": "stream",
     "text": [
      "  % Total    % Received % Xferd  Average Speed   Time    Time     Time  Current\n",
      "                                 Dload  Upload   Total   Spent    Left  Speed\n",
      "100  9772  100  9762  100    10   9237      9  0:00:01  0:00:01 --:--:--  9253\n"
     ]
    },
    {
     "name": "stdout",
     "output_type": "stream",
     "text": [
      "PDB file generated successfully: /Users/jianchengluo/Desktop/CPPs/cpps_natrual/KFFKFFKFFK.pdb\n"
     ]
    },
    {
     "name": "stderr",
     "output_type": "stream",
     "text": [
      "  % Total    % Received % Xferd  Average Speed   Time    Time     Time  Current\n",
      "                                 Dload  Upload   Total   Spent    Left  Speed\n",
      "100  9772  100  9762  100    10   9273      9  0:00:01  0:00:01 --:--:--  9288\n"
     ]
    },
    {
     "name": "stdout",
     "output_type": "stream",
     "text": [
      "PDB file generated successfully: /Users/jianchengluo/Desktop/CPPs/cpps_natrual/KFFKFFKFFK.pdb\n"
     ]
    },
    {
     "name": "stderr",
     "output_type": "stream",
     "text": [
      "  % Total    % Received % Xferd  Average Speed   Time    Time     Time  Current\n",
      "                                 Dload  Upload   Total   Spent    Left  Speed\n",
      "100  9772  100  9762  100    10   9395      9  0:00:01  0:00:01 --:--:--  9414\n"
     ]
    },
    {
     "name": "stdout",
     "output_type": "stream",
     "text": [
      "PDB file generated successfully: /Users/jianchengluo/Desktop/CPPs/cpps_natrual/KFFKFFKFFK.pdb\n"
     ]
    },
    {
     "name": "stderr",
     "output_type": "stream",
     "text": [
      "  % Total    % Received % Xferd  Average Speed   Time    Time     Time  Current\n",
      "                                 Dload  Upload   Total   Spent    Left  Speed\n",
      "100  6612  100  6603  100     9   2777      3  0:00:03  0:00:02  0:00:01  2781\n"
     ]
    },
    {
     "name": "stdout",
     "output_type": "stream",
     "text": [
      "PDB file generated successfully: /Users/jianchengluo/Desktop/CPPs/cpps_natrual/CRGDKGPDC.pdb\n"
     ]
    },
    {
     "name": "stderr",
     "output_type": "stream",
     "text": [
      "  % Total    % Received % Xferd  Average Speed   Time    Time     Time  Current\n",
      "                                 Dload  Upload   Total   Spent    Left  Speed\n",
      "100 22268  100 22236  100    32   8337     11  0:00:02  0:00:02 --:--:--  8349\n"
     ]
    },
    {
     "name": "stdout",
     "output_type": "stream",
     "text": [
      "PDB file generated successfully: /Users/jianchengluo/Desktop/CPPs/cpps_natrual/ARRRAARAARRRAARAARRRAARAARRRAARA.pdb\n"
     ]
    },
    {
     "name": "stderr",
     "output_type": "stream",
     "text": [
      "  % Total    % Received % Xferd  Average Speed   Time    Time     Time  Current\n",
      "                                 Dload  Upload   Total   Spent    Left  Speed\n",
      "100 19676  100 19644  100    32   5133      8  0:00:04  0:00:03  0:00:01  5142\n"
     ]
    },
    {
     "name": "stdout",
     "output_type": "stream",
     "text": [
      "PDB file generated successfully: /Users/jianchengluo/Desktop/CPPs/cpps_natrual/AKKKAAKAAKKKAAKAAKKKAAKAAKKKAAKA.pdb\n"
     ]
    },
    {
     "name": "stderr",
     "output_type": "stream",
     "text": [
      "  % Total    % Received % Xferd  Average Speed   Time    Time     Time  Current\n",
      "                                 Dload  Upload   Total   Spent    Left  Speed\n",
      "100 17076  100 17052  100    24   6409      9  0:00:02  0:00:02 --:--:--  6417\n"
     ]
    },
    {
     "name": "stdout",
     "output_type": "stream",
     "text": [
      "PDB file generated successfully: /Users/jianchengluo/Desktop/CPPs/cpps_natrual/ARRRAARAARRRAARAARRRAARA.pdb\n"
     ]
    },
    {
     "name": "stderr",
     "output_type": "stream",
     "text": [
      "  % Total    % Received % Xferd  Average Speed   Time    Time     Time  Current\n",
      "                                 Dload  Upload   Total   Spent    Left  Speed\n",
      "100 15132  100 15108  100    24   5829      9  0:00:02  0:00:02 --:--:--  5837\n"
     ]
    },
    {
     "name": "stdout",
     "output_type": "stream",
     "text": [
      "PDB file generated successfully: /Users/jianchengluo/Desktop/CPPs/cpps_natrual/AKKKAAKAAKKKAAKAAKKKAAKA.pdb\n"
     ]
    },
    {
     "name": "stderr",
     "output_type": "stream",
     "text": [
      "  % Total    % Received % Xferd  Average Speed   Time    Time     Time  Current\n",
      "                                 Dload  Upload   Total   Spent    Left  Speed\n",
      "100 20970  100 20940  100    30   8071     11  0:00:02  0:00:02 --:--:--  8084\n"
     ]
    },
    {
     "name": "stdout",
     "output_type": "stream",
     "text": [
      "PDB file generated successfully: /Users/jianchengluo/Desktop/CPPs/cpps_natrual/ARRARAARRARAARRARAARRARAARRARA.pdb\n"
     ]
    },
    {
     "name": "stderr",
     "output_type": "stream",
     "text": [
      "  % Total    % Received % Xferd  Average Speed   Time    Time     Time  Current\n",
      "                                 Dload  Upload   Total   Spent    Left  Speed\n",
      "100 18540  100 18510  100    30   6834     11  0:00:02  0:00:02 --:--:--  6843\n"
     ]
    },
    {
     "name": "stdout",
     "output_type": "stream",
     "text": [
      "PDB file generated successfully: /Users/jianchengluo/Desktop/CPPs/cpps_natrual/AKKAKAAKKAKAAKKAKAAKKAKAAKKAKA.pdb\n"
     ]
    },
    {
     "name": "stderr",
     "output_type": "stream",
     "text": [
      "  % Total    % Received % Xferd  Average Speed   Time    Time     Time  Current\n",
      "                                 Dload  Upload   Total   Spent    Left  Speed\n",
      "100 22268  100 22236  100    32   8274     11  0:00:02  0:00:02 --:--:--  8284\n"
     ]
    },
    {
     "name": "stdout",
     "output_type": "stream",
     "text": [
      "PDB file generated successfully: /Users/jianchengluo/Desktop/CPPs/cpps_natrual/RARARARARARARARARARARARARARARARA.pdb\n"
     ]
    },
    {
     "name": "stderr",
     "output_type": "stream",
     "text": [
      "  % Total    % Received % Xferd  Average Speed   Time    Time     Time  Current\n",
      "                                 Dload  Upload   Total   Spent    Left  Speed\n",
      "100 10340  100 10329  100    11   9747     10  0:00:01  0:00:01 --:--:--  9763\n"
     ]
    },
    {
     "name": "stdout",
     "output_type": "stream",
     "text": [
      "PDB file generated successfully: /Users/jianchengluo/Desktop/CPPs/cpps_natrual/YGRKKRRQRRR.pdb\n"
     ]
    },
    {
     "name": "stderr",
     "output_type": "stream",
     "text": [
      "  % Total    % Received % Xferd  Average Speed   Time    Time     Time  Current\n",
      "                                 Dload  Upload   Total   Spent    Left  Speed\n",
      "100 10340  100 10329  100    11   9705     10  0:00:01  0:00:01 --:--:--  9718\n"
     ]
    },
    {
     "name": "stdout",
     "output_type": "stream",
     "text": [
      "PDB file generated successfully: /Users/jianchengluo/Desktop/CPPs/cpps_natrual/YGRKKRRQRRR.pdb\n"
     ]
    },
    {
     "name": "stderr",
     "output_type": "stream",
     "text": [
      "  % Total    % Received % Xferd  Average Speed   Time    Time     Time  Current\n",
      "                                 Dload  Upload   Total   Spent    Left  Speed\n",
      "100 10340  100 10329  100    11   9996     10  0:00:01  0:00:01 --:--:-- 10009\n"
     ]
    },
    {
     "name": "stdout",
     "output_type": "stream",
     "text": [
      "PDB file generated successfully: /Users/jianchengluo/Desktop/CPPs/cpps_natrual/YGRKKRRQRRR.pdb\n"
     ]
    },
    {
     "name": "stderr",
     "output_type": "stream",
     "text": [
      "  % Total    % Received % Xferd  Average Speed   Time    Time     Time  Current\n",
      "                                 Dload  Upload   Total   Spent    Left  Speed\n",
      "100  9531  100  9519  100    12   3871      4  0:00:03  0:00:02  0:00:01  3877\n"
     ]
    },
    {
     "name": "stdout",
     "output_type": "stream",
     "text": [
      "PDB file generated successfully: /Users/jianchengluo/Desktop/CPPs/cpps_natrual/YTFGLKTSFNVQ.pdb\n"
     ]
    },
    {
     "name": "stderr",
     "output_type": "stream",
     "text": [
      "  % Total    % Received % Xferd  Average Speed   Time    Time     Time  Current\n",
      "                                 Dload  Upload   Total   Spent    Left  Speed\n",
      "100 17562  100 17538  100    24   6751      9  0:00:02  0:00:02 --:--:--  6762\n"
     ]
    },
    {
     "name": "stdout",
     "output_type": "stream",
     "text": [
      "PDB file generated successfully: /Users/jianchengluo/Desktop/CPPs/cpps_natrual/YTFGLKTSFNVQYTFGLKTSFNVQ.pdb\n"
     ]
    },
    {
     "name": "stderr",
     "output_type": "stream",
     "text": [
      "  % Total    % Received % Xferd  Average Speed   Time    Time     Time  Current\n",
      "                                 Dload  Upload   Total   Spent    Left  Speed\n",
      "100 10340  100 10329  100    11   9617     10  0:00:01  0:00:01 --:--:--  9636\n"
     ]
    },
    {
     "name": "stdout",
     "output_type": "stream",
     "text": [
      "PDB file generated successfully: /Users/jianchengluo/Desktop/CPPs/cpps_natrual/YGRKKRRQRRR.pdb\n"
     ]
    },
    {
     "name": "stderr",
     "output_type": "stream",
     "text": [
      "  % Total    % Received % Xferd  Average Speed   Time    Time     Time  Current\n",
      "                                 Dload  Upload   Total   Spent    Left  Speed\n",
      "100 19180  100 19158  100    22   6928      7  0:00:03  0:00:02  0:00:01  6936\n"
     ]
    },
    {
     "name": "stdout",
     "output_type": "stream",
     "text": [
      "PDB file generated successfully: /Users/jianchengluo/Desktop/CPPs/cpps_natrual/YGRKKRRQRRRYGRKKRRQRRR.pdb\n"
     ]
    },
    {
     "name": "stderr",
     "output_type": "stream",
     "text": [
      "  % Total    % Received % Xferd  Average Speed   Time    Time     Time  Current\n",
      "                                 Dload  Upload   Total   Spent    Left  Speed\n",
      "100 14314  100 14298  100    16   5299      5  0:00:03  0:00:02  0:00:01  5305\n"
     ]
    },
    {
     "name": "stdout",
     "output_type": "stream",
     "text": [
      "PDB file generated successfully: /Users/jianchengluo/Desktop/CPPs/cpps_natrual/RQIKIWFQNRRMKWKK.pdb\n"
     ]
    },
    {
     "name": "stderr",
     "output_type": "stream",
     "text": [
      "  % Total    % Received % Xferd  Average Speed   Time    Time     Time  Current\n",
      "                                 Dload  Upload   Total   Spent    Left  Speed\n",
      "100 26398  100 26367  100    31   9531     11  0:00:02  0:00:02 --:--:--  9540\n"
     ]
    },
    {
     "name": "stdout",
     "output_type": "stream",
     "text": [
      "PDB file generated successfully: /Users/jianchengluo/Desktop/CPPs/cpps_natrual/RQIKIWFQNRRMKWKKRQIKIWFQNRRMKWK.pdb\n"
     ]
    },
    {
     "name": "stderr",
     "output_type": "stream",
     "text": [
      "  % Total    % Received % Xferd  Average Speed   Time    Time     Time  Current\n",
      "                                 Dload  Upload   Total   Spent    Left  Speed\n",
      "100  4583  100  4578  100     5   1424      1  0:00:05  0:00:03  0:00:02  1425\n"
     ]
    },
    {
     "name": "stdout",
     "output_type": "stream",
     "text": [
      "PDB file generated successfully: /Users/jianchengluo/Desktop/CPPs/cpps_natrual/CRGDK.pdb\n"
     ]
    },
    {
     "name": "stderr",
     "output_type": "stream",
     "text": [
      "  % Total    % Received % Xferd  Average Speed   Time    Time     Time  Current\n",
      "                                 Dload  Upload   Total   Spent    Left  Speed\n",
      "100  8636  100  8628  100     8   6476      6  0:00:01  0:00:01 --:--:--  6483\n"
     ]
    },
    {
     "name": "stdout",
     "output_type": "stream",
     "text": [
      "PDB file generated successfully: /Users/jianchengluo/Desktop/CPPs/cpps_natrual/RRRRRRRR.pdb\n"
     ]
    },
    {
     "name": "stderr",
     "output_type": "stream",
     "text": [
      "  % Total    % Received % Xferd  Average Speed   Time    Time     Time  Current\n",
      "                                 Dload  Upload   Total   Spent    Left  Speed\n",
      "100 17809  100 17781  100    28   5012      7  0:00:04  0:00:03  0:00:01  5019\n"
     ]
    },
    {
     "name": "stdout",
     "output_type": "stream",
     "text": [
      "PDB file generated successfully: /Users/jianchengluo/Desktop/CPPs/cpps_natrual/LSTAADMQGVVTDGMASGLDKDYLKPDD.pdb\n"
     ]
    },
    {
     "name": "stderr",
     "output_type": "stream",
     "text": [
      "  % Total    % Received % Xferd  Average Speed   Time    Time     Time  Current\n",
      "                                 Dload  Upload   Total   Spent    Left  Speed\n",
      "100 17809  100 17781  100    28   6852     10  0:00:02  0:00:02 --:--:--  6865\n"
     ]
    },
    {
     "name": "stdout",
     "output_type": "stream",
     "text": [
      "PDB file generated successfully: /Users/jianchengluo/Desktop/CPPs/cpps_natrual/LSTAADMQGVVTDGMASGLDKDYLKPDD.pdb\n"
     ]
    },
    {
     "name": "stderr",
     "output_type": "stream",
     "text": [
      "  % Total    % Received % Xferd  Average Speed   Time    Time     Time  Current\n",
      "                                 Dload  Upload   Total   Spent    Left  Speed\n",
      "100 10340  100 10329  100    11   8174      8  0:00:01  0:00:01 --:--:--  8180\n"
     ]
    },
    {
     "name": "stdout",
     "output_type": "stream",
     "text": [
      "PDB file generated successfully: /Users/jianchengluo/Desktop/CPPs/cpps_natrual/YGRKKRRQRRR.pdb\n"
     ]
    },
    {
     "name": "stderr",
     "output_type": "stream",
     "text": [
      "  % Total    % Received % Xferd  Average Speed   Time    Time     Time  Current\n",
      "                                 Dload  Upload   Total   Spent    Left  Speed\n",
      "100 15129  100 15108  100    21   1549      2  0:00:10  0:00:09  0:00:01  3666\n"
     ]
    },
    {
     "name": "stdout",
     "output_type": "stream",
     "text": [
      "PDB file generated successfully: /Users/jianchengluo/Desktop/CPPs/cpps_natrual/AGYLLGHINLHHLAHLHHILC.pdb\n"
     ]
    },
    {
     "name": "stderr",
     "output_type": "stream",
     "text": [
      "  % Total    % Received % Xferd  Average Speed   Time    Time     Time  Current\n",
      "                                 Dload  Upload   Total   Spent    Left  Speed\n",
      "100 14642  100 14622  100    20   1528      2  0:00:10  0:00:09  0:00:01  3325\n"
     ]
    },
    {
     "name": "stdout",
     "output_type": "stream",
     "text": [
      "PDB file generated successfully: /Users/jianchengluo/Desktop/CPPs/cpps_natrual/AGYLLGHINLHHLAHLHHIL.pdb\n"
     ]
    },
    {
     "name": "stderr",
     "output_type": "stream",
     "text": [
      "  % Total    % Received % Xferd  Average Speed   Time    Time     Time  Current\n",
      "                                 Dload  Upload   Total   Spent    Left  Speed\n",
      "100 13994  100 13974  100    20   2579      3  0:00:06  0:00:05  0:00:01  3683\n"
     ]
    },
    {
     "name": "stdout",
     "output_type": "stream",
     "text": [
      "PDB file generated successfully: /Users/jianchengluo/Desktop/CPPs/cpps_natrual/AGYLLGKINLKKLAKLLLIL.pdb\n"
     ]
    },
    {
     "name": "stderr",
     "output_type": "stream",
     "text": [
      "  % Total    % Received % Xferd  Average Speed   Time    Time     Time  Current\n",
      "                                 Dload  Upload   Total   Spent    Left  Speed\n",
      "100  9286  100  9276  100    10   2482      2  0:00:05  0:00:03  0:00:02  2485\n"
     ]
    },
    {
     "name": "stdout",
     "output_type": "stream",
     "text": [
      "PDB file generated successfully: /Users/jianchengluo/Desktop/CPPs/cpps_natrual/CHHRRRRHHC.pdb\n"
     ]
    },
    {
     "name": "stderr",
     "output_type": "stream",
     "text": [
      "  % Total    % Received % Xferd  Average Speed   Time    Time     Time  Current\n",
      "                                 Dload  Upload   Total   Spent    Left  Speed\n",
      "100 14314  100 14298  100    16   3714      4  0:00:04  0:00:03  0:00:01  3718\n"
     ]
    },
    {
     "name": "stdout",
     "output_type": "stream",
     "text": [
      "PDB file generated successfully: /Users/jianchengluo/Desktop/CPPs/cpps_natrual/RQIKIWFQNRRMKWKK.pdb\n"
     ]
    },
    {
     "name": "stderr",
     "output_type": "stream",
     "text": [
      "  % Total    % Received % Xferd  Average Speed   Time    Time     Time  Current\n",
      "                                 Dload  Upload   Total   Spent    Left  Speed\n",
      "100 14314  100 14298  100    16   3928      4  0:00:04  0:00:03  0:00:01  3932\n"
     ]
    },
    {
     "name": "stdout",
     "output_type": "stream",
     "text": [
      "PDB file generated successfully: /Users/jianchengluo/Desktop/CPPs/cpps_natrual/KWFKIQMQIRRWKNKR.pdb\n"
     ]
    },
    {
     "name": "stderr",
     "output_type": "stream",
     "text": [
      "  % Total    % Received % Xferd  Average Speed   Time    Time     Time  Current\n",
      "                                 Dload  Upload   Total   Spent    Left  Speed\n",
      "100 26079  100 26043  100    36   6711      9  0:00:04  0:00:03  0:00:01  6719\n"
     ]
    },
    {
     "name": "stdout",
     "output_type": "stream",
     "text": [
      "PDB file generated successfully: /Users/jianchengluo/Desktop/CPPs/cpps_natrual/TAMRAVDKLLLHLKKLFREGQFNRNFESIIICRDRT.pdb\n"
     ]
    },
    {
     "name": "stderr",
     "output_type": "stream",
     "text": [
      "  % Total    % Received % Xferd  Average Speed   Time    Time     Time  Current\n",
      "                                 Dload  Upload   Total   Spent    Left  Speed\n",
      "100 10340  100 10329  100    11   1556      1  0:00:11  0:00:06  0:00:05  2295\n"
     ]
    },
    {
     "name": "stdout",
     "output_type": "stream",
     "text": [
      "PDB file generated successfully: /Users/jianchengluo/Desktop/CPPs/cpps_natrual/YGRKKRRQRRR.pdb\n"
     ]
    },
    {
     "name": "stderr",
     "output_type": "stream",
     "text": [
      "  % Total    % Received % Xferd  Average Speed   Time    Time     Time  Current\n",
      "                                 Dload  Upload   Total   Spent    Left  Speed\n",
      "100 11312  100 11301  100    11   4292      4  0:00:02  0:00:02 --:--:--  4297\n"
     ]
    },
    {
     "name": "stdout",
     "output_type": "stream",
     "text": [
      "PDB file generated successfully: /Users/jianchengluo/Desktop/CPPs/cpps_natrual/RRRRRRRRRRR.pdb\n"
     ]
    },
    {
     "name": "stderr",
     "output_type": "stream",
     "text": [
      "  % Total    % Received % Xferd  Average Speed   Time    Time     Time  Current\n",
      "                                 Dload  Upload   Total   Spent    Left  Speed\n",
      "100  8636  100  8628  100     8   4944      4  0:00:02  0:00:01  0:00:01  4948\n"
     ]
    },
    {
     "name": "stdout",
     "output_type": "stream",
     "text": [
      "PDB file generated successfully: /Users/jianchengluo/Desktop/CPPs/cpps_natrual/RRRRRRRR.pdb\n"
     ]
    },
    {
     "name": "stderr",
     "output_type": "stream",
     "text": [
      "  % Total    % Received % Xferd  Average Speed   Time    Time     Time  Current\n",
      "                                 Dload  Upload   Total   Spent    Left  Speed\n",
      "100  8636  100  8628  100     8   6360      5  0:00:01  0:00:01 --:--:--  6368\n"
     ]
    },
    {
     "name": "stdout",
     "output_type": "stream",
     "text": [
      "PDB file generated successfully: /Users/jianchengluo/Desktop/CPPs/cpps_natrual/RRRRRRRR.pdb\n"
     ]
    },
    {
     "name": "stderr",
     "output_type": "stream",
     "text": [
      "  % Total    % Received % Xferd  Average Speed   Time    Time     Time  Current\n",
      "                                 Dload  Upload   Total   Spent    Left  Speed\n",
      "100 15124  100 15108  100    16   5092      5  0:00:03  0:00:02  0:00:01  5097\n"
     ]
    },
    {
     "name": "stdout",
     "output_type": "stream",
     "text": [
      "PDB file generated successfully: /Users/jianchengluo/Desktop/CPPs/cpps_natrual/HHHHHHHHRRRRRRRR.pdb\n"
     ]
    },
    {
     "name": "stderr",
     "output_type": "stream",
     "text": [
      "  % Total    % Received % Xferd  Average Speed   Time    Time     Time  Current\n",
      "                                 Dload  Upload   Total   Spent    Left  Speed\n",
      "100 14880  100 14865  100    15   5420      5  0:00:03  0:00:02  0:00:01  5424\n"
     ]
    },
    {
     "name": "stdout",
     "output_type": "stream",
     "text": [
      "PDB file generated successfully: /Users/jianchengluo/Desktop/CPPs/cpps_natrual/RRRRRRRRRRRRRRR.pdb\n"
     ]
    },
    {
     "name": "stderr",
     "output_type": "stream",
     "text": [
      "  % Total    % Received % Xferd  Average Speed   Time    Time     Time  Current\n",
      "                                 Dload  Upload   Total   Spent    Left  Speed\n",
      "100 21368  100 21345  100    23   7915      8  0:00:02  0:00:02 --:--:--  7922\n"
     ]
    },
    {
     "name": "stdout",
     "output_type": "stream",
     "text": [
      "PDB file generated successfully: /Users/jianchengluo/Desktop/CPPs/cpps_natrual/HHHHHHHHRRRRRRRRRRRRRRR.pdb\n"
     ]
    },
    {
     "name": "stderr",
     "output_type": "stream",
     "text": [
      "  % Total    % Received % Xferd  Average Speed   Time    Time     Time  Current\n",
      "                                 Dload  Upload   Total   Spent    Left  Speed\n",
      "100 21368  100 21345  100    23  14146     15  0:00:01  0:00:01 --:--:-- 14169\n"
     ]
    },
    {
     "name": "stdout",
     "output_type": "stream",
     "text": [
      "PDB file generated successfully: /Users/jianchengluo/Desktop/CPPs/cpps_natrual/HHHHHHHHRRRRRRRRRRRRRRR.pdb\n"
     ]
    },
    {
     "name": "stderr",
     "output_type": "stream",
     "text": [
      "  % Total    % Received % Xferd  Average Speed   Time    Time     Time  Current\n",
      "                                 Dload  Upload   Total   Spent    Left  Speed\n",
      "100 24612  100 24585  100    27   8888      9  0:00:03  0:00:02  0:00:01  8898\n"
     ]
    },
    {
     "name": "stdout",
     "output_type": "stream",
     "text": [
      "PDB file generated successfully: /Users/jianchengluo/Desktop/CPPs/cpps_natrual/HHHHHHHHHHHHRRRRRRRRRRRRRRR.pdb\n"
     ]
    },
    {
     "name": "stderr",
     "output_type": "stream",
     "text": [
      "  % Total    % Received % Xferd  Average Speed   Time    Time     Time  Current\n",
      "                                 Dload  Upload   Total   Spent    Left  Speed\n",
      "100 27856  100 27825  100    31  10721     11  0:00:02  0:00:02 --:--:-- 10730\n"
     ]
    },
    {
     "name": "stdout",
     "output_type": "stream",
     "text": [
      "PDB file generated successfully: /Users/jianchengluo/Desktop/CPPs/cpps_natrual/HHHHHHHHHHHHHHHHRRRRRRRRRRRRRRR.pdb\n"
     ]
    },
    {
     "name": "stderr",
     "output_type": "stream",
     "text": [
      "  % Total    % Received % Xferd  Average Speed   Time    Time     Time  Current\n",
      "                                 Dload  Upload   Total   Spent    Left  Speed\n",
      "100 27856  100 27825  100    31  21305     23  0:00:01  0:00:01 --:--:-- 21345\n"
     ]
    },
    {
     "name": "stdout",
     "output_type": "stream",
     "text": [
      "PDB file generated successfully: /Users/jianchengluo/Desktop/CPPs/cpps_natrual/HHHHHHHHHHHHHHHHRRRRRRRRRRRRRRR.pdb\n"
     ]
    },
    {
     "name": "stderr",
     "output_type": "stream",
     "text": [
      "  % Total    % Received % Xferd  Average Speed   Time    Time     Time  Current\n",
      "                                 Dload  Upload   Total   Spent    Left  Speed\n",
      "100 31100  100 31065  100    35  12223     13  0:00:02  0:00:02 --:--:-- 12234\n"
     ]
    },
    {
     "name": "stdout",
     "output_type": "stream",
     "text": [
      "PDB file generated successfully: /Users/jianchengluo/Desktop/CPPs/cpps_natrual/HHHHHHHHHHHHHHHHHHHHRRRRRRRRRRRRRRR.pdb\n"
     ]
    },
    {
     "name": "stderr",
     "output_type": "stream",
     "text": [
      "  % Total    % Received % Xferd  Average Speed   Time    Time     Time  Current\n",
      "                                 Dload  Upload   Total   Spent    Left  Speed\n",
      "100  8070  100  8061  100     9   3244      3  0:00:03  0:00:02  0:00:01  3248\n"
     ]
    },
    {
     "name": "stdout",
     "output_type": "stream",
     "text": [
      "PDB file generated successfully: /Users/jianchengluo/Desktop/CPPs/cpps_natrual/RLLRLLRLL.pdb\n"
     ]
    },
    {
     "name": "stderr",
     "output_type": "stream",
     "text": [
      "  % Total    % Received % Xferd  Average Speed   Time    Time     Time  Current\n",
      "                                 Dload  Upload   Total   Spent    Left  Speed\n",
      "100 17888  100 17862  100    26   6816      9  0:00:02  0:00:02 --:--:--  6824\n"
     ]
    },
    {
     "name": "stdout",
     "output_type": "stream",
     "text": [
      "PDB file generated successfully: /Users/jianchengluo/Desktop/CPPs/cpps_natrual/CIGAVLKVLTTGLPALISWIKRKRQQ.pdb\n"
     ]
    },
    {
     "name": "stderr",
     "output_type": "stream",
     "text": [
      "  % Total    % Received % Xferd  Average Speed   Time    Time     Time  Current\n",
      "                                 Dload  Upload   Total   Spent    Left  Speed\n",
      "100 15051  100 15027  100    24   5843      9  0:00:02  0:00:02 --:--:--  5854\n"
     ]
    },
    {
     "name": "stdout",
     "output_type": "stream",
     "text": [
      "PDB file generated successfully: /Users/jianchengluo/Desktop/CPPs/cpps_natrual/AGYLLGKINLKALAALAKKILGGC.pdb\n"
     ]
    },
    {
     "name": "stderr",
     "output_type": "stream",
     "text": [
      "  % Total    % Received % Xferd  Average Speed   Time    Time     Time  Current\n",
      "                                 Dload  Upload   Total   Spent    Left  Speed\n",
      "100 10506  100 10491  100    15   4484      6  0:00:02  0:00:02 --:--:--  4491\n"
     ]
    },
    {
     "name": "stdout",
     "output_type": "stream",
     "text": [
      "PDB file generated successfully: /Users/jianchengluo/Desktop/CPPs/cpps_natrual/GKKALKLAAKLLKKC.pdb\n"
     ]
    },
    {
     "name": "stderr",
     "output_type": "stream",
     "text": [
      "  % Total    % Received % Xferd  Average Speed   Time    Time     Time  Current\n",
      "                                 Dload  Upload   Total   Spent    Left  Speed\n",
      "100 20317  100 20292  100    25   7717      9  0:00:02  0:00:02 --:--:--  7725\n"
     ]
    },
    {
     "name": "stdout",
     "output_type": "stream",
     "text": [
      "PDB file generated successfully: /Users/jianchengluo/Desktop/CPPs/cpps_natrual/RRRRRRRQIKILFQNRRMKWKKGGC.pdb\n"
     ]
    },
    {
     "name": "stderr",
     "output_type": "stream",
     "text": [
      "  % Total    % Received % Xferd  Average Speed   Time    Time     Time  Current\n",
      "                                 Dload  Upload   Total   Spent    Left  Speed\n",
      "100 15779  100 15756  100    23   4226      6  0:00:03  0:00:03 --:--:--  4233\n"
     ]
    },
    {
     "name": "stdout",
     "output_type": "stream",
     "text": [
      "PDB file generated successfully: /Users/jianchengluo/Desktop/CPPs/cpps_natrual/GLFKALLKLLKSLWKLLLKAGGC.pdb\n"
     ]
    },
    {
     "name": "stderr",
     "output_type": "stream",
     "text": [
      "  % Total    % Received % Xferd  Average Speed   Time    Time     Time  Current\n",
      "                                 Dload  Upload   Total   Spent    Left  Speed\n",
      "100 16269  100 16242  100    27   6264     10  0:00:02  0:00:02 --:--:--  6274\n"
     ]
    },
    {
     "name": "stdout",
     "output_type": "stream",
     "text": [
      "PDB file generated successfully: /Users/jianchengluo/Desktop/CPPs/cpps_natrual/GALFLGWLGAAGSTMGAPKSKRKVGGC.pdb\n"
     ]
    },
    {
     "name": "stderr",
     "output_type": "stream",
     "text": [
      "  % Total    % Received % Xferd  Average Speed   Time    Time     Time  Current\n",
      "                                 Dload  Upload   Total   Spent    Left  Speed\n",
      "100 14802  100 14784  100    18   5534      6  0:00:03  0:00:02  0:00:01  5541\n"
     ]
    },
    {
     "name": "stdout",
     "output_type": "stream",
     "text": [
      "PDB file generated successfully: /Users/jianchengluo/Desktop/CPPs/cpps_natrual/KWFETWFTEWPKKRKGGC.pdb\n"
     ]
    },
    {
     "name": "stderr",
     "output_type": "stream",
     "text": [
      "  % Total    % Received % Xferd  Average Speed   Time    Time     Time  Current\n",
      "                                 Dload  Upload   Total   Spent    Left  Speed\n",
      "100 20561  100 20535  100    26   4470      5  0:00:05  0:00:04  0:00:01  4476\n"
     ]
    },
    {
     "name": "stdout",
     "output_type": "stream",
     "text": [
      "PDB file generated successfully: /Users/jianchengluo/Desktop/CPPs/cpps_natrual/LIRLWSHLIHIWFQNRRLKWKKKGGC.pdb\n"
     ]
    },
    {
     "name": "stderr",
     "output_type": "stream",
     "text": [
      "  % Total    % Received % Xferd  Average Speed   Time    Time     Time  Current\n",
      "                                 Dload  Upload   Total   Spent    Left  Speed\n",
      "100 19269  100 19239  100    30   7361     11  0:00:02  0:00:02 --:--:--  7371\n"
     ]
    },
    {
     "name": "stdout",
     "output_type": "stream",
     "text": [
      "PDB file generated successfully: /Users/jianchengluo/Desktop/CPPs/cpps_natrual/WEAKLAKALAKALAKHLAKALAKALKACEA.pdb\n"
     ]
    },
    {
     "name": "stderr",
     "output_type": "stream",
     "text": [
      "  % Total    % Received % Xferd  Average Speed   Time    Time     Time  Current\n",
      "                                 Dload  Upload   Total   Spent    Left  Speed\n",
      "100 16426  100 16404  100    22   6290      8  0:00:02  0:00:02 --:--:--  6300\n"
     ]
    },
    {
     "name": "stdout",
     "output_type": "stream",
     "text": [
      "PDB file generated successfully: /Users/jianchengluo/Desktop/CPPs/cpps_natrual/MVTVLFRRLRIRRACGPPRVRV.pdb\n"
     ]
    },
    {
     "name": "stderr",
     "output_type": "stream",
     "text": [
      "  % Total    % Received % Xferd  Average Speed   Time    Time     Time  Current\n",
      "                                 Dload  Upload   Total   Spent    Left  Speed\n",
      "100 17563  100 17538  100    25   4801      6  0:00:04  0:00:03  0:00:01  4809\n"
     ]
    },
    {
     "name": "stdout",
     "output_type": "stream",
     "text": [
      "PDB file generated successfully: /Users/jianchengluo/Desktop/CPPs/cpps_natrual/CGGMVTVLFRRLRIRRASGPPRVRV.pdb\n"
     ]
    },
    {
     "name": "stderr",
     "output_type": "stream",
     "text": [
      "  % Total    % Received % Xferd  Average Speed   Time    Time     Time  Current\n",
      "                                 Dload  Upload   Total   Spent    Left  Speed\n",
      "100 16102  100 16080  100    22   5809      7  0:00:03  0:00:02  0:00:01  5817\n"
     ]
    },
    {
     "name": "stdout",
     "output_type": "stream",
     "text": [
      "PDB file generated successfully: /Users/jianchengluo/Desktop/CPPs/cpps_natrual/MVTVLFKRLRIRRACGPPRVKV.pdb\n"
     ]
    },
    {
     "name": "stderr",
     "output_type": "stream",
     "text": [
      "  % Total    % Received % Xferd  Average Speed   Time    Time     Time  Current\n",
      "                                 Dload  Upload   Total   Spent    Left  Speed\n",
      "100  8636  100  8628  100     8   8037      7  0:00:01  0:00:01 --:--:--  8048\n"
     ]
    },
    {
     "name": "stdout",
     "output_type": "stream",
     "text": [
      "PDB file generated successfully: /Users/jianchengluo/Desktop/CPPs/cpps_natrual/RRRRRRRR.pdb\n"
     ]
    },
    {
     "name": "stderr",
     "output_type": "stream",
     "text": [
      "  % Total    % Received % Xferd  Average Speed   Time    Time     Time  Current\n",
      "                                 Dload  Upload   Total   Spent    Left  Speed\n",
      "100 14314  100 14298  100    16  11048     12  0:00:01  0:00:01 --:--:-- 11070\n"
     ]
    },
    {
     "name": "stdout",
     "output_type": "stream",
     "text": [
      "PDB file generated successfully: /Users/jianchengluo/Desktop/CPPs/cpps_natrual/RQIKIWFQNRRMKWKK.pdb\n"
     ]
    },
    {
     "name": "stderr",
     "output_type": "stream",
     "text": [
      "  % Total    % Received % Xferd  Average Speed   Time    Time     Time  Current\n",
      "                                 Dload  Upload   Total   Spent    Left  Speed\n",
      "100 16833  100 16809  100    24   6505      9  0:00:02  0:00:02 --:--:--  6514\n"
     ]
    },
    {
     "name": "stdout",
     "output_type": "stream",
     "text": [
      "PDB file generated successfully: /Users/jianchengluo/Desktop/CPPs/cpps_natrual/WEARLARALARALARHLARALARA.pdb\n"
     ]
    },
    {
     "name": "stderr",
     "output_type": "stream",
     "text": [
      "  % Total    % Received % Xferd  Average Speed   Time    Time     Time  Current\n",
      "                                 Dload  Upload   Total   Spent    Left  Speed\n",
      "100 14478  100 14460  100    18   4850      6  0:00:03  0:00:02  0:00:01  4856\n"
     ]
    },
    {
     "name": "stdout",
     "output_type": "stream",
     "text": [
      "PDB file generated successfully: /Users/jianchengluo/Desktop/CPPs/cpps_natrual/PKKKRKVWKLLQQFFGLM.pdb\n"
     ]
    },
    {
     "name": "stderr",
     "output_type": "stream",
     "text": [
      "  % Total    % Received % Xferd  Average Speed   Time    Time     Time  Current\n",
      "                                 Dload  Upload   Total   Spent    Left  Speed\n",
      "100 14478  100 14460  100    18   5444      6  0:00:03  0:00:02  0:00:01  5451\n"
     ]
    },
    {
     "name": "stdout",
     "output_type": "stream",
     "text": [
      "PDB file generated successfully: /Users/jianchengluo/Desktop/CPPs/cpps_natrual/PKKKRKVWKLLQQFFGLM.pdb\n"
     ]
    },
    {
     "name": "stderr",
     "output_type": "stream",
     "text": [
      "  % Total    % Received % Xferd  Average Speed   Time    Time     Time  Current\n",
      "                                 Dload  Upload   Total   Spent    Left  Speed\n",
      "100 14478  100 14460  100    18  11260     14  0:00:01  0:00:01 --:--:-- 11284\n"
     ]
    },
    {
     "name": "stdout",
     "output_type": "stream",
     "text": [
      "PDB file generated successfully: /Users/jianchengluo/Desktop/CPPs/cpps_natrual/PKKKRKVWKLLQQFFGLM.pdb\n"
     ]
    },
    {
     "name": "stderr",
     "output_type": "stream",
     "text": [
      "  % Total    % Received % Xferd  Average Speed   Time    Time     Time  Current\n",
      "                                 Dload  Upload   Total   Spent    Left  Speed\n",
      "100  7017  100  7008  100     9   2911      3  0:00:03  0:00:02  0:00:01  2916\n"
     ]
    },
    {
     "name": "stdout",
     "output_type": "stream",
     "text": [
      "PDB file generated successfully: /Users/jianchengluo/Desktop/CPPs/cpps_natrual/CSKSSDYQC.pdb\n"
     ]
    },
    {
     "name": "stderr",
     "output_type": "stream",
     "text": [
      "  % Total    % Received % Xferd  Average Speed   Time    Time     Time  Current\n",
      "                                 Dload  Upload   Total   Spent    Left  Speed\n",
      "100  7339  100  7332  100     7   3130      2  0:00:03  0:00:02  0:00:01  3134\n"
     ]
    },
    {
     "name": "stdout",
     "output_type": "stream",
     "text": [
      "PDB file generated successfully: /Users/jianchengluo/Desktop/CPPs/cpps_natrual/IRQRRRR.pdb\n"
     ]
    },
    {
     "name": "stderr",
     "output_type": "stream",
     "text": [
      "  % Total    % Received % Xferd  Average Speed   Time    Time     Time  Current\n",
      "                                 Dload  Upload   Total   Spent    Left  Speed\n",
      "100 11964  100 11949  100    15   5029      6  0:00:02  0:00:02 --:--:--  5037\n"
     ]
    },
    {
     "name": "stdout",
     "output_type": "stream",
     "text": [
      "PDB file generated successfully: /Users/jianchengluo/Desktop/CPPs/cpps_natrual/CGYGRKKRRQRRRGC.pdb\n"
     ]
    },
    {
     "name": "stderr",
     "output_type": "stream",
     "text": [
      "  % Total    % Received % Xferd  Average Speed   Time    Time     Time  Current\n",
      "                                 Dload  Upload   Total   Spent    Left  Speed\n",
      "100 12125  100 12111  100    14   4402      5  0:00:02  0:00:02 --:--:--  4407\n"
     ]
    },
    {
     "name": "stdout",
     "output_type": "stream",
     "text": [
      "PDB file generated successfully: /Users/jianchengluo/Desktop/CPPs/cpps_natrual/VSRRRRRRGGRRRR.pdb\n"
     ]
    },
    {
     "name": "stderr",
     "output_type": "stream",
     "text": [
      "  % Total    % Received % Xferd  Average Speed   Time    Time     Time  Current\n",
      "                                 Dload  Upload   Total   Spent    Left  Speed\n",
      "100 17727  100 17700  100    27   5879      8  0:00:03  0:00:03 --:--:--  5889\n"
     ]
    },
    {
     "name": "stdout",
     "output_type": "stream",
     "text": [
      "PDB file generated successfully: /Users/jianchengluo/Desktop/CPPs/cpps_natrual/GWTLNSAGYLLGKINLKALAALAKKIL.pdb\n"
     ]
    },
    {
     "name": "stderr",
     "output_type": "stream",
     "text": [
      "  % Total    % Received % Xferd  Average Speed   Time    Time     Time  Current\n",
      "                                 Dload  Upload   Total   Spent    Left  Speed\n",
      "100 12129  100 12111  100    18   5218      7  0:00:02  0:00:02 --:--:--  5228\n"
     ]
    },
    {
     "name": "stdout",
     "output_type": "stream",
     "text": [
      "PDB file generated successfully: /Users/jianchengluo/Desktop/CPPs/cpps_natrual/KLALKLALKALKAALKLA.pdb\n"
     ]
    },
    {
     "name": "stderr",
     "output_type": "stream",
     "text": [
      "  % Total    % Received % Xferd  Average Speed   Time    Time     Time  Current\n",
      "                                 Dload  Upload   Total   Spent    Left  Speed\n",
      "100 11233  100 11220  100    13   3355      3  0:00:04  0:00:03  0:00:01  3359\n"
     ]
    },
    {
     "name": "stdout",
     "output_type": "stream",
     "text": [
      "PDB file generated successfully: /Users/jianchengluo/Desktop/CPPs/cpps_natrual/GRKKRRQRRRPPQ.pdb\n"
     ]
    },
    {
     "name": "stderr",
     "output_type": "stream",
     "text": [
      "  % Total    % Received % Xferd  Average Speed   Time    Time     Time  Current\n",
      "                                 Dload  Upload   Total   Spent    Left  Speed\n",
      "100 14314  100 14298  100    16  11003     12  0:00:01  0:00:01 --:--:-- 11019\n"
     ]
    },
    {
     "name": "stdout",
     "output_type": "stream",
     "text": [
      "PDB file generated successfully: /Users/jianchengluo/Desktop/CPPs/cpps_natrual/RQIKIWFQNRRMKWKK.pdb\n"
     ]
    },
    {
     "name": "stderr",
     "output_type": "stream",
     "text": [
      "  % Total    % Received % Xferd  Average Speed   Time    Time     Time  Current\n",
      "                                 Dload  Upload   Total   Spent    Left  Speed\n",
      "100  9528  100  9519  100     9   9095      8  0:00:01  0:00:01 --:--:--  9108\n"
     ]
    },
    {
     "name": "stdout",
     "output_type": "stream",
     "text": [
      "PDB file generated successfully: /Users/jianchengluo/Desktop/CPPs/cpps_natrual/RRRRRRRRR.pdb\n"
     ]
    },
    {
     "name": "stderr",
     "output_type": "stream",
     "text": [
      "  % Total    % Received % Xferd  Average Speed   Time    Time     Time  Current\n",
      "                                 Dload  Upload   Total   Spent    Left  Speed\n",
      "100 11805  100 11787  100    18   4977      7  0:00:02  0:00:02 --:--:--  4985\n"
     ]
    },
    {
     "name": "stdout",
     "output_type": "stream",
     "text": [
      "PDB file generated successfully: /Users/jianchengluo/Desktop/CPPs/cpps_natrual/CSSLDEPGRGGFSSESKV.pdb\n"
     ]
    },
    {
     "name": "stderr",
     "output_type": "stream",
     "text": [
      "  % Total    % Received % Xferd  Average Speed   Time    Time     Time  Current\n",
      "                                 Dload  Upload   Total   Spent    Left  Speed\n",
      "100 13914  100 13893  100    21   5973      9  0:00:02  0:00:02 --:--:--  5984\n"
     ]
    },
    {
     "name": "stdout",
     "output_type": "stream",
     "text": [
      "PDB file generated successfully: /Users/jianchengluo/Desktop/CPPs/cpps_natrual/AGYLLGKINLKALAALAKKIL.pdb\n"
     ]
    },
    {
     "name": "stderr",
     "output_type": "stream",
     "text": [
      "  % Total    % Received % Xferd  Average Speed   Time    Time     Time  Current\n",
      "                                 Dload  Upload   Total   Spent    Left  Speed\n",
      "100 16750  100 16728  100    22   6495      8  0:00:02  0:00:02 --:--:--  6502\n"
     ]
    },
    {
     "name": "stdout",
     "output_type": "stream",
     "text": [
      "PDB file generated successfully: /Users/jianchengluo/Desktop/CPPs/cpps_natrual/KCFQWQRNMRKVRGPPVSCIKR.pdb\n"
     ]
    },
    {
     "name": "stderr",
     "output_type": "stream",
     "text": [
      "  % Total    % Received % Xferd  Average Speed   Time    Time     Time  Current\n",
      "                                 Dload  Upload   Total   Spent    Left  Speed\n",
      "100 16750  100 16728  100    22   5311      6  0:00:03  0:00:03 --:--:--  5319\n"
     ]
    },
    {
     "name": "stdout",
     "output_type": "stream",
     "text": [
      "PDB file generated successfully: /Users/jianchengluo/Desktop/CPPs/cpps_natrual/KCFQWQRNMRKVRGPPVSCIKR.pdb\n"
     ]
    },
    {
     "name": "stderr",
     "output_type": "stream",
     "text": [
      "  % Total    % Received % Xferd  Average Speed   Time    Time     Time  Current\n",
      "                                 Dload  Upload   Total   Spent    Left  Speed\n",
      "100 16750  100 16728  100    22  12478     16  0:00:01  0:00:01 --:--:-- 12500\n"
     ]
    },
    {
     "name": "stdout",
     "output_type": "stream",
     "text": [
      "PDB file generated successfully: /Users/jianchengluo/Desktop/CPPs/cpps_natrual/KCFQWQRNMRKVRGPPVSCIKR.pdb\n"
     ]
    },
    {
     "name": "stderr",
     "output_type": "stream",
     "text": [
      "  % Total    % Received % Xferd  Average Speed   Time    Time     Time  Current\n",
      "                                 Dload  Upload   Total   Spent    Left  Speed\n",
      "100 16750  100 16728  100    22  12882     16  0:00:01  0:00:01 --:--:-- 12904\n"
     ]
    },
    {
     "name": "stdout",
     "output_type": "stream",
     "text": [
      "PDB file generated successfully: /Users/jianchengluo/Desktop/CPPs/cpps_natrual/KCFQWQRNMRKVRGPPVSCIKR.pdb\n"
     ]
    },
    {
     "name": "stderr",
     "output_type": "stream",
     "text": [
      "  % Total    % Received % Xferd  Average Speed   Time    Time     Time  Current\n",
      "                                 Dload  Upload   Total   Spent    Left  Speed\n",
      "100 16750  100 16728  100    22  11648     15  0:00:01  0:00:01 --:--:-- 11672\n"
     ]
    },
    {
     "name": "stdout",
     "output_type": "stream",
     "text": [
      "PDB file generated successfully: /Users/jianchengluo/Desktop/CPPs/cpps_natrual/KCFQWQRNMRKVRGPPVSCIKR.pdb\n"
     ]
    },
    {
     "name": "stderr",
     "output_type": "stream",
     "text": [
      "  % Total    % Received % Xferd  Average Speed   Time    Time     Time  Current\n",
      "                                 Dload  Upload   Total   Spent    Left  Speed\n",
      "100 16750  100 16728  100    22   6715      8  0:00:02  0:00:02 --:--:--  6726\n"
     ]
    },
    {
     "name": "stdout",
     "output_type": "stream",
     "text": [
      "PDB file generated successfully: /Users/jianchengluo/Desktop/CPPs/cpps_natrual/KCFQWQRNMRKVRGPPVSCIKR.pdb\n"
     ]
    },
    {
     "name": "stderr",
     "output_type": "stream",
     "text": [
      "  % Total    % Received % Xferd  Average Speed   Time    Time     Time  Current\n",
      "                                 Dload  Upload   Total   Spent    Left  Speed\n",
      "100 16750  100 16728  100    22   6588      8  0:00:02  0:00:02 --:--:--  6599\n"
     ]
    },
    {
     "name": "stdout",
     "output_type": "stream",
     "text": [
      "PDB file generated successfully: /Users/jianchengluo/Desktop/CPPs/cpps_natrual/KCFQWQRNMRKVRGPPVSCIKR.pdb\n"
     ]
    },
    {
     "name": "stderr",
     "output_type": "stream",
     "text": [
      "  % Total    % Received % Xferd  Average Speed   Time    Time     Time  Current\n",
      "                                 Dload  Upload   Total   Spent    Left  Speed\n",
      "100 16750  100 16728  100    22  12213     16  0:00:01  0:00:01 --:--:-- 12235\n"
     ]
    },
    {
     "name": "stdout",
     "output_type": "stream",
     "text": [
      "PDB file generated successfully: /Users/jianchengluo/Desktop/CPPs/cpps_natrual/KCFQWQRNMRKVRGPPVSCIKR.pdb\n"
     ]
    },
    {
     "name": "stderr",
     "output_type": "stream",
     "text": [
      "  % Total    % Received % Xferd  Average Speed   Time    Time     Time  Current\n",
      "                                 Dload  Upload   Total   Spent    Left  Speed\n",
      "100 16750  100 16728  100    22  10454     13  0:00:01  0:00:01 --:--:-- 10468\n"
     ]
    },
    {
     "name": "stdout",
     "output_type": "stream",
     "text": [
      "PDB file generated successfully: /Users/jianchengluo/Desktop/CPPs/cpps_natrual/KCFQWQRNMRKVRGPPVSCIKR.pdb\n"
     ]
    },
    {
     "name": "stderr",
     "output_type": "stream",
     "text": [
      "  % Total    % Received % Xferd  Average Speed   Time    Time     Time  Current\n",
      "                                 Dload  Upload   Total   Spent    Left  Speed\n",
      "100 16750  100 16728  100    22  12921     16  0:00:01  0:00:01 --:--:-- 12944\n"
     ]
    },
    {
     "name": "stdout",
     "output_type": "stream",
     "text": [
      "PDB file generated successfully: /Users/jianchengluo/Desktop/CPPs/cpps_natrual/KCFQWQRNMRKVRGPPVSCIKR.pdb\n"
     ]
    },
    {
     "name": "stderr",
     "output_type": "stream",
     "text": [
      "  % Total    % Received % Xferd  Average Speed   Time    Time     Time  Current\n",
      "                                 Dload  Upload   Total   Spent    Left  Speed\n",
      "100 16750  100 16728  100    22  12870     16  0:00:01  0:00:01 --:--:-- 12884\n"
     ]
    },
    {
     "name": "stdout",
     "output_type": "stream",
     "text": [
      "PDB file generated successfully: /Users/jianchengluo/Desktop/CPPs/cpps_natrual/KCFQWQRNMRKVRGPPVSCIKR.pdb\n"
     ]
    },
    {
     "name": "stderr",
     "output_type": "stream",
     "text": [
      "  % Total    % Received % Xferd  Average Speed   Time    Time     Time  Current\n",
      "                                 Dload  Upload   Total   Spent    Left  Speed\n",
      "100 16750  100 16728  100    22   6528      8  0:00:02  0:00:02 --:--:--  6537\n"
     ]
    },
    {
     "name": "stdout",
     "output_type": "stream",
     "text": [
      "PDB file generated successfully: /Users/jianchengluo/Desktop/CPPs/cpps_natrual/KCFQWQRNMRKVRGPPVSCIKR.pdb\n"
     ]
    },
    {
     "name": "stderr",
     "output_type": "stream",
     "text": [
      "  % Total    % Received % Xferd  Average Speed   Time    Time     Time  Current\n",
      "                                 Dload  Upload   Total   Spent    Left  Speed\n",
      "100 16750  100 16728  100    22   7232      9  0:00:02  0:00:02 --:--:--  7241\n"
     ]
    },
    {
     "name": "stdout",
     "output_type": "stream",
     "text": [
      "PDB file generated successfully: /Users/jianchengluo/Desktop/CPPs/cpps_natrual/KCFQWQRNMRKVRGPPVSCIKR.pdb\n"
     ]
    },
    {
     "name": "stderr",
     "output_type": "stream",
     "text": [
      "  % Total    % Received % Xferd  Average Speed   Time    Time     Time  Current\n",
      "                                 Dload  Upload   Total   Spent    Left  Speed\n",
      "100 16750  100 16728  100    22  12533     16  0:00:01  0:00:01 --:--:-- 12556\n"
     ]
    },
    {
     "name": "stdout",
     "output_type": "stream",
     "text": [
      "PDB file generated successfully: /Users/jianchengluo/Desktop/CPPs/cpps_natrual/KCFQWQRNMRKVRGPPVSCIKR.pdb\n"
     ]
    },
    {
     "name": "stderr",
     "output_type": "stream",
     "text": [
      "  % Total    % Received % Xferd  Average Speed   Time    Time     Time  Current\n",
      "                                 Dload  Upload   Total   Spent    Left  Speed\n",
      "100  6530  100  6522  100     8   1946      2  0:00:04  0:00:03  0:00:01  1949\n"
     ]
    },
    {
     "name": "stdout",
     "output_type": "stream",
     "text": [
      "PDB file generated successfully: /Users/jianchengluo/Desktop/CPPs/cpps_natrual/GRGDSPRR.pdb\n"
     ]
    },
    {
     "name": "stderr",
     "output_type": "stream",
     "text": [
      "  % Total    % Received % Xferd  Average Speed   Time    Time     Time  Current\n",
      "                                 Dload  Upload   Total   Spent    Left  Speed\n",
      "100  9369  100  9357  100    12   4006      5  0:00:02  0:00:02 --:--:--  4012\n"
     ]
    },
    {
     "name": "stdout",
     "output_type": "stream",
     "text": [
      "PDB file generated successfully: /Users/jianchengluo/Desktop/CPPs/cpps_natrual/GRGDSPRRSPRR.pdb\n"
     ]
    },
    {
     "name": "stderr",
     "output_type": "stream",
     "text": [
      "  % Total    % Received % Xferd  Average Speed   Time    Time     Time  Current\n",
      "                                 Dload  Upload   Total   Spent    Left  Speed\n",
      "100 18048  100 18024  100    24   4529      6  0:00:04  0:00:03  0:00:01  4534\n"
     ]
    },
    {
     "name": "stdout",
     "output_type": "stream",
     "text": [
      "PDB file generated successfully: /Users/jianchengluo/Desktop/CPPs/cpps_natrual/GRGDSPRRKKKKSPRRKKKKSPRR.pdb\n"
     ]
    },
    {
     "name": "stderr",
     "output_type": "stream",
     "text": [
      "  % Total    % Received % Xferd  Average Speed   Time    Time     Time  Current\n",
      "                                 Dload  Upload   Total   Spent    Left  Speed\n",
      "100 17562  100 17538  100    24   6397      8  0:00:03  0:00:02  0:00:01  6404\n"
     ]
    },
    {
     "name": "stdout",
     "output_type": "stream",
     "text": [
      "PDB file generated successfully: /Users/jianchengluo/Desktop/CPPs/cpps_natrual/GRGDGPRRKKKKGPRRKKKKGPRR.pdb\n"
     ]
    },
    {
     "name": "stderr",
     "output_type": "stream",
     "text": [
      "  % Total    % Received % Xferd  Average Speed   Time    Time     Time  Current\n",
      "                                 Dload  Upload   Total   Spent    Left  Speed\n",
      "100 14398  100 14379  100    19   4676      6  0:00:03  0:00:03 --:--:--  4683\n"
     ]
    },
    {
     "name": "stdout",
     "output_type": "stream",
     "text": [
      "PDB file generated successfully: /Users/jianchengluo/Desktop/CPPs/cpps_natrual/LLKLLKKLLKLLKKLLKLL.pdb\n"
     ]
    },
    {
     "name": "stderr",
     "output_type": "stream",
     "text": [
      "  % Total    % Received % Xferd  Average Speed   Time    Time     Time  Current\n",
      "                                 Dload  Upload   Total   Spent    Left  Speed\n",
      "100 16342  100 16323  100    19   3966      4  0:00:04  0:00:04 --:--:--  3971\n"
     ]
    },
    {
     "name": "stdout",
     "output_type": "stream",
     "text": [
      "PDB file generated successfully: /Users/jianchengluo/Desktop/CPPs/cpps_natrual/WLKLLKKWLKLWKKLLKLW.pdb\n"
     ]
    },
    {
     "name": "stderr",
     "output_type": "stream",
     "text": [
      "  % Total    % Received % Xferd  Average Speed   Time    Time     Time  Current\n",
      "                                 Dload  Upload   Total   Spent    Left  Speed\n",
      "100 15370  100 15351  100    19   1260      1  0:00:19  0:00:12  0:00:07  4208\n"
     ]
    },
    {
     "name": "stdout",
     "output_type": "stream",
     "text": [
      "PDB file generated successfully: /Users/jianchengluo/Desktop/CPPs/cpps_natrual/FLKLLKKFLKLFKKLLKLF.pdb\n"
     ]
    },
    {
     "name": "stderr",
     "output_type": "stream",
     "text": [
      "  % Total    % Received % Xferd  Average Speed   Time    Time     Time  Current\n",
      "                                 Dload  Upload   Total   Spent    Left  Speed\n",
      "100 11556  100 11544  100    12   4993      5  0:00:02  0:00:02 --:--:--  5000\n"
     ]
    },
    {
     "name": "stdout",
     "output_type": "stream",
     "text": [
      "PDB file generated successfully: /Users/jianchengluo/Desktop/CPPs/cpps_natrual/WLKLWKKWLKLW.pdb\n"
     ]
    },
    {
     "name": "stderr",
     "output_type": "stream",
     "text": [
      "  % Total    % Received % Xferd  Average Speed   Time    Time     Time  Current\n",
      "                                 Dload  Upload   Total   Spent    Left  Speed\n",
      "100 12372  100 12354  100    18   5278      7  0:00:02  0:00:02 --:--:--  5284\n"
     ]
    },
    {
     "name": "stdout",
     "output_type": "stream",
     "text": [
      "PDB file generated successfully: /Users/jianchengluo/Desktop/CPPs/cpps_natrual/KALKLKLALALLAKLKLA.pdb\n"
     ]
    },
    {
     "name": "stderr",
     "output_type": "stream",
     "text": [
      "  % Total    % Received % Xferd  Average Speed   Time    Time     Time  Current\n",
      "                                 Dload  Upload   Total   Spent    Left  Speed\n",
      "100 12372  100 12354  100    18  11481     16  0:00:01  0:00:01 --:--:-- 11508\n"
     ]
    },
    {
     "name": "stdout",
     "output_type": "stream",
     "text": [
      "PDB file generated successfully: /Users/jianchengluo/Desktop/CPPs/cpps_natrual/KALKLKLALALLAKLKLA.pdb\n"
     ]
    },
    {
     "name": "stderr",
     "output_type": "stream",
     "text": [
      "  % Total    % Received % Xferd  Average Speed   Time    Time     Time  Current\n",
      "                                 Dload  Upload   Total   Spent    Left  Speed\n",
      "100  9528  100  9519  100     9   7083      6  0:00:01  0:00:01 --:--:--  7094\n"
     ]
    },
    {
     "name": "stdout",
     "output_type": "stream",
     "text": [
      "PDB file generated successfully: /Users/jianchengluo/Desktop/CPPs/cpps_natrual/RRRRRRRRR.pdb\n"
     ]
    },
    {
     "name": "stderr",
     "output_type": "stream",
     "text": [
      "  % Total    % Received % Xferd  Average Speed   Time    Time     Time  Current\n",
      "                                 Dload  Upload   Total   Spent    Left  Speed\n",
      "100 10500  100 10491  100     9   4439      3  0:00:03  0:00:02  0:00:01  4443\n"
     ]
    },
    {
     "name": "stdout",
     "output_type": "stream",
     "text": [
      "PDB file generated successfully: /Users/jianchengluo/Desktop/CPPs/cpps_natrual/RWRRWWRRW.pdb\n"
     ]
    },
    {
     "name": "stderr",
     "output_type": "stream",
     "text": [
      "  % Total    % Received % Xferd  Average Speed   Time    Time     Time  Current\n",
      "                                 Dload  Upload   Total   Spent    Left  Speed\n",
      "100 17230  100 17214  100    16   6392      5  0:00:03  0:00:02  0:00:01  6400\n"
     ]
    },
    {
     "name": "stdout",
     "output_type": "stream",
     "text": [
      "PDB file generated successfully: /Users/jianchengluo/Desktop/CPPs/cpps_natrual/RRWRRWWRRWWRRWRR.pdb\n"
     ]
    },
    {
     "name": "stderr",
     "output_type": "stream",
     "text": [
      "  % Total    % Received % Xferd  Average Speed   Time    Time     Time  Current\n",
      "                                 Dload  Upload   Total   Spent    Left  Speed\n",
      "100 13342  100 13326  100    16   4628      5  0:00:03  0:00:02  0:00:01  4634\n"
     ]
    },
    {
     "name": "stdout",
     "output_type": "stream",
     "text": [
      "PDB file generated successfully: /Users/jianchengluo/Desktop/CPPs/cpps_natrual/IPLVVPLRRRRRRRRC.pdb\n"
     ]
    },
    {
     "name": "stderr",
     "output_type": "stream",
     "text": [
      "  % Total    % Received % Xferd  Average Speed   Time    Time     Time  Current\n",
      "                                 Dload  Upload   Total   Spent    Left  Speed\n",
      "100  9123  100  9114  100     9   3512      3  0:00:03  0:00:02  0:00:01  3515\n"
     ]
    },
    {
     "name": "stdout",
     "output_type": "stream",
     "text": [
      "PDB file generated successfully: /Users/jianchengluo/Desktop/CPPs/cpps_natrual/RRRRRRRRC.pdb\n"
     ]
    },
    {
     "name": "stderr",
     "output_type": "stream",
     "text": [
      "  % Total    % Received % Xferd  Average Speed   Time    Time     Time  Current\n",
      "                                 Dload  Upload   Total   Spent    Left  Speed\n",
      "100  6206  100  6198  100     8   1490      1  0:00:08  0:00:04  0:00:04  1492\n"
     ]
    },
    {
     "name": "stdout",
     "output_type": "stream",
     "text": [
      "PDB file generated successfully: /Users/jianchengluo/Desktop/CPPs/cpps_natrual/IPLVVPLC.pdb\n"
     ]
    },
    {
     "name": "stderr",
     "output_type": "stream",
     "text": [
      "  % Total    % Received % Xferd  Average Speed   Time    Time     Time  Current\n",
      "                                 Dload  Upload   Total   Spent    Left  Speed\n",
      "100 15856  100 15837  100    19   5681      6  0:00:03  0:00:02  0:00:01  5687\n"
     ]
    },
    {
     "name": "stdout",
     "output_type": "stream",
     "text": [
      "PDB file generated successfully: /Users/jianchengluo/Desktop/CPPs/cpps_natrual/KFLNRFWHWLQLKPGQPMY.pdb\n"
     ]
    },
    {
     "name": "stderr",
     "output_type": "stream",
     "text": [
      "  % Total    % Received % Xferd  Average Speed   Time    Time     Time  Current\n",
      "                                 Dload  Upload   Total   Spent    Left  Speed\n",
      "100 15856  100 15837  100    19  10530     12  0:00:01  0:00:01 --:--:-- 10549\n"
     ]
    },
    {
     "name": "stdout",
     "output_type": "stream",
     "text": [
      "PDB file generated successfully: /Users/jianchengluo/Desktop/CPPs/cpps_natrual/KFLNRFWHWLQLKPGQPMY.pdb\n"
     ]
    },
    {
     "name": "stderr",
     "output_type": "stream",
     "text": [
      "  % Total    % Received % Xferd  Average Speed   Time    Time     Time  Current\n",
      "                                 Dload  Upload   Total   Spent    Left  Speed\n",
      "100 15856  100 15837  100    19  11253     13  0:00:01  0:00:01 --:--:-- 11269\n"
     ]
    },
    {
     "name": "stdout",
     "output_type": "stream",
     "text": [
      "PDB file generated successfully: /Users/jianchengluo/Desktop/CPPs/cpps_natrual/KFLNRFWHWLQLKPGQPMY.pdb\n"
     ]
    },
    {
     "name": "stderr",
     "output_type": "stream",
     "text": [
      "  % Total    % Received % Xferd  Average Speed   Time    Time     Time  Current\n",
      "                                 Dload  Upload   Total   Spent    Left  Speed\n",
      "100 10340  100 10329  100    11   9134      9  0:00:01  0:00:01 --:--:--  9150\n"
     ]
    },
    {
     "name": "stdout",
     "output_type": "stream",
     "text": [
      "PDB file generated successfully: /Users/jianchengluo/Desktop/CPPs/cpps_natrual/YGRKKRRQRRR.pdb\n"
     ]
    },
    {
     "name": "stderr",
     "output_type": "stream",
     "text": [
      "  % Total    % Received % Xferd  Average Speed   Time    Time     Time  Current\n",
      "                                 Dload  Upload   Total   Spent    Left  Speed\n",
      "100 14314  100 14298  100    16   8820      9  0:00:01  0:00:01 --:--:--  8830\n"
     ]
    },
    {
     "name": "stdout",
     "output_type": "stream",
     "text": [
      "PDB file generated successfully: /Users/jianchengluo/Desktop/CPPs/cpps_natrual/RQIKIWFQNRRMKWKK.pdb\n"
     ]
    },
    {
     "name": "stderr",
     "output_type": "stream",
     "text": [
      "  % Total    % Received % Xferd  Average Speed   Time    Time     Time  Current\n",
      "                                 Dload  Upload   Total   Spent    Left  Speed\n",
      "100 22838  100 22803  100    35   7239     11  0:00:03  0:00:03 --:--:--  7252\n"
     ]
    },
    {
     "name": "stdout",
     "output_type": "stream",
     "text": [
      "PDB file generated successfully: /Users/jianchengluo/Desktop/CPPs/cpps_natrual/DAATARGRGRSAASRPTERPRAPARSASRPRRPVD.pdb\n"
     ]
    },
    {
     "name": "stderr",
     "output_type": "stream",
     "text": [
      "  % Total    % Received % Xferd  Average Speed   Time    Time     Time  Current\n",
      "                                 Dload  Upload   Total   Spent    Left  Speed\n",
      "100 14073  100 14055  100    18  10506     13  0:00:01  0:00:01 --:--:-- 10525\n"
     ]
    },
    {
     "name": "stdout",
     "output_type": "stream",
     "text": [
      "PDB file generated successfully: /Users/jianchengluo/Desktop/CPPs/cpps_natrual/LLIILRRRIRKQAHAHSK.pdb\n"
     ]
    },
    {
     "name": "stderr",
     "output_type": "stream",
     "text": [
      "  % Total    % Received % Xferd  Average Speed   Time    Time     Time  Current\n",
      "                                 Dload  Upload   Total   Spent    Left  Speed\n",
      "100 12937  100 12921  100    16   4558      5  0:00:03  0:00:02  0:00:01  4563\n"
     ]
    },
    {
     "name": "stdout",
     "output_type": "stream",
     "text": [
      "PDB file generated successfully: /Users/jianchengluo/Desktop/CPPs/cpps_natrual/GSVSRRRRRRGGRRRR.pdb\n"
     ]
    },
    {
     "name": "stderr",
     "output_type": "stream",
     "text": [
      "  % Total    % Received % Xferd  Average Speed   Time    Time     Time  Current\n",
      "                                 Dload  Upload   Total   Spent    Left  Speed\n",
      "100 16509  100 16485  100    24   4874      7  0:00:03  0:00:03 --:--:--  4881\n"
     ]
    },
    {
     "name": "stdout",
     "output_type": "stream",
     "text": [
      "PDB file generated successfully: /Users/jianchengluo/Desktop/CPPs/cpps_natrual/LGTYTQDFNKFHTFPQTAIGVGAP.pdb\n"
     ]
    },
    {
     "name": "stderr",
     "output_type": "stream",
     "text": [
      "  % Total    % Received % Xferd  Average Speed   Time    Time     Time  Current\n",
      "                                 Dload  Upload   Total   Spent    Left  Speed\n",
      "100 17964  100 17943  100    21   6508      7  0:00:03  0:00:02  0:00:01  6518\n"
     ]
    },
    {
     "name": "stdout",
     "output_type": "stream",
     "text": [
      "PDB file generated successfully: /Users/jianchengluo/Desktop/CPPs/cpps_natrual/KETWWETWWTEWSQPKKKRKV.pdb\n"
     ]
    },
    {
     "name": "stderr",
     "output_type": "stream",
     "text": [
      "  % Total    % Received % Xferd  Average Speed   Time    Time     Time  Current\n",
      "                                 Dload  Upload   Total   Spent    Left  Speed\n",
      "100 15375  100 15351  100    24   5747      8  0:00:03  0:00:02  0:00:01  5756\n"
     ]
    },
    {
     "name": "stdout",
     "output_type": "stream",
     "text": [
      "PDB file generated successfully: /Users/jianchengluo/Desktop/CPPs/cpps_natrual/GALFLGWLGAAGSTMGAPKKKRKV.pdb\n"
     ]
    },
    {
     "name": "stderr",
     "output_type": "stream",
     "text": [
      "  % Total    % Received % Xferd  Average Speed   Time    Time     Time  Current\n",
      "                                 Dload  Upload   Total   Spent    Left  Speed\n",
      "100 15452  100 15432  100    20   2742      3  0:00:06  0:00:05  0:00:01  4274\n"
     ]
    },
    {
     "name": "stdout",
     "output_type": "stream",
     "text": [
      "PDB file generated successfully: /Users/jianchengluo/Desktop/CPPs/cpps_natrual/GLFRALLRLLRSLWRLLLRA.pdb\n"
     ]
    },
    {
     "name": "stderr",
     "output_type": "stream",
     "text": [
      "  % Total    % Received % Xferd  Average Speed   Time    Time     Time  Current\n",
      "                                 Dload  Upload   Total   Spent    Left  Speed\n",
      "100 12204  100 12192  100    12   5277      5  0:00:02  0:00:02 --:--:--  5285\n"
     ]
    },
    {
     "name": "stdout",
     "output_type": "stream",
     "text": [
      "PDB file generated successfully: /Users/jianchengluo/Desktop/CPPs/cpps_natrual/RRRRRRRRRRRR.pdb\n"
     ]
    },
    {
     "name": "stderr",
     "output_type": "stream",
     "text": [
      "  % Total    % Received % Xferd  Average Speed   Time    Time     Time  Current\n",
      "                                 Dload  Upload   Total   Spent    Left  Speed\n",
      "100 17402  100 17376  100    26   6668      9  0:00:02  0:00:02 --:--:--  6677\n"
     ]
    },
    {
     "name": "stdout",
     "output_type": "stream",
     "text": [
      "PDB file generated successfully: /Users/jianchengluo/Desktop/CPPs/cpps_natrual/KKALLALALHHLAHLALHLALALKKA.pdb\n"
     ]
    },
    {
     "name": "stderr",
     "output_type": "stream",
     "text": [
      "  % Total    % Received % Xferd  Average Speed   Time    Time     Time  Current\n",
      "                                 Dload  Upload   Total   Spent    Left  Speed\n",
      "100  9692  100  9681  100    11   4215      4  0:00:02  0:00:02 --:--:--  4221\n"
     ]
    },
    {
     "name": "stdout",
     "output_type": "stream",
     "text": [
      "PDB file generated successfully: /Users/jianchengluo/Desktop/CPPs/cpps_natrual/YARVRRRGPRR.pdb\n"
     ]
    },
    {
     "name": "stderr",
     "output_type": "stream",
     "text": [
      "  % Total    % Received % Xferd  Average Speed   Time    Time     Time  Current\n",
      "                                 Dload  Upload   Total   Spent    Left  Speed\n",
      "100 14801  100 14784  100    17   5752      6  0:00:02  0:00:02 --:--:--  5756\n"
     ]
    },
    {
     "name": "stdout",
     "output_type": "stream",
     "text": [
      "PDB file generated successfully: /Users/jianchengluo/Desktop/CPPs/cpps_natrual/CRQIKIWFQNRRMKWKK.pdb\n"
     ]
    },
    {
     "name": "stderr",
     "output_type": "stream",
     "text": [
      "  % Total    % Received % Xferd  Average Speed   Time    Time     Time  Current\n",
      "                                 Dload  Upload   Total   Spent    Left  Speed\n",
      "100 23401  100 23370  100    31   8689     11  0:00:02  0:00:02 --:--:--  8702\n"
     ]
    },
    {
     "name": "stdout",
     "output_type": "stream",
     "text": [
      "PDB file generated successfully: /Users/jianchengluo/Desktop/CPPs/cpps_natrual/CRQIKIWFQNRRMKWKKKLAKLAKKLAKLAK.pdb\n"
     ]
    },
    {
     "name": "stderr",
     "output_type": "stream",
     "text": [
      "  % Total    % Received % Xferd  Average Speed   Time    Time     Time  Current\n",
      "                                 Dload  Upload   Total   Spent    Left  Speed\n",
      "100 18044  100 18024  100    20   6821      7  0:00:02  0:00:02 --:--:--  6827\n"
     ]
    },
    {
     "name": "stdout",
     "output_type": "stream",
     "text": [
      "PDB file generated successfully: /Users/jianchengluo/Desktop/CPPs/cpps_natrual/CRRLRHLRHHYRRRWHRFRC.pdb\n"
     ]
    },
    {
     "name": "stderr",
     "output_type": "stream",
     "text": [
      "  % Total    % Received % Xferd  Average Speed   Time    Time     Time  Current\n",
      "                                 Dload  Upload   Total   Spent    Left  Speed\n",
      "100 18044  100 18024  100    20   6504      7  0:00:02  0:00:02 --:--:--  6509\n"
     ]
    },
    {
     "name": "stdout",
     "output_type": "stream",
     "text": [
      "PDB file generated successfully: /Users/jianchengluo/Desktop/CPPs/cpps_natrual/CLLYWFRRRHRHHRRRHRRC.pdb\n"
     ]
    },
    {
     "name": "stderr",
     "output_type": "stream",
     "text": [
      "  % Total    % Received % Xferd  Average Speed   Time    Time     Time  Current\n",
      "                                 Dload  Upload   Total   Spent    Left  Speed\n",
      "100 17070  100 17052  100    18   5007      5  0:00:03  0:00:03 --:--:--  5013\n"
     ]
    },
    {
     "name": "stdout",
     "output_type": "stream",
     "text": [
      "PDB file generated successfully: /Users/jianchengluo/Desktop/CPPs/cpps_natrual/RRLRHLRHHYRRRWHRFR.pdb\n"
     ]
    },
    {
     "name": "stderr",
     "output_type": "stream",
     "text": [
      "  % Total    % Received % Xferd  Average Speed   Time    Time     Time  Current\n",
      "                                 Dload  Upload   Total   Spent    Left  Speed\n",
      "100 17070  100 17052  100    18   6521      6  0:00:03  0:00:02  0:00:01  6527\n"
     ]
    },
    {
     "name": "stdout",
     "output_type": "stream",
     "text": [
      "PDB file generated successfully: /Users/jianchengluo/Desktop/CPPs/cpps_natrual/LLYWFRRRHRHHRRRHRR.pdb\n"
     ]
    },
    {
     "name": "stderr",
     "output_type": "stream",
     "text": [
      "  % Total    % Received % Xferd  Average Speed   Time    Time     Time  Current\n",
      "                                 Dload  Upload   Total   Spent    Left  Speed\n",
      "100  8800  100  8790  100    10   3735      4  0:00:02  0:00:02 --:--:--  3741\n"
     ]
    },
    {
     "name": "stdout",
     "output_type": "stream",
     "text": [
      "PDB file generated successfully: /Users/jianchengluo/Desktop/CPPs/cpps_natrual/RKKNPNCRRH.pdb\n"
     ]
    },
    {
     "name": "stderr",
     "output_type": "stream",
     "text": [
      "  % Total    % Received % Xferd  Average Speed   Time    Time     Time  Current\n",
      "                                 Dload  Upload   Total   Spent    Left  Speed\n",
      "100 12206  100 12192  100    14   5104      5  0:00:02  0:00:02 --:--:--  5109\n"
     ]
    },
    {
     "name": "stdout",
     "output_type": "stream",
     "text": [
      "PDB file generated successfully: /Users/jianchengluo/Desktop/CPPs/cpps_natrual/GRKKRRQRRRPPQY.pdb\n"
     ]
    },
    {
     "name": "stderr",
     "output_type": "stream",
     "text": [
      "  % Total    % Received % Xferd  Average Speed   Time    Time     Time  Current\n",
      "                                 Dload  Upload   Total   Spent    Left  Speed\n",
      "100  9528  100  9519  100     9   8351      7  0:00:01  0:00:01 --:--:--  8365\n"
     ]
    },
    {
     "name": "stdout",
     "output_type": "stream",
     "text": [
      "PDB file generated successfully: /Users/jianchengluo/Desktop/CPPs/cpps_natrual/RRRRRRRRR.pdb\n"
     ]
    },
    {
     "name": "stderr",
     "output_type": "stream",
     "text": [
      "  % Total    % Received % Xferd  Average Speed   Time    Time     Time  Current\n",
      "                                 Dload  Upload   Total   Spent    Left  Speed\n",
      "100  9042  100  9033  100     9   3786      3  0:00:03  0:00:02  0:00:01  3791\n"
     ]
    },
    {
     "name": "stdout",
     "output_type": "stream",
     "text": [
      "PDB file generated successfully: /Users/jianchengluo/Desktop/CPPs/cpps_natrual/RKKRRQRRR.pdb\n"
     ]
    },
    {
     "name": "stderr",
     "output_type": "stream",
     "text": [
      "  % Total    % Received % Xferd  Average Speed   Time    Time     Time  Current\n",
      "                                 Dload  Upload   Total   Spent    Left  Speed\n",
      "100 14314  100 14298  100    16  11023     12  0:00:01  0:00:01 --:--:-- 11036\n"
     ]
    },
    {
     "name": "stdout",
     "output_type": "stream",
     "text": [
      "PDB file generated successfully: /Users/jianchengluo/Desktop/CPPs/cpps_natrual/RQIKIWFQNRRMKWKK.pdb\n"
     ]
    },
    {
     "name": "stderr",
     "output_type": "stream",
     "text": [
      "  % Total    % Received % Xferd  Average Speed   Time    Time     Time  Current\n",
      "                                 Dload  Upload   Total   Spent    Left  Speed\n",
      "100 18372  100 18348  100    24   4403      5  0:00:04  0:00:04 --:--:--  4409\n"
     ]
    },
    {
     "name": "stdout",
     "output_type": "stream",
     "text": [
      "PDB file generated successfully: /Users/jianchengluo/Desktop/CPPs/cpps_natrual/RRIRPRPPRLPRPRPRPLPFPRPG.pdb\n"
     ]
    },
    {
     "name": "stderr",
     "output_type": "stream",
     "text": [
      "  % Total    % Received % Xferd  Average Speed   Time    Time     Time  Current\n",
      "                                 Dload  Upload   Total   Spent    Left  Speed\n",
      "100 18372  100 18348  100    24  14146     18  0:00:01  0:00:01 --:--:-- 14175\n"
     ]
    },
    {
     "name": "stdout",
     "output_type": "stream",
     "text": [
      "PDB file generated successfully: /Users/jianchengluo/Desktop/CPPs/cpps_natrual/RRIRPRPPRLPRPRPRPLPFPRPG.pdb\n"
     ]
    },
    {
     "name": "stderr",
     "output_type": "stream",
     "text": [
      "  % Total    % Received % Xferd  Average Speed   Time    Time     Time  Current\n",
      "                                 Dload  Upload   Total   Spent    Left  Speed\n",
      "100 18372  100 18348  100    24  13959     18  0:00:01  0:00:01 --:--:-- 13971\n"
     ]
    },
    {
     "name": "stdout",
     "output_type": "stream",
     "text": [
      "PDB file generated successfully: /Users/jianchengluo/Desktop/CPPs/cpps_natrual/RRIRPRPPRLPRPRPRPLPFPRPG.pdb\n"
     ]
    },
    {
     "name": "stderr",
     "output_type": "stream",
     "text": [
      "  % Total    % Received % Xferd  Average Speed   Time    Time     Time  Current\n",
      "                                 Dload  Upload   Total   Spent    Left  Speed\n",
      "100 11154  100 11139  100    15   4673      6  0:00:02  0:00:02 --:--:--  4680\n"
     ]
    },
    {
     "name": "stdout",
     "output_type": "stream",
     "text": [
      "PDB file generated successfully: /Users/jianchengluo/Desktop/CPPs/cpps_natrual/ISFDELLDYYGESGS.pdb\n"
     ]
    },
    {
     "name": "stderr",
     "output_type": "stream",
     "text": [
      "  % Total    % Received % Xferd  Average Speed   Time    Time     Time  Current\n",
      "                                 Dload  Upload   Total   Spent    Left  Speed\n",
      "100   182  100   161  100    21    155     20  0:00:01  0:00:01 --:--:--   176\n"
     ]
    },
    {
     "name": "stdout",
     "output_type": "stream",
     "text": [
      "PDB file generated successfully: /Users/jianchengluo/Desktop/CPPs/cpps_natrual/ISF-R8-ELLDYY-S5-ESGS.pdb\n"
     ]
    },
    {
     "name": "stderr",
     "output_type": "stream",
     "text": [
      "  % Total    % Received % Xferd  Average Speed   Time    Time     Time  Current\n",
      "                                 Dload  Upload   Total   Spent    Left  Speed\n",
      "100   180  100   161  100    19    158     18  0:00:01  0:00:01 --:--:--   176\n"
     ]
    },
    {
     "name": "stdout",
     "output_type": "stream",
     "text": [
      "PDB file generated successfully: /Users/jianchengluo/Desktop/CPPs/cpps_natrual/ISF-R8-ELLDYY-S5-ED.pdb\n"
     ]
    },
    {
     "name": "stderr",
     "output_type": "stream",
     "text": [
      "  % Total    % Received % Xferd  Average Speed   Time    Time     Time  Current\n",
      "                                 Dload  Upload   Total   Spent    Left  Speed\n",
      "100   181  100   161  100    20    147     18  0:00:01  0:00:01 --:--:--   166\n"
     ]
    },
    {
     "name": "stdout",
     "output_type": "stream",
     "text": [
      "PDB file generated successfully: /Users/jianchengluo/Desktop/CPPs/cpps_natrual/ISF-R8-EWLQAY-S5-EDE.pdb\n"
     ]
    },
    {
     "name": "stderr",
     "output_type": "stream",
     "text": [
      "  % Total    % Received % Xferd  Average Speed   Time    Time     Time  Current\n",
      "                                 Dload  Upload   Total   Spent    Left  Speed\n",
      "100   214  100   161  100    53    157     51  0:00:01  0:00:01 --:--:--   208\n"
     ]
    },
    {
     "name": "stdout",
     "output_type": "stream",
     "text": [
      "PDB file generated successfully: /Users/jianchengluo/Desktop/CPPs/cpps_natrual/PKKKRKV-AGYLLGKINLKALAALAKKIL-PQMQQNVFQYPGAGMVPQGEANF.pdb\n"
     ]
    },
    {
     "name": "stderr",
     "output_type": "stream",
     "text": [
      "  % Total    % Received % Xferd  Average Speed   Time    Time     Time  Current\n",
      "                                 Dload  Upload   Total   Spent    Left  Speed\n",
      "100   195  100   161  100    34    119     25  0:00:01  0:00:01 --:--:--   145\n"
     ]
    },
    {
     "name": "stdout",
     "output_type": "stream",
     "text": [
      "PDB file generated successfully: /Users/jianchengluo/Desktop/CPPs/cpps_natrual/PKKKRKV-RRRRRRR-YSQTSHKLVQLLTTAEQQ.pdb\n"
     ]
    },
    {
     "name": "stderr",
     "output_type": "stream",
     "text": [
      "  % Total    % Received % Xferd  Average Speed   Time    Time     Time  Current\n",
      "                                 Dload  Upload   Total   Spent    Left  Speed\n",
      "100   214  100   161  100    53    149     49  0:00:01  0:00:01 --:--:--   199\n"
     ]
    },
    {
     "name": "stdout",
     "output_type": "stream",
     "text": [
      "PDB file generated successfully: /Users/jianchengluo/Desktop/CPPs/cpps_natrual/PKKKRKV-AGYLLGKINLKALAALAKKIL-PQMQQNVFQYPGAGMVPQGEANF.pdb\n"
     ]
    },
    {
     "name": "stderr",
     "output_type": "stream",
     "text": [
      "  % Total    % Received % Xferd  Average Speed   Time    Time     Time  Current\n",
      "                                 Dload  Upload   Total   Spent    Left  Speed\n",
      "100   200  100   161  100    39    156     37  0:00:01  0:00:01 --:--:--   194\n"
     ]
    },
    {
     "name": "stdout",
     "output_type": "stream",
     "text": [
      "PDB file generated successfully: /Users/jianchengluo/Desktop/CPPs/cpps_natrual/PKKKRKV-RRRRRRR-PQMQQNVFQYPGAGMVPQGEANF.pdb\n"
     ]
    },
    {
     "name": "stderr",
     "output_type": "stream",
     "text": [
      "  % Total    % Received % Xferd  Average Speed   Time    Time     Time  Current\n",
      "                                 Dload  Upload   Total   Spent    Left  Speed\n",
      "100  5638  100  5631  100     7   2422      3  0:00:02  0:00:02 --:--:--  2425\n"
     ]
    },
    {
     "name": "stdout",
     "output_type": "stream",
     "text": [
      "PDB file generated successfully: /Users/jianchengluo/Desktop/CPPs/cpps_natrual/LCLRPVG.pdb\n"
     ]
    },
    {
     "name": "stderr",
     "output_type": "stream",
     "text": [
      "  % Total    % Received % Xferd  Average Speed   Time    Time     Time  Current\n",
      "                                 Dload  Upload   Total   Spent    Left  Speed\n",
      "100  4745  100  4740  100     5   2099      2  0:00:02  0:00:02 --:--:--  2102\n"
     ]
    },
    {
     "name": "stdout",
     "output_type": "stream",
     "text": [
      "PDB file generated successfully: /Users/jianchengluo/Desktop/CPPs/cpps_natrual/LCLRP.pdb\n"
     ]
    },
    {
     "name": "stderr",
     "output_type": "stream",
     "text": [
      "  % Total    % Received % Xferd  Average Speed   Time    Time     Time  Current\n",
      "                                 Dload  Upload   Total   Spent    Left  Speed\n",
      "100  4177  100  4173  100     4   1331      1  0:00:04  0:00:03  0:00:01  1332\n"
     ]
    },
    {
     "name": "stdout",
     "output_type": "stream",
     "text": [
      "PDB file generated successfully: /Users/jianchengluo/Desktop/CPPs/cpps_natrual/LCLR.pdb\n"
     ]
    },
    {
     "name": "stderr",
     "output_type": "stream",
     "text": [
      "  % Total    % Received % Xferd  Average Speed   Time    Time     Time  Current\n",
      "                                 Dload  Upload   Total   Spent    Left  Speed\n",
      "100  3690  100  3687  100     3   3434      2  0:00:01  0:00:01 --:--:--  3438\n"
     ]
    },
    {
     "name": "stdout",
     "output_type": "stream",
     "text": [
      "PDB file generated successfully: /Users/jianchengluo/Desktop/CPPs/cpps_natrual/LLR.pdb\n"
     ]
    },
    {
     "name": "stderr",
     "output_type": "stream",
     "text": [
      "  % Total    % Received % Xferd  Average Speed   Time    Time     Time  Current\n",
      "                                 Dload  Upload   Total   Spent    Left  Speed\n",
      "100  4339  100  4335  100     4   1891      1  0:00:04  0:00:02  0:00:02  1893\n"
     ]
    },
    {
     "name": "stdout",
     "output_type": "stream",
     "text": [
      "PDB file generated successfully: /Users/jianchengluo/Desktop/CPPs/cpps_natrual/LLLR.pdb\n"
     ]
    },
    {
     "name": "stderr",
     "output_type": "stream",
     "text": [
      "  % Total    % Received % Xferd  Average Speed   Time    Time     Time  Current\n",
      "                                 Dload  Upload   Total   Spent    Left  Speed\n",
      "100  4988  100  4983  100     5   2168      2  0:00:02  0:00:02 --:--:--  2171\n"
     ]
    },
    {
     "name": "stdout",
     "output_type": "stream",
     "text": [
      "PDB file generated successfully: /Users/jianchengluo/Desktop/CPPs/cpps_natrual/LLLLR.pdb\n"
     ]
    },
    {
     "name": "stderr",
     "output_type": "stream",
     "text": [
      "  % Total    % Received % Xferd  Average Speed   Time    Time     Time  Current\n",
      "                                 Dload  Upload   Total   Spent    Left  Speed\n",
      "100  5231  100  5226  100     5   2260      2  0:00:02  0:00:02 --:--:--  2262\n"
     ]
    },
    {
     "name": "stdout",
     "output_type": "stream",
     "text": [
      "PDB file generated successfully: /Users/jianchengluo/Desktop/CPPs/cpps_natrual/LLLRR.pdb\n"
     ]
    },
    {
     "name": "stderr",
     "output_type": "stream",
     "text": [
      "  % Total    % Received % Xferd  Average Speed   Time    Time     Time  Current\n",
      "                                 Dload  Upload   Total   Spent    Left  Speed\n",
      "100  4339  100  4335  100     4   1257      1  0:00:04  0:00:03  0:00:01  1259\n"
     ]
    },
    {
     "name": "stdout",
     "output_type": "stream",
     "text": [
      "PDB file generated successfully: /Users/jianchengluo/Desktop/CPPs/cpps_natrual/IIIR.pdb\n"
     ]
    },
    {
     "name": "stderr",
     "output_type": "stream",
     "text": [
      "  % Total    % Received % Xferd  Average Speed   Time    Time     Time  Current\n",
      "                                 Dload  Upload   Total   Spent    Left  Speed\n",
      "100  4096  100  4092  100     4   1762      1  0:00:04  0:00:02  0:00:02  1763\n"
     ]
    },
    {
     "name": "stdout",
     "output_type": "stream",
     "text": [
      "PDB file generated successfully: /Users/jianchengluo/Desktop/CPPs/cpps_natrual/VVVR.pdb\n"
     ]
    },
    {
     "name": "stderr",
     "output_type": "stream",
     "text": [
      "  % Total    % Received % Xferd  Average Speed   Time    Time     Time  Current\n",
      "                                 Dload  Upload   Total   Spent    Left  Speed\n",
      "100  4015  100  4011  100     4   1631      1  0:00:04  0:00:02  0:00:02  1632\n"
     ]
    },
    {
     "name": "stdout",
     "output_type": "stream",
     "text": [
      "PDB file generated successfully: /Users/jianchengluo/Desktop/CPPs/cpps_natrual/LCLK.pdb\n"
     ]
    },
    {
     "name": "stderr",
     "output_type": "stream",
     "text": [
      "  % Total    % Received % Xferd  Average Speed   Time    Time     Time  Current\n",
      "                                 Dload  Upload   Total   Spent    Left  Speed\n",
      "100  4096  100  4092  100     4   1577      1  0:00:04  0:00:02  0:00:02  1578\n"
     ]
    },
    {
     "name": "stdout",
     "output_type": "stream",
     "text": [
      "PDB file generated successfully: /Users/jianchengluo/Desktop/CPPs/cpps_natrual/LCLH.pdb\n"
     ]
    },
    {
     "name": "stderr",
     "output_type": "stream",
     "text": [
      "  % Total    % Received % Xferd  Average Speed   Time    Time     Time  Current\n",
      "                                 Dload  Upload   Total   Spent    Left  Speed\n",
      "100  4015  100  4011  100     4   1346      1  0:00:04  0:00:02  0:00:02  1347\n"
     ]
    },
    {
     "name": "stdout",
     "output_type": "stream",
     "text": [
      "PDB file generated successfully: /Users/jianchengluo/Desktop/CPPs/cpps_natrual/LCLE.pdb\n"
     ]
    },
    {
     "name": "stderr",
     "output_type": "stream",
     "text": [
      "  % Total    % Received % Xferd  Average Speed   Time    Time     Time  Current\n",
      "                                 Dload  Upload   Total   Spent    Left  Speed\n",
      "100  3934  100  3930  100     4   1572      1  0:00:04  0:00:02  0:00:02  1574\n"
     ]
    },
    {
     "name": "stdout",
     "output_type": "stream",
     "text": [
      "PDB file generated successfully: /Users/jianchengluo/Desktop/CPPs/cpps_natrual/LCLN.pdb\n"
     ]
    },
    {
     "name": "stderr",
     "output_type": "stream",
     "text": [
      "  % Total    % Received % Xferd  Average Speed   Time    Time     Time  Current\n",
      "                                 Dload  Upload   Total   Spent    Left  Speed\n",
      "100  4015  100  4011  100     4   1737      1  0:00:04  0:00:02  0:00:02  1738\n"
     ]
    },
    {
     "name": "stdout",
     "output_type": "stream",
     "text": [
      "PDB file generated successfully: /Users/jianchengluo/Desktop/CPPs/cpps_natrual/LCLQ.pdb\n"
     ]
    },
    {
     "name": "stderr",
     "output_type": "stream",
     "text": [
      "  % Total    % Received % Xferd  Average Speed   Time    Time     Time  Current\n",
      "                                 Dload  Upload   Total   Spent    Left  Speed\n",
      "100 13914  100 13893  100    21  10857     16  0:00:01  0:00:01 --:--:-- 10878\n"
     ]
    },
    {
     "name": "stdout",
     "output_type": "stream",
     "text": [
      "PDB file generated successfully: /Users/jianchengluo/Desktop/CPPs/cpps_natrual/AGYLLGKINLKALAALAKKIL.pdb\n"
     ]
    },
    {
     "name": "stderr",
     "output_type": "stream",
     "text": [
      "  % Total    % Received % Xferd  Average Speed   Time    Time     Time  Current\n",
      "                                 Dload  Upload   Total   Spent    Left  Speed\n",
      "100 18047  100 18024  100    23   6940      8  0:00:02  0:00:02 --:--:--  6951\n"
     ]
    },
    {
     "name": "stdout",
     "output_type": "stream",
     "text": [
      "PDB file generated successfully: /Users/jianchengluo/Desktop/CPPs/cpps_natrual/EEEEEEEEPLGLAGRRRRRRRRN.pdb\n"
     ]
    },
    {
     "name": "stderr",
     "output_type": "stream",
     "text": [
      "  % Total    % Received % Xferd  Average Speed   Time    Time     Time  Current\n",
      "                                 Dload  Upload   Total   Spent    Left  Speed\n",
      "100 10340  100 10329  100    11   9815     10  0:00:01  0:00:01 --:--:--  9828\n"
     ]
    },
    {
     "name": "stdout",
     "output_type": "stream",
     "text": [
      "PDB file generated successfully: /Users/jianchengluo/Desktop/CPPs/cpps_natrual/YGRKKRRQRRR.pdb\n"
     ]
    },
    {
     "name": "stderr",
     "output_type": "stream",
     "text": [
      "  % Total    % Received % Xferd  Average Speed   Time    Time     Time  Current\n",
      "                                 Dload  Upload   Total   Spent    Left  Speed\n",
      "100  8636  100  8628  100     8   8165      7  0:00:01  0:00:01 --:--:--  8178\n"
     ]
    },
    {
     "name": "stdout",
     "output_type": "stream",
     "text": [
      "PDB file generated successfully: /Users/jianchengluo/Desktop/CPPs/cpps_natrual/RRRRRRRR.pdb\n"
     ]
    },
    {
     "name": "stderr",
     "output_type": "stream",
     "text": [
      "  % Total    % Received % Xferd  Average Speed   Time    Time     Time  Current\n",
      "                                 Dload  Upload   Total   Spent    Left  Speed\n",
      "100  8636  100  8628  100     8   8296      7  0:00:01  0:00:01 --:--:--  8311\n"
     ]
    },
    {
     "name": "stdout",
     "output_type": "stream",
     "text": [
      "PDB file generated successfully: /Users/jianchengluo/Desktop/CPPs/cpps_natrual/RRRRRRRR.pdb\n"
     ]
    },
    {
     "name": "stderr",
     "output_type": "stream",
     "text": [
      "  % Total    % Received % Xferd  Average Speed   Time    Time     Time  Current\n",
      "                                 Dload  Upload   Total   Spent    Left  Speed\n",
      "100 14314  100 14298  100    16  10998     12  0:00:01  0:00:01 --:--:-- 11019\n"
     ]
    },
    {
     "name": "stdout",
     "output_type": "stream",
     "text": [
      "PDB file generated successfully: /Users/jianchengluo/Desktop/CPPs/cpps_natrual/RQIKIWFQNRRMKWKK.pdb\n"
     ]
    },
    {
     "name": "stderr",
     "output_type": "stream",
     "text": [
      "  % Total    % Received % Xferd  Average Speed   Time    Time     Time  Current\n",
      "                                 Dload  Upload   Total   Spent    Left  Speed\n",
      "100 14314  100 14298  100    16  11109     12  0:00:01  0:00:01 --:--:-- 11130\n"
     ]
    },
    {
     "name": "stdout",
     "output_type": "stream",
     "text": [
      "PDB file generated successfully: /Users/jianchengluo/Desktop/CPPs/cpps_natrual/RQIKIWFQNRRMKWKK.pdb\n"
     ]
    },
    {
     "name": "stderr",
     "output_type": "stream",
     "text": [
      "  % Total    % Received % Xferd  Average Speed   Time    Time     Time  Current\n",
      "                                 Dload  Upload   Total   Spent    Left  Speed\n",
      "100 13914  100 13893  100    21  11067     16  0:00:01  0:00:01 --:--:-- 11078\n"
     ]
    },
    {
     "name": "stdout",
     "output_type": "stream",
     "text": [
      "PDB file generated successfully: /Users/jianchengluo/Desktop/CPPs/cpps_natrual/AGYLLGKINLKALAALAKKIL.pdb\n"
     ]
    },
    {
     "name": "stderr",
     "output_type": "stream",
     "text": [
      "  % Total    % Received % Xferd  Average Speed   Time    Time     Time  Current\n",
      "                                 Dload  Upload   Total   Spent    Left  Speed\n",
      "100 13914  100 13893  100    21  10595     16  0:00:01  0:00:01 --:--:-- 10613\n"
     ]
    },
    {
     "name": "stdout",
     "output_type": "stream",
     "text": [
      "PDB file generated successfully: /Users/jianchengluo/Desktop/CPPs/cpps_natrual/AGYLLGKINLKALAALAKKIL.pdb\n"
     ]
    },
    {
     "name": "stderr",
     "output_type": "stream",
     "text": [
      "  % Total    % Received % Xferd  Average Speed   Time    Time     Time  Current\n",
      "                                 Dload  Upload   Total   Spent    Left  Speed\n",
      "100   166  100   161  100     5    153      4  0:00:01  0:00:01 --:--:--   158\n"
     ]
    },
    {
     "name": "stdout",
     "output_type": "stream",
     "text": [
      "PDB file generated successfully: /Users/jianchengluo/Desktop/CPPs/cpps_natrual/RGDfK.pdb\n"
     ]
    },
    {
     "name": "stderr",
     "output_type": "stream",
     "text": [
      "  % Total    % Received % Xferd  Average Speed   Time    Time     Time  Current\n",
      "                                 Dload  Upload   Total   Spent    Left  Speed\n",
      "100 32004  100 31956  100    48  10999     16  0:00:03  0:00:02  0:00:01 11013\n"
     ]
    },
    {
     "name": "stdout",
     "output_type": "stream",
     "text": [
      "PDB file generated successfully: /Users/jianchengluo/Desktop/CPPs/cpps_natrual/YGRKKRRQRRRDPYHATSGALSPAKDCGSQKYAYFNGCSSPTLSPMSP.pdb\n"
     ]
    },
    {
     "name": "stderr",
     "output_type": "stream",
     "text": [
      "  % Total    % Received % Xferd  Average Speed   Time    Time     Time  Current\n",
      "                                 Dload  Upload   Total   Spent    Left  Speed\n",
      "100 20564  100 20535  100    29   7728     10  0:00:02  0:00:02 --:--:--  7739\n"
     ]
    },
    {
     "name": "stdout",
     "output_type": "stream",
     "text": [
      "PDB file generated successfully: /Users/jianchengluo/Desktop/CPPs/cpps_natrual/YGRKKRRQRRRAYFNGCSSPTAPLSPMSP.pdb\n"
     ]
    },
    {
     "name": "stderr",
     "output_type": "stream",
     "text": [
      "  % Total    % Received % Xferd  Average Speed   Time    Time     Time  Current\n",
      "                                 Dload  Upload   Total   Spent    Left  Speed\n",
      "100 19264  100 19239  100    25   7502      9  0:00:02  0:00:02 --:--:--  7513\n"
     ]
    },
    {
     "name": "stdout",
     "output_type": "stream",
     "text": [
      "PDB file generated successfully: /Users/jianchengluo/Desktop/CPPs/cpps_natrual/YGRKKRRQRRRQRRRPTAPLSPMSP.pdb\n"
     ]
    },
    {
     "name": "stderr",
     "output_type": "stream",
     "text": [
      "  % Total    % Received % Xferd  Average Speed   Time    Time     Time  Current\n",
      "                                 Dload  Upload   Total   Spent    Left  Speed\n",
      "100 21942  100 21912  100    30   5535      7  0:00:04  0:00:03  0:00:01  5542\n"
     ]
    },
    {
     "name": "stdout",
     "output_type": "stream",
     "text": [
      "PDB file generated successfully: /Users/jianchengluo/Desktop/CPPs/cpps_natrual/CGGKDCERRFSRSDQLKRHQRRHTGVKPFQ.pdb\n"
     ]
    },
    {
     "name": "stderr",
     "output_type": "stream",
     "text": [
      "  % Total    % Received % Xferd  Average Speed   Time    Time     Time  Current\n",
      "                                 Dload  Upload   Total   Spent    Left  Speed\n",
      "100 21535  100 21507  100    28   6680      8  0:00:03  0:00:03 --:--:--  6689\n"
     ]
    },
    {
     "name": "stdout",
     "output_type": "stream",
     "text": [
      "PDB file generated successfully: /Users/jianchengluo/Desktop/CPPs/cpps_natrual/KDCERRFSRSDQLKRHQRRHTGVKPFQK.pdb\n"
     ]
    },
    {
     "name": "stderr",
     "output_type": "stream",
     "text": [
      "  % Total    % Received % Xferd  Average Speed   Time    Time     Time  Current\n",
      "                                 Dload  Upload   Total   Spent    Left  Speed\n",
      "100 12125  100 12111  100    14  11103     12  0:00:01  0:00:01 --:--:-- 11113\n"
     ]
    },
    {
     "name": "stdout",
     "output_type": "stream",
     "text": [
      "PDB file generated successfully: /Users/jianchengluo/Desktop/CPPs/cpps_natrual/VSRRRRRRGGRRRR.pdb\n"
     ]
    },
    {
     "name": "stderr",
     "output_type": "stream",
     "text": [
      "  % Total    % Received % Xferd  Average Speed   Time    Time     Time  Current\n",
      "                                 Dload  Upload   Total   Spent    Left  Speed\n",
      "100  7744  100  7737  100     7   7400      6  0:00:01  0:00:01 --:--:--  7410\n"
     ]
    },
    {
     "name": "stdout",
     "output_type": "stream",
     "text": [
      "PDB file generated successfully: /Users/jianchengluo/Desktop/CPPs/cpps_natrual/RRRRRRR.pdb\n"
     ]
    },
    {
     "name": "stderr",
     "output_type": "stream",
     "text": [
      "  % Total    % Received % Xferd  Average Speed   Time    Time     Time  Current\n",
      "                                 Dload  Upload   Total   Spent    Left  Speed\n",
      "100 13424  100 13407  100    17   5741      7  0:00:02  0:00:02 --:--:--  5751\n"
     ]
    },
    {
     "name": "stdout",
     "output_type": "stream",
     "text": [
      "PDB file generated successfully: /Users/jianchengluo/Desktop/CPPs/cpps_natrual/GGGGRRRRRRRRRLLLL.pdb\n"
     ]
    },
    {
     "name": "stderr",
     "output_type": "stream",
     "text": [
      "  % Total    % Received % Xferd  Average Speed   Time    Time     Time  Current\n",
      "                                 Dload  Upload   Total   Spent    Left  Speed\n",
      "100 13586  100 13569  100    17   3075      3  0:00:05  0:00:04  0:00:01  3080\n"
     ]
    },
    {
     "name": "stdout",
     "output_type": "stream",
     "text": [
      "PDB file generated successfully: /Users/jianchengluo/Desktop/CPPs/cpps_natrual/CGGGRRRRRRRRRLLLL.pdb\n"
     ]
    },
    {
     "name": "stderr",
     "output_type": "stream",
     "text": [
      "  % Total    % Received % Xferd  Average Speed   Time    Time     Time  Current\n",
      "                                 Dload  Upload   Total   Spent    Left  Speed\n",
      "100 14482  100 14460  100    22   5539      8  0:00:02  0:00:02 --:--:--  5548\n"
     ]
    },
    {
     "name": "stdout",
     "output_type": "stream",
     "text": [
      "PDB file generated successfully: /Users/jianchengluo/Desktop/CPPs/cpps_natrual/YARAAARQARAKALARQLGVAA.pdb\n"
     ]
    },
    {
     "name": "stderr",
     "output_type": "stream",
     "text": [
      "  % Total    % Received % Xferd  Average Speed   Time    Time     Time  Current\n",
      "                                 Dload  Upload   Total   Spent    Left  Speed\n",
      "100 10340  100 10329  100    11   9677     10  0:00:01  0:00:01 --:--:--  9690\n"
     ]
    },
    {
     "name": "stdout",
     "output_type": "stream",
     "text": [
      "PDB file generated successfully: /Users/jianchengluo/Desktop/CPPs/cpps_natrual/YGRKKRRQRRR.pdb\n"
     ]
    },
    {
     "name": "stderr",
     "output_type": "stream",
     "text": [
      "  % Total    % Received % Xferd  Average Speed   Time    Time     Time  Current\n",
      "                                 Dload  Upload   Total   Spent    Left  Speed\n",
      "100 14314  100 14298  100    16  11054     12  0:00:01  0:00:01 --:--:-- 11061\n"
     ]
    },
    {
     "name": "stdout",
     "output_type": "stream",
     "text": [
      "PDB file generated successfully: /Users/jianchengluo/Desktop/CPPs/cpps_natrual/RQIKIWFQNRRMKWKK.pdb\n"
     ]
    },
    {
     "name": "stderr",
     "output_type": "stream",
     "text": [
      "  % Total    % Received % Xferd  Average Speed   Time    Time     Time  Current\n",
      "                                 Dload  Upload   Total   Spent    Left  Speed\n",
      "100 17964  100 17943  100    21   7983      9  0:00:02  0:00:02 --:--:--  7994\n"
     ]
    },
    {
     "name": "stdout",
     "output_type": "stream",
     "text": [
      "PDB file generated successfully: /Users/jianchengluo/Desktop/CPPs/cpps_natrual/KETWWETWWTEWSQPKKKRKV.pdb\n"
     ]
    },
    {
     "name": "stderr",
     "output_type": "stream",
     "text": [
      "  % Total    % Received % Xferd  Average Speed   Time    Time     Time  Current\n",
      "                                 Dload  Upload   Total   Spent    Left  Speed\n",
      "100 10747  100 10734  100    13   4587      5  0:00:02  0:00:02 --:--:--  4594\n"
     ]
    },
    {
     "name": "stdout",
     "output_type": "stream",
     "text": [
      "PDB file generated successfully: /Users/jianchengluo/Desktop/CPPs/cpps_natrual/RIMRILRILKLAR.pdb\n"
     ]
    },
    {
     "name": "stderr",
     "output_type": "stream",
     "text": [
      "  % Total    % Received % Xferd  Average Speed   Time    Time     Time  Current\n",
      "                                 Dload  Upload   Total   Spent    Left  Speed\n",
      "100  9528  100  9519  100     9   9047      8  0:00:01  0:00:01 --:--:--  9057\n"
     ]
    },
    {
     "name": "stdout",
     "output_type": "stream",
     "text": [
      "PDB file generated successfully: /Users/jianchengluo/Desktop/CPPs/cpps_natrual/RRRRRRRRR.pdb\n"
     ]
    },
    {
     "name": "stderr",
     "output_type": "stream",
     "text": [
      "  % Total    % Received % Xferd  Average Speed   Time    Time     Time  Current\n",
      "                                 Dload  Upload   Total   Spent    Left  Speed\n",
      "100 10340  100 10329  100    11   9782     10  0:00:01  0:00:01 --:--:--  9800\n"
     ]
    },
    {
     "name": "stdout",
     "output_type": "stream",
     "text": [
      "PDB file generated successfully: /Users/jianchengluo/Desktop/CPPs/cpps_natrual/YGRKKRRQRRR.pdb\n"
     ]
    },
    {
     "name": "stderr",
     "output_type": "stream",
     "text": [
      "  % Total    % Received % Xferd  Average Speed   Time    Time     Time  Current\n",
      "                                 Dload  Upload   Total   Spent    Left  Speed\n",
      "100  8799  100  8790  100     9   3757      3  0:00:03  0:00:02  0:00:01  3760\n"
     ]
    },
    {
     "name": "stdout",
     "output_type": "stream",
     "text": [
      "PDB file generated successfully: /Users/jianchengluo/Desktop/CPPs/cpps_natrual/RRLLRRLRR.pdb\n"
     ]
    },
    {
     "name": "stderr",
     "output_type": "stream",
     "text": [
      "  % Total    % Received % Xferd  Average Speed   Time    Time     Time  Current\n",
      "                                 Dload  Upload   Total   Spent    Left  Speed\n",
      "100 14314  100 14298  100    16   5097      5  0:00:03  0:00:02  0:00:01  5103\n"
     ]
    },
    {
     "name": "stdout",
     "output_type": "stream",
     "text": [
      "PDB file generated successfully: /Users/jianchengluo/Desktop/CPPs/cpps_natrual/RQIKIWFQNRRMKWKK.pdb\n"
     ]
    },
    {
     "name": "stderr",
     "output_type": "stream",
     "text": [
      "  % Total    % Received % Xferd  Average Speed   Time    Time     Time  Current\n",
      "                                 Dload  Upload   Total   Spent    Left  Speed\n",
      "100 10257  100 10248  100     9   3947      3  0:00:03  0:00:02  0:00:01  3951\n"
     ]
    },
    {
     "name": "stdout",
     "output_type": "stream",
     "text": [
      "PDB file generated successfully: /Users/jianchengluo/Desktop/CPPs/cpps_natrual/RRWWRRWRR.pdb\n"
     ]
    },
    {
     "name": "stderr",
     "output_type": "stream",
     "text": [
      "  % Total    % Received % Xferd  Average Speed   Time    Time     Time  Current\n",
      "                                 Dload  Upload   Total   Spent    Left  Speed\n",
      "100 10017  100 10005  100    12   4349      5  0:00:02  0:00:02 --:--:--  4355\n"
     ]
    },
    {
     "name": "stdout",
     "output_type": "stream",
     "text": [
      "PDB file generated successfully: /Users/jianchengluo/Desktop/CPPs/cpps_natrual/RKKRRQRRRGGG.pdb\n"
     ]
    },
    {
     "name": "stderr",
     "output_type": "stream",
     "text": [
      "  % Total    % Received % Xferd  Average Speed   Time    Time     Time  Current\n",
      "                                 Dload  Upload   Total   Spent    Left  Speed\n",
      "100 20157  100 20130  100    27   7576     10  0:00:02  0:00:02 --:--:--  7589\n"
     ]
    },
    {
     "name": "stdout",
     "output_type": "stream",
     "text": [
      "PDB file generated successfully: /Users/jianchengluo/Desktop/CPPs/cpps_natrual/RKKRRQRRRGGGKLLKLLLKLLLKLLK.pdb\n"
     ]
    },
    {
     "name": "stderr",
     "output_type": "stream",
     "text": [
      "  % Total    % Received % Xferd  Average Speed   Time    Time     Time  Current\n",
      "                                 Dload  Upload   Total   Spent    Left  Speed\n",
      "100 14314  100 14298  100    16  10809     12  0:00:01  0:00:01 --:--:-- 10819\n"
     ]
    },
    {
     "name": "stdout",
     "output_type": "stream",
     "text": [
      "PDB file generated successfully: /Users/jianchengluo/Desktop/CPPs/cpps_natrual/RQIKIWFQNRRMKWKK.pdb\n"
     ]
    },
    {
     "name": "stderr",
     "output_type": "stream",
     "text": [
      "  % Total    % Received % Xferd  Average Speed   Time    Time     Time  Current\n",
      "                                 Dload  Upload   Total   Spent    Left  Speed\n",
      "100 10340  100 10329  100    11  10048     10  0:00:01  0:00:01 --:--:-- 10068\n"
     ]
    },
    {
     "name": "stdout",
     "output_type": "stream",
     "text": [
      "PDB file generated successfully: /Users/jianchengluo/Desktop/CPPs/cpps_natrual/YGRKKRRQRRR.pdb\n"
     ]
    },
    {
     "name": "stderr",
     "output_type": "stream",
     "text": [
      "  % Total    % Received % Xferd  Average Speed   Time    Time     Time  Current\n",
      "                                 Dload  Upload   Total   Spent    Left  Speed\n",
      "100 18294  100 18267  100    27   6965     10  0:00:02  0:00:02 --:--:--  6977\n"
     ]
    },
    {
     "name": "stdout",
     "output_type": "stream",
     "text": [
      "PDB file generated successfully: /Users/jianchengluo/Desktop/CPPs/cpps_natrual/GALFLAFLAAALSLMGLWSQPKKKRKV.pdb\n"
     ]
    },
    {
     "name": "stderr",
     "output_type": "stream",
     "text": [
      "  % Total    % Received % Xferd  Average Speed   Time    Time     Time  Current\n",
      "                                 Dload  Upload   Total   Spent    Left  Speed\n",
      "100 17484  100 17457  100    27   6278      9  0:00:03  0:00:02  0:00:01  6286\n"
     ]
    },
    {
     "name": "stdout",
     "output_type": "stream",
     "text": [
      "PDB file generated successfully: /Users/jianchengluo/Desktop/CPPs/cpps_natrual/GALFLGFLGAAGSTMGAWSQPKKKRKV.pdb\n"
     ]
    },
    {
     "name": "stderr",
     "output_type": "stream",
     "text": [
      "  % Total    % Received % Xferd  Average Speed   Time    Time     Time  Current\n",
      "                                 Dload  Upload   Total   Spent    Left  Speed\n",
      "100 16505  100 16485  100    20   6292      7  0:00:02  0:00:02 --:--:--  6299\n"
     ]
    },
    {
     "name": "stdout",
     "output_type": "stream",
     "text": [
      "PDB file generated successfully: /Users/jianchengluo/Desktop/CPPs/cpps_natrual/GLWRALWRLLRSLWRLLWKA.pdb\n"
     ]
    },
    {
     "name": "stderr",
     "output_type": "stream",
     "text": [
      "  % Total    % Received % Xferd  Average Speed   Time    Time     Time  Current\n",
      "                                 Dload  Upload   Total   Spent    Left  Speed\n",
      "100  4664  100  4659  100     5   1800      1  0:00:05  0:00:02  0:00:03  1802\n"
     ]
    },
    {
     "name": "stdout",
     "output_type": "stream",
     "text": [
      "PDB file generated successfully: /Users/jianchengluo/Desktop/CPPs/cpps_natrual/KLPVM.pdb\n"
     ]
    },
    {
     "name": "stderr",
     "output_type": "stream",
     "text": [
      "  % Total    % Received % Xferd  Average Speed   Time    Time     Time  Current\n",
      "                                 Dload  Upload   Total   Spent    Left  Speed\n",
      "100 10827  100 10815  100    12   2429      2  0:00:06  0:00:04  0:00:02  2585\n"
     ]
    },
    {
     "name": "stdout",
     "output_type": "stream",
     "text": [
      "PDB file generated successfully: /Users/jianchengluo/Desktop/CPPs/cpps_natrual/YGRKKRRQRRRC.pdb\n"
     ]
    },
    {
     "name": "stderr",
     "output_type": "stream",
     "text": [
      "  % Total    % Received % Xferd  Average Speed   Time    Time     Time  Current\n",
      "                                 Dload  Upload   Total   Spent    Left  Speed\n",
      "100 14801  100 14784  100    17   5711      6  0:00:02  0:00:02 --:--:--  5719\n"
     ]
    },
    {
     "name": "stdout",
     "output_type": "stream",
     "text": [
      "PDB file generated successfully: /Users/jianchengluo/Desktop/CPPs/cpps_natrual/RQIKIWFQNRRMKWKKC.pdb\n"
     ]
    },
    {
     "name": "stderr",
     "output_type": "stream",
     "text": [
      "  % Total    % Received % Xferd  Average Speed   Time    Time     Time  Current\n",
      "                                 Dload  Upload   Total   Spent    Left  Speed\n",
      "100 10015  100 10005  100    10   4162      4  0:00:02  0:00:02 --:--:--  4165\n"
     ]
    },
    {
     "name": "stdout",
     "output_type": "stream",
     "text": [
      "PDB file generated successfully: /Users/jianchengluo/Desktop/CPPs/cpps_natrual/RRRRRRRRRC.pdb\n"
     ]
    },
    {
     "name": "stderr",
     "output_type": "stream",
     "text": [
      "  % Total    % Received % Xferd  Average Speed   Time    Time     Time  Current\n",
      "                                 Dload  Upload   Total   Spent    Left  Speed\n",
      "100 19672  100 19644  100    28   3785      5  0:00:05  0:00:05 --:--:--  4458\n"
     ]
    },
    {
     "name": "stdout",
     "output_type": "stream",
     "text": [
      "PDB file generated successfully: /Users/jianchengluo/Desktop/CPPs/cpps_natrual/KLFMALVAFLRFLTIPPTAGILKRWGTI.pdb\n"
     ]
    },
    {
     "name": "stderr",
     "output_type": "stream",
     "text": [
      "  % Total    % Received % Xferd  Average Speed   Time    Time     Time  Current\n",
      "                                 Dload  Upload   Total   Spent    Left  Speed\n",
      "100 25835  100 25800  100    35   9501     12  0:00:02  0:00:02 --:--:--  9512\n"
     ]
    },
    {
     "name": "stdout",
     "output_type": "stream",
     "text": [
      "PDB file generated successfully: /Users/jianchengluo/Desktop/CPPs/cpps_natrual/LKRWGTIKKSKAINVLRGFRKEIGRMLNILNRRRR.pdb\n"
     ]
    },
    {
     "name": "stderr",
     "output_type": "stream",
     "text": [
      "  % Total    % Received % Xferd  Average Speed   Time    Time     Time  Current\n",
      "                                 Dload  Upload   Total   Spent    Left  Speed\n",
      "100 15047  100 15027  100    20   5708      7  0:00:02  0:00:02 --:--:--  5716\n"
     ]
    },
    {
     "name": "stdout",
     "output_type": "stream",
     "text": [
      "PDB file generated successfully: /Users/jianchengluo/Desktop/CPPs/cpps_natrual/CELAGIGILTVRKKRRQRRR.pdb\n"
     ]
    },
    {
     "name": "stderr",
     "output_type": "stream",
     "text": [
      "  % Total    % Received % Xferd  Average Speed   Time    Time     Time  Current\n",
      "                                 Dload  Upload   Total   Spent    Left  Speed\n",
      "100 14075  100 14055  100    20   4419      6  0:00:03  0:00:03 --:--:--  4426\n"
     ]
    },
    {
     "name": "stdout",
     "output_type": "stream",
     "text": [
      "PDB file generated successfully: /Users/jianchengluo/Desktop/CPPs/cpps_natrual/CELAGIGILTVKKKKKQKKK.pdb\n"
     ]
    },
    {
     "name": "stderr",
     "output_type": "stream",
     "text": [
      "  % Total    % Received % Xferd  Average Speed   Time    Time     Time  Current\n",
      "                                 Dload  Upload   Total   Spent    Left  Speed\n",
      "100  9368  100  9357  100    11   2617      3  0:00:03  0:00:03 --:--:--  2621\n"
     ]
    },
    {
     "name": "stdout",
     "output_type": "stream",
     "text": [
      "PDB file generated successfully: /Users/jianchengluo/Desktop/CPPs/cpps_natrual/KKLFKKILKKL.pdb\n"
     ]
    },
    {
     "name": "stderr",
     "output_type": "stream",
     "text": [
      "  % Total    % Received % Xferd  Average Speed   Time    Time     Time  Current\n",
      "                                 Dload  Upload   Total   Spent    Left  Speed\n",
      "100   178  100   161  100    17    155     16  0:00:01  0:00:01 --:--:--   172\n"
     ]
    },
    {
     "name": "stdout",
     "output_type": "stream",
     "text": [
      "PDB file generated successfully: /Users/jianchengluo/Desktop/CPPs/cpps_natrual/CREKA-KKLFKKILKKL.pdb\n"
     ]
    },
    {
     "name": "stderr",
     "output_type": "stream",
     "text": [
      "  % Total    % Received % Xferd  Average Speed   Time    Time     Time  Current\n",
      "                                 Dload  Upload   Total   Spent    Left  Speed\n",
      "100  9368  100  9357  100    11   8990     10  0:00:01  0:00:01 --:--:--  9007\n"
     ]
    },
    {
     "name": "stdout",
     "output_type": "stream",
     "text": [
      "PDB file generated successfully: /Users/jianchengluo/Desktop/CPPs/cpps_natrual/KKLFKKILKKL.pdb\n"
     ]
    },
    {
     "name": "stderr",
     "output_type": "stream",
     "text": [
      "  % Total    % Received % Xferd  Average Speed   Time    Time     Time  Current\n",
      "                                 Dload  Upload   Total   Spent    Left  Speed\n",
      "100   178  100   161  100    17    156     16  0:00:01  0:00:01 --:--:--   173\n"
     ]
    },
    {
     "name": "stdout",
     "output_type": "stream",
     "text": [
      "PDB file generated successfully: /Users/jianchengluo/Desktop/CPPs/cpps_natrual/CREKA-KKLFKKILKKL.pdb\n"
     ]
    },
    {
     "name": "stderr",
     "output_type": "stream",
     "text": [
      "  % Total    % Received % Xferd  Average Speed   Time    Time     Time  Current\n",
      "                                 Dload  Upload   Total   Spent    Left  Speed\n",
      "100 11963  100 11949  100    14   3023      3  0:00:04  0:00:03  0:00:01  3027\n"
     ]
    },
    {
     "name": "stdout",
     "output_type": "stream",
     "text": [
      "PDB file generated successfully: /Users/jianchengluo/Desktop/CPPs/cpps_natrual/GRKKRRQRRRPPQK.pdb\n"
     ]
    },
    {
     "name": "stderr",
     "output_type": "stream",
     "text": [
      "  % Total    % Received % Xferd  Average Speed   Time    Time     Time  Current\n",
      "                                 Dload  Upload   Total   Spent    Left  Speed\n",
      "100 15044  100 15027  100    17   4467      5  0:00:03  0:00:03 --:--:--  4473\n"
     ]
    },
    {
     "name": "stdout",
     "output_type": "stream",
     "text": [
      "PDB file generated successfully: /Users/jianchengluo/Desktop/CPPs/cpps_natrual/RQIKIWFQNRRMKWKKK.pdb\n"
     ]
    },
    {
     "name": "stderr",
     "output_type": "stream",
     "text": [
      "  % Total    % Received % Xferd  Average Speed   Time    Time     Time  Current\n",
      "                                 Dload  Upload   Total   Spent    Left  Speed\n",
      "100  9366  100  9357  100     9   4083      3  0:00:03  0:00:02  0:00:01  4088\n"
     ]
    },
    {
     "name": "stdout",
     "output_type": "stream",
     "text": [
      "PDB file generated successfully: /Users/jianchengluo/Desktop/CPPs/cpps_natrual/RRRRRRRRK.pdb\n"
     ]
    },
    {
     "name": "stderr",
     "output_type": "stream",
     "text": [
      "  % Total    % Received % Xferd  Average Speed   Time    Time     Time  Current\n",
      "                                 Dload  Upload   Total   Spent    Left  Speed\n",
      "100 12855  100 12840  100    15   5560      6  0:00:02  0:00:02 --:--:--  5567\n"
     ]
    },
    {
     "name": "stdout",
     "output_type": "stream",
     "text": [
      "PDB file generated successfully: /Users/jianchengluo/Desktop/CPPs/cpps_natrual/VSRRRRRRGGRRRRK.pdb\n"
     ]
    },
    {
     "name": "stderr",
     "output_type": "stream",
     "text": [
      "  % Total    % Received % Xferd  Average Speed   Time    Time     Time  Current\n",
      "                                 Dload  Upload   Total   Spent    Left  Speed\n",
      "100  5960  100  5955  100     5   5696      4  0:00:01  0:00:01 --:--:--  5703\n"
     ]
    },
    {
     "name": "stdout",
     "output_type": "stream",
     "text": [
      "PDB file generated successfully: /Users/jianchengluo/Desktop/CPPs/cpps_natrual/RRRRR.pdb\n"
     ]
    },
    {
     "name": "stderr",
     "output_type": "stream",
     "text": [
      "  % Total    % Received % Xferd  Average Speed   Time    Time     Time  Current\n",
      "                                 Dload  Upload   Total   Spent    Left  Speed\n",
      "100  8636  100  8628  100     8   1803      1  0:00:08  0:00:04  0:00:04  1804\n"
     ]
    },
    {
     "name": "stdout",
     "output_type": "stream",
     "text": [
      "PDB file generated successfully: /Users/jianchengluo/Desktop/CPPs/cpps_natrual/RRRRRRRR.pdb\n"
     ]
    },
    {
     "name": "stderr",
     "output_type": "stream",
     "text": [
      "  % Total    % Received % Xferd  Average Speed   Time    Time     Time  Current\n",
      "                                 Dload  Upload   Total   Spent    Left  Speed\n",
      "100 10340  100 10329  100    11   9858     10  0:00:01  0:00:01 --:--:--  9875\n"
     ]
    },
    {
     "name": "stdout",
     "output_type": "stream",
     "text": [
      "PDB file generated successfully: /Users/jianchengluo/Desktop/CPPs/cpps_natrual/YGRKKRRQRRR.pdb\n"
     ]
    },
    {
     "name": "stderr",
     "output_type": "stream",
     "text": [
      "  % Total    % Received % Xferd  Average Speed   Time    Time     Time  Current\n",
      "                                 Dload  Upload   Total   Spent    Left  Speed\n",
      "100  9125  100  9114  100    11   3893      4  0:00:02  0:00:02 --:--:--  3899\n"
     ]
    },
    {
     "name": "stdout",
     "output_type": "stream",
     "text": [
      "PDB file generated successfully: /Users/jianchengluo/Desktop/CPPs/cpps_natrual/YGRGGRRGRRR.pdb\n"
     ]
    },
    {
     "name": "stderr",
     "output_type": "stream",
     "text": [
      "  % Total    % Received % Xferd  Average Speed   Time    Time     Time  Current\n",
      "                                 Dload  Upload   Total   Spent    Left  Speed\n",
      "100  8564  100  8547  100    17   2822      5  0:00:03  0:00:03 --:--:--  2829\n"
     ]
    },
    {
     "name": "stdout",
     "output_type": "stream",
     "text": [
      "PDB file generated successfully: /Users/jianchengluo/Desktop/CPPs/cpps_natrual/ACSGSGSGCGSGSGSCG.pdb\n"
     ]
    },
    {
     "name": "stderr",
     "output_type": "stream",
     "text": [
      "  % Total    % Received % Xferd  Average Speed   Time    Time     Time  Current\n",
      "                                 Dload  Upload   Total   Spent    Left  Speed\n",
      "100  9374  100  9357  100    17   2112      3  0:00:05  0:00:04  0:00:01  2116\n"
     ]
    },
    {
     "name": "stdout",
     "output_type": "stream",
     "text": [
      "PDB file generated successfully: /Users/jianchengluo/Desktop/CPPs/cpps_natrual/ACSGRGSGCGSGRGSCG.pdb\n"
     ]
    },
    {
     "name": "stderr",
     "output_type": "stream",
     "text": [
      "  % Total    % Received % Xferd  Average Speed   Time    Time     Time  Current\n",
      "                                 Dload  Upload   Total   Spent    Left  Speed\n",
      "100 10184  100 10167  100    17   4299      7  0:00:02  0:00:02 --:--:--  4306\n"
     ]
    },
    {
     "name": "stdout",
     "output_type": "stream",
     "text": [
      "PDB file generated successfully: /Users/jianchengluo/Desktop/CPPs/cpps_natrual/ACRGSGRGCGRGSGRCG.pdb\n"
     ]
    },
    {
     "name": "stderr",
     "output_type": "stream",
     "text": [
      "  % Total    % Received % Xferd  Average Speed   Time    Time     Time  Current\n",
      "                                 Dload  Upload   Total   Spent    Left  Speed\n",
      "100 10184  100 10167  100    17   4350      7  0:00:02  0:00:02 --:--:--  4357\n"
     ]
    },
    {
     "name": "stdout",
     "output_type": "stream",
     "text": [
      "PDB file generated successfully: /Users/jianchengluo/Desktop/CPPs/cpps_natrual/ACSGRGRGCGRGRGSCG.pdb\n"
     ]
    },
    {
     "name": "stderr",
     "output_type": "stream",
     "text": [
      "  % Total    % Received % Xferd  Average Speed   Time    Time     Time  Current\n",
      "                                 Dload  Upload   Total   Spent    Left  Speed\n",
      "100 10994  100 10977  100    17   4601      7  0:00:02  0:00:02 --:--:--  4607\n"
     ]
    },
    {
     "name": "stdout",
     "output_type": "stream",
     "text": [
      "PDB file generated successfully: /Users/jianchengluo/Desktop/CPPs/cpps_natrual/ACRGRGRGCGRGRGRCG.pdb\n"
     ]
    },
    {
     "name": "stderr",
     "output_type": "stream",
     "text": [
      "  % Total    % Received % Xferd  Average Speed   Time    Time     Time  Current\n",
      "                                 Dload  Upload   Total   Spent    Left  Speed\n",
      "100 10994  100 10977  100    17   4653      7  0:00:02  0:00:02 --:--:--  4662\n"
     ]
    },
    {
     "name": "stdout",
     "output_type": "stream",
     "text": [
      "PDB file generated successfully: /Users/jianchengluo/Desktop/CPPs/cpps_natrual/ACGRGRGRCRGRGRGCG.pdb\n"
     ]
    },
    {
     "name": "stderr",
     "output_type": "stream",
     "text": [
      "  % Total    % Received % Xferd  Average Speed   Time    Time     Time  Current\n",
      "                                 Dload  Upload   Total   Spent    Left  Speed\n",
      "100 10994  100 10977  100    17   4685      7  0:00:02  0:00:02 --:--:--  4694\n"
     ]
    },
    {
     "name": "stdout",
     "output_type": "stream",
     "text": [
      "PDB file generated successfully: /Users/jianchengluo/Desktop/CPPs/cpps_natrual/ACRGRGRGCRGRGRGCG.pdb\n"
     ]
    },
    {
     "name": "stderr",
     "output_type": "stream",
     "text": [
      "  % Total    % Received % Xferd  Average Speed   Time    Time     Time  Current\n",
      "                                 Dload  Upload   Total   Spent    Left  Speed\n",
      "100 10994  100 10977  100    17   4697      7  0:00:02  0:00:02 --:--:--  4704\n"
     ]
    },
    {
     "name": "stdout",
     "output_type": "stream",
     "text": [
      "PDB file generated successfully: /Users/jianchengluo/Desktop/CPPs/cpps_natrual/ACGRGRGRCGRGRGRCG.pdb\n"
     ]
    },
    {
     "name": "stderr",
     "output_type": "stream",
     "text": [
      "  % Total    % Received % Xferd  Average Speed   Time    Time     Time  Current\n",
      "                                 Dload  Upload   Total   Spent    Left  Speed\n",
      "100 12128  100 12111  100    17   3016      4  0:00:04  0:00:04 --:--:--  3021\n"
     ]
    },
    {
     "name": "stdout",
     "output_type": "stream",
     "text": [
      "PDB file generated successfully: /Users/jianchengluo/Desktop/CPPs/cpps_natrual/ACRGRRRGCGRRRGRCG.pdb\n"
     ]
    },
    {
     "name": "stderr",
     "output_type": "stream",
     "text": [
      "  % Total    % Received % Xferd  Average Speed   Time    Time     Time  Current\n",
      "                                 Dload  Upload   Total   Spent    Left  Speed\n",
      "100 12452  100 12435  100    17   3713      5  0:00:03  0:00:03 --:--:--  3719\n"
     ]
    },
    {
     "name": "stdout",
     "output_type": "stream",
     "text": [
      "PDB file generated successfully: /Users/jianchengluo/Desktop/CPPs/cpps_natrual/ACRRSRRGCGRRSRRCG.pdb\n"
     ]
    },
    {
     "name": "stderr",
     "output_type": "stream",
     "text": [
      "  % Total    % Received % Xferd  Average Speed   Time    Time     Time  Current\n",
      "                                 Dload  Upload   Total   Spent    Left  Speed\n",
      "100 11561  100 11544  100    17   4591      6  0:00:02  0:00:02 --:--:--  4598\n"
     ]
    },
    {
     "name": "stdout",
     "output_type": "stream",
     "text": [
      "PDB file generated successfully: /Users/jianchengluo/Desktop/CPPs/cpps_natrual/ACSDRFRNCPADEALCG.pdb\n"
     ]
    },
    {
     "name": "stderr",
     "output_type": "stream",
     "text": [
      "  % Total    % Received % Xferd  Average Speed   Time    Time     Time  Current\n",
      "                                 Dload  Upload   Total   Spent    Left  Speed\n",
      "100 11966  100 11949  100    17   4757      6  0:00:02  0:00:02 --:--:--  4765\n"
     ]
    },
    {
     "name": "stdout",
     "output_type": "stream",
     "text": [
      "PDB file generated successfully: /Users/jianchengluo/Desktop/CPPs/cpps_natrual/ACRDRFRNCPADEALCG.pdb\n"
     ]
    },
    {
     "name": "stderr",
     "output_type": "stream",
     "text": [
      "  % Total    % Received % Xferd  Average Speed   Time    Time     Time  Current\n",
      "                                 Dload  Upload   Total   Spent    Left  Speed\n",
      "100 12452  100 12435  100    17   4942      6  0:00:02  0:00:02 --:--:--  4949\n"
     ]
    },
    {
     "name": "stdout",
     "output_type": "stream",
     "text": [
      "PDB file generated successfully: /Users/jianchengluo/Desktop/CPPs/cpps_natrual/ACRDRFRNCPADERLCG.pdb\n"
     ]
    },
    {
     "name": "stderr",
     "output_type": "stream",
     "text": [
      "  % Total    % Received % Xferd  Average Speed   Time    Time     Time  Current\n",
      "                                 Dload  Upload   Total   Spent    Left  Speed\n",
      "100 12695  100 12678  100    17   5422      7  0:00:02  0:00:02 --:--:--  5432\n"
     ]
    },
    {
     "name": "stdout",
     "output_type": "stream",
     "text": [
      "PDB file generated successfully: /Users/jianchengluo/Desktop/CPPs/cpps_natrual/ACRDRFRRCPADERLCG.pdb\n"
     ]
    },
    {
     "name": "stderr",
     "output_type": "stream",
     "text": [
      "  % Total    % Received % Xferd  Average Speed   Time    Time     Time  Current\n",
      "                                 Dload  Upload   Total   Spent    Left  Speed\n",
      "100 12857  100 12840  100    17   5476      7  0:00:02  0:00:02 --:--:--  5482\n"
     ]
    },
    {
     "name": "stdout",
     "output_type": "stream",
     "text": [
      "PDB file generated successfully: /Users/jianchengluo/Desktop/CPPs/cpps_natrual/ACRDRFRRCPADRRLCG.pdb\n"
     ]
    },
    {
     "name": "stderr",
     "output_type": "stream",
     "text": [
      "  % Total    % Received % Xferd  Average Speed   Time    Time     Time  Current\n",
      "                                 Dload  Upload   Total   Spent    Left  Speed\n",
      "100  9374  100  9357  100    17   3946      7  0:00:02  0:00:02 --:--:--  3955\n"
     ]
    },
    {
     "name": "stdout",
     "output_type": "stream",
     "text": [
      "PDB file generated successfully: /Users/jianchengluo/Desktop/CPPs/cpps_natrual/ACSGRGRGCGSGSGSCG.pdb\n"
     ]
    },
    {
     "name": "stderr",
     "output_type": "stream",
     "text": [
      "  % Total    % Received % Xferd  Average Speed   Time    Time     Time  Current\n",
      "                                 Dload  Upload   Total   Spent    Left  Speed\n",
      "100  9779  100  9762  100    17   4124      7  0:00:02  0:00:02 --:--:--  4133\n"
     ]
    },
    {
     "name": "stdout",
     "output_type": "stream",
     "text": [
      "PDB file generated successfully: /Users/jianchengluo/Desktop/CPPs/cpps_natrual/ACRGRGRGCGSGSGSCG.pdb\n"
     ]
    },
    {
     "name": "stderr",
     "output_type": "stream",
     "text": [
      "  % Total    % Received % Xferd  Average Speed   Time    Time     Time  Current\n",
      "                                 Dload  Upload   Total   Spent    Left  Speed\n",
      "100 10346  100 10329  100    17   4431      7  0:00:02  0:00:02 --:--:--  4438\n"
     ]
    },
    {
     "name": "stdout",
     "output_type": "stream",
     "text": [
      "PDB file generated successfully: /Users/jianchengluo/Desktop/CPPs/cpps_natrual/ACRGRGRGCGSGSRSCG.pdb\n"
     ]
    },
    {
     "name": "stderr",
     "output_type": "stream",
     "text": [
      "  % Total    % Received % Xferd  Average Speed   Time    Time     Time  Current\n",
      "                                 Dload  Upload   Total   Spent    Left  Speed\n",
      "100 10913  100 10896  100    17   4203      6  0:00:02  0:00:02 --:--:--  4210\n"
     ]
    },
    {
     "name": "stdout",
     "output_type": "stream",
     "text": [
      "PDB file generated successfully: /Users/jianchengluo/Desktop/CPPs/cpps_natrual/ACRGRGRRCGSGSRSCG.pdb\n"
     ]
    },
    {
     "name": "stderr",
     "output_type": "stream",
     "text": [
      "  % Total    % Received % Xferd  Average Speed   Time    Time     Time  Current\n",
      "                                 Dload  Upload   Total   Spent    Left  Speed\n",
      "100 11318  100 11301  100    17   4731      7  0:00:02  0:00:02 --:--:--  4737\n"
     ]
    },
    {
     "name": "stdout",
     "output_type": "stream",
     "text": [
      "PDB file generated successfully: /Users/jianchengluo/Desktop/CPPs/cpps_natrual/ACRGRGRRCGSGRRSCG.pdb\n"
     ]
    },
    {
     "name": "stderr",
     "output_type": "stream",
     "text": [
      "  % Total    % Received % Xferd  Average Speed   Time    Time     Time  Current\n",
      "                                 Dload  Upload   Total   Spent    Left  Speed\n",
      "100 10348  100 10329  100    19   2392      4  0:00:04  0:00:04 --:--:--  2397\n"
     ]
    },
    {
     "name": "stdout",
     "output_type": "stream",
     "text": [
      "PDB file generated successfully: /Users/jianchengluo/Desktop/CPPs/cpps_natrual/ARCSGSGSGCGSGSGSCGR.pdb\n"
     ]
    },
    {
     "name": "stderr",
     "output_type": "stream",
     "text": [
      "  % Total    % Received % Xferd  Average Speed   Time    Time     Time  Current\n",
      "                                 Dload  Upload   Total   Spent    Left  Speed\n",
      "100 12132  100 12111  100    21   4254      7  0:00:03  0:00:02  0:00:01  4261\n"
     ]
    },
    {
     "name": "stdout",
     "output_type": "stream",
     "text": [
      "PDB file generated successfully: /Users/jianchengluo/Desktop/CPPs/cpps_natrual/ARRCSGSGSGCGSGSGSCGRR.pdb\n"
     ]
    },
    {
     "name": "stderr",
     "output_type": "stream",
     "text": [
      "  % Total    % Received % Xferd  Average Speed   Time    Time     Time  Current\n",
      "                                 Dload  Upload   Total   Spent    Left  Speed\n",
      "100 13916  100 13893  100    23   6021      9  0:00:02  0:00:02 --:--:--  6032\n"
     ]
    },
    {
     "name": "stdout",
     "output_type": "stream",
     "text": [
      "PDB file generated successfully: /Users/jianchengluo/Desktop/CPPs/cpps_natrual/ARRRCSGSGSGCGSGSGSCGRRR.pdb\n"
     ]
    },
    {
     "name": "stderr",
     "output_type": "stream",
     "text": [
      "  % Total    % Received % Xferd  Average Speed   Time    Time     Time  Current\n",
      "                                 Dload  Upload   Total   Spent    Left  Speed\n",
      "100 15700  100 15675  100    25   3957      6  0:00:04  0:00:03  0:00:01  3962\n"
     ]
    },
    {
     "name": "stdout",
     "output_type": "stream",
     "text": [
      "PDB file generated successfully: /Users/jianchengluo/Desktop/CPPs/cpps_natrual/ARRRRCSGSGSGCGSGSGSCGRRRR.pdb\n"
     ]
    },
    {
     "name": "stderr",
     "output_type": "stream",
     "text": [
      "  % Total    % Received % Xferd  Average Speed   Time    Time     Time  Current\n",
      "                                 Dload  Upload   Total   Spent    Left  Speed\n",
      "100 15700  100 15675  100    25   6030      9  0:00:02  0:00:02 --:--:--  6038\n"
     ]
    },
    {
     "name": "stdout",
     "output_type": "stream",
     "text": [
      "PDB file generated successfully: /Users/jianchengluo/Desktop/CPPs/cpps_natrual/ACSGSGSGCGSGSGSCGRRRRRRRR.pdb\n"
     ]
    },
    {
     "name": "stderr",
     "output_type": "stream",
     "text": [
      "  % Total    % Received % Xferd  Average Speed   Time    Time     Time  Current\n",
      "                                 Dload  Upload   Total   Spent    Left  Speed\n",
      "100 13345  100 13326  100    19   5498      7  0:00:02  0:00:02 --:--:--  5507\n"
     ]
    },
    {
     "name": "stdout",
     "output_type": "stream",
     "text": [
      "PDB file generated successfully: /Users/jianchengluo/Desktop/CPPs/cpps_natrual/ARCSDRFRNCPADEALCGR.pdb\n"
     ]
    },
    {
     "name": "stderr",
     "output_type": "stream",
     "text": [
      "  % Total    % Received % Xferd  Average Speed   Time    Time     Time  Current\n",
      "                                 Dload  Upload   Total   Spent    Left  Speed\n",
      "100 15129  100 15108  100    21   2703      3  0:00:07  0:00:05  0:00:02  4317\n"
     ]
    },
    {
     "name": "stdout",
     "output_type": "stream",
     "text": [
      "PDB file generated successfully: /Users/jianchengluo/Desktop/CPPs/cpps_natrual/ARRCSDRFRNCPADEALCGRR.pdb\n"
     ]
    },
    {
     "name": "stderr",
     "output_type": "stream",
     "text": [
      "  % Total    % Received % Xferd  Average Speed   Time    Time     Time  Current\n",
      "                                 Dload  Upload   Total   Spent    Left  Speed\n",
      "100 16913  100 16890  100    23   6165      8  0:00:02  0:00:02 --:--:--  6172\n"
     ]
    },
    {
     "name": "stdout",
     "output_type": "stream",
     "text": [
      "PDB file generated successfully: /Users/jianchengluo/Desktop/CPPs/cpps_natrual/ARRRCSDRFRNCPADEALCGRRR.pdb\n"
     ]
    },
    {
     "name": "stderr",
     "output_type": "stream",
     "text": [
      "  % Total    % Received % Xferd  Average Speed   Time    Time     Time  Current\n",
      "                                 Dload  Upload   Total   Spent    Left  Speed\n",
      "100 18697  100 18672  100    25  14294     19  0:00:01  0:00:01 --:--:-- 14316\n"
     ]
    },
    {
     "name": "stdout",
     "output_type": "stream",
     "text": [
      "PDB file generated successfully: /Users/jianchengluo/Desktop/CPPs/cpps_natrual/ARRRRCSDRFRNCPADEALCGRRRR.pdb\n"
     ]
    },
    {
     "name": "stderr",
     "output_type": "stream",
     "text": [
      "  % Total    % Received % Xferd  Average Speed   Time    Time     Time  Current\n",
      "                                 Dload  Upload   Total   Spent    Left  Speed\n",
      "100 18697  100 18672  100    25   7169      9  0:00:02  0:00:02 --:--:--  7177\n"
     ]
    },
    {
     "name": "stdout",
     "output_type": "stream",
     "text": [
      "PDB file generated successfully: /Users/jianchengluo/Desktop/CPPs/cpps_natrual/ACSDRFRNCPADEALCGRRRRRRRR.pdb\n"
     ]
    },
    {
     "name": "stderr",
     "output_type": "stream",
     "text": [
      "  % Total    % Received % Xferd  Average Speed   Time    Time     Time  Current\n",
      "                                 Dload  Upload   Total   Spent    Left  Speed\n",
      "100 12452  100 12435  100    17   4510      6  0:00:02  0:00:02 --:--:--  4514\n"
     ]
    },
    {
     "name": "stdout",
     "output_type": "stream",
     "text": [
      "PDB file generated successfully: /Users/jianchengluo/Desktop/CPPs/cpps_natrual/ACRRSRRGCGRRSRRCG.pdb\n"
     ]
    },
    {
     "name": "stderr",
     "output_type": "stream",
     "text": [
      "  % Total    % Received % Xferd  Average Speed   Time    Time     Time  Current\n",
      "                                 Dload  Upload   Total   Spent    Left  Speed\n",
      "100 11318  100 11301  100    17  10768     16  0:00:01  0:00:01 --:--:-- 10789\n"
     ]
    },
    {
     "name": "stdout",
     "output_type": "stream",
     "text": [
      "PDB file generated successfully: /Users/jianchengluo/Desktop/CPPs/cpps_natrual/ACRGRGRRCGSGRRSCG.pdb\n"
     ]
    },
    {
     "name": "stderr",
     "output_type": "stream",
     "text": [
      "  % Total    % Received % Xferd  Average Speed   Time    Time     Time  Current\n",
      "                                 Dload  Upload   Total   Spent    Left  Speed\n",
      "100 15700  100 15675  100    25  12070     19  0:00:01  0:00:01 --:--:-- 12095\n"
     ]
    },
    {
     "name": "stdout",
     "output_type": "stream",
     "text": [
      "PDB file generated successfully: /Users/jianchengluo/Desktop/CPPs/cpps_natrual/ACSGSGSGCGSGSGSCGRRRRRRRR.pdb\n"
     ]
    },
    {
     "name": "stderr",
     "output_type": "stream",
     "text": [
      "  % Total    % Received % Xferd  Average Speed   Time    Time     Time  Current\n",
      "                                 Dload  Upload   Total   Spent    Left  Speed\n",
      "100 18697  100 18672  100    25  14464     19  0:00:01  0:00:01 --:--:-- 14493\n"
     ]
    },
    {
     "name": "stdout",
     "output_type": "stream",
     "text": [
      "PDB file generated successfully: /Users/jianchengluo/Desktop/CPPs/cpps_natrual/ACSDRFRNCPADEALCGRRRRRRRR.pdb\n"
     ]
    },
    {
     "name": "stderr",
     "output_type": "stream",
     "text": [
      "  % Total    % Received % Xferd  Average Speed   Time    Time     Time  Current\n",
      "                                 Dload  Upload   Total   Spent    Left  Speed\n",
      "100 17320  100 17295  100    25   3445      4  0:00:06  0:00:05  0:00:01  3633\n"
     ]
    },
    {
     "name": "stdout",
     "output_type": "stream",
     "text": [
      "PDB file generated successfully: /Users/jianchengluo/Desktop/CPPs/cpps_natrual/ACSHSGHGCGHGSHSCGRRRRRRRR.pdb\n"
     ]
    },
    {
     "name": "stderr",
     "output_type": "stream",
     "text": [
      "  % Total    % Received % Xferd  Average Speed   Time    Time     Time  Current\n",
      "                                 Dload  Upload   Total   Spent    Left  Speed\n",
      "100 17968  100 17943  100    25   6832      9  0:00:02  0:00:02 --:--:--  6842\n"
     ]
    },
    {
     "name": "stdout",
     "output_type": "stream",
     "text": [
      "PDB file generated successfully: /Users/jianchengluo/Desktop/CPPs/cpps_natrual/ACSHSGWGCGHGSWSCGRRRRRRRR.pdb\n"
     ]
    },
    {
     "name": "stderr",
     "output_type": "stream",
     "text": [
      "  % Total    % Received % Xferd  Average Speed   Time    Time     Time  Current\n",
      "                                 Dload  Upload   Total   Spent    Left  Speed\n",
      "100 12209  100 12192  100    17   5165      7  0:00:02  0:00:02 --:--:--  5173\n"
     ]
    },
    {
     "name": "stdout",
     "output_type": "stream",
     "text": [
      "PDB file generated successfully: /Users/jianchengluo/Desktop/CPPs/cpps_natrual/ACHGRRWGCGRHRGRCG.pdb\n"
     ]
    },
    {
     "name": "stderr",
     "output_type": "stream",
     "text": [
      "  % Total    % Received % Xferd  Average Speed   Time    Time     Time  Current\n",
      "                                 Dload  Upload   Total   Spent    Left  Speed\n",
      "100 25675  100 25638  100    37   9785     14  0:00:02  0:00:02 --:--:--  9799\n"
     ]
    },
    {
     "name": "stdout",
     "output_type": "stream",
     "text": [
      "PDB file generated successfully: /Users/jianchengluo/Desktop/CPPs/cpps_natrual/HEHEHEHEHEHEHEHEEFGGGGGYGRGRGRGRGRGRG.pdb\n"
     ]
    },
    {
     "name": "stderr",
     "output_type": "stream",
     "text": [
      "  % Total    % Received % Xferd  Average Speed   Time    Time     Time  Current\n",
      "                                 Dload  Upload   Total   Spent    Left  Speed\n",
      "100 28757  100 28716  100    41   5584      7  0:00:05  0:00:05 --:--:--  6206\n"
     ]
    },
    {
     "name": "stdout",
     "output_type": "stream",
     "text": [
      "PDB file generated successfully: /Users/jianchengluo/Desktop/CPPs/cpps_natrual/HEHEHEHEHEHEHEHEHEHEEFGGGGGYGRGRGRGRGRGRG.pdb\n"
     ]
    },
    {
     "name": "stderr",
     "output_type": "stream",
     "text": [
      "  % Total    % Received % Xferd  Average Speed   Time    Time     Time  Current\n",
      "                                 Dload  Upload   Total   Spent    Left  Speed\n",
      "100 31839  100 31794  100    45  11067     15  0:00:03  0:00:02  0:00:01 11082\n"
     ]
    },
    {
     "name": "stdout",
     "output_type": "stream",
     "text": [
      "PDB file generated successfully: /Users/jianchengluo/Desktop/CPPs/cpps_natrual/HEHEHEHEHEHEHEHEHEHEHEHEEFGGGGGYGRGRGRGRGRGRG.pdb\n"
     ]
    },
    {
     "name": "stderr",
     "output_type": "stream",
     "text": [
      "  % Total    % Received % Xferd  Average Speed   Time    Time     Time  Current\n",
      "                                 Dload  Upload   Total   Spent    Left  Speed\n",
      "100 25675  100 25638  100    37   9671     13  0:00:02  0:00:02 --:--:--  9685\n"
     ]
    },
    {
     "name": "stdout",
     "output_type": "stream",
     "text": [
      "PDB file generated successfully: /Users/jianchengluo/Desktop/CPPs/cpps_natrual/HEHEHEHEHEHEHEHEEFGGGGGYGRRRRRRGGGGGG.pdb\n"
     ]
    },
    {
     "name": "stderr",
     "output_type": "stream",
     "text": [
      "  % Total    % Received % Xferd  Average Speed   Time    Time     Time  Current\n",
      "                                 Dload  Upload   Total   Spent    Left  Speed\n",
      "100 28757  100 28716  100    41   6077      8  0:00:05  0:00:04  0:00:01  7256\n"
     ]
    },
    {
     "name": "stdout",
     "output_type": "stream",
     "text": [
      "PDB file generated successfully: /Users/jianchengluo/Desktop/CPPs/cpps_natrual/HEHEHEHEHEHEHEHEHEHEEFGGGGGYGRRRRRRGGGGGG.pdb\n"
     ]
    },
    {
     "name": "stderr",
     "output_type": "stream",
     "text": [
      "  % Total    % Received % Xferd  Average Speed   Time    Time     Time  Current\n",
      "                                 Dload  Upload   Total   Spent    Left  Speed\n",
      "100 31839  100 31794  100    45   9141     12  0:00:03  0:00:03 --:--:--  9157\n"
     ]
    },
    {
     "name": "stdout",
     "output_type": "stream",
     "text": [
      "PDB file generated successfully: /Users/jianchengluo/Desktop/CPPs/cpps_natrual/HEHEHEHEHEHEHEHEHEHEHEHEEFGGGGGYGRRRRRRGGGGGG.pdb\n"
     ]
    },
    {
     "name": "stderr",
     "output_type": "stream",
     "text": [
      "  % Total    % Received % Xferd  Average Speed   Time    Time     Time  Current\n",
      "                                 Dload  Upload   Total   Spent    Left  Speed\n",
      "100 32079  100 32037  100    42  11254     14  0:00:03  0:00:02  0:00:01 11267\n"
     ]
    },
    {
     "name": "stdout",
     "output_type": "stream",
     "text": [
      "PDB file generated successfully: /Users/jianchengluo/Desktop/CPPs/cpps_natrual/HEHEHEHEHEHEHEHEHEHEHEHEEFGGGGGYGRKKRRQRRR.pdb\n"
     ]
    },
    {
     "name": "stderr",
     "output_type": "stream",
     "text": [
      "  % Total    % Received % Xferd  Average Speed   Time    Time     Time  Current\n",
      "                                 Dload  Upload   Total   Spent    Left  Speed\n",
      "100   182  100   161  100    21    156     20  0:00:01  0:00:01 --:--:--   176\n"
     ]
    },
    {
     "name": "stdout",
     "output_type": "stream",
     "text": [
      "PDB file generated successfully: /Users/jianchengluo/Desktop/CPPs/cpps_natrual/WELVVLGKL-YGRKKRRQRRR.pdb\n"
     ]
    },
    {
     "name": "stderr",
     "output_type": "stream",
     "text": [
      "  % Total    % Received % Xferd  Average Speed   Time    Time     Time  Current\n",
      "                                 Dload  Upload   Total   Spent    Left  Speed\n",
      "100   181  100   161  100    20    119     14  0:00:01  0:00:01 --:--:--   134\n"
     ]
    },
    {
     "name": "stdout",
     "output_type": "stream",
     "text": [
      "PDB file generated successfully: /Users/jianchengluo/Desktop/CPPs/cpps_natrual/ELVVLGKL-YGRKKRRQRRR.pdb\n"
     ]
    },
    {
     "name": "stderr",
     "output_type": "stream",
     "text": [
      "  % Total    % Received % Xferd  Average Speed   Time    Time     Time  Current\n",
      "                                 Dload  Upload   Total   Spent    Left  Speed\n",
      "100   180  100   161  100    19     62      7  0:00:02  0:00:02 --:--:--    69\n"
     ]
    },
    {
     "name": "stdout",
     "output_type": "stream",
     "text": [
      "PDB file generated successfully: /Users/jianchengluo/Desktop/CPPs/cpps_natrual/LVVLGKL-YGRKKRRQRRR.pdb\n"
     ]
    },
    {
     "name": "stderr",
     "output_type": "stream",
     "text": [
      "  % Total    % Received % Xferd  Average Speed   Time    Time     Time  Current\n",
      "                                 Dload  Upload   Total   Spent    Left  Speed\n",
      "100   179  100   161  100    18    155     17  0:00:01  0:00:01 --:--:--   173\n"
     ]
    },
    {
     "name": "stdout",
     "output_type": "stream",
     "text": [
      "PDB file generated successfully: /Users/jianchengluo/Desktop/CPPs/cpps_natrual/VVLGKL-YGRKKRRQRRR.pdb\n"
     ]
    },
    {
     "name": "stderr",
     "output_type": "stream",
     "text": [
      "  % Total    % Received % Xferd  Average Speed   Time    Time     Time  Current\n",
      "                                 Dload  Upload   Total   Spent    Left  Speed\n",
      "100   181  100   161  100    20    157     19  0:00:01  0:00:01 --:--:--   176\n"
     ]
    },
    {
     "name": "stdout",
     "output_type": "stream",
     "text": [
      "PDB file generated successfully: /Users/jianchengluo/Desktop/CPPs/cpps_natrual/WELVVLGK-YGRKKRRQRRR.pdb\n"
     ]
    },
    {
     "name": "stderr",
     "output_type": "stream",
     "text": [
      "  % Total    % Received % Xferd  Average Speed   Time    Time     Time  Current\n",
      "                                 Dload  Upload   Total   Spent    Left  Speed\n",
      "100   180  100   161  100    19    156     18  0:00:01  0:00:01 --:--:--   174\n"
     ]
    },
    {
     "name": "stdout",
     "output_type": "stream",
     "text": [
      "PDB file generated successfully: /Users/jianchengluo/Desktop/CPPs/cpps_natrual/WELVVLG-YGRKKRRQRRR.pdb\n"
     ]
    },
    {
     "name": "stderr",
     "output_type": "stream",
     "text": [
      "  % Total    % Received % Xferd  Average Speed   Time    Time     Time  Current\n",
      "                                 Dload  Upload   Total   Spent    Left  Speed\n",
      "100   179  100   161  100    18    157     17  0:00:01  0:00:01 --:--:--   174\n"
     ]
    },
    {
     "name": "stdout",
     "output_type": "stream",
     "text": [
      "PDB file generated successfully: /Users/jianchengluo/Desktop/CPPs/cpps_natrual/WELVVL-YGRKKRRQRRR.pdb\n"
     ]
    },
    {
     "name": "stderr",
     "output_type": "stream",
     "text": [
      "  % Total    % Received % Xferd  Average Speed   Time    Time     Time  Current\n",
      "                                 Dload  Upload   Total   Spent    Left  Speed\n",
      "100   178  100   161  100    17    155     16  0:00:01  0:00:01 --:--:--   172\n"
     ]
    },
    {
     "name": "stdout",
     "output_type": "stream",
     "text": [
      "PDB file generated successfully: /Users/jianchengluo/Desktop/CPPs/cpps_natrual/WELVV-YGRKKRRQRRR.pdb\n"
     ]
    },
    {
     "name": "stderr",
     "output_type": "stream",
     "text": [
      "  % Total    % Received % Xferd  Average Speed   Time    Time     Time  Current\n",
      "                                 Dload  Upload   Total   Spent    Left  Speed\n",
      "100   177  100   161  100    16    157     15  0:00:01  0:00:01 --:--:--   173\n"
     ]
    },
    {
     "name": "stdout",
     "output_type": "stream",
     "text": [
      "PDB file generated successfully: /Users/jianchengluo/Desktop/CPPs/cpps_natrual/WELV-YGRKKRRQRRR.pdb\n"
     ]
    },
    {
     "name": "stderr",
     "output_type": "stream",
     "text": [
      "  % Total    % Received % Xferd  Average Speed   Time    Time     Time  Current\n",
      "                                 Dload  Upload   Total   Spent    Left  Speed\n",
      "100   176  100   161  100    15    153     14  0:00:01  0:00:01 --:--:--   168\n"
     ]
    },
    {
     "name": "stdout",
     "output_type": "stream",
     "text": [
      "PDB file generated successfully: /Users/jianchengluo/Desktop/CPPs/cpps_natrual/WEL-YGRKKRRQRRR.pdb\n"
     ]
    },
    {
     "name": "stderr",
     "output_type": "stream",
     "text": [
      "  % Total    % Received % Xferd  Average Speed   Time    Time     Time  Current\n",
      "                                 Dload  Upload   Total   Spent    Left  Speed\n",
      "100   175  100   161  100    14    154     13  0:00:01  0:00:01 --:--:--   168\n"
     ]
    },
    {
     "name": "stdout",
     "output_type": "stream",
     "text": [
      "PDB file generated successfully: /Users/jianchengluo/Desktop/CPPs/cpps_natrual/WE-YGRKKRRQRRR.pdb\n"
     ]
    },
    {
     "name": "stderr",
     "output_type": "stream",
     "text": [
      "  % Total    % Received % Xferd  Average Speed   Time    Time     Time  Current\n",
      "                                 Dload  Upload   Total   Spent    Left  Speed\n",
      "100   179  100   161  100    18    157     17  0:00:01  0:00:01 --:--:--   174\n"
     ]
    },
    {
     "name": "stdout",
     "output_type": "stream",
     "text": [
      "PDB file generated successfully: /Users/jianchengluo/Desktop/CPPs/cpps_natrual/WELVVA-YGRKKRRQRRR.pdb\n"
     ]
    },
    {
     "name": "stderr",
     "output_type": "stream",
     "text": [
      "  % Total    % Received % Xferd  Average Speed   Time    Time     Time  Current\n",
      "                                 Dload  Upload   Total   Spent    Left  Speed\n",
      "100   179  100   161  100    18     61      6  0:00:03  0:00:02  0:00:01    68\n"
     ]
    },
    {
     "name": "stdout",
     "output_type": "stream",
     "text": [
      "PDB file generated successfully: /Users/jianchengluo/Desktop/CPPs/cpps_natrual/WEAVVL-YGRKKRRQRRR.pdb\n"
     ]
    },
    {
     "name": "stderr",
     "output_type": "stream",
     "text": [
      "  % Total    % Received % Xferd  Average Speed   Time    Time     Time  Current\n",
      "                                 Dload  Upload   Total   Spent    Left  Speed\n",
      "100   179  100   161  100    18    153     17  0:00:01  0:00:01 --:--:--   171\n"
     ]
    },
    {
     "name": "stdout",
     "output_type": "stream",
     "text": [
      "PDB file generated successfully: /Users/jianchengluo/Desktop/CPPs/cpps_natrual/WEAVVA-YGRKKRRQRRR.pdb\n"
     ]
    },
    {
     "name": "stderr",
     "output_type": "stream",
     "text": [
      "  % Total    % Received % Xferd  Average Speed   Time    Time     Time  Current\n",
      "                                 Dload  Upload   Total   Spent    Left  Speed\n",
      "100   182  100   161  100    21    157     20  0:00:01  0:00:01 --:--:--   177\n"
     ]
    },
    {
     "name": "stdout",
     "output_type": "stream",
     "text": [
      "PDB file generated successfully: /Users/jianchengluo/Desktop/CPPs/cpps_natrual/Ac-WELVVL-YGRKKRRQRRR.pdb\n"
     ]
    },
    {
     "name": "stderr",
     "output_type": "stream",
     "text": [
      "  % Total    % Received % Xferd  Average Speed   Time    Time     Time  Current\n",
      "                                 Dload  Upload   Total   Spent    Left  Speed\n",
      "100 12452  100 12435  100    17   5416      7  0:00:02  0:00:02 --:--:--  5423\n"
     ]
    },
    {
     "name": "stdout",
     "output_type": "stream",
     "text": [
      "PDB file generated successfully: /Users/jianchengluo/Desktop/CPPs/cpps_natrual/GLKKLARLFHKLLKLGC.pdb\n"
     ]
    },
    {
     "name": "stderr",
     "output_type": "stream",
     "text": [
      "  % Total    % Received % Xferd  Average Speed   Time    Time     Time  Current\n",
      "                                 Dload  Upload   Total   Spent    Left  Speed\n",
      "100 12290  100 12273  100    17   5235      7  0:00:02  0:00:02 --:--:--  5243\n"
     ]
    },
    {
     "name": "stdout",
     "output_type": "stream",
     "text": [
      "PDB file generated successfully: /Users/jianchengluo/Desktop/CPPs/cpps_natrual/GLKKLAELFHKLLKLGC.pdb\n"
     ]
    },
    {
     "name": "stderr",
     "output_type": "stream",
     "text": [
      "  % Total    % Received % Xferd  Average Speed   Time    Time     Time  Current\n",
      "                                 Dload  Upload   Total   Spent    Left  Speed\n",
      "100 11966  100 11949  100    17   2784      3  0:00:05  0:00:04  0:00:01  2789\n"
     ]
    },
    {
     "name": "stdout",
     "output_type": "stream",
     "text": [
      "PDB file generated successfully: /Users/jianchengluo/Desktop/CPPs/cpps_natrual/GLKKLARLAHKLLKLGC.pdb\n"
     ]
    },
    {
     "name": "stderr",
     "output_type": "stream",
     "text": [
      "  % Total    % Received % Xferd  Average Speed   Time    Time     Time  Current\n",
      "                                 Dload  Upload   Total   Spent    Left  Speed\n",
      "100 11804  100 11787  100    17   4909      7  0:00:02  0:00:02 --:--:--  4916\n"
     ]
    },
    {
     "name": "stdout",
     "output_type": "stream",
     "text": [
      "PDB file generated successfully: /Users/jianchengluo/Desktop/CPPs/cpps_natrual/GLKKLAELAHKLLKLGC.pdb\n"
     ]
    },
    {
     "name": "stderr",
     "output_type": "stream",
     "text": [
      "  % Total    % Received % Xferd  Average Speed   Time    Time     Time  Current\n",
      "                                 Dload  Upload   Total   Spent    Left  Speed\n",
      "100 11152  100 11139  100    13   4710      5  0:00:02  0:00:02 --:--:--  4717\n"
     ]
    },
    {
     "name": "stdout",
     "output_type": "stream",
     "text": [
      "PDB file generated successfully: /Users/jianchengluo/Desktop/CPPs/cpps_natrual/YGRKKRRQRRRGC.pdb\n"
     ]
    },
    {
     "name": "stderr",
     "output_type": "stream",
     "text": [
      "  % Total    % Received % Xferd  Average Speed   Time    Time     Time  Current\n",
      "                                 Dload  Upload   Total   Spent    Left  Speed\n",
      "100 10340  100 10329  100    11   3731      3  0:00:03  0:00:02  0:00:01  3734\n"
     ]
    },
    {
     "name": "stdout",
     "output_type": "stream",
     "text": [
      "PDB file generated successfully: /Users/jianchengluo/Desktop/CPPs/cpps_natrual/YGRKKRRQRRR.pdb\n"
     ]
    },
    {
     "name": "stderr",
     "output_type": "stream",
     "text": [
      "  % Total    % Received % Xferd  Average Speed   Time    Time     Time  Current\n",
      "                                 Dload  Upload   Total   Spent    Left  Speed\n",
      "100 30050  100 30012  100    38  10644     13  0:00:02  0:00:02 --:--:-- 10656\n"
     ]
    },
    {
     "name": "stdout",
     "output_type": "stream",
     "text": [
      "PDB file generated successfully: /Users/jianchengluo/Desktop/CPPs/cpps_natrual/RLRLRLRLRLRLRLRLKRLKRLKRLKRLKKKKKKKGYK.pdb\n"
     ]
    },
    {
     "name": "stderr",
     "output_type": "stream",
     "text": [
      "  % Total    % Received % Xferd  Average Speed   Time    Time     Time  Current\n",
      "                                 Dload  Upload   Total   Spent    Left  Speed\n",
      "100 29078  100 29040  100    38  10173     13  0:00:02  0:00:02 --:--:-- 10184\n"
     ]
    },
    {
     "name": "stdout",
     "output_type": "stream",
     "text": [
      "PDB file generated successfully: /Users/jianchengluo/Desktop/CPPs/cpps_natrual/RLRLRLRLRLRLRLRLKLLKLLKLLKLLKKKKKKKGYK.pdb\n"
     ]
    },
    {
     "name": "stderr",
     "output_type": "stream",
     "text": [
      "  % Total    % Received % Xferd  Average Speed   Time    Time     Time  Current\n",
      "                                 Dload  Upload   Total   Spent    Left  Speed\n",
      "100 29078  100 29040  100    38  10092     13  0:00:02  0:00:02 --:--:-- 10103\n"
     ]
    },
    {
     "name": "stdout",
     "output_type": "stream",
     "text": [
      "PDB file generated successfully: /Users/jianchengluo/Desktop/CPPs/cpps_natrual/RLRLRLRLRLRLRLRLKNNKNNKNNKNNKKKKKKKGYK.pdb\n"
     ]
    },
    {
     "name": "stderr",
     "output_type": "stream",
     "text": [
      "  % Total    % Received % Xferd  Average Speed   Time    Time     Time  Current\n",
      "                                 Dload  Upload   Total   Spent    Left  Speed\n",
      "100 28916  100 28878  100    38   5776      7  0:00:05  0:00:04  0:00:01  7248\n"
     ]
    },
    {
     "name": "stdout",
     "output_type": "stream",
     "text": [
      "PDB file generated successfully: /Users/jianchengluo/Desktop/CPPs/cpps_natrual/GYGYGYGYGYGYGYGYKKRKKRKKRKKRKQQKQQKRRK.pdb\n"
     ]
    },
    {
     "name": "stderr",
     "output_type": "stream",
     "text": [
      "  % Total    % Received % Xferd  Average Speed   Time    Time     Time  Current\n",
      "                                 Dload  Upload   Total   Spent    Left  Speed\n",
      "100 28916  100 28878  100    38  17426     22  0:00:01  0:00:01 --:--:-- 17461\n"
     ]
    },
    {
     "name": "stdout",
     "output_type": "stream",
     "text": [
      "PDB file generated successfully: /Users/jianchengluo/Desktop/CPPs/cpps_natrual/GYGYGYGYGYGYGYGYKKRKKRKKRKKRKQQKQQKRRK.pdb\n"
     ]
    },
    {
     "name": "stderr",
     "output_type": "stream",
     "text": [
      "  % Total    % Received % Xferd  Average Speed   Time    Time     Time  Current\n",
      "                                 Dload  Upload   Total   Spent    Left  Speed\n",
      "100 13914  100 13893  100    21  11059     16  0:00:01  0:00:01 --:--:-- 11069\n"
     ]
    },
    {
     "name": "stdout",
     "output_type": "stream",
     "text": [
      "PDB file generated successfully: /Users/jianchengluo/Desktop/CPPs/cpps_natrual/AGYLLGKINLKALAALAKKIL.pdb\n"
     ]
    },
    {
     "name": "stderr",
     "output_type": "stream",
     "text": [
      "  % Total    % Received % Xferd  Average Speed   Time    Time     Time  Current\n",
      "                                 Dload  Upload   Total   Spent    Left  Speed\n",
      "100 24785  100 24747  100    38   9656     14  0:00:02  0:00:02 --:--:--  9674\n"
     ]
    },
    {
     "name": "stdout",
     "output_type": "stream",
     "text": [
      "PDB file generated successfully: /Users/jianchengluo/Desktop/CPPs/cpps_natrual/ALALALALALALALALKIKKIKKIKKIKKLAKLAKKIK.pdb\n"
     ]
    },
    {
     "name": "stderr",
     "output_type": "stream",
     "text": [
      "  % Total    % Received % Xferd  Average Speed   Time    Time     Time  Current\n",
      "                                 Dload  Upload   Total   Spent    Left  Speed\n",
      "100 25433  100 25395  100    38   4903      7  0:00:05  0:00:05 --:--:--  5172\n"
     ]
    },
    {
     "name": "stdout",
     "output_type": "stream",
     "text": [
      "PDB file generated successfully: /Users/jianchengluo/Desktop/CPPs/cpps_natrual/LALALALALALALALAKKLKKLKKLKKLKKLKKLKYAK.pdb\n"
     ]
    },
    {
     "name": "stderr",
     "output_type": "stream",
     "text": [
      "  % Total    % Received % Xferd  Average Speed   Time    Time     Time  Current\n",
      "                                 Dload  Upload   Total   Spent    Left  Speed\n",
      "100 25433  100 25395  100    38  19424     29  0:00:01  0:00:01 --:--:-- 19444\n"
     ]
    },
    {
     "name": "stdout",
     "output_type": "stream",
     "text": [
      "PDB file generated successfully: /Users/jianchengluo/Desktop/CPPs/cpps_natrual/LALALALALALALALAKKLKKLKKLKKLKKLKKLKYAK.pdb\n"
     ]
    },
    {
     "name": "stderr",
     "output_type": "stream",
     "text": [
      "  % Total    % Received % Xferd  Average Speed   Time    Time     Time  Current\n",
      "                                 Dload  Upload   Total   Spent    Left  Speed\n",
      "100 26081  100 26043  100    38  10097     14  0:00:02  0:00:02 --:--:-- 10116\n"
     ]
    },
    {
     "name": "stdout",
     "output_type": "stream",
     "text": [
      "PDB file generated successfully: /Users/jianchengluo/Desktop/CPPs/cpps_natrual/IKIKIKIKIKIKIKIKKLAKLAKLAKLAKLAKLAKKIK.pdb\n"
     ]
    },
    {
     "name": "stderr",
     "output_type": "stream",
     "text": [
      "  % Total    % Received % Xferd  Average Speed   Time    Time     Time  Current\n",
      "                                 Dload  Upload   Total   Spent    Left  Speed\n",
      "100 26081  100 26043  100    38  15463     22  0:00:01  0:00:01 --:--:-- 15487\n"
     ]
    },
    {
     "name": "stdout",
     "output_type": "stream",
     "text": [
      "PDB file generated successfully: /Users/jianchengluo/Desktop/CPPs/cpps_natrual/IKIKIKIKIKIKIKIKKLAKLAKLAKLAKLAKLAKKIK.pdb\n"
     ]
    },
    {
     "name": "stderr",
     "output_type": "stream",
     "text": [
      "  % Total    % Received % Xferd  Average Speed   Time    Time     Time  Current\n",
      "                                 Dload  Upload   Total   Spent    Left  Speed\n",
      "100 24785  100 24747  100    38   7719     11  0:00:03  0:00:03 --:--:--  7733\n"
     ]
    },
    {
     "name": "stdout",
     "output_type": "stream",
     "text": [
      "PDB file generated successfully: /Users/jianchengluo/Desktop/CPPs/cpps_natrual/LALALALALALALALAKIKKIKKIKKIKKLAKLAKKIK.pdb\n"
     ]
    },
    {
     "name": "stderr",
     "output_type": "stream",
     "text": [
      "  % Total    % Received % Xferd  Average Speed   Time    Time     Time  Current\n",
      "                                 Dload  Upload   Total   Spent    Left  Speed\n",
      "100 23082  100 23046  100    36   8568     13  0:00:02  0:00:02 --:--:--  8580\n"
     ]
    },
    {
     "name": "stdout",
     "output_type": "stream",
     "text": [
      "PDB file generated successfully: /Users/jianchengluo/Desktop/CPPs/cpps_natrual/LALALALALALALAKLAKLAKLAKLAKIKKIKKKIK.pdb\n"
     ]
    },
    {
     "name": "stderr",
     "output_type": "stream",
     "text": [
      "  % Total    % Received % Xferd  Average Speed   Time    Time     Time  Current\n",
      "                                 Dload  Upload   Total   Spent    Left  Speed\n",
      "100 21704  100 21669  100    35   8155     13  0:00:02  0:00:02 --:--:--  8165\n"
     ]
    },
    {
     "name": "stdout",
     "output_type": "stream",
     "text": [
      "PDB file generated successfully: /Users/jianchengluo/Desktop/CPPs/cpps_natrual/LALALALALALALALAKLAKLAKLAKLAKLAKKIK.pdb\n"
     ]
    },
    {
     "name": "stderr",
     "output_type": "stream",
     "text": [
      "  % Total    % Received % Xferd  Average Speed   Time    Time     Time  Current\n",
      "                                 Dload  Upload   Total   Spent    Left  Speed\n",
      "100 14073  100 14055  100    18  11173     14  0:00:01  0:00:01 --:--:-- 11195\n"
     ]
    },
    {
     "name": "stdout",
     "output_type": "stream",
     "text": [
      "PDB file generated successfully: /Users/jianchengluo/Desktop/CPPs/cpps_natrual/LLIILRRRIRKQAHAHSK.pdb\n"
     ]
    },
    {
     "name": "stderr",
     "output_type": "stream",
     "text": [
      "  % Total    % Received % Xferd  Average Speed   Time    Time     Time  Current\n",
      "                                 Dload  Upload   Total   Spent    Left  Speed\n",
      "100 28106  100 28068  100    38   6102      8  0:00:04  0:00:04 --:--:--  6875\n"
     ]
    },
    {
     "name": "stdout",
     "output_type": "stream",
     "text": [
      "PDB file generated successfully: /Users/jianchengluo/Desktop/CPPs/cpps_natrual/LILILILILILILILIKRKKRKKRKKRKKRAKRAKHSK.pdb\n"
     ]
    },
    {
     "name": "stderr",
     "output_type": "stream",
     "text": [
      "  % Total    % Received % Xferd  Average Speed   Time    Time     Time  Current\n",
      "                                 Dload  Upload   Total   Spent    Left  Speed\n",
      "100 28106  100 28068  100    38  17766     24  0:00:01  0:00:01 --:--:-- 17799\n"
     ]
    },
    {
     "name": "stdout",
     "output_type": "stream",
     "text": [
      "PDB file generated successfully: /Users/jianchengluo/Desktop/CPPs/cpps_natrual/LILILILILILILILIKRKKRKKRKKRKKRAKRAKHSK.pdb\n"
     ]
    },
    {
     "name": "stderr",
     "output_type": "stream",
     "text": [
      "  % Total    % Received % Xferd  Average Speed   Time    Time     Time  Current\n",
      "                                 Dload  Upload   Total   Spent    Left  Speed\n",
      "100  9042  100  9033  100     9   8107      8  0:00:01  0:00:01 --:--:--  8116\n"
     ]
    },
    {
     "name": "stdout",
     "output_type": "stream",
     "text": [
      "PDB file generated successfully: /Users/jianchengluo/Desktop/CPPs/cpps_natrual/RKKRRQRRR.pdb\n"
     ]
    },
    {
     "name": "stderr",
     "output_type": "stream",
     "text": [
      "  % Total    % Received % Xferd  Average Speed   Time    Time     Time  Current\n",
      "                                 Dload  Upload   Total   Spent    Left  Speed\n",
      "100 10179  100 10167  100    12   4151      4  0:00:03  0:00:02  0:00:01  4156\n"
     ]
    },
    {
     "name": "stdout",
     "output_type": "stream",
     "text": [
      "PDB file generated successfully: /Users/jianchengluo/Desktop/CPPs/cpps_natrual/GRKKRRQRRRCG.pdb\n"
     ]
    },
    {
     "name": "stderr",
     "output_type": "stream",
     "text": [
      "  % Total    % Received % Xferd  Average Speed   Time    Time     Time  Current\n",
      "                                 Dload  Upload   Total   Spent    Left  Speed\n",
      "100 11803  100 11787  100    16   5080      6  0:00:02  0:00:02 --:--:--  5089\n"
     ]
    },
    {
     "name": "stdout",
     "output_type": "stream",
     "text": [
      "PDB file generated successfully: /Users/jianchengluo/Desktop/CPPs/cpps_natrual/LKKLLKLLKKLLKLAG.pdb\n"
     ]
    },
    {
     "name": "stderr",
     "output_type": "stream",
     "text": [
      "  % Total    % Received % Xferd  Average Speed   Time    Time     Time  Current\n",
      "                                 Dload  Upload   Total   Spent    Left  Speed\n",
      "100 11479  100 11463  100    16   2729      3  0:00:05  0:00:04  0:00:01  2733\n"
     ]
    },
    {
     "name": "stdout",
     "output_type": "stream",
     "text": [
      "PDB file generated successfully: /Users/jianchengluo/Desktop/CPPs/cpps_natrual/LKKLCKLLKKLCKLAG.pdb\n"
     ]
    },
    {
     "name": "stderr",
     "output_type": "stream",
     "text": [
      "  % Total    % Received % Xferd  Average Speed   Time    Time     Time  Current\n",
      "                                 Dload  Upload   Total   Spent    Left  Speed\n",
      "100  9528  100  9519  100     9   9069      8  0:00:01  0:00:01 --:--:--  9082\n"
     ]
    },
    {
     "name": "stdout",
     "output_type": "stream",
     "text": [
      "PDB file generated successfully: /Users/jianchengluo/Desktop/CPPs/cpps_natrual/RRRRRRRRR.pdb\n"
     ]
    },
    {
     "name": "stderr",
     "output_type": "stream",
     "text": [
      "  % Total    % Received % Xferd  Average Speed   Time    Time     Time  Current\n",
      "                                 Dload  Upload   Total   Spent    Left  Speed\n",
      "100 15777  100 15756  100    21   5799      7  0:00:03  0:00:02  0:00:01  5808\n"
     ]
    },
    {
     "name": "stdout",
     "output_type": "stream",
     "text": [
      "PDB file generated successfully: /Users/jianchengluo/Desktop/CPPs/cpps_natrual/VTPHHVLVDEYTGEWVDSQFK.pdb\n"
     ]
    },
    {
     "name": "stderr",
     "output_type": "stream",
     "text": [
      "  % Total    % Received % Xferd  Average Speed   Time    Time     Time  Current\n",
      "                                 Dload  Upload   Total   Spent    Left  Speed\n",
      "100  9608  100  9600  100     8   4132      3  0:00:02  0:00:02 --:--:--  4136\n"
     ]
    },
    {
     "name": "stdout",
     "output_type": "stream",
     "text": [
      "PDB file generated successfully: /Users/jianchengluo/Desktop/CPPs/cpps_natrual/RRRRWWWW.pdb\n"
     ]
    },
    {
     "name": "stderr",
     "output_type": "stream",
     "text": [
      "  % Total    % Received % Xferd  Average Speed   Time    Time     Time  Current\n",
      "                                 Dload  Upload   Total   Spent    Left  Speed\n",
      "100 13914  100 13893  100    21  10807     16  0:00:01  0:00:01 --:--:-- 10828\n"
     ]
    },
    {
     "name": "stdout",
     "output_type": "stream",
     "text": [
      "PDB file generated successfully: /Users/jianchengluo/Desktop/CPPs/cpps_natrual/AGYLLGKINLKALAALAKKIL.pdb\n"
     ]
    },
    {
     "name": "stderr",
     "output_type": "stream",
     "text": [
      "  % Total    % Received % Xferd  Average Speed   Time    Time     Time  Current\n",
      "                                 Dload  Upload   Total   Spent    Left  Speed\n",
      "100 13833  100 13812  100    21   3760      5  0:00:04  0:00:03  0:00:01  3766\n"
     ]
    },
    {
     "name": "stdout",
     "output_type": "stream",
     "text": [
      "PDB file generated successfully: /Users/jianchengluo/Desktop/CPPs/cpps_natrual/AGYLLGKTNLKALAALAKKIL.pdb\n"
     ]
    },
    {
     "name": "stderr",
     "output_type": "stream",
     "text": [
      "  % Total    % Received % Xferd  Average Speed   Time    Time     Time  Current\n",
      "                                 Dload  Upload   Total   Spent    Left  Speed\n",
      "100 10340  100 10329  100    11   9648     10  0:00:01  0:00:01 --:--:--  9663\n"
     ]
    },
    {
     "name": "stdout",
     "output_type": "stream",
     "text": [
      "PDB file generated successfully: /Users/jianchengluo/Desktop/CPPs/cpps_natrual/YGRKKRRQRRR.pdb\n"
     ]
    },
    {
     "name": "stderr",
     "output_type": "stream",
     "text": [
      "  % Total    % Received % Xferd  Average Speed   Time    Time     Time  Current\n",
      "                                 Dload  Upload   Total   Spent    Left  Speed\n",
      "100  7825  100  7818  100     7   3327      2  0:00:03  0:00:02  0:00:01  3331\n"
     ]
    },
    {
     "name": "stdout",
     "output_type": "stream",
     "text": [
      "PDB file generated successfully: /Users/jianchengluo/Desktop/CPPs/cpps_natrual/KRKRWHW.pdb\n"
     ]
    },
    {
     "name": "stderr",
     "output_type": "stream",
     "text": [
      "  % Total    % Received % Xferd  Average Speed   Time    Time     Time  Current\n",
      "                                 Dload  Upload   Total   Spent    Left  Speed\n",
      "100   179  100   161  100    18    156     17  0:00:01  0:00:01 --:--:--   173\n"
     ]
    },
    {
     "name": "stdout",
     "output_type": "stream",
     "text": [
      "PDB file generated successfully: /Users/jianchengluo/Desktop/CPPs/cpps_natrual/HEHEHEHEHE-PEG-PLA.pdb\n"
     ]
    },
    {
     "name": "stderr",
     "output_type": "stream",
     "text": [
      "  % Total    % Received % Xferd  Average Speed   Time    Time     Time  Current\n",
      "                                 Dload  Upload   Total   Spent    Left  Speed\n",
      "100   179  100   161  100    18    154     17  0:00:01  0:00:01 --:--:--   172\n"
     ]
    },
    {
     "name": "stdout",
     "output_type": "stream",
     "text": [
      "PDB file generated successfully: /Users/jianchengluo/Desktop/CPPs/cpps_natrual/RGRGRGRGRG-PEG-PLA.pdb\n"
     ]
    },
    {
     "name": "stderr",
     "output_type": "stream",
     "text": [
      "  % Total    % Received % Xferd  Average Speed   Time    Time     Time  Current\n",
      "                                 Dload  Upload   Total   Spent    Left  Speed\n",
      "100   180  100   161  100    19     61      7  0:00:02  0:00:02 --:--:--    69\n"
     ]
    },
    {
     "name": "stdout",
     "output_type": "stream",
     "text": [
      "PDB file generated successfully: /Users/jianchengluo/Desktop/CPPs/cpps_natrual/mPEG-PLA-HEHEHEHEHE.pdb\n"
     ]
    },
    {
     "name": "stderr",
     "output_type": "stream",
     "text": [
      "  % Total    % Received % Xferd  Average Speed   Time    Time     Time  Current\n",
      "                                 Dload  Upload   Total   Spent    Left  Speed\n",
      "100   180  100   161  100    19    118     13  0:00:01  0:00:01 --:--:--   132\n"
     ]
    },
    {
     "name": "stdout",
     "output_type": "stream",
     "text": [
      "PDB file generated successfully: /Users/jianchengluo/Desktop/CPPs/cpps_natrual/mPEG-PLA-RGRGRGRGRG.pdb\n"
     ]
    },
    {
     "name": "stderr",
     "output_type": "stream",
     "text": [
      "  % Total    % Received % Xferd  Average Speed   Time    Time     Time  Current\n",
      "                                 Dload  Upload   Total   Spent    Left  Speed\n",
      "100 18372  100 18348  100    24   9844     12  0:00:02  0:00:01  0:00:01  9856\n"
     ]
    },
    {
     "name": "stdout",
     "output_type": "stream",
     "text": [
      "PDB file generated successfully: /Users/jianchengluo/Desktop/CPPs/cpps_natrual/RRIRPRPPRLPRPRPRPLPFPRPG.pdb\n"
     ]
    },
    {
     "name": "stderr",
     "output_type": "stream",
     "text": [
      "  % Total    % Received % Xferd  Average Speed   Time    Time     Time  Current\n",
      "                                 Dload  Upload   Total   Spent    Left  Speed\n",
      "100 10340  100 10329  100    11   9828     10  0:00:01  0:00:01 --:--:--  9847\n"
     ]
    },
    {
     "name": "stdout",
     "output_type": "stream",
     "text": [
      "PDB file generated successfully: /Users/jianchengluo/Desktop/CPPs/cpps_natrual/YGRKKRRQRRR.pdb\n"
     ]
    },
    {
     "name": "stderr",
     "output_type": "stream",
     "text": [
      "  % Total    % Received % Xferd  Average Speed   Time    Time     Time  Current\n",
      "                                 Dload  Upload   Total   Spent    Left  Speed\n",
      "100 28020  100 27987  100    33  10249     12  0:00:02  0:00:02 --:--:-- 10259\n"
     ]
    },
    {
     "name": "stdout",
     "output_type": "stream",
     "text": [
      "PDB file generated successfully: /Users/jianchengluo/Desktop/CPPs/cpps_natrual/YGRKKRRQRRRYGRKKRRQRRRYGRKKRRQRRR.pdb\n"
     ]
    },
    {
     "name": "stderr",
     "output_type": "stream",
     "text": [
      "  % Total    % Received % Xferd  Average Speed   Time    Time     Time  Current\n",
      "                                 Dload  Upload   Total   Spent    Left  Speed\n",
      "100 14314  100 14298  100    16  11112     12  0:00:01  0:00:01 --:--:-- 11130\n"
     ]
    },
    {
     "name": "stdout",
     "output_type": "stream",
     "text": [
      "PDB file generated successfully: /Users/jianchengluo/Desktop/CPPs/cpps_natrual/RQIKIWFQNRRMKWKK.pdb\n"
     ]
    },
    {
     "name": "stderr",
     "output_type": "stream",
     "text": [
      "  % Total    % Received % Xferd  Average Speed   Time    Time     Time  Current\n",
      "                                 Dload  Upload   Total   Spent    Left  Speed\n",
      "100 20650  100 20616  100    34   7750     12  0:00:02  0:00:02 --:--:--  7763\n"
     ]
    },
    {
     "name": "stdout",
     "output_type": "stream",
     "text": [
      "PDB file generated successfully: /Users/jianchengluo/Desktop/CPPs/cpps_natrual/GGVCPKILKKCRRDSDCPGACICRGNGYCGSGSD.pdb\n"
     ]
    },
    {
     "name": "stderr",
     "output_type": "stream",
     "text": [
      "  % Total    % Received % Xferd  Average Speed   Time    Time     Time  Current\n",
      "                                 Dload  Upload   Total   Spent    Left  Speed\n",
      "100 20812  100 20778  100    34   7598     12  0:00:02  0:00:02 --:--:--  7609\n"
     ]
    },
    {
     "name": "stdout",
     "output_type": "stream",
     "text": [
      "PDB file generated successfully: /Users/jianchengluo/Desktop/CPPs/cpps_natrual/GGVCPKILKKCRRDSDCPGACICRGNGWCGSGSD.pdb\n"
     ]
    },
    {
     "name": "stderr",
     "output_type": "stream",
     "text": [
      "  % Total    % Received % Xferd  Average Speed   Time    Time     Time  Current\n",
      "                                 Dload  Upload   Total   Spent    Left  Speed\n",
      "100 20974  100 20940  100    34   7986     12  0:00:02  0:00:02 --:--:--  7999\n"
     ]
    },
    {
     "name": "stdout",
     "output_type": "stream",
     "text": [
      "PDB file generated successfully: /Users/jianchengluo/Desktop/CPPs/cpps_natrual/GGVCPKILRRCRRDSDCPGACICRGNGYCGSGSD.pdb\n"
     ]
    },
    {
     "name": "stderr",
     "output_type": "stream",
     "text": [
      "  % Total    % Received % Xferd  Average Speed   Time    Time     Time  Current\n",
      "                                 Dload  Upload   Total   Spent    Left  Speed\n",
      "100 21136  100 21102  100    34   8191     13  0:00:02  0:00:02 --:--:--  8204\n"
     ]
    },
    {
     "name": "stdout",
     "output_type": "stream",
     "text": [
      "PDB file generated successfully: /Users/jianchengluo/Desktop/CPPs/cpps_natrual/GGVCPKILRRCRRDSDCPGACICRGNGWCGSGSD.pdb\n"
     ]
    },
    {
     "name": "stderr",
     "output_type": "stream",
     "text": [
      "  % Total    % Received % Xferd  Average Speed   Time    Time     Time  Current\n",
      "                                 Dload  Upload   Total   Spent    Left  Speed\n",
      "100 21217  100 21183  100    34   5379      8  0:00:04  0:00:03  0:00:01  5387\n"
     ]
    },
    {
     "name": "stdout",
     "output_type": "stream",
     "text": [
      "PDB file generated successfully: /Users/jianchengluo/Desktop/CPPs/cpps_natrual/GGVCPKILRRCRRDSDCPGACICRGNGYCGSGSR.pdb\n"
     ]
    },
    {
     "name": "stderr",
     "output_type": "stream",
     "text": [
      "  % Total    % Received % Xferd  Average Speed   Time    Time     Time  Current\n",
      "                                 Dload  Upload   Total   Spent    Left  Speed\n",
      "100 21217  100 21183  100    34   7574     12  0:00:02  0:00:02 --:--:--  7585\n"
     ]
    },
    {
     "name": "stdout",
     "output_type": "stream",
     "text": [
      "PDB file generated successfully: /Users/jianchengluo/Desktop/CPPs/cpps_natrual/GGVCPRILRRCRRDSDCPGACICRGNGYCGSGSK.pdb\n"
     ]
    },
    {
     "name": "stderr",
     "output_type": "stream",
     "text": [
      "  % Total    % Received % Xferd  Average Speed   Time    Time     Time  Current\n",
      "                                 Dload  Upload   Total   Spent    Left  Speed\n",
      "100 20650  100 20616  100    34  16040     26  0:00:01  0:00:01 --:--:-- 16070\n"
     ]
    },
    {
     "name": "stdout",
     "output_type": "stream",
     "text": [
      "PDB file generated successfully: /Users/jianchengluo/Desktop/CPPs/cpps_natrual/GGVCPKILKKCRRDSDCPGACICRGNGYCGSGSD.pdb\n"
     ]
    },
    {
     "name": "stderr",
     "output_type": "stream",
     "text": [
      "  % Total    % Received % Xferd  Average Speed   Time    Time     Time  Current\n",
      "                                 Dload  Upload   Total   Spent    Left  Speed\n",
      "100 10019  100 10005  100    14   4381      6  0:00:02  0:00:02 --:--:--  4386\n"
     ]
    },
    {
     "name": "stdout",
     "output_type": "stream",
     "text": [
      "PDB file generated successfully: /Users/jianchengluo/Desktop/CPPs/cpps_natrual/GRCTKSIPPICFPD.pdb\n"
     ]
    },
    {
     "name": "stderr",
     "output_type": "stream",
     "text": [
      "  % Total    % Received % Xferd  Average Speed   Time    Time     Time  Current\n",
      "                                 Dload  Upload   Total   Spent    Left  Speed\n",
      "100  9533  100  9519  100    14   4069      5  0:00:02  0:00:02 --:--:--  4077\n"
     ]
    },
    {
     "name": "stdout",
     "output_type": "stream",
     "text": [
      "PDB file generated successfully: /Users/jianchengluo/Desktop/CPPs/cpps_natrual/GACTKSIPPICFPD.pdb\n"
     ]
    },
    {
     "name": "stderr",
     "output_type": "stream",
     "text": [
      "  % Total    % Received % Xferd  Average Speed   Time    Time     Time  Current\n",
      "                                 Dload  Upload   Total   Spent    Left  Speed\n",
      "100  9776  100  9762  100    14   2757      3  0:00:04  0:00:03  0:00:01  2761\n"
     ]
    },
    {
     "name": "stdout",
     "output_type": "stream",
     "text": [
      "PDB file generated successfully: /Users/jianchengluo/Desktop/CPPs/cpps_natrual/GRCTKSIPPICFPA.pdb\n"
     ]
    },
    {
     "name": "stderr",
     "output_type": "stream",
     "text": [
      "  % Total    % Received % Xferd  Average Speed   Time    Time     Time  Current\n",
      "                                 Dload  Upload   Total   Spent    Left  Speed\n",
      "100 10262  100 10248  100    14   4112      5  0:00:02  0:00:02 --:--:--  4119\n"
     ]
    },
    {
     "name": "stdout",
     "output_type": "stream",
     "text": [
      "PDB file generated successfully: /Users/jianchengluo/Desktop/CPPs/cpps_natrual/GRCTKSIPPICWPD.pdb\n"
     ]
    },
    {
     "name": "stderr",
     "output_type": "stream",
     "text": [
      "  % Total    % Received % Xferd  Average Speed   Time    Time     Time  Current\n",
      "                                 Dload  Upload   Total   Spent    Left  Speed\n",
      "100 10343  100 10329  100    14   4348      5  0:00:02  0:00:02 --:--:--  4354\n"
     ]
    },
    {
     "name": "stdout",
     "output_type": "stream",
     "text": [
      "PDB file generated successfully: /Users/jianchengluo/Desktop/CPPs/cpps_natrual/GRCTKSIPPICWPK.pdb\n"
     ]
    },
    {
     "name": "stderr",
     "output_type": "stream",
     "text": [
      "  % Total    % Received % Xferd  Average Speed   Time    Time     Time  Current\n",
      "                                 Dload  Upload   Total   Spent    Left  Speed\n",
      "100 10505  100 10491  100    14   4413      5  0:00:02  0:00:02 --:--:--  4421\n"
     ]
    },
    {
     "name": "stdout",
     "output_type": "stream",
     "text": [
      "PDB file generated successfully: /Users/jianchengluo/Desktop/CPPs/cpps_natrual/GRCTRSIPPKCWPD.pdb\n"
     ]
    },
    {
     "name": "stderr",
     "output_type": "stream",
     "text": [
      "  % Total    % Received % Xferd  Average Speed   Time    Time     Time  Current\n",
      "                                 Dload  Upload   Total   Spent    Left  Speed\n",
      "100 12531  100 12516  100    15   5287      6  0:00:02  0:00:02 --:--:--  5294\n"
     ]
    },
    {
     "name": "stdout",
     "output_type": "stream",
     "text": [
      "PDB file generated successfully: /Users/jianchengluo/Desktop/CPPs/cpps_natrual/YGRKKRRQRRRPPQG.pdb\n"
     ]
    },
    {
     "name": "stderr",
     "output_type": "stream",
     "text": [
      "  % Total    % Received % Xferd  Average Speed   Time    Time     Time  Current\n",
      "                                 Dload  Upload   Total   Spent    Left  Speed\n",
      "100 20403  100 20373  100    30   7716     11  0:00:02  0:00:02 --:--:--  7725\n"
     ]
    },
    {
     "name": "stdout",
     "output_type": "stream",
     "text": [
      "PDB file generated successfully: /Users/jianchengluo/Desktop/CPPs/cpps_natrual/WEARLARALARALARHLARALARALRACEA.pdb\n"
     ]
    },
    {
     "name": "stderr",
     "output_type": "stream",
     "text": [
      "  % Total    % Received % Xferd  Average Speed   Time    Time     Time  Current\n",
      "                                 Dload  Upload   Total   Spent    Left  Speed\n",
      "100 12125  100 12111  100    14  11596     13  0:00:01  0:00:01 --:--:-- 11613\n"
     ]
    },
    {
     "name": "stdout",
     "output_type": "stream",
     "text": [
      "PDB file generated successfully: /Users/jianchengluo/Desktop/CPPs/cpps_natrual/VSRRRRRRGGRRRR.pdb\n"
     ]
    },
    {
     "name": "stderr",
     "output_type": "stream",
     "text": [
      "  % Total    % Received % Xferd  Average Speed   Time    Time     Time  Current\n",
      "                                 Dload  Upload   Total   Spent    Left  Speed\n",
      "100 28755  100 28716  100    39   6493      8  0:00:04  0:00:04 --:--:--  7352\n"
     ]
    },
    {
     "name": "stdout",
     "output_type": "stream",
     "text": [
      "PDB file generated successfully: /Users/jianchengluo/Desktop/CPPs/cpps_natrual/HSDAVFTDNYTALRKQMAVKKYLNSILNYGRKKRRQRRR.pdb\n"
     ]
    },
    {
     "name": "stderr",
     "output_type": "stream",
     "text": [
      "  % Total    % Received % Xferd  Average Speed   Time    Time     Time  Current\n",
      "                                 Dload  Upload   Total   Spent    Left  Speed\n",
      "100 11312  100 11301  100    11  10758     10  0:00:01  0:00:01 --:--:-- 10773\n"
     ]
    },
    {
     "name": "stdout",
     "output_type": "stream",
     "text": [
      "PDB file generated successfully: /Users/jianchengluo/Desktop/CPPs/cpps_natrual/RRRRRRRRRRR.pdb\n"
     ]
    },
    {
     "name": "stderr",
     "output_type": "stream",
     "text": [
      "  % Total    % Received % Xferd  Average Speed   Time    Time     Time  Current\n",
      "                                 Dload  Upload   Total   Spent    Left  Speed\n",
      "100 11312  100 11301  100    11  10815     10  0:00:01  0:00:01 --:--:-- 10835\n"
     ]
    },
    {
     "name": "stdout",
     "output_type": "stream",
     "text": [
      "PDB file generated successfully: /Users/jianchengluo/Desktop/CPPs/cpps_natrual/RRRRRRRRRRR.pdb\n"
     ]
    },
    {
     "name": "stderr",
     "output_type": "stream",
     "text": [
      "  % Total    % Received % Xferd  Average Speed   Time    Time     Time  Current\n",
      "                                 Dload  Upload   Total   Spent    Left  Speed\n",
      "100 11312  100 11301  100    11  10195      9  0:00:01  0:00:01 --:--:-- 10209\n"
     ]
    },
    {
     "name": "stdout",
     "output_type": "stream",
     "text": [
      "PDB file generated successfully: /Users/jianchengluo/Desktop/CPPs/cpps_natrual/RRRRRRRRRRR.pdb\n"
     ]
    },
    {
     "name": "stderr",
     "output_type": "stream",
     "text": [
      "  % Total    % Received % Xferd  Average Speed   Time    Time     Time  Current\n",
      "                                 Dload  Upload   Total   Spent    Left  Speed\n",
      "100  9367  100  9357  100    10   4064      4  0:00:02  0:00:02 --:--:--  4070\n"
     ]
    },
    {
     "name": "stdout",
     "output_type": "stream",
     "text": [
      "PDB file generated successfully: /Users/jianchengluo/Desktop/CPPs/cpps_natrual/GRKKRRQRRR.pdb\n"
     ]
    },
    {
     "name": "stderr",
     "output_type": "stream",
     "text": [
      "  % Total    % Received % Xferd  Average Speed   Time    Time     Time  Current\n",
      "                                 Dload  Upload   Total   Spent    Left  Speed\n",
      "100 11312  100 11301  100    11  10290     10  0:00:01  0:00:01 --:--:-- 10302\n"
     ]
    },
    {
     "name": "stdout",
     "output_type": "stream",
     "text": [
      "PDB file generated successfully: /Users/jianchengluo/Desktop/CPPs/cpps_natrual/RRRRRRRRRRR.pdb\n"
     ]
    },
    {
     "name": "stderr",
     "output_type": "stream",
     "text": [
      "  % Total    % Received % Xferd  Average Speed   Time    Time     Time  Current\n",
      "                                 Dload  Upload   Total   Spent    Left  Speed\n",
      "100 11720  100 11706  100    14   3755      4  0:00:03  0:00:03 --:--:--  3760\n"
     ]
    },
    {
     "name": "stdout",
     "output_type": "stream",
     "text": [
      "PDB file generated successfully: /Users/jianchengluo/Desktop/CPPs/cpps_natrual/CGRKKRRQRRRPPQ.pdb\n"
     ]
    },
    {
     "name": "stderr",
     "output_type": "stream",
     "text": [
      "  % Total    % Received % Xferd  Average Speed   Time    Time     Time  Current\n",
      "                                 Dload  Upload   Total   Spent    Left  Speed\n",
      "100 11963  100 11949  100    14   4227      4  0:00:03  0:00:02  0:00:01  4231\n"
     ]
    },
    {
     "name": "stdout",
     "output_type": "stream",
     "text": [
      "PDB file generated successfully: /Users/jianchengluo/Desktop/CPPs/cpps_natrual/KGRKKRRQRRRPPQ.pdb\n"
     ]
    },
    {
     "name": "stderr",
     "output_type": "stream",
     "text": [
      "  % Total    % Received % Xferd  Average Speed   Time    Time     Time  Current\n",
      "                                 Dload  Upload   Total   Spent    Left  Speed\n",
      "100 11963  100 11949  100    14  11235     13  0:00:01  0:00:01 --:--:-- 11253\n"
     ]
    },
    {
     "name": "stdout",
     "output_type": "stream",
     "text": [
      "PDB file generated successfully: /Users/jianchengluo/Desktop/CPPs/cpps_natrual/KGRKKRRQRRRPPQ.pdb\n"
     ]
    },
    {
     "name": "stderr",
     "output_type": "stream",
     "text": [
      "  % Total    % Received % Xferd  Average Speed   Time    Time     Time  Current\n",
      "                                 Dload  Upload   Total   Spent    Left  Speed\n",
      "100 11720  100 11706  100    14  10819     12  0:00:01  0:00:01 --:--:-- 10841\n"
     ]
    },
    {
     "name": "stdout",
     "output_type": "stream",
     "text": [
      "PDB file generated successfully: /Users/jianchengluo/Desktop/CPPs/cpps_natrual/CGRKKRRQRRRPPQ.pdb\n"
     ]
    },
    {
     "name": "stderr",
     "output_type": "stream",
     "text": [
      "  % Total    % Received % Xferd  Average Speed   Time    Time     Time  Current\n",
      "                                 Dload  Upload   Total   Spent    Left  Speed\n",
      "100 11720  100 11706  100    14  11137     13  0:00:01  0:00:01 --:--:-- 11151\n"
     ]
    },
    {
     "name": "stdout",
     "output_type": "stream",
     "text": [
      "PDB file generated successfully: /Users/jianchengluo/Desktop/CPPs/cpps_natrual/CGRKKRRQRRRPPQ.pdb\n"
     ]
    },
    {
     "name": "stderr",
     "output_type": "stream",
     "text": [
      "  % Total    % Received % Xferd  Average Speed   Time    Time     Time  Current\n",
      "                                 Dload  Upload   Total   Spent    Left  Speed\n",
      "100  7339  100  7332  100     7   6929      6  0:00:01  0:00:01 --:--:--  6936\n"
     ]
    },
    {
     "name": "stdout",
     "output_type": "stream",
     "text": [
      "PDB file generated successfully: /Users/jianchengluo/Desktop/CPPs/cpps_natrual/IRQRRRR.pdb\n"
     ]
    },
    {
     "name": "stderr",
     "output_type": "stream",
     "text": [
      "  % Total    % Received % Xferd  Average Speed   Time    Time     Time  Current\n",
      "                                 Dload  Upload   Total   Spent    Left  Speed\n",
      "100  7017  100  7008  100     9   6552      8  0:00:01  0:00:01 --:--:--  6564\n"
     ]
    },
    {
     "name": "stdout",
     "output_type": "stream",
     "text": [
      "PDB file generated successfully: /Users/jianchengluo/Desktop/CPPs/cpps_natrual/CSKSSDYQC.pdb\n"
     ]
    },
    {
     "name": "stderr",
     "output_type": "stream",
     "text": [
      "  % Total    % Received % Xferd  Average Speed   Time    Time     Time  Current\n",
      "                                 Dload  Upload   Total   Spent    Left  Speed\n",
      "100  8636  100  8628  100     8   5571      5  0:00:01  0:00:01 --:--:--  5578\n"
     ]
    },
    {
     "name": "stdout",
     "output_type": "stream",
     "text": [
      "PDB file generated successfully: /Users/jianchengluo/Desktop/CPPs/cpps_natrual/RRRRRRRR.pdb\n"
     ]
    },
    {
     "name": "stderr",
     "output_type": "stream",
     "text": [
      "  % Total    % Received % Xferd  Average Speed   Time    Time     Time  Current\n",
      "                                 Dload  Upload   Total   Spent    Left  Speed\n",
      "100  8636  100  8628  100     8   8165      7  0:00:01  0:00:01 --:--:--  8178\n"
     ]
    },
    {
     "name": "stdout",
     "output_type": "stream",
     "text": [
      "PDB file generated successfully: /Users/jianchengluo/Desktop/CPPs/cpps_natrual/RRRRRRRR.pdb\n"
     ]
    },
    {
     "name": "stderr",
     "output_type": "stream",
     "text": [
      "  % Total    % Received % Xferd  Average Speed   Time    Time     Time  Current\n",
      "                                 Dload  Upload   Total   Spent    Left  Speed\n",
      "100 11964  100 11949  100    15  11590     14  0:00:01  0:00:01 --:--:-- 11615\n"
     ]
    },
    {
     "name": "stdout",
     "output_type": "stream",
     "text": [
      "PDB file generated successfully: /Users/jianchengluo/Desktop/CPPs/cpps_natrual/CGYGRKKRRQRRRGC.pdb\n"
     ]
    },
    {
     "name": "stderr",
     "output_type": "stream",
     "text": [
      "  % Total    % Received % Xferd  Average Speed   Time    Time     Time  Current\n",
      "                                 Dload  Upload   Total   Spent    Left  Speed\n",
      "100 12129  100 12111  100    18  11646     17  0:00:01  0:00:01 --:--:-- 11673\n"
     ]
    },
    {
     "name": "stdout",
     "output_type": "stream",
     "text": [
      "PDB file generated successfully: /Users/jianchengluo/Desktop/CPPs/cpps_natrual/KLALKLALKALKAALKLA.pdb\n"
     ]
    },
    {
     "name": "stderr",
     "output_type": "stream",
     "text": [
      "  % Total    % Received % Xferd  Average Speed   Time    Time     Time  Current\n",
      "                                 Dload  Upload   Total   Spent    Left  Speed\n",
      "100 11233  100 11220  100    13  10573     12  0:00:01  0:00:01 --:--:-- 10577\n"
     ]
    },
    {
     "name": "stdout",
     "output_type": "stream",
     "text": [
      "PDB file generated successfully: /Users/jianchengluo/Desktop/CPPs/cpps_natrual/GRKKRRQRRRPPQ.pdb\n"
     ]
    },
    {
     "name": "stderr",
     "output_type": "stream",
     "text": [
      "  % Total    % Received % Xferd  Average Speed   Time    Time     Time  Current\n",
      "                                 Dload  Upload   Total   Spent    Left  Speed\n",
      "100 14314  100 14298  100    16  11049     12  0:00:01  0:00:01 --:--:-- 11070\n"
     ]
    },
    {
     "name": "stdout",
     "output_type": "stream",
     "text": [
      "PDB file generated successfully: /Users/jianchengluo/Desktop/CPPs/cpps_natrual/RQIKIWFQNRRMKWKK.pdb\n"
     ]
    },
    {
     "name": "stderr",
     "output_type": "stream",
     "text": [
      "  % Total    % Received % Xferd  Average Speed   Time    Time     Time  Current\n",
      "                                 Dload  Upload   Total   Spent    Left  Speed\n",
      "100  9528  100  9519  100     9   9215      8  0:00:01  0:00:01 --:--:--  9232\n"
     ]
    },
    {
     "name": "stdout",
     "output_type": "stream",
     "text": [
      "PDB file generated successfully: /Users/jianchengluo/Desktop/CPPs/cpps_natrual/RRRRRRRRR.pdb\n"
     ]
    },
    {
     "name": "stderr",
     "output_type": "stream",
     "text": [
      "  % Total    % Received % Xferd  Average Speed   Time    Time     Time  Current\n",
      "                                 Dload  Upload   Total   Spent    Left  Speed\n",
      "100  8636  100  8628  100     8   7859      7  0:00:01  0:00:01 --:--:--  7872\n"
     ]
    },
    {
     "name": "stdout",
     "output_type": "stream",
     "text": [
      "PDB file generated successfully: /Users/jianchengluo/Desktop/CPPs/cpps_natrual/RRRRRRRR.pdb\n"
     ]
    },
    {
     "name": "stderr",
     "output_type": "stream",
     "text": [
      "  % Total    % Received % Xferd  Average Speed   Time    Time     Time  Current\n",
      "                                 Dload  Upload   Total   Spent    Left  Speed\n",
      "100  7017  100  7008  100     9   3056      3  0:00:03  0:00:02  0:00:01  3061\n"
     ]
    },
    {
     "name": "stdout",
     "output_type": "stream",
     "text": [
      "PDB file generated successfully: /Users/jianchengluo/Desktop/CPPs/cpps_natrual/CARSKNKDC.pdb\n"
     ]
    },
    {
     "name": "stderr",
     "output_type": "stream",
     "text": [
      "  % Total    % Received % Xferd  Average Speed   Time    Time     Time  Current\n",
      "                                 Dload  Upload   Total   Spent    Left  Speed\n",
      "100 10340  100 10329  100    11   9773     10  0:00:01  0:00:01 --:--:--  9791\n"
     ]
    },
    {
     "name": "stdout",
     "output_type": "stream",
     "text": [
      "PDB file generated successfully: /Users/jianchengluo/Desktop/CPPs/cpps_natrual/YGRKKRRQRRR.pdb\n"
     ]
    },
    {
     "name": "stderr",
     "output_type": "stream",
     "text": [
      "  % Total    % Received % Xferd  Average Speed   Time    Time     Time  Current\n",
      "                                 Dload  Upload   Total   Spent    Left  Speed\n",
      "100 10340  100 10329  100    11   9979     10  0:00:01  0:00:01 --:--:-- 10000\n"
     ]
    },
    {
     "name": "stdout",
     "output_type": "stream",
     "text": [
      "PDB file generated successfully: /Users/jianchengluo/Desktop/CPPs/cpps_natrual/YGRKKRRQRRR.pdb\n"
     ]
    },
    {
     "name": "stderr",
     "output_type": "stream",
     "text": [
      "  % Total    % Received % Xferd  Average Speed   Time    Time     Time  Current\n",
      "                                 Dload  Upload   Total   Spent    Left  Speed\n",
      "100 13670  100 13650  100    20   5400      7  0:00:02  0:00:02 --:--:--  5407\n"
     ]
    },
    {
     "name": "stdout",
     "output_type": "stream",
     "text": [
      "PDB file generated successfully: /Users/jianchengluo/Desktop/CPPs/cpps_natrual/KSTGKANKITITNDKGRLSK.pdb\n"
     ]
    },
    {
     "name": "stderr",
     "output_type": "stream",
     "text": [
      "  % Total    % Received % Xferd  Average Speed   Time    Time     Time  Current\n",
      "                                 Dload  Upload   Total   Spent    Left  Speed\n",
      "100  9772  100  9762  100    10   9352      9  0:00:01  0:00:01 --:--:--  9369\n"
     ]
    },
    {
     "name": "stdout",
     "output_type": "stream",
     "text": [
      "PDB file generated successfully: /Users/jianchengluo/Desktop/CPPs/cpps_natrual/KFFKFFKFFK.pdb\n"
     ]
    },
    {
     "name": "stderr",
     "output_type": "stream",
     "text": [
      "  % Total    % Received % Xferd  Average Speed   Time    Time     Time  Current\n",
      "                                 Dload  Upload   Total   Spent    Left  Speed\n",
      "100 11233  100 11220  100    13   4789      5  0:00:02  0:00:02 --:--:--  4796\n"
     ]
    },
    {
     "name": "stdout",
     "output_type": "stream",
     "text": [
      "PDB file generated successfully: /Users/jianchengluo/Desktop/CPPs/cpps_natrual/CAYGRKKRRQRRR.pdb\n"
     ]
    },
    {
     "name": "stderr",
     "output_type": "stream",
     "text": [
      "  % Total    % Received % Xferd  Average Speed   Time    Time     Time  Current\n",
      "                                 Dload  Upload   Total   Spent    Left  Speed\n",
      "100 11233  100 11220  100    13   3691      4  0:00:03  0:00:03 --:--:--  3696\n"
     ]
    },
    {
     "name": "stdout",
     "output_type": "stream",
     "text": [
      "PDB file generated successfully: /Users/jianchengluo/Desktop/CPPs/cpps_natrual/CAYGRKKRRQRRR.pdb\n"
     ]
    },
    {
     "name": "stderr",
     "output_type": "stream",
     "text": [
      "  % Total    % Received % Xferd  Average Speed   Time    Time     Time  Current\n",
      "                                 Dload  Upload   Total   Spent    Left  Speed\n",
      "100 10827  100 10815  100    12   4605      5  0:00:02  0:00:02 --:--:--  4611\n"
     ]
    },
    {
     "name": "stdout",
     "output_type": "stream",
     "text": [
      "PDB file generated successfully: /Users/jianchengluo/Desktop/CPPs/cpps_natrual/CYGRKKRRQRRR.pdb\n"
     ]
    },
    {
     "name": "stderr",
     "output_type": "stream",
     "text": [
      "  % Total    % Received % Xferd  Average Speed   Time    Time     Time  Current\n",
      "                                 Dload  Upload   Total   Spent    Left  Speed\n",
      "100 16584  100 16566  100    18   5048      5  0:00:03  0:00:03 --:--:--  5056\n"
     ]
    },
    {
     "name": "stdout",
     "output_type": "stream",
     "text": [
      "PDB file generated successfully: /Users/jianchengluo/Desktop/CPPs/cpps_natrual/RKKRRQRRRRKKRRQRRR.pdb\n"
     ]
    },
    {
     "name": "stderr",
     "output_type": "stream",
     "text": [
      "  % Total    % Received % Xferd  Average Speed   Time    Time     Time  Current\n",
      "                                 Dload  Upload   Total   Spent    Left  Speed\n",
      "100 15612  100 15594  100    18   6051      6  0:00:03  0:00:02  0:00:01  6058\n"
     ]
    },
    {
     "name": "stdout",
     "output_type": "stream",
     "text": [
      "PDB file generated successfully: /Users/jianchengluo/Desktop/CPPs/cpps_natrual/AKKRRQRRRAKKRRQRRR.pdb\n"
     ]
    },
    {
     "name": "stderr",
     "output_type": "stream",
     "text": [
      "  % Total    % Received % Xferd  Average Speed   Time    Time     Time  Current\n",
      "                                 Dload  Upload   Total   Spent    Left  Speed\n",
      "100 15209  100 15189  100    20   3457      4  0:00:05  0:00:04  0:00:01  3462\n"
     ]
    },
    {
     "name": "stdout",
     "output_type": "stream",
     "text": [
      "PDB file generated successfully: /Users/jianchengluo/Desktop/CPPs/cpps_natrual/ESGGGGSPGRRRRRRRRRRR.pdb\n"
     ]
    },
    {
     "name": "stderr",
     "output_type": "stream",
     "text": [
      "  % Total    % Received % Xferd  Average Speed   Time    Time     Time  Current\n",
      "                                 Dload  Upload   Total   Spent    Left  Speed\n",
      "100 11233  100 11220  100    13  10798     12  0:00:01  0:00:01 --:--:-- 10821\n"
     ]
    },
    {
     "name": "stdout",
     "output_type": "stream",
     "text": [
      "PDB file generated successfully: /Users/jianchengluo/Desktop/CPPs/cpps_natrual/CAYGRKKRRQRRR.pdb\n"
     ]
    },
    {
     "name": "stderr",
     "output_type": "stream",
     "text": [
      "  % Total    % Received % Xferd  Average Speed   Time    Time     Time  Current\n",
      "                                 Dload  Upload   Total   Spent    Left  Speed\n",
      "100 11233  100 11220  100    13   9694     11  0:00:01  0:00:01 --:--:--  9700\n"
     ]
    },
    {
     "name": "stdout",
     "output_type": "stream",
     "text": [
      "PDB file generated successfully: /Users/jianchengluo/Desktop/CPPs/cpps_natrual/CAYGRKKRRQRRR.pdb\n"
     ]
    },
    {
     "name": "stderr",
     "output_type": "stream",
     "text": [
      "  % Total    % Received % Xferd  Average Speed   Time    Time     Time  Current\n",
      "                                 Dload  Upload   Total   Spent    Left  Speed\n",
      "100  7097  100  7089  100     8   3077      3  0:00:02  0:00:02 --:--:--  3081\n"
     ]
    },
    {
     "name": "stdout",
     "output_type": "stream",
     "text": [
      "PDB file generated successfully: /Users/jianchengluo/Desktop/CPPs/cpps_natrual/CHAIYPRH.pdb\n"
     ]
    },
    {
     "name": "stderr",
     "output_type": "stream",
     "text": [
      "  % Total    % Received % Xferd  Average Speed   Time    Time     Time  Current\n",
      "                                 Dload  Upload   Total   Spent    Left  Speed\n",
      "100 17727  100 17700  100    27  11273     17  0:00:01  0:00:01 --:--:-- 11298\n"
     ]
    },
    {
     "name": "stdout",
     "output_type": "stream",
     "text": [
      "PDB file generated successfully: /Users/jianchengluo/Desktop/CPPs/cpps_natrual/GWTLNSAGYLLGKINLKALAALAKKIL.pdb\n"
     ]
    },
    {
     "name": "stderr",
     "output_type": "stream",
     "text": [
      "  % Total    % Received % Xferd  Average Speed   Time    Time     Time  Current\n",
      "                                 Dload  Upload   Total   Spent    Left  Speed\n",
      "100 17727  100 17700  100    27   3588      5  0:00:05  0:00:04  0:00:01  3795\n"
     ]
    },
    {
     "name": "stdout",
     "output_type": "stream",
     "text": [
      "PDB file generated successfully: /Users/jianchengluo/Desktop/CPPs/cpps_natrual/GWTLNSAGYLLGKINLKALAALAKKIL.pdb\n"
     ]
    },
    {
     "name": "stderr",
     "output_type": "stream",
     "text": [
      "  % Total    % Received % Xferd  Average Speed   Time    Time     Time  Current\n",
      "                                 Dload  Upload   Total   Spent    Left  Speed\n",
      "100 13914  100 13893  100    21  10353     15  0:00:01  0:00:01 --:--:-- 10368\n"
     ]
    },
    {
     "name": "stdout",
     "output_type": "stream",
     "text": [
      "PDB file generated successfully: /Users/jianchengluo/Desktop/CPPs/cpps_natrual/AGYLLGKINLKALAALAKKIL.pdb\n"
     ]
    },
    {
     "name": "stderr",
     "output_type": "stream",
     "text": [
      "  % Total    % Received % Xferd  Average Speed   Time    Time     Time  Current\n",
      "                                 Dload  Upload   Total   Spent    Left  Speed\n",
      "100 13914  100 13893  100    21  10189     15  0:00:01  0:00:01 --:--:-- 10208\n"
     ]
    },
    {
     "name": "stdout",
     "output_type": "stream",
     "text": [
      "PDB file generated successfully: /Users/jianchengluo/Desktop/CPPs/cpps_natrual/AGYLLGKINLKALAALAKKIL.pdb\n"
     ]
    },
    {
     "name": "stderr",
     "output_type": "stream",
     "text": [
      "  % Total    % Received % Xferd  Average Speed   Time    Time     Time  Current\n",
      "                                 Dload  Upload   Total   Spent    Left  Speed\n",
      "100 15208  100 15189  100    19   5754      7  0:00:02  0:00:02 --:--:--  5760\n"
     ]
    },
    {
     "name": "stdout",
     "output_type": "stream",
     "text": [
      "PDB file generated successfully: /Users/jianchengluo/Desktop/CPPs/cpps_natrual/KWCFRVCYRGICYRRCRGK.pdb\n"
     ]
    },
    {
     "name": "stderr",
     "output_type": "stream",
     "text": [
      "  % Total    % Received % Xferd  Average Speed   Time    Time     Time  Current\n",
      "                                 Dload  Upload   Total   Spent    Left  Speed\n",
      "100 15208  100 15189  100    19   5874      7  0:00:02  0:00:02 --:--:--  5883\n"
     ]
    },
    {
     "name": "stdout",
     "output_type": "stream",
     "text": [
      "PDB file generated successfully: /Users/jianchengluo/Desktop/CPPs/cpps_natrual/KWSFRVSYRGISYRRSRGK.pdb\n"
     ]
    },
    {
     "name": "stderr",
     "output_type": "stream",
     "text": [
      "  % Total    % Received % Xferd  Average Speed   Time    Time     Time  Current\n",
      "                                 Dload  Upload   Total   Spent    Left  Speed\n",
      "100 13260  100 13245  100    15   5710      6  0:00:02  0:00:02 --:--:--  5717\n"
     ]
    },
    {
     "name": "stdout",
     "output_type": "stream",
     "text": [
      "PDB file generated successfully: /Users/jianchengluo/Desktop/CPPs/cpps_natrual/KWFRVYRGIYRRRGK.pdb\n"
     ]
    },
    {
     "name": "stderr",
     "output_type": "stream",
     "text": [
      "  % Total    % Received % Xferd  Average Speed   Time    Time     Time  Current\n",
      "                                 Dload  Upload   Total   Spent    Left  Speed\n",
      "100 12778  100 12759  100    19   5229      7  0:00:02  0:00:02 --:--:--  5239\n"
     ]
    },
    {
     "name": "stdout",
     "output_type": "stream",
     "text": [
      "PDB file generated successfully: /Users/jianchengluo/Desktop/CPPs/cpps_natrual/KWCFAVCYAGICYAACAGK.pdb\n"
     ]
    },
    {
     "name": "stderr",
     "output_type": "stream",
     "text": [
      "  % Total    % Received % Xferd  Average Speed   Time    Time     Time  Current\n",
      "                                 Dload  Upload   Total   Spent    Left  Speed\n",
      "100  5718  100  5712  100     6    962      1  0:00:06  0:00:05  0:00:01  1462\n"
     ]
    },
    {
     "name": "stdout",
     "output_type": "stream",
     "text": [
      "PDB file generated successfully: /Users/jianchengluo/Desktop/CPPs/cpps_natrual/RRGRRG.pdb\n"
     ]
    },
    {
     "name": "stderr",
     "output_type": "stream",
     "text": [
      "  % Total    % Received % Xferd  Average Speed   Time    Time     Time  Current\n",
      "                                 Dload  Upload   Total   Spent    Left  Speed\n",
      "100  6852  100  6846  100     6   2989      2  0:00:03  0:00:02  0:00:01  2992\n"
     ]
    },
    {
     "name": "stdout",
     "output_type": "stream",
     "text": [
      "PDB file generated successfully: /Users/jianchengluo/Desktop/CPPs/cpps_natrual/RRRRRR.pdb\n"
     ]
    },
    {
     "name": "stderr",
     "output_type": "stream",
     "text": [
      "  % Total    % Received % Xferd  Average Speed   Time    Time     Time  Current\n",
      "                                 Dload  Upload   Total   Spent    Left  Speed\n",
      "100  6852  100  6846  100     6   6114      5  0:00:01  0:00:01 --:--:--  6123\n"
     ]
    },
    {
     "name": "stdout",
     "output_type": "stream",
     "text": [
      "PDB file generated successfully: /Users/jianchengluo/Desktop/CPPs/cpps_natrual/RRRRRR.pdb\n"
     ]
    },
    {
     "name": "stderr",
     "output_type": "stream",
     "text": [
      "  % Total    % Received % Xferd  Average Speed   Time    Time     Time  Current\n",
      "                                 Dload  Upload   Total   Spent    Left  Speed\n",
      "100  9528  100  9519  100     9   8875      8  0:00:01  0:00:01 --:--:--  8888\n"
     ]
    },
    {
     "name": "stdout",
     "output_type": "stream",
     "text": [
      "PDB file generated successfully: /Users/jianchengluo/Desktop/CPPs/cpps_natrual/RRRRRRRRR.pdb\n"
     ]
    },
    {
     "name": "stderr",
     "output_type": "stream",
     "text": [
      "  % Total    % Received % Xferd  Average Speed   Time    Time     Time  Current\n",
      "                                 Dload  Upload   Total   Spent    Left  Speed\n",
      "100  8636  100  8628  100     8   8383      7  0:00:01  0:00:01 --:--:--  8392\n"
     ]
    },
    {
     "name": "stdout",
     "output_type": "stream",
     "text": [
      "PDB file generated successfully: /Users/jianchengluo/Desktop/CPPs/cpps_natrual/RRRRRRRR.pdb\n"
     ]
    },
    {
     "name": "stderr",
     "output_type": "stream",
     "text": [
      "  % Total    % Received % Xferd  Average Speed   Time    Time     Time  Current\n",
      "                                 Dload  Upload   Total   Spent    Left  Speed\n",
      "100  8636  100  8628  100     8   1684      1  0:00:08  0:00:05  0:00:03  1979\n"
     ]
    },
    {
     "name": "stdout",
     "output_type": "stream",
     "text": [
      "PDB file generated successfully: /Users/jianchengluo/Desktop/CPPs/cpps_natrual/RRRRRRRR.pdb\n"
     ]
    },
    {
     "name": "stderr",
     "output_type": "stream",
     "text": [
      "  % Total    % Received % Xferd  Average Speed   Time    Time     Time  Current\n",
      "                                 Dload  Upload   Total   Spent    Left  Speed\n",
      "100  8636  100  8628  100     8   8137      7  0:00:01  0:00:01 --:--:--  8147\n"
     ]
    },
    {
     "name": "stdout",
     "output_type": "stream",
     "text": [
      "PDB file generated successfully: /Users/jianchengluo/Desktop/CPPs/cpps_natrual/RRRRRRRR.pdb\n"
     ]
    },
    {
     "name": "stderr",
     "output_type": "stream",
     "text": [
      "  % Total    % Received % Xferd  Average Speed   Time    Time     Time  Current\n",
      "                                 Dload  Upload   Total   Spent    Left  Speed\n",
      "100 11069  100 11058  100    11   4540      4  0:00:02  0:00:02 --:--:--  4543\n"
     ]
    },
    {
     "name": "stdout",
     "output_type": "stream",
     "text": [
      "PDB file generated successfully: /Users/jianchengluo/Desktop/CPPs/cpps_natrual/HHHRRRRRRRR.pdb\n"
     ]
    },
    {
     "name": "stderr",
     "output_type": "stream",
     "text": [
      "  % Total    % Received % Xferd  Average Speed   Time    Time     Time  Current\n",
      "                                 Dload  Upload   Total   Spent    Left  Speed\n",
      "100 11069  100 11058  100    11  10122     10  0:00:01  0:00:01 --:--:-- 10136\n"
     ]
    },
    {
     "name": "stdout",
     "output_type": "stream",
     "text": [
      "PDB file generated successfully: /Users/jianchengluo/Desktop/CPPs/cpps_natrual/HHHRRRRRRRR.pdb\n"
     ]
    },
    {
     "name": "stderr",
     "output_type": "stream",
     "text": [
      "  % Total    % Received % Xferd  Average Speed   Time    Time     Time  Current\n",
      "                                 Dload  Upload   Total   Spent    Left  Speed\n",
      "100   174  100   161  100    13    152     12  0:00:01  0:00:01 --:--:--   165\n"
     ]
    },
    {
     "name": "stdout",
     "output_type": "stream",
     "text": [
      "PDB file generated successfully: /Users/jianchengluo/Desktop/CPPs/cpps_natrual/YGRKKRRQRRR-C.pdb\n"
     ]
    },
    {
     "name": "stderr",
     "output_type": "stream",
     "text": [
      "  % Total    % Received % Xferd  Average Speed   Time    Time     Time  Current\n",
      "                                 Dload  Upload   Total   Spent    Left  Speed\n",
      "100 10667  100 10653  100    14   2980      3  0:00:04  0:00:03  0:00:01  2984\n"
     ]
    },
    {
     "name": "stdout",
     "output_type": "stream",
     "text": [
      "PDB file generated successfully: /Users/jianchengluo/Desktop/CPPs/cpps_natrual/CTSTTAKRKKRKLK.pdb\n"
     ]
    },
    {
     "name": "stderr",
     "output_type": "stream",
     "text": [
      "  % Total    % Received % Xferd  Average Speed   Time    Time     Time  Current\n",
      "                                 Dload  Upload   Total   Spent    Left  Speed\n",
      "100 10340  100 10329  100    11   9875     10  0:00:01  0:00:01 --:--:--  9894\n"
     ]
    },
    {
     "name": "stdout",
     "output_type": "stream",
     "text": [
      "PDB file generated successfully: /Users/jianchengluo/Desktop/CPPs/cpps_natrual/YGRKKRRQRRR.pdb\n"
     ]
    },
    {
     "name": "stderr",
     "output_type": "stream",
     "text": [
      "  % Total    % Received % Xferd  Average Speed   Time    Time     Time  Current\n",
      "                                 Dload  Upload   Total   Spent    Left  Speed\n",
      "100 10340  100 10329  100    11   9993     10  0:00:01  0:00:01 --:--:-- 10000\n"
     ]
    },
    {
     "name": "stdout",
     "output_type": "stream",
     "text": [
      "PDB file generated successfully: /Users/jianchengluo/Desktop/CPPs/cpps_natrual/YGRKKRRQRRR.pdb\n"
     ]
    },
    {
     "name": "stderr",
     "output_type": "stream",
     "text": [
      "  % Total    % Received % Xferd  Average Speed   Time    Time     Time  Current\n",
      "                                 Dload  Upload   Total   Spent    Left  Speed\n",
      "100 14314  100 14298  100    16   5364      6  0:00:02  0:00:02 --:--:--  5371\n"
     ]
    },
    {
     "name": "stdout",
     "output_type": "stream",
     "text": [
      "PDB file generated successfully: /Users/jianchengluo/Desktop/CPPs/cpps_natrual/KKWKMRRNQFWIKIQR.pdb\n"
     ]
    },
    {
     "name": "stderr",
     "output_type": "stream",
     "text": [
      "  % Total    % Received % Xferd  Average Speed   Time    Time     Time  Current\n",
      "                                 Dload  Upload   Total   Spent    Left  Speed\n",
      "100 14314  100 14298  100    16  10982     12  0:00:01  0:00:01 --:--:-- 10993\n"
     ]
    },
    {
     "name": "stdout",
     "output_type": "stream",
     "text": [
      "PDB file generated successfully: /Users/jianchengluo/Desktop/CPPs/cpps_natrual/KKWKMRRNQFWIKIQR.pdb\n"
     ]
    },
    {
     "name": "stderr",
     "output_type": "stream",
     "text": [
      "  % Total    % Received % Xferd  Average Speed   Time    Time     Time  Current\n",
      "                                 Dload  Upload   Total   Spent    Left  Speed\n",
      "100 13502  100 13488  100    14   5826      6  0:00:02  0:00:02 --:--:--  5834\n"
     ]
    },
    {
     "name": "stdout",
     "output_type": "stream",
     "text": [
      "PDB file generated successfully: /Users/jianchengluo/Desktop/CPPs/cpps_natrual/HILPWKWPWWPWRR.pdb\n"
     ]
    },
    {
     "name": "stderr",
     "output_type": "stream",
     "text": [
      "  % Total    % Received % Xferd  Average Speed   Time    Time     Time  Current\n",
      "                                 Dload  Upload   Total   Spent    Left  Speed\n",
      "100 14964  100 14946  100    18   4990      6  0:00:03  0:00:02  0:00:01  4996\n"
     ]
    },
    {
     "name": "stdout",
     "output_type": "stream",
     "text": [
      "PDB file generated successfully: /Users/jianchengluo/Desktop/CPPs/cpps_natrual/RQIKIWFQNRRMKWKKGG.pdb\n"
     ]
    },
    {
     "name": "stderr",
     "output_type": "stream",
     "text": [
      "  % Total    % Received % Xferd  Average Speed   Time    Time     Time  Current\n",
      "                                 Dload  Upload   Total   Spent    Left  Speed\n",
      "100 21699  100 21669  100    30   8437     11  0:00:02  0:00:02 --:--:--  8449\n"
     ]
    },
    {
     "name": "stdout",
     "output_type": "stream",
     "text": [
      "PDB file generated successfully: /Users/jianchengluo/Desktop/CPPs/cpps_natrual/MRRIRPRPPRLPRPRPRPLPFPRPGGCYPG.pdb\n"
     ]
    },
    {
     "name": "stderr",
     "output_type": "stream",
     "text": [
      "  % Total    % Received % Xferd  Average Speed   Time    Time     Time  Current\n",
      "                                 Dload  Upload   Total   Spent    Left  Speed\n",
      "100 13831  100 13812  100    19   5946      8  0:00:02  0:00:02 --:--:--  5956\n"
     ]
    },
    {
     "name": "stdout",
     "output_type": "stream",
     "text": [
      "PDB file generated successfully: /Users/jianchengluo/Desktop/CPPs/cpps_natrual/RGGRLSYSRRRFSTSTGRA.pdb\n"
     ]
    },
    {
     "name": "stderr",
     "output_type": "stream",
     "text": [
      "  % Total    % Received % Xferd  Average Speed   Time    Time     Time  Current\n",
      "                                 Dload  Upload   Total   Spent    Left  Speed\n",
      "100 10340  100 10329  100    11   9801     10  0:00:01  0:00:01 --:--:--  9819\n"
     ]
    },
    {
     "name": "stdout",
     "output_type": "stream",
     "text": [
      "PDB file generated successfully: /Users/jianchengluo/Desktop/CPPs/cpps_natrual/YGRKKRRQRRR.pdb\n"
     ]
    },
    {
     "name": "stderr",
     "output_type": "stream",
     "text": [
      "  % Total    % Received % Xferd  Average Speed   Time    Time     Time  Current\n",
      "                                 Dload  Upload   Total   Spent    Left  Speed\n",
      "100 10340  100 10329  100    11   9463     10  0:00:01  0:00:01 --:--:--  9477\n"
     ]
    },
    {
     "name": "stdout",
     "output_type": "stream",
     "text": [
      "PDB file generated successfully: /Users/jianchengluo/Desktop/CPPs/cpps_natrual/YGRKKRRQRRR.pdb\n"
     ]
    },
    {
     "name": "stderr",
     "output_type": "stream",
     "text": [
      "  % Total    % Received % Xferd  Average Speed   Time    Time     Time  Current\n",
      "                                 Dload  Upload   Total   Spent    Left  Speed\n",
      "100  9528  100  9519  100     9   4014      3  0:00:03  0:00:02  0:00:01  4018\n"
     ]
    },
    {
     "name": "stdout",
     "output_type": "stream",
     "text": [
      "PDB file generated successfully: /Users/jianchengluo/Desktop/CPPs/cpps_natrual/RRRRRRRRR.pdb\n"
     ]
    },
    {
     "name": "stderr",
     "output_type": "stream",
     "text": [
      "  % Total    % Received % Xferd  Average Speed   Time    Time     Time  Current\n",
      "                                 Dload  Upload   Total   Spent    Left  Speed\n",
      "100  9528  100  9519  100     9   4645      4  0:00:02  0:00:02 --:--:--  4652\n"
     ]
    },
    {
     "name": "stdout",
     "output_type": "stream",
     "text": [
      "PDB file generated successfully: /Users/jianchengluo/Desktop/CPPs/cpps_natrual/RRRRRRRRR.pdb\n"
     ]
    },
    {
     "name": "stderr",
     "output_type": "stream",
     "text": [
      "  % Total    % Received % Xferd  Average Speed   Time    Time     Time  Current\n",
      "                                 Dload  Upload   Total   Spent    Left  Speed\n",
      "100 23809  100 23775  100    34   9091     13  0:00:02  0:00:02 --:--:--  9104\n"
     ]
    },
    {
     "name": "stdout",
     "output_type": "stream",
     "text": [
      "PDB file generated successfully: /Users/jianchengluo/Desktop/CPPs/cpps_natrual/YGDCLPHLKLCKENKDCCSKKCKRRGTNIEKRCR.pdb\n"
     ]
    },
    {
     "name": "stderr",
     "output_type": "stream",
     "text": [
      "  % Total    % Received % Xferd  Average Speed   Time    Time     Time  Current\n",
      "                                 Dload  Upload   Total   Spent    Left  Speed\n",
      "100  6612  100  6603  100     9   6293      8  0:00:01  0:00:01 --:--:--  6303\n"
     ]
    },
    {
     "name": "stdout",
     "output_type": "stream",
     "text": [
      "PDB file generated successfully: /Users/jianchengluo/Desktop/CPPs/cpps_natrual/CRGDKGPDC.pdb\n"
     ]
    },
    {
     "name": "stderr",
     "output_type": "stream",
     "text": [
      "  % Total    % Received % Xferd  Average Speed   Time    Time     Time  Current\n",
      "                                 Dload  Upload   Total   Spent    Left  Speed\n",
      "100  9367  100  9357  100    10   8912      9  0:00:01  0:00:01 --:--:--  8929\n"
     ]
    },
    {
     "name": "stdout",
     "output_type": "stream",
     "text": [
      "PDB file generated successfully: /Users/jianchengluo/Desktop/CPPs/cpps_natrual/GRKKRRQRRR.pdb\n"
     ]
    },
    {
     "name": "stderr",
     "output_type": "stream",
     "text": [
      "  % Total    % Received % Xferd  Average Speed   Time    Time     Time  Current\n",
      "                                 Dload  Upload   Total   Spent    Left  Speed\n",
      "100  9367  100  9357  100    10   8067      8  0:00:01  0:00:01 --:--:--  8075\n"
     ]
    },
    {
     "name": "stdout",
     "output_type": "stream",
     "text": [
      "PDB file generated successfully: /Users/jianchengluo/Desktop/CPPs/cpps_natrual/GRKKRRQRRR.pdb\n"
     ]
    },
    {
     "name": "stderr",
     "output_type": "stream",
     "text": [
      "  % Total    % Received % Xferd  Average Speed   Time    Time     Time  Current\n",
      "                                 Dload  Upload   Total   Spent    Left  Speed\n",
      "100 14801  100 14784  100    17   4007      4  0:00:04  0:00:03  0:00:01  4013\n"
     ]
    },
    {
     "name": "stdout",
     "output_type": "stream",
     "text": [
      "PDB file generated successfully: /Users/jianchengluo/Desktop/CPPs/cpps_natrual/CRQIKIWFQNRRMKWKK.pdb\n"
     ]
    },
    {
     "name": "stderr",
     "output_type": "stream",
     "text": [
      "  % Total    % Received % Xferd  Average Speed   Time    Time     Time  Current\n",
      "                                 Dload  Upload   Total   Spent    Left  Speed\n",
      "100 10340  100 10329  100    11   9852     10  0:00:01  0:00:01 --:--:--  9866\n"
     ]
    },
    {
     "name": "stdout",
     "output_type": "stream",
     "text": [
      "PDB file generated successfully: /Users/jianchengluo/Desktop/CPPs/cpps_natrual/YGRKKRRQRRR.pdb\n"
     ]
    },
    {
     "name": "stderr",
     "output_type": "stream",
     "text": [
      "  % Total    % Received % Xferd  Average Speed   Time    Time     Time  Current\n",
      "                                 Dload  Upload   Total   Spent    Left  Speed\n",
      "100 14314  100 14298  100    16  11215     12  0:00:01  0:00:01 --:--:-- 11226\n"
     ]
    },
    {
     "name": "stdout",
     "output_type": "stream",
     "text": [
      "PDB file generated successfully: /Users/jianchengluo/Desktop/CPPs/cpps_natrual/RQIKIWFQNRRMKWKK.pdb\n"
     ]
    },
    {
     "name": "stderr",
     "output_type": "stream",
     "text": [
      "  % Total    % Received % Xferd  Average Speed   Time    Time     Time  Current\n",
      "                                 Dload  Upload   Total   Spent    Left  Speed\n",
      "100 22838  100 22803  100    35  17625     27  0:00:01  0:00:01 --:--:-- 17662\n"
     ]
    },
    {
     "name": "stdout",
     "output_type": "stream",
     "text": [
      "PDB file generated successfully: /Users/jianchengluo/Desktop/CPPs/cpps_natrual/DAATARGRGRSAASRPTERPRAPARSASRPRRPVD.pdb\n"
     ]
    },
    {
     "name": "stderr",
     "output_type": "stream",
     "text": [
      "  % Total    % Received % Xferd  Average Speed   Time    Time     Time  Current\n",
      "                                 Dload  Upload   Total   Spent    Left  Speed\n",
      "100 14073  100 14055  100    18  11252     14  0:00:01  0:00:01 --:--:-- 11267\n"
     ]
    },
    {
     "name": "stdout",
     "output_type": "stream",
     "text": [
      "PDB file generated successfully: /Users/jianchengluo/Desktop/CPPs/cpps_natrual/LLIILRRRIRKQAHAHSK.pdb\n"
     ]
    },
    {
     "name": "stderr",
     "output_type": "stream",
     "text": [
      "  % Total    % Received % Xferd  Average Speed   Time    Time     Time  Current\n",
      "                                 Dload  Upload   Total   Spent    Left  Speed\n",
      "100 12937  100 12921  100    16  10235     12  0:00:01  0:00:01 --:--:-- 10251\n"
     ]
    },
    {
     "name": "stdout",
     "output_type": "stream",
     "text": [
      "PDB file generated successfully: /Users/jianchengluo/Desktop/CPPs/cpps_natrual/GSVSRRRRRRGGRRRR.pdb\n"
     ]
    },
    {
     "name": "stderr",
     "output_type": "stream",
     "text": [
      "  % Total    % Received % Xferd  Average Speed   Time    Time     Time  Current\n",
      "                                 Dload  Upload   Total   Spent    Left  Speed\n",
      "100 16509  100 16485  100    24  12730     18  0:00:01  0:00:01 --:--:-- 12758\n"
     ]
    },
    {
     "name": "stdout",
     "output_type": "stream",
     "text": [
      "PDB file generated successfully: /Users/jianchengluo/Desktop/CPPs/cpps_natrual/LGTYTQDFNKFHTFPQTAIGVGAP.pdb\n"
     ]
    },
    {
     "name": "stderr",
     "output_type": "stream",
     "text": [
      "  % Total    % Received % Xferd  Average Speed   Time    Time     Time  Current\n",
      "                                 Dload  Upload   Total   Spent    Left  Speed\n",
      "100 17964  100 17943  100    21   4013      4  0:00:05  0:00:04  0:00:01  4017\n"
     ]
    },
    {
     "name": "stdout",
     "output_type": "stream",
     "text": [
      "PDB file generated successfully: /Users/jianchengluo/Desktop/CPPs/cpps_natrual/KETWWETWWTEWSQPKKKRKV.pdb\n"
     ]
    },
    {
     "name": "stderr",
     "output_type": "stream",
     "text": [
      "  % Total    % Received % Xferd  Average Speed   Time    Time     Time  Current\n",
      "                                 Dload  Upload   Total   Spent    Left  Speed\n",
      "100 15375  100 15351  100    24  11822     18  0:00:01  0:00:01 --:--:-- 11836\n"
     ]
    },
    {
     "name": "stdout",
     "output_type": "stream",
     "text": [
      "PDB file generated successfully: /Users/jianchengluo/Desktop/CPPs/cpps_natrual/GALFLGWLGAAGSTMGAPKKKRKV.pdb\n"
     ]
    },
    {
     "name": "stderr",
     "output_type": "stream",
     "text": [
      "  % Total    % Received % Xferd  Average Speed   Time    Time     Time  Current\n",
      "                                 Dload  Upload   Total   Spent    Left  Speed\n",
      "100 15452  100 15432  100    20  11892     15  0:00:01  0:00:01 --:--:-- 11913\n"
     ]
    },
    {
     "name": "stdout",
     "output_type": "stream",
     "text": [
      "PDB file generated successfully: /Users/jianchengluo/Desktop/CPPs/cpps_natrual/GLFRALLRLLRSLWRLLLRA.pdb\n"
     ]
    },
    {
     "name": "stderr",
     "output_type": "stream",
     "text": [
      "  % Total    % Received % Xferd  Average Speed   Time    Time     Time  Current\n",
      "                                 Dload  Upload   Total   Spent    Left  Speed\n",
      "100 12204  100 12192  100    12  11617     11  0:00:01  0:00:01 --:--:-- 11633\n"
     ]
    },
    {
     "name": "stdout",
     "output_type": "stream",
     "text": [
      "PDB file generated successfully: /Users/jianchengluo/Desktop/CPPs/cpps_natrual/RRRRRRRRRRRR.pdb\n"
     ]
    },
    {
     "name": "stderr",
     "output_type": "stream",
     "text": [
      "  % Total    % Received % Xferd  Average Speed   Time    Time     Time  Current\n",
      "                                 Dload  Upload   Total   Spent    Left  Speed\n",
      "100 17402  100 17376  100    26   5499      8  0:00:03  0:00:03 --:--:--  5508\n"
     ]
    },
    {
     "name": "stdout",
     "output_type": "stream",
     "text": [
      "PDB file generated successfully: /Users/jianchengluo/Desktop/CPPs/cpps_natrual/KKALLALALHHLAHLALHLALALKKA.pdb\n"
     ]
    },
    {
     "name": "stderr",
     "output_type": "stream",
     "text": [
      "  % Total    % Received % Xferd  Average Speed   Time    Time     Time  Current\n",
      "                                 Dload  Upload   Total   Spent    Left  Speed\n",
      "100  8636  100  8628  100     8   3364      3  0:00:02  0:00:02 --:--:--  3366\n"
     ]
    },
    {
     "name": "stdout",
     "output_type": "stream",
     "text": [
      "PDB file generated successfully: /Users/jianchengluo/Desktop/CPPs/cpps_natrual/RRRRRRRR.pdb\n"
     ]
    },
    {
     "name": "stderr",
     "output_type": "stream",
     "text": [
      "  % Total    % Received % Xferd  Average Speed   Time    Time     Time  Current\n",
      "                                 Dload  Upload   Total   Spent    Left  Speed\n",
      "100  7340  100  7332  100     8   3216      3  0:00:02  0:00:02 --:--:--  3220\n"
     ]
    },
    {
     "name": "stdout",
     "output_type": "stream",
     "text": [
      "PDB file generated successfully: /Users/jianchengluo/Desktop/CPPs/cpps_natrual/KKKKKKKK.pdb\n"
     ]
    },
    {
     "name": "stderr",
     "output_type": "stream",
     "text": [
      "  % Total    % Received % Xferd  Average Speed   Time    Time     Time  Current\n",
      "                                 Dload  Upload   Total   Spent    Left  Speed\n",
      "100 13425  100 13407  100    18   5559      7  0:00:02  0:00:02 --:--:--  5565\n"
     ]
    },
    {
     "name": "stdout",
     "output_type": "stream",
     "text": [
      "PDB file generated successfully: /Users/jianchengluo/Desktop/CPPs/cpps_natrual/RGGRLSYSRRRFSTSTGR.pdb\n"
     ]
    },
    {
     "name": "stderr",
     "output_type": "stream",
     "text": [
      "  % Total    % Received % Xferd  Average Speed   Time    Time     Time  Current\n",
      "                                 Dload  Upload   Total   Spent    Left  Speed\n",
      "100 13425  100 13407  100    18  10341     13  0:00:01  0:00:01 --:--:-- 10358\n"
     ]
    },
    {
     "name": "stdout",
     "output_type": "stream",
     "text": [
      "PDB file generated successfully: /Users/jianchengluo/Desktop/CPPs/cpps_natrual/RGGRLSYSRRRFSTSTGR.pdb\n"
     ]
    },
    {
     "name": "stderr",
     "output_type": "stream",
     "text": [
      "  % Total    % Received % Xferd  Average Speed   Time    Time     Time  Current\n",
      "                                 Dload  Upload   Total   Spent    Left  Speed\n",
      "100 13425  100 13407  100    18  10727     14  0:00:01  0:00:01 --:--:-- 10748\n"
     ]
    },
    {
     "name": "stdout",
     "output_type": "stream",
     "text": [
      "PDB file generated successfully: /Users/jianchengluo/Desktop/CPPs/cpps_natrual/RGGRLSYSRRRFSTSTGR.pdb\n"
     ]
    },
    {
     "name": "stderr",
     "output_type": "stream",
     "text": [
      "  % Total    % Received % Xferd  Average Speed   Time    Time     Time  Current\n",
      "                                 Dload  Upload   Total   Spent    Left  Speed\n",
      "100 23480  100 23451  100    29   6858      8  0:00:03  0:00:03 --:--:--  6865\n"
     ]
    },
    {
     "name": "stdout",
     "output_type": "stream",
     "text": [
      "PDB file generated successfully: /Users/jianchengluo/Desktop/CPPs/cpps_natrual/KHKHKHKHKHKHKHKHKHKKLFKKILKYL.pdb\n"
     ]
    },
    {
     "name": "stderr",
     "output_type": "stream",
     "text": [
      "  % Total    % Received % Xferd  Average Speed   Time    Time     Time  Current\n",
      "                                 Dload  Upload   Total   Spent    Left  Speed\n",
      "100 11557  100 11544  100    13   4877      5  0:00:02  0:00:02 --:--:--  4884\n"
     ]
    },
    {
     "name": "stdout",
     "output_type": "stream",
     "text": [
      "PDB file generated successfully: /Users/jianchengluo/Desktop/CPPs/cpps_natrual/CKYGRKKRRQRRR.pdb\n"
     ]
    },
    {
     "name": "stderr",
     "output_type": "stream",
     "text": [
      "  % Total    % Received % Xferd  Average Speed   Time    Time     Time  Current\n",
      "                                 Dload  Upload   Total   Spent    Left  Speed\n",
      "100 21614  100 21588  100    26   5495      6  0:00:04  0:00:03  0:00:01  5501\n"
     ]
    },
    {
     "name": "stdout",
     "output_type": "stream",
     "text": [
      "PDB file generated successfully: /Users/jianchengluo/Desktop/CPPs/cpps_natrual/RRRQRRKKRGYCKCKYGRKKRRQRRR.pdb\n"
     ]
    },
    {
     "name": "stderr",
     "output_type": "stream",
     "text": [
      "  % Total    % Received % Xferd  Average Speed   Time    Time     Time  Current\n",
      "                                 Dload  Upload   Total   Spent    Left  Speed\n",
      "100 11557  100 11544  100    13   5420      6  0:00:02  0:00:02 --:--:--  5428\n"
     ]
    },
    {
     "name": "stdout",
     "output_type": "stream",
     "text": [
      "PDB file generated successfully: /Users/jianchengluo/Desktop/CPPs/cpps_natrual/CKYGRKKRRQRRR.pdb\n"
     ]
    },
    {
     "name": "stderr",
     "output_type": "stream",
     "text": [
      "  % Total    % Received % Xferd  Average Speed   Time    Time     Time  Current\n",
      "                                 Dload  Upload   Total   Spent    Left  Speed\n",
      "100 21614  100 21588  100    26  10419     12  0:00:02  0:00:02 --:--:-- 10436\n"
     ]
    },
    {
     "name": "stdout",
     "output_type": "stream",
     "text": [
      "PDB file generated successfully: /Users/jianchengluo/Desktop/CPPs/cpps_natrual/RRRQRRKKRGYCKCKYGRKKRRQRRR.pdb\n"
     ]
    },
    {
     "name": "stderr",
     "output_type": "stream",
     "text": [
      "  % Total    % Received % Xferd  Average Speed   Time    Time     Time  Current\n",
      "                                 Dload  Upload   Total   Spent    Left  Speed\n",
      "100 10746  100 10734  100    12   4520      5  0:00:02  0:00:02 --:--:--  4524\n"
     ]
    },
    {
     "name": "stdout",
     "output_type": "stream",
     "text": [
      "PDB file generated successfully: /Users/jianchengluo/Desktop/CPPs/cpps_natrual/AYGRKKRRQRRR.pdb\n"
     ]
    },
    {
     "name": "stderr",
     "output_type": "stream",
     "text": [
      "  % Total    % Received % Xferd  Average Speed   Time    Time     Time  Current\n",
      "                                 Dload  Upload   Total   Spent    Left  Speed\n",
      "100 10746  100 10734  100    12  10203     11  0:00:01  0:00:01 --:--:-- 10224\n"
     ]
    },
    {
     "name": "stdout",
     "output_type": "stream",
     "text": [
      "PDB file generated successfully: /Users/jianchengluo/Desktop/CPPs/cpps_natrual/AYGRKKRRQRRR.pdb\n"
     ]
    },
    {
     "name": "stderr",
     "output_type": "stream",
     "text": [
      "  % Total    % Received % Xferd  Average Speed   Time    Time     Time  Current\n",
      "                                 Dload  Upload   Total   Spent    Left  Speed\n",
      "100  7825  100  7818  100     7   7427      6  0:00:01  0:00:01 --:--:--  7438\n"
     ]
    },
    {
     "name": "stdout",
     "output_type": "stream",
     "text": [
      "PDB file generated successfully: /Users/jianchengluo/Desktop/CPPs/cpps_natrual/KRKRWHW.pdb\n"
     ]
    },
    {
     "name": "stderr",
     "output_type": "stream",
     "text": [
      "  % Total    % Received % Xferd  Average Speed   Time    Time     Time  Current\n",
      "                                 Dload  Upload   Total   Spent    Left  Speed\n",
      "100 13260  100 13245  100    15   5743      6  0:00:02  0:00:02 --:--:--  5750\n"
     ]
    },
    {
     "name": "stdout",
     "output_type": "stream",
     "text": [
      "PDB file generated successfully: /Users/jianchengluo/Desktop/CPPs/cpps_natrual/RQIKIQFQNRRKWKK.pdb\n"
     ]
    },
    {
     "name": "stderr",
     "output_type": "stream",
     "text": [
      "  % Total    % Received % Xferd  Average Speed   Time    Time     Time  Current\n",
      "                                 Dload  Upload   Total   Spent    Left  Speed\n",
      "100  9693  100  9681  100    12   1696      2  0:00:06  0:00:05  0:00:01  2824\n"
     ]
    },
    {
     "name": "stdout",
     "output_type": "stream",
     "text": [
      "PDB file generated successfully: /Users/jianchengluo/Desktop/CPPs/cpps_natrual/APWHLSSQYSRT.pdb\n"
     ]
    },
    {
     "name": "stderr",
     "output_type": "stream",
     "text": [
      "  % Total    % Received % Xferd  Average Speed   Time    Time     Time  Current\n",
      "                                 Dload  Upload   Total   Spent    Left  Speed\n",
      "100 11233  100 11220  100    13  10787     12  0:00:01  0:00:01 --:--:-- 10811\n"
     ]
    },
    {
     "name": "stdout",
     "output_type": "stream",
     "text": [
      "PDB file generated successfully: /Users/jianchengluo/Desktop/CPPs/cpps_natrual/GRKKRRQRRRPPQ.pdb\n"
     ]
    },
    {
     "name": "stderr",
     "output_type": "stream",
     "text": [
      "  % Total    % Received % Xferd  Average Speed   Time    Time     Time  Current\n",
      "                                 Dload  Upload   Total   Spent    Left  Speed\n",
      "100 10746  100 10734  100    12  10411     11  0:00:01  0:00:01 --:--:-- 10433\n"
     ]
    },
    {
     "name": "stdout",
     "output_type": "stream",
     "text": [
      "PDB file generated successfully: /Users/jianchengluo/Desktop/CPPs/cpps_natrual/AYGRKKRRQRRR.pdb\n"
     ]
    },
    {
     "name": "stderr",
     "output_type": "stream",
     "text": [
      "  % Total    % Received % Xferd  Average Speed   Time    Time     Time  Current\n",
      "                                 Dload  Upload   Total   Spent    Left  Speed\n",
      "100 10506  100 10491  100    15   1500      2  0:00:07  0:00:06  0:00:01  2814\n"
     ]
    },
    {
     "name": "stdout",
     "output_type": "stream",
     "text": [
      "PDB file generated successfully: /Users/jianchengluo/Desktop/CPPs/cpps_natrual/GNYAHRVGAGAPVWL.pdb\n"
     ]
    },
    {
     "name": "stderr",
     "output_type": "stream",
     "text": [
      "  % Total    % Received % Xferd  Average Speed   Time    Time     Time  Current\n",
      "                                 Dload  Upload   Total   Spent    Left  Speed\n",
      "100 13426  100 13407  100    19   5254      7  0:00:02  0:00:02 --:--:--  5260\n"
     ]
    },
    {
     "name": "stdout",
     "output_type": "stream",
     "text": [
      "PDB file generated successfully: /Users/jianchengluo/Desktop/CPPs/cpps_natrual/TVDNPASTTNKDKLFAVRK.pdb\n"
     ]
    },
    {
     "name": "stderr",
     "output_type": "stream",
     "text": [
      "  % Total    % Received % Xferd  Average Speed   Time    Time     Time  Current\n",
      "                                 Dload  Upload   Total   Spent    Left  Speed\n",
      "100 13342  100 13326  100    16   1717      2  0:00:08  0:00:07  0:00:01  2858\n"
     ]
    },
    {
     "name": "stdout",
     "output_type": "stream",
     "text": [
      "PDB file generated successfully: /Users/jianchengluo/Desktop/CPPs/cpps_natrual/GRKKRRQRRRPPQRKC.pdb\n"
     ]
    },
    {
     "name": "stderr",
     "output_type": "stream",
     "text": [
      "  % Total    % Received % Xferd  Average Speed   Time    Time     Time  Current\n",
      "                                 Dload  Upload   Total   Spent    Left  Speed\n",
      "100   173  100   161  100    12    155     11  0:00:01  0:00:01 --:--:--   166\n"
     ]
    },
    {
     "name": "stdout",
     "output_type": "stream",
     "text": [
      "PDB file generated successfully: /Users/jianchengluo/Desktop/CPPs/cpps_natrual/RRRRRRRR-RGD.pdb\n"
     ]
    },
    {
     "name": "stderr",
     "output_type": "stream",
     "text": [
      "  % Total    % Received % Xferd  Average Speed   Time    Time     Time  Current\n",
      "                                 Dload  Upload   Total   Spent    Left  Speed\n",
      "100 14642  100 14622  100    20   5542      7  0:00:02  0:00:02 --:--:--  5550\n"
     ]
    },
    {
     "name": "stdout",
     "output_type": "stream",
     "text": [
      "PDB file generated successfully: /Users/jianchengluo/Desktop/CPPs/cpps_natrual/KIAKLKAKIQKLKQKIAKLK.pdb\n"
     ]
    },
    {
     "name": "stderr",
     "output_type": "stream",
     "text": [
      "  % Total    % Received % Xferd  Average Speed   Time    Time     Time  Current\n",
      "                                 Dload  Upload   Total   Spent    Left  Speed\n",
      "100 10340  100 10329  100    11   9601     10  0:00:01  0:00:01 --:--:--  9618\n"
     ]
    },
    {
     "name": "stdout",
     "output_type": "stream",
     "text": [
      "PDB file generated successfully: /Users/jianchengluo/Desktop/CPPs/cpps_natrual/YGRKKRRQRRR.pdb\n"
     ]
    },
    {
     "name": "stderr",
     "output_type": "stream",
     "text": [
      "  % Total    % Received % Xferd  Average Speed   Time    Time     Time  Current\n",
      "                                 Dload  Upload   Total   Spent    Left  Speed\n",
      "100 10909  100 10896  100    13   2302      2  0:00:06  0:00:04  0:00:02  2439\n"
     ]
    },
    {
     "name": "stdout",
     "output_type": "stream",
     "text": [
      "PDB file generated successfully: /Users/jianchengluo/Desktop/CPPs/cpps_natrual/CCTGRKKRRQRRR.pdb\n"
     ]
    },
    {
     "name": "stderr",
     "output_type": "stream",
     "text": [
      "  % Total    % Received % Xferd  Average Speed   Time    Time     Time  Current\n",
      "                                 Dload  Upload   Total   Spent    Left  Speed\n",
      "100 13342  100 13326  100    16  10587     12  0:00:01  0:00:01 --:--:-- 10605\n"
     ]
    },
    {
     "name": "stdout",
     "output_type": "stream",
     "text": [
      "PDB file generated successfully: /Users/jianchengluo/Desktop/CPPs/cpps_natrual/IPLVVPLRRRRRRRRC.pdb\n"
     ]
    },
    {
     "name": "stderr",
     "output_type": "stream",
     "text": [
      "  % Total    % Received % Xferd  Average Speed   Time    Time     Time  Current\n",
      "                                 Dload  Upload   Total   Spent    Left  Speed\n",
      "100 15861  100 15837  100    24   6087      9  0:00:02  0:00:02 --:--:--  6095\n"
     ]
    },
    {
     "name": "stdout",
     "output_type": "stream",
     "text": [
      "PDB file generated successfully: /Users/jianchengluo/Desktop/CPPs/cpps_natrual/GGAYVTRSSAVRLRSSVPGVRLLQ.pdb\n"
     ]
    },
    {
     "name": "stderr",
     "output_type": "stream",
     "text": [
      "  % Total    % Received % Xferd  Average Speed   Time    Time     Time  Current\n",
      "                                 Dload  Upload   Total   Spent    Left  Speed\n",
      "100 11233  100 11220  100    13  10653     12  0:00:01  0:00:01 --:--:-- 10667\n"
     ]
    },
    {
     "name": "stdout",
     "output_type": "stream",
     "text": [
      "PDB file generated successfully: /Users/jianchengluo/Desktop/CPPs/cpps_natrual/GRKKRRQRRRPPQ.pdb\n"
     ]
    },
    {
     "name": "stderr",
     "output_type": "stream",
     "text": [
      "  % Total    % Received % Xferd  Average Speed   Time    Time     Time  Current\n",
      "                                 Dload  Upload   Total   Spent    Left  Speed\n",
      "100 13261  100 13245  100    16   5454      6  0:00:02  0:00:02 --:--:--  5461\n"
     ]
    },
    {
     "name": "stdout",
     "output_type": "stream",
     "text": [
      "PDB file generated successfully: /Users/jianchengluo/Desktop/CPPs/cpps_natrual/GLRKRLRKFRNKIKEK.pdb\n"
     ]
    },
    {
     "name": "stderr",
     "output_type": "stream",
     "text": [
      "  % Total    % Received % Xferd  Average Speed   Time    Time     Time  Current\n",
      "                                 Dload  Upload   Total   Spent    Left  Speed\n",
      "100  9042  100  9033  100     9   3009      2  0:00:04  0:00:03  0:00:01  3012\n"
     ]
    },
    {
     "name": "stdout",
     "output_type": "stream",
     "text": [
      "PDB file generated successfully: /Users/jianchengluo/Desktop/CPPs/cpps_natrual/RKKRRQRRR.pdb\n"
     ]
    },
    {
     "name": "stderr",
     "output_type": "stream",
     "text": [
      "  % Total    % Received % Xferd  Average Speed   Time    Time     Time  Current\n",
      "                                 Dload  Upload   Total   Spent    Left  Speed\n",
      "100 13989  100 13974  100    15   6014      6  0:00:02  0:00:02 --:--:--  6021\n"
     ]
    },
    {
     "name": "stdout",
     "output_type": "stream",
     "text": [
      "PDB file generated successfully: /Users/jianchengluo/Desktop/CPPs/cpps_natrual/RKKRRQRRRHRRKKR.pdb\n"
     ]
    },
    {
     "name": "stderr",
     "output_type": "stream",
     "text": [
      "  % Total    % Received % Xferd  Average Speed   Time    Time     Time  Current\n",
      "                                 Dload  Upload   Total   Spent    Left  Speed\n",
      "100 12125  100 12111  100    14  11578     13  0:00:01  0:00:01 --:--:-- 11602\n"
     ]
    },
    {
     "name": "stdout",
     "output_type": "stream",
     "text": [
      "PDB file generated successfully: /Users/jianchengluo/Desktop/CPPs/cpps_natrual/VSRRRRRRGGRRRR.pdb\n"
     ]
    },
    {
     "name": "stderr",
     "output_type": "stream",
     "text": [
      "  % Total    % Received % Xferd  Average Speed   Time    Time     Time  Current\n",
      "                                 Dload  Upload   Total   Spent    Left  Speed\n",
      "100 14073  100 14055  100    18  11257     14  0:00:01  0:00:01 --:--:-- 11276\n"
     ]
    },
    {
     "name": "stdout",
     "output_type": "stream",
     "text": [
      "PDB file generated successfully: /Users/jianchengluo/Desktop/CPPs/cpps_natrual/LLIILRRRIRKQAHAHSK.pdb\n"
     ]
    },
    {
     "name": "stderr",
     "output_type": "stream",
     "text": [
      "  % Total    % Received % Xferd  Average Speed   Time    Time     Time  Current\n",
      "                                 Dload  Upload   Total   Spent    Left  Speed\n",
      "100 14721  100 14703  100    18   4576      5  0:00:03  0:00:03 --:--:--  4581\n"
     ]
    },
    {
     "name": "stdout",
     "output_type": "stream",
     "text": [
      "PDB file generated successfully: /Users/jianchengluo/Desktop/CPPs/cpps_natrual/LLIILRRRIRRRARARSR.pdb\n"
     ]
    },
    {
     "name": "stderr",
     "output_type": "stream",
     "text": [
      "  % Total    % Received % Xferd  Average Speed   Time    Time     Time  Current\n",
      "                                 Dload  Upload   Total   Spent    Left  Speed\n",
      "100 14073  100 14055  100    18   4407      5  0:00:03  0:00:03 --:--:--  4414\n"
     ]
    },
    {
     "name": "stdout",
     "output_type": "stream",
     "text": [
      "PDB file generated successfully: /Users/jianchengluo/Desktop/CPPs/cpps_natrual/LLHILRRSIRKQAHAIRK.pdb\n"
     ]
    },
    {
     "name": "stderr",
     "output_type": "stream",
     "text": [
      "  % Total    % Received % Xferd  Average Speed   Time    Time     Time  Current\n",
      "                                 Dload  Upload   Total   Spent    Left  Speed\n",
      "100 14721  100 14703  100    18   5676      6  0:00:03  0:00:02  0:00:01  5685\n"
     ]
    },
    {
     "name": "stdout",
     "output_type": "stream",
     "text": [
      "PDB file generated successfully: /Users/jianchengluo/Desktop/CPPs/cpps_natrual/LLRILRRSIRRARRAIRR.pdb\n"
     ]
    },
    {
     "name": "stderr",
     "output_type": "stream",
     "text": [
      "  % Total    % Received % Xferd  Average Speed   Time    Time     Time  Current\n",
      "                                 Dload  Upload   Total   Spent    Left  Speed\n",
      "100 14397  100 14379  100    18   2566      3  0:00:06  0:00:05  0:00:01  4082\n"
     ]
    },
    {
     "name": "stdout",
     "output_type": "stream",
     "text": [
      "PDB file generated successfully: /Users/jianchengluo/Desktop/CPPs/cpps_natrual/LLHILRRSIRRQAHAIRR.pdb\n"
     ]
    },
    {
     "name": "stderr",
     "output_type": "stream",
     "text": [
      "  % Total    % Received % Xferd  Average Speed   Time    Time     Time  Current\n",
      "                                 Dload  Upload   Total   Spent    Left  Speed\n",
      "100 15612  100 15594  100    18   3496      4  0:00:04  0:00:04 --:--:--  4895\n"
     ]
    },
    {
     "name": "stdout",
     "output_type": "stream",
     "text": [
      "PDB file generated successfully: /Users/jianchengluo/Desktop/CPPs/cpps_natrual/LLRHLRRHIRRARRHIRR.pdb\n"
     ]
    },
    {
     "name": "stderr",
     "output_type": "stream",
     "text": [
      "  % Total    % Received % Xferd  Average Speed   Time    Time     Time  Current\n",
      "                                 Dload  Upload   Total   Spent    Left  Speed\n",
      "100 19187  100 19158  100    29   7183     10  0:00:02  0:00:02 --:--:--  7196\n"
     ]
    },
    {
     "name": "stdout",
     "output_type": "stream",
     "text": [
      "PDB file generated successfully: /Users/jianchengluo/Desktop/CPPs/cpps_natrual/MAMPGEPRRANVMAHKLEPASLQLRNSCA.pdb\n"
     ]
    },
    {
     "name": "stderr",
     "output_type": "stream",
     "text": [
      "  % Total    % Received % Xferd  Average Speed   Time    Time     Time  Current\n",
      "                                 Dload  Upload   Total   Spent    Left  Speed\n",
      "100 18701  100 18672  100    29   6584     10  0:00:02  0:00:02 --:--:--  6594\n"
     ]
    },
    {
     "name": "stdout",
     "output_type": "stream",
     "text": [
      "PDB file generated successfully: /Users/jianchengluo/Desktop/CPPs/cpps_natrual/MAPQRDTVGGRTTPPSWGPAKAQLRNSCA.pdb\n"
     ]
    },
    {
     "name": "stderr",
     "output_type": "stream",
     "text": [
      "  % Total    % Received % Xferd  Average Speed   Time    Time     Time  Current\n",
      "                                 Dload  Upload   Total   Spent    Left  Speed\n",
      "100 11312  100 11301  100    11   4872      4  0:00:02  0:00:02 --:--:--  4877\n"
     ]
    },
    {
     "name": "stdout",
     "output_type": "stream",
     "text": [
      "PDB file generated successfully: /Users/jianchengluo/Desktop/CPPs/cpps_natrual/RRRRRRRRRRR.pdb\n"
     ]
    },
    {
     "name": "stderr",
     "output_type": "stream",
     "text": [
      "  % Total    % Received % Xferd  Average Speed   Time    Time     Time  Current\n",
      "                                 Dload  Upload   Total   Spent    Left  Speed\n",
      "100 11720  100 11706  100    14   6337      7  0:00:02  0:00:01  0:00:01  6341\n"
     ]
    },
    {
     "name": "stdout",
     "output_type": "stream",
     "text": [
      "PDB file generated successfully: /Users/jianchengluo/Desktop/CPPs/cpps_natrual/CGRKKRRQRRRPPQ.pdb\n"
     ]
    },
    {
     "name": "stderr",
     "output_type": "stream",
     "text": [
      "  % Total    % Received % Xferd  Average Speed   Time    Time     Time  Current\n",
      "                                 Dload  Upload   Total   Spent    Left  Speed\n",
      "100 13990  100 13974  100    16   5982      6  0:00:02  0:00:02 --:--:--  5988\n"
     ]
    },
    {
     "name": "stdout",
     "output_type": "stream",
     "text": [
      "PDB file generated successfully: /Users/jianchengluo/Desktop/CPPs/cpps_natrual/CGRKKRWWRQRRRPPQ.pdb\n"
     ]
    },
    {
     "name": "stderr",
     "output_type": "stream",
     "text": [
      "  % Total    % Received % Xferd  Average Speed   Time    Time     Time  Current\n",
      "                                 Dload  Upload   Total   Spent    Left  Speed\n",
      "100 13990  100 13974  100    16   4185      4  0:00:04  0:00:03  0:00:01  4191\n"
     ]
    },
    {
     "name": "stdout",
     "output_type": "stream",
     "text": [
      "PDB file generated successfully: /Users/jianchengluo/Desktop/CPPs/cpps_natrual/CGRKKRRQRRWWRPPQ.pdb\n"
     ]
    },
    {
     "name": "stderr",
     "output_type": "stream",
     "text": [
      "  % Total    % Received % Xferd  Average Speed   Time    Time     Time  Current\n",
      "                                 Dload  Upload   Total   Spent    Left  Speed\n",
      "100 13990  100 13974  100    16   3376      3  0:00:05  0:00:04  0:00:01  3380\n"
     ]
    },
    {
     "name": "stdout",
     "output_type": "stream",
     "text": [
      "PDB file generated successfully: /Users/jianchengluo/Desktop/CPPs/cpps_natrual/CGRKKRRQRWWRRPPQ.pdb\n"
     ]
    },
    {
     "name": "stderr",
     "output_type": "stream",
     "text": [
      "  % Total    % Received % Xferd  Average Speed   Time    Time     Time  Current\n",
      "                                 Dload  Upload   Total   Spent    Left  Speed\n",
      "100 18530  100 18510  100    20   7050      7  0:00:02  0:00:02 --:--:--  7056\n"
     ]
    },
    {
     "name": "stdout",
     "output_type": "stream",
     "text": [
      "PDB file generated successfully: /Users/jianchengluo/Desktop/CPPs/cpps_natrual/CGRKKRWWRQRWWRWWRPPQ.pdb\n"
     ]
    },
    {
     "name": "stderr",
     "output_type": "stream",
     "text": [
      "  % Total    % Received % Xferd  Average Speed   Time    Time     Time  Current\n",
      "                                 Dload  Upload   Total   Spent    Left  Speed\n",
      "100 12532  100 12516  100    16   2722      3  0:00:05  0:00:04  0:00:01  3266\n"
     ]
    },
    {
     "name": "stdout",
     "output_type": "stream",
     "text": [
      "PDB file generated successfully: /Users/jianchengluo/Desktop/CPPs/cpps_natrual/CGRKKRAARQRRRPPQ.pdb\n"
     ]
    },
    {
     "name": "stderr",
     "output_type": "stream",
     "text": [
      "  % Total    % Received % Xferd  Average Speed   Time    Time     Time  Current\n",
      "                                 Dload  Upload   Total   Spent    Left  Speed\n",
      "100 12532  100 12516  100    16   3494      4  0:00:04  0:00:03  0:00:01  3499\n"
     ]
    },
    {
     "name": "stdout",
     "output_type": "stream",
     "text": [
      "PDB file generated successfully: /Users/jianchengluo/Desktop/CPPs/cpps_natrual/CGRKKRRQRRAARPPQ.pdb\n"
     ]
    },
    {
     "name": "stderr",
     "output_type": "stream",
     "text": [
      "  % Total    % Received % Xferd  Average Speed   Time    Time     Time  Current\n",
      "                                 Dload  Upload   Total   Spent    Left  Speed\n",
      "100 12532  100 12516  100    16   5275      6  0:00:02  0:00:02 --:--:--  5281\n"
     ]
    },
    {
     "name": "stdout",
     "output_type": "stream",
     "text": [
      "PDB file generated successfully: /Users/jianchengluo/Desktop/CPPs/cpps_natrual/CGRKKRRQRAARRPPQ.pdb\n"
     ]
    },
    {
     "name": "stderr",
     "output_type": "stream",
     "text": [
      "  % Total    % Received % Xferd  Average Speed   Time    Time     Time  Current\n",
      "                                 Dload  Upload   Total   Spent    Left  Speed\n",
      "100 14156  100 14136  100    20   5384      7  0:00:02  0:00:02 --:--:--  5392\n"
     ]
    },
    {
     "name": "stdout",
     "output_type": "stream",
     "text": [
      "PDB file generated successfully: /Users/jianchengluo/Desktop/CPPs/cpps_natrual/CGRKKRAARQRAARAARPPQ.pdb\n"
     ]
    },
    {
     "name": "stderr",
     "output_type": "stream",
     "text": [
      "  % Total    % Received % Xferd  Average Speed   Time    Time     Time  Current\n",
      "                                 Dload  Upload   Total   Spent    Left  Speed\n",
      "100 13018  100 13002  100    16   3012      3  0:00:05  0:00:04  0:00:01  3016\n"
     ]
    },
    {
     "name": "stdout",
     "output_type": "stream",
     "text": [
      "PDB file generated successfully: /Users/jianchengluo/Desktop/CPPs/cpps_natrual/CGRKKRLLRQRRRPPQ.pdb\n"
     ]
    },
    {
     "name": "stderr",
     "output_type": "stream",
     "text": [
      "  % Total    % Received % Xferd  Average Speed   Time    Time     Time  Current\n",
      "                                 Dload  Upload   Total   Spent    Left  Speed\n",
      "100 13018  100 13002  100    16   5636      6  0:00:02  0:00:02 --:--:--  5645\n"
     ]
    },
    {
     "name": "stdout",
     "output_type": "stream",
     "text": [
      "PDB file generated successfully: /Users/jianchengluo/Desktop/CPPs/cpps_natrual/CGRKKRRQRRLLRPPQ.pdb\n"
     ]
    },
    {
     "name": "stderr",
     "output_type": "stream",
     "text": [
      "  % Total    % Received % Xferd  Average Speed   Time    Time     Time  Current\n",
      "                                 Dload  Upload   Total   Spent    Left  Speed\n",
      "100 13018  100 13002  100    16   5648      6  0:00:02  0:00:02 --:--:--  5657\n"
     ]
    },
    {
     "name": "stdout",
     "output_type": "stream",
     "text": [
      "PDB file generated successfully: /Users/jianchengluo/Desktop/CPPs/cpps_natrual/CGRKKRRQRLLRRPPQ.pdb\n"
     ]
    },
    {
     "name": "stderr",
     "output_type": "stream",
     "text": [
      "  % Total    % Received % Xferd  Average Speed   Time    Time     Time  Current\n",
      "                                 Dload  Upload   Total   Spent    Left  Speed\n",
      "100 15614  100 15594  100    20   3635      4  0:00:05  0:00:04  0:00:01  4136\n"
     ]
    },
    {
     "name": "stdout",
     "output_type": "stream",
     "text": [
      "PDB file generated successfully: /Users/jianchengluo/Desktop/CPPs/cpps_natrual/CGRKKRLLRQRLLRLLRPPQ.pdb\n"
     ]
    },
    {
     "name": "stderr",
     "output_type": "stream",
     "text": [
      "  % Total    % Received % Xferd  Average Speed   Time    Time     Time  Current\n",
      "                                 Dload  Upload   Total   Spent    Left  Speed\n",
      "100   180  100   161  100    19    156     18  0:00:01  0:00:01 --:--:--   174\n"
     ]
    },
    {
     "name": "stdout",
     "output_type": "stream",
     "text": [
      "PDB file generated successfully: /Users/jianchengluo/Desktop/CPPs/cpps_natrual/CGRKKRRQRR-Ahx-RPPQ.pdb\n"
     ]
    },
    {
     "name": "stderr",
     "output_type": "stream",
     "text": [
      "  % Total    % Received % Xferd  Average Speed   Time    Time     Time  Current\n",
      "                                 Dload  Upload   Total   Spent    Left  Speed\n",
      "100   180  100   161  100    19    149     17  0:00:01  0:00:01 --:--:--   167\n"
     ]
    },
    {
     "name": "stdout",
     "output_type": "stream",
     "text": [
      "PDB file generated successfully: /Users/jianchengluo/Desktop/CPPs/cpps_natrual/CGRKKR-Ahx-RQRRRPPQ.pdb\n"
     ]
    },
    {
     "name": "stderr",
     "output_type": "stream",
     "text": [
      "  % Total    % Received % Xferd  Average Speed   Time    Time     Time  Current\n",
      "                                 Dload  Upload   Total   Spent    Left  Speed\n",
      "100   180  100   161  100    19    154     18  0:00:01  0:00:01 --:--:--   173\n"
     ]
    },
    {
     "name": "stdout",
     "output_type": "stream",
     "text": [
      "PDB file generated successfully: /Users/jianchengluo/Desktop/CPPs/cpps_natrual/CGRKKRRQR-Ahx-RRPPQ.pdb\n"
     ]
    },
    {
     "name": "stderr",
     "output_type": "stream",
     "text": [
      "  % Total    % Received % Xferd  Average Speed   Time    Time     Time  Current\n",
      "                                 Dload  Upload   Total   Spent    Left  Speed\n",
      "100   190  100   161  100    29    145     26  0:00:01  0:00:01 --:--:--   171\n"
     ]
    },
    {
     "name": "stdout",
     "output_type": "stream",
     "text": [
      "PDB file generated successfully: /Users/jianchengluo/Desktop/CPPs/cpps_natrual/CGRKKR-Ahx-RQR-Ahx-R-ahx-RPPQ.pdb\n"
     ]
    },
    {
     "name": "stderr",
     "output_type": "stream",
     "text": [
      "  % Total    % Received % Xferd  Average Speed   Time    Time     Time  Current\n",
      "                                 Dload  Upload   Total   Spent    Left  Speed\n",
      "100 28920  100 28878  100    42  10031     14  0:00:03  0:00:02  0:00:01 10045\n"
     ]
    },
    {
     "name": "stdout",
     "output_type": "stream",
     "text": [
      "PDB file generated successfully: /Users/jianchengluo/Desktop/CPPs/cpps_natrual/YKQCHKKGGHCFPKEKICLPPSSDFGKMDCRWRWKCCKKGSG.pdb\n"
     ]
    },
    {
     "name": "stderr",
     "output_type": "stream",
     "text": [
      "  % Total    % Received % Xferd  Average Speed   Time    Time     Time  Current\n",
      "                                 Dload  Upload   Total   Spent    Left  Speed\n",
      "100  9857  100  9843  100    14   2766      3  0:00:04  0:00:03  0:00:01  2771\n"
     ]
    },
    {
     "name": "stdout",
     "output_type": "stream",
     "text": [
      "PDB file generated successfully: /Users/jianchengluo/Desktop/CPPs/cpps_natrual/INLKALAALAKKIL.pdb\n"
     ]
    },
    {
     "name": "stderr",
     "output_type": "stream",
     "text": [
      "  % Total    % Received % Xferd  Average Speed   Time    Time     Time  Current\n",
      "                                 Dload  Upload   Total   Spent    Left  Speed\n",
      "100  9857  100  9843  100    14   4224      6  0:00:02  0:00:02 --:--:--  4228\n"
     ]
    },
    {
     "name": "stdout",
     "output_type": "stream",
     "text": [
      "PDB file generated successfully: /Users/jianchengluo/Desktop/CPPs/cpps_natrual/LIKKALAALAKLNI.pdb\n"
     ]
    },
    {
     "name": "stderr",
     "output_type": "stream",
     "text": [
      "  % Total    % Received % Xferd  Average Speed   Time    Time     Time  Current\n",
      "                                 Dload  Upload   Total   Spent    Left  Speed\n",
      "100 11233  100 11220  100    13   9817     11  0:00:01  0:00:01 --:--:--  9836\n"
     ]
    },
    {
     "name": "stdout",
     "output_type": "stream",
     "text": [
      "PDB file generated successfully: /Users/jianchengluo/Desktop/CPPs/cpps_natrual/CAYGRKKRRQRRR.pdb\n"
     ]
    },
    {
     "name": "stderr",
     "output_type": "stream",
     "text": [
      "  % Total    % Received % Xferd  Average Speed   Time    Time     Time  Current\n",
      "                                 Dload  Upload   Total   Spent    Left  Speed\n",
      "100 11233  100 11220  100    13   4762      5  0:00:02  0:00:02 --:--:--  4769\n"
     ]
    },
    {
     "name": "stdout",
     "output_type": "stream",
     "text": [
      "PDB file generated successfully: /Users/jianchengluo/Desktop/CPPs/cpps_natrual/CRKARYRGRKRQR.pdb\n"
     ]
    },
    {
     "name": "stderr",
     "output_type": "stream",
     "text": [
      "  % Total    % Received % Xferd  Average Speed   Time    Time     Time  Current\n",
      "                                 Dload  Upload   Total   Spent    Left  Speed\n",
      "100  7831  100  7818  100    13   1817      3  0:00:04  0:00:04 --:--:--  1943\n"
     ]
    },
    {
     "name": "stdout",
     "output_type": "stream",
     "text": [
      "PDB file generated successfully: /Users/jianchengluo/Desktop/CPPs/cpps_natrual/CAYGGQQGGQGGG.pdb\n"
     ]
    },
    {
     "name": "stderr",
     "output_type": "stream",
     "text": [
      "  % Total    % Received % Xferd  Average Speed   Time    Time     Time  Current\n",
      "                                 Dload  Upload   Total   Spent    Left  Speed\n",
      "100  9123  100  9114  100     9   3836      3  0:00:03  0:00:02  0:00:01  3841\n"
     ]
    },
    {
     "name": "stdout",
     "output_type": "stream",
     "text": [
      "PDB file generated successfully: /Users/jianchengluo/Desktop/CPPs/cpps_natrual/CRRRRRRRR.pdb\n"
     ]
    },
    {
     "name": "stderr",
     "output_type": "stream",
     "text": [
      "  % Total    % Received % Xferd  Average Speed   Time    Time     Time  Current\n",
      "                                 Dload  Upload   Total   Spent    Left  Speed\n",
      "100 12129  100 12111  100    18  11404     16  0:00:01  0:00:01 --:--:-- 11431\n"
     ]
    },
    {
     "name": "stdout",
     "output_type": "stream",
     "text": [
      "PDB file generated successfully: /Users/jianchengluo/Desktop/CPPs/cpps_natrual/KLALKLALKALKAALKLA.pdb\n"
     ]
    },
    {
     "name": "stderr",
     "output_type": "stream",
     "text": [
      "  % Total    % Received % Xferd  Average Speed   Time    Time     Time  Current\n",
      "                                 Dload  Upload   Total   Spent    Left  Speed\n",
      "100  8636  100  8628  100     8   4468      4  0:00:02  0:00:01  0:00:01  4472\n"
     ]
    },
    {
     "name": "stdout",
     "output_type": "stream",
     "text": [
      "PDB file generated successfully: /Users/jianchengluo/Desktop/CPPs/cpps_natrual/RRRRRRRR.pdb\n"
     ]
    },
    {
     "name": "stderr",
     "output_type": "stream",
     "text": [
      "  % Total    % Received % Xferd  Average Speed   Time    Time     Time  Current\n",
      "                                 Dload  Upload   Total   Spent    Left  Speed\n",
      "100  8636  100  8628  100     8   8126      7  0:00:01  0:00:01 --:--:--  8139\n"
     ]
    },
    {
     "name": "stdout",
     "output_type": "stream",
     "text": [
      "PDB file generated successfully: /Users/jianchengluo/Desktop/CPPs/cpps_natrual/RRRRRRRR.pdb\n"
     ]
    },
    {
     "name": "stderr",
     "output_type": "stream",
     "text": [
      "  % Total    % Received % Xferd  Average Speed   Time    Time     Time  Current\n",
      "                                 Dload  Upload   Total   Spent    Left  Speed\n",
      "100  8636  100  8628  100     8   8252      7  0:00:01  0:00:01 --:--:--  8264\n"
     ]
    },
    {
     "name": "stdout",
     "output_type": "stream",
     "text": [
      "PDB file generated successfully: /Users/jianchengluo/Desktop/CPPs/cpps_natrual/RRRRRRRR.pdb\n"
     ]
    },
    {
     "name": "stderr",
     "output_type": "stream",
     "text": [
      "  % Total    % Received % Xferd  Average Speed   Time    Time     Time  Current\n",
      "                                 Dload  Upload   Total   Spent    Left  Speed\n",
      "100 14314  100 14298  100    16  11052     12  0:00:01  0:00:01 --:--:-- 11061\n"
     ]
    },
    {
     "name": "stdout",
     "output_type": "stream",
     "text": [
      "PDB file generated successfully: /Users/jianchengluo/Desktop/CPPs/cpps_natrual/RQIKIWFQNRRMKWKK.pdb\n"
     ]
    },
    {
     "name": "stderr",
     "output_type": "stream",
     "text": [
      "  % Total    % Received % Xferd  Average Speed   Time    Time     Time  Current\n",
      "                                 Dload  Upload   Total   Spent    Left  Speed\n",
      "100 14801  100 14784  100    17  11319     13  0:00:01  0:00:01 --:--:-- 11341\n"
     ]
    },
    {
     "name": "stdout",
     "output_type": "stream",
     "text": [
      "PDB file generated successfully: /Users/jianchengluo/Desktop/CPPs/cpps_natrual/RQIKIWFQNRRMKWKKC.pdb\n"
     ]
    },
    {
     "name": "stderr",
     "output_type": "stream",
     "text": [
      "  % Total    % Received % Xferd  Average Speed   Time    Time     Time  Current\n",
      "                                 Dload  Upload   Total   Spent    Left  Speed\n",
      "100 14962  100 14946  100    16   5692      6  0:00:02  0:00:02 --:--:--  5697\n"
     ]
    },
    {
     "name": "stdout",
     "output_type": "stream",
     "text": [
      "PDB file generated successfully: /Users/jianchengluo/Desktop/CPPs/cpps_natrual/RQIRIWFQNRRMRWRR.pdb\n"
     ]
    },
    {
     "name": "stderr",
     "output_type": "stream",
     "text": [
      "  % Total    % Received % Xferd  Average Speed   Time    Time     Time  Current\n",
      "                                 Dload  Upload   Total   Spent    Left  Speed\n",
      "100 15449  100 15432  100    17   5975      6  0:00:02  0:00:02 --:--:--  5983\n"
     ]
    },
    {
     "name": "stdout",
     "output_type": "stream",
     "text": [
      "PDB file generated successfully: /Users/jianchengluo/Desktop/CPPs/cpps_natrual/RQIRIWFQNRRMRWRRC.pdb\n"
     ]
    },
    {
     "name": "stderr",
     "output_type": "stream",
     "text": [
      "  % Total    % Received % Xferd  Average Speed   Time    Time     Time  Current\n",
      "                                 Dload  Upload   Total   Spent    Left  Speed\n",
      "100 19424  100 19401  100    23   3928      4  0:00:05  0:00:04  0:00:01  4390\n"
     ]
    },
    {
     "name": "stdout",
     "output_type": "stream",
     "text": [
      "PDB file generated successfully: /Users/jianchengluo/Desktop/CPPs/cpps_natrual/LIRLWSHLIHIWFQNRRLKWKKK.pdb\n"
     ]
    },
    {
     "name": "stderr",
     "output_type": "stream",
     "text": [
      "  % Total    % Received % Xferd  Average Speed   Time    Time     Time  Current\n",
      "                                 Dload  Upload   Total   Spent    Left  Speed\n",
      "100 19911  100 19887  100    24   6653      8  0:00:03  0:00:02  0:00:01  6661\n"
     ]
    },
    {
     "name": "stdout",
     "output_type": "stream",
     "text": [
      "PDB file generated successfully: /Users/jianchengluo/Desktop/CPPs/cpps_natrual/LIRLWSHLIHIWFQNRRLKWKKKC.pdb\n"
     ]
    },
    {
     "name": "stderr",
     "output_type": "stream",
     "text": [
      "  % Total    % Received % Xferd  Average Speed   Time    Time     Time  Current\n",
      "                                 Dload  Upload   Total   Spent    Left  Speed\n",
      "100 11720  100 11706  100    14   5050      6  0:00:02  0:00:02 --:--:--  5058\n"
     ]
    },
    {
     "name": "stdout",
     "output_type": "stream",
     "text": [
      "PDB file generated successfully: /Users/jianchengluo/Desktop/CPPs/cpps_natrual/GRKKRRQRRRPPQC.pdb\n"
     ]
    },
    {
     "name": "stderr",
     "output_type": "stream",
     "text": [
      "  % Total    % Received % Xferd  Average Speed   Time    Time     Time  Current\n",
      "                                 Dload  Upload   Total   Spent    Left  Speed\n",
      "100 15126  100 15108  100    18   2408      2  0:00:09  0:00:06  0:00:03  3834\n"
     ]
    },
    {
     "name": "stdout",
     "output_type": "stream",
     "text": [
      "PDB file generated successfully: /Users/jianchengluo/Desktop/CPPs/cpps_natrual/RQIKIWFQNRRMKWKKGC.pdb\n"
     ]
    },
    {
     "name": "stderr",
     "output_type": "stream",
     "text": [
      "  % Total    % Received % Xferd  Average Speed   Time    Time     Time  Current\n",
      "                                 Dload  Upload   Total   Spent    Left  Speed\n",
      "100  4096  100  4092  100     4   1778      1  0:00:04  0:00:02  0:00:02  1780\n"
     ]
    },
    {
     "name": "stdout",
     "output_type": "stream",
     "text": [
      "PDB file generated successfully: /Users/jianchengluo/Desktop/CPPs/cpps_natrual/RRGC.pdb\n"
     ]
    },
    {
     "name": "stderr",
     "output_type": "stream",
     "text": [
      "  % Total    % Received % Xferd  Average Speed   Time    Time     Time  Current\n",
      "                                 Dload  Upload   Total   Spent    Left  Speed\n",
      "100  9448  100  9438  100    10   3940      4  0:00:02  0:00:02 --:--:--  3944\n"
     ]
    },
    {
     "name": "stdout",
     "output_type": "stream",
     "text": [
      "PDB file generated successfully: /Users/jianchengluo/Desktop/CPPs/cpps_natrual/RRRRRRRRGC.pdb\n"
     ]
    },
    {
     "name": "stderr",
     "output_type": "stream",
     "text": [
      "  % Total    % Received % Xferd  Average Speed   Time    Time     Time  Current\n",
      "                                 Dload  Upload   Total   Spent    Left  Speed\n",
      "100 13016  100 13002  100    14   3038      3  0:00:04  0:00:04 --:--:--  3041\n"
     ]
    },
    {
     "name": "stdout",
     "output_type": "stream",
     "text": [
      "PDB file generated successfully: /Users/jianchengluo/Desktop/CPPs/cpps_natrual/RRRRRRRRRRRRGC.pdb\n"
     ]
    },
    {
     "name": "stderr",
     "output_type": "stream",
     "text": [
      "  % Total    % Received % Xferd  Average Speed   Time    Time     Time  Current\n",
      "                                 Dload  Upload   Total   Spent    Left  Speed\n",
      "100 16584  100 16566  100    18   6347      6  0:00:03  0:00:02  0:00:01  6356\n"
     ]
    },
    {
     "name": "stdout",
     "output_type": "stream",
     "text": [
      "PDB file generated successfully: /Users/jianchengluo/Desktop/CPPs/cpps_natrual/RRRRRRRRRRRRRRRRGC.pdb\n"
     ]
    },
    {
     "name": "stderr",
     "output_type": "stream",
     "text": [
      "  % Total    % Received % Xferd  Average Speed   Time    Time     Time  Current\n",
      "                                 Dload  Upload   Total   Spent    Left  Speed\n",
      "100 19749  100 19725  100    24   7349      8  0:00:03  0:00:02  0:00:01  7358\n"
     ]
    },
    {
     "name": "stdout",
     "output_type": "stream",
     "text": [
      "PDB file generated successfully: /Users/jianchengluo/Desktop/CPPs/cpps_natrual/RRRRRRRRRGPGVTWTPQAWFQWV.pdb\n"
     ]
    },
    {
     "name": "stderr",
     "output_type": "stream",
     "text": [
      "  % Total    % Received % Xferd  Average Speed   Time    Time     Time  Current\n",
      "                                 Dload  Upload   Total   Spent    Left  Speed\n",
      "100 29164  100 29121  100    43  10173     15  0:00:02  0:00:02 --:--:-- 10186\n"
     ]
    },
    {
     "name": "stdout",
     "output_type": "stream",
     "text": [
      "PDB file generated successfully: /Users/jianchengluo/Desktop/CPPs/cpps_natrual/HEHEHEHEHEHEHEHEHEHEGGGGGKLALKLALKALKAALKLA.pdb\n"
     ]
    },
    {
     "name": "stderr",
     "output_type": "stream",
     "text": [
      "  % Total    % Received % Xferd  Average Speed   Time    Time     Time  Current\n",
      "                                 Dload  Upload   Total   Spent    Left  Speed\n",
      "100 16021  100 15999  100    22   4756      6  0:00:03  0:00:03 --:--:--  4763\n"
     ]
    },
    {
     "name": "stdout",
     "output_type": "stream",
     "text": [
      "PDB file generated successfully: /Users/jianchengluo/Desktop/CPPs/cpps_natrual/GKRKKKGKGLGKKRDPCLRKYK.pdb\n"
     ]
    },
    {
     "name": "stderr",
     "output_type": "stream",
     "text": [
      "  % Total    % Received % Xferd  Average Speed   Time    Time     Time  Current\n",
      "                                 Dload  Upload   Total   Spent    Left  Speed\n",
      "100  9367  100  9357  100    10   8813      9  0:00:01  0:00:01 --:--:--  8820\n"
     ]
    },
    {
     "name": "stdout",
     "output_type": "stream",
     "text": [
      "PDB file generated successfully: /Users/jianchengluo/Desktop/CPPs/cpps_natrual/GRKKRRQRRR.pdb\n"
     ]
    },
    {
     "name": "stderr",
     "output_type": "stream",
     "text": [
      "  % Total    % Received % Xferd  Average Speed   Time    Time     Time  Current\n",
      "                                 Dload  Upload   Total   Spent    Left  Speed\n",
      "100 10340  100 10329  100    11   9846     10  0:00:01  0:00:01 --:--:--  9866\n"
     ]
    },
    {
     "name": "stdout",
     "output_type": "stream",
     "text": [
      "PDB file generated successfully: /Users/jianchengluo/Desktop/CPPs/cpps_natrual/YGRKKRRQRRR.pdb\n"
     ]
    },
    {
     "name": "stderr",
     "output_type": "stream",
     "text": [
      "  % Total    % Received % Xferd  Average Speed   Time    Time     Time  Current\n",
      "                                 Dload  Upload   Total   Spent    Left  Speed\n",
      "100  4176  100  4173  100     3   1777      1  0:00:03  0:00:02  0:00:01  1778\n"
     ]
    },
    {
     "name": "stdout",
     "output_type": "stream",
     "text": [
      "PDB file generated successfully: /Users/jianchengluo/Desktop/CPPs/cpps_natrual/RRR.pdb\n"
     ]
    },
    {
     "name": "stderr",
     "output_type": "stream",
     "text": [
      "  % Total    % Received % Xferd  Average Speed   Time    Time     Time  Current\n",
      "                                 Dload  Upload   Total   Spent    Left  Speed\n",
      "100  5960  100  5955  100     5   5676      4  0:00:01  0:00:01 --:--:--  5687\n"
     ]
    },
    {
     "name": "stdout",
     "output_type": "stream",
     "text": [
      "PDB file generated successfully: /Users/jianchengluo/Desktop/CPPs/cpps_natrual/RRRRR.pdb\n"
     ]
    },
    {
     "name": "stderr",
     "output_type": "stream",
     "text": [
      "  % Total    % Received % Xferd  Average Speed   Time    Time     Time  Current\n",
      "                                 Dload  Upload   Total   Spent    Left  Speed\n",
      "100  7744  100  7737  100     7   7483      6  0:00:01  0:00:01 --:--:--  7496\n"
     ]
    },
    {
     "name": "stdout",
     "output_type": "stream",
     "text": [
      "PDB file generated successfully: /Users/jianchengluo/Desktop/CPPs/cpps_natrual/RRRRRRR.pdb\n"
     ]
    },
    {
     "name": "stderr",
     "output_type": "stream",
     "text": [
      "  % Total    % Received % Xferd  Average Speed   Time    Time     Time  Current\n",
      "                                 Dload  Upload   Total   Spent    Left  Speed\n",
      "100  9528  100  9519  100     9   9109      8  0:00:01  0:00:01 --:--:--  9126\n"
     ]
    },
    {
     "name": "stdout",
     "output_type": "stream",
     "text": [
      "PDB file generated successfully: /Users/jianchengluo/Desktop/CPPs/cpps_natrual/RRRRRRRRR.pdb\n"
     ]
    },
    {
     "name": "stderr",
     "output_type": "stream",
     "text": [
      "  % Total    % Received % Xferd  Average Speed   Time    Time     Time  Current\n",
      "                                 Dload  Upload   Total   Spent    Left  Speed\n",
      "100 11312  100 11301  100    11   3509      3  0:00:03  0:00:03 --:--:--  3513\n"
     ]
    },
    {
     "name": "stdout",
     "output_type": "stream",
     "text": [
      "PDB file generated successfully: /Users/jianchengluo/Desktop/CPPs/cpps_natrual/RRRRRRRRRRR.pdb\n"
     ]
    },
    {
     "name": "stderr",
     "output_type": "stream",
     "text": [
      "  % Total    % Received % Xferd  Average Speed   Time    Time     Time  Current\n",
      "                                 Dload  Upload   Total   Spent    Left  Speed\n",
      "100  4176  100  4173  100     3   3958      2  0:00:01  0:00:01 --:--:--  3958\n"
     ]
    },
    {
     "name": "stdout",
     "output_type": "stream",
     "text": [
      "PDB file generated successfully: /Users/jianchengluo/Desktop/CPPs/cpps_natrual/RRR.pdb\n"
     ]
    },
    {
     "name": "stderr",
     "output_type": "stream",
     "text": [
      "  % Total    % Received % Xferd  Average Speed   Time    Time     Time  Current\n",
      "                                 Dload  Upload   Total   Spent    Left  Speed\n",
      "100  4176  100  4173  100     3   3977      2  0:00:01  0:00:01 --:--:--  3980\n"
     ]
    },
    {
     "name": "stdout",
     "output_type": "stream",
     "text": [
      "PDB file generated successfully: /Users/jianchengluo/Desktop/CPPs/cpps_natrual/RRR.pdb\n"
     ]
    },
    {
     "name": "stderr",
     "output_type": "stream",
     "text": [
      "  % Total    % Received % Xferd  Average Speed   Time    Time     Time  Current\n",
      "                                 Dload  Upload   Total   Spent    Left  Speed\n",
      "100  7744  100  7737  100     7   7348      6  0:00:01  0:00:01 --:--:--  7361\n"
     ]
    },
    {
     "name": "stdout",
     "output_type": "stream",
     "text": [
      "PDB file generated successfully: /Users/jianchengluo/Desktop/CPPs/cpps_natrual/RRRRRRR.pdb\n"
     ]
    },
    {
     "name": "stderr",
     "output_type": "stream",
     "text": [
      "  % Total    % Received % Xferd  Average Speed   Time    Time     Time  Current\n",
      "                                 Dload  Upload   Total   Spent    Left  Speed\n",
      "100 11312  100 11301  100    11  10709     10  0:00:01  0:00:01 --:--:-- 10722\n"
     ]
    },
    {
     "name": "stdout",
     "output_type": "stream",
     "text": [
      "PDB file generated successfully: /Users/jianchengluo/Desktop/CPPs/cpps_natrual/RRRRRRRRRRR.pdb\n"
     ]
    },
    {
     "name": "stderr",
     "output_type": "stream",
     "text": [
      "  % Total    % Received % Xferd  Average Speed   Time    Time     Time  Current\n",
      "                                 Dload  Upload   Total   Spent    Left  Speed\n",
      "100  9448  100  9438  100    10   8907      9  0:00:01  0:00:01 --:--:--  8921\n"
     ]
    },
    {
     "name": "stdout",
     "output_type": "stream",
     "text": [
      "PDB file generated successfully: /Users/jianchengluo/Desktop/CPPs/cpps_natrual/RRRRRRRRGC.pdb\n"
     ]
    },
    {
     "name": "stderr",
     "output_type": "stream",
     "text": [
      "  % Total    % Received % Xferd  Average Speed   Time    Time     Time  Current\n",
      "                                 Dload  Upload   Total   Spent    Left  Speed\n",
      "100 14153  100 14136  100    17   5365      6  0:00:02  0:00:02 --:--:--  5373\n"
     ]
    },
    {
     "name": "stdout",
     "output_type": "stream",
     "text": [
      "PDB file generated successfully: /Users/jianchengluo/Desktop/CPPs/cpps_natrual/FFLIPKGRRRRRRRRGC.pdb\n"
     ]
    },
    {
     "name": "stderr",
     "output_type": "stream",
     "text": [
      "  % Total    % Received % Xferd  Average Speed   Time    Time     Time  Current\n",
      "                                 Dload  Upload   Total   Spent    Left  Speed\n",
      "100 12369  100 12354  100    15   3427      4  0:00:03  0:00:03 --:--:--  3431\n"
     ]
    },
    {
     "name": "stdout",
     "output_type": "stream",
     "text": [
      "PDB file generated successfully: /Users/jianchengluo/Desktop/CPPs/cpps_natrual/LILIGRRRRRRRRGC.pdb\n"
     ]
    },
    {
     "name": "stderr",
     "output_type": "stream",
     "text": [
      "  % Total    % Received % Xferd  Average Speed   Time    Time     Time  Current\n",
      "                                 Dload  Upload   Total   Spent    Left  Speed\n",
      "100 10665  100 10653  100    12    896      1  0:00:12  0:00:11  0:00:01  2767\n"
     ]
    },
    {
     "name": "stdout",
     "output_type": "stream",
     "text": [
      "PDB file generated successfully: /Users/jianchengluo/Desktop/CPPs/cpps_natrual/FFGRRRRRRRGC.pdb\n"
     ]
    },
    {
     "name": "stderr",
     "output_type": "stream",
     "text": [
      "  % Total    % Received % Xferd  Average Speed   Time    Time     Time  Current\n",
      "                                 Dload  Upload   Total   Spent    Left  Speed\n",
      "100 13341  100 13326  100    15   5496      6  0:00:02  0:00:02 --:--:--  5503\n"
     ]
    },
    {
     "name": "stdout",
     "output_type": "stream",
     "text": [
      "PDB file generated successfully: /Users/jianchengluo/Desktop/CPPs/cpps_natrual/FFFFGRRRRRRRRGC.pdb\n"
     ]
    },
    {
     "name": "stderr",
     "output_type": "stream",
     "text": [
      "  % Total    % Received % Xferd  Average Speed   Time    Time     Time  Current\n",
      "                                 Dload  Upload   Total   Spent    Left  Speed\n",
      "100 15125  100 15108  100    17   5809      6  0:00:02  0:00:02 --:--:--  5815\n"
     ]
    },
    {
     "name": "stdout",
     "output_type": "stream",
     "text": [
      "PDB file generated successfully: /Users/jianchengluo/Desktop/CPPs/cpps_natrual/FFFFFFGRRRRRRRRGC.pdb\n"
     ]
    },
    {
     "name": "stderr",
     "output_type": "stream",
     "text": [
      "  % Total    % Received % Xferd  Average Speed   Time    Time     Time  Current\n",
      "                                 Dload  Upload   Total   Spent    Left  Speed\n",
      "100  9528  100  9519  100     9   4449      4  0:00:02  0:00:02 --:--:--  4454\n"
     ]
    },
    {
     "name": "stdout",
     "output_type": "stream",
     "text": [
      "PDB file generated successfully: /Users/jianchengluo/Desktop/CPPs/cpps_natrual/RRRRRRRRR.pdb\n"
     ]
    },
    {
     "name": "stderr",
     "output_type": "stream",
     "text": [
      "  % Total    % Received % Xferd  Average Speed   Time    Time     Time  Current\n",
      "                                 Dload  Upload   Total   Spent    Left  Speed\n",
      "100 14153  100 14136  100    17   3368      4  0:00:04  0:00:04 --:--:--  3372\n"
     ]
    },
    {
     "name": "stdout",
     "output_type": "stream",
     "text": [
      "PDB file generated successfully: /Users/jianchengluo/Desktop/CPPs/cpps_natrual/FFLIPKGRRRRRRRRGC.pdb\n"
     ]
    },
    {
     "name": "stderr",
     "output_type": "stream",
     "text": [
      "  % Total    % Received % Xferd  Average Speed   Time    Time     Time  Current\n",
      "                                 Dload  Upload   Total   Spent    Left  Speed\n",
      "100 13341  100 13326  100    15   9549     10  0:00:01  0:00:01 --:--:--  9563\n"
     ]
    },
    {
     "name": "stdout",
     "output_type": "stream",
     "text": [
      "PDB file generated successfully: /Users/jianchengluo/Desktop/CPPs/cpps_natrual/FFFFGRRRRRRRRGC.pdb\n"
     ]
    },
    {
     "name": "stderr",
     "output_type": "stream",
     "text": [
      "  % Total    % Received % Xferd  Average Speed   Time    Time     Time  Current\n",
      "                                 Dload  Upload   Total   Spent    Left  Speed\n",
      "100  9528  100  9519  100     9   7041      6  0:00:01  0:00:01 --:--:--  7052\n"
     ]
    },
    {
     "name": "stdout",
     "output_type": "stream",
     "text": [
      "PDB file generated successfully: /Users/jianchengluo/Desktop/CPPs/cpps_natrual/RRRRRRRRR.pdb\n"
     ]
    },
    {
     "name": "stderr",
     "output_type": "stream",
     "text": [
      "  % Total    % Received % Xferd  Average Speed   Time    Time     Time  Current\n",
      "                                 Dload  Upload   Total   Spent    Left  Speed\n",
      "100 14153  100 14136  100    17   9966     11  0:00:01  0:00:01 --:--:--  9973\n"
     ]
    },
    {
     "name": "stdout",
     "output_type": "stream",
     "text": [
      "PDB file generated successfully: /Users/jianchengluo/Desktop/CPPs/cpps_natrual/FFLIPKGRRRRRRRRGC.pdb\n"
     ]
    },
    {
     "name": "stderr",
     "output_type": "stream",
     "text": [
      "  % Total    % Received % Xferd  Average Speed   Time    Time     Time  Current\n",
      "                                 Dload  Upload   Total   Spent    Left  Speed\n",
      "100 13341  100 13326  100    15   8293      9  0:00:01  0:00:01 --:--:--  8306\n"
     ]
    },
    {
     "name": "stdout",
     "output_type": "stream",
     "text": [
      "PDB file generated successfully: /Users/jianchengluo/Desktop/CPPs/cpps_natrual/FFFFGRRRRRRRRGC.pdb\n"
     ]
    },
    {
     "name": "stderr",
     "output_type": "stream",
     "text": [
      "  % Total    % Received % Xferd  Average Speed   Time    Time     Time  Current\n",
      "                                 Dload  Upload   Total   Spent    Left  Speed\n",
      "100 12127  100 12111  100    16   3700      4  0:00:04  0:00:03  0:00:01  3705\n"
     ]
    },
    {
     "name": "stdout",
     "output_type": "stream",
     "text": [
      "PDB file generated successfully: /Users/jianchengluo/Desktop/CPPs/cpps_natrual/GCGGGYGRKKRRQRRR.pdb\n"
     ]
    },
    {
     "name": "stderr",
     "output_type": "stream",
     "text": [
      "  % Total    % Received % Xferd  Average Speed   Time    Time     Time  Current\n",
      "                                 Dload  Upload   Total   Spent    Left  Speed\n",
      "100 18371  100 18348  100    23   6968      8  0:00:02  0:00:02 --:--:--  6979\n"
     ]
    },
    {
     "name": "stdout",
     "output_type": "stream",
     "text": [
      "PDB file generated successfully: /Users/jianchengluo/Desktop/CPPs/cpps_natrual/YGRKKRRQRRRGTALDWSWLQTE.pdb\n"
     ]
    },
    {
     "name": "stderr",
     "output_type": "stream",
     "text": [
      "  % Total    % Received % Xferd  Average Speed   Time    Time     Time  Current\n",
      "                                 Dload  Upload   Total   Spent    Left  Speed\n",
      "100   199  100   161  100    38    154     36  0:00:01  0:00:01 --:--:--   191\n"
     ]
    },
    {
     "name": "stdout",
     "output_type": "stream",
     "text": [
      "PDB file generated successfully: /Users/jianchengluo/Desktop/CPPs/cpps_natrual/CGNVVRQGC-G-YGRK-KRRQRRR-G-TALDWSWLQTE.pdb\n"
     ]
    },
    {
     "name": "stderr",
     "output_type": "stream",
     "text": [
      "  % Total    % Received % Xferd  Average Speed   Time    Time     Time  Current\n",
      "                                 Dload  Upload   Total   Spent    Left  Speed\n",
      "100 10015  100 10005  100    10   4185      4  0:00:02  0:00:02 --:--:--  4188\n"
     ]
    },
    {
     "name": "stdout",
     "output_type": "stream",
     "text": [
      "PDB file generated successfully: /Users/jianchengluo/Desktop/CPPs/cpps_natrual/SRRRRRRRRR.pdb\n"
     ]
    },
    {
     "name": "stderr",
     "output_type": "stream",
     "text": [
      "  % Total    % Received % Xferd  Average Speed   Time    Time     Time  Current\n",
      "                                 Dload  Upload   Total   Spent    Left  Speed\n",
      "100 18612  100 18591  100    21   3654      4  0:00:05  0:00:05 --:--:--  4310\n"
     ]
    },
    {
     "name": "stdout",
     "output_type": "stream",
     "text": [
      "PDB file generated successfully: /Users/jianchengluo/Desktop/CPPs/cpps_natrual/CHHHHHRRRRRRRRRHHHHHC.pdb\n"
     ]
    },
    {
     "name": "stderr",
     "output_type": "stream",
     "text": [
      "  % Total    % Received % Xferd  Average Speed   Time    Time     Time  Current\n",
      "                                 Dload  Upload   Total   Spent    Left  Speed\n",
      "100 14233  100 14217  100    16   5535      6  0:00:02  0:00:02 --:--:--  5540\n"
     ]
    },
    {
     "name": "stdout",
     "output_type": "stream",
     "text": [
      "PDB file generated successfully: /Users/jianchengluo/Desktop/CPPs/cpps_natrual/FFLIPKGRRRRRRRRR.pdb\n"
     ]
    },
    {
     "name": "stderr",
     "output_type": "stream",
     "text": [
      "  % Total    % Received % Xferd  Average Speed   Time    Time     Time  Current\n",
      "                                 Dload  Upload   Total   Spent    Left  Speed\n",
      "100 11802  100 11787  100    15   4945      6  0:00:02  0:00:02 --:--:--  4952\n"
     ]
    },
    {
     "name": "stdout",
     "output_type": "stream",
     "text": [
      "PDB file generated successfully: /Users/jianchengluo/Desktop/CPPs/cpps_natrual/CGGGYGRKKRRQRRR.pdb\n"
     ]
    },
    {
     "name": "stderr",
     "output_type": "stream",
     "text": [
      "  % Total    % Received % Xferd  Average Speed   Time    Time     Time  Current\n",
      "                                 Dload  Upload   Total   Spent    Left  Speed\n",
      "100 20964  100 20940  100    24   7546      8  0:00:03  0:00:02  0:00:01  7554\n"
     ]
    },
    {
     "name": "stdout",
     "output_type": "stream",
     "text": [
      "PDB file generated successfully: /Users/jianchengluo/Desktop/CPPs/cpps_natrual/GLWWKAWWKAWWKSLWWRKRKRKA.pdb\n"
     ]
    },
    {
     "name": "stderr",
     "output_type": "stream",
     "text": [
      "  % Total    % Received % Xferd  Average Speed   Time    Time     Time  Current\n",
      "                                 Dload  Upload   Total   Spent    Left  Speed\n",
      "100  9771  100  9762  100     9   4257      3  0:00:03  0:00:02  0:00:01  4263\n"
     ]
    },
    {
     "name": "stdout",
     "output_type": "stream",
     "text": [
      "PDB file generated successfully: /Users/jianchengluo/Desktop/CPPs/cpps_natrual/WRRRRRRRR.pdb\n"
     ]
    },
    {
     "name": "stderr",
     "output_type": "stream",
     "text": [
      "  % Total    % Received % Xferd  Average Speed   Time    Time     Time  Current\n",
      "                                 Dload  Upload   Total   Spent    Left  Speed\n",
      "100 10906  100 10896  100    10   4649      4  0:00:02  0:00:02 --:--:--  4654\n"
     ]
    },
    {
     "name": "stdout",
     "output_type": "stream",
     "text": [
      "PDB file generated successfully: /Users/jianchengluo/Desktop/CPPs/cpps_natrual/WWRRRRRRRR.pdb\n"
     ]
    },
    {
     "name": "stderr",
     "output_type": "stream",
     "text": [
      "  % Total    % Received % Xferd  Average Speed   Time    Time     Time  Current\n",
      "                                 Dload  Upload   Total   Spent    Left  Speed\n",
      "100 12041  100 12030  100    11   5150      4  0:00:02  0:00:02 --:--:--  5154\n"
     ]
    },
    {
     "name": "stdout",
     "output_type": "stream",
     "text": [
      "PDB file generated successfully: /Users/jianchengluo/Desktop/CPPs/cpps_natrual/WWWRRRRRRRR.pdb\n"
     ]
    },
    {
     "name": "stderr",
     "output_type": "stream",
     "text": [
      "  % Total    % Received % Xferd  Average Speed   Time    Time     Time  Current\n",
      "                                 Dload  Upload   Total   Spent    Left  Speed\n",
      "100 13176  100 13164  100    12   5708      5  0:00:02  0:00:02 --:--:--  5713\n"
     ]
    },
    {
     "name": "stdout",
     "output_type": "stream",
     "text": [
      "PDB file generated successfully: /Users/jianchengluo/Desktop/CPPs/cpps_natrual/WWWWRRRRRRRR.pdb\n"
     ]
    },
    {
     "name": "stderr",
     "output_type": "stream",
     "text": [
      "  % Total    % Received % Xferd  Average Speed   Time    Time     Time  Current\n",
      "                                 Dload  Upload   Total   Spent    Left  Speed\n",
      "100 13176  100 13164  100    12   5648      5  0:00:02  0:00:02 --:--:--  5654\n"
     ]
    },
    {
     "name": "stdout",
     "output_type": "stream",
     "text": [
      "PDB file generated successfully: /Users/jianchengluo/Desktop/CPPs/cpps_natrual/RRRRWWWWRRRR.pdb\n"
     ]
    },
    {
     "name": "stderr",
     "output_type": "stream",
     "text": [
      "  % Total    % Received % Xferd  Average Speed   Time    Time     Time  Current\n",
      "                                 Dload  Upload   Total   Spent    Left  Speed\n",
      "100 13176  100 13164  100    12   5656      5  0:00:02  0:00:02 --:--:--  5659\n"
     ]
    },
    {
     "name": "stdout",
     "output_type": "stream",
     "text": [
      "PDB file generated successfully: /Users/jianchengluo/Desktop/CPPs/cpps_natrual/RWRRWRRWRRWR.pdb\n"
     ]
    },
    {
     "name": "stderr",
     "output_type": "stream",
     "text": [
      "  % Total    % Received % Xferd  Average Speed   Time    Time     Time  Current\n",
      "                                 Dload  Upload   Total   Spent    Left  Speed\n",
      "100 28920  100 28878  100    42  18808     27  0:00:01  0:00:01 --:--:-- 18840\n"
     ]
    },
    {
     "name": "stdout",
     "output_type": "stream",
     "text": [
      "PDB file generated successfully: /Users/jianchengluo/Desktop/CPPs/cpps_natrual/YKQCHKKGGHCFPKEKICLPPSSDFGKMDCRWRWKCCKKGSG.pdb\n"
     ]
    },
    {
     "name": "stderr",
     "output_type": "stream",
     "text": [
      "  % Total    % Received % Xferd  Average Speed   Time    Time     Time  Current\n",
      "                                 Dload  Upload   Total   Spent    Left  Speed\n",
      "100 10016  100 10005  100    11   4235      4  0:00:02  0:00:02 --:--:--  4238\n"
     ]
    },
    {
     "name": "stdout",
     "output_type": "stream",
     "text": [
      "PDB file generated successfully: /Users/jianchengluo/Desktop/CPPs/cpps_natrual/YGRKKRPQRRR.pdb\n"
     ]
    },
    {
     "name": "stderr",
     "output_type": "stream",
     "text": [
      "  % Total    % Received % Xferd  Average Speed   Time    Time     Time  Current\n",
      "                                 Dload  Upload   Total   Spent    Left  Speed\n",
      "100 13098  100 13083  100    15   5629      6  0:00:02  0:00:02 --:--:--  5638\n"
     ]
    },
    {
     "name": "stdout",
     "output_type": "stream",
     "text": [
      "PDB file generated successfully: /Users/jianchengluo/Desktop/CPPs/cpps_natrual/DSLKSYWYLQKFSWR.pdb\n"
     ]
    },
    {
     "name": "stderr",
     "output_type": "stream",
     "text": [
      "  % Total    % Received % Xferd  Average Speed   Time    Time     Time  Current\n",
      "                                 Dload  Upload   Total   Spent    Left  Speed\n",
      "100 13098  100 13083  100    15   4140      4  0:00:03  0:00:03 --:--:--  4144\n"
     ]
    },
    {
     "name": "stdout",
     "output_type": "stream",
     "text": [
      "PDB file generated successfully: /Users/jianchengluo/Desktop/CPPs/cpps_natrual/KLWMRWWSPTTRRYG.pdb\n"
     ]
    },
    {
     "name": "stderr",
     "output_type": "stream",
     "text": [
      "  % Total    % Received % Xferd  Average Speed   Time    Time     Time  Current\n",
      "                                 Dload  Upload   Total   Spent    Left  Speed\n",
      "100 13827  100 13812  100    15   3260      3  0:00:05  0:00:04  0:00:01  3481\n"
     ]
    },
    {
     "name": "stdout",
     "output_type": "stream",
     "text": [
      "PDB file generated successfully: /Users/jianchengluo/Desktop/CPPs/cpps_natrual/RLWMRWYSPWTRRWG.pdb\n"
     ]
    },
    {
     "name": "stderr",
     "output_type": "stream",
     "text": [
      "  % Total    % Received % Xferd  Average Speed   Time    Time     Time  Current\n",
      "                                 Dload  Upload   Total   Spent    Left  Speed\n",
      "100 12045  100 12030  100    15   4887      6  0:00:02  0:00:02 --:--:--  4894\n"
     ]
    },
    {
     "name": "stdout",
     "output_type": "stream",
     "text": [
      "PDB file generated successfully: /Users/jianchengluo/Desktop/CPPs/cpps_natrual/RLIMRIYAPTTRRYG.pdb\n"
     ]
    },
    {
     "name": "stderr",
     "output_type": "stream",
     "text": [
      "  % Total    % Received % Xferd  Average Speed   Time    Time     Time  Current\n",
      "                                 Dload  Upload   Total   Spent    Left  Speed\n",
      "100 12774  100 12759  100    15   3488      4  0:00:03  0:00:03 --:--:--  3492\n"
     ]
    },
    {
     "name": "stdout",
     "output_type": "stream",
     "text": [
      "PDB file generated successfully: /Users/jianchengluo/Desktop/CPPs/cpps_natrual/RLYMRYYSPTTRRYG.pdb\n"
     ]
    },
    {
     "name": "stderr",
     "output_type": "stream",
     "text": [
      "  % Total    % Received % Xferd  Average Speed   Time    Time     Time  Current\n",
      "                                 Dload  Upload   Total   Spent    Left  Speed\n",
      "100 12936  100 12921  100    15   1556      1  0:00:15  0:00:08  0:00:07  3016\n"
     ]
    },
    {
     "name": "stdout",
     "output_type": "stream",
     "text": [
      "PDB file generated successfully: /Users/jianchengluo/Desktop/CPPs/cpps_natrual/RLWMRWYSPRTRAYG.pdb\n"
     ]
    },
    {
     "name": "stderr",
     "output_type": "stream",
     "text": [
      "  % Total    % Received % Xferd  Average Speed   Time    Time     Time  Current\n",
      "                                 Dload  Upload   Total   Spent    Left  Speed\n",
      "100 12855  100 12840  100    15   2746      3  0:00:05  0:00:04  0:00:01  3087\n"
     ]
    },
    {
     "name": "stdout",
     "output_type": "stream",
     "text": [
      "PDB file generated successfully: /Users/jianchengluo/Desktop/CPPs/cpps_natrual/KRPTMRFRYTWNPMK.pdb\n"
     ]
    },
    {
     "name": "stderr",
     "output_type": "stream",
     "text": [
      "  % Total    % Received % Xferd  Average Speed   Time    Time     Time  Current\n",
      "                                 Dload  Upload   Total   Spent    Left  Speed\n",
      "100 13260  100 13245  100    15   5589      6  0:00:02  0:00:02 --:--:--  5597\n"
     ]
    },
    {
     "name": "stdout",
     "output_type": "stream",
     "text": [
      "PDB file generated successfully: /Users/jianchengluo/Desktop/CPPs/cpps_natrual/WKCRRQCFRVLHHWN.pdb\n"
     ]
    },
    {
     "name": "stderr",
     "output_type": "stream",
     "text": [
      "  % Total    % Received % Xferd  Average Speed   Time    Time     Time  Current\n",
      "                                 Dload  Upload   Total   Spent    Left  Speed\n",
      "100 13179  100 13164  100    15   5467      6  0:00:02  0:00:02 --:--:--  5473\n"
     ]
    },
    {
     "name": "stdout",
     "output_type": "stream",
     "text": [
      "PDB file generated successfully: /Users/jianchengluo/Desktop/CPPs/cpps_natrual/WKCRRQAFRVLHHWN.pdb\n"
     ]
    },
    {
     "name": "stderr",
     "output_type": "stream",
     "text": [
      "  % Total    % Received % Xferd  Average Speed   Time    Time     Time  Current\n",
      "                                 Dload  Upload   Total   Spent    Left  Speed\n",
      "100 13179  100 13164  100    15   2338      2  0:00:07  0:00:05  0:00:02  2851\n"
     ]
    },
    {
     "name": "stdout",
     "output_type": "stream",
     "text": [
      "PDB file generated successfully: /Users/jianchengluo/Desktop/CPPs/cpps_natrual/WKARRQCFRVLHHWN.pdb\n"
     ]
    },
    {
     "name": "stderr",
     "output_type": "stream",
     "text": [
      "  % Total    % Received % Xferd  Average Speed   Time    Time     Time  Current\n",
      "                                 Dload  Upload   Total   Spent    Left  Speed\n",
      "100  8636  100  8628  100     8   7686      7  0:00:01  0:00:01 --:--:--  7696\n"
     ]
    },
    {
     "name": "stdout",
     "output_type": "stream",
     "text": [
      "PDB file generated successfully: /Users/jianchengluo/Desktop/CPPs/cpps_natrual/RRRRRRRR.pdb\n"
     ]
    },
    {
     "name": "stderr",
     "output_type": "stream",
     "text": [
      "  % Total    % Received % Xferd  Average Speed   Time    Time     Time  Current\n",
      "                                 Dload  Upload   Total   Spent    Left  Speed\n",
      "100  8636  100  8628  100     8   7907      7  0:00:01  0:00:01 --:--:--  7908\n"
     ]
    },
    {
     "name": "stdout",
     "output_type": "stream",
     "text": [
      "PDB file generated successfully: /Users/jianchengluo/Desktop/CPPs/cpps_natrual/RRRRRRRR.pdb\n"
     ]
    },
    {
     "name": "stderr",
     "output_type": "stream",
     "text": [
      "  % Total    % Received % Xferd  Average Speed   Time    Time     Time  Current\n",
      "                                 Dload  Upload   Total   Spent    Left  Speed\n",
      "100 14314  100 14298  100    16  11074     12  0:00:01  0:00:01 --:--:-- 11096\n"
     ]
    },
    {
     "name": "stdout",
     "output_type": "stream",
     "text": [
      "PDB file generated successfully: /Users/jianchengluo/Desktop/CPPs/cpps_natrual/RQIKIWFQNRRMKWKK.pdb\n"
     ]
    },
    {
     "name": "stderr",
     "output_type": "stream",
     "text": [
      "  % Total    % Received % Xferd  Average Speed   Time    Time     Time  Current\n",
      "                                 Dload  Upload   Total   Spent    Left  Speed\n",
      "100  8636  100  8628  100     8   8344      7  0:00:01  0:00:01 --:--:--  8360\n"
     ]
    },
    {
     "name": "stdout",
     "output_type": "stream",
     "text": [
      "PDB file generated successfully: /Users/jianchengluo/Desktop/CPPs/cpps_natrual/RRRRRRRR.pdb\n"
     ]
    },
    {
     "name": "stderr",
     "output_type": "stream",
     "text": [
      "  % Total    % Received % Xferd  Average Speed   Time    Time     Time  Current\n",
      "                                 Dload  Upload   Total   Spent    Left  Speed\n",
      "100  8393  100  8385  100     8   3222      3  0:00:02  0:00:02 --:--:--  3224\n"
     ]
    },
    {
     "name": "stdout",
     "output_type": "stream",
     "text": [
      "PDB file generated successfully: /Users/jianchengluo/Desktop/CPPs/cpps_natrual/RRRRRHHH.pdb\n"
     ]
    },
    {
     "name": "stderr",
     "output_type": "stream",
     "text": [
      "  % Total    % Received % Xferd  Average Speed   Time    Time     Time  Current\n",
      "                                 Dload  Upload   Total   Spent    Left  Speed\n",
      "100  9285  100  9276  100     9   2317      2  0:00:04  0:00:04 --:--:--  2320\n"
     ]
    },
    {
     "name": "stdout",
     "output_type": "stream",
     "text": [
      "PDB file generated successfully: /Users/jianchengluo/Desktop/CPPs/cpps_natrual/RRRRRRHHH.pdb\n"
     ]
    },
    {
     "name": "stderr",
     "output_type": "stream",
     "text": [
      "  % Total    % Received % Xferd  Average Speed   Time    Time     Time  Current\n",
      "                                 Dload  Upload   Total   Spent    Left  Speed\n",
      "100 10177  100 10167  100    10   4352      4  0:00:02  0:00:02 --:--:--  4358\n"
     ]
    },
    {
     "name": "stdout",
     "output_type": "stream",
     "text": [
      "PDB file generated successfully: /Users/jianchengluo/Desktop/CPPs/cpps_natrual/RRRRRRRHHH.pdb\n"
     ]
    },
    {
     "name": "stderr",
     "output_type": "stream",
     "text": [
      "  % Total    % Received % Xferd  Average Speed   Time    Time     Time  Current\n",
      "                                 Dload  Upload   Total   Spent    Left  Speed\n",
      "100 11069  100 11058  100    11   4773      4  0:00:02  0:00:02 --:--:--  4779\n"
     ]
    },
    {
     "name": "stdout",
     "output_type": "stream",
     "text": [
      "PDB file generated successfully: /Users/jianchengluo/Desktop/CPPs/cpps_natrual/RRRRRRRRHHH.pdb\n"
     ]
    },
    {
     "name": "stderr",
     "output_type": "stream",
     "text": [
      "  % Total    % Received % Xferd  Average Speed   Time    Time     Time  Current\n",
      "                                 Dload  Upload   Total   Spent    Left  Speed\n",
      "100 11961  100 11949  100    12   5249      5  0:00:02  0:00:02 --:--:--  5252\n"
     ]
    },
    {
     "name": "stdout",
     "output_type": "stream",
     "text": [
      "PDB file generated successfully: /Users/jianchengluo/Desktop/CPPs/cpps_natrual/RRRRRRRRRHHH.pdb\n"
     ]
    },
    {
     "name": "stderr",
     "output_type": "stream",
     "text": [
      "  % Total    % Received % Xferd  Average Speed   Time    Time     Time  Current\n",
      "                                 Dload  Upload   Total   Spent    Left  Speed\n",
      "100 15369  100 15351  100    18   3759      4  0:00:04  0:00:04 --:--:--  3765\n"
     ]
    },
    {
     "name": "stdout",
     "output_type": "stream",
     "text": [
      "PDB file generated successfully: /Users/jianchengluo/Desktop/CPPs/cpps_natrual/RLLRLLLRLWRRLLRLLR.pdb\n"
     ]
    },
    {
     "name": "stderr",
     "output_type": "stream",
     "text": [
      "  % Total    % Received % Xferd  Average Speed   Time    Time     Time  Current\n",
      "                                 Dload  Upload   Total   Spent    Left  Speed\n",
      "100 10420  100 10410  100    10   4269      4  0:00:02  0:00:02 --:--:--  4273\n"
     ]
    },
    {
     "name": "stdout",
     "output_type": "stream",
     "text": [
      "PDB file generated successfully: /Users/jianchengluo/Desktop/CPPs/cpps_natrual/RRRRRRRRRR.pdb\n"
     ]
    },
    {
     "name": "stderr",
     "output_type": "stream",
     "text": [
      "  % Total    % Received % Xferd  Average Speed   Time    Time     Time  Current\n",
      "                                 Dload  Upload   Total   Spent    Left  Speed\n",
      "100 21539  100 21507  100    32   7963     11  0:00:02  0:00:02 --:--:--  7974\n"
     ]
    },
    {
     "name": "stdout",
     "output_type": "stream",
     "text": [
      "PDB file generated successfully: /Users/jianchengluo/Desktop/CPPs/cpps_natrual/CKDEPQRRSARLSAKPAPPKPEPKPKKAPAKK.pdb\n"
     ]
    },
    {
     "name": "stderr",
     "output_type": "stream",
     "text": [
      "  % Total    % Received % Xferd  Average Speed   Time    Time     Time  Current\n",
      "                                 Dload  Upload   Total   Spent    Left  Speed\n",
      "100 14314  100 14298  100    16   7086      7  0:00:02  0:00:02 --:--:--  7096\n"
     ]
    },
    {
     "name": "stdout",
     "output_type": "stream",
     "text": [
      "PDB file generated successfully: /Users/jianchengluo/Desktop/CPPs/cpps_natrual/RQIKIWFQNRRMKWKK.pdb\n"
     ]
    },
    {
     "name": "stderr",
     "output_type": "stream",
     "text": [
      "  % Total    % Received % Xferd  Average Speed   Time    Time     Time  Current\n",
      "                                 Dload  Upload   Total   Spent    Left  Speed\n",
      "100   178  100   161  100    17    130     13  0:00:01  0:00:01 --:--:--   144\n"
     ]
    },
    {
     "name": "stdout",
     "output_type": "stream",
     "text": [
      "PDB file generated successfully: /Users/jianchengluo/Desktop/CPPs/cpps_natrual/CALNN-YGRKKRRQRRR.pdb\n"
     ]
    },
    {
     "name": "stderr",
     "output_type": "stream",
     "text": [
      "  % Total    % Received % Xferd  Average Speed   Time    Time     Time  Current\n",
      "                                 Dload  Upload   Total   Spent    Left  Speed\n",
      "100 29163  100 29121  100    42   9894     14  0:00:03  0:00:02  0:00:01  9905\n"
     ]
    },
    {
     "name": "stdout",
     "output_type": "stream",
     "text": [
      "PDB file generated successfully: /Users/jianchengluo/Desktop/CPPs/cpps_natrual/GIGKFLHSAKKFGKAFVGEIMNSGGKKWKMRRNQFWVKVQRG.pdb\n"
     ]
    },
    {
     "name": "stderr",
     "output_type": "stream",
     "text": [
      "  % Total    % Received % Xferd  Average Speed   Time    Time     Time  Current\n",
      "                                 Dload  Upload   Total   Spent    Left  Speed\n",
      "100 17154  100 17133  100    21   6536      8  0:00:02  0:00:02 --:--:--  6542\n"
     ]
    },
    {
     "name": "stdout",
     "output_type": "stream",
     "text": [
      "PDB file generated successfully: /Users/jianchengluo/Desktop/CPPs/cpps_natrual/YGRKKRRQRRTALDWSWLQTE.pdb\n"
     ]
    },
    {
     "name": "stderr",
     "output_type": "stream",
     "text": [
      "  % Total    % Received % Xferd  Average Speed   Time    Time     Time  Current\n",
      "                                 Dload  Upload   Total   Spent    Left  Speed\n",
      "100 15696  100 15675  100    21   5965      7  0:00:03  0:00:02  0:00:01  5974\n"
     ]
    },
    {
     "name": "stdout",
     "output_type": "stream",
     "text": [
      "PDB file generated successfully: /Users/jianchengluo/Desktop/CPPs/cpps_natrual/YGRKKRRQRRTALDASALQTE.pdb\n"
     ]
    },
    {
     "name": "stderr",
     "output_type": "stream",
     "text": [
      "  % Total    % Received % Xferd  Average Speed   Time    Time     Time  Current\n",
      "                                 Dload  Upload   Total   Spent    Left  Speed\n",
      "100 15613  100 15594  100    19   5329      6  0:00:03  0:00:02  0:00:01  5337\n"
     ]
    },
    {
     "name": "stdout",
     "output_type": "stream",
     "text": [
      "PDB file generated successfully: /Users/jianchengluo/Desktop/CPPs/cpps_natrual/RLLRLLRRLLRLLRRLLRC.pdb\n"
     ]
    },
    {
     "name": "stderr",
     "output_type": "stream",
     "text": [
      "  % Total    % Received % Xferd  Average Speed   Time    Time     Time  Current\n",
      "                                 Dload  Upload   Total   Spent    Left  Speed\n",
      "100 14398  100 14379  100    19   5301      7  0:00:02  0:00:02 --:--:--  5307\n"
     ]
    },
    {
     "name": "stdout",
     "output_type": "stream",
     "text": [
      "PDB file generated successfully: /Users/jianchengluo/Desktop/CPPs/cpps_natrual/RGDRGDRRDLRLDRGDLRC.pdb\n"
     ]
    },
    {
     "name": "stderr",
     "output_type": "stream",
     "text": [
      "  % Total    % Received % Xferd  Average Speed   Time    Time     Time  Current\n",
      "                                 Dload  Upload   Total   Spent    Left  Speed\n",
      "100 15289  100 15270  100    19   5811      7  0:00:02  0:00:02 --:--:--  5817\n"
     ]
    },
    {
     "name": "stdout",
     "output_type": "stream",
     "text": [
      "PDB file generated successfully: /Users/jianchengluo/Desktop/CPPs/cpps_natrual/RGDRLDRRDLRLDRRDLRC.pdb\n"
     ]
    },
    {
     "name": "stderr",
     "output_type": "stream",
     "text": [
      "  % Total    % Received % Xferd  Average Speed   Time    Time     Time  Current\n",
      "                                 Dload  Upload   Total   Spent    Left  Speed\n",
      "100 14803  100 14784  100    19   3126      4  0:00:04  0:00:04 --:--:--  3773\n"
     ]
    },
    {
     "name": "stdout",
     "output_type": "stream",
     "text": [
      "PDB file generated successfully: /Users/jianchengluo/Desktop/CPPs/cpps_natrual/RGERGERRELRLERGELRC.pdb\n"
     ]
    },
    {
     "name": "stderr",
     "output_type": "stream",
     "text": [
      "  % Total    % Received % Xferd  Average Speed   Time    Time     Time  Current\n",
      "                                 Dload  Upload   Total   Spent    Left  Speed\n",
      "100 15694  100 15675  100    19   5484      6  0:00:03  0:00:02  0:00:01  5493\n"
     ]
    },
    {
     "name": "stdout",
     "output_type": "stream",
     "text": [
      "PDB file generated successfully: /Users/jianchengluo/Desktop/CPPs/cpps_natrual/RGERLERRELRLERRELRC.pdb\n"
     ]
    },
    {
     "name": "stderr",
     "output_type": "stream",
     "text": [
      "  % Total    % Received % Xferd  Average Speed   Time    Time     Time  Current\n",
      "                                 Dload  Upload   Total   Spent    Left  Speed\n",
      "100 12125  100 12111  100    14   5871      6  0:00:02  0:00:02 --:--:--  5880\n"
     ]
    },
    {
     "name": "stdout",
     "output_type": "stream",
     "text": [
      "PDB file generated successfully: /Users/jianchengluo/Desktop/CPPs/cpps_natrual/VSRRRRRRGGRRRR.pdb\n"
     ]
    },
    {
     "name": "stderr",
     "output_type": "stream",
     "text": [
      "  % Total    % Received % Xferd  Average Speed   Time    Time     Time  Current\n",
      "                                 Dload  Upload   Total   Spent    Left  Speed\n",
      "100 10257  100 10248  100     9   9887      8  0:00:01  0:00:01 --:--:--  9900\n"
     ]
    },
    {
     "name": "stdout",
     "output_type": "stream",
     "text": [
      "PDB file generated successfully: /Users/jianchengluo/Desktop/CPPs/cpps_natrual/RRWWRRWRR.pdb\n"
     ]
    },
    {
     "name": "stderr",
     "output_type": "stream",
     "text": [
      "  % Total    % Received % Xferd  Average Speed   Time    Time     Time  Current\n",
      "                                 Dload  Upload   Total   Spent    Left  Speed\n",
      "100  8799  100  8790  100     9   8163      8  0:00:01  0:00:01 --:--:--  8177\n"
     ]
    },
    {
     "name": "stdout",
     "output_type": "stream",
     "text": [
      "PDB file generated successfully: /Users/jianchengluo/Desktop/CPPs/cpps_natrual/RRLLRRLRR.pdb\n"
     ]
    },
    {
     "name": "stderr",
     "output_type": "stream",
     "text": [
      "  % Total    % Received % Xferd  Average Speed   Time    Time     Time  Current\n",
      "                                 Dload  Upload   Total   Spent    Left  Speed\n",
      "100 15775  100 15756  100    19   5925      7  0:00:02  0:00:02 --:--:--  5934\n"
     ]
    },
    {
     "name": "stdout",
     "output_type": "stream",
     "text": [
      "PDB file generated successfully: /Users/jianchengluo/Desktop/CPPs/cpps_natrual/GGGRRRRRRYGRKKRRQRR.pdb\n"
     ]
    },
    {
     "name": "stderr",
     "output_type": "stream",
     "text": [
      "  % Total    % Received % Xferd  Average Speed   Time    Time     Time  Current\n",
      "                                 Dload  Upload   Total   Spent    Left  Speed\n",
      "100  8636  100  8628  100     8   2810      2  0:00:04  0:00:03  0:00:01  2813\n"
     ]
    },
    {
     "name": "stdout",
     "output_type": "stream",
     "text": [
      "PDB file generated successfully: /Users/jianchengluo/Desktop/CPPs/cpps_natrual/RRRRRRRR.pdb\n"
     ]
    },
    {
     "name": "stderr",
     "output_type": "stream",
     "text": [
      "  % Total    % Received % Xferd  Average Speed   Time    Time     Time  Current\n",
      "                                 Dload  Upload   Total   Spent    Left  Speed\n",
      "100  8636  100  8628  100     8   7713      7  0:00:01  0:00:01 --:--:--  7724\n"
     ]
    },
    {
     "name": "stdout",
     "output_type": "stream",
     "text": [
      "PDB file generated successfully: /Users/jianchengluo/Desktop/CPPs/cpps_natrual/RRRRRRRR.pdb\n"
     ]
    },
    {
     "name": "stderr",
     "output_type": "stream",
     "text": [
      "  % Total    % Received % Xferd  Average Speed   Time    Time     Time  Current\n",
      "                                 Dload  Upload   Total   Spent    Left  Speed\n",
      "100 11803  100 11787  100    16   5024      6  0:00:02  0:00:02 --:--:--  5033\n"
     ]
    },
    {
     "name": "stdout",
     "output_type": "stream",
     "text": [
      "PDB file generated successfully: /Users/jianchengluo/Desktop/CPPs/cpps_natrual/GLKKLAELFHKLLKLG.pdb\n"
     ]
    },
    {
     "name": "stderr",
     "output_type": "stream",
     "text": [
      "  % Total    % Received % Xferd  Average Speed   Time    Time     Time  Current\n",
      "                                 Dload  Upload   Total   Spent    Left  Speed\n",
      "100 10992  100 10977  100    15   4035      5  0:00:03  0:00:02  0:00:01  4041\n"
     ]
    },
    {
     "name": "stdout",
     "output_type": "stream",
     "text": [
      "PDB file generated successfully: /Users/jianchengluo/Desktop/CPPs/cpps_natrual/LKKLAELAHKLLKLG.pdb\n"
     ]
    },
    {
     "name": "stderr",
     "output_type": "stream",
     "text": [
      "  % Total    % Received % Xferd  Average Speed   Time    Time     Time  Current\n",
      "                                 Dload  Upload   Total   Spent    Left  Speed\n",
      "100 11803  100 11787  100    16   2728      3  0:00:05  0:00:04  0:00:01  2732\n"
     ]
    },
    {
     "name": "stdout",
     "output_type": "stream",
     "text": [
      "PDB file generated successfully: /Users/jianchengluo/Desktop/CPPs/cpps_natrual/GLKKLAELFHKLLKLG.pdb\n"
     ]
    },
    {
     "name": "stderr",
     "output_type": "stream",
     "text": [
      "  % Total    % Received % Xferd  Average Speed   Time    Time     Time  Current\n",
      "                                 Dload  Upload   Total   Spent    Left  Speed\n",
      "100 11317  100 11301  100    16   4801      6  0:00:02  0:00:02 --:--:--  4807\n"
     ]
    },
    {
     "name": "stdout",
     "output_type": "stream",
     "text": [
      "PDB file generated successfully: /Users/jianchengluo/Desktop/CPPs/cpps_natrual/GLKKLAELAHKLLKLG.pdb\n"
     ]
    },
    {
     "name": "stderr",
     "output_type": "stream",
     "text": [
      "  % Total    % Received % Xferd  Average Speed   Time    Time     Time  Current\n",
      "                                 Dload  Upload   Total   Spent    Left  Speed\n",
      "100 11803  100 11787  100    16  11204     15  0:00:01  0:00:01 --:--:-- 11230\n"
     ]
    },
    {
     "name": "stdout",
     "output_type": "stream",
     "text": [
      "PDB file generated successfully: /Users/jianchengluo/Desktop/CPPs/cpps_natrual/GLKKLAELFHKLLKLG.pdb\n"
     ]
    },
    {
     "name": "stderr",
     "output_type": "stream",
     "text": [
      "  % Total    % Received % Xferd  Average Speed   Time    Time     Time  Current\n",
      "                                 Dload  Upload   Total   Spent    Left  Speed\n",
      "100 11317  100 11301  100    16  10798     15  0:00:01  0:00:01 --:--:-- 10819\n"
     ]
    },
    {
     "name": "stdout",
     "output_type": "stream",
     "text": [
      "PDB file generated successfully: /Users/jianchengluo/Desktop/CPPs/cpps_natrual/GLKKLAELAHKLLKLG.pdb\n"
     ]
    },
    {
     "name": "stderr",
     "output_type": "stream",
     "text": [
      "  % Total    % Received % Xferd  Average Speed   Time    Time     Time  Current\n",
      "                                 Dload  Upload   Total   Spent    Left  Speed\n",
      "100  6043  100  6036  100     7   2660      3  0:00:02  0:00:02 --:--:--  2664\n"
     ]
    },
    {
     "name": "stdout",
     "output_type": "stream",
     "text": [
      "PDB file generated successfully: /Users/jianchengluo/Desktop/CPPs/cpps_natrual/CGNKRTR.pdb\n"
     ]
    },
    {
     "name": "stderr",
     "output_type": "stream",
     "text": [
      "  % Total    % Received % Xferd  Average Speed   Time    Time     Time  Current\n",
      "                                 Dload  Upload   Total   Spent    Left  Speed\n",
      "100 13589  100 13569  100    20   5275      7  0:00:02  0:00:02 --:--:--  5281\n"
     ]
    },
    {
     "name": "stdout",
     "output_type": "stream",
     "text": [
      "PDB file generated successfully: /Users/jianchengluo/Desktop/CPPs/cpps_natrual/AYLLGKINLKALAALAKKIL.pdb\n"
     ]
    },
    {
     "name": "stderr",
     "output_type": "stream",
     "text": [
      "  % Total    % Received % Xferd  Average Speed   Time    Time     Time  Current\n",
      "                                 Dload  Upload   Total   Spent    Left  Speed\n",
      "100 11070  100 11058  100    12   4857      5  0:00:02  0:00:02 --:--:--  4863\n"
     ]
    },
    {
     "name": "stdout",
     "output_type": "stream",
     "text": [
      "PDB file generated successfully: /Users/jianchengluo/Desktop/CPPs/cpps_natrual/GLPRRRRRRRRR.pdb\n"
     ]
    },
    {
     "name": "stderr",
     "output_type": "stream",
     "text": [
      "  % Total    % Received % Xferd  Average Speed   Time    Time     Time  Current\n",
      "                                 Dload  Upload   Total   Spent    Left  Speed\n",
      "100  9938  100  9924  100    14   4221      5  0:00:02  0:00:02 --:--:--  4227\n"
     ]
    },
    {
     "name": "stdout",
     "output_type": "stream",
     "text": [
      "PDB file generated successfully: /Users/jianchengluo/Desktop/CPPs/cpps_natrual/YKQCHKKGGKKGSG.pdb\n"
     ]
    },
    {
     "name": "stderr",
     "output_type": "stream",
     "text": [
      "  % Total    % Received % Xferd  Average Speed   Time    Time     Time  Current\n",
      "                                 Dload  Upload   Total   Spent    Left  Speed\n",
      "100  9938  100  9924  100    14   1896      2  0:00:07  0:00:05  0:00:02  3105\n"
     ]
    },
    {
     "name": "stdout",
     "output_type": "stream",
     "text": [
      "PDB file generated successfully: /Users/jianchengluo/Desktop/CPPs/cpps_natrual/YKQSHKKGGKKGSG.pdb\n"
     ]
    },
    {
     "name": "stderr",
     "output_type": "stream",
     "text": [
      "  % Total    % Received % Xferd  Average Speed   Time    Time     Time  Current\n",
      "                                 Dload  Upload   Total   Spent    Left  Speed\n",
      "100 10748  100 10734  100    14   2983      3  0:00:04  0:00:03  0:00:01  2988\n"
     ]
    },
    {
     "name": "stdout",
     "output_type": "stream",
     "text": [
      "PDB file generated successfully: /Users/jianchengluo/Desktop/CPPs/cpps_natrual/YRQSHRRGGRRGSG.pdb\n"
     ]
    },
    {
     "name": "stderr",
     "output_type": "stream",
     "text": [
      "  % Total    % Received % Xferd  Average Speed   Time    Time     Time  Current\n",
      "                                 Dload  Upload   Total   Spent    Left  Speed\n",
      "100 10100  100 10086  100    14   4367      6  0:00:02  0:00:02 --:--:--  4376\n"
     ]
    },
    {
     "name": "stdout",
     "output_type": "stream",
     "text": [
      "PDB file generated successfully: /Users/jianchengluo/Desktop/CPPs/cpps_natrual/WKQSHKKGGKKGSG.pdb\n"
     ]
    },
    {
     "name": "stderr",
     "output_type": "stream",
     "text": [
      "  % Total    % Received % Xferd  Average Speed   Time    Time     Time  Current\n",
      "                                 Dload  Upload   Total   Spent    Left  Speed\n",
      "100 11233  100 11220  100    13  10644     12  0:00:01  0:00:01 --:--:-- 10657\n"
     ]
    },
    {
     "name": "stdout",
     "output_type": "stream",
     "text": [
      "PDB file generated successfully: /Users/jianchengluo/Desktop/CPPs/cpps_natrual/GRKKRRQRRRPPQ.pdb\n"
     ]
    },
    {
     "name": "stderr",
     "output_type": "stream",
     "text": [
      "  % Total    % Received % Xferd  Average Speed   Time    Time     Time  Current\n",
      "                                 Dload  Upload   Total   Spent    Left  Speed\n",
      "100 13342  100 13326  100    16  10215     12  0:00:01  0:00:01 --:--:-- 10231\n"
     ]
    },
    {
     "name": "stdout",
     "output_type": "stream",
     "text": [
      "PDB file generated successfully: /Users/jianchengluo/Desktop/CPPs/cpps_natrual/GRKKRRQRRRPPQRKC.pdb\n"
     ]
    },
    {
     "name": "stderr",
     "output_type": "stream",
     "text": [
      "  % Total    % Received % Xferd  Average Speed   Time    Time     Time  Current\n",
      "                                 Dload  Upload   Total   Spent    Left  Speed\n",
      "100 13343  100 13326  100    17   5690      7  0:00:02  0:00:02 --:--:--  5699\n"
     ]
    },
    {
     "name": "stdout",
     "output_type": "stream",
     "text": [
      "PDB file generated successfully: /Users/jianchengluo/Desktop/CPPs/cpps_natrual/GRKKRRERRRPPERKCX.pdb\n"
     ]
    },
    {
     "name": "stderr",
     "output_type": "stream",
     "text": [
      "  % Total    % Received % Xferd  Average Speed   Time    Time     Time  Current\n",
      "                                 Dload  Upload   Total   Spent    Left  Speed\n",
      "100 12127  100 12111  100    16   5192      6  0:00:02  0:00:02 --:--:--  5198\n"
     ]
    },
    {
     "name": "stdout",
     "output_type": "stream",
     "text": [
      "PDB file generated successfully: /Users/jianchengluo/Desktop/CPPs/cpps_natrual/EARPALLTSRLRFIPK.pdb\n"
     ]
    },
    {
     "name": "stderr",
     "output_type": "stream",
     "text": [
      "  % Total    % Received % Xferd  Average Speed   Time    Time     Time  Current\n",
      "                                 Dload  Upload   Total   Spent    Left  Speed\n",
      "100 12125  100 12111  100    14  11457     13  0:00:01  0:00:01 --:--:-- 11482\n"
     ]
    },
    {
     "name": "stdout",
     "output_type": "stream",
     "text": [
      "PDB file generated successfully: /Users/jianchengluo/Desktop/CPPs/cpps_natrual/VSRRRRRRGGRRRR.pdb\n"
     ]
    },
    {
     "name": "stderr",
     "output_type": "stream",
     "text": [
      "  % Total    % Received % Xferd  Average Speed   Time    Time     Time  Current\n",
      "                                 Dload  Upload   Total   Spent    Left  Speed\n",
      "100  9367  100  9357  100    10   8868      9  0:00:01  0:00:01 --:--:--  8887\n"
     ]
    },
    {
     "name": "stdout",
     "output_type": "stream",
     "text": [
      "PDB file generated successfully: /Users/jianchengluo/Desktop/CPPs/cpps_natrual/GRKKRRQRRR.pdb\n"
     ]
    },
    {
     "name": "stderr",
     "output_type": "stream",
     "text": [
      "  % Total    % Received % Xferd  Average Speed   Time    Time     Time  Current\n",
      "                                 Dload  Upload   Total   Spent    Left  Speed\n",
      "100 12126  100 12111  100    15   5193      6  0:00:02  0:00:02 --:--:--  5202\n"
     ]
    },
    {
     "name": "stdout",
     "output_type": "stream",
     "text": [
      "PDB file generated successfully: /Users/jianchengluo/Desktop/CPPs/cpps_natrual/GRKKRRQRRRMVSAL.pdb\n"
     ]
    },
    {
     "name": "stderr",
     "output_type": "stream",
     "text": [
      "  % Total    % Received % Xferd  Average Speed   Time    Time     Time  Current\n",
      "                                 Dload  Upload   Total   Spent    Left  Speed\n",
      "100 19749  100 19725  100    24   7470      9  0:00:02  0:00:02 --:--:--  7477\n"
     ]
    },
    {
     "name": "stdout",
     "output_type": "stream",
     "text": [
      "PDB file generated successfully: /Users/jianchengluo/Desktop/CPPs/cpps_natrual/TPWWRLWTKWHHKRRDLPRKPEGC.pdb\n"
     ]
    },
    {
     "name": "stderr",
     "output_type": "stream",
     "text": [
      "  % Total    % Received % Xferd  Average Speed   Time    Time     Time  Current\n",
      "                                 Dload  Upload   Total   Spent    Left  Speed\n",
      "100 19749  100 19725  100    24  12337     15  0:00:01  0:00:01 --:--:-- 12358\n"
     ]
    },
    {
     "name": "stdout",
     "output_type": "stream",
     "text": [
      "PDB file generated successfully: /Users/jianchengluo/Desktop/CPPs/cpps_natrual/TPWWRLWTKWHHKRRDLPRKPEGC.pdb\n"
     ]
    },
    {
     "name": "stderr",
     "output_type": "stream",
     "text": [
      "  % Total    % Received % Xferd  Average Speed   Time    Time     Time  Current\n",
      "                                 Dload  Upload   Total   Spent    Left  Speed\n",
      "100 12129  100 12111  100    18   9005     13  0:00:01  0:00:01 --:--:--  9017\n"
     ]
    },
    {
     "name": "stdout",
     "output_type": "stream",
     "text": [
      "PDB file generated successfully: /Users/jianchengluo/Desktop/CPPs/cpps_natrual/KLALKLALKALKAALKLA.pdb\n"
     ]
    },
    {
     "name": "stderr",
     "output_type": "stream",
     "text": [
      "  % Total    % Received % Xferd  Average Speed   Time    Time     Time  Current\n",
      "                                 Dload  Upload   Total   Spent    Left  Speed\n",
      "100  8557  100  8547  100    10   3718      4  0:00:02  0:00:02 --:--:--  3723\n"
     ]
    },
    {
     "name": "stdout",
     "output_type": "stream",
     "text": [
      "PDB file generated successfully: /Users/jianchengluo/Desktop/CPPs/cpps_natrual/MIIYRDLISH.pdb\n"
     ]
    },
    {
     "name": "stderr",
     "output_type": "stream",
     "text": [
      "  % Total    % Received % Xferd  Average Speed   Time    Time     Time  Current\n",
      "                                 Dload  Upload   Total   Spent    Left  Speed\n",
      "100 15618  100 15594  100    24   5697      8  0:00:03  0:00:02  0:00:01  5706\n"
     ]
    },
    {
     "name": "stdout",
     "output_type": "stream",
     "text": [
      "PDB file generated successfully: /Users/jianchengluo/Desktop/CPPs/cpps_natrual/YSSYSAPVSSSLSVRRSYSSSSGS.pdb\n"
     ]
    },
    {
     "name": "stderr",
     "output_type": "stream",
     "text": [
      "  % Total    % Received % Xferd  Average Speed   Time    Time     Time  Current\n",
      "                                 Dload  Upload   Total   Spent    Left  Speed\n",
      "100 11233  100 11220  100    13  10719     12  0:00:01  0:00:01 --:--:-- 10739\n"
     ]
    },
    {
     "name": "stdout",
     "output_type": "stream",
     "text": [
      "PDB file generated successfully: /Users/jianchengluo/Desktop/CPPs/cpps_natrual/GRKKRRQRRRPPQ.pdb\n"
     ]
    },
    {
     "name": "stderr",
     "output_type": "stream",
     "text": [
      "  % Total    % Received % Xferd  Average Speed   Time    Time     Time  Current\n",
      "                                 Dload  Upload   Total   Spent    Left  Speed\n",
      "100 14314  100 14298  100    16   3609      4  0:00:04  0:00:03  0:00:01  3612\n"
     ]
    },
    {
     "name": "stdout",
     "output_type": "stream",
     "text": [
      "PDB file generated successfully: /Users/jianchengluo/Desktop/CPPs/cpps_natrual/RQIKIWFQNRRMKWKK.pdb\n"
     ]
    },
    {
     "name": "stderr",
     "output_type": "stream",
     "text": [
      "  % Total    % Received % Xferd  Average Speed   Time    Time     Time  Current\n",
      "                                 Dload  Upload   Total   Spent    Left  Speed\n",
      "100 11233  100 11220  100    13   5153      5  0:00:02  0:00:02 --:--:--  5162\n"
     ]
    },
    {
     "name": "stdout",
     "output_type": "stream",
     "text": [
      "PDB file generated successfully: /Users/jianchengluo/Desktop/CPPs/cpps_natrual/GRKKRRQRRRPPQ.pdb\n"
     ]
    },
    {
     "name": "stderr",
     "output_type": "stream",
     "text": [
      "  % Total    % Received % Xferd  Average Speed   Time    Time     Time  Current\n",
      "                                 Dload  Upload   Total   Spent    Left  Speed\n",
      "100 12857  100 12840  100    17   5408      7  0:00:02  0:00:02 --:--:--  5415\n"
     ]
    },
    {
     "name": "stdout",
     "output_type": "stream",
     "text": [
      "PDB file generated successfully: /Users/jianchengluo/Desktop/CPPs/cpps_natrual/CSIPPEVKFNKPFVYLI.pdb\n"
     ]
    },
    {
     "name": "stderr",
     "output_type": "stream",
     "text": [
      "  % Total    % Received % Xferd  Average Speed   Time    Time     Time  Current\n",
      "                                 Dload  Upload   Total   Spent    Left  Speed\n",
      "100 13914  100 13893  100    21  11066     16  0:00:01  0:00:01 --:--:-- 11086\n"
     ]
    },
    {
     "name": "stdout",
     "output_type": "stream",
     "text": [
      "PDB file generated successfully: /Users/jianchengluo/Desktop/CPPs/cpps_natrual/AGYLLGKINLKALAALAKKIL.pdb\n"
     ]
    },
    {
     "name": "stderr",
     "output_type": "stream",
     "text": [
      "  % Total    % Received % Xferd  Average Speed   Time    Time     Time  Current\n",
      "                                 Dload  Upload   Total   Spent    Left  Speed\n",
      "100 15290  100 15270  100    20   5687      7  0:00:02  0:00:02 --:--:--  5694\n"
     ]
    },
    {
     "name": "stdout",
     "output_type": "stream",
     "text": [
      "PDB file generated successfully: /Users/jianchengluo/Desktop/CPPs/cpps_natrual/RKLTTIFPLNWKYRKALSLG.pdb\n"
     ]
    },
    {
     "name": "stderr",
     "output_type": "stream",
     "text": [
      "  % Total    % Received % Xferd  Average Speed   Time    Time     Time  Current\n",
      "                                 Dload  Upload   Total   Spent    Left  Speed\n",
      "100  7584  100  7575  100     9   2976      3  0:00:03  0:00:02  0:00:01  2981\n"
     ]
    },
    {
     "name": "stdout",
     "output_type": "stream",
     "text": [
      "PDB file generated successfully: /Users/jianchengluo/Desktop/CPPs/cpps_natrual/KGKKIFIMK.pdb\n"
     ]
    },
    {
     "name": "stderr",
     "output_type": "stream",
     "text": [
      "  % Total    % Received % Xferd  Average Speed   Time    Time     Time  Current\n",
      "                                 Dload  Upload   Total   Spent    Left  Speed\n",
      "100 10341  100 10329  100    12   4130      4  0:00:03  0:00:02  0:00:01  4134\n"
     ]
    },
    {
     "name": "stdout",
     "output_type": "stream",
     "text": [
      "PDB file generated successfully: /Users/jianchengluo/Desktop/CPPs/cpps_natrual/DITYRFRGPDWL.pdb\n"
     ]
    },
    {
     "name": "stderr",
     "output_type": "stream",
     "text": [
      "  % Total    % Received % Xferd  Average Speed   Time    Time     Time  Current\n",
      "                                 Dload  Upload   Total   Spent    Left  Speed\n",
      "100 11233  100 11220  100    13  10427     12  0:00:01  0:00:01 --:--:-- 10449\n"
     ]
    },
    {
     "name": "stdout",
     "output_type": "stream",
     "text": [
      "PDB file generated successfully: /Users/jianchengluo/Desktop/CPPs/cpps_natrual/GRKKRRQRRRPPQ.pdb\n"
     ]
    },
    {
     "name": "stderr",
     "output_type": "stream",
     "text": [
      "  % Total    % Received % Xferd  Average Speed   Time    Time     Time  Current\n",
      "                                 Dload  Upload   Total   Spent    Left  Speed\n",
      "100 14314  100 14298  100    16  11070     12  0:00:01  0:00:01 --:--:-- 11087\n"
     ]
    },
    {
     "name": "stdout",
     "output_type": "stream",
     "text": [
      "PDB file generated successfully: /Users/jianchengluo/Desktop/CPPs/cpps_natrual/RQIKIWFQNRRMKWKK.pdb\n"
     ]
    },
    {
     "name": "stderr",
     "output_type": "stream",
     "text": [
      "  % Total    % Received % Xferd  Average Speed   Time    Time     Time  Current\n",
      "                                 Dload  Upload   Total   Spent    Left  Speed\n",
      "100 13914  100 13893  100    21  11079     16  0:00:01  0:00:01 --:--:-- 11104\n"
     ]
    },
    {
     "name": "stdout",
     "output_type": "stream",
     "text": [
      "PDB file generated successfully: /Users/jianchengluo/Desktop/CPPs/cpps_natrual/AGYLLGKINLKALAALAKKIL.pdb\n"
     ]
    },
    {
     "name": "stderr",
     "output_type": "stream",
     "text": [
      "  % Total    % Received % Xferd  Average Speed   Time    Time     Time  Current\n",
      "                                 Dload  Upload   Total   Spent    Left  Speed\n",
      "100 20075  100 20049  100    26   4741      6  0:00:04  0:00:04 --:--:--  5060\n"
     ]
    },
    {
     "name": "stdout",
     "output_type": "stream",
     "text": [
      "PDB file generated successfully: /Users/jianchengluo/Desktop/CPPs/cpps_natrual/KHHWHHVRLPPPVRLPPPGNHHHHHH.pdb\n"
     ]
    },
    {
     "name": "stderr",
     "output_type": "stream",
     "text": [
      "  % Total    % Received % Xferd  Average Speed   Time    Time     Time  Current\n",
      "                                 Dload  Upload   Total   Spent    Left  Speed\n",
      "100 23403  100 23370  100    33   8903     12  0:00:02  0:00:02 --:--:--  8918\n"
     ]
    },
    {
     "name": "stdout",
     "output_type": "stream",
     "text": [
      "PDB file generated successfully: /Users/jianchengluo/Desktop/CPPs/cpps_natrual/KKWALLALALHHLAHLALHLALALKKAHHHHHH.pdb\n"
     ]
    },
    {
     "name": "stderr",
     "output_type": "stream",
     "text": [
      "  % Total    % Received % Xferd  Average Speed   Time    Time     Time  Current\n",
      "                                 Dload  Upload   Total   Spent    Left  Speed\n",
      "100 21860  100 21831  100    29   8214     10  0:00:02  0:00:02 --:--:--  8224\n"
     ]
    },
    {
     "name": "stdout",
     "output_type": "stream",
     "text": [
      "PDB file generated successfully: /Users/jianchengluo/Desktop/CPPs/cpps_natrual/RKKRRRESWVHLPPPVHLPPPGGHHHHHH.pdb\n"
     ]
    },
    {
     "name": "stderr",
     "output_type": "stream",
     "text": [
      "  % Total    % Received % Xferd  Average Speed   Time    Time     Time  Current\n",
      "                                 Dload  Upload   Total   Spent    Left  Speed\n",
      "100 17402  100 17376  100    26  13346     19  0:00:01  0:00:01 --:--:-- 13375\n"
     ]
    },
    {
     "name": "stdout",
     "output_type": "stream",
     "text": [
      "PDB file generated successfully: /Users/jianchengluo/Desktop/CPPs/cpps_natrual/KKALLAHALHLLALLALHLAHALKKA.pdb\n"
     ]
    },
    {
     "name": "stderr",
     "output_type": "stream",
     "text": [
      "  % Total    % Received % Xferd  Average Speed   Time    Time     Time  Current\n",
      "                                 Dload  Upload   Total   Spent    Left  Speed\n",
      "100 17968  100 17943  100    25   6741      9  0:00:02  0:00:02 --:--:--  6749\n"
     ]
    },
    {
     "name": "stdout",
     "output_type": "stream",
     "text": [
      "PDB file generated successfully: /Users/jianchengluo/Desktop/CPPs/cpps_natrual/KKLALHALHLLALLWLHLAHLALKK.pdb\n"
     ]
    },
    {
     "name": "stderr",
     "output_type": "stream",
     "text": [
      "  % Total    % Received % Xferd  Average Speed   Time    Time     Time  Current\n",
      "                                 Dload  Upload   Total   Spent    Left  Speed\n",
      "100 18860  100 18834  100    26   7116      9  0:00:02  0:00:02 --:--:--  7125\n"
     ]
    },
    {
     "name": "stdout",
     "output_type": "stream",
     "text": [
      "PDB file generated successfully: /Users/jianchengluo/Desktop/CPPs/cpps_natrual/FKKLALHALHLLALLWLHLAHLALKK.pdb\n"
     ]
    },
    {
     "name": "stderr",
     "output_type": "stream",
     "text": [
      "  % Total    % Received % Xferd  Average Speed   Time    Time     Time  Current\n",
      "                                 Dload  Upload   Total   Spent    Left  Speed\n",
      "100 19752  100 19725  100    27   7640     10  0:00:02  0:00:02 --:--:--  7652\n"
     ]
    },
    {
     "name": "stdout",
     "output_type": "stream",
     "text": [
      "PDB file generated successfully: /Users/jianchengluo/Desktop/CPPs/cpps_natrual/FFKKLALHALHLLALLWLHLAHLALKK.pdb\n"
     ]
    },
    {
     "name": "stderr",
     "output_type": "stream",
     "text": [
      "  % Total    % Received % Xferd  Average Speed   Time    Time     Time  Current\n",
      "                                 Dload  Upload   Total   Spent    Left  Speed\n",
      "100 18292  100 18267  100    25   6663      9  0:00:02  0:00:02 --:--:--  6671\n"
     ]
    },
    {
     "name": "stdout",
     "output_type": "stream",
     "text": [
      "PDB file generated successfully: /Users/jianchengluo/Desktop/CPPs/cpps_natrual/KHKALHALHLLALLWLHLAHLAKHK.pdb\n"
     ]
    },
    {
     "name": "stderr",
     "output_type": "stream",
     "text": [
      "  % Total    % Received % Xferd  Average Speed   Time    Time     Time  Current\n",
      "                                 Dload  Upload   Total   Spent    Left  Speed\n",
      "100 19264  100 19239  100    25   4660      6  0:00:04  0:00:04 --:--:--  4667\n"
     ]
    },
    {
     "name": "stdout",
     "output_type": "stream",
     "text": [
      "PDB file generated successfully: /Users/jianchengluo/Desktop/CPPs/cpps_natrual/KHKLLHLLHLLALLWLHLLHLLKHK.pdb\n"
     ]
    },
    {
     "name": "stderr",
     "output_type": "stream",
     "text": [
      "  % Total    % Received % Xferd  Average Speed   Time    Time     Time  Current\n",
      "                                 Dload  Upload   Total   Spent    Left  Speed\n",
      "100 12936  100 12921  100    15  10309     11  0:00:01  0:00:01 --:--:-- 10315\n"
     ]
    },
    {
     "name": "stdout",
     "output_type": "stream",
     "text": [
      "PDB file generated successfully: /Users/jianchengluo/Desktop/CPPs/cpps_natrual/RLWMRWYSPRTRAYG.pdb\n"
     ]
    },
    {
     "name": "stderr",
     "output_type": "stream",
     "text": [
      "  % Total    % Received % Xferd  Average Speed   Time    Time     Time  Current\n",
      "                                 Dload  Upload   Total   Spent    Left  Speed\n",
      "100  8636  100  8628  100     8   8180      7  0:00:01  0:00:01 --:--:--  8193\n"
     ]
    },
    {
     "name": "stdout",
     "output_type": "stream",
     "text": [
      "PDB file generated successfully: /Users/jianchengluo/Desktop/CPPs/cpps_natrual/RRRRRRRR.pdb\n"
     ]
    },
    {
     "name": "stderr",
     "output_type": "stream",
     "text": [
      "  % Total    % Received % Xferd  Average Speed   Time    Time     Time  Current\n",
      "                                 Dload  Upload   Total   Spent    Left  Speed\n",
      "100  8557  100  8547  100    10   3628      4  0:00:02  0:00:02 --:--:--  3633\n"
     ]
    },
    {
     "name": "stdout",
     "output_type": "stream",
     "text": [
      "PDB file generated successfully: /Users/jianchengluo/Desktop/CPPs/cpps_natrual/NTCTWLKYHS.pdb\n"
     ]
    },
    {
     "name": "stderr",
     "output_type": "stream",
     "text": [
      "  % Total    % Received % Xferd  Average Speed   Time    Time     Time  Current\n",
      "                                 Dload  Upload   Total   Spent    Left  Speed\n",
      "100  8154  100  8142  100    12   3494      5  0:00:02  0:00:02 --:--:--  3501\n"
     ]
    },
    {
     "name": "stdout",
     "output_type": "stream",
     "text": [
      "PDB file generated successfully: /Users/jianchengluo/Desktop/CPPs/cpps_natrual/CASGQQGLLKLC.pdb\n"
     ]
    },
    {
     "name": "stderr",
     "output_type": "stream",
     "text": [
      "  % Total    % Received % Xferd  Average Speed   Time    Time     Time  Current\n",
      "                                 Dload  Upload   Total   Spent    Left  Speed\n",
      "100  8638  100  8628  100    10   3140      3  0:00:03  0:00:02  0:00:01  3143\n"
     ]
    },
    {
     "name": "stdout",
     "output_type": "stream",
     "text": [
      "PDB file generated successfully: /Users/jianchengluo/Desktop/CPPs/cpps_natrual/YNNFAYSVFL.pdb\n"
     ]
    },
    {
     "name": "stderr",
     "output_type": "stream",
     "text": [
      "  % Total    % Received % Xferd  Average Speed   Time    Time     Time  Current\n",
      "                                 Dload  Upload   Total   Spent    Left  Speed\n",
      "100  7990  100  7980  100    10   2342      2  0:00:05  0:00:03  0:00:02  2345\n"
     ]
    },
    {
     "name": "stdout",
     "output_type": "stream",
     "text": [
      "PDB file generated successfully: /Users/jianchengluo/Desktop/CPPs/cpps_natrual/ECYPKKGQDP.pdb\n"
     ]
    },
    {
     "name": "stderr",
     "output_type": "stream",
     "text": [
      "  % Total    % Received % Xferd  Average Speed   Time    Time     Time  Current\n",
      "                                 Dload  Upload   Total   Spent    Left  Speed\n",
      "100  8638  100  8628  100    10   3566      4  0:00:02  0:00:02 --:--:--  3572\n"
     ]
    },
    {
     "name": "stdout",
     "output_type": "stream",
     "text": [
      "PDB file generated successfully: /Users/jianchengluo/Desktop/CPPs/cpps_natrual/RHVYHVLLSQ.pdb\n"
     ]
    },
    {
     "name": "stderr",
     "output_type": "stream",
     "text": [
      "  % Total    % Received % Xferd  Average Speed   Time    Time     Time  Current\n",
      "                                 Dload  Upload   Total   Spent    Left  Speed\n",
      "100  8071  100  8061  100    10   2793      3  0:00:03  0:00:02  0:00:01  2796\n"
     ]
    },
    {
     "name": "stdout",
     "output_type": "stream",
     "text": [
      "PDB file generated successfully: /Users/jianchengluo/Desktop/CPPs/cpps_natrual/HATKSQNINF.pdb\n"
     ]
    },
    {
     "name": "stderr",
     "output_type": "stream",
     "text": [
      "  % Total    % Received % Xferd  Average Speed   Time    Time     Time  Current\n",
      "                                 Dload  Upload   Total   Spent    Left  Speed\n",
      "100  9205  100  9195  100    10   2748      2  0:00:05  0:00:03  0:00:02  2752\n"
     ]
    },
    {
     "name": "stdout",
     "output_type": "stream",
     "text": [
      "PDB file generated successfully: /Users/jianchengluo/Desktop/CPPs/cpps_natrual/YRDRFAFQPH.pdb\n"
     ]
    },
    {
     "name": "stderr",
     "output_type": "stream",
     "text": [
      "  % Total    % Received % Xferd  Average Speed   Time    Time     Time  Current\n",
      "                                 Dload  Upload   Total   Spent    Left  Speed\n",
      "100  8638  100  8628  100    10   3522      4  0:00:02  0:00:02 --:--:--  3527\n"
     ]
    },
    {
     "name": "stdout",
     "output_type": "stream",
     "text": [
      "PDB file generated successfully: /Users/jianchengluo/Desktop/CPPs/cpps_natrual/IWRYSLASQQ.pdb\n"
     ]
    },
    {
     "name": "stderr",
     "output_type": "stream",
     "text": [
      "  % Total    % Received % Xferd  Average Speed   Time    Time     Time  Current\n",
      "                                 Dload  Upload   Total   Spent    Left  Speed\n",
      "100  8071  100  8061  100    10   3413      4  0:00:02  0:00:02 --:--:--  3418\n"
     ]
    },
    {
     "name": "stdout",
     "output_type": "stream",
     "text": [
      "PDB file generated successfully: /Users/jianchengluo/Desktop/CPPs/cpps_natrual/YQKQAKIMCS.pdb\n"
     ]
    },
    {
     "name": "stderr",
     "output_type": "stream",
     "text": [
      "  % Total    % Received % Xferd  Average Speed   Time    Time     Time  Current\n",
      "                                 Dload  Upload   Total   Spent    Left  Speed\n",
      "100  7745  100  7737  100     8   3242      3  0:00:02  0:00:02 --:--:--  3244\n"
     ]
    },
    {
     "name": "stdout",
     "output_type": "stream",
     "text": [
      "PDB file generated successfully: /Users/jianchengluo/Desktop/CPPs/cpps_natrual/VQLRRRWC.pdb\n"
     ]
    },
    {
     "name": "stderr",
     "output_type": "stream",
     "text": [
      "  % Total    % Received % Xferd  Average Speed   Time    Time     Time  Current\n",
      "                                 Dload  Upload   Total   Spent    Left  Speed\n",
      "100  9528  100  9519  100     9   6410      6  0:00:01  0:00:01 --:--:--  6420\n"
     ]
    },
    {
     "name": "stdout",
     "output_type": "stream",
     "text": [
      "PDB file generated successfully: /Users/jianchengluo/Desktop/CPPs/cpps_natrual/RRRRRRRRR.pdb\n"
     ]
    },
    {
     "name": "stderr",
     "output_type": "stream",
     "text": [
      "  % Total    % Received % Xferd  Average Speed   Time    Time     Time  Current\n",
      "                                 Dload  Upload   Total   Spent    Left  Speed\n",
      "100  8395  100  8385  100    10   3529      4  0:00:02  0:00:02 --:--:--  3534\n"
     ]
    },
    {
     "name": "stdout",
     "output_type": "stream",
     "text": [
      "PDB file generated successfully: /Users/jianchengluo/Desktop/CPPs/cpps_natrual/NTGTWLKYHS.pdb\n"
     ]
    },
    {
     "name": "stderr",
     "output_type": "stream",
     "text": [
      "  % Total    % Received % Xferd  Average Speed   Time    Time     Time  Current\n",
      "                                 Dload  Upload   Total   Spent    Left  Speed\n",
      "100  7908  100  7899  100     9   3265      3  0:00:03  0:00:02  0:00:01  3270\n"
     ]
    },
    {
     "name": "stdout",
     "output_type": "stream",
     "text": [
      "PDB file generated successfully: /Users/jianchengluo/Desktop/CPPs/cpps_natrual/TCTWLKYHS.pdb\n"
     ]
    },
    {
     "name": "stderr",
     "output_type": "stream",
     "text": [
      "  % Total    % Received % Xferd  Average Speed   Time    Time     Time  Current\n",
      "                                 Dload  Upload   Total   Spent    Left  Speed\n",
      "100  8070  100  8061  100     9   3442      3  0:00:03  0:00:02  0:00:01  3447\n"
     ]
    },
    {
     "name": "stdout",
     "output_type": "stream",
     "text": [
      "PDB file generated successfully: /Users/jianchengluo/Desktop/CPPs/cpps_natrual/NTCTWLKYH.pdb\n"
     ]
    },
    {
     "name": "stderr",
     "output_type": "stream",
     "text": [
      "  % Total    % Received % Xferd  Average Speed   Time    Time     Time  Current\n",
      "                                 Dload  Upload   Total   Spent    Left  Speed\n",
      "100  7421  100  7413  100     8   3175      3  0:00:02  0:00:02 --:--:--  3179\n"
     ]
    },
    {
     "name": "stdout",
     "output_type": "stream",
     "text": [
      "PDB file generated successfully: /Users/jianchengluo/Desktop/CPPs/cpps_natrual/TCTWLKYH.pdb\n"
     ]
    },
    {
     "name": "stderr",
     "output_type": "stream",
     "text": [
      "  % Total    % Received % Xferd  Average Speed   Time    Time     Time  Current\n",
      "                                 Dload  Upload   Total   Spent    Left  Speed\n",
      "100  6853  100  6846  100     7   2997      3  0:00:02  0:00:02 --:--:--  3001\n"
     ]
    },
    {
     "name": "stdout",
     "output_type": "stream",
     "text": [
      "PDB file generated successfully: /Users/jianchengluo/Desktop/CPPs/cpps_natrual/CTWLKYH.pdb\n"
     ]
    },
    {
     "name": "stderr",
     "output_type": "stream",
     "text": [
      "  % Total    % Received % Xferd  Average Speed   Time    Time     Time  Current\n",
      "                                 Dload  Upload   Total   Spent    Left  Speed\n",
      "100  6366  100  6360  100     6   2781      2  0:00:03  0:00:02  0:00:01  2784\n"
     ]
    },
    {
     "name": "stdout",
     "output_type": "stream",
     "text": [
      "PDB file generated successfully: /Users/jianchengluo/Desktop/CPPs/cpps_natrual/TWLKYH.pdb\n"
     ]
    },
    {
     "name": "stderr",
     "output_type": "stream",
     "text": [
      "  % Total    % Received % Xferd  Average Speed   Time    Time     Time  Current\n",
      "                                 Dload  Upload   Total   Spent    Left  Speed\n",
      "100  6042  100  6036  100     6   2618      2  0:00:03  0:00:02  0:00:01  2620\n"
     ]
    },
    {
     "name": "stdout",
     "output_type": "stream",
     "text": [
      "PDB file generated successfully: /Users/jianchengluo/Desktop/CPPs/cpps_natrual/CTWLKY.pdb\n"
     ]
    },
    {
     "name": "stderr",
     "output_type": "stream",
     "text": [
      "  % Total    % Received % Xferd  Average Speed   Time    Time     Time  Current\n",
      "                                 Dload  Upload   Total   Spent    Left  Speed\n",
      "100 12612  100 12597  100    15   5084      6  0:00:02  0:00:02 --:--:--  5091\n"
     ]
    },
    {
     "name": "stdout",
     "output_type": "stream",
     "text": [
      "PDB file generated successfully: /Users/jianchengluo/Desktop/CPPs/cpps_natrual/VKRFKKFFRKLKKSV.pdb\n"
     ]
    },
    {
     "name": "stderr",
     "output_type": "stream",
     "text": [
      "  % Total    % Received % Xferd  Average Speed   Time    Time     Time  Current\n",
      "                                 Dload  Upload   Total   Spent    Left  Speed\n",
      "100 12774  100 12759  100    15   4739      5  0:00:03  0:00:02  0:00:01  4743\n"
     ]
    },
    {
     "name": "stdout",
     "output_type": "stream",
     "text": [
      "PDB file generated successfully: /Users/jianchengluo/Desktop/CPPs/cpps_natrual/VKRFKKFFRKLKKLV.pdb\n"
     ]
    },
    {
     "name": "stderr",
     "output_type": "stream",
     "text": [
      "  % Total    % Received % Xferd  Average Speed   Time    Time     Time  Current\n",
      "                                 Dload  Upload   Total   Spent    Left  Speed\n",
      "100 12855  100 12840  100    15   5462      6  0:00:02  0:00:02 --:--:--  5470\n"
     ]
    },
    {
     "name": "stdout",
     "output_type": "stream",
     "text": [
      "PDB file generated successfully: /Users/jianchengluo/Desktop/CPPs/cpps_natrual/VKRFKKFFRKLKKKV.pdb\n"
     ]
    },
    {
     "name": "stderr",
     "output_type": "stream",
     "text": [
      "  % Total    % Received % Xferd  Average Speed   Time    Time     Time  Current\n",
      "                                 Dload  Upload   Total   Spent    Left  Speed\n",
      "100 11964  100 11949  100    15   5025      6  0:00:02  0:00:02 --:--:--  5031\n"
     ]
    },
    {
     "name": "stdout",
     "output_type": "stream",
     "text": [
      "PDB file generated successfully: /Users/jianchengluo/Desktop/CPPs/cpps_natrual/KKKKKKNKKLQQRGD.pdb\n"
     ]
    },
    {
     "name": "stderr",
     "output_type": "stream",
     "text": [
      "  % Total    % Received % Xferd  Average Speed   Time    Time     Time  Current\n",
      "                                 Dload  Upload   Total   Spent    Left  Speed\n",
      "100 12126  100 12111  100    15   4971      6  0:00:02  0:00:02 --:--:--  4977\n"
     ]
    },
    {
     "name": "stdout",
     "output_type": "stream",
     "text": [
      "PDB file generated successfully: /Users/jianchengluo/Desktop/CPPs/cpps_natrual/RGDGPRRRPRKRRGR.pdb\n"
     ]
    },
    {
     "name": "stderr",
     "output_type": "stream",
     "text": [
      "  % Total    % Received % Xferd  Average Speed   Time    Time     Time  Current\n",
      "                                 Dload  Upload   Total   Spent    Left  Speed\n",
      "100 13179  100 13164  100    15   5426      6  0:00:02  0:00:02 --:--:--  5432\n"
     ]
    },
    {
     "name": "stdout",
     "output_type": "stream",
     "text": [
      "PDB file generated successfully: /Users/jianchengluo/Desktop/CPPs/cpps_natrual/RRRQKRIVVRRRLIR.pdb\n"
     ]
    },
    {
     "name": "stderr",
     "output_type": "stream",
     "text": [
      "  % Total    % Received % Xferd  Average Speed   Time    Time     Time  Current\n",
      "                                 Dload  Upload   Total   Spent    Left  Speed\n",
      "100 14556  100 14541  100    15   5496      5  0:00:03  0:00:02  0:00:01  5503\n"
     ]
    },
    {
     "name": "stdout",
     "output_type": "stream",
     "text": [
      "PDB file generated successfully: /Users/jianchengluo/Desktop/CPPs/cpps_natrual/RRVWRRYRRQRWCRR.pdb\n"
     ]
    },
    {
     "name": "stderr",
     "output_type": "stream",
     "text": [
      "  % Total    % Received % Xferd  Average Speed   Time    Time     Time  Current\n",
      "                                 Dload  Upload   Total   Spent    Left  Speed\n",
      "100 12126  100 12111  100    15   4899      6  0:00:02  0:00:02 --:--:--  4903\n"
     ]
    },
    {
     "name": "stdout",
     "output_type": "stream",
     "text": [
      "PDB file generated successfully: /Users/jianchengluo/Desktop/CPPs/cpps_natrual/RRARRPRRLRPAPGR.pdb\n"
     ]
    },
    {
     "name": "stderr",
     "output_type": "stream",
     "text": [
      "  % Total    % Received % Xferd  Average Speed   Time    Time     Time  Current\n",
      "                                 Dload  Upload   Total   Spent    Left  Speed\n",
      "100 13746  100 13731  100    15   5653      6  0:00:02  0:00:02 --:--:--  5661\n"
     ]
    },
    {
     "name": "stdout",
     "output_type": "stream",
     "text": [
      "PDB file generated successfully: /Users/jianchengluo/Desktop/CPPs/cpps_natrual/LLRARWRRRRSRRFR.pdb\n"
     ]
    },
    {
     "name": "stderr",
     "output_type": "stream",
     "text": [
      "  % Total    % Received % Xferd  Average Speed   Time    Time     Time  Current\n",
      "                                 Dload  Upload   Total   Spent    Left  Speed\n",
      "100 13098  100 13083  100    15   5415      6  0:00:02  0:00:02 --:--:--  5421\n"
     ]
    },
    {
     "name": "stdout",
     "output_type": "stream",
     "text": [
      "PDB file generated successfully: /Users/jianchengluo/Desktop/CPPs/cpps_natrual/RGPRRQPRRHRRPRR.pdb\n"
     ]
    },
    {
     "name": "stderr",
     "output_type": "stream",
     "text": [
      "  % Total    % Received % Xferd  Average Speed   Time    Time     Time  Current\n",
      "                                 Dload  Upload   Total   Spent    Left  Speed\n",
      "100 14475  100 14460  100    15   3653      3  0:00:05  0:00:03  0:00:02  3657\n"
     ]
    },
    {
     "name": "stdout",
     "output_type": "stream",
     "text": [
      "PDB file generated successfully: /Users/jianchengluo/Desktop/CPPs/cpps_natrual/RRWRRWNRFNRRRCR.pdb\n"
     ]
    },
    {
     "name": "stderr",
     "output_type": "stream",
     "text": [
      "  % Total    % Received % Xferd  Average Speed   Time    Time     Time  Current\n",
      "                                 Dload  Upload   Total   Spent    Left  Speed\n",
      "100 11233  100 11220  100    13  10319     11  0:00:01  0:00:01 --:--:-- 10333\n"
     ]
    },
    {
     "name": "stdout",
     "output_type": "stream",
     "text": [
      "PDB file generated successfully: /Users/jianchengluo/Desktop/CPPs/cpps_natrual/GRKKRRQRRRPPQ.pdb\n"
     ]
    },
    {
     "name": "stderr",
     "output_type": "stream",
     "text": [
      "  % Total    % Received % Xferd  Average Speed   Time    Time     Time  Current\n",
      "                                 Dload  Upload   Total   Spent    Left  Speed\n",
      "100 27377  100 27339  100    38  10611     14  0:00:02  0:00:02 --:--:-- 10627\n"
     ]
    },
    {
     "name": "stdout",
     "output_type": "stream",
     "text": [
      "PDB file generated successfully: /Users/jianchengluo/Desktop/CPPs/cpps_natrual/HSDGIFTDSYSRYRKQMAVKKYLAAVLGKRYKQRVKNK.pdb\n"
     ]
    },
    {
     "name": "stderr",
     "output_type": "stream",
     "text": [
      "  % Total    % Received % Xferd  Average Speed   Time    Time     Time  Current\n",
      "                                 Dload  Upload   Total   Spent    Left  Speed\n",
      "100 14314  100 14298  100    16  10971     12  0:00:01  0:00:01 --:--:-- 10976\n"
     ]
    },
    {
     "name": "stdout",
     "output_type": "stream",
     "text": [
      "PDB file generated successfully: /Users/jianchengluo/Desktop/CPPs/cpps_natrual/RQIKIWFQNRRMKWKK.pdb\n"
     ]
    },
    {
     "name": "stderr",
     "output_type": "stream",
     "text": [
      "  % Total    % Received % Xferd  Average Speed   Time    Time     Time  Current\n",
      "                                 Dload  Upload   Total   Spent    Left  Speed\n",
      "100 13832  100 13812  100    20   5952      8  0:00:02  0:00:02 --:--:--  5962\n"
     ]
    },
    {
     "name": "stdout",
     "output_type": "stream",
     "text": [
      "PDB file generated successfully: /Users/jianchengluo/Desktop/CPPs/cpps_natrual/MAARLCCQLDPARDVLCLRP.pdb\n"
     ]
    },
    {
     "name": "stderr",
     "output_type": "stream",
     "text": [
      "  % Total    % Received % Xferd  Average Speed   Time    Time     Time  Current\n",
      "                                 Dload  Upload   Total   Spent    Left  Speed\n",
      "100 10587  100 10572  100    15   2164      3  0:00:05  0:00:04  0:00:01  2167\n"
     ]
    },
    {
     "name": "stdout",
     "output_type": "stream",
     "text": [
      "PDB file generated successfully: /Users/jianchengluo/Desktop/CPPs/cpps_natrual/MAARLCCQLDPARDV.pdb\n"
     ]
    },
    {
     "name": "stderr",
     "output_type": "stream",
     "text": [
      "  % Total    % Received % Xferd  Average Speed   Time    Time     Time  Current\n",
      "                                 Dload  Upload   Total   Spent    Left  Speed\n",
      "100  6206  100  6198  100     8   2666      3  0:00:02  0:00:02 --:--:--  2670\n"
     ]
    },
    {
     "name": "stdout",
     "output_type": "stream",
     "text": [
      "PDB file generated successfully: /Users/jianchengluo/Desktop/CPPs/cpps_natrual/MAARLCCQ.pdb\n"
     ]
    },
    {
     "name": "stderr",
     "output_type": "stream",
     "text": [
      "  % Total    % Received % Xferd  Average Speed   Time    Time     Time  Current\n",
      "                                 Dload  Upload   Total   Spent    Left  Speed\n",
      "100  4502  100  4497  100     5   1936      2  0:00:02  0:00:02 --:--:--  1938\n"
     ]
    },
    {
     "name": "stdout",
     "output_type": "stream",
     "text": [
      "PDB file generated successfully: /Users/jianchengluo/Desktop/CPPs/cpps_natrual/MAARL.pdb\n"
     ]
    },
    {
     "name": "stderr",
     "output_type": "stream",
     "text": [
      "  % Total    % Received % Xferd  Average Speed   Time    Time     Time  Current\n",
      "                                 Dload  Upload   Total   Spent    Left  Speed\n",
      "100 10340  100 10329  100    11   1217      1  0:00:11  0:00:08  0:00:03  2405\n"
     ]
    },
    {
     "name": "stdout",
     "output_type": "stream",
     "text": [
      "PDB file generated successfully: /Users/jianchengluo/Desktop/CPPs/cpps_natrual/YGRKKRRQRRR.pdb\n"
     ]
    },
    {
     "name": "stderr",
     "output_type": "stream",
     "text": [
      "  % Total    % Received % Xferd  Average Speed   Time    Time     Time  Current\n",
      "                                 Dload  Upload   Total   Spent    Left  Speed\n",
      "100 24457  100 24423  100    34   8004     11  0:00:03  0:00:03 --:--:--  8016\n"
     ]
    },
    {
     "name": "stdout",
     "output_type": "stream",
     "text": [
      "PDB file generated successfully: /Users/jianchengluo/Desktop/CPPs/cpps_natrual/YGRKKRRQRRRGLFGAIAGFIENGWEGMIDGWYG.pdb\n"
     ]
    },
    {
     "name": "stderr",
     "output_type": "stream",
     "text": [
      "  % Total    % Received % Xferd  Average Speed   Time    Time     Time  Current\n",
      "                                 Dload  Upload   Total   Spent    Left  Speed\n",
      "100  9448  100  9438  100    10   2421      2  0:00:05  0:00:03  0:00:02  2423\n"
     ]
    },
    {
     "name": "stdout",
     "output_type": "stream",
     "text": [
      "PDB file generated successfully: /Users/jianchengluo/Desktop/CPPs/cpps_natrual/RRLSYSRRRF.pdb\n"
     ]
    },
    {
     "name": "stderr",
     "output_type": "stream",
     "text": [
      "  % Total    % Received % Xferd  Average Speed   Time    Time     Time  Current\n",
      "                                 Dload  Upload   Total   Spent    Left  Speed\n",
      "100 20233  100 20211  100    22   5504      5  0:00:04  0:00:03  0:00:01  5510\n"
     ]
    },
    {
     "name": "stdout",
     "output_type": "stream",
     "text": [
      "PDB file generated successfully: /Users/jianchengluo/Desktop/CPPs/cpps_natrual/RHHRRHHRRHRRHHRRHHRHHR.pdb\n"
     ]
    },
    {
     "name": "stderr",
     "output_type": "stream",
     "text": [
      "  % Total    % Received % Xferd  Average Speed   Time    Time     Time  Current\n",
      "                                 Dload  Upload   Total   Spent    Left  Speed\n",
      "100 14394  100 14379  100    15   4570      4  0:00:03  0:00:03 --:--:--  4576\n"
     ]
    },
    {
     "name": "stdout",
     "output_type": "stream",
     "text": [
      "PDB file generated successfully: /Users/jianchengluo/Desktop/CPPs/cpps_natrual/HHHRRRRRRRRRHHH.pdb\n"
     ]
    },
    {
     "name": "stderr",
     "output_type": "stream",
     "text": [
      "  % Total    % Received % Xferd  Average Speed   Time    Time     Time  Current\n",
      "                                 Dload  Upload   Total   Spent    Left  Speed\n",
      "100 14394  100 14379  100    15   2919      3  0:00:05  0:00:04  0:00:01  3633\n"
     ]
    },
    {
     "name": "stdout",
     "output_type": "stream",
     "text": [
      "PDB file generated successfully: /Users/jianchengluo/Desktop/CPPs/cpps_natrual/HHHHHHRRRRRRRRR.pdb\n"
     ]
    },
    {
     "name": "stderr",
     "output_type": "stream",
     "text": [
      "  % Total    % Received % Xferd  Average Speed   Time    Time     Time  Current\n",
      "                                 Dload  Upload   Total   Spent    Left  Speed\n",
      "100  9528  100  9519  100     9   8876      8  0:00:01  0:00:01 --:--:--  8888\n"
     ]
    },
    {
     "name": "stdout",
     "output_type": "stream",
     "text": [
      "PDB file generated successfully: /Users/jianchengluo/Desktop/CPPs/cpps_natrual/RRRRRRRRR.pdb\n"
     ]
    },
    {
     "name": "stderr",
     "output_type": "stream",
     "text": [
      "  % Total    % Received % Xferd  Average Speed   Time    Time     Time  Current\n",
      "                                 Dload  Upload   Total   Spent    Left  Speed\n",
      "100 27372  100 27339  100    33  10271     12  0:00:02  0:00:02 --:--:-- 10282\n"
     ]
    },
    {
     "name": "stdout",
     "output_type": "stream",
     "text": [
      "PDB file generated successfully: /Users/jianchengluo/Desktop/CPPs/cpps_natrual/RHHLRHLRRHLRHLLRHLRHHLRHLRRHLRHLL.pdb\n"
     ]
    },
    {
     "name": "stderr",
     "output_type": "stream",
     "text": [
      "  % Total    % Received % Xferd  Average Speed   Time    Time     Time  Current\n",
      "                                 Dload  Upload   Total   Spent    Left  Speed\n",
      "100 24614  100 24585  100    29   5277      6  0:00:04  0:00:04 --:--:--  5284\n"
     ]
    },
    {
     "name": "stdout",
     "output_type": "stream",
     "text": [
      "PDB file generated successfully: /Users/jianchengluo/Desktop/CPPs/cpps_natrual/RLHHRLHRRLHRLHRRLHRLHHRLHRRLH.pdb\n"
     ]
    },
    {
     "name": "stderr",
     "output_type": "stream",
     "text": [
      "  % Total    % Received % Xferd  Average Speed   Time    Time     Time  Current\n",
      "                                 Dload  Upload   Total   Spent    Left  Speed\n",
      "100 23561  100 23532  100    29   6277      7  0:00:04  0:00:03  0:00:01  6284\n"
     ]
    },
    {
     "name": "stdout",
     "output_type": "stream",
     "text": [
      "PDB file generated successfully: /Users/jianchengluo/Desktop/CPPs/cpps_natrual/LRHLLRHLLRHLRHLLRHLRHLLRHLLRH.pdb\n"
     ]
    },
    {
     "name": "stderr",
     "output_type": "stream",
     "text": [
      "  % Total    % Received % Xferd  Average Speed   Time    Time     Time  Current\n",
      "                                 Dload  Upload   Total   Spent    Left  Speed\n",
      "100 23885  100 23856  100    29   8694     10  0:00:02  0:00:02 --:--:--  8704\n"
     ]
    },
    {
     "name": "stdout",
     "output_type": "stream",
     "text": [
      "PDB file generated successfully: /Users/jianchengluo/Desktop/CPPs/cpps_natrual/LRHHLRHLLRHLRHLLRHLRHHLRHLLRH.pdb\n"
     ]
    },
    {
     "name": "stderr",
     "output_type": "stream",
     "text": [
      "  % Total    % Received % Xferd  Average Speed   Time    Time     Time  Current\n",
      "                                 Dload  Upload   Total   Spent    Left  Speed\n",
      "100 24776  100 24747  100    29   8231      9  0:00:03  0:00:03 --:--:--  8242\n"
     ]
    },
    {
     "name": "stdout",
     "output_type": "stream",
     "text": [
      "PDB file generated successfully: /Users/jianchengluo/Desktop/CPPs/cpps_natrual/RLHRRLHRRLHRLHRRLHRLHRRLHRRLH.pdb\n"
     ]
    },
    {
     "name": "stderr",
     "output_type": "stream",
     "text": [
      "  % Total    % Received % Xferd  Average Speed   Time    Time     Time  Current\n",
      "                                 Dload  Upload   Total   Spent    Left  Speed\n",
      "100 18775  100 18753  100    22   6708      7  0:00:03  0:00:02  0:00:01  6714\n"
     ]
    },
    {
     "name": "stdout",
     "output_type": "stream",
     "text": [
      "PDB file generated successfully: /Users/jianchengluo/Desktop/CPPs/cpps_natrual/RHHLRHLRRHLRHLLRHLRHHL.pdb\n"
     ]
    },
    {
     "name": "stderr",
     "output_type": "stream",
     "text": [
      "  % Total    % Received % Xferd  Average Speed   Time    Time     Time  Current\n",
      "                                 Dload  Upload   Total   Spent    Left  Speed\n",
      "100 17560  100 17538  100    22   6657      8  0:00:02  0:00:02 --:--:--  6666\n"
     ]
    },
    {
     "name": "stdout",
     "output_type": "stream",
     "text": [
      "PDB file generated successfully: /Users/jianchengluo/Desktop/CPPs/cpps_natrual/LHHLLHHLLHLLHHLLHHLHHL.pdb\n"
     ]
    },
    {
     "name": "stderr",
     "output_type": "stream",
     "text": [
      "  % Total    % Received % Xferd  Average Speed   Time    Time     Time  Current\n",
      "                                 Dload  Upload   Total   Spent    Left  Speed\n",
      "100 19180  100 19158  100    22   7155      8  0:00:02  0:00:02 --:--:--  7164\n"
     ]
    },
    {
     "name": "stdout",
     "output_type": "stream",
     "text": [
      "PDB file generated successfully: /Users/jianchengluo/Desktop/CPPs/cpps_natrual/RRHLRRHLRHLRRHLRRHLRHL.pdb\n"
     ]
    },
    {
     "name": "stderr",
     "output_type": "stream",
     "text": [
      "  % Total    % Received % Xferd  Average Speed   Time    Time     Time  Current\n",
      "                                 Dload  Upload   Total   Spent    Left  Speed\n",
      "100 15369  100 15351  100    18   5911      6  0:00:03  0:00:02  0:00:01  5917\n"
     ]
    },
    {
     "name": "stdout",
     "output_type": "stream",
     "text": [
      "PDB file generated successfully: /Users/jianchengluo/Desktop/CPPs/cpps_natrual/RLHLRLHLRHLRHHLRLH.pdb\n"
     ]
    },
    {
     "name": "stderr",
     "output_type": "stream",
     "text": [
      "  % Total    % Received % Xferd  Average Speed   Time    Time     Time  Current\n",
      "                                 Dload  Upload   Total   Spent    Left  Speed\n",
      "100 13503  100 13488  100    15   3757      4  0:00:03  0:00:03 --:--:--  3762\n"
     ]
    },
    {
     "name": "stdout",
     "output_type": "stream",
     "text": [
      "PDB file generated successfully: /Users/jianchengluo/Desktop/CPPs/cpps_natrual/RLHHRLHRRLHRLHR.pdb\n"
     ]
    },
    {
     "name": "stderr",
     "output_type": "stream",
     "text": [
      "  % Total    % Received % Xferd  Average Speed   Time    Time     Time  Current\n",
      "                                 Dload  Upload   Total   Spent    Left  Speed\n",
      "100 12855  100 12840  100    15   5343      6  0:00:02  0:00:02 --:--:--  5349\n"
     ]
    },
    {
     "name": "stdout",
     "output_type": "stream",
     "text": [
      "PDB file generated successfully: /Users/jianchengluo/Desktop/CPPs/cpps_natrual/LRHLLRHLLRHLRHL.pdb\n"
     ]
    },
    {
     "name": "stderr",
     "output_type": "stream",
     "text": [
      "  % Total    % Received % Xferd  Average Speed   Time    Time     Time  Current\n",
      "                                 Dload  Upload   Total   Spent    Left  Speed\n",
      "100 13584  100 13569  100    15   5842      6  0:00:02  0:00:02 --:--:--  5850\n"
     ]
    },
    {
     "name": "stdout",
     "output_type": "stream",
     "text": [
      "PDB file generated successfully: /Users/jianchengluo/Desktop/CPPs/cpps_natrual/RLHRRLHRRLHRLHR.pdb\n"
     ]
    },
    {
     "name": "stderr",
     "output_type": "stream",
     "text": [
      "  % Total    % Received % Xferd  Average Speed   Time    Time     Time  Current\n",
      "                                 Dload  Upload   Total   Spent    Left  Speed\n",
      "100 10259  100 10248  100    11   2249      2  0:00:05  0:00:04  0:00:01  2395\n"
     ]
    },
    {
     "name": "stdout",
     "output_type": "stream",
     "text": [
      "PDB file generated successfully: /Users/jianchengluo/Desktop/CPPs/cpps_natrual/RHHLRHLRRHL.pdb\n"
     ]
    },
    {
     "name": "stderr",
     "output_type": "stream",
     "text": [
      "  % Total    % Received % Xferd  Average Speed   Time    Time     Time  Current\n",
      "                                 Dload  Upload   Total   Spent    Left  Speed\n",
      "100 19024  100 18996  100    28   7254     10  0:00:02  0:00:02 --:--:--  7266\n"
     ]
    },
    {
     "name": "stdout",
     "output_type": "stream",
     "text": [
      "PDB file generated successfully: /Users/jianchengluo/Desktop/CPPs/cpps_natrual/AEAEAEAEAKAKAKAKAGGGHRRRRRRR.pdb\n"
     ]
    },
    {
     "name": "stderr",
     "output_type": "stream",
     "text": [
      "  % Total    % Received % Xferd  Average Speed   Time    Time     Time  Current\n",
      "                                 Dload  Upload   Total   Spent    Left  Speed\n",
      "100 20965  100 20940  100    25   7964      9  0:00:02  0:00:02 --:--:--  7974\n"
     ]
    },
    {
     "name": "stdout",
     "output_type": "stream",
     "text": [
      "PDB file generated successfully: /Users/jianchengluo/Desktop/CPPs/cpps_natrual/RFTFHFRFEFTFHFEGGGRRRRRRR.pdb\n"
     ]
    },
    {
     "name": "stderr",
     "output_type": "stream",
     "text": [
      "  % Total    % Received % Xferd  Average Speed   Time    Time     Time  Current\n",
      "                                 Dload  Upload   Total   Spent    Left  Speed\n",
      "100 15856  100 15837  100    19   5927      7  0:00:02  0:00:02 --:--:--  5934\n"
     ]
    },
    {
     "name": "stdout",
     "output_type": "stream",
     "text": [
      "PDB file generated successfully: /Users/jianchengluo/Desktop/CPPs/cpps_natrual/FQFNFQFNGGGHRRRRRRR.pdb\n"
     ]
    },
    {
     "name": "stderr",
     "output_type": "stream",
     "text": [
      "  % Total    % Received % Xferd  Average Speed   Time    Time     Time  Current\n",
      "                                 Dload  Upload   Total   Spent    Left  Speed\n",
      "100 10588  100 10572  100    16   4569      6  0:00:02  0:00:02 --:--:--  4577\n"
     ]
    },
    {
     "name": "stdout",
     "output_type": "stream",
     "text": [
      "PDB file generated successfully: /Users/jianchengluo/Desktop/CPPs/cpps_natrual/AEAEAEAEAKAKAKAK.pdb\n"
     ]
    },
    {
     "name": "stderr",
     "output_type": "stream",
     "text": [
      "  % Total    % Received % Xferd  Average Speed   Time    Time     Time  Current\n",
      "                                 Dload  Upload   Total   Spent    Left  Speed\n",
      "100 13746  100 13731  100    15   5898      6  0:00:02  0:00:02 --:--:--  5907\n"
     ]
    },
    {
     "name": "stdout",
     "output_type": "stream",
     "text": [
      "PDB file generated successfully: /Users/jianchengluo/Desktop/CPPs/cpps_natrual/RFTFHFRFEFTFHFE.pdb\n"
     ]
    },
    {
     "name": "stderr",
     "output_type": "stream",
     "text": [
      "  % Total    % Received % Xferd  Average Speed   Time    Time     Time  Current\n",
      "                                 Dload  Upload   Total   Spent    Left  Speed\n",
      "100 12854  100 12840  100    14   5018      5  0:00:02  0:00:02 --:--:--  5025\n"
     ]
    },
    {
     "name": "stdout",
     "output_type": "stream",
     "text": [
      "PDB file generated successfully: /Users/jianchengluo/Desktop/CPPs/cpps_natrual/RHNFRFFFNFRTNR.pdb\n"
     ]
    },
    {
     "name": "stderr",
     "output_type": "stream",
     "text": [
      "  % Total    % Received % Xferd  Average Speed   Time    Time     Time  Current\n",
      "                                 Dload  Upload   Total   Spent    Left  Speed\n",
      "100 11962  100 11949  100    13   5067      5  0:00:02  0:00:02 --:--:--  5075\n"
     ]
    },
    {
     "name": "stdout",
     "output_type": "stream",
     "text": [
      "PDB file generated successfully: /Users/jianchengluo/Desktop/CPPs/cpps_natrual/NRHFRFFFNFTNR.pdb\n"
     ]
    },
    {
     "name": "stderr",
     "output_type": "stream",
     "text": [
      "  % Total    % Received % Xferd  Average Speed   Time    Time     Time  Current\n",
      "                                 Dload  Upload   Total   Spent    Left  Speed\n",
      "100  8718  100  8709  100     9   1308      1  0:00:09  0:00:06  0:00:03  1991\n"
     ]
    },
    {
     "name": "stdout",
     "output_type": "stream",
     "text": [
      "PDB file generated successfully: /Users/jianchengluo/Desktop/CPPs/cpps_natrual/FTFHFTFHF.pdb\n"
     ]
    },
    {
     "name": "stderr",
     "output_type": "stream",
     "text": [
      "  % Total    % Received % Xferd  Average Speed   Time    Time     Time  Current\n",
      "                                 Dload  Upload   Total   Spent    Left  Speed\n",
      "100  8474  100  8466  100     8   3632      3  0:00:02  0:00:02 --:--:--  3635\n"
     ]
    },
    {
     "name": "stdout",
     "output_type": "stream",
     "text": [
      "PDB file generated successfully: /Users/jianchengluo/Desktop/CPPs/cpps_natrual/FHFHFRFR.pdb\n"
     ]
    },
    {
     "name": "stderr",
     "output_type": "stream",
     "text": [
      "  % Total    % Received % Xferd  Average Speed   Time    Time     Time  Current\n",
      "                                 Dload  Upload   Total   Spent    Left  Speed\n",
      "100 21454  100 21426  100    28   7871     10  0:00:02  0:00:02 --:--:--  7884\n"
     ]
    },
    {
     "name": "stdout",
     "output_type": "stream",
     "text": [
      "PDB file generated successfully: /Users/jianchengluo/Desktop/CPPs/cpps_natrual/KLLKLLLKLWKKLLKLLKGGGRRRRRRR.pdb\n"
     ]
    },
    {
     "name": "stderr",
     "output_type": "stream",
     "text": [
      "  % Total    % Received % Xferd  Average Speed   Time    Time     Time  Current\n",
      "                                 Dload  Upload   Total   Spent    Left  Speed\n",
      "100 20481  100 20454  100    27   7320      9  0:00:03  0:00:02  0:00:01  7330\n"
     ]
    },
    {
     "name": "stdout",
     "output_type": "stream",
     "text": [
      "PDB file generated successfully: /Users/jianchengluo/Desktop/CPPs/cpps_natrual/HRLRHALAHLLHKLKHLLHALAHRLRH.pdb\n"
     ]
    },
    {
     "name": "stderr",
     "output_type": "stream",
     "text": [
      "  % Total    % Received % Xferd  Average Speed   Time    Time     Time  Current\n",
      "                                 Dload  Upload   Total   Spent    Left  Speed\n",
      "100 21292  100 21264  100    28   7932     10  0:00:02  0:00:02 --:--:--  7941\n"
     ]
    },
    {
     "name": "stdout",
     "output_type": "stream",
     "text": [
      "PDB file generated successfully: /Users/jianchengluo/Desktop/CPPs/cpps_natrual/HALAHKLKHLLHRLRHLLHRHLRHALAH.pdb\n"
     ]
    },
    {
     "name": "stderr",
     "output_type": "stream",
     "text": [
      "  % Total    % Received % Xferd  Average Speed   Time    Time     Time  Current\n",
      "                                 Dload  Upload   Total   Spent    Left  Speed\n",
      "100 18130  100 18105  100    25   6907      9  0:00:02  0:00:02 --:--:--  6914\n"
     ]
    },
    {
     "name": "stdout",
     "output_type": "stream",
     "text": [
      "PDB file generated successfully: /Users/jianchengluo/Desktop/CPPs/cpps_natrual/LAELLAELLAELGGGGRRRRRRRRR.pdb\n"
     ]
    },
    {
     "name": "stderr",
     "output_type": "stream",
     "text": [
      "  % Total    % Received % Xferd  Average Speed   Time    Time     Time  Current\n",
      "                                 Dload  Upload   Total   Spent    Left  Speed\n",
      "100 18130  100 18105  100    25   5706      7  0:00:03  0:00:03 --:--:--  5715\n"
     ]
    },
    {
     "name": "stdout",
     "output_type": "stream",
     "text": [
      "PDB file generated successfully: /Users/jianchengluo/Desktop/CPPs/cpps_natrual/LAQLLAQLLAQLGGGGRRRRRRRRR.pdb\n"
     ]
    },
    {
     "name": "stderr",
     "output_type": "stream",
     "text": [
      "  % Total    % Received % Xferd  Average Speed   Time    Time     Time  Current\n",
      "                                 Dload  Upload   Total   Spent    Left  Speed\n",
      "100 16265  100 16242  100    23   6126      8  0:00:02  0:00:02 --:--:--  6137\n"
     ]
    },
    {
     "name": "stdout",
     "output_type": "stream",
     "text": [
      "PDB file generated successfully: /Users/jianchengluo/Desktop/CPPs/cpps_natrual/ACSSSPSKHCGGGGRRRRRRRRR.pdb\n"
     ]
    },
    {
     "name": "stderr",
     "output_type": "stream",
     "text": [
      "  % Total    % Received % Xferd  Average Speed   Time    Time     Time  Current\n",
      "                                 Dload  Upload   Total   Spent    Left  Speed\n",
      "100 12129  100 12111  100    18  11553     17  0:00:01  0:00:01 --:--:-- 11573\n"
     ]
    },
    {
     "name": "stdout",
     "output_type": "stream",
     "text": [
      "PDB file generated successfully: /Users/jianchengluo/Desktop/CPPs/cpps_natrual/KLALKLALKALKAALKLA.pdb\n"
     ]
    },
    {
     "name": "stderr",
     "output_type": "stream",
     "text": [
      "  % Total    % Received % Xferd  Average Speed   Time    Time     Time  Current\n",
      "                                 Dload  Upload   Total   Spent    Left  Speed\n",
      "100 12939  100 12921  100    18   4779      6  0:00:03  0:00:02  0:00:01  4785\n"
     ]
    },
    {
     "name": "stdout",
     "output_type": "stream",
     "text": [
      "PDB file generated successfully: /Users/jianchengluo/Desktop/CPPs/cpps_natrual/RLALRLALRALRAALRLA.pdb\n"
     ]
    },
    {
     "name": "stderr",
     "output_type": "stream",
     "text": [
      "  % Total    % Received % Xferd  Average Speed   Time    Time     Time  Current\n",
      "                                 Dload  Upload   Total   Spent    Left  Speed\n",
      "100 14235  100 14217  100    18   5159      6  0:00:03  0:00:02  0:00:01  5165\n"
     ]
    },
    {
     "name": "stdout",
     "output_type": "stream",
     "text": [
      "PDB file generated successfully: /Users/jianchengluo/Desktop/CPPs/cpps_natrual/KLLKLLLKLWKKLLKLLK.pdb\n"
     ]
    },
    {
     "name": "stderr",
     "output_type": "stream",
     "text": [
      "  % Total    % Received % Xferd  Average Speed   Time    Time     Time  Current\n",
      "                                 Dload  Upload   Total   Spent    Left  Speed\n",
      "100 15369  100 15351  100    18   8194      9  0:00:02  0:00:01  0:00:01  8201\n"
     ]
    },
    {
     "name": "stdout",
     "output_type": "stream",
     "text": [
      "PDB file generated successfully: /Users/jianchengluo/Desktop/CPPs/cpps_natrual/RLLRLLLRLWRRLLRLLR.pdb\n"
     ]
    },
    {
     "name": "stderr",
     "output_type": "stream",
     "text": [
      "  % Total    % Received % Xferd  Average Speed   Time    Time     Time  Current\n",
      "                                 Dload  Upload   Total   Spent    Left  Speed\n",
      "100  7262  100  7251  100    11   3016      4  0:00:02  0:00:02 --:--:--  3022\n"
     ]
    },
    {
     "name": "stdout",
     "output_type": "stream",
     "text": [
      "PDB file generated successfully: /Users/jianchengluo/Desktop/CPPs/cpps_natrual/ACSSSPSKHCG.pdb\n"
     ]
    },
    {
     "name": "stderr",
     "output_type": "stream",
     "text": [
      "  % Total    % Received % Xferd  Average Speed   Time    Time     Time  Current\n",
      "                                 Dload  Upload   Total   Spent    Left  Speed\n",
      "100  9286  100  9276  100    10   8761      9  0:00:01  0:00:01 --:--:--  8776\n"
     ]
    },
    {
     "name": "stdout",
     "output_type": "stream",
     "text": [
      "PDB file generated successfully: /Users/jianchengluo/Desktop/CPPs/cpps_natrual/NYRWRCKNQN.pdb\n"
     ]
    },
    {
     "name": "stderr",
     "output_type": "stream",
     "text": [
      "  % Total    % Received % Xferd  Average Speed   Time    Time     Time  Current\n",
      "                                 Dload  Upload   Total   Spent    Left  Speed\n",
      "100  9528  100  9519  100     9   9151      8  0:00:01  0:00:01 --:--:--  9161\n"
     ]
    },
    {
     "name": "stdout",
     "output_type": "stream",
     "text": [
      "PDB file generated successfully: /Users/jianchengluo/Desktop/CPPs/cpps_natrual/RRRRRRRRR.pdb\n"
     ]
    },
    {
     "name": "stderr",
     "output_type": "stream",
     "text": [
      "  % Total    % Received % Xferd  Average Speed   Time    Time     Time  Current\n",
      "                                 Dload  Upload   Total   Spent    Left  Speed\n",
      "100 14314  100 14298  100    16  11003     12  0:00:01  0:00:01 --:--:-- 11010\n"
     ]
    },
    {
     "name": "stdout",
     "output_type": "stream",
     "text": [
      "PDB file generated successfully: /Users/jianchengluo/Desktop/CPPs/cpps_natrual/RQIKIWFQNRRMKWKK.pdb\n"
     ]
    },
    {
     "name": "stderr",
     "output_type": "stream",
     "text": [
      "  % Total    % Received % Xferd  Average Speed   Time    Time     Time  Current\n",
      "                                 Dload  Upload   Total   Spent    Left  Speed\n",
      "100  9042  100  9033  100     9   8280      8  0:00:01  0:00:01 --:--:--  8295\n"
     ]
    },
    {
     "name": "stdout",
     "output_type": "stream",
     "text": [
      "PDB file generated successfully: /Users/jianchengluo/Desktop/CPPs/cpps_natrual/RKKRRQRRR.pdb\n"
     ]
    },
    {
     "name": "stderr",
     "output_type": "stream",
     "text": [
      "  % Total    % Received % Xferd  Average Speed   Time    Time     Time  Current\n",
      "                                 Dload  Upload   Total   Spent    Left  Speed\n",
      "100 17727  100 17700  100    27  11298     17  0:00:01  0:00:01 --:--:-- 11319\n"
     ]
    },
    {
     "name": "stdout",
     "output_type": "stream",
     "text": [
      "PDB file generated successfully: /Users/jianchengluo/Desktop/CPPs/cpps_natrual/GWTLNSAGYLLGKINLKALAALAKKIL.pdb\n"
     ]
    },
    {
     "name": "stderr",
     "output_type": "stream",
     "text": [
      "  % Total    % Received % Xferd  Average Speed   Time    Time     Time  Current\n",
      "                                 Dload  Upload   Total   Spent    Left  Speed\n",
      "100  6124  100  6117  100     7   5595      6  0:00:01  0:00:01 --:--:--  5597\n"
     ]
    },
    {
     "name": "stdout",
     "output_type": "stream",
     "text": [
      "PDB file generated successfully: /Users/jianchengluo/Desktop/CPPs/cpps_natrual/RPARPAR.pdb\n"
     ]
    },
    {
     "name": "stderr",
     "output_type": "stream",
     "text": [
      "  % Total    % Received % Xferd  Average Speed   Time    Time     Time  Current\n",
      "                                 Dload  Upload   Total   Spent    Left  Speed\n",
      "100 21786  100 21750  100    36   8265     13  0:00:02  0:00:02 --:--:--  8280\n"
     ]
    },
    {
     "name": "stdout",
     "output_type": "stream",
     "text": [
      "PDB file generated successfully: /Users/jianchengluo/Desktop/CPPs/cpps_natrual/CGGGARKKAAKAARKKAAKAARKKAAKAARKKAAKA.pdb\n"
     ]
    },
    {
     "name": "stderr",
     "output_type": "stream",
     "text": [
      "  % Total    % Received % Xferd  Average Speed   Time    Time     Time  Current\n",
      "                                 Dload  Upload   Total   Spent    Left  Speed\n",
      "100 12127  100 12111  100    16   5058      6  0:00:02  0:00:02 --:--:--  5063\n"
     ]
    },
    {
     "name": "stdout",
     "output_type": "stream",
     "text": [
      "PDB file generated successfully: /Users/jianchengluo/Desktop/CPPs/cpps_natrual/CGGGGYGRKKRRQRRR.pdb\n"
     ]
    },
    {
     "name": "stderr",
     "output_type": "stream",
     "text": [
      "  % Total    % Received % Xferd  Average Speed   Time    Time     Time  Current\n",
      "                                 Dload  Upload   Total   Spent    Left  Speed\n",
      "100  9938  100  9924  100    14   9124     12  0:00:01  0:00:01 --:--:--  9142\n"
     ]
    },
    {
     "name": "stdout",
     "output_type": "stream",
     "text": [
      "PDB file generated successfully: /Users/jianchengluo/Desktop/CPPs/cpps_natrual/YKQCHKKGGKKGSG.pdb\n"
     ]
    },
    {
     "name": "stderr",
     "output_type": "stream",
     "text": [
      "  % Total    % Received % Xferd  Average Speed   Time    Time     Time  Current\n",
      "                                 Dload  Upload   Total   Spent    Left  Speed\n",
      "100  9938  100  9924  100    14   3308      4  0:00:03  0:00:02  0:00:01  3312\n"
     ]
    },
    {
     "name": "stdout",
     "output_type": "stream",
     "text": [
      "PDB file generated successfully: /Users/jianchengluo/Desktop/CPPs/cpps_natrual/YKQSHKKGGKKGSG.pdb\n"
     ]
    },
    {
     "name": "stderr",
     "output_type": "stream",
     "text": [
      "  % Total    % Received % Xferd  Average Speed   Time    Time     Time  Current\n",
      "                                 Dload  Upload   Total   Spent    Left  Speed\n",
      "100 10748  100 10734  100    14  10162     13  0:00:01  0:00:01 --:--:-- 10178\n"
     ]
    },
    {
     "name": "stdout",
     "output_type": "stream",
     "text": [
      "PDB file generated successfully: /Users/jianchengluo/Desktop/CPPs/cpps_natrual/YRQSHRRGGRRGSG.pdb\n"
     ]
    },
    {
     "name": "stderr",
     "output_type": "stream",
     "text": [
      "  % Total    % Received % Xferd  Average Speed   Time    Time     Time  Current\n",
      "                                 Dload  Upload   Total   Spent    Left  Speed\n",
      "100 10100  100 10086  100    14   9539     13  0:00:01  0:00:01 --:--:--  9555\n"
     ]
    },
    {
     "name": "stdout",
     "output_type": "stream",
     "text": [
      "PDB file generated successfully: /Users/jianchengluo/Desktop/CPPs/cpps_natrual/WKQSHKKGGKKGSG.pdb\n"
     ]
    },
    {
     "name": "stderr",
     "output_type": "stream",
     "text": [
      "  % Total    % Received % Xferd  Average Speed   Time    Time     Time  Current\n",
      "                                 Dload  Upload   Total   Spent    Left  Speed\n",
      "100 13914  100 13893  100    21  11018     16  0:00:01  0:00:01 --:--:-- 11042\n"
     ]
    },
    {
     "name": "stdout",
     "output_type": "stream",
     "text": [
      "PDB file generated successfully: /Users/jianchengluo/Desktop/CPPs/cpps_natrual/AGYLLGKINLKALAALAKKIL.pdb\n"
     ]
    },
    {
     "name": "stderr",
     "output_type": "stream",
     "text": [
      "  % Total    % Received % Xferd  Average Speed   Time    Time     Time  Current\n",
      "                                 Dload  Upload   Total   Spent    Left  Speed\n",
      "100 14314  100 14298  100    16  11118     12  0:00:01  0:00:01 --:--:-- 11130\n"
     ]
    },
    {
     "name": "stdout",
     "output_type": "stream",
     "text": [
      "PDB file generated successfully: /Users/jianchengluo/Desktop/CPPs/cpps_natrual/RQIKIWFQNRRMKWKK.pdb\n"
     ]
    },
    {
     "name": "stderr",
     "output_type": "stream",
     "text": [
      "  % Total    % Received % Xferd  Average Speed   Time    Time     Time  Current\n",
      "                                 Dload  Upload   Total   Spent    Left  Speed\n",
      "100  9528  100  9519  100     9   8934      8  0:00:01  0:00:01 --:--:--  8946\n"
     ]
    },
    {
     "name": "stdout",
     "output_type": "stream",
     "text": [
      "PDB file generated successfully: /Users/jianchengluo/Desktop/CPPs/cpps_natrual/RRRRRRRRR.pdb\n"
     ]
    },
    {
     "name": "stderr",
     "output_type": "stream",
     "text": [
      "  % Total    % Received % Xferd  Average Speed   Time    Time     Time  Current\n",
      "                                 Dload  Upload   Total   Spent    Left  Speed\n",
      "100 16426  100 16404  100    22  12496     16  0:00:01  0:00:01 --:--:-- 12519\n"
     ]
    },
    {
     "name": "stdout",
     "output_type": "stream",
     "text": [
      "PDB file generated successfully: /Users/jianchengluo/Desktop/CPPs/cpps_natrual/MVTVLFRRLRIRRACGPPRVRV.pdb\n"
     ]
    },
    {
     "name": "stderr",
     "output_type": "stream",
     "text": [
      "  % Total    % Received % Xferd  Average Speed   Time    Time     Time  Current\n",
      "                                 Dload  Upload   Total   Spent    Left  Speed\n",
      "100   185  100   161  100    24    131     19  0:00:01  0:00:01 --:--:--   151\n"
     ]
    },
    {
     "name": "stdout",
     "output_type": "stream",
     "text": [
      "PDB file generated successfully: /Users/jianchengluo/Desktop/CPPs/cpps_natrual/Biotin(O)-GGGG-RRWWRRWRR.pdb\n"
     ]
    },
    {
     "name": "stderr",
     "output_type": "stream",
     "text": [
      "  % Total    % Received % Xferd  Average Speed   Time    Time     Time  Current\n",
      "                                 Dload  Upload   Total   Spent    Left  Speed\n",
      "100   185  100   161  100    24     71     10  0:00:02  0:00:02 --:--:--    81\n"
     ]
    },
    {
     "name": "stdout",
     "output_type": "stream",
     "text": [
      "PDB file generated successfully: /Users/jianchengluo/Desktop/CPPs/cpps_natrual/Biotin(O)-GGGG-RRFFRRFRR.pdb\n"
     ]
    },
    {
     "name": "stderr",
     "output_type": "stream",
     "text": [
      "  % Total    % Received % Xferd  Average Speed   Time    Time     Time  Current\n",
      "                                 Dload  Upload   Total   Spent    Left  Speed\n",
      "100   185  100   161  100    24    118     17  0:00:01  0:00:01 --:--:--   136\n"
     ]
    },
    {
     "name": "stdout",
     "output_type": "stream",
     "text": [
      "PDB file generated successfully: /Users/jianchengluo/Desktop/CPPs/cpps_natrual/Biotin(O)-GGGG-RRFFRRWRR.pdb\n"
     ]
    },
    {
     "name": "stderr",
     "output_type": "stream",
     "text": [
      "  % Total    % Received % Xferd  Average Speed   Time    Time     Time  Current\n",
      "                                 Dload  Upload   Total   Spent    Left  Speed\n",
      "100   185  100   161  100    24    146     21  0:00:01  0:00:01 --:--:--   168\n"
     ]
    },
    {
     "name": "stdout",
     "output_type": "stream",
     "text": [
      "PDB file generated successfully: /Users/jianchengluo/Desktop/CPPs/cpps_natrual/Biotin(O)-GGGG-RRWFRRFRR.pdb\n"
     ]
    },
    {
     "name": "stderr",
     "output_type": "stream",
     "text": [
      "  % Total    % Received % Xferd  Average Speed   Time    Time     Time  Current\n",
      "                                 Dload  Upload   Total   Spent    Left  Speed\n",
      "100   185  100   161  100    24    108     16  0:00:01  0:00:01 --:--:--   124\n"
     ]
    },
    {
     "name": "stdout",
     "output_type": "stream",
     "text": [
      "PDB file generated successfully: /Users/jianchengluo/Desktop/CPPs/cpps_natrual/Biotin(O)-GGGG-RRFWRRFRR.pdb\n"
     ]
    },
    {
     "name": "stderr",
     "output_type": "stream",
     "text": [
      "  % Total    % Received % Xferd  Average Speed   Time    Time     Time  Current\n",
      "                                 Dload  Upload   Total   Spent    Left  Speed\n",
      "100   185  100   161  100    24    139     20  0:00:01  0:00:01 --:--:--   160\n"
     ]
    },
    {
     "name": "stdout",
     "output_type": "stream",
     "text": [
      "PDB file generated successfully: /Users/jianchengluo/Desktop/CPPs/cpps_natrual/Biotin(O)-GGGG-RRFWRRWRR.pdb\n"
     ]
    },
    {
     "name": "stderr",
     "output_type": "stream",
     "text": [
      "  % Total    % Received % Xferd  Average Speed   Time    Time     Time  Current\n",
      "                                 Dload  Upload   Total   Spent    Left  Speed\n",
      "100   185  100   161  100    24    142     21  0:00:01  0:00:01 --:--:--   164\n"
     ]
    },
    {
     "name": "stdout",
     "output_type": "stream",
     "text": [
      "PDB file generated successfully: /Users/jianchengluo/Desktop/CPPs/cpps_natrual/Biotin(O)-GGGG-RRWWRRFRR.pdb\n"
     ]
    },
    {
     "name": "stderr",
     "output_type": "stream",
     "text": [
      "  % Total    % Received % Xferd  Average Speed   Time    Time     Time  Current\n",
      "                                 Dload  Upload   Total   Spent    Left  Speed\n",
      "100   185  100   161  100    24    128     19  0:00:01  0:00:01 --:--:--   148\n"
     ]
    },
    {
     "name": "stdout",
     "output_type": "stream",
     "text": [
      "PDB file generated successfully: /Users/jianchengluo/Desktop/CPPs/cpps_natrual/Biotin(O)-GGGG-RRWFRRWRR.pdb\n"
     ]
    },
    {
     "name": "stderr",
     "output_type": "stream",
     "text": [
      "  % Total    % Received % Xferd  Average Speed   Time    Time     Time  Current\n",
      "                                 Dload  Upload   Total   Spent    Left  Speed\n",
      "100 11233  100 11220  100    13   2872      3  0:00:04  0:00:03  0:00:01  2875\n"
     ]
    },
    {
     "name": "stdout",
     "output_type": "stream",
     "text": [
      "PDB file generated successfully: /Users/jianchengluo/Desktop/CPPs/cpps_natrual/GRKKRRQRRRPPQ.pdb\n"
     ]
    },
    {
     "name": "stderr",
     "output_type": "stream",
     "text": [
      "  % Total    % Received % Xferd  Average Speed   Time    Time     Time  Current\n",
      "                                 Dload  Upload   Total   Spent    Left  Speed\n",
      "100 14316  100 14298  100    18   3563      4  0:00:04  0:00:04 --:--:--  3568\n"
     ]
    },
    {
     "name": "stdout",
     "output_type": "stream",
     "text": [
      "PDB file generated successfully: /Users/jianchengluo/Desktop/CPPs/cpps_natrual/LGISYGRKKRRQRRRPPQ.pdb\n"
     ]
    },
    {
     "name": "stderr",
     "output_type": "stream",
     "text": [
      "  % Total    % Received % Xferd  Average Speed   Time    Time     Time  Current\n",
      "                                 Dload  Upload   Total   Spent    Left  Speed\n",
      "100 17561  100 17538  100    23   6232      8  0:00:02  0:00:02 --:--:--  6240\n"
     ]
    },
    {
     "name": "stdout",
     "output_type": "stream",
     "text": [
      "PDB file generated successfully: /Users/jianchengluo/Desktop/CPPs/cpps_natrual/FITKALGISYGRKKRRQRRRPPQ.pdb\n"
     ]
    },
    {
     "name": "stderr",
     "output_type": "stream",
     "text": [
      "  % Total    % Received % Xferd  Average Speed   Time    Time     Time  Current\n",
      "                                 Dload  Upload   Total   Spent    Left  Speed\n",
      "100 12289  100 12273  100    16   3653      4  0:00:04  0:00:03  0:00:01  3659\n"
     ]
    },
    {
     "name": "stdout",
     "output_type": "stream",
     "text": [
      "PDB file generated successfully: /Users/jianchengluo/Desktop/CPPs/cpps_natrual/FITKALGISYGRKKRR.pdb\n"
     ]
    },
    {
     "name": "stderr",
     "output_type": "stream",
     "text": [
      "  % Total    % Received % Xferd  Average Speed   Time    Time     Time  Current\n",
      "                                 Dload  Upload   Total   Spent    Left  Speed\n",
      "100  9367  100  9357  100    10   4851      5  0:00:02  0:00:01  0:00:01  4855\n"
     ]
    },
    {
     "name": "stdout",
     "output_type": "stream",
     "text": [
      "PDB file generated successfully: /Users/jianchengluo/Desktop/CPPs/cpps_natrual/GRKKRRQRRR.pdb\n"
     ]
    },
    {
     "name": "stderr",
     "output_type": "stream",
     "text": [
      "  % Total    % Received % Xferd  Average Speed   Time    Time     Time  Current\n",
      "                                 Dload  Upload   Total   Spent    Left  Speed\n",
      "100  9042  100  9033  100     9   5238      5  0:00:01  0:00:01 --:--:--  5241\n"
     ]
    },
    {
     "name": "stdout",
     "output_type": "stream",
     "text": [
      "PDB file generated successfully: /Users/jianchengluo/Desktop/CPPs/cpps_natrual/RKKRRQRRR.pdb\n"
     ]
    },
    {
     "name": "stderr",
     "output_type": "stream",
     "text": [
      "  % Total    % Received % Xferd  Average Speed   Time    Time     Time  Current\n",
      "                                 Dload  Upload   Total   Spent    Left  Speed\n",
      "100  8150  100  8142  100     8   3499      3  0:00:02  0:00:02 --:--:--  3503\n"
     ]
    },
    {
     "name": "stdout",
     "output_type": "stream",
     "text": [
      "PDB file generated successfully: /Users/jianchengluo/Desktop/CPPs/cpps_natrual/RKKRRQRR.pdb\n"
     ]
    },
    {
     "name": "stderr",
     "output_type": "stream",
     "text": [
      "  % Total    % Received % Xferd  Average Speed   Time    Time     Time  Current\n",
      "                                 Dload  Upload   Total   Spent    Left  Speed\n",
      "100  7258  100  7251  100     7   3107      3  0:00:02  0:00:02 --:--:--  3109\n"
     ]
    },
    {
     "name": "stdout",
     "output_type": "stream",
     "text": [
      "PDB file generated successfully: /Users/jianchengluo/Desktop/CPPs/cpps_natrual/RKKRRQR.pdb\n"
     ]
    },
    {
     "name": "stderr",
     "output_type": "stream",
     "text": [
      "  % Total    % Received % Xferd  Average Speed   Time    Time     Time  Current\n",
      "                                 Dload  Upload   Total   Spent    Left  Speed\n",
      "100  8150  100  8142  100     8   3488      3  0:00:02  0:00:02 --:--:--  3493\n"
     ]
    },
    {
     "name": "stdout",
     "output_type": "stream",
     "text": [
      "PDB file generated successfully: /Users/jianchengluo/Desktop/CPPs/cpps_natrual/KKRRQRRR.pdb\n"
     ]
    },
    {
     "name": "stderr",
     "output_type": "stream",
     "text": [
      "  % Total    % Received % Xferd  Average Speed   Time    Time     Time  Current\n",
      "                                 Dload  Upload   Total   Spent    Left  Speed\n",
      "100  7420  100  7413  100     7   2757      2  0:00:03  0:00:02  0:00:01  2759\n"
     ]
    },
    {
     "name": "stdout",
     "output_type": "stream",
     "text": [
      "PDB file generated successfully: /Users/jianchengluo/Desktop/CPPs/cpps_natrual/KRRQRRR.pdb\n"
     ]
    },
    {
     "name": "stderr",
     "output_type": "stream",
     "text": [
      "  % Total    % Received % Xferd  Average Speed   Time    Time     Time  Current\n",
      "                                 Dload  Upload   Total   Spent    Left  Speed\n",
      "100  9042  100  9033  100     9   3896      3  0:00:03  0:00:02  0:00:01  3900\n"
     ]
    },
    {
     "name": "stdout",
     "output_type": "stream",
     "text": [
      "PDB file generated successfully: /Users/jianchengluo/Desktop/CPPs/cpps_natrual/RRRQRRKKR.pdb\n"
     ]
    },
    {
     "name": "stderr",
     "output_type": "stream",
     "text": [
      "  % Total    % Received % Xferd  Average Speed   Time    Time     Time  Current\n",
      "                                 Dload  Upload   Total   Spent    Left  Speed\n",
      "100  8556  100  8547  100     9   3601      3  0:00:03  0:00:02  0:00:01  3605\n"
     ]
    },
    {
     "name": "stdout",
     "output_type": "stream",
     "text": [
      "PDB file generated successfully: /Users/jianchengluo/Desktop/CPPs/cpps_natrual/AKKRRQRRR.pdb\n"
     ]
    },
    {
     "name": "stderr",
     "output_type": "stream",
     "text": [
      "  % Total    % Received % Xferd  Average Speed   Time    Time     Time  Current\n",
      "                                 Dload  Upload   Total   Spent    Left  Speed\n",
      "100  8718  100  8709  100     9   3709      3  0:00:03  0:00:02  0:00:01  3714\n"
     ]
    },
    {
     "name": "stdout",
     "output_type": "stream",
     "text": [
      "PDB file generated successfully: /Users/jianchengluo/Desktop/CPPs/cpps_natrual/RAKRRQRRR.pdb\n"
     ]
    },
    {
     "name": "stderr",
     "output_type": "stream",
     "text": [
      "  % Total    % Received % Xferd  Average Speed   Time    Time     Time  Current\n",
      "                                 Dload  Upload   Total   Spent    Left  Speed\n",
      "100  8718  100  8709  100     9   3588      3  0:00:03  0:00:02  0:00:01  3592\n"
     ]
    },
    {
     "name": "stdout",
     "output_type": "stream",
     "text": [
      "PDB file generated successfully: /Users/jianchengluo/Desktop/CPPs/cpps_natrual/RKARRQRRR.pdb\n"
     ]
    },
    {
     "name": "stderr",
     "output_type": "stream",
     "text": [
      "  % Total    % Received % Xferd  Average Speed   Time    Time     Time  Current\n",
      "                                 Dload  Upload   Total   Spent    Left  Speed\n",
      "100  8556  100  8547  100     9   3494      3  0:00:03  0:00:02  0:00:01  3497\n"
     ]
    },
    {
     "name": "stdout",
     "output_type": "stream",
     "text": [
      "PDB file generated successfully: /Users/jianchengluo/Desktop/CPPs/cpps_natrual/RKKARQRRR.pdb\n"
     ]
    },
    {
     "name": "stderr",
     "output_type": "stream",
     "text": [
      "  % Total    % Received % Xferd  Average Speed   Time    Time     Time  Current\n",
      "                                 Dload  Upload   Total   Spent    Left  Speed\n",
      "100  8556  100  8547  100     9   3629      3  0:00:03  0:00:02  0:00:01  3633\n"
     ]
    },
    {
     "name": "stdout",
     "output_type": "stream",
     "text": [
      "PDB file generated successfully: /Users/jianchengluo/Desktop/CPPs/cpps_natrual/RKKRAQRRR.pdb\n"
     ]
    },
    {
     "name": "stderr",
     "output_type": "stream",
     "text": [
      "  % Total    % Received % Xferd  Average Speed   Time    Time     Time  Current\n",
      "                                 Dload  Upload   Total   Spent    Left  Speed\n",
      "100  8718  100  8709  100     9   3205      3  0:00:03  0:00:02  0:00:01  3208\n"
     ]
    },
    {
     "name": "stdout",
     "output_type": "stream",
     "text": [
      "PDB file generated successfully: /Users/jianchengluo/Desktop/CPPs/cpps_natrual/RKKRRARRR.pdb\n"
     ]
    },
    {
     "name": "stderr",
     "output_type": "stream",
     "text": [
      "  % Total    % Received % Xferd  Average Speed   Time    Time     Time  Current\n",
      "                                 Dload  Upload   Total   Spent    Left  Speed\n",
      "100  8556  100  8547  100     9   2657      2  0:00:04  0:00:03  0:00:01  2660\n"
     ]
    },
    {
     "name": "stdout",
     "output_type": "stream",
     "text": [
      "PDB file generated successfully: /Users/jianchengluo/Desktop/CPPs/cpps_natrual/RKKRRQARR.pdb\n"
     ]
    },
    {
     "name": "stderr",
     "output_type": "stream",
     "text": [
      "  % Total    % Received % Xferd  Average Speed   Time    Time     Time  Current\n",
      "                                 Dload  Upload   Total   Spent    Left  Speed\n",
      "100  8556  100  8547  100     9   3503      3  0:00:03  0:00:02  0:00:01  3506\n"
     ]
    },
    {
     "name": "stdout",
     "output_type": "stream",
     "text": [
      "PDB file generated successfully: /Users/jianchengluo/Desktop/CPPs/cpps_natrual/RKKRRQRAR.pdb\n"
     ]
    },
    {
     "name": "stderr",
     "output_type": "stream",
     "text": [
      "  % Total    % Received % Xferd  Average Speed   Time    Time     Time  Current\n",
      "                                 Dload  Upload   Total   Spent    Left  Speed\n",
      "100  8556  100  8547  100     9   3696      3  0:00:03  0:00:02  0:00:01  3702\n"
     ]
    },
    {
     "name": "stdout",
     "output_type": "stream",
     "text": [
      "PDB file generated successfully: /Users/jianchengluo/Desktop/CPPs/cpps_natrual/RKKRRQRRA.pdb\n"
     ]
    },
    {
     "name": "stderr",
     "output_type": "stream",
     "text": [
      "  % Total    % Received % Xferd  Average Speed   Time    Time     Time  Current\n",
      "                                 Dload  Upload   Total   Spent    Left  Speed\n",
      "100 10828  100 10815  100    13   2104      2  0:00:06  0:00:05  0:00:01  2795\n"
     ]
    },
    {
     "name": "stdout",
     "output_type": "stream",
     "text": [
      "PDB file generated successfully: /Users/jianchengluo/Desktop/CPPs/cpps_natrual/GRKKRRQRRPPQC.pdb\n"
     ]
    },
    {
     "name": "stderr",
     "output_type": "stream",
     "text": [
      "  % Total    % Received % Xferd  Average Speed   Time    Time     Time  Current\n",
      "                                 Dload  Upload   Total   Spent    Left  Speed\n",
      "100  9936  100  9924  100    12   4179      5  0:00:02  0:00:02 --:--:--  4183\n"
     ]
    },
    {
     "name": "stdout",
     "output_type": "stream",
     "text": [
      "PDB file generated successfully: /Users/jianchengluo/Desktop/CPPs/cpps_natrual/GRKKRRQRPPQC.pdb\n"
     ]
    },
    {
     "name": "stderr",
     "output_type": "stream",
     "text": [
      "  % Total    % Received % Xferd  Average Speed   Time    Time     Time  Current\n",
      "                                 Dload  Upload   Total   Spent    Left  Speed\n",
      "100  9044  100  9033  100    11   2113      2  0:00:05  0:00:04  0:00:01  2117\n"
     ]
    },
    {
     "name": "stdout",
     "output_type": "stream",
     "text": [
      "PDB file generated successfully: /Users/jianchengluo/Desktop/CPPs/cpps_natrual/GRKKRRQPPQC.pdb\n"
     ]
    },
    {
     "name": "stderr",
     "output_type": "stream",
     "text": [
      "  % Total    % Received % Xferd  Average Speed   Time    Time     Time  Current\n",
      "                                 Dload  Upload   Total   Spent    Left  Speed\n",
      "100  9854  100  9843  100    11   3762      4  0:00:02  0:00:02 --:--:--  3766\n"
     ]
    },
    {
     "name": "stdout",
     "output_type": "stream",
     "text": [
      "PDB file generated successfully: /Users/jianchengluo/Desktop/CPPs/cpps_natrual/GRKKRRQRRRC.pdb\n"
     ]
    },
    {
     "name": "stderr",
     "output_type": "stream",
     "text": [
      "  % Total    % Received % Xferd  Average Speed   Time    Time     Time  Current\n",
      "                                 Dload  Upload   Total   Spent    Left  Speed\n",
      "100 11234  100 11220  100    14   4806      5  0:00:02  0:00:02 --:--:--  4813\n"
     ]
    },
    {
     "name": "stdout",
     "output_type": "stream",
     "text": [
      "PDB file generated successfully: /Users/jianchengluo/Desktop/CPPs/cpps_natrual/GRKKRRQRARPPQC.pdb\n"
     ]
    },
    {
     "name": "stderr",
     "output_type": "stream",
     "text": [
      "  % Total    % Received % Xferd  Average Speed   Time    Time     Time  Current\n",
      "                                 Dload  Upload   Total   Spent    Left  Speed\n",
      "100 10748  100 10734  100    14   4431      5  0:00:02  0:00:02 --:--:--  4439\n"
     ]
    },
    {
     "name": "stdout",
     "output_type": "stream",
     "text": [
      "PDB file generated successfully: /Users/jianchengluo/Desktop/CPPs/cpps_natrual/GRKKRRQARAPPQC.pdb\n"
     ]
    },
    {
     "name": "stderr",
     "output_type": "stream",
     "text": [
      "  % Total    % Received % Xferd  Average Speed   Time    Time     Time  Current\n",
      "                                 Dload  Upload   Total   Spent    Left  Speed\n",
      "100 15368  100 15351  100    17   5848      6  0:00:02  0:00:02 --:--:--  5854\n"
     ]
    },
    {
     "name": "stdout",
     "output_type": "stream",
     "text": [
      "PDB file generated successfully: /Users/jianchengluo/Desktop/CPPs/cpps_natrual/TRQARRNRRRRWRERQR.pdb\n"
     ]
    },
    {
     "name": "stderr",
     "output_type": "stream",
     "text": [
      "  % Total    % Received % Xferd  Average Speed   Time    Time     Time  Current\n",
      "                                 Dload  Upload   Total   Spent    Left  Speed\n",
      "100  5068  100  5064  100     4   2161      1  0:00:04  0:00:02  0:00:02  2163\n"
     ]
    },
    {
     "name": "stdout",
     "output_type": "stream",
     "text": [
      "PDB file generated successfully: /Users/jianchengluo/Desktop/CPPs/cpps_natrual/RRRR.pdb\n"
     ]
    },
    {
     "name": "stderr",
     "output_type": "stream",
     "text": [
      "  % Total    % Received % Xferd  Average Speed   Time    Time     Time  Current\n",
      "                                 Dload  Upload   Total   Spent    Left  Speed\n",
      "100  5960  100  5955  100     5   5604      4  0:00:01  0:00:01 --:--:--  5606\n"
     ]
    },
    {
     "name": "stdout",
     "output_type": "stream",
     "text": [
      "PDB file generated successfully: /Users/jianchengluo/Desktop/CPPs/cpps_natrual/RRRRR.pdb\n"
     ]
    },
    {
     "name": "stderr",
     "output_type": "stream",
     "text": [
      "  % Total    % Received % Xferd  Average Speed   Time    Time     Time  Current\n",
      "                                 Dload  Upload   Total   Spent    Left  Speed\n",
      "100  6852  100  6846  100     6   6497      5  0:00:01  0:00:01 --:--:--  6507\n"
     ]
    },
    {
     "name": "stdout",
     "output_type": "stream",
     "text": [
      "PDB file generated successfully: /Users/jianchengluo/Desktop/CPPs/cpps_natrual/RRRRRR.pdb\n"
     ]
    },
    {
     "name": "stderr",
     "output_type": "stream",
     "text": [
      "  % Total    % Received % Xferd  Average Speed   Time    Time     Time  Current\n",
      "                                 Dload  Upload   Total   Spent    Left  Speed\n",
      "100  7744  100  7737  100     7   7454      6  0:00:01  0:00:01 --:--:--  7467\n"
     ]
    },
    {
     "name": "stdout",
     "output_type": "stream",
     "text": [
      "PDB file generated successfully: /Users/jianchengluo/Desktop/CPPs/cpps_natrual/RRRRRRR.pdb\n"
     ]
    },
    {
     "name": "stderr",
     "output_type": "stream",
     "text": [
      "  % Total    % Received % Xferd  Average Speed   Time    Time     Time  Current\n",
      "                                 Dload  Upload   Total   Spent    Left  Speed\n",
      "100  8636  100  8628  100     8   4200      3  0:00:02  0:00:02 --:--:--  4206\n"
     ]
    },
    {
     "name": "stdout",
     "output_type": "stream",
     "text": [
      "PDB file generated successfully: /Users/jianchengluo/Desktop/CPPs/cpps_natrual/RRRRRRRR.pdb\n"
     ]
    },
    {
     "name": "stderr",
     "output_type": "stream",
     "text": [
      "  % Total    % Received % Xferd  Average Speed   Time    Time     Time  Current\n",
      "                                 Dload  Upload   Total   Spent    Left  Speed\n",
      "100  9528  100  9519  100     9   8956      8  0:00:01  0:00:01 --:--:--  8971\n"
     ]
    },
    {
     "name": "stdout",
     "output_type": "stream",
     "text": [
      "PDB file generated successfully: /Users/jianchengluo/Desktop/CPPs/cpps_natrual/RRRRRRRRR.pdb\n"
     ]
    },
    {
     "name": "stderr",
     "output_type": "stream",
     "text": [
      "  % Total    % Received % Xferd  Average Speed   Time    Time     Time  Current\n",
      "                                 Dload  Upload   Total   Spent    Left  Speed\n",
      "100 11312  100 11301  100    11   7236      7  0:00:01  0:00:01 --:--:--  7246\n"
     ]
    },
    {
     "name": "stdout",
     "output_type": "stream",
     "text": [
      "PDB file generated successfully: /Users/jianchengluo/Desktop/CPPs/cpps_natrual/RRRRRRRRRRR.pdb\n"
     ]
    },
    {
     "name": "stderr",
     "output_type": "stream",
     "text": [
      "  % Total    % Received % Xferd  Average Speed   Time    Time     Time  Current\n",
      "                                 Dload  Upload   Total   Spent    Left  Speed\n",
      "100 12204  100 12192  100    12  11691     11  0:00:01  0:00:01 --:--:-- 11712\n"
     ]
    },
    {
     "name": "stdout",
     "output_type": "stream",
     "text": [
      "PDB file generated successfully: /Users/jianchengluo/Desktop/CPPs/cpps_natrual/RRRRRRRRRRRR.pdb\n"
     ]
    },
    {
     "name": "stderr",
     "output_type": "stream",
     "text": [
      "  % Total    % Received % Xferd  Average Speed   Time    Time     Time  Current\n",
      "                                 Dload  Upload   Total   Spent    Left  Speed\n",
      "100 15772  100 15756  100    16   5810      5  0:00:03  0:00:02  0:00:01  5815\n"
     ]
    },
    {
     "name": "stdout",
     "output_type": "stream",
     "text": [
      "PDB file generated successfully: /Users/jianchengluo/Desktop/CPPs/cpps_natrual/RRRRRRRRRRRRRRRR.pdb\n"
     ]
    },
    {
     "name": "stderr",
     "output_type": "stream",
     "text": [
      "  % Total    % Received % Xferd  Average Speed   Time    Time     Time  Current\n",
      "                                 Dload  Upload   Total   Spent    Left  Speed\n",
      "100 17727  100 17700  100    27  13676     20  0:00:01  0:00:01 --:--:-- 13688\n"
     ]
    },
    {
     "name": "stdout",
     "output_type": "stream",
     "text": [
      "PDB file generated successfully: /Users/jianchengluo/Desktop/CPPs/cpps_natrual/GWTLNSAGYLLGKINLKALAALAKKIL.pdb\n"
     ]
    },
    {
     "name": "stderr",
     "output_type": "stream",
     "text": [
      "  % Total    % Received % Xferd  Average Speed   Time    Time     Time  Current\n",
      "                                 Dload  Upload   Total   Spent    Left  Speed\n",
      "100 17727  100 17700  100    27   6752     10  0:00:02  0:00:02 --:--:--  6763\n"
     ]
    },
    {
     "name": "stdout",
     "output_type": "stream",
     "text": [
      "PDB file generated successfully: /Users/jianchengluo/Desktop/CPPs/cpps_natrual/GWTLNSAGYLLGKINLKALAALAKKLL.pdb\n"
     ]
    },
    {
     "name": "stderr",
     "output_type": "stream",
     "text": [
      "  % Total    % Received % Xferd  Average Speed   Time    Time     Time  Current\n",
      "                                 Dload  Upload   Total   Spent    Left  Speed\n",
      "100 17888  100 17862  100    26   6795      9  0:00:02  0:00:02 --:--:--  6804\n"
     ]
    },
    {
     "name": "stdout",
     "output_type": "stream",
     "text": [
      "PDB file generated successfully: /Users/jianchengluo/Desktop/CPPs/cpps_natrual/GWTLNSAGYLLGKFLPLILRKIVTAL.pdb\n"
     ]
    },
    {
     "name": "stderr",
     "output_type": "stream",
     "text": [
      "  % Total    % Received % Xferd  Average Speed   Time    Time     Time  Current\n",
      "                                 Dload  Upload   Total   Spent    Left  Speed\n",
      "100 17808  100 17781  100    27   6328      9  0:00:03  0:00:02  0:00:01  6337\n"
     ]
    },
    {
     "name": "stdout",
     "output_type": "stream",
     "text": [
      "PDB file generated successfully: /Users/jianchengluo/Desktop/CPPs/cpps_natrual/GWTLNPAGYLLGKINLKALAALAKKIL.pdb\n"
     ]
    },
    {
     "name": "stderr",
     "output_type": "stream",
     "text": [
      "  % Total    % Received % Xferd  Average Speed   Time    Time     Time  Current\n",
      "                                 Dload  Upload   Total   Spent    Left  Speed\n",
      "100 17970  100 17943  100    27   6648     10  0:00:02  0:00:02 --:--:--  6660\n"
     ]
    },
    {
     "name": "stdout",
     "output_type": "stream",
     "text": [
      "PDB file generated successfully: /Users/jianchengluo/Desktop/CPPs/cpps_natrual/GWTLNPPGYLLGKINLKALAALAKKIL.pdb\n"
     ]
    },
    {
     "name": "stderr",
     "output_type": "stream",
     "text": [
      "  % Total    % Received % Xferd  Average Speed   Time    Time     Time  Current\n",
      "                                 Dload  Upload   Total   Spent    Left  Speed\n",
      "100 15699  100 15675  100    24   3868      5  0:00:04  0:00:04 --:--:--  3875\n"
     ]
    },
    {
     "name": "stdout",
     "output_type": "stream",
     "text": [
      "PDB file generated successfully: /Users/jianchengluo/Desktop/CPPs/cpps_natrual/LNSAGYLLGKINLKALAALAKKIL.pdb\n"
     ]
    },
    {
     "name": "stderr",
     "output_type": "stream",
     "text": [
      "  % Total    % Received % Xferd  Average Speed   Time    Time     Time  Current\n",
      "                                 Dload  Upload   Total   Spent    Left  Speed\n",
      "100 12210  100 12192  100    18   4586      6  0:00:03  0:00:02  0:00:01  4595\n"
     ]
    },
    {
     "name": "stdout",
     "output_type": "stream",
     "text": [
      "PDB file generated successfully: /Users/jianchengluo/Desktop/CPPs/cpps_natrual/LLGKINLKALAALAKKIL.pdb\n"
     ]
    },
    {
     "name": "stderr",
     "output_type": "stream",
     "text": [
      "  % Total    % Received % Xferd  Average Speed   Time    Time     Time  Current\n",
      "                                 Dload  Upload   Total   Spent    Left  Speed\n",
      "100 16429  100 16404  100    25   6089      9  0:00:02  0:00:02 --:--:--  6098\n"
     ]
    },
    {
     "name": "stdout",
     "output_type": "stream",
     "text": [
      "PDB file generated successfully: /Users/jianchengluo/Desktop/CPPs/cpps_natrual/GWTLNSAGYLLGKLKALAALAKKIL.pdb\n"
     ]
    },
    {
     "name": "stderr",
     "output_type": "stream",
     "text": [
      "  % Total    % Received % Xferd  Average Speed   Time    Time     Time  Current\n",
      "                                 Dload  Upload   Total   Spent    Left  Speed\n",
      "100 13914  100 13893  100    21  10873     16  0:00:01  0:00:01 --:--:-- 10895\n"
     ]
    },
    {
     "name": "stdout",
     "output_type": "stream",
     "text": [
      "PDB file generated successfully: /Users/jianchengluo/Desktop/CPPs/cpps_natrual/AGYLLGKINLKALAALAKKIL.pdb\n"
     ]
    },
    {
     "name": "stderr",
     "output_type": "stream",
     "text": [
      "  % Total    % Received % Xferd  Average Speed   Time    Time     Time  Current\n",
      "                                 Dload  Upload   Total   Spent    Left  Speed\n",
      "100 14400  100 14379  100    21   4600      6  0:00:03  0:00:03 --:--:--  4608\n"
     ]
    },
    {
     "name": "stdout",
     "output_type": "stream",
     "text": [
      "PDB file generated successfully: /Users/jianchengluo/Desktop/CPPs/cpps_natrual/GWTLNSKINLKALAALAKKIL.pdb\n"
     ]
    },
    {
     "name": "stderr",
     "output_type": "stream",
     "text": [
      "  % Total    % Received % Xferd  Average Speed   Time    Time     Time  Current\n",
      "                                 Dload  Upload   Total   Spent    Left  Speed\n",
      "100 13671  100 13650  100    21   4650      7  0:00:03  0:00:02  0:00:01  4656\n"
     ]
    },
    {
     "name": "stdout",
     "output_type": "stream",
     "text": [
      "PDB file generated successfully: /Users/jianchengluo/Desktop/CPPs/cpps_natrual/LNSAGYLLGKLKALAALAKIL.pdb\n"
     ]
    },
    {
     "name": "stderr",
     "output_type": "stream",
     "text": [
      "  % Total    % Received % Xferd  Average Speed   Time    Time     Time  Current\n",
      "                                 Dload  Upload   Total   Spent    Left  Speed\n",
      "100 13022  100 13002  100    20   5061      7  0:00:02  0:00:02 --:--:--  5068\n"
     ]
    },
    {
     "name": "stdout",
     "output_type": "stream",
     "text": [
      "PDB file generated successfully: /Users/jianchengluo/Desktop/CPPs/cpps_natrual/LNSAGYLLGKALAALAKKIL.pdb\n"
     ]
    },
    {
     "name": "stderr",
     "output_type": "stream",
     "text": [
      "  % Total    % Received % Xferd  Average Speed   Time    Time     Time  Current\n",
      "                                 Dload  Upload   Total   Spent    Left  Speed\n",
      "100 12616  100 12597  100    19   5242      7  0:00:02  0:00:02 --:--:--  5252\n"
     ]
    },
    {
     "name": "stdout",
     "output_type": "stream",
     "text": [
      "PDB file generated successfully: /Users/jianchengluo/Desktop/CPPs/cpps_natrual/AGYLLGKLKALAALAKKIL.pdb\n"
     ]
    },
    {
     "name": "stderr",
     "output_type": "stream",
     "text": [
      "  % Total    % Received % Xferd  Average Speed   Time    Time     Time  Current\n",
      "                                 Dload  Upload   Total   Spent    Left  Speed\n",
      "100 12373  100 12354  100    19   5044      7  0:00:02  0:00:02 --:--:--  5052\n"
     ]
    },
    {
     "name": "stdout",
     "output_type": "stream",
     "text": [
      "PDB file generated successfully: /Users/jianchengluo/Desktop/CPPs/cpps_natrual/LNSAGYLLGKLKALAALAK.pdb\n"
     ]
    },
    {
     "name": "stderr",
     "output_type": "stream",
     "text": [
      "  % Total    % Received % Xferd  Average Speed   Time    Time     Time  Current\n",
      "                                 Dload  Upload   Total   Spent    Left  Speed\n",
      "100 17646  100 17619  100    27   5709      8  0:00:03  0:00:03 --:--:--  5718\n"
     ]
    },
    {
     "name": "stdout",
     "output_type": "stream",
     "text": [
      "PDB file generated successfully: /Users/jianchengluo/Desktop/CPPs/cpps_natrual/GWTLNSAGYLLGKINLKAPAALAKKIL.pdb\n"
     ]
    },
    {
     "name": "stderr",
     "output_type": "stream",
     "text": [
      "  % Total    % Received % Xferd  Average Speed   Time    Time     Time  Current\n",
      "                                 Dload  Upload   Total   Spent    Left  Speed\n",
      "100 19593  100 19563  100    30   6399      9  0:00:03  0:00:03 --:--:--  6411\n"
     ]
    },
    {
     "name": "stdout",
     "output_type": "stream",
     "text": [
      "PDB file generated successfully: /Users/jianchengluo/Desktop/CPPs/cpps_natrual/GWTLNSAGYLLGPHAVGNHRSFSDKNGLTS.pdb\n"
     ]
    },
    {
     "name": "stderr",
     "output_type": "stream",
     "text": [
      "  % Total    % Received % Xferd  Average Speed   Time    Time     Time  Current\n",
      "                                 Dload  Upload   Total   Spent    Left  Speed\n",
      "100  9857  100  9843  100    14   8896     12  0:00:01  0:00:01 --:--:--  8912\n"
     ]
    },
    {
     "name": "stdout",
     "output_type": "stream",
     "text": [
      "PDB file generated successfully: /Users/jianchengluo/Desktop/CPPs/cpps_natrual/INLKALAALAKKIL.pdb\n"
     ]
    },
    {
     "name": "stderr",
     "output_type": "stream",
     "text": [
      "  % Total    % Received % Xferd  Average Speed   Time    Time     Time  Current\n",
      "                                 Dload  Upload   Total   Spent    Left  Speed\n",
      "100 12129  100 12111  100    18  11132     16  0:00:01  0:00:01 --:--:-- 11158\n"
     ]
    },
    {
     "name": "stdout",
     "output_type": "stream",
     "text": [
      "PDB file generated successfully: /Users/jianchengluo/Desktop/CPPs/cpps_natrual/KLALKLALKALKAALKLA.pdb\n"
     ]
    },
    {
     "name": "stderr",
     "output_type": "stream",
     "text": [
      "  % Total    % Received % Xferd  Average Speed   Time    Time     Time  Current\n",
      "                                 Dload  Upload   Total   Spent    Left  Speed\n",
      "100 12615  100 12597  100    18   4138      5  0:00:03  0:00:03 --:--:--  4145\n"
     ]
    },
    {
     "name": "stdout",
     "output_type": "stream",
     "text": [
      "PDB file generated successfully: /Users/jianchengluo/Desktop/CPPs/cpps_natrual/KLALKLALKAWKAALKLA.pdb\n"
     ]
    },
    {
     "name": "stderr",
     "output_type": "stream",
     "text": [
      "  % Total    % Received % Xferd  Average Speed   Time    Time     Time  Current\n",
      "                                 Dload  Upload   Total   Spent    Left  Speed\n",
      "100 12129  100 12111  100    18   4941      7  0:00:02  0:00:02 --:--:--  4948\n"
     ]
    },
    {
     "name": "stdout",
     "output_type": "stream",
     "text": [
      "PDB file generated successfully: /Users/jianchengluo/Desktop/CPPs/cpps_natrual/KLALKAALKAWKAAAKLA.pdb\n"
     ]
    },
    {
     "name": "stderr",
     "output_type": "stream",
     "text": [
      "  % Total    % Received % Xferd  Average Speed   Time    Time     Time  Current\n",
      "                                 Dload  Upload   Total   Spent    Left  Speed\n",
      "100 11643  100 11625  100    18   3973      6  0:00:03  0:00:02  0:00:01  3979\n"
     ]
    },
    {
     "name": "stdout",
     "output_type": "stream",
     "text": [
      "PDB file generated successfully: /Users/jianchengluo/Desktop/CPPs/cpps_natrual/KLALKAAAKAWKAAAKAA.pdb\n"
     ]
    },
    {
     "name": "stderr",
     "output_type": "stream",
     "text": [
      "  % Total    % Received % Xferd  Average Speed   Time    Time     Time  Current\n",
      "                                 Dload  Upload   Total   Spent    Left  Speed\n",
      "100 12777  100 12759  100    18   4948      6  0:00:03  0:00:02  0:00:01  4956\n"
     ]
    },
    {
     "name": "stdout",
     "output_type": "stream",
     "text": [
      "PDB file generated successfully: /Users/jianchengluo/Desktop/CPPs/cpps_natrual/KITLKLAIKAWKLALKAA.pdb\n"
     ]
    },
    {
     "name": "stderr",
     "output_type": "stream",
     "text": [
      "  % Total    % Received % Xferd  Average Speed   Time    Time     Time  Current\n",
      "                                 Dload  Upload   Total   Spent    Left  Speed\n",
      "100 12777  100 12759  100    18   2484      3  0:00:06  0:00:05  0:00:01  4085\n"
     ]
    },
    {
     "name": "stdout",
     "output_type": "stream",
     "text": [
      "PDB file generated successfully: /Users/jianchengluo/Desktop/CPPs/cpps_natrual/KIAAKSIAKIWKSILKIA.pdb\n"
     ]
    },
    {
     "name": "stderr",
     "output_type": "stream",
     "text": [
      "  % Total    % Received % Xferd  Average Speed   Time    Time     Time  Current\n",
      "                                 Dload  Upload   Total   Spent    Left  Speed\n",
      "100 12129  100 12111  100    18   5158      7  0:00:02  0:00:02 --:--:--  5167\n"
     ]
    },
    {
     "name": "stdout",
     "output_type": "stream",
     "text": [
      "PDB file generated successfully: /Users/jianchengluo/Desktop/CPPs/cpps_natrual/KALAKALAKLWKALAKAA.pdb\n"
     ]
    },
    {
     "name": "stderr",
     "output_type": "stream",
     "text": [
      "  % Total    % Received % Xferd  Average Speed   Time    Time     Time  Current\n",
      "                                 Dload  Upload   Total   Spent    Left  Speed\n",
      "100 12615  100 12597  100    18   5300      7  0:00:02  0:00:02 --:--:--  5309\n"
     ]
    },
    {
     "name": "stdout",
     "output_type": "stream",
     "text": [
      "PDB file generated successfully: /Users/jianchengluo/Desktop/CPPs/cpps_natrual/KLALKLALKWAKLALKAA.pdb\n"
     ]
    },
    {
     "name": "stderr",
     "output_type": "stream",
     "text": [
      "  % Total    % Received % Xferd  Average Speed   Time    Time     Time  Current\n",
      "                                 Dload  Upload   Total   Spent    Left  Speed\n",
      "100 12615  100 12597  100    18   5165      7  0:00:02  0:00:02 --:--:--  5172\n"
     ]
    },
    {
     "name": "stdout",
     "output_type": "stream",
     "text": [
      "PDB file generated successfully: /Users/jianchengluo/Desktop/CPPs/cpps_natrual/KLLAKAAKKWLLLALKAA.pdb\n"
     ]
    },
    {
     "name": "stderr",
     "output_type": "stream",
     "text": [
      "  % Total    % Received % Xferd  Average Speed   Time    Time     Time  Current\n",
      "                                 Dload  Upload   Total   Spent    Left  Speed\n",
      "100 12615  100 12597  100    18   5301      7  0:00:02  0:00:02 --:--:--  5311\n"
     ]
    },
    {
     "name": "stdout",
     "output_type": "stream",
     "text": [
      "PDB file generated successfully: /Users/jianchengluo/Desktop/CPPs/cpps_natrual/KLLAKAALKWLLKALKAA.pdb\n"
     ]
    },
    {
     "name": "stderr",
     "output_type": "stream",
     "text": [
      "  % Total    % Received % Xferd  Average Speed   Time    Time     Time  Current\n",
      "                                 Dload  Upload   Total   Spent    Left  Speed\n",
      "100 12615  100 12597  100    18   5351      7  0:00:02  0:00:02 --:--:--  5358\n"
     ]
    },
    {
     "name": "stdout",
     "output_type": "stream",
     "text": [
      "PDB file generated successfully: /Users/jianchengluo/Desktop/CPPs/cpps_natrual/KALKKLLAKWLAAAKALL.pdb\n"
     ]
    },
    {
     "name": "stderr",
     "output_type": "stream",
     "text": [
      "  % Total    % Received % Xferd  Average Speed   Time    Time     Time  Current\n",
      "                                 Dload  Upload   Total   Spent    Left  Speed\n",
      "100 12615  100 12597  100    18   5161      7  0:00:02  0:00:02 --:--:--  5170\n"
     ]
    },
    {
     "name": "stdout",
     "output_type": "stream",
     "text": [
      "PDB file generated successfully: /Users/jianchengluo/Desktop/CPPs/cpps_natrual/KLAAALLKKWKKLAAALL.pdb\n"
     ]
    },
    {
     "name": "stderr",
     "output_type": "stream",
     "text": [
      "  % Total    % Received % Xferd  Average Speed   Time    Time     Time  Current\n",
      "                                 Dload  Upload   Total   Spent    Left  Speed\n",
      "100 12615  100 12597  100    18   4707      6  0:00:03  0:00:02  0:00:01  4714\n"
     ]
    },
    {
     "name": "stdout",
     "output_type": "stream",
     "text": [
      "PDB file generated successfully: /Users/jianchengluo/Desktop/CPPs/cpps_natrual/KALAALLKKWAKLLAALK.pdb\n"
     ]
    },
    {
     "name": "stderr",
     "output_type": "stream",
     "text": [
      "  % Total    % Received % Xferd  Average Speed   Time    Time     Time  Current\n",
      "                                 Dload  Upload   Total   Spent    Left  Speed\n",
      "100 12129  100 12111  100    18   3245      4  0:00:04  0:00:03  0:00:01  3250\n"
     ]
    },
    {
     "name": "stdout",
     "output_type": "stream",
     "text": [
      "PDB file generated successfully: /Users/jianchengluo/Desktop/CPPs/cpps_natrual/KALAALLKKLAKLLAALK.pdb\n"
     ]
    },
    {
     "name": "stderr",
     "output_type": "stream",
     "text": [
      "  % Total    % Received % Xferd  Average Speed   Time    Time     Time  Current\n",
      "                                 Dload  Upload   Total   Spent    Left  Speed\n",
      "100 11074  100 11058  100    16   4780      6  0:00:02  0:00:02 --:--:--  4789\n"
     ]
    },
    {
     "name": "stdout",
     "output_type": "stream",
     "text": [
      "PDB file generated successfully: /Users/jianchengluo/Desktop/CPPs/cpps_natrual/KLALKLALKALKAALK.pdb\n"
     ]
    },
    {
     "name": "stderr",
     "output_type": "stream",
     "text": [
      "  % Total    % Received % Xferd  Average Speed   Time    Time     Time  Current\n",
      "                                 Dload  Upload   Total   Spent    Left  Speed\n",
      "100  9695  100  9681  100    14   4134      5  0:00:02  0:00:02 --:--:--  4141\n"
     ]
    },
    {
     "name": "stdout",
     "output_type": "stream",
     "text": [
      "PDB file generated successfully: /Users/jianchengluo/Desktop/CPPs/cpps_natrual/KLALKALKAALKLA.pdb\n"
     ]
    },
    {
     "name": "stderr",
     "output_type": "stream",
     "text": [
      "  % Total    % Received % Xferd  Average Speed   Time    Time     Time  Current\n",
      "                                 Dload  Upload   Total   Spent    Left  Speed\n",
      "100  9695  100  9681  100    14   4092      5  0:00:02  0:00:02 --:--:--  4097\n"
     ]
    },
    {
     "name": "stdout",
     "output_type": "stream",
     "text": [
      "PDB file generated successfully: /Users/jianchengluo/Desktop/CPPs/cpps_natrual/KLALKLALKALKAA.pdb\n"
     ]
    },
    {
     "name": "stderr",
     "output_type": "stream",
     "text": [
      "  % Total    % Received % Xferd  Average Speed   Time    Time     Time  Current\n",
      "                                 Dload  Upload   Total   Spent    Left  Speed\n",
      "100 11643  100 11625  100    18   5031      7  0:00:02  0:00:02 --:--:--  5040\n"
     ]
    },
    {
     "name": "stdout",
     "output_type": "stream",
     "text": [
      "PDB file generated successfully: /Users/jianchengluo/Desktop/CPPs/cpps_natrual/KLGLKLGLKGLKGGLKLG.pdb\n"
     ]
    },
    {
     "name": "stderr",
     "output_type": "stream",
     "text": [
      "  % Total    % Received % Xferd  Average Speed   Time    Time     Time  Current\n",
      "                                 Dload  Upload   Total   Spent    Left  Speed\n",
      "100 12129  100 12111  100    18   5038      7  0:00:02  0:00:02 --:--:--  5047\n"
     ]
    },
    {
     "name": "stdout",
     "output_type": "stream",
     "text": [
      "PDB file generated successfully: /Users/jianchengluo/Desktop/CPPs/cpps_natrual/KLALKLALKALQAALQLA.pdb\n"
     ]
    },
    {
     "name": "stderr",
     "output_type": "stream",
     "text": [
      "  % Total    % Received % Xferd  Average Speed   Time    Time     Time  Current\n",
      "                                 Dload  Upload   Total   Spent    Left  Speed\n",
      "100 12129  100 12111  100    18   5104      7  0:00:02  0:00:02 --:--:--  5111\n"
     ]
    },
    {
     "name": "stdout",
     "output_type": "stream",
     "text": [
      "PDB file generated successfully: /Users/jianchengluo/Desktop/CPPs/cpps_natrual/KLALQLALQALQAALQLA.pdb\n"
     ]
    },
    {
     "name": "stderr",
     "output_type": "stream",
     "text": [
      "  % Total    % Received % Xferd  Average Speed   Time    Time     Time  Current\n",
      "                                 Dload  Upload   Total   Spent    Left  Speed\n",
      "100 12129  100 12111  100    18   5046      7  0:00:02  0:00:02 --:--:--  5055\n"
     ]
    },
    {
     "name": "stdout",
     "output_type": "stream",
     "text": [
      "PDB file generated successfully: /Users/jianchengluo/Desktop/CPPs/cpps_natrual/QLALQLALQALQAALQLA.pdb\n"
     ]
    },
    {
     "name": "stderr",
     "output_type": "stream",
     "text": [
      "  % Total    % Received % Xferd  Average Speed   Time    Time     Time  Current\n",
      "                                 Dload  Upload   Total   Spent    Left  Speed\n",
      "100 12129  100 12111  100    18   2939      4  0:00:04  0:00:04 --:--:--  2943\n"
     ]
    },
    {
     "name": "stdout",
     "output_type": "stream",
     "text": [
      "PDB file generated successfully: /Users/jianchengluo/Desktop/CPPs/cpps_natrual/ELALELALEALEAALELA.pdb\n"
     ]
    },
    {
     "name": "stderr",
     "output_type": "stream",
     "text": [
      "  % Total    % Received % Xferd  Average Speed   Time    Time     Time  Current\n",
      "                                 Dload  Upload   Total   Spent    Left  Speed\n",
      "100 12210  100 12192  100    18   2252      3  0:00:06  0:00:05  0:00:01  2943\n"
     ]
    },
    {
     "name": "stdout",
     "output_type": "stream",
     "text": [
      "PDB file generated successfully: /Users/jianchengluo/Desktop/CPPs/cpps_natrual/LKTLATALTKLAKTLTTL.pdb\n"
     ]
    },
    {
     "name": "stderr",
     "output_type": "stream",
     "text": [
      "  % Total    % Received % Xferd  Average Speed   Time    Time     Time  Current\n",
      "                                 Dload  Upload   Total   Spent    Left  Speed\n",
      "100 12210  100 12192  100    18   5153      7  0:00:02  0:00:02 --:--:--  5162\n"
     ]
    },
    {
     "name": "stdout",
     "output_type": "stream",
     "text": [
      "PDB file generated successfully: /Users/jianchengluo/Desktop/CPPs/cpps_natrual/LLKTTALLKTTALLKTTA.pdb\n"
     ]
    },
    {
     "name": "stderr",
     "output_type": "stream",
     "text": [
      "  % Total    % Received % Xferd  Average Speed   Time    Time     Time  Current\n",
      "                                 Dload  Upload   Total   Spent    Left  Speed\n",
      "100 13182  100 13164  100    18   3519      4  0:00:04  0:00:03  0:00:01  3524\n"
     ]
    },
    {
     "name": "stdout",
     "output_type": "stream",
     "text": [
      "PDB file generated successfully: /Users/jianchengluo/Desktop/CPPs/cpps_natrual/LKTLTETLKELTKTLTEL.pdb\n"
     ]
    },
    {
     "name": "stderr",
     "output_type": "stream",
     "text": [
      "  % Total    % Received % Xferd  Average Speed   Time    Time     Time  Current\n",
      "                                 Dload  Upload   Total   Spent    Left  Speed\n",
      "100 13182  100 13164  100    18   2739      3  0:00:06  0:00:04  0:00:02  3320\n"
     ]
    },
    {
     "name": "stdout",
     "output_type": "stream",
     "text": [
      "PDB file generated successfully: /Users/jianchengluo/Desktop/CPPs/cpps_natrual/LLKTTELLKTTELLKTTE.pdb\n"
     ]
    },
    {
     "name": "stderr",
     "output_type": "stream",
     "text": [
      "  % Total    % Received % Xferd  Average Speed   Time    Time     Time  Current\n",
      "                                 Dload  Upload   Total   Spent    Left  Speed\n",
      "100 14314  100 14298  100    16  11009     12  0:00:01  0:00:01 --:--:-- 11027\n"
     ]
    },
    {
     "name": "stdout",
     "output_type": "stream",
     "text": [
      "PDB file generated successfully: /Users/jianchengluo/Desktop/CPPs/cpps_natrual/RQIKIWFQNRRMKWKK.pdb\n"
     ]
    },
    {
     "name": "stderr",
     "output_type": "stream",
     "text": [
      "  % Total    % Received % Xferd  Average Speed   Time    Time     Time  Current\n",
      "                                 Dload  Upload   Total   Spent    Left  Speed\n",
      "100 12372  100 12354  100    18  11759     17  0:00:01  0:00:01 --:--:-- 11782\n"
     ]
    },
    {
     "name": "stdout",
     "output_type": "stream",
     "text": [
      "PDB file generated successfully: /Users/jianchengluo/Desktop/CPPs/cpps_natrual/KALKLKLALALLAKLKLA.pdb\n"
     ]
    },
    {
     "name": "stderr",
     "output_type": "stream",
     "text": [
      "  % Total    % Received % Xferd  Average Speed   Time    Time     Time  Current\n",
      "                                 Dload  Upload   Total   Spent    Left  Speed\n",
      "100 14314  100 14298  100    16   9984     11  0:00:01  0:00:01 --:--:--  9995\n"
     ]
    },
    {
     "name": "stdout",
     "output_type": "stream",
     "text": [
      "PDB file generated successfully: /Users/jianchengluo/Desktop/CPPs/cpps_natrual/RQIKIWFQNRRMKWKK.pdb\n"
     ]
    },
    {
     "name": "stderr",
     "output_type": "stream",
     "text": [
      "  % Total    % Received % Xferd  Average Speed   Time    Time     Time  Current\n",
      "                                 Dload  Upload   Total   Spent    Left  Speed\n",
      "100 14314  100 14298  100    16   9048     10  0:00:01  0:00:01 --:--:--  9059\n"
     ]
    },
    {
     "name": "stdout",
     "output_type": "stream",
     "text": [
      "PDB file generated successfully: /Users/jianchengluo/Desktop/CPPs/cpps_natrual/KKWKMRRNQFWIKIQR.pdb\n"
     ]
    },
    {
     "name": "stderr",
     "output_type": "stream",
     "text": [
      "  % Total    % Received % Xferd  Average Speed   Time    Time     Time  Current\n",
      "                                 Dload  Upload   Total   Spent    Left  Speed\n",
      "100 14152  100 14136  100    16   5155      5  0:00:03  0:00:02  0:00:01  5161\n"
     ]
    },
    {
     "name": "stdout",
     "output_type": "stream",
     "text": [
      "PDB file generated successfully: /Users/jianchengluo/Desktop/CPPs/cpps_natrual/RQIKIWFPNRRMKWKK.pdb\n"
     ]
    },
    {
     "name": "stderr",
     "output_type": "stream",
     "text": [
      "  % Total    % Received % Xferd  Average Speed   Time    Time     Time  Current\n",
      "                                 Dload  Upload   Total   Spent    Left  Speed\n",
      "100 13990  100 13974  100    16   6029      6  0:00:02  0:00:02 --:--:--  6037\n"
     ]
    },
    {
     "name": "stdout",
     "output_type": "stream",
     "text": [
      "PDB file generated successfully: /Users/jianchengluo/Desktop/CPPs/cpps_natrual/RQPKIWFPNRRKPWKK.pdb\n"
     ]
    },
    {
     "name": "stderr",
     "output_type": "stream",
     "text": [
      "  % Total    % Received % Xferd  Average Speed   Time    Time     Time  Current\n",
      "                                 Dload  Upload   Total   Spent    Left  Speed\n",
      "100 14314  100 14298  100    16  11114     12  0:00:01  0:00:01 --:--:-- 11121\n"
     ]
    },
    {
     "name": "stdout",
     "output_type": "stream",
     "text": [
      "PDB file generated successfully: /Users/jianchengluo/Desktop/CPPs/cpps_natrual/RQIKIWFQNRRMKWKK.pdb\n"
     ]
    },
    {
     "name": "stderr",
     "output_type": "stream",
     "text": [
      "  % Total    % Received % Xferd  Average Speed   Time    Time     Time  Current\n",
      "                                 Dload  Upload   Total   Spent    Left  Speed\n",
      "100 13584  100 13569  100    15   5880      6  0:00:02  0:00:02 --:--:--  5888\n"
     ]
    },
    {
     "name": "stdout",
     "output_type": "stream",
     "text": [
      "PDB file generated successfully: /Users/jianchengluo/Desktop/CPPs/cpps_natrual/RQIKIWFQNRRMKWK.pdb\n"
     ]
    },
    {
     "name": "stderr",
     "output_type": "stream",
     "text": [
      "  % Total    % Received % Xferd  Average Speed   Time    Time     Time  Current\n",
      "                                 Dload  Upload   Total   Spent    Left  Speed\n",
      "100 12854  100 12840  100    14   3984      4  0:00:03  0:00:03 --:--:--  3989\n"
     ]
    },
    {
     "name": "stdout",
     "output_type": "stream",
     "text": [
      "PDB file generated successfully: /Users/jianchengluo/Desktop/CPPs/cpps_natrual/RQIKIWFQNRRMKW.pdb\n"
     ]
    },
    {
     "name": "stderr",
     "output_type": "stream",
     "text": [
      "  % Total    % Received % Xferd  Average Speed   Time    Time     Time  Current\n",
      "                                 Dload  Upload   Total   Spent    Left  Speed\n",
      "100 11719  100 11706  100    13   4909      5  0:00:02  0:00:02 --:--:--  4913\n"
     ]
    },
    {
     "name": "stdout",
     "output_type": "stream",
     "text": [
      "PDB file generated successfully: /Users/jianchengluo/Desktop/CPPs/cpps_natrual/RQIKIWFQNRRMK.pdb\n"
     ]
    },
    {
     "name": "stderr",
     "output_type": "stream",
     "text": [
      "  % Total    % Received % Xferd  Average Speed   Time    Time     Time  Current\n",
      "                                 Dload  Upload   Total   Spent    Left  Speed\n",
      "100 10989  100 10977  100    12   4682      5  0:00:02  0:00:02 --:--:--  4688\n"
     ]
    },
    {
     "name": "stdout",
     "output_type": "stream",
     "text": [
      "PDB file generated successfully: /Users/jianchengluo/Desktop/CPPs/cpps_natrual/RQIKIWFQNRRM.pdb\n"
     ]
    },
    {
     "name": "stderr",
     "output_type": "stream",
     "text": [
      "  % Total    % Received % Xferd  Average Speed   Time    Time     Time  Current\n",
      "                                 Dload  Upload   Total   Spent    Left  Speed\n",
      "100 10340  100 10329  100    11   3107      3  0:00:03  0:00:03 --:--:--  3110\n"
     ]
    },
    {
     "name": "stdout",
     "output_type": "stream",
     "text": [
      "PDB file generated successfully: /Users/jianchengluo/Desktop/CPPs/cpps_natrual/RQIKIWFQNRR.pdb\n"
     ]
    },
    {
     "name": "stderr",
     "output_type": "stream",
     "text": [
      "  % Total    % Received % Xferd  Average Speed   Time    Time     Time  Current\n",
      "                                 Dload  Upload   Total   Spent    Left  Speed\n",
      "100  9448  100  9438  100    10   2990      3  0:00:03  0:00:03 --:--:--  2994\n"
     ]
    },
    {
     "name": "stdout",
     "output_type": "stream",
     "text": [
      "PDB file generated successfully: /Users/jianchengluo/Desktop/CPPs/cpps_natrual/RQIKIWFQNR.pdb\n"
     ]
    },
    {
     "name": "stderr",
     "output_type": "stream",
     "text": [
      "  % Total    % Received % Xferd  Average Speed   Time    Time     Time  Current\n",
      "                                 Dload  Upload   Total   Spent    Left  Speed\n",
      "100  8556  100  8547  100     9   3616      3  0:00:03  0:00:02  0:00:01  3622\n"
     ]
    },
    {
     "name": "stdout",
     "output_type": "stream",
     "text": [
      "PDB file generated successfully: /Users/jianchengluo/Desktop/CPPs/cpps_natrual/RQIKIWFQN.pdb\n"
     ]
    },
    {
     "name": "stderr",
     "output_type": "stream",
     "text": [
      "  % Total    % Received % Xferd  Average Speed   Time    Time     Time  Current\n",
      "                                 Dload  Upload   Total   Spent    Left  Speed\n",
      "100  7907  100  7899  100     8   3342      3  0:00:02  0:00:02 --:--:--  3346\n"
     ]
    },
    {
     "name": "stdout",
     "output_type": "stream",
     "text": [
      "PDB file generated successfully: /Users/jianchengluo/Desktop/CPPs/cpps_natrual/RQIKIWFQ.pdb\n"
     ]
    },
    {
     "name": "stderr",
     "output_type": "stream",
     "text": [
      "  % Total    % Received % Xferd  Average Speed   Time    Time     Time  Current\n",
      "                                 Dload  Upload   Total   Spent    Left  Speed\n",
      "100  6285  100  6279  100     6   2667      2  0:00:03  0:00:02  0:00:01  2668\n"
     ]
    },
    {
     "name": "stdout",
     "output_type": "stream",
     "text": [
      "PDB file generated successfully: /Users/jianchengluo/Desktop/CPPs/cpps_natrual/RQIKIW.pdb\n"
     ]
    },
    {
     "name": "stderr",
     "output_type": "stream",
     "text": [
      "  % Total    % Received % Xferd  Average Speed   Time    Time     Time  Current\n",
      "                                 Dload  Upload   Total   Spent    Left  Speed\n",
      "100 13422  100 13407  100    15   5738      6  0:00:02  0:00:02 --:--:--  5745\n"
     ]
    },
    {
     "name": "stdout",
     "output_type": "stream",
     "text": [
      "PDB file generated successfully: /Users/jianchengluo/Desktop/CPPs/cpps_natrual/QIKIWFQNRRMKWKK.pdb\n"
     ]
    },
    {
     "name": "stderr",
     "output_type": "stream",
     "text": [
      "  % Total    % Received % Xferd  Average Speed   Time    Time     Time  Current\n",
      "                                 Dload  Upload   Total   Spent    Left  Speed\n",
      "100 12692  100 12678  100    14   5266      5  0:00:02  0:00:02 --:--:--  5270\n"
     ]
    },
    {
     "name": "stdout",
     "output_type": "stream",
     "text": [
      "PDB file generated successfully: /Users/jianchengluo/Desktop/CPPs/cpps_natrual/IKIWFQNRRMKWKK.pdb\n"
     ]
    },
    {
     "name": "stderr",
     "output_type": "stream",
     "text": [
      "  % Total    % Received % Xferd  Average Speed   Time    Time     Time  Current\n",
      "                                 Dload  Upload   Total   Spent    Left  Speed\n",
      "100 12043  100 12030  100    13   5220      5  0:00:02  0:00:02 --:--:--  5226\n"
     ]
    },
    {
     "name": "stdout",
     "output_type": "stream",
     "text": [
      "PDB file generated successfully: /Users/jianchengluo/Desktop/CPPs/cpps_natrual/KIWFQNRRMKWKK.pdb\n"
     ]
    },
    {
     "name": "stderr",
     "output_type": "stream",
     "text": [
      "  % Total    % Received % Xferd  Average Speed   Time    Time     Time  Current\n",
      "                                 Dload  Upload   Total   Spent    Left  Speed\n",
      "100 11313  100 11301  100    12   4813      5  0:00:02  0:00:02 --:--:--  4820\n"
     ]
    },
    {
     "name": "stdout",
     "output_type": "stream",
     "text": [
      "PDB file generated successfully: /Users/jianchengluo/Desktop/CPPs/cpps_natrual/IWFQNRRMKWKK.pdb\n"
     ]
    },
    {
     "name": "stderr",
     "output_type": "stream",
     "text": [
      "  % Total    % Received % Xferd  Average Speed   Time    Time     Time  Current\n",
      "                                 Dload  Upload   Total   Spent    Left  Speed\n",
      "100 10664  100 10653  100    11   2047      2  0:00:05  0:00:05 --:--:--  2850\n"
     ]
    },
    {
     "name": "stdout",
     "output_type": "stream",
     "text": [
      "PDB file generated successfully: /Users/jianchengluo/Desktop/CPPs/cpps_natrual/WFQNRRMKWKK.pdb\n"
     ]
    },
    {
     "name": "stderr",
     "output_type": "stream",
     "text": [
      "  % Total    % Received % Xferd  Average Speed   Time    Time     Time  Current\n",
      "                                 Dload  Upload   Total   Spent    Left  Speed\n",
      "100  9529  100  9519  100    10   3936      4  0:00:02  0:00:02 --:--:--  3940\n"
     ]
    },
    {
     "name": "stdout",
     "output_type": "stream",
     "text": [
      "PDB file generated successfully: /Users/jianchengluo/Desktop/CPPs/cpps_natrual/FQNRRMKWKK.pdb\n"
     ]
    },
    {
     "name": "stderr",
     "output_type": "stream",
     "text": [
      "  % Total    % Received % Xferd  Average Speed   Time    Time     Time  Current\n",
      "                                 Dload  Upload   Total   Spent    Left  Speed\n",
      "100  8637  100  8628  100     9   3758      3  0:00:03  0:00:02  0:00:01  3763\n"
     ]
    },
    {
     "name": "stdout",
     "output_type": "stream",
     "text": [
      "PDB file generated successfully: /Users/jianchengluo/Desktop/CPPs/cpps_natrual/QNRRMKWKK.pdb\n"
     ]
    },
    {
     "name": "stderr",
     "output_type": "stream",
     "text": [
      "  % Total    % Received % Xferd  Average Speed   Time    Time     Time  Current\n",
      "                                 Dload  Upload   Total   Spent    Left  Speed\n",
      "100  7907  100  7899  100     8   2147      2  0:00:04  0:00:03  0:00:01  2149\n"
     ]
    },
    {
     "name": "stdout",
     "output_type": "stream",
     "text": [
      "PDB file generated successfully: /Users/jianchengluo/Desktop/CPPs/cpps_natrual/NRRMKWKK.pdb\n"
     ]
    },
    {
     "name": "stderr",
     "output_type": "stream",
     "text": [
      "  % Total    % Received % Xferd  Average Speed   Time    Time     Time  Current\n",
      "                                 Dload  Upload   Total   Spent    Left  Speed\n",
      "100  7258  100  7251  100     7   2757      2  0:00:03  0:00:02  0:00:01  2759\n"
     ]
    },
    {
     "name": "stdout",
     "output_type": "stream",
     "text": [
      "PDB file generated successfully: /Users/jianchengluo/Desktop/CPPs/cpps_natrual/RRMKWKK.pdb\n"
     ]
    },
    {
     "name": "stderr",
     "output_type": "stream",
     "text": [
      "  % Total    % Received % Xferd  Average Speed   Time    Time     Time  Current\n",
      "                                 Dload  Upload   Total   Spent    Left  Speed\n",
      "100  6366  100  6360  100     6   2768      2  0:00:03  0:00:02  0:00:01  2771\n"
     ]
    },
    {
     "name": "stdout",
     "output_type": "stream",
     "text": [
      "PDB file generated successfully: /Users/jianchengluo/Desktop/CPPs/cpps_natrual/RMKWKK.pdb\n"
     ]
    },
    {
     "name": "stderr",
     "output_type": "stream",
     "text": [
      "  % Total    % Received % Xferd  Average Speed   Time    Time     Time  Current\n",
      "                                 Dload  Upload   Total   Spent    Left  Speed\n",
      "100 13828  100 13812  100    16   5885      6  0:00:02  0:00:02 --:--:--  5894\n"
     ]
    },
    {
     "name": "stdout",
     "output_type": "stream",
     "text": [
      "PDB file generated successfully: /Users/jianchengluo/Desktop/CPPs/cpps_natrual/AQIKIWFQNRRMKWKK.pdb\n"
     ]
    },
    {
     "name": "stderr",
     "output_type": "stream",
     "text": [
      "  % Total    % Received % Xferd  Average Speed   Time    Time     Time  Current\n",
      "                                 Dload  Upload   Total   Spent    Left  Speed\n",
      "100 13990  100 13974  100    16   3265      3  0:00:05  0:00:04  0:00:01  3474\n"
     ]
    },
    {
     "name": "stdout",
     "output_type": "stream",
     "text": [
      "PDB file generated successfully: /Users/jianchengluo/Desktop/CPPs/cpps_natrual/RAIKIWFQNRRMKWKK.pdb\n"
     ]
    },
    {
     "name": "stderr",
     "output_type": "stream",
     "text": [
      "  % Total    % Received % Xferd  Average Speed   Time    Time     Time  Current\n",
      "                                 Dload  Upload   Total   Spent    Left  Speed\n",
      "100 14071  100 14055  100    16   5797      6  0:00:02  0:00:02 --:--:--  5804\n"
     ]
    },
    {
     "name": "stdout",
     "output_type": "stream",
     "text": [
      "PDB file generated successfully: /Users/jianchengluo/Desktop/CPPs/cpps_natrual/RQAKIWFQNRRMKWKK.pdb\n"
     ]
    },
    {
     "name": "stderr",
     "output_type": "stream",
     "text": [
      "  % Total    % Received % Xferd  Average Speed   Time    Time     Time  Current\n",
      "                                 Dload  Upload   Total   Spent    Left  Speed\n",
      "100 13990  100 13974  100    16   5954      6  0:00:02  0:00:02 --:--:--  5960\n"
     ]
    },
    {
     "name": "stdout",
     "output_type": "stream",
     "text": [
      "PDB file generated successfully: /Users/jianchengluo/Desktop/CPPs/cpps_natrual/RQIAIWFQNRRMKWKK.pdb\n"
     ]
    },
    {
     "name": "stderr",
     "output_type": "stream",
     "text": [
      "  % Total    % Received % Xferd  Average Speed   Time    Time     Time  Current\n",
      "                                 Dload  Upload   Total   Spent    Left  Speed\n",
      "100 14071  100 14055  100    16   6085      6  0:00:02  0:00:02 --:--:--  6093\n"
     ]
    },
    {
     "name": "stdout",
     "output_type": "stream",
     "text": [
      "PDB file generated successfully: /Users/jianchengluo/Desktop/CPPs/cpps_natrual/RQIKAWFQNRRMKWKK.pdb\n"
     ]
    },
    {
     "name": "stderr",
     "output_type": "stream",
     "text": [
      "  % Total    % Received % Xferd  Average Speed   Time    Time     Time  Current\n",
      "                                 Dload  Upload   Total   Spent    Left  Speed\n",
      "100 13585  100 13569  100    16   3416      4  0:00:04  0:00:03  0:00:01  3421\n"
     ]
    },
    {
     "name": "stdout",
     "output_type": "stream",
     "text": [
      "PDB file generated successfully: /Users/jianchengluo/Desktop/CPPs/cpps_natrual/RQIKIAFQNRRMKWKK.pdb\n"
     ]
    },
    {
     "name": "stderr",
     "output_type": "stream",
     "text": [
      "  % Total    % Received % Xferd  Average Speed   Time    Time     Time  Current\n",
      "                                 Dload  Upload   Total   Spent    Left  Speed\n",
      "100 13828  100 13812  100    16   5850      6  0:00:02  0:00:02 --:--:--  5859\n"
     ]
    },
    {
     "name": "stdout",
     "output_type": "stream",
     "text": [
      "PDB file generated successfully: /Users/jianchengluo/Desktop/CPPs/cpps_natrual/RQIKIWAQNRRMKWKK.pdb\n"
     ]
    },
    {
     "name": "stderr",
     "output_type": "stream",
     "text": [
      "  % Total    % Received % Xferd  Average Speed   Time    Time     Time  Current\n",
      "                                 Dload  Upload   Total   Spent    Left  Speed\n",
      "100 13990  100 13974  100    16   5805      6  0:00:02  0:00:02 --:--:--  5809\n"
     ]
    },
    {
     "name": "stdout",
     "output_type": "stream",
     "text": [
      "PDB file generated successfully: /Users/jianchengluo/Desktop/CPPs/cpps_natrual/RQIKIWFANRRMKWKK.pdb\n"
     ]
    },
    {
     "name": "stderr",
     "output_type": "stream",
     "text": [
      "  % Total    % Received % Xferd  Average Speed   Time    Time     Time  Current\n",
      "                                 Dload  Upload   Total   Spent    Left  Speed\n",
      "100 14071  100 14055  100    16   5979      6  0:00:02  0:00:02 --:--:--  5987\n"
     ]
    },
    {
     "name": "stdout",
     "output_type": "stream",
     "text": [
      "PDB file generated successfully: /Users/jianchengluo/Desktop/CPPs/cpps_natrual/RQIKIWFQARRMKWKK.pdb\n"
     ]
    },
    {
     "name": "stderr",
     "output_type": "stream",
     "text": [
      "  % Total    % Received % Xferd  Average Speed   Time    Time     Time  Current\n",
      "                                 Dload  Upload   Total   Spent    Left  Speed\n",
      "100 13828  100 13812  100    16   2924      3  0:00:05  0:00:04  0:00:01  3281\n"
     ]
    },
    {
     "name": "stdout",
     "output_type": "stream",
     "text": [
      "PDB file generated successfully: /Users/jianchengluo/Desktop/CPPs/cpps_natrual/RQIKIWFQNARMKWKK.pdb\n"
     ]
    },
    {
     "name": "stderr",
     "output_type": "stream",
     "text": [
      "  % Total    % Received % Xferd  Average Speed   Time    Time     Time  Current\n",
      "                                 Dload  Upload   Total   Spent    Left  Speed\n",
      "100 13828  100 13812  100    16   5885      6  0:00:02  0:00:02 --:--:--  5894\n"
     ]
    },
    {
     "name": "stdout",
     "output_type": "stream",
     "text": [
      "PDB file generated successfully: /Users/jianchengluo/Desktop/CPPs/cpps_natrual/RQIKIWFQNRAMKWKK.pdb\n"
     ]
    },
    {
     "name": "stderr",
     "output_type": "stream",
     "text": [
      "  % Total    % Received % Xferd  Average Speed   Time    Time     Time  Current\n",
      "                                 Dload  Upload   Total   Spent    Left  Speed\n",
      "100 14071  100 14055  100    16   5985      6  0:00:02  0:00:02 --:--:--  5990\n"
     ]
    },
    {
     "name": "stdout",
     "output_type": "stream",
     "text": [
      "PDB file generated successfully: /Users/jianchengluo/Desktop/CPPs/cpps_natrual/RQIKIWFQNRRAKWKK.pdb\n"
     ]
    },
    {
     "name": "stderr",
     "output_type": "stream",
     "text": [
      "  % Total    % Received % Xferd  Average Speed   Time    Time     Time  Current\n",
      "                                 Dload  Upload   Total   Spent    Left  Speed\n",
      "100 13990  100 13974  100    16   5851      6  0:00:02  0:00:02 --:--:--  5858\n"
     ]
    },
    {
     "name": "stdout",
     "output_type": "stream",
     "text": [
      "PDB file generated successfully: /Users/jianchengluo/Desktop/CPPs/cpps_natrual/RQIKIWFQNRRMAWKK.pdb\n"
     ]
    },
    {
     "name": "stderr",
     "output_type": "stream",
     "text": [
      "  % Total    % Received % Xferd  Average Speed   Time    Time     Time  Current\n",
      "                                 Dload  Upload   Total   Spent    Left  Speed\n",
      "100 13585  100 13569  100    16   5837      6  0:00:02  0:00:02 --:--:--  5845\n"
     ]
    },
    {
     "name": "stdout",
     "output_type": "stream",
     "text": [
      "PDB file generated successfully: /Users/jianchengluo/Desktop/CPPs/cpps_natrual/RQIKIWFQNRRMKAKK.pdb\n"
     ]
    },
    {
     "name": "stderr",
     "output_type": "stream",
     "text": [
      "  % Total    % Received % Xferd  Average Speed   Time    Time     Time  Current\n",
      "                                 Dload  Upload   Total   Spent    Left  Speed\n",
      "100 13990  100 13974  100    16   5963      6  0:00:02  0:00:02 --:--:--  5968\n"
     ]
    },
    {
     "name": "stdout",
     "output_type": "stream",
     "text": [
      "PDB file generated successfully: /Users/jianchengluo/Desktop/CPPs/cpps_natrual/RQIKIWFQNRRMKWAK.pdb\n"
     ]
    },
    {
     "name": "stderr",
     "output_type": "stream",
     "text": [
      "  % Total    % Received % Xferd  Average Speed   Time    Time     Time  Current\n",
      "                                 Dload  Upload   Total   Spent    Left  Speed\n",
      "100 13990  100 13974  100    16   5977      6  0:00:02  0:00:02 --:--:--  5986\n"
     ]
    },
    {
     "name": "stdout",
     "output_type": "stream",
     "text": [
      "PDB file generated successfully: /Users/jianchengluo/Desktop/CPPs/cpps_natrual/RQIKIWFQNRRMKWKA.pdb\n"
     ]
    },
    {
     "name": "stderr",
     "output_type": "stream",
     "text": [
      "  % Total    % Received % Xferd  Average Speed   Time    Time     Time  Current\n",
      "                                 Dload  Upload   Total   Spent    Left  Speed\n",
      "100 15126  100 15108  100    18   5849      6  0:00:03  0:00:02  0:00:01  5855\n"
     ]
    },
    {
     "name": "stdout",
     "output_type": "stream",
     "text": [
      "PDB file generated successfully: /Users/jianchengluo/Desktop/CPPs/cpps_natrual/CRQIKIWFPNRRMKWKKC.pdb\n"
     ]
    },
    {
     "name": "stderr",
     "output_type": "stream",
     "text": [
      "  % Total    % Received % Xferd  Average Speed   Time    Time     Time  Current\n",
      "                                 Dload  Upload   Total   Spent    Left  Speed\n",
      "100 14152  100 14136  100    16  10690     12  0:00:01  0:00:01 --:--:-- 10704\n"
     ]
    },
    {
     "name": "stdout",
     "output_type": "stream",
     "text": [
      "PDB file generated successfully: /Users/jianchengluo/Desktop/CPPs/cpps_natrual/RQIKIWFPNRRMKWKK.pdb\n"
     ]
    },
    {
     "name": "stderr",
     "output_type": "stream",
     "text": [
      "  % Total    % Received % Xferd  Average Speed   Time    Time     Time  Current\n",
      "                                 Dload  Upload   Total   Spent    Left  Speed\n",
      "100 14314  100 14298  100    16  10927     12  0:00:01  0:00:01 --:--:-- 10943\n"
     ]
    },
    {
     "name": "stdout",
     "output_type": "stream",
     "text": [
      "PDB file generated successfully: /Users/jianchengluo/Desktop/CPPs/cpps_natrual/RQIKIWFQNRRMKWKK.pdb\n"
     ]
    },
    {
     "name": "stderr",
     "output_type": "stream",
     "text": [
      "  % Total    % Received % Xferd  Average Speed   Time    Time     Time  Current\n",
      "                                 Dload  Upload   Total   Spent    Left  Speed\n",
      "100 13828  100 13812  100    16   4148      4  0:00:04  0:00:03  0:00:01  4152\n"
     ]
    },
    {
     "name": "stdout",
     "output_type": "stream",
     "text": [
      "PDB file generated successfully: /Users/jianchengluo/Desktop/CPPs/cpps_natrual/RQIKIFFQNRRMKFKK.pdb\n"
     ]
    },
    {
     "name": "stderr",
     "output_type": "stream",
     "text": [
      "  % Total    % Received % Xferd  Average Speed   Time    Time     Time  Current\n",
      "                                 Dload  Upload   Total   Spent    Left  Speed\n",
      "100 14962  100 14946  100    16  11628     12  0:00:01  0:00:01 --:--:-- 11643\n"
     ]
    },
    {
     "name": "stdout",
     "output_type": "stream",
     "text": [
      "PDB file generated successfully: /Users/jianchengluo/Desktop/CPPs/cpps_natrual/RQIRIWFQNRRMRWRR.pdb\n"
     ]
    },
    {
     "name": "stderr",
     "output_type": "stream",
     "text": [
      "  % Total    % Received % Xferd  Average Speed   Time    Time     Time  Current\n",
      "                                 Dload  Upload   Total   Spent    Left  Speed\n",
      "100  8879  100  8871  100     8   3808      3  0:00:02  0:00:02 --:--:--  3814\n"
     ]
    },
    {
     "name": "stdout",
     "output_type": "stream",
     "text": [
      "PDB file generated successfully: /Users/jianchengluo/Desktop/CPPs/cpps_natrual/RRRRRRRW.pdb\n"
     ]
    },
    {
     "name": "stderr",
     "output_type": "stream",
     "text": [
      "  % Total    % Received % Xferd  Average Speed   Time    Time     Time  Current\n",
      "                                 Dload  Upload   Total   Spent    Left  Speed\n",
      "100 11800  100 11787  100    13   2547      2  0:00:06  0:00:04  0:00:02  2704\n"
     ]
    },
    {
     "name": "stdout",
     "output_type": "stream",
     "text": [
      "PDB file generated successfully: /Users/jianchengluo/Desktop/CPPs/cpps_natrual/GRKKRRQRRRPWQ.pdb\n"
     ]
    },
    {
     "name": "stderr",
     "output_type": "stream",
     "text": [
      "  % Total    % Received % Xferd  Average Speed   Time    Time     Time  Current\n",
      "                                 Dload  Upload   Total   Spent    Left  Speed\n",
      "100 11800  100 11787  100    13  11303     12  0:00:01  0:00:01 --:--:-- 11324\n"
     ]
    },
    {
     "name": "stdout",
     "output_type": "stream",
     "text": [
      "PDB file generated successfully: /Users/jianchengluo/Desktop/CPPs/cpps_natrual/GRKKRRQRRRPWQ.pdb\n"
     ]
    },
    {
     "name": "stderr",
     "output_type": "stream",
     "text": [
      "  % Total    % Received % Xferd  Average Speed   Time    Time     Time  Current\n",
      "                                 Dload  Upload   Total   Spent    Left  Speed\n",
      "100 14962  100 14946  100    16  11614     12  0:00:01  0:00:01 --:--:-- 11634\n"
     ]
    },
    {
     "name": "stdout",
     "output_type": "stream",
     "text": [
      "PDB file generated successfully: /Users/jianchengluo/Desktop/CPPs/cpps_natrual/RQIRIWFQNRRMRWRR.pdb\n"
     ]
    },
    {
     "name": "stderr",
     "output_type": "stream",
     "text": [
      "  % Total    % Received % Xferd  Average Speed   Time    Time     Time  Current\n",
      "                                 Dload  Upload   Total   Spent    Left  Speed\n",
      "100 17230  100 17214  100    16  13247     12  0:00:01  0:00:01 --:--:-- 13253\n"
     ]
    },
    {
     "name": "stdout",
     "output_type": "stream",
     "text": [
      "PDB file generated successfully: /Users/jianchengluo/Desktop/CPPs/cpps_natrual/RRWRRWWRRWWRRWRR.pdb\n"
     ]
    },
    {
     "name": "stderr",
     "output_type": "stream",
     "text": [
      "  % Total    % Received % Xferd  Average Speed   Time    Time     Time  Current\n",
      "                                 Dload  Upload   Total   Spent    Left  Speed\n",
      "100 14314  100 14298  100    16   5473      6  0:00:02  0:00:02 --:--:--  5480\n"
     ]
    },
    {
     "name": "stdout",
     "output_type": "stream",
     "text": [
      "PDB file generated successfully: /Users/jianchengluo/Desktop/CPPs/cpps_natrual/RQIKIWFQNMRRKWKK.pdb\n"
     ]
    },
    {
     "name": "stderr",
     "output_type": "stream",
     "text": [
      "  % Total    % Received % Xferd  Average Speed   Time    Time     Time  Current\n",
      "                                 Dload  Upload   Total   Spent    Left  Speed\n",
      "100 11233  100 11220  100    13   3272      3  0:00:04  0:00:03  0:00:01  3275\n"
     ]
    },
    {
     "name": "stdout",
     "output_type": "stream",
     "text": [
      "PDB file generated successfully: /Users/jianchengluo/Desktop/CPPs/cpps_natrual/KMDCRWRWKCCKK.pdb\n"
     ]
    },
    {
     "name": "stderr",
     "output_type": "stream",
     "text": [
      "  % Total    % Received % Xferd  Average Speed   Time    Time     Time  Current\n",
      "                                 Dload  Upload   Total   Spent    Left  Speed\n",
      "100 10503  100 10491  100    12   4572      5  0:00:02  0:00:02 --:--:--  4578\n"
     ]
    },
    {
     "name": "stdout",
     "output_type": "stream",
     "text": [
      "PDB file generated successfully: /Users/jianchengluo/Desktop/CPPs/cpps_natrual/MDCRWRWKCCKK.pdb\n"
     ]
    },
    {
     "name": "stderr",
     "output_type": "stream",
     "text": [
      "  % Total    % Received % Xferd  Average Speed   Time    Time     Time  Current\n",
      "                                 Dload  Upload   Total   Spent    Left  Speed\n",
      "100  9854  100  9843  100    11   4233      4  0:00:02  0:00:02 --:--:--  4238\n"
     ]
    },
    {
     "name": "stdout",
     "output_type": "stream",
     "text": [
      "PDB file generated successfully: /Users/jianchengluo/Desktop/CPPs/cpps_natrual/DCRWRWKCCKK.pdb\n"
     ]
    },
    {
     "name": "stderr",
     "output_type": "stream",
     "text": [
      "  % Total    % Received % Xferd  Average Speed   Time    Time     Time  Current\n",
      "                                 Dload  Upload   Total   Spent    Left  Speed\n",
      "100  9205  100  9195  100    10   4029      4  0:00:02  0:00:02 --:--:--  4035\n"
     ]
    },
    {
     "name": "stdout",
     "output_type": "stream",
     "text": [
      "PDB file generated successfully: /Users/jianchengluo/Desktop/CPPs/cpps_natrual/CRWRWKCCKK.pdb\n"
     ]
    },
    {
     "name": "stderr",
     "output_type": "stream",
     "text": [
      "  % Total    % Received % Xferd  Average Speed   Time    Time     Time  Current\n",
      "                                 Dload  Upload   Total   Spent    Left  Speed\n",
      "100  8718  100  8709  100     9   2096      2  0:00:04  0:00:04 --:--:--  2098\n"
     ]
    },
    {
     "name": "stdout",
     "output_type": "stream",
     "text": [
      "PDB file generated successfully: /Users/jianchengluo/Desktop/CPPs/cpps_natrual/RWRWKCCKK.pdb\n"
     ]
    },
    {
     "name": "stderr",
     "output_type": "stream",
     "text": [
      "  % Total    % Received % Xferd  Average Speed   Time    Time     Time  Current\n",
      "                                 Dload  Upload   Total   Spent    Left  Speed\n",
      "100 10746  100 10734  100    12   4583      5  0:00:02  0:00:02 --:--:--  4590\n"
     ]
    },
    {
     "name": "stdout",
     "output_type": "stream",
     "text": [
      "PDB file generated successfully: /Users/jianchengluo/Desktop/CPPs/cpps_natrual/KMDCRWRWKCKK.pdb\n"
     ]
    },
    {
     "name": "stderr",
     "output_type": "stream",
     "text": [
      "  % Total    % Received % Xferd  Average Speed   Time    Time     Time  Current\n",
      "                                 Dload  Upload   Total   Spent    Left  Speed\n",
      "100 10259  100 10248  100    11   4129      4  0:00:02  0:00:02 --:--:--  4133\n"
     ]
    },
    {
     "name": "stdout",
     "output_type": "stream",
     "text": [
      "PDB file generated successfully: /Users/jianchengluo/Desktop/CPPs/cpps_natrual/KMDCRWRWKKK.pdb\n"
     ]
    },
    {
     "name": "stderr",
     "output_type": "stream",
     "text": [
      "  % Total    % Received % Xferd  Average Speed   Time    Time     Time  Current\n",
      "                                 Dload  Upload   Total   Spent    Left  Speed\n",
      "100  9772  100  9762  100    10   2273      2  0:00:05  0:00:04  0:00:01  2275\n"
     ]
    },
    {
     "name": "stdout",
     "output_type": "stream",
     "text": [
      "PDB file generated successfully: /Users/jianchengluo/Desktop/CPPs/cpps_natrual/KMDRWRWKKK.pdb\n"
     ]
    },
    {
     "name": "stderr",
     "output_type": "stream",
     "text": [
      "  % Total    % Received % Xferd  Average Speed   Time    Time     Time  Current\n",
      "                                 Dload  Upload   Total   Spent    Left  Speed\n",
      "100 10584  100 10572  100    12   4246      4  0:00:03  0:00:02  0:00:01  4250\n"
     ]
    },
    {
     "name": "stdout",
     "output_type": "stream",
     "text": [
      "PDB file generated successfully: /Users/jianchengluo/Desktop/CPPs/cpps_natrual/KDCRWRWKCCKK.pdb\n"
     ]
    },
    {
     "name": "stderr",
     "output_type": "stream",
     "text": [
      "  % Total    % Received % Xferd  Average Speed   Time    Time     Time  Current\n",
      "                                 Dload  Upload   Total   Spent    Left  Speed\n",
      "100  9935  100  9924  100    11   4315      4  0:00:02  0:00:02 --:--:--  4321\n"
     ]
    },
    {
     "name": "stdout",
     "output_type": "stream",
     "text": [
      "PDB file generated successfully: /Users/jianchengluo/Desktop/CPPs/cpps_natrual/KCRWRWKCCKK.pdb\n"
     ]
    },
    {
     "name": "stderr",
     "output_type": "stream",
     "text": [
      "  % Total    % Received % Xferd  Average Speed   Time    Time     Time  Current\n",
      "                                 Dload  Upload   Total   Spent    Left  Speed\n",
      "100  9448  100  9438  100    10   4120      4  0:00:02  0:00:02 --:--:--  4125\n"
     ]
    },
    {
     "name": "stdout",
     "output_type": "stream",
     "text": [
      "PDB file generated successfully: /Users/jianchengluo/Desktop/CPPs/cpps_natrual/KRWRWKCCKK.pdb\n"
     ]
    },
    {
     "name": "stderr",
     "output_type": "stream",
     "text": [
      "  % Total    % Received % Xferd  Average Speed   Time    Time     Time  Current\n",
      "                                 Dload  Upload   Total   Spent    Left  Speed\n",
      "100  9205  100  9195  100    10   2258      2  0:00:05  0:00:04  0:00:01  2414\n"
     ]
    },
    {
     "name": "stdout",
     "output_type": "stream",
     "text": [
      "PDB file generated successfully: /Users/jianchengluo/Desktop/CPPs/cpps_natrual/CRWRWKCSKK.pdb\n"
     ]
    },
    {
     "name": "stderr",
     "output_type": "stream",
     "text": [
      "  % Total    % Received % Xferd  Average Speed   Time    Time     Time  Current\n",
      "                                 Dload  Upload   Total   Spent    Left  Speed\n",
      "100  9205  100  9195  100    10   3847      4  0:00:02  0:00:02 --:--:--  3853\n"
     ]
    },
    {
     "name": "stdout",
     "output_type": "stream",
     "text": [
      "PDB file generated successfully: /Users/jianchengluo/Desktop/CPPs/cpps_natrual/SRWRWKCCKK.pdb\n"
     ]
    },
    {
     "name": "stderr",
     "output_type": "stream",
     "text": [
      "  % Total    % Received % Xferd  Average Speed   Time    Time     Time  Current\n",
      "                                 Dload  Upload   Total   Spent    Left  Speed\n",
      "100  9205  100  9195  100    10   3963      4  0:00:02  0:00:02 --:--:--  3969\n"
     ]
    },
    {
     "name": "stdout",
     "output_type": "stream",
     "text": [
      "PDB file generated successfully: /Users/jianchengluo/Desktop/CPPs/cpps_natrual/SRWRWKCSKK.pdb\n"
     ]
    },
    {
     "name": "stderr",
     "output_type": "stream",
     "text": [
      "  % Total    % Received % Xferd  Average Speed   Time    Time     Time  Current\n",
      "                                 Dload  Upload   Total   Spent    Left  Speed\n",
      "100  9205  100  9195  100    10   4012      4  0:00:02  0:00:02 --:--:--  4016\n"
     ]
    },
    {
     "name": "stdout",
     "output_type": "stream",
     "text": [
      "PDB file generated successfully: /Users/jianchengluo/Desktop/CPPs/cpps_natrual/SRWRWKSCKK.pdb\n"
     ]
    },
    {
     "name": "stderr",
     "output_type": "stream",
     "text": [
      "  % Total    % Received % Xferd  Average Speed   Time    Time     Time  Current\n",
      "                                 Dload  Upload   Total   Spent    Left  Speed\n",
      "100  9205  100  9195  100    10   3749      4  0:00:02  0:00:02 --:--:--  3755\n"
     ]
    },
    {
     "name": "stdout",
     "output_type": "stream",
     "text": [
      "PDB file generated successfully: /Users/jianchengluo/Desktop/CPPs/cpps_natrual/CRWRWKSSKK.pdb\n"
     ]
    },
    {
     "name": "stderr",
     "output_type": "stream",
     "text": [
      "  % Total    % Received % Xferd  Average Speed   Time    Time     Time  Current\n",
      "                                 Dload  Upload   Total   Spent    Left  Speed\n",
      "100  9205  100  9195  100    10   3642      3  0:00:03  0:00:02  0:00:01  3645\n"
     ]
    },
    {
     "name": "stdout",
     "output_type": "stream",
     "text": [
      "PDB file generated successfully: /Users/jianchengluo/Desktop/CPPs/cpps_natrual/SRWRWKSSKK.pdb\n"
     ]
    },
    {
     "name": "stderr",
     "output_type": "stream",
     "text": [
      "  % Total    % Received % Xferd  Average Speed   Time    Time     Time  Current\n",
      "                                 Dload  Upload   Total   Spent    Left  Speed\n",
      "100  8962  100  8952  100    10   3877      4  0:00:02  0:00:02 --:--:--  3883\n"
     ]
    },
    {
     "name": "stdout",
     "output_type": "stream",
     "text": [
      "PDB file generated successfully: /Users/jianchengluo/Desktop/CPPs/cpps_natrual/CRFRWKCCKK.pdb\n"
     ]
    },
    {
     "name": "stderr",
     "output_type": "stream",
     "text": [
      "  % Total    % Received % Xferd  Average Speed   Time    Time     Time  Current\n",
      "                                 Dload  Upload   Total   Spent    Left  Speed\n",
      "100  8962  100  8952  100    10   3848      4  0:00:02  0:00:02 --:--:--  3852\n"
     ]
    },
    {
     "name": "stdout",
     "output_type": "stream",
     "text": [
      "PDB file generated successfully: /Users/jianchengluo/Desktop/CPPs/cpps_natrual/CRWRFKCCKK.pdb\n"
     ]
    },
    {
     "name": "stderr",
     "output_type": "stream",
     "text": [
      "  % Total    % Received % Xferd  Average Speed   Time    Time     Time  Current\n",
      "                                 Dload  Upload   Total   Spent    Left  Speed\n",
      "100  8719  100  8709  100    10   3800      4  0:00:02  0:00:02 --:--:--  3804\n"
     ]
    },
    {
     "name": "stdout",
     "output_type": "stream",
     "text": [
      "PDB file generated successfully: /Users/jianchengluo/Desktop/CPPs/cpps_natrual/CRFRFKCCKK.pdb\n"
     ]
    },
    {
     "name": "stderr",
     "output_type": "stream",
     "text": [
      "  % Total    % Received % Xferd  Average Speed   Time    Time     Time  Current\n",
      "                                 Dload  Upload   Total   Spent    Left  Speed\n",
      "100  9205  100  9195  100    10   3834      4  0:00:02  0:00:02 --:--:--  3840\n"
     ]
    },
    {
     "name": "stdout",
     "output_type": "stream",
     "text": [
      "PDB file generated successfully: /Users/jianchengluo/Desktop/CPPs/cpps_natrual/KCCKWRWRCK.pdb\n"
     ]
    },
    {
     "name": "stderr",
     "output_type": "stream",
     "text": [
      "  % Total    % Received % Xferd  Average Speed   Time    Time     Time  Current\n",
      "                                 Dload  Upload   Total   Spent    Left  Speed\n",
      "100  9530  100  9519  100    11   4109      4  0:00:02  0:00:02 --:--:--  4114\n"
     ]
    },
    {
     "name": "stdout",
     "output_type": "stream",
     "text": [
      "PDB file generated successfully: /Users/jianchengluo/Desktop/CPPs/cpps_natrual/CRWRWKCGCKK.pdb\n"
     ]
    },
    {
     "name": "stderr",
     "output_type": "stream",
     "text": [
      "  % Total    % Received % Xferd  Average Speed   Time    Time     Time  Current\n",
      "                                 Dload  Upload   Total   Spent    Left  Speed\n",
      "100 11072  100 11058  100    14   4767      6  0:00:02  0:00:02 --:--:--  4774\n"
     ]
    },
    {
     "name": "stdout",
     "output_type": "stream",
     "text": [
      "PDB file generated successfully: /Users/jianchengluo/Desktop/CPPs/cpps_natrual/KCGCRWRWKCGCKK.pdb\n"
     ]
    },
    {
     "name": "stderr",
     "output_type": "stream",
     "text": [
      "  % Total    % Received % Xferd  Average Speed   Time    Time     Time  Current\n",
      "                                 Dload  Upload   Total   Spent    Left  Speed\n",
      "100  7583  100  7575  100     8   3251      3  0:00:02  0:00:02 --:--:--  3255\n"
     ]
    },
    {
     "name": "stdout",
     "output_type": "stream",
     "text": [
      "PDB file generated successfully: /Users/jianchengluo/Desktop/CPPs/cpps_natrual/CRWRWKCG.pdb\n"
     ]
    },
    {
     "name": "stderr",
     "output_type": "stream",
     "text": [
      "  % Total    % Received % Xferd  Average Speed   Time    Time     Time  Current\n",
      "                                 Dload  Upload   Total   Spent    Left  Speed\n",
      "100 11233  100 11220  100    13   2352      2  0:00:06  0:00:04  0:00:02  2640\n"
     ]
    },
    {
     "name": "stdout",
     "output_type": "stream",
     "text": [
      "PDB file generated successfully: /Users/jianchengluo/Desktop/CPPs/cpps_natrual/KMDCRWRWKCSKK.pdb\n"
     ]
    },
    {
     "name": "stderr",
     "output_type": "stream",
     "text": [
      "  % Total    % Received % Xferd  Average Speed   Time    Time     Time  Current\n",
      "                                 Dload  Upload   Total   Spent    Left  Speed\n",
      "100 11233  100 11220  100    13   4761      5  0:00:02  0:00:02 --:--:--  4767\n"
     ]
    },
    {
     "name": "stdout",
     "output_type": "stream",
     "text": [
      "PDB file generated successfully: /Users/jianchengluo/Desktop/CPPs/cpps_natrual/KMDCRWRWKSCKK.pdb\n"
     ]
    },
    {
     "name": "stderr",
     "output_type": "stream",
     "text": [
      "  % Total    % Received % Xferd  Average Speed   Time    Time     Time  Current\n",
      "                                 Dload  Upload   Total   Spent    Left  Speed\n",
      "100 11233  100 11220  100    13   4663      5  0:00:02  0:00:02 --:--:--  4666\n"
     ]
    },
    {
     "name": "stdout",
     "output_type": "stream",
     "text": [
      "PDB file generated successfully: /Users/jianchengluo/Desktop/CPPs/cpps_natrual/KMDSRWRWKCCKK.pdb\n"
     ]
    },
    {
     "name": "stderr",
     "output_type": "stream",
     "text": [
      "  % Total    % Received % Xferd  Average Speed   Time    Time     Time  Current\n",
      "                                 Dload  Upload   Total   Spent    Left  Speed\n",
      "100 11233  100 11220  100    13   4723      5  0:00:02  0:00:02 --:--:--  4729\n"
     ]
    },
    {
     "name": "stdout",
     "output_type": "stream",
     "text": [
      "PDB file generated successfully: /Users/jianchengluo/Desktop/CPPs/cpps_natrual/KMDCRWRWKSSKK.pdb\n"
     ]
    },
    {
     "name": "stderr",
     "output_type": "stream",
     "text": [
      "  % Total    % Received % Xferd  Average Speed   Time    Time     Time  Current\n",
      "                                 Dload  Upload   Total   Spent    Left  Speed\n",
      "100 11233  100 11220  100    13   2732      3  0:00:04  0:00:04 --:--:--  2735\n"
     ]
    },
    {
     "name": "stdout",
     "output_type": "stream",
     "text": [
      "PDB file generated successfully: /Users/jianchengluo/Desktop/CPPs/cpps_natrual/KMDSRWRWKSSKK.pdb\n"
     ]
    },
    {
     "name": "stderr",
     "output_type": "stream",
     "text": [
      "  % Total    % Received % Xferd  Average Speed   Time    Time     Time  Current\n",
      "                                 Dload  Upload   Total   Spent    Left  Speed\n",
      "100 11233  100 11220  100    13   4807      5  0:00:02  0:00:02 --:--:--  4812\n"
     ]
    },
    {
     "name": "stdout",
     "output_type": "stream",
     "text": [
      "PDB file generated successfully: /Users/jianchengluo/Desktop/CPPs/cpps_natrual/KMDSRWRWKSCKK.pdb\n"
     ]
    },
    {
     "name": "stderr",
     "output_type": "stream",
     "text": [
      "  % Total    % Received % Xferd  Average Speed   Time    Time     Time  Current\n",
      "                                 Dload  Upload   Total   Spent    Left  Speed\n",
      "100 11233  100 11220  100    13   4831      5  0:00:02  0:00:02 --:--:--  4837\n"
     ]
    },
    {
     "name": "stdout",
     "output_type": "stream",
     "text": [
      "PDB file generated successfully: /Users/jianchengluo/Desktop/CPPs/cpps_natrual/KMDSRWRWKCSKK.pdb\n"
     ]
    },
    {
     "name": "stderr",
     "output_type": "stream",
     "text": [
      "  % Total    % Received % Xferd  Average Speed   Time    Time     Time  Current\n",
      "                                 Dload  Upload   Total   Spent    Left  Speed\n",
      "100 10666  100 10653  100    13   3099      3  0:00:04  0:00:03  0:00:01  3102\n"
     ]
    },
    {
     "name": "stdout",
     "output_type": "stream",
     "text": [
      "PDB file generated successfully: /Users/jianchengluo/Desktop/CPPs/cpps_natrual/KMDCRWRPKCCKK.pdb\n"
     ]
    },
    {
     "name": "stderr",
     "output_type": "stream",
     "text": [
      "  % Total    % Received % Xferd  Average Speed   Time    Time     Time  Current\n",
      "                                 Dload  Upload   Total   Spent    Left  Speed\n",
      "100 10099  100 10086  100    13   4227      5  0:00:02  0:00:02 --:--:--  4234\n"
     ]
    },
    {
     "name": "stdout",
     "output_type": "stream",
     "text": [
      "PDB file generated successfully: /Users/jianchengluo/Desktop/CPPs/cpps_natrual/KMDCRPRPKCCKK.pdb\n"
     ]
    },
    {
     "name": "stderr",
     "output_type": "stream",
     "text": [
      "  % Total    % Received % Xferd  Average Speed   Time    Time     Time  Current\n",
      "                                 Dload  Upload   Total   Spent    Left  Speed\n",
      "100 14314  100 14298  100    16  10938     12  0:00:01  0:00:01 --:--:-- 10951\n"
     ]
    },
    {
     "name": "stdout",
     "output_type": "stream",
     "text": [
      "PDB file generated successfully: /Users/jianchengluo/Desktop/CPPs/cpps_natrual/RQIKIWFQNRRMKWKK.pdb\n"
     ]
    },
    {
     "name": "stderr",
     "output_type": "stream",
     "text": [
      "  % Total    % Received % Xferd  Average Speed   Time    Time     Time  Current\n",
      "                                 Dload  Upload   Total   Spent    Left  Speed\n",
      "100 13990  100 13974  100    16   5989      6  0:00:02  0:00:02 --:--:--  5994\n"
     ]
    },
    {
     "name": "stdout",
     "output_type": "stream",
     "text": [
      "PDB file generated successfully: /Users/jianchengluo/Desktop/CPPs/cpps_natrual/RKKRRRESRKKRRRES.pdb\n"
     ]
    },
    {
     "name": "stderr",
     "output_type": "stream",
     "text": [
      "  % Total    % Received % Xferd  Average Speed   Time    Time     Time  Current\n",
      "                                 Dload  Upload   Total   Spent    Left  Speed\n",
      "100 13262  100 13245  100    17   4962      6  0:00:02  0:00:02 --:--:--  4968\n"
     ]
    },
    {
     "name": "stdout",
     "output_type": "stream",
     "text": [
      "PDB file generated successfully: /Users/jianchengluo/Desktop/CPPs/cpps_natrual/GRPRESGKKRKRKRLKP.pdb\n"
     ]
    },
    {
     "name": "stderr",
     "output_type": "stream",
     "text": [
      "  % Total    % Received % Xferd  Average Speed   Time    Time     Time  Current\n",
      "                                 Dload  Upload   Total   Spent    Left  Speed\n",
      "100 11235  100 11220  100    15   2811      3  0:00:05  0:00:03  0:00:02  2815\n"
     ]
    },
    {
     "name": "stdout",
     "output_type": "stream",
     "text": [
      "PDB file generated successfully: /Users/jianchengluo/Desktop/CPPs/cpps_natrual/GKRKKKGKLGKKRDP.pdb\n"
     ]
    },
    {
     "name": "stderr",
     "output_type": "stream",
     "text": [
      "  % Total    % Received % Xferd  Average Speed   Time    Time     Time  Current\n",
      "                                 Dload  Upload   Total   Spent    Left  Speed\n",
      "100 12857  100 12840  100    17   5297      7  0:00:02  0:00:02 --:--:--  5304\n"
     ]
    },
    {
     "name": "stdout",
     "output_type": "stream",
     "text": [
      "PDB file generated successfully: /Users/jianchengluo/Desktop/CPPs/cpps_natrual/GKRKKKGKLGKKRPRSR.pdb\n"
     ]
    },
    {
     "name": "stderr",
     "output_type": "stream",
     "text": [
      "  % Total    % Received % Xferd  Average Speed   Time    Time     Time  Current\n",
      "                                 Dload  Upload   Total   Spent    Left  Speed\n",
      "100 15126  100 15108  100    18   4308      5  0:00:03  0:00:03 --:--:--  4314\n"
     ]
    },
    {
     "name": "stdout",
     "output_type": "stream",
     "text": [
      "PDB file generated successfully: /Users/jianchengluo/Desktop/CPPs/cpps_natrual/RKKRRRESRRARRSPRHL.pdb\n"
     ]
    },
    {
     "name": "stderr",
     "output_type": "stream",
     "text": [
      "  % Total    % Received % Xferd  Average Speed   Time    Time     Time  Current\n",
      "                                 Dload  Upload   Total   Spent    Left  Speed\n",
      "100 15046  100 15027  100    19   3772      4  0:00:04  0:00:03  0:00:01  3777\n"
     ]
    },
    {
     "name": "stdout",
     "output_type": "stream",
     "text": [
      "PDB file generated successfully: /Users/jianchengluo/Desktop/CPPs/cpps_natrual/SRRARRSPRESGKKRKRKR.pdb\n"
     ]
    },
    {
     "name": "stderr",
     "output_type": "stream",
     "text": [
      "  % Total    % Received % Xferd  Average Speed   Time    Time     Time  Current\n",
      "                                 Dload  Upload   Total   Spent    Left  Speed\n",
      "100 14560  100 14541  100    19   5385      7  0:00:02  0:00:02 --:--:--  5392\n"
     ]
    },
    {
     "name": "stdout",
     "output_type": "stream",
     "text": [
      "PDB file generated successfully: /Users/jianchengluo/Desktop/CPPs/cpps_natrual/VKRGLKLRHVRPRVTRMDV.pdb\n"
     ]
    },
    {
     "name": "stderr",
     "output_type": "stream",
     "text": [
      "  % Total    % Received % Xferd  Average Speed   Time    Time     Time  Current\n",
      "                                 Dload  Upload   Total   Spent    Left  Speed\n",
      "100 10505  100 10491  100    14   4538      6  0:00:02  0:00:02 --:--:--  4545\n"
     ]
    },
    {
     "name": "stdout",
     "output_type": "stream",
     "text": [
      "PDB file generated successfully: /Users/jianchengluo/Desktop/CPPs/cpps_natrual/SRRARRSPRHLGSG.pdb\n"
     ]
    },
    {
     "name": "stderr",
     "output_type": "stream",
     "text": [
      "  % Total    % Received % Xferd  Average Speed   Time    Time     Time  Current\n",
      "                                 Dload  Upload   Total   Spent    Left  Speed\n",
      "100 13828  100 13812  100    16   3542      4  0:00:04  0:00:03  0:00:01  3546\n"
     ]
    },
    {
     "name": "stdout",
     "output_type": "stream",
     "text": [
      "PDB file generated successfully: /Users/jianchengluo/Desktop/CPPs/cpps_natrual/LRRERQSRLRRERQSR.pdb\n"
     ]
    },
    {
     "name": "stderr",
     "output_type": "stream",
     "text": [
      "  % Total    % Received % Xferd  Average Speed   Time    Time     Time  Current\n",
      "                                 Dload  Upload   Total   Spent    Left  Speed\n",
      "100 17965  100 17943  100    22   6665      8  0:00:02  0:00:02 --:--:--  6673\n"
     ]
    },
    {
     "name": "stdout",
     "output_type": "stream",
     "text": [
      "PDB file generated successfully: /Users/jianchengluo/Desktop/CPPs/cpps_natrual/GAYDLRRRERQSRLRRRERQSR.pdb\n"
     ]
    },
    {
     "name": "stderr",
     "output_type": "stream",
     "text": [
      "  % Total    % Received % Xferd  Average Speed   Time    Time     Time  Current\n",
      "                                 Dload  Upload   Total   Spent    Left  Speed\n",
      "100 11233  100 11220  100    13  10795     12  0:00:01  0:00:01 --:--:-- 10811\n"
     ]
    },
    {
     "name": "stdout",
     "output_type": "stream",
     "text": [
      "PDB file generated successfully: /Users/jianchengluo/Desktop/CPPs/cpps_natrual/GRKKRRQRRRPPQ.pdb\n"
     ]
    },
    {
     "name": "stderr",
     "output_type": "stream",
     "text": [
      "  % Total    % Received % Xferd  Average Speed   Time    Time     Time  Current\n",
      "                                 Dload  Upload   Total   Spent    Left  Speed\n",
      "100  4664  100  4659  100     5   2020      2  0:00:02  0:00:02 --:--:--  2021\n"
     ]
    },
    {
     "name": "stdout",
     "output_type": "stream",
     "text": [
      "PDB file generated successfully: /Users/jianchengluo/Desktop/CPPs/cpps_natrual/VPMLK.pdb\n"
     ]
    },
    {
     "name": "stderr",
     "output_type": "stream",
     "text": [
      "  % Total    % Received % Xferd  Average Speed   Time    Time     Time  Current\n",
      "                                 Dload  Upload   Total   Spent    Left  Speed\n",
      "100  4583  100  4578  100     5   1322      1  0:00:05  0:00:03  0:00:02  1323\n"
     ]
    },
    {
     "name": "stdout",
     "output_type": "stream",
     "text": [
      "PDB file generated successfully: /Users/jianchengluo/Desktop/CPPs/cpps_natrual/VPTLK.pdb\n"
     ]
    },
    {
     "name": "stderr",
     "output_type": "stream",
     "text": [
      "  % Total    % Received % Xferd  Average Speed   Time    Time     Time  Current\n",
      "                                 Dload  Upload   Total   Spent    Left  Speed\n",
      "100  4583  100  4578  100     5   1677      1  0:00:05  0:00:02  0:00:03  1678\n"
     ]
    },
    {
     "name": "stdout",
     "output_type": "stream",
     "text": [
      "PDB file generated successfully: /Users/jianchengluo/Desktop/CPPs/cpps_natrual/VPALR.pdb\n"
     ]
    },
    {
     "name": "stderr",
     "output_type": "stream",
     "text": [
      "  % Total    % Received % Xferd  Average Speed   Time    Time     Time  Current\n",
      "                                 Dload  Upload   Total   Spent    Left  Speed\n",
      "100  4340  100  4335  100     5   1898      2  0:00:02  0:00:02 --:--:--  1901\n"
     ]
    },
    {
     "name": "stdout",
     "output_type": "stream",
     "text": [
      "PDB file generated successfully: /Users/jianchengluo/Desktop/CPPs/cpps_natrual/VSALK.pdb\n"
     ]
    },
    {
     "name": "stderr",
     "output_type": "stream",
     "text": [
      "  % Total    % Received % Xferd  Average Speed   Time    Time     Time  Current\n",
      "                                 Dload  Upload   Total   Spent    Left  Speed\n",
      "100  4826  100  4821  100     5   2106      2  0:00:02  0:00:02 --:--:--  2109\n"
     ]
    },
    {
     "name": "stdout",
     "output_type": "stream",
     "text": [
      "PDB file generated successfully: /Users/jianchengluo/Desktop/CPPs/cpps_natrual/PMLKE.pdb\n"
     ]
    },
    {
     "name": "stderr",
     "output_type": "stream",
     "text": [
      "  % Total    % Received % Xferd  Average Speed   Time    Time     Time  Current\n",
      "                                 Dload  Upload   Total   Spent    Left  Speed\n",
      "100  4421  100  4416  100     5   1960      2  0:00:02  0:00:02 --:--:--  1962\n"
     ]
    },
    {
     "name": "stdout",
     "output_type": "stream",
     "text": [
      "PDB file generated successfully: /Users/jianchengluo/Desktop/CPPs/cpps_natrual/VPALK.pdb\n"
     ]
    },
    {
     "name": "stderr",
     "output_type": "stream",
     "text": [
      "  % Total    % Received % Xferd  Average Speed   Time    Time     Time  Current\n",
      "                                 Dload  Upload   Total   Spent    Left  Speed\n",
      "100  4664  100  4659  100     5   2005      2  0:00:02  0:00:02 --:--:--  2008\n"
     ]
    },
    {
     "name": "stdout",
     "output_type": "stream",
     "text": [
      "PDB file generated successfully: /Users/jianchengluo/Desktop/CPPs/cpps_natrual/VSLKK.pdb\n"
     ]
    },
    {
     "name": "stderr",
     "output_type": "stream",
     "text": [
      "  % Total    % Received % Xferd  Average Speed   Time    Time     Time  Current\n",
      "                                 Dload  Upload   Total   Spent    Left  Speed\n",
      "100  4340  100  4335  100     5   1903      2  0:00:02  0:00:02 --:--:--  1906\n"
     ]
    },
    {
     "name": "stdout",
     "output_type": "stream",
     "text": [
      "PDB file generated successfully: /Users/jianchengluo/Desktop/CPPs/cpps_natrual/VSGKK.pdb\n"
     ]
    },
    {
     "name": "stderr",
     "output_type": "stream",
     "text": [
      "  % Total    % Received % Xferd  Average Speed   Time    Time     Time  Current\n",
      "                                 Dload  Upload   Total   Spent    Left  Speed\n",
      "100  4664  100  4659  100     5   4478      4  0:00:01  0:00:01 --:--:--  4484\n"
     ]
    },
    {
     "name": "stdout",
     "output_type": "stream",
     "text": [
      "PDB file generated successfully: /Users/jianchengluo/Desktop/CPPs/cpps_natrual/KLPVM.pdb\n"
     ]
    },
    {
     "name": "stderr",
     "output_type": "stream",
     "text": [
      "  % Total    % Received % Xferd  Average Speed   Time    Time     Time  Current\n",
      "                                 Dload  Upload   Total   Spent    Left  Speed\n",
      "100  4745  100  4740  100     5   2002      2  0:00:02  0:00:02 --:--:--  2004\n"
     ]
    },
    {
     "name": "stdout",
     "output_type": "stream",
     "text": [
      "PDB file generated successfully: /Users/jianchengluo/Desktop/CPPs/cpps_natrual/IPMIK.pdb\n"
     ]
    },
    {
     "name": "stderr",
     "output_type": "stream",
     "text": [
      "  % Total    % Received % Xferd  Average Speed   Time    Time     Time  Current\n",
      "                                 Dload  Upload   Total   Spent    Left  Speed\n",
      "100  4421  100  4416  100     5   1624      1  0:00:05  0:00:02  0:00:03  1625\n"
     ]
    },
    {
     "name": "stdout",
     "output_type": "stream",
     "text": [
      "PDB file generated successfully: /Users/jianchengluo/Desktop/CPPs/cpps_natrual/KLGVM.pdb\n"
     ]
    },
    {
     "name": "stderr",
     "output_type": "stream",
     "text": [
      "  % Total    % Received % Xferd  Average Speed   Time    Time     Time  Current\n",
      "                                 Dload  Upload   Total   Spent    Left  Speed\n",
      "100  4583  100  4578  100     5   1214      1  0:00:05  0:00:03  0:00:02  1216\n"
     ]
    },
    {
     "name": "stdout",
     "output_type": "stream",
     "text": [
      "PDB file generated successfully: /Users/jianchengluo/Desktop/CPPs/cpps_natrual/KLPVT.pdb\n"
     ]
    },
    {
     "name": "stderr",
     "output_type": "stream",
     "text": [
      "  % Total    % Received % Xferd  Average Speed   Time    Time     Time  Current\n",
      "                                 Dload  Upload   Total   Spent    Left  Speed\n",
      "100  4664  100  4659  100     5   1951      2  0:00:02  0:00:02 --:--:--  1953\n"
     ]
    },
    {
     "name": "stdout",
     "output_type": "stream",
     "text": [
      "PDB file generated successfully: /Users/jianchengluo/Desktop/CPPs/cpps_natrual/VPMIK.pdb\n"
     ]
    },
    {
     "name": "stderr",
     "output_type": "stream",
     "text": [
      "  % Total    % Received % Xferd  Average Speed   Time    Time     Time  Current\n",
      "                                 Dload  Upload   Total   Spent    Left  Speed\n",
      "100  4502  100  4497  100     5   1979      2  0:00:02  0:00:02 --:--:--  1982\n"
     ]
    },
    {
     "name": "stdout",
     "output_type": "stream",
     "text": [
      "PDB file generated successfully: /Users/jianchengluo/Desktop/CPPs/cpps_natrual/IPALK.pdb\n"
     ]
    },
    {
     "name": "stderr",
     "output_type": "stream",
     "text": [
      "  % Total    % Received % Xferd  Average Speed   Time    Time     Time  Current\n",
      "                                 Dload  Upload   Total   Spent    Left  Speed\n",
      "100  4745  100  4740  100     5   2065      2  0:00:02  0:00:02 --:--:--  2068\n"
     ]
    },
    {
     "name": "stdout",
     "output_type": "stream",
     "text": [
      "PDB file generated successfully: /Users/jianchengluo/Desktop/CPPs/cpps_natrual/IPMLK.pdb\n"
     ]
    },
    {
     "name": "stderr",
     "output_type": "stream",
     "text": [
      "  % Total    % Received % Xferd  Average Speed   Time    Time     Time  Current\n",
      "                                 Dload  Upload   Total   Spent    Left  Speed\n",
      "100  4583  100  4578  100     5   1545      1  0:00:05  0:00:02  0:00:03  1546\n"
     ]
    },
    {
     "name": "stdout",
     "output_type": "stream",
     "text": [
      "PDB file generated successfully: /Users/jianchengluo/Desktop/CPPs/cpps_natrual/VPTLQ.pdb\n"
     ]
    },
    {
     "name": "stderr",
     "output_type": "stream",
     "text": [
      "  % Total    % Received % Xferd  Average Speed   Time    Time     Time  Current\n",
      "                                 Dload  Upload   Total   Spent    Left  Speed\n",
      "100  4664  100  4659  100     5   2023      2  0:00:02  0:00:02 --:--:--  2025\n"
     ]
    },
    {
     "name": "stdout",
     "output_type": "stream",
     "text": [
      "PDB file generated successfully: /Users/jianchengluo/Desktop/CPPs/cpps_natrual/QLPVM.pdb\n"
     ]
    },
    {
     "name": "stderr",
     "output_type": "stream",
     "text": [
      "  % Total    % Received % Xferd  Average Speed   Time    Time     Time  Current\n",
      "                                 Dload  Upload   Total   Spent    Left  Speed\n",
      "100  4664  100  4659  100     5   2040      2  0:00:02  0:00:02 --:--:--  2042\n"
     ]
    },
    {
     "name": "stdout",
     "output_type": "stream",
     "text": [
      "PDB file generated successfully: /Users/jianchengluo/Desktop/CPPs/cpps_natrual/ELPVM.pdb\n"
     ]
    },
    {
     "name": "stderr",
     "output_type": "stream",
     "text": [
      "  % Total    % Received % Xferd  Average Speed   Time    Time     Time  Current\n",
      "                                 Dload  Upload   Total   Spent    Left  Speed\n",
      "100  4583  100  4578  100     5   1972      2  0:00:02  0:00:02 --:--:--  1975\n"
     ]
    },
    {
     "name": "stdout",
     "output_type": "stream",
     "text": [
      "PDB file generated successfully: /Users/jianchengluo/Desktop/CPPs/cpps_natrual/VPTLE.pdb\n"
     ]
    },
    {
     "name": "stderr",
     "output_type": "stream",
     "text": [
      "  % Total    % Received % Xferd  Average Speed   Time    Time     Time  Current\n",
      "                                 Dload  Upload   Total   Spent    Left  Speed\n",
      "100  8636  100  8628  100     8   7630      7  0:00:01  0:00:01 --:--:--  7642\n"
     ]
    },
    {
     "name": "stdout",
     "output_type": "stream",
     "text": [
      "PDB file generated successfully: /Users/jianchengluo/Desktop/CPPs/cpps_natrual/RRRRRRRR.pdb\n"
     ]
    },
    {
     "name": "stderr",
     "output_type": "stream",
     "text": [
      "  % Total    % Received % Xferd  Average Speed   Time    Time     Time  Current\n",
      "                                 Dload  Upload   Total   Spent    Left  Speed\n",
      "100 16991  100 16971  100    20   6203      7  0:00:02  0:00:02 --:--:--  6212\n"
     ]
    },
    {
     "name": "stdout",
     "output_type": "stream",
     "text": [
      "PDB file generated successfully: /Users/jianchengluo/Desktop/CPPs/cpps_natrual/AYRIKPTFRRLKWKYKGKFW.pdb\n"
     ]
    },
    {
     "name": "stderr",
     "output_type": "stream",
     "text": [
      "  % Total    % Received % Xferd  Average Speed   Time    Time     Time  Current\n",
      "                                 Dload  Upload   Total   Spent    Left  Speed\n",
      "100 16829  100 16809  100    20   6363      7  0:00:02  0:00:02 --:--:--  6369\n"
     ]
    },
    {
     "name": "stdout",
     "output_type": "stream",
     "text": [
      "PDB file generated successfully: /Users/jianchengluo/Desktop/CPPs/cpps_natrual/HARIKPTFRRLKWKYKGKFW.pdb\n"
     ]
    },
    {
     "name": "stderr",
     "output_type": "stream",
     "text": [
      "  % Total    % Received % Xferd  Average Speed   Time    Time     Time  Current\n",
      "                                 Dload  Upload   Total   Spent    Left  Speed\n",
      "100 16910  100 16890  100    20   6486      7  0:00:02  0:00:02 --:--:--  6493\n"
     ]
    },
    {
     "name": "stdout",
     "output_type": "stream",
     "text": [
      "PDB file generated successfully: /Users/jianchengluo/Desktop/CPPs/cpps_natrual/HYRIKPTARRLKWKYKGKFW.pdb\n"
     ]
    },
    {
     "name": "stderr",
     "output_type": "stream",
     "text": [
      "  % Total    % Received % Xferd  Average Speed   Time    Time     Time  Current\n",
      "                                 Dload  Upload   Total   Spent    Left  Speed\n",
      "100 17072  100 17052  100    20   5310      6  0:00:03  0:00:03 --:--:--  5318\n"
     ]
    },
    {
     "name": "stdout",
     "output_type": "stream",
     "text": [
      "PDB file generated successfully: /Users/jianchengluo/Desktop/CPPs/cpps_natrual/HYRIKPTFRRLAWKYKGKFW.pdb\n"
     ]
    },
    {
     "name": "stderr",
     "output_type": "stream",
     "text": [
      "  % Total    % Received % Xferd  Average Speed   Time    Time     Time  Current\n",
      "                                 Dload  Upload   Total   Spent    Left  Speed\n",
      "100 16667  100 16647  100    20   3990      4  0:00:05  0:00:04  0:00:01  3995\n"
     ]
    },
    {
     "name": "stdout",
     "output_type": "stream",
     "text": [
      "PDB file generated successfully: /Users/jianchengluo/Desktop/CPPs/cpps_natrual/HYRIKPTFRRLKWKYKGKFA.pdb\n"
     ]
    },
    {
     "name": "stderr",
     "output_type": "stream",
     "text": [
      "  % Total    % Received % Xferd  Average Speed   Time    Time     Time  Current\n",
      "                                 Dload  Upload   Total   Spent    Left  Speed\n",
      "100 13914  100 13893  100    21   5870      8  0:00:02  0:00:02 --:--:--  5878\n"
     ]
    },
    {
     "name": "stdout",
     "output_type": "stream",
     "text": [
      "PDB file generated successfully: /Users/jianchengluo/Desktop/CPPs/cpps_natrual/VNADIKATTVFGGKYVSLTTP.pdb\n"
     ]
    },
    {
     "name": "stderr",
     "output_type": "stream",
     "text": [
      "  % Total    % Received % Xferd  Average Speed   Time    Time     Time  Current\n",
      "                                 Dload  Upload   Total   Spent    Left  Speed\n",
      "100 15697  100 15675  100    22   5618      7  0:00:03  0:00:02  0:00:01  5628\n"
     ]
    },
    {
     "name": "stdout",
     "output_type": "stream",
     "text": [
      "PDB file generated successfully: /Users/jianchengluo/Desktop/CPPs/cpps_natrual/GKYVSLTTPKNPTKRRITPKDV.pdb\n"
     ]
    },
    {
     "name": "stderr",
     "output_type": "stream",
     "text": [
      "  % Total    % Received % Xferd  Average Speed   Time    Time     Time  Current\n",
      "                                 Dload  Upload   Total   Spent    Left  Speed\n",
      "100 15859  100 15837  100    22   3110      4  0:00:05  0:00:05 --:--:--  3450\n"
     ]
    },
    {
     "name": "stdout",
     "output_type": "stream",
     "text": [
      "PDB file generated successfully: /Users/jianchengluo/Desktop/CPPs/cpps_natrual/TKRRITPKDVIDVRSVTTEINT.pdb\n"
     ]
    },
    {
     "name": "stderr",
     "output_type": "stream",
     "text": [
      "  % Total    % Received % Xferd  Average Speed   Time    Time     Time  Current\n",
      "                                 Dload  Upload   Total   Spent    Left  Speed\n",
      "100 16022  100 15999  100    23   5813      8  0:00:02  0:00:02 --:--:--  5821\n"
     ]
    },
    {
     "name": "stdout",
     "output_type": "stream",
     "text": [
      "PDB file generated successfully: /Users/jianchengluo/Desktop/CPPs/cpps_natrual/RSVTTEINTLFQTLTSIAEKVDP.pdb\n"
     ]
    },
    {
     "name": "stderr",
     "output_type": "stream",
     "text": [
      "  % Total    % Received % Xferd  Average Speed   Time    Time     Time  Current\n",
      "                                 Dload  Upload   Total   Spent    Left  Speed\n",
      "100 16349  100 16323  100    26   6256      9  0:00:02  0:00:02 --:--:--  6266\n"
     ]
    },
    {
     "name": "stdout",
     "output_type": "stream",
     "text": [
      "PDB file generated successfully: /Users/jianchengluo/Desktop/CPPs/cpps_natrual/AEKVDPVKLNLTLSAAAEALTGLGDK.pdb\n"
     ]
    },
    {
     "name": "stderr",
     "output_type": "stream",
     "text": [
      "  % Total    % Received % Xferd  Average Speed   Time    Time     Time  Current\n",
      "                                 Dload  Upload   Total   Spent    Left  Speed\n",
      "100 22837  100 22803  100    34   8892     13  0:00:02  0:00:02 --:--:--  8903\n"
     ]
    },
    {
     "name": "stdout",
     "output_type": "stream",
     "text": [
      "PDB file generated successfully: /Users/jianchengluo/Desktop/CPPs/cpps_natrual/GLGDKFGESIVNANTVLDDLNSRMPQSRHDIQQL.pdb\n"
     ]
    },
    {
     "name": "stderr",
     "output_type": "stream",
     "text": [
      "  % Total    % Received % Xferd  Average Speed   Time    Time     Time  Current\n",
      "                                 Dload  Upload   Total   Spent    Left  Speed\n",
      "100 17727  100 17700  100    27   6512      9  0:00:03  0:00:02  0:00:01  6524\n"
     ]
    },
    {
     "name": "stdout",
     "output_type": "stream",
     "text": [
      "PDB file generated successfully: /Users/jianchengluo/Desktop/CPPs/cpps_natrual/GDVYADAAPDLFDFLDSSVTTARTINA.pdb\n"
     ]
    },
    {
     "name": "stderr",
     "output_type": "stream",
     "text": [
      "  % Total    % Received % Xferd  Average Speed   Time    Time     Time  Current\n",
      "                                 Dload  Upload   Total   Spent    Left  Speed\n",
      "100 20081  100 20049  100    32   7341     11  0:00:02  0:00:02 --:--:--  7352\n"
     ]
    },
    {
     "name": "stdout",
     "output_type": "stream",
     "text": [
      "PDB file generated successfully: /Users/jianchengluo/Desktop/CPPs/cpps_natrual/ARTINAQQAELDSALLAAAGFGNTTADVFDRG.pdb\n"
     ]
    },
    {
     "name": "stderr",
     "output_type": "stream",
     "text": [
      "  % Total    % Received % Xferd  Average Speed   Time    Time     Time  Current\n",
      "                                 Dload  Upload   Total   Spent    Left  Speed\n",
      "100 19836  100 19806  100    30   4742      7  0:00:04  0:00:04 --:--:--  4751\n"
     ]
    },
    {
     "name": "stdout",
     "output_type": "stream",
     "text": [
      "PDB file generated successfully: /Users/jianchengluo/Desktop/CPPs/cpps_natrual/ADVFDRGGPYLQRGVADLVPTATLLDTYSP.pdb\n"
     ]
    },
    {
     "name": "stderr",
     "output_type": "stream",
     "text": [
      "  % Total    % Received % Xferd  Average Speed   Time    Time     Time  Current\n",
      "                                 Dload  Upload   Total   Spent    Left  Speed\n",
      "100 19023  100 18996  100    27   7016      9  0:00:03  0:00:02  0:00:01  7024\n"
     ]
    },
    {
     "name": "stdout",
     "output_type": "stream",
     "text": [
      "PDB file generated successfully: /Users/jianchengluo/Desktop/CPPs/cpps_natrual/LDTYSPELFCTIRNFYDADRPDRGAAA.pdb\n"
     ]
    },
    {
     "name": "stderr",
     "output_type": "stream",
     "text": [
      "  % Total    % Received % Xferd  Average Speed   Time    Time     Time  Current\n",
      "                                 Dload  Upload   Total   Spent    Left  Speed\n",
      "100 15859  100 15837  100    22  12182     16  0:00:01  0:00:01 --:--:-- 12208\n"
     ]
    },
    {
     "name": "stdout",
     "output_type": "stream",
     "text": [
      "PDB file generated successfully: /Users/jianchengluo/Desktop/CPPs/cpps_natrual/TKRRITPKDVIDVRSVTTEINT.pdb\n"
     ]
    },
    {
     "name": "stderr",
     "output_type": "stream",
     "text": [
      "  % Total    % Received % Xferd  Average Speed   Time    Time     Time  Current\n",
      "                                 Dload  Upload   Total   Spent    Left  Speed\n",
      "100 15778  100 15756  100    22   2830      3  0:00:07  0:00:05  0:00:02  4438\n"
     ]
    },
    {
     "name": "stdout",
     "output_type": "stream",
     "text": [
      "PDB file generated successfully: /Users/jianchengluo/Desktop/CPPs/cpps_natrual/TKRRITPDDVIDVRSVTTEINT.pdb\n"
     ]
    },
    {
     "name": "stderr",
     "output_type": "stream",
     "text": [
      "  % Total    % Received % Xferd  Average Speed   Time    Time     Time  Current\n",
      "                                 Dload  Upload   Total   Spent    Left  Speed\n",
      "100 15940  100 15918  100    22   6035      8  0:00:02  0:00:02 --:--:--  6042\n"
     ]
    },
    {
     "name": "stdout",
     "output_type": "stream",
     "text": [
      "PDB file generated successfully: /Users/jianchengluo/Desktop/CPPs/cpps_natrual/TKRRITPKKVIDVRSVTTEINT.pdb\n"
     ]
    },
    {
     "name": "stderr",
     "output_type": "stream",
     "text": [
      "  % Total    % Received % Xferd  Average Speed   Time    Time     Time  Current\n",
      "                                 Dload  Upload   Total   Spent    Left  Speed\n",
      "100 15859  100 15837  100    22   5686      7  0:00:03  0:00:02  0:00:01  5696\n"
     ]
    },
    {
     "name": "stdout",
     "output_type": "stream",
     "text": [
      "PDB file generated successfully: /Users/jianchengluo/Desktop/CPPs/cpps_natrual/TKRRITPKDVIDVRSVTTKINT.pdb\n"
     ]
    },
    {
     "name": "stderr",
     "output_type": "stream",
     "text": [
      "  % Total    % Received % Xferd  Average Speed   Time    Time     Time  Current\n",
      "                                 Dload  Upload   Total   Spent    Left  Speed\n",
      "100 10180  100 10167  100    13   4338      5  0:00:02  0:00:02 --:--:--  4343\n"
     ]
    },
    {
     "name": "stdout",
     "output_type": "stream",
     "text": [
      "PDB file generated successfully: /Users/jianchengluo/Desktop/CPPs/cpps_natrual/TKRRITPKDVIDV.pdb\n"
     ]
    },
    {
     "name": "stderr",
     "output_type": "stream",
     "text": [
      "  % Total    % Received % Xferd  Average Speed   Time    Time     Time  Current\n",
      "                                 Dload  Upload   Total   Spent    Left  Speed\n",
      "100 15697  100 15675  100    22   6105      8  0:00:02  0:00:02 --:--:--  6114\n"
     ]
    },
    {
     "name": "stdout",
     "output_type": "stream",
     "text": [
      "PDB file generated successfully: /Users/jianchengluo/Desktop/CPPs/cpps_natrual/TKRRITPKDVIDVESVTTEINT.pdb\n"
     ]
    },
    {
     "name": "stderr",
     "output_type": "stream",
     "text": [
      "  % Total    % Received % Xferd  Average Speed   Time    Time     Time  Current\n",
      "                                 Dload  Upload   Total   Spent    Left  Speed\n",
      "100 15535  100 15513  100    22   4634      6  0:00:03  0:00:03 --:--:--  4640\n"
     ]
    },
    {
     "name": "stdout",
     "output_type": "stream",
     "text": [
      "PDB file generated successfully: /Users/jianchengluo/Desktop/CPPs/cpps_natrual/TARRITPKDVIDVRSVTTEINT.pdb\n"
     ]
    },
    {
     "name": "stderr",
     "output_type": "stream",
     "text": [
      "  % Total    % Received % Xferd  Average Speed   Time    Time     Time  Current\n",
      "                                 Dload  Upload   Total   Spent    Left  Speed\n",
      "100 15779  100 15756  100    23   5531      8  0:00:02  0:00:02 --:--:--  5538\n"
     ]
    },
    {
     "name": "stdout",
     "output_type": "stream",
     "text": [
      "PDB file generated successfully: /Users/jianchengluo/Desktop/CPPs/cpps_natrual/TKAARITPKDVIDVRSVTTEINT.pdb\n"
     ]
    },
    {
     "name": "stderr",
     "output_type": "stream",
     "text": [
      "  % Total    % Received % Xferd  Average Speed   Time    Time     Time  Current\n",
      "                                 Dload  Upload   Total   Spent    Left  Speed\n",
      "100 20725  100 20697  100    28   7763     10  0:00:02  0:00:02 --:--:--  7776\n"
     ]
    },
    {
     "name": "stdout",
     "output_type": "stream",
     "text": [
      "PDB file generated successfully: /Users/jianchengluo/Desktop/CPPs/cpps_natrual/HHHHHHTKRRITPKDVIDVRSVTTEINT.pdb\n"
     ]
    },
    {
     "name": "stderr",
     "output_type": "stream",
     "text": [
      "  % Total    % Received % Xferd  Average Speed   Time    Time     Time  Current\n",
      "                                 Dload  Upload   Total   Spent    Left  Speed\n",
      "100 12936  100 12921  100    15   5105      5  0:00:03  0:00:02  0:00:01  5111\n"
     ]
    },
    {
     "name": "stdout",
     "output_type": "stream",
     "text": [
      "PDB file generated successfully: /Users/jianchengluo/Desktop/CPPs/cpps_natrual/KLWMRWYSPTTRRYG.pdb\n"
     ]
    },
    {
     "name": "stderr",
     "output_type": "stream",
     "text": [
      "  % Total    % Received % Xferd  Average Speed   Time    Time     Time  Current\n",
      "                                 Dload  Upload   Total   Spent    Left  Speed\n",
      "100 13098  100 13083  100    15  10427     11  0:00:01  0:00:01 --:--:-- 10444\n"
     ]
    },
    {
     "name": "stdout",
     "output_type": "stream",
     "text": [
      "PDB file generated successfully: /Users/jianchengluo/Desktop/CPPs/cpps_natrual/DSLKSYWYLQKFSWR.pdb\n"
     ]
    },
    {
     "name": "stderr",
     "output_type": "stream",
     "text": [
      "  % Total    % Received % Xferd  Average Speed   Time    Time     Time  Current\n",
      "                                 Dload  Upload   Total   Spent    Left  Speed\n",
      "100 11964  100 11949  100    15   5190      6  0:00:02  0:00:02 --:--:--  5197\n"
     ]
    },
    {
     "name": "stdout",
     "output_type": "stream",
     "text": [
      "PDB file generated successfully: /Users/jianchengluo/Desktop/CPPs/cpps_natrual/RTLVNEYKNTLKFSK.pdb\n"
     ]
    },
    {
     "name": "stderr",
     "output_type": "stream",
     "text": [
      "  % Total    % Received % Xferd  Average Speed   Time    Time     Time  Current\n",
      "                                 Dload  Upload   Total   Spent    Left  Speed\n",
      "100 13908  100 13893  100    15   6026      6  0:00:02  0:00:02 --:--:--  6033\n"
     ]
    },
    {
     "name": "stdout",
     "output_type": "stream",
     "text": [
      "PDB file generated successfully: /Users/jianchengluo/Desktop/CPPs/cpps_natrual/IPSRWKDQFWKRWHY.pdb\n"
     ]
    },
    {
     "name": "stderr",
     "output_type": "stream",
     "text": [
      "  % Total    % Received % Xferd  Average Speed   Time    Time     Time  Current\n",
      "                                 Dload  Upload   Total   Spent    Left  Speed\n",
      "100 12045  100 12030  100    15   3595      4  0:00:03  0:00:03 --:--:--  3599\n"
     ]
    },
    {
     "name": "stdout",
     "output_type": "stream",
     "text": [
      "PDB file generated successfully: /Users/jianchengluo/Desktop/CPPs/cpps_natrual/GYGNCRHFKQKPRRD.pdb\n"
     ]
    },
    {
     "name": "stderr",
     "output_type": "stream",
     "text": [
      "  % Total    % Received % Xferd  Average Speed   Time    Time     Time  Current\n",
      "                                 Dload  Upload   Total   Spent    Left  Speed\n",
      "100 12126  100 12111  100    15   5163      6  0:00:02  0:00:02 --:--:--  5168\n"
     ]
    },
    {
     "name": "stdout",
     "output_type": "stream",
     "text": [
      "PDB file generated successfully: /Users/jianchengluo/Desktop/CPPs/cpps_natrual/KNAWKHSSCHHRHQI.pdb\n"
     ]
    },
    {
     "name": "stderr",
     "output_type": "stream",
     "text": [
      "  % Total    % Received % Xferd  Average Speed   Time    Time     Time  Current\n",
      "                                 Dload  Upload   Total   Spent    Left  Speed\n",
      "100 12936  100 12921  100    15   5627      6  0:00:02  0:00:02 --:--:--  5636\n"
     ]
    },
    {
     "name": "stdout",
     "output_type": "stream",
     "text": [
      "PDB file generated successfully: /Users/jianchengluo/Desktop/CPPs/cpps_natrual/RVREWWYTITLKQES.pdb\n"
     ]
    },
    {
     "name": "stderr",
     "output_type": "stream",
     "text": [
      "  % Total    % Received % Xferd  Average Speed   Time    Time     Time  Current\n",
      "                                 Dload  Upload   Total   Spent    Left  Speed\n",
      "100 11802  100 11787  100    15   5108      6  0:00:02  0:00:02 --:--:--  5115\n"
     ]
    },
    {
     "name": "stdout",
     "output_type": "stream",
     "text": [
      "PDB file generated successfully: /Users/jianchengluo/Desktop/CPPs/cpps_natrual/QQHLLIAINGYPRYN.pdb\n"
     ]
    },
    {
     "name": "stderr",
     "output_type": "stream",
     "text": [
      "  % Total    % Received % Xferd  Average Speed   Time    Time     Time  Current\n",
      "                                 Dload  Upload   Total   Spent    Left  Speed\n",
      "100 13260  100 13245  100    15  10257     11  0:00:01  0:00:01 --:--:-- 10263\n"
     ]
    },
    {
     "name": "stdout",
     "output_type": "stream",
     "text": [
      "PDB file generated successfully: /Users/jianchengluo/Desktop/CPPs/cpps_natrual/WKCRRQCFRVLHHWN.pdb\n"
     ]
    },
    {
     "name": "stderr",
     "output_type": "stream",
     "text": [
      "  % Total    % Received % Xferd  Average Speed   Time    Time     Time  Current\n",
      "                                 Dload  Upload   Total   Spent    Left  Speed\n",
      "100 13098  100 13083  100    15   5623      6  0:00:02  0:00:02 --:--:--  5631\n"
     ]
    },
    {
     "name": "stdout",
     "output_type": "stream",
     "text": [
      "PDB file generated successfully: /Users/jianchengluo/Desktop/CPPs/cpps_natrual/RLWMRWYSPTTRRYG.pdb\n"
     ]
    },
    {
     "name": "stderr",
     "output_type": "stream",
     "text": [
      "  % Total    % Received % Xferd  Average Speed   Time    Time     Time  Current\n",
      "                                 Dload  Upload   Total   Spent    Left  Speed\n",
      "100 12774  100 12759  100    15   5596      6  0:00:02  0:00:02 --:--:--  5605\n"
     ]
    },
    {
     "name": "stdout",
     "output_type": "stream",
     "text": [
      "PDB file generated successfully: /Users/jianchengluo/Desktop/CPPs/cpps_natrual/KLWMRWYSATTRRYG.pdb\n"
     ]
    },
    {
     "name": "stderr",
     "output_type": "stream",
     "text": [
      "  % Total    % Received % Xferd  Average Speed   Time    Time     Time  Current\n",
      "                                 Dload  Upload   Total   Spent    Left  Speed\n",
      "100 13503  100 13488  100    15   4448      4  0:00:03  0:00:03 --:--:--  4454\n"
     ]
    },
    {
     "name": "stdout",
     "output_type": "stream",
     "text": [
      "PDB file generated successfully: /Users/jianchengluo/Desktop/CPPs/cpps_natrual/KLWMRWYSPWTRRYG.pdb\n"
     ]
    },
    {
     "name": "stderr",
     "output_type": "stream",
     "text": [
      "  % Total    % Received % Xferd  Average Speed   Time    Time     Time  Current\n",
      "                                 Dload  Upload   Total   Spent    Left  Speed\n",
      "100 13665  100 13650  100    15   5638      6  0:00:02  0:00:02 --:--:--  5644\n"
     ]
    },
    {
     "name": "stdout",
     "output_type": "stream",
     "text": [
      "PDB file generated successfully: /Users/jianchengluo/Desktop/CPPs/cpps_natrual/RLWMRWYSPWTRRYG.pdb\n"
     ]
    },
    {
     "name": "stderr",
     "output_type": "stream",
     "text": [
      "  % Total    % Received % Xferd  Average Speed   Time    Time     Time  Current\n",
      "                                 Dload  Upload   Total   Spent    Left  Speed\n",
      "100 13827  100 13812  100    15   3124      3  0:00:05  0:00:04  0:00:01  3128\n"
     ]
    },
    {
     "name": "stdout",
     "output_type": "stream",
     "text": [
      "PDB file generated successfully: /Users/jianchengluo/Desktop/CPPs/cpps_natrual/RLWMRWYSPWTRRWG.pdb\n"
     ]
    },
    {
     "name": "stderr",
     "output_type": "stream",
     "text": [
      "  % Total    % Received % Xferd  Average Speed   Time    Time     Time  Current\n",
      "                                 Dload  Upload   Total   Spent    Left  Speed\n",
      "100 12612  100 12597  100    15   5373      6  0:00:02  0:00:02 --:--:--  5378\n"
     ]
    },
    {
     "name": "stdout",
     "output_type": "stream",
     "text": [
      "PDB file generated successfully: /Users/jianchengluo/Desktop/CPPs/cpps_natrual/ALWMRWYSPTTRRYG.pdb\n"
     ]
    },
    {
     "name": "stderr",
     "output_type": "stream",
     "text": [
      "  % Total    % Received % Xferd  Average Speed   Time    Time     Time  Current\n",
      "                                 Dload  Upload   Total   Spent    Left  Speed\n",
      "100 12855  100 12840  100    15   5430      6  0:00:02  0:00:02 --:--:--  5437\n"
     ]
    },
    {
     "name": "stdout",
     "output_type": "stream",
     "text": [
      "PDB file generated successfully: /Users/jianchengluo/Desktop/CPPs/cpps_natrual/RAWMRWYSPTTRRYG.pdb\n"
     ]
    },
    {
     "name": "stderr",
     "output_type": "stream",
     "text": [
      "  % Total    % Received % Xferd  Average Speed   Time    Time     Time  Current\n",
      "                                 Dload  Upload   Total   Spent    Left  Speed\n",
      "100 12369  100 12354  100    15   5290      6  0:00:02  0:00:02 --:--:--  5299\n"
     ]
    },
    {
     "name": "stdout",
     "output_type": "stream",
     "text": [
      "PDB file generated successfully: /Users/jianchengluo/Desktop/CPPs/cpps_natrual/RLAMRWYSPTTRRYG.pdb\n"
     ]
    },
    {
     "name": "stderr",
     "output_type": "stream",
     "text": [
      "  % Total    % Received % Xferd  Average Speed   Time    Time     Time  Current\n",
      "                                 Dload  Upload   Total   Spent    Left  Speed\n",
      "100 12855  100 12840  100    15   3973      4  0:00:03  0:00:03 --:--:--  3977\n"
     ]
    },
    {
     "name": "stdout",
     "output_type": "stream",
     "text": [
      "PDB file generated successfully: /Users/jianchengluo/Desktop/CPPs/cpps_natrual/RLWARWYSPTTRRYG.pdb\n"
     ]
    },
    {
     "name": "stderr",
     "output_type": "stream",
     "text": [
      "  % Total    % Received % Xferd  Average Speed   Time    Time     Time  Current\n",
      "                                 Dload  Upload   Total   Spent    Left  Speed\n",
      "100 12612  100 12597  100    15   5352      6  0:00:02  0:00:02 --:--:--  5359\n"
     ]
    },
    {
     "name": "stdout",
     "output_type": "stream",
     "text": [
      "PDB file generated successfully: /Users/jianchengluo/Desktop/CPPs/cpps_natrual/RLWMAWYSPTTRRYG.pdb\n"
     ]
    },
    {
     "name": "stderr",
     "output_type": "stream",
     "text": [
      "  % Total    % Received % Xferd  Average Speed   Time    Time     Time  Current\n",
      "                                 Dload  Upload   Total   Spent    Left  Speed\n",
      "100 12369  100 12354  100    15   5147      6  0:00:02  0:00:02 --:--:--  5153\n"
     ]
    },
    {
     "name": "stdout",
     "output_type": "stream",
     "text": [
      "PDB file generated successfully: /Users/jianchengluo/Desktop/CPPs/cpps_natrual/RLWMRAYSPTTRRYG.pdb\n"
     ]
    },
    {
     "name": "stderr",
     "output_type": "stream",
     "text": [
      "  % Total    % Received % Xferd  Average Speed   Time    Time     Time  Current\n",
      "                                 Dload  Upload   Total   Spent    Left  Speed\n",
      "100 12531  100 12516  100    15   5392      6  0:00:02  0:00:02 --:--:--  5398\n"
     ]
    },
    {
     "name": "stdout",
     "output_type": "stream",
     "text": [
      "PDB file generated successfully: /Users/jianchengluo/Desktop/CPPs/cpps_natrual/RLWMRWASPTTRRYG.pdb\n"
     ]
    },
    {
     "name": "stderr",
     "output_type": "stream",
     "text": [
      "  % Total    % Received % Xferd  Average Speed   Time    Time     Time  Current\n",
      "                                 Dload  Upload   Total   Spent    Left  Speed\n",
      "100 13017  100 13002  100    15   5562      6  0:00:02  0:00:02 --:--:--  5569\n"
     ]
    },
    {
     "name": "stdout",
     "output_type": "stream",
     "text": [
      "PDB file generated successfully: /Users/jianchengluo/Desktop/CPPs/cpps_natrual/RLWMRWYAPTTRRYG.pdb\n"
     ]
    },
    {
     "name": "stderr",
     "output_type": "stream",
     "text": [
      "  % Total    % Received % Xferd  Average Speed   Time    Time     Time  Current\n",
      "                                 Dload  Upload   Total   Spent    Left  Speed\n",
      "100 12936  100 12921  100    15   3032      3  0:00:05  0:00:04  0:00:01  3036\n"
     ]
    },
    {
     "name": "stdout",
     "output_type": "stream",
     "text": [
      "PDB file generated successfully: /Users/jianchengluo/Desktop/CPPs/cpps_natrual/RLWMRWYSPATRRYG.pdb\n"
     ]
    },
    {
     "name": "stderr",
     "output_type": "stream",
     "text": [
      "  % Total    % Received % Xferd  Average Speed   Time    Time     Time  Current\n",
      "                                 Dload  Upload   Total   Spent    Left  Speed\n",
      "100 12936  100 12921  100    15   5308      6  0:00:02  0:00:02 --:--:--  5314\n"
     ]
    },
    {
     "name": "stdout",
     "output_type": "stream",
     "text": [
      "PDB file generated successfully: /Users/jianchengluo/Desktop/CPPs/cpps_natrual/RLWMRWYSPTARRYG.pdb\n"
     ]
    },
    {
     "name": "stderr",
     "output_type": "stream",
     "text": [
      "  % Total    % Received % Xferd  Average Speed   Time    Time     Time  Current\n",
      "                                 Dload  Upload   Total   Spent    Left  Speed\n",
      "100 12612  100 12597  100    15   5448      6  0:00:02  0:00:02 --:--:--  5457\n"
     ]
    },
    {
     "name": "stdout",
     "output_type": "stream",
     "text": [
      "PDB file generated successfully: /Users/jianchengluo/Desktop/CPPs/cpps_natrual/RLWMRWYSPTTARYG.pdb\n"
     ]
    },
    {
     "name": "stderr",
     "output_type": "stream",
     "text": [
      "  % Total    % Received % Xferd  Average Speed   Time    Time     Time  Current\n",
      "                                 Dload  Upload   Total   Spent    Left  Speed\n",
      "100 12612  100 12597  100    15   2460      2  0:00:07  0:00:05  0:00:02  2598\n"
     ]
    },
    {
     "name": "stdout",
     "output_type": "stream",
     "text": [
      "PDB file generated successfully: /Users/jianchengluo/Desktop/CPPs/cpps_natrual/RLWMRWYSPTTRAYG.pdb\n"
     ]
    },
    {
     "name": "stderr",
     "output_type": "stream",
     "text": [
      "  % Total    % Received % Xferd  Average Speed   Time    Time     Time  Current\n",
      "                                 Dload  Upload   Total   Spent    Left  Speed\n",
      "100 12531  100 12516  100    15   5218      6  0:00:02  0:00:02 --:--:--  5223\n"
     ]
    },
    {
     "name": "stdout",
     "output_type": "stream",
     "text": [
      "PDB file generated successfully: /Users/jianchengluo/Desktop/CPPs/cpps_natrual/RLWMRWYSPTTRRAG.pdb\n"
     ]
    },
    {
     "name": "stderr",
     "output_type": "stream",
     "text": [
      "  % Total    % Received % Xferd  Average Speed   Time    Time     Time  Current\n",
      "                                 Dload  Upload   Total   Spent    Left  Speed\n",
      "100 13179  100 13164  100    15   5675      6  0:00:02  0:00:02 --:--:--  5683\n"
     ]
    },
    {
     "name": "stdout",
     "output_type": "stream",
     "text": [
      "PDB file generated successfully: /Users/jianchengluo/Desktop/CPPs/cpps_natrual/RLWMRWYSPTTRRYA.pdb\n"
     ]
    },
    {
     "name": "stderr",
     "output_type": "stream",
     "text": [
      "  % Total    % Received % Xferd  Average Speed   Time    Time     Time  Current\n",
      "                                 Dload  Upload   Total   Spent    Left  Speed\n",
      "100 12126  100 12111  100    15   3250      4  0:00:03  0:00:03 --:--:--  3254\n"
     ]
    },
    {
     "name": "stdout",
     "output_type": "stream",
     "text": [
      "PDB file generated successfully: /Users/jianchengluo/Desktop/CPPs/cpps_natrual/RLLMRLYSPTTRRYG.pdb\n"
     ]
    },
    {
     "name": "stderr",
     "output_type": "stream",
     "text": [
      "  % Total    % Received % Xferd  Average Speed   Time    Time     Time  Current\n",
      "                                 Dload  Upload   Total   Spent    Left  Speed\n",
      "100 12612  100 12597  100    15   3541      4  0:00:03  0:00:03 --:--:--  3546\n"
     ]
    },
    {
     "name": "stdout",
     "output_type": "stream",
     "text": [
      "PDB file generated successfully: /Users/jianchengluo/Desktop/CPPs/cpps_natrual/RLFMRFYSPTTRRYG.pdb\n"
     ]
    },
    {
     "name": "stderr",
     "output_type": "stream",
     "text": [
      "  % Total    % Received % Xferd  Average Speed   Time    Time     Time  Current\n",
      "                                 Dload  Upload   Total   Spent    Left  Speed\n",
      "100 12126  100 12111  100    15   4731      5  0:00:03  0:00:02  0:00:01  4738\n"
     ]
    },
    {
     "name": "stdout",
     "output_type": "stream",
     "text": [
      "PDB file generated successfully: /Users/jianchengluo/Desktop/CPPs/cpps_natrual/RLIMRIYSPTTRRYG.pdb\n"
     ]
    },
    {
     "name": "stderr",
     "output_type": "stream",
     "text": [
      "  % Total    % Received % Xferd  Average Speed   Time    Time     Time  Current\n",
      "                                 Dload  Upload   Total   Spent    Left  Speed\n",
      "100 11964  100 11949  100    15   4898      6  0:00:02  0:00:02 --:--:--  4903\n"
     ]
    },
    {
     "name": "stdout",
     "output_type": "stream",
     "text": [
      "PDB file generated successfully: /Users/jianchengluo/Desktop/CPPs/cpps_natrual/RLVMRVYSPTTRRYG.pdb\n"
     ]
    },
    {
     "name": "stderr",
     "output_type": "stream",
     "text": [
      "  % Total    % Received % Xferd  Average Speed   Time    Time     Time  Current\n",
      "                                 Dload  Upload   Total   Spent    Left  Speed\n",
      "100 12774  100 12759  100    15   2978      3  0:00:05  0:00:04  0:00:01  2981\n"
     ]
    },
    {
     "name": "stdout",
     "output_type": "stream",
     "text": [
      "PDB file generated successfully: /Users/jianchengluo/Desktop/CPPs/cpps_natrual/RLYMRYYSPTTRRYG.pdb\n"
     ]
    },
    {
     "name": "stderr",
     "output_type": "stream",
     "text": [
      "  % Total    % Received % Xferd  Average Speed   Time    Time     Time  Current\n",
      "                                 Dload  Upload   Total   Spent    Left  Speed\n",
      "100 11070  100 11058  100    12   3792      4  0:00:03  0:00:02  0:00:01  3796\n"
     ]
    },
    {
     "name": "stdout",
     "output_type": "stream",
     "text": [
      "PDB file generated successfully: /Users/jianchengluo/Desktop/CPPs/cpps_natrual/YGRKKKRRQRRR.pdb\n"
     ]
    },
    {
     "name": "stderr",
     "output_type": "stream",
     "text": [
      "  % Total    % Received % Xferd  Average Speed   Time    Time     Time  Current\n",
      "                                 Dload  Upload   Total   Spent    Left  Speed\n",
      "100 14073  100 14055  100    18  11163     14  0:00:01  0:00:01 --:--:-- 11186\n"
     ]
    },
    {
     "name": "stdout",
     "output_type": "stream",
     "text": [
      "PDB file generated successfully: /Users/jianchengluo/Desktop/CPPs/cpps_natrual/LLIILRRRIRKQAHAHSK.pdb\n"
     ]
    },
    {
     "name": "stderr",
     "output_type": "stream",
     "text": [
      "  % Total    % Received % Xferd  Average Speed   Time    Time     Time  Current\n",
      "                                 Dload  Upload   Total   Spent    Left  Speed\n",
      "100 13830  100 13812  100    18   4587      5  0:00:03  0:00:03 --:--:--  4594\n"
     ]
    },
    {
     "name": "stdout",
     "output_type": "stream",
     "text": [
      "PDB file generated successfully: /Users/jianchengluo/Desktop/CPPs/cpps_natrual/ALIILRRRIRKQAHAHSK.pdb\n"
     ]
    },
    {
     "name": "stderr",
     "output_type": "stream",
     "text": [
      "  % Total    % Received % Xferd  Average Speed   Time    Time     Time  Current\n",
      "                                 Dload  Upload   Total   Spent    Left  Speed\n",
      "100 13830  100 13812  100    18   3844      5  0:00:03  0:00:03 --:--:--  3849\n"
     ]
    },
    {
     "name": "stdout",
     "output_type": "stream",
     "text": [
      "PDB file generated successfully: /Users/jianchengluo/Desktop/CPPs/cpps_natrual/LAIILRRRIRKQAHAHSK.pdb\n"
     ]
    },
    {
     "name": "stderr",
     "output_type": "stream",
     "text": [
      "  % Total    % Received % Xferd  Average Speed   Time    Time     Time  Current\n",
      "                                 Dload  Upload   Total   Spent    Left  Speed\n",
      "100 13830  100 13812  100    18   6011      7  0:00:02  0:00:02 --:--:--  6020\n"
     ]
    },
    {
     "name": "stdout",
     "output_type": "stream",
     "text": [
      "PDB file generated successfully: /Users/jianchengluo/Desktop/CPPs/cpps_natrual/LLAILRRRIRKQAHAHSK.pdb\n"
     ]
    },
    {
     "name": "stderr",
     "output_type": "stream",
     "text": [
      "  % Total    % Received % Xferd  Average Speed   Time    Time     Time  Current\n",
      "                                 Dload  Upload   Total   Spent    Left  Speed\n",
      "100 13830  100 13812  100    18   5705      7  0:00:02  0:00:02 --:--:--  5712\n"
     ]
    },
    {
     "name": "stdout",
     "output_type": "stream",
     "text": [
      "PDB file generated successfully: /Users/jianchengluo/Desktop/CPPs/cpps_natrual/LLIALRRRIRKQAHAHSK.pdb\n"
     ]
    },
    {
     "name": "stderr",
     "output_type": "stream",
     "text": [
      "  % Total    % Received % Xferd  Average Speed   Time    Time     Time  Current\n",
      "                                 Dload  Upload   Total   Spent    Left  Speed\n",
      "100 13830  100 13812  100    18   4525      5  0:00:03  0:00:03 --:--:--  4532\n"
     ]
    },
    {
     "name": "stdout",
     "output_type": "stream",
     "text": [
      "PDB file generated successfully: /Users/jianchengluo/Desktop/CPPs/cpps_natrual/LLIIARRRIRKQAHAHSK.pdb\n"
     ]
    },
    {
     "name": "stderr",
     "output_type": "stream",
     "text": [
      "  % Total    % Received % Xferd  Average Speed   Time    Time     Time  Current\n",
      "                                 Dload  Upload   Total   Spent    Left  Speed\n",
      "100 13587  100 13569  100    18   5781      7  0:00:02  0:00:02 --:--:--  5791\n"
     ]
    },
    {
     "name": "stdout",
     "output_type": "stream",
     "text": [
      "PDB file generated successfully: /Users/jianchengluo/Desktop/CPPs/cpps_natrual/LLIILARRIRKQAHAHSK.pdb\n"
     ]
    },
    {
     "name": "stderr",
     "output_type": "stream",
     "text": [
      "  % Total    % Received % Xferd  Average Speed   Time    Time     Time  Current\n",
      "                                 Dload  Upload   Total   Spent    Left  Speed\n",
      "100 13587  100 13569  100    18   5489      7  0:00:02  0:00:02 --:--:--  5498\n"
     ]
    },
    {
     "name": "stdout",
     "output_type": "stream",
     "text": [
      "PDB file generated successfully: /Users/jianchengluo/Desktop/CPPs/cpps_natrual/LLIILRARIRKQAHAHSK.pdb\n"
     ]
    },
    {
     "name": "stderr",
     "output_type": "stream",
     "text": [
      "  % Total    % Received % Xferd  Average Speed   Time    Time     Time  Current\n",
      "                                 Dload  Upload   Total   Spent    Left  Speed\n",
      "100 13587  100 13569  100    18   5603      7  0:00:02  0:00:02 --:--:--  5612\n"
     ]
    },
    {
     "name": "stdout",
     "output_type": "stream",
     "text": [
      "PDB file generated successfully: /Users/jianchengluo/Desktop/CPPs/cpps_natrual/LLIILRRAIRKQAHAHSK.pdb\n"
     ]
    },
    {
     "name": "stderr",
     "output_type": "stream",
     "text": [
      "  % Total    % Received % Xferd  Average Speed   Time    Time     Time  Current\n",
      "                                 Dload  Upload   Total   Spent    Left  Speed\n",
      "100 13830  100 13812  100    18   5926      7  0:00:02  0:00:02 --:--:--  5935\n"
     ]
    },
    {
     "name": "stdout",
     "output_type": "stream",
     "text": [
      "PDB file generated successfully: /Users/jianchengluo/Desktop/CPPs/cpps_natrual/LLIILRRRARKQAHAHSK.pdb\n"
     ]
    },
    {
     "name": "stderr",
     "output_type": "stream",
     "text": [
      "  % Total    % Received % Xferd  Average Speed   Time    Time     Time  Current\n",
      "                                 Dload  Upload   Total   Spent    Left  Speed\n",
      "100 14479  100 14460  100    19   5508      7  0:00:02  0:00:02 --:--:--  5515\n"
     ]
    },
    {
     "name": "stdout",
     "output_type": "stream",
     "text": [
      "PDB file generated successfully: /Users/jianchengluo/Desktop/CPPs/cpps_natrual/LLIILRRRIARKQAHAHSK.pdb\n"
     ]
    },
    {
     "name": "stderr",
     "output_type": "stream",
     "text": [
      "  % Total    % Received % Xferd  Average Speed   Time    Time     Time  Current\n",
      "                                 Dload  Upload   Total   Spent    Left  Speed\n",
      "100 13749  100 13731  100    18   4697      6  0:00:03  0:00:02  0:00:01  4702\n"
     ]
    },
    {
     "name": "stdout",
     "output_type": "stream",
     "text": [
      "PDB file generated successfully: /Users/jianchengluo/Desktop/CPPs/cpps_natrual/LLIILRRRIRAQAHAHSK.pdb\n"
     ]
    },
    {
     "name": "stderr",
     "output_type": "stream",
     "text": [
      "  % Total    % Received % Xferd  Average Speed   Time    Time     Time  Current\n",
      "                                 Dload  Upload   Total   Spent    Left  Speed\n",
      "100 13749  100 13731  100    18   5892      7  0:00:02  0:00:02 --:--:--  5903\n"
     ]
    },
    {
     "name": "stdout",
     "output_type": "stream",
     "text": [
      "PDB file generated successfully: /Users/jianchengluo/Desktop/CPPs/cpps_natrual/LLIILRRRIRKAAHAHSK.pdb\n"
     ]
    },
    {
     "name": "stderr",
     "output_type": "stream",
     "text": [
      "  % Total    % Received % Xferd  Average Speed   Time    Time     Time  Current\n",
      "                                 Dload  Upload   Total   Spent    Left  Speed\n",
      "100 13668  100 13650  100    18   4339      5  0:00:03  0:00:03 --:--:--  4345\n"
     ]
    },
    {
     "name": "stdout",
     "output_type": "stream",
     "text": [
      "PDB file generated successfully: /Users/jianchengluo/Desktop/CPPs/cpps_natrual/LLIILRRRIRKQAAAHSK.pdb\n"
     ]
    },
    {
     "name": "stderr",
     "output_type": "stream",
     "text": [
      "  % Total    % Received % Xferd  Average Speed   Time    Time     Time  Current\n",
      "                                 Dload  Upload   Total   Spent    Left  Speed\n",
      "100 13668  100 13650  100    18   3053      4  0:00:04  0:00:04 --:--:--  3057\n"
     ]
    },
    {
     "name": "stdout",
     "output_type": "stream",
     "text": [
      "PDB file generated successfully: /Users/jianchengluo/Desktop/CPPs/cpps_natrual/LLIILRRRIRKQAHAASK.pdb\n"
     ]
    },
    {
     "name": "stderr",
     "output_type": "stream",
     "text": [
      "  % Total    % Received % Xferd  Average Speed   Time    Time     Time  Current\n",
      "                                 Dload  Upload   Total   Spent    Left  Speed\n",
      "100 13992  100 13974  100    18   6027      7  0:00:02  0:00:02 --:--:--  6036\n"
     ]
    },
    {
     "name": "stdout",
     "output_type": "stream",
     "text": [
      "PDB file generated successfully: /Users/jianchengluo/Desktop/CPPs/cpps_natrual/LLIILRRRIRKQAHAHAK.pdb\n"
     ]
    },
    {
     "name": "stderr",
     "output_type": "stream",
     "text": [
      "  % Total    % Received % Xferd  Average Speed   Time    Time     Time  Current\n",
      "                                 Dload  Upload   Total   Spent    Left  Speed\n",
      "100 13749  100 13731  100    18   5718      7  0:00:02  0:00:02 --:--:--  5726\n"
     ]
    },
    {
     "name": "stdout",
     "output_type": "stream",
     "text": [
      "PDB file generated successfully: /Users/jianchengluo/Desktop/CPPs/cpps_natrual/LLIILRRRIRKQAHAHSA.pdb\n"
     ]
    },
    {
     "name": "stderr",
     "output_type": "stream",
     "text": [
      "  % Total    % Received % Xferd  Average Speed   Time    Time     Time  Current\n",
      "                                 Dload  Upload   Total   Spent    Left  Speed\n",
      "100 14073  100 14055  100    18   5942      7  0:00:02  0:00:02 --:--:--  5950\n"
     ]
    },
    {
     "name": "stdout",
     "output_type": "stream",
     "text": [
      "PDB file generated successfully: /Users/jianchengluo/Desktop/CPPs/cpps_natrual/KSHAHAQKRIRRRLIILL.pdb\n"
     ]
    },
    {
     "name": "stderr",
     "output_type": "stream",
     "text": [
      "  % Total    % Received % Xferd  Average Speed   Time    Time     Time  Current\n",
      "                                 Dload  Upload   Total   Spent    Left  Speed\n",
      "100  6853  100  6846  100     7   2771      2  0:00:03  0:00:02  0:00:01  2774\n"
     ]
    },
    {
     "name": "stdout",
     "output_type": "stream",
     "text": [
      "PDB file generated successfully: /Users/jianchengluo/Desktop/CPPs/cpps_natrual/RRIRPRP.pdb\n"
     ]
    },
    {
     "name": "stderr",
     "output_type": "stream",
     "text": [
      "  % Total    % Received % Xferd  Average Speed   Time    Time     Time  Current\n",
      "                                 Dload  Upload   Total   Spent    Left  Speed\n",
      "100 12450  100 12435  100    15   5341      6  0:00:02  0:00:02 --:--:--  5350\n"
     ]
    },
    {
     "name": "stdout",
     "output_type": "stream",
     "text": [
      "PDB file generated successfully: /Users/jianchengluo/Desktop/CPPs/cpps_natrual/RRIRPRPPRLPRPRP.pdb\n"
     ]
    },
    {
     "name": "stderr",
     "output_type": "stream",
     "text": [
      "  % Total    % Received % Xferd  Average Speed   Time    Time     Time  Current\n",
      "                                 Dload  Upload   Total   Spent    Left  Speed\n",
      "100 18372  100 18348  100    24  14053     18  0:00:01  0:00:01 --:--:-- 14078\n"
     ]
    },
    {
     "name": "stdout",
     "output_type": "stream",
     "text": [
      "PDB file generated successfully: /Users/jianchengluo/Desktop/CPPs/cpps_natrual/RRIRPRPPRLPRPRPRPLPFPRPG.pdb\n"
     ]
    },
    {
     "name": "stderr",
     "output_type": "stream",
     "text": [
      "  % Total    % Received % Xferd  Average Speed   Time    Time     Time  Current\n",
      "                                 Dload  Upload   Total   Spent    Left  Speed\n",
      "100 13910  100 13893  100    17   5836      7  0:00:02  0:00:02 --:--:--  5842\n"
     ]
    },
    {
     "name": "stdout",
     "output_type": "stream",
     "text": [
      "PDB file generated successfully: /Users/jianchengluo/Desktop/CPPs/cpps_natrual/RRIRPRPPRLPRPRPRP.pdb\n"
     ]
    },
    {
     "name": "stderr",
     "output_type": "stream",
     "text": [
      "  % Total    % Received % Xferd  Average Speed   Time    Time     Time  Current\n",
      "                                 Dload  Upload   Total   Spent    Left  Speed\n",
      "100 15047  100 15027  100    20   5364      7  0:00:02  0:00:02 --:--:--  5372\n"
     ]
    },
    {
     "name": "stdout",
     "output_type": "stream",
     "text": [
      "PDB file generated successfully: /Users/jianchengluo/Desktop/CPPs/cpps_natrual/PRPPRLPRPRPRPLPFPRPG.pdb\n"
     ]
    },
    {
     "name": "stderr",
     "output_type": "stream",
     "text": [
      "  % Total    % Received % Xferd  Average Speed   Time    Time     Time  Current\n",
      "                                 Dload  Upload   Total   Spent    Left  Speed\n",
      "100 13587  100 13569  100    18   5481      7  0:00:02  0:00:02 --:--:--  5489\n"
     ]
    },
    {
     "name": "stdout",
     "output_type": "stream",
     "text": [
      "PDB file generated successfully: /Users/jianchengluo/Desktop/CPPs/cpps_natrual/PPRLPRPRPRPLPFPRPG.pdb\n"
     ]
    },
    {
     "name": "stderr",
     "output_type": "stream",
     "text": [
      "  % Total    % Received % Xferd  Average Speed   Time    Time     Time  Current\n",
      "                                 Dload  Upload   Total   Spent    Left  Speed\n",
      "100 12451  100 12435  100    16   5143      6  0:00:02  0:00:02 --:--:--  5149\n"
     ]
    },
    {
     "name": "stdout",
     "output_type": "stream",
     "text": [
      "PDB file generated successfully: /Users/jianchengluo/Desktop/CPPs/cpps_natrual/RLPRPRPRPLPFPRPG.pdb\n"
     ]
    },
    {
     "name": "stderr",
     "output_type": "stream",
     "text": [
      "  % Total    % Received % Xferd  Average Speed   Time    Time     Time  Current\n",
      "                                 Dload  Upload   Total   Spent    Left  Speed\n",
      "100 10910  100 10896  100    14   4302      5  0:00:02  0:00:02 --:--:--  4308\n"
     ]
    },
    {
     "name": "stdout",
     "output_type": "stream",
     "text": [
      "PDB file generated successfully: /Users/jianchengluo/Desktop/CPPs/cpps_natrual/PRPRPRPLPFPRPG.pdb\n"
     ]
    },
    {
     "name": "stderr",
     "output_type": "stream",
     "text": [
      "  % Total    % Received % Xferd  Average Speed   Time    Time     Time  Current\n",
      "                                 Dload  Upload   Total   Spent    Left  Speed\n",
      "100  9450  100  9438  100    12   3724      4  0:00:03  0:00:02  0:00:01  3729\n"
     ]
    },
    {
     "name": "stdout",
     "output_type": "stream",
     "text": [
      "PDB file generated successfully: /Users/jianchengluo/Desktop/CPPs/cpps_natrual/PRPRPLPFPRPG.pdb\n"
     ]
    },
    {
     "name": "stderr",
     "output_type": "stream",
     "text": [
      "  % Total    % Received % Xferd  Average Speed   Time    Time     Time  Current\n",
      "                                 Dload  Upload   Total   Spent    Left  Speed\n",
      "100  7990  100  7980  100    10   1489      1  0:00:10  0:00:05  0:00:05  1935\n"
     ]
    },
    {
     "name": "stdout",
     "output_type": "stream",
     "text": [
      "PDB file generated successfully: /Users/jianchengluo/Desktop/CPPs/cpps_natrual/PRPLPFPRPG.pdb\n"
     ]
    },
    {
     "name": "stderr",
     "output_type": "stream",
     "text": [
      "  % Total    % Received % Xferd  Average Speed   Time    Time     Time  Current\n",
      "                                 Dload  Upload   Total   Spent    Left  Speed\n",
      "100  9042  100  9033  100     9   8601      8  0:00:01  0:00:01 --:--:--  8611\n"
     ]
    },
    {
     "name": "stdout",
     "output_type": "stream",
     "text": [
      "PDB file generated successfully: /Users/jianchengluo/Desktop/CPPs/cpps_natrual/RKKRRQRRR.pdb\n"
     ]
    },
    {
     "name": "stderr",
     "output_type": "stream",
     "text": [
      "  % Total    % Received % Xferd  Average Speed   Time    Time     Time  Current\n",
      "                                 Dload  Upload   Total   Spent    Left  Speed\n",
      "100 18861  100 18834  100    27   6627      9  0:00:03  0:00:02  0:00:01  6636\n"
     ]
    },
    {
     "name": "stdout",
     "output_type": "stream",
     "text": [
      "PDB file generated successfully: /Users/jianchengluo/Desktop/CPPs/cpps_natrual/RQGAARVTSWLGRQLRIAGKRLEGRSK.pdb\n"
     ]
    },
    {
     "name": "stderr",
     "output_type": "stream",
     "text": [
      "  % Total    % Received % Xferd  Average Speed   Time    Time     Time  Current\n",
      "                                 Dload  Upload   Total   Spent    Left  Speed\n",
      "100 16102  100 16080  100    22   3819      5  0:00:04  0:00:04 --:--:--  3824\n"
     ]
    },
    {
     "name": "stdout",
     "output_type": "stream",
     "text": [
      "PDB file generated successfully: /Users/jianchengluo/Desktop/CPPs/cpps_natrual/RVTSWLGRQLRIAGKRLEGRSK.pdb\n"
     ]
    },
    {
     "name": "stderr",
     "output_type": "stream",
     "text": [
      "  % Total    % Received % Xferd  Average Speed   Time    Time     Time  Current\n",
      "                                 Dload  Upload   Total   Spent    Left  Speed\n",
      "100 11803  100 11787  100    16   5058      6  0:00:02  0:00:02 --:--:--  5063\n"
     ]
    },
    {
     "name": "stdout",
     "output_type": "stream",
     "text": [
      "PDB file generated successfully: /Users/jianchengluo/Desktop/CPPs/cpps_natrual/GRQLRIAGKRLEGRSK.pdb\n"
     ]
    },
    {
     "name": "stderr",
     "output_type": "stream",
     "text": [
      "  % Total    % Received % Xferd  Average Speed   Time    Time     Time  Current\n",
      "                                 Dload  Upload   Total   Spent    Left  Speed\n",
      "100 16994  100 16971  100    23   6433      8  0:00:02  0:00:02 --:--:--  6444\n"
     ]
    },
    {
     "name": "stdout",
     "output_type": "stream",
     "text": [
      "PDB file generated successfully: /Users/jianchengluo/Desktop/CPPs/cpps_natrual/RRVTSWLGRQLRIAGKRLEGRSK.pdb\n"
     ]
    },
    {
     "name": "stderr",
     "output_type": "stream",
     "text": [
      "  % Total    % Received % Xferd  Average Speed   Time    Time     Time  Current\n",
      "                                 Dload  Upload   Total   Spent    Left  Speed\n",
      "100 16426  100 16404  100    22   5839      7  0:00:03  0:00:02  0:00:01  5845\n"
     ]
    },
    {
     "name": "stdout",
     "output_type": "stream",
     "text": [
      "PDB file generated successfully: /Users/jianchengluo/Desktop/CPPs/cpps_natrual/RVRSWLGRQLRIAGKRLEGRSK.pdb\n"
     ]
    },
    {
     "name": "stderr",
     "output_type": "stream",
     "text": [
      "  % Total    % Received % Xferd  Average Speed   Time    Time     Time  Current\n",
      "                                 Dload  Upload   Total   Spent    Left  Speed\n",
      "100 11965  100 11949  100    16   1880      2  0:00:08  0:00:06  0:00:02  3870\n"
     ]
    },
    {
     "name": "stdout",
     "output_type": "stream",
     "text": [
      "PDB file generated successfully: /Users/jianchengluo/Desktop/CPPs/cpps_natrual/GRQLRIAGKRLRGRSK.pdb\n"
     ]
    },
    {
     "name": "stderr",
     "output_type": "stream",
     "text": [
      "  % Total    % Received % Xferd  Average Speed   Time    Time     Time  Current\n",
      "                                 Dload  Upload   Total   Spent    Left  Speed\n",
      "100 12289  100 12273  100    16   5258      6  0:00:02  0:00:02 --:--:--  5265\n"
     ]
    },
    {
     "name": "stdout",
     "output_type": "stream",
     "text": [
      "PDB file generated successfully: /Users/jianchengluo/Desktop/CPPs/cpps_natrual/GRQLRIAGRRLRGRSR.pdb\n"
     ]
    },
    {
     "name": "stderr",
     "output_type": "stream",
     "text": [
      "  % Total    % Received % Xferd  Average Speed   Time    Time     Time  Current\n",
      "                                 Dload  Upload   Total   Spent    Left  Speed\n",
      "100 12532  100 12516  100    16   5377      6  0:00:02  0:00:02 --:--:--  5385\n"
     ]
    },
    {
     "name": "stdout",
     "output_type": "stream",
     "text": [
      "PDB file generated successfully: /Users/jianchengluo/Desktop/CPPs/cpps_natrual/GRQLRRAGRRLRGRSR.pdb\n"
     ]
    },
    {
     "name": "stderr",
     "output_type": "stream",
     "text": [
      "  % Total    % Received % Xferd  Average Speed   Time    Time     Time  Current\n",
      "                                 Dload  Upload   Total   Spent    Left  Speed\n",
      "100 12856  100 12840  100    16   4444      5  0:00:03  0:00:02  0:00:01  4449\n"
     ]
    },
    {
     "name": "stdout",
     "output_type": "stream",
     "text": [
      "PDB file generated successfully: /Users/jianchengluo/Desktop/CPPs/cpps_natrual/GRQLRIAGRRLRRRSR.pdb\n"
     ]
    },
    {
     "name": "stderr",
     "output_type": "stream",
     "text": [
      "  % Total    % Received % Xferd  Average Speed   Time    Time     Time  Current\n",
      "                                 Dload  Upload   Total   Spent    Left  Speed\n",
      "100 13099  100 13083  100    16   5613      6  0:00:02  0:00:02 --:--:--  5619\n"
     ]
    },
    {
     "name": "stdout",
     "output_type": "stream",
     "text": [
      "PDB file generated successfully: /Users/jianchengluo/Desktop/CPPs/cpps_natrual/GRQLRRAGRRLRRRSR.pdb\n"
     ]
    },
    {
     "name": "stderr",
     "output_type": "stream",
     "text": [
      "  % Total    % Received % Xferd  Average Speed   Time    Time     Time  Current\n",
      "                                 Dload  Upload   Total   Spent    Left  Speed\n",
      "100 11964  100 11949  100    15   5138      6  0:00:02  0:00:02 --:--:--  5145\n"
     ]
    },
    {
     "name": "stdout",
     "output_type": "stream",
     "text": [
      "PDB file generated successfully: /Users/jianchengluo/Desktop/CPPs/cpps_natrual/RQLRIAGRRLRGRSR.pdb\n"
     ]
    },
    {
     "name": "stderr",
     "output_type": "stream",
     "text": [
      "  % Total    % Received % Xferd  Average Speed   Time    Time     Time  Current\n",
      "                                 Dload  Upload   Total   Spent    Left  Speed\n",
      "100 19592  100 19563  100    29   7609     11  0:00:02  0:00:02 --:--:--  7623\n"
     ]
    },
    {
     "name": "stdout",
     "output_type": "stream",
     "text": [
      "PDB file generated successfully: /Users/jianchengluo/Desktop/CPPs/cpps_natrual/KLIKGRTPIKFGKADCDRPPKHSQNGMGK.pdb\n"
     ]
    },
    {
     "name": "stderr",
     "output_type": "stream",
     "text": [
      "  % Total    % Received % Xferd  Average Speed   Time    Time     Time  Current\n",
      "                                 Dload  Upload   Total   Spent    Left  Speed\n",
      "100 18537  100 18510  100    27   7021     10  0:00:02  0:00:02 --:--:--  7032\n"
     ]
    },
    {
     "name": "stdout",
     "output_type": "stream",
     "text": [
      "PDB file generated successfully: /Users/jianchengluo/Desktop/CPPs/cpps_natrual/KLIKGRTPIKFGKADCDRPPKHSQNGM.pdb\n"
     ]
    },
    {
     "name": "stderr",
     "output_type": "stream",
     "text": [
      "  % Total    % Received % Xferd  Average Speed   Time    Time     Time  Current\n",
      "                                 Dload  Upload   Total   Spent    Left  Speed\n",
      "100 18618  100 18591  100    27   7130     10  0:00:02  0:00:02 --:--:--  7138\n"
     ]
    },
    {
     "name": "stdout",
     "output_type": "stream",
     "text": [
      "PDB file generated successfully: /Users/jianchengluo/Desktop/CPPs/cpps_natrual/KLIKGRTPIKFGKADCDRPPKHSQNGK.pdb\n"
     ]
    },
    {
     "name": "stderr",
     "output_type": "stream",
     "text": [
      "  % Total    % Received % Xferd  Average Speed   Time    Time     Time  Current\n",
      "                                 Dload  Upload   Total   Spent    Left  Speed\n",
      "100 17564  100 17538  100    26   3467      5  0:00:05  0:00:05 --:--:--  4086\n"
     ]
    },
    {
     "name": "stdout",
     "output_type": "stream",
     "text": [
      "PDB file generated successfully: /Users/jianchengluo/Desktop/CPPs/cpps_natrual/KGRTPIKFGKADCDRPPKHSQNGMGK.pdb\n"
     ]
    },
    {
     "name": "stderr",
     "output_type": "stream",
     "text": [
      "  % Total    % Received % Xferd  Average Speed   Time    Time     Time  Current\n",
      "                                 Dload  Upload   Total   Spent    Left  Speed\n",
      "100 17239  100 17214  100    25   5474      7  0:00:03  0:00:03 --:--:--  5483\n"
     ]
    },
    {
     "name": "stdout",
     "output_type": "stream",
     "text": [
      "PDB file generated successfully: /Users/jianchengluo/Desktop/CPPs/cpps_natrual/KLIKGRTPIKFGKADCDRPPKHSGK.pdb\n"
     ]
    },
    {
     "name": "stderr",
     "output_type": "stream",
     "text": [
      "  % Total    % Received % Xferd  Average Speed   Time    Time     Time  Current\n",
      "                                 Dload  Upload   Total   Spent    Left  Speed\n",
      "100 17725  100 17700  100    25   6888      9  0:00:02  0:00:02 --:--:--  6896\n"
     ]
    },
    {
     "name": "stdout",
     "output_type": "stream",
     "text": [
      "PDB file generated successfully: /Users/jianchengluo/Desktop/CPPs/cpps_natrual/KLIKGRTPIKFGKARCRRPPKHSGK.pdb\n"
     ]
    },
    {
     "name": "stderr",
     "output_type": "stream",
     "text": [
      "  % Total    % Received % Xferd  Average Speed   Time    Time     Time  Current\n",
      "                                 Dload  Upload   Total   Spent    Left  Speed\n",
      "100  9937  100  9924  100    13   4205      5  0:00:02  0:00:02 --:--:--  4212\n"
     ]
    },
    {
     "name": "stdout",
     "output_type": "stream",
     "text": [
      "PDB file generated successfully: /Users/jianchengluo/Desktop/CPPs/cpps_natrual/KLIKGRTPIKFGK.pdb\n"
     ]
    },
    {
     "name": "stderr",
     "output_type": "stream",
     "text": [
      "  % Total    % Received % Xferd  Average Speed   Time    Time     Time  Current\n",
      "                                 Dload  Upload   Total   Spent    Left  Speed\n",
      "100 25432  100 25395  100    37   7608     11  0:00:03  0:00:03 --:--:--  7621\n"
     ]
    },
    {
     "name": "stdout",
     "output_type": "stream",
     "text": [
      "PDB file generated successfully: /Users/jianchengluo/Desktop/CPPs/cpps_natrual/KRIPNKKPGKKTTTKPTKKPTIKTTKKDLKPQTTKPK.pdb\n"
     ]
    },
    {
     "name": "stderr",
     "output_type": "stream",
     "text": [
      "  % Total    % Received % Xferd  Average Speed   Time    Time     Time  Current\n",
      "                                 Dload  Upload   Total   Spent    Left  Speed\n",
      "100 20970  100 20940  100    30   5915      8  0:00:03  0:00:03 --:--:--  5923\n"
     ]
    },
    {
     "name": "stdout",
     "output_type": "stream",
     "text": [
      "PDB file generated successfully: /Users/jianchengluo/Desktop/CPPs/cpps_natrual/KRIPNKKPGKKTTTKPTKKPTIKTTKKDLK.pdb\n"
     ]
    },
    {
     "name": "stderr",
     "output_type": "stream",
     "text": [
      "  % Total    % Received % Xferd  Average Speed   Time    Time     Time  Current\n",
      "                                 Dload  Upload   Total   Spent    Left  Speed\n",
      "100 18942  100 18915  100    27   6792      9  0:00:03  0:00:02  0:00:01  6801\n"
     ]
    },
    {
     "name": "stdout",
     "output_type": "stream",
     "text": [
      "PDB file generated successfully: /Users/jianchengluo/Desktop/CPPs/cpps_natrual/KRIPNKKPGKKTTTKPTKKPTIKTTKK.pdb\n"
     ]
    },
    {
     "name": "stderr",
     "output_type": "stream",
     "text": [
      "  % Total    % Received % Xferd  Average Speed   Time    Time     Time  Current\n",
      "                                 Dload  Upload   Total   Spent    Left  Speed\n",
      "100 16346  100 16323  100    23   6376      8  0:00:02  0:00:02 --:--:--  6387\n"
     ]
    },
    {
     "name": "stdout",
     "output_type": "stream",
     "text": [
      "PDB file generated successfully: /Users/jianchengluo/Desktop/CPPs/cpps_natrual/KRIPNKKPGKKTTTKPTKKPTIK.pdb\n"
     ]
    },
    {
     "name": "stderr",
     "output_type": "stream",
     "text": [
      "  % Total    % Received % Xferd  Average Speed   Time    Time     Time  Current\n",
      "                                 Dload  Upload   Total   Spent    Left  Speed\n",
      "100 13831  100 13812  100    19   3759      5  0:00:03  0:00:03 --:--:--  3764\n"
     ]
    },
    {
     "name": "stdout",
     "output_type": "stream",
     "text": [
      "PDB file generated successfully: /Users/jianchengluo/Desktop/CPPs/cpps_natrual/KRIPNKKPGKKTTTKPTKK.pdb\n"
     ]
    },
    {
     "name": "stderr",
     "output_type": "stream",
     "text": [
      "  % Total    % Received % Xferd  Average Speed   Time    Time     Time  Current\n",
      "                                 Dload  Upload   Total   Spent    Left  Speed\n",
      "100  9369  100  9357  100    12   4004      5  0:00:02  0:00:02 --:--:--  4010\n"
     ]
    },
    {
     "name": "stdout",
     "output_type": "stream",
     "text": [
      "PDB file generated successfully: /Users/jianchengluo/Desktop/CPPs/cpps_natrual/KRIPNKKPGKKT.pdb\n"
     ]
    },
    {
     "name": "stderr",
     "output_type": "stream",
     "text": [
      "  % Total    % Received % Xferd  Average Speed   Time    Time     Time  Current\n",
      "                                 Dload  Upload   Total   Spent    Left  Speed\n",
      "100  8801  100  8790  100    11   3778      4  0:00:02  0:00:02 --:--:--  3782\n"
     ]
    },
    {
     "name": "stdout",
     "output_type": "stream",
     "text": [
      "PDB file generated successfully: /Users/jianchengluo/Desktop/CPPs/cpps_natrual/KRIPNKKPGKK.pdb\n"
     ]
    },
    {
     "name": "stderr",
     "output_type": "stream",
     "text": [
      "  % Total    % Received % Xferd  Average Speed   Time    Time     Time  Current\n",
      "                                 Dload  Upload   Total   Spent    Left  Speed\n",
      "100  8476  100  8466  100    10   3673      4  0:00:02  0:00:02 --:--:--  3678\n"
     ]
    },
    {
     "name": "stdout",
     "output_type": "stream",
     "text": [
      "PDB file generated successfully: /Users/jianchengluo/Desktop/CPPs/cpps_natrual/KRIPNKKPKK.pdb\n"
     ]
    },
    {
     "name": "stderr",
     "output_type": "stream",
     "text": [
      "  % Total    % Received % Xferd  Average Speed   Time    Time     Time  Current\n",
      "                                 Dload  Upload   Total   Spent    Left  Speed\n",
      "100  9286  100  9276  100    10   2088      2  0:00:05  0:00:04  0:00:01  2368\n"
     ]
    },
    {
     "name": "stdout",
     "output_type": "stream",
     "text": [
      "PDB file generated successfully: /Users/jianchengluo/Desktop/CPPs/cpps_natrual/RRIPNRRPRR.pdb\n"
     ]
    },
    {
     "name": "stderr",
     "output_type": "stream",
     "text": [
      "  % Total    % Received % Xferd  Average Speed   Time    Time     Time  Current\n",
      "                                 Dload  Upload   Total   Spent    Left  Speed\n",
      "100 15454  100 15432  100    22   6014      8  0:00:02  0:00:02 --:--:--  6024\n"
     ]
    },
    {
     "name": "stdout",
     "output_type": "stream",
     "text": [
      "PDB file generated successfully: /Users/jianchengluo/Desktop/CPPs/cpps_natrual/KKPGKKTTTKPTKKPTIKTTKK.pdb\n"
     ]
    },
    {
     "name": "stderr",
     "output_type": "stream",
     "text": [
      "  % Total    % Received % Xferd  Average Speed   Time    Time     Time  Current\n",
      "                                 Dload  Upload   Total   Spent    Left  Speed\n",
      "100 10343  100 10329  100    14   4364      5  0:00:02  0:00:02 --:--:--  4369\n"
     ]
    },
    {
     "name": "stdout",
     "output_type": "stream",
     "text": [
      "PDB file generated successfully: /Users/jianchengluo/Desktop/CPPs/cpps_natrual/KKPGKKTTTKPTKK.pdb\n"
     ]
    },
    {
     "name": "stderr",
     "output_type": "stream",
     "text": [
      "  % Total    % Received % Xferd  Average Speed   Time    Time     Time  Current\n",
      "                                 Dload  Upload   Total   Spent    Left  Speed\n",
      "100  8071  100  8061  100    10   2296      2  0:00:05  0:00:03  0:00:02  2300\n"
     ]
    },
    {
     "name": "stdout",
     "output_type": "stream",
     "text": [
      "PDB file generated successfully: /Users/jianchengluo/Desktop/CPPs/cpps_natrual/KKPTIKTTKK.pdb\n"
     ]
    },
    {
     "name": "stderr",
     "output_type": "stream",
     "text": [
      "  % Total    % Received % Xferd  Average Speed   Time    Time     Time  Current\n",
      "                                 Dload  Upload   Total   Spent    Left  Speed\n",
      "100  7990  100  7980  100    10   1931      2  0:00:05  0:00:04  0:00:01  1934\n"
     ]
    },
    {
     "name": "stdout",
     "output_type": "stream",
     "text": [
      "PDB file generated successfully: /Users/jianchengluo/Desktop/CPPs/cpps_natrual/KKTTTKPTKK.pdb\n"
     ]
    },
    {
     "name": "stderr",
     "output_type": "stream",
     "text": [
      "  % Total    % Received % Xferd  Average Speed   Time    Time     Time  Current\n",
      "                                 Dload  Upload   Total   Spent    Left  Speed\n",
      "100 10992  100 10977  100    15   4781      6  0:00:02  0:00:02 --:--:--  4787\n"
     ]
    },
    {
     "name": "stdout",
     "output_type": "stream",
     "text": [
      "PDB file generated successfully: /Users/jianchengluo/Desktop/CPPs/cpps_natrual/KSICKTIPSNKPKKK.pdb\n"
     ]
    },
    {
     "name": "stderr",
     "output_type": "stream",
     "text": [
      "  % Total    % Received % Xferd  Average Speed   Time    Time     Time  Current\n",
      "                                 Dload  Upload   Total   Spent    Left  Speed\n",
      "100  8639  100  8628  100    11   3617      4  0:00:02  0:00:02 --:--:--  3623\n"
     ]
    },
    {
     "name": "stdout",
     "output_type": "stream",
     "text": [
      "PDB file generated successfully: /Users/jianchengluo/Desktop/CPPs/cpps_natrual/KTIPSNKPKKK.pdb\n"
     ]
    },
    {
     "name": "stderr",
     "output_type": "stream",
     "text": [
      "  % Total    % Received % Xferd  Average Speed   Time    Time     Time  Current\n",
      "                                 Dload  Upload   Total   Spent    Left  Speed\n",
      "100  9450  100  9438  100    12   4059      5  0:00:02  0:00:02 --:--:--  4064\n"
     ]
    },
    {
     "name": "stdout",
     "output_type": "stream",
     "text": [
      "PDB file generated successfully: /Users/jianchengluo/Desktop/CPPs/cpps_natrual/KPRSKNPPKKPK.pdb\n"
     ]
    },
    {
     "name": "stderr",
     "output_type": "stream",
     "text": [
      "  % Total    % Received % Xferd  Average Speed   Time    Time     Time  Current\n",
      "                                 Dload  Upload   Total   Spent    Left  Speed\n",
      "100 13991  100 13974  100    17   3738      4  0:00:04  0:00:03  0:00:01  3742\n"
     ]
    },
    {
     "name": "stdout",
     "output_type": "stream",
     "text": [
      "PDB file generated successfully: /Users/jianchengluo/Desktop/CPPs/cpps_natrual/DRDDRDDRDDRDDRDDR.pdb\n"
     ]
    },
    {
     "name": "stderr",
     "output_type": "stream",
     "text": [
      "  % Total    % Received % Xferd  Average Speed   Time    Time     Time  Current\n",
      "                                 Dload  Upload   Total   Spent    Left  Speed\n",
      "100 12854  100 12840  100    14   5302      5  0:00:02  0:00:02 --:--:--  5307\n"
     ]
    },
    {
     "name": "stdout",
     "output_type": "stream",
     "text": [
      "PDB file generated successfully: /Users/jianchengluo/Desktop/CPPs/cpps_natrual/ERERERERERERER.pdb\n"
     ]
    },
    {
     "name": "stderr",
     "output_type": "stream",
     "text": [
      "  % Total    % Received % Xferd  Average Speed   Time    Time     Time  Current\n",
      "                                 Dload  Upload   Total   Spent    Left  Speed\n",
      "100 15689  100 15675  100    14   2521      2  0:00:07  0:00:06  0:00:01  3733\n"
     ]
    },
    {
     "name": "stdout",
     "output_type": "stream",
     "text": [
      "PDB file generated successfully: /Users/jianchengluo/Desktop/CPPs/cpps_natrual/WRWRWRWRWRWRWR.pdb\n"
     ]
    },
    {
     "name": "stderr",
     "output_type": "stream",
     "text": [
      "  % Total    % Received % Xferd  Average Speed   Time    Time     Time  Current\n",
      "                                 Dload  Upload   Total   Spent    Left  Speed\n",
      "100  9205  100  9195  100    10   3995      4  0:00:02  0:00:02 --:--:--  4000\n"
     ]
    },
    {
     "name": "stdout",
     "output_type": "stream",
     "text": [
      "PDB file generated successfully: /Users/jianchengluo/Desktop/CPPs/cpps_natrual/DRDRDRDRDR.pdb\n"
     ]
    },
    {
     "name": "stderr",
     "output_type": "stream",
     "text": [
      "  % Total    % Received % Xferd  Average Speed   Time    Time     Time  Current\n",
      "                                 Dload  Upload   Total   Spent    Left  Speed\n",
      "100 17484  100 17457  100    27  13562     20  0:00:01  0:00:01 --:--:-- 13574\n"
     ]
    },
    {
     "name": "stdout",
     "output_type": "stream",
     "text": [
      "PDB file generated successfully: /Users/jianchengluo/Desktop/CPPs/cpps_natrual/GALFLGFLGAAGSTMGAWSQPKKKRKV.pdb\n"
     ]
    },
    {
     "name": "stderr",
     "output_type": "stream",
     "text": [
      "  % Total    % Received % Xferd  Average Speed   Time    Time     Time  Current\n",
      "                                 Dload  Upload   Total   Spent    Left  Speed\n",
      "100 16021  100 15999  100    22   5964      8  0:00:02  0:00:02 --:--:--  5973\n"
     ]
    },
    {
     "name": "stdout",
     "output_type": "stream",
     "text": [
      "PDB file generated successfully: /Users/jianchengluo/Desktop/CPPs/cpps_natrual/DRRRRGSRPSGAERRRRRAAAA.pdb\n"
     ]
    },
    {
     "name": "stderr",
     "output_type": "stream",
     "text": [
      "  % Total    % Received % Xferd  Average Speed   Time    Time     Time  Current\n",
      "                                 Dload  Upload   Total   Spent    Left  Speed\n",
      "100 13505  100 13488  100    17   1162      1  0:00:17  0:00:11  0:00:06  3873\n"
     ]
    },
    {
     "name": "stdout",
     "output_type": "stream",
     "text": [
      "PDB file generated successfully: /Users/jianchengluo/Desktop/CPPs/cpps_natrual/DRRRRGSRPSGAERRRR.pdb\n"
     ]
    },
    {
     "name": "stderr",
     "output_type": "stream",
     "text": [
      "  % Total    % Received % Xferd  Average Speed   Time    Time     Time  Current\n",
      "                                 Dload  Upload   Total   Spent    Left  Speed\n",
      "100 12855  100 12840  100    15   3495      4  0:00:03  0:00:03 --:--:--  3498\n"
     ]
    },
    {
     "name": "stdout",
     "output_type": "stream",
     "text": [
      "PDB file generated successfully: /Users/jianchengluo/Desktop/CPPs/cpps_natrual/QTRRRERRAEKQAQW.pdb\n"
     ]
    },
    {
     "name": "stderr",
     "output_type": "stream",
     "text": [
      "  % Total    % Received % Xferd  Average Speed   Time    Time     Time  Current\n",
      "                                 Dload  Upload   Total   Spent    Left  Speed\n",
      "100  8556  100  8547  100     9   3625      3  0:00:03  0:00:02  0:00:01  3630\n"
     ]
    },
    {
     "name": "stdout",
     "output_type": "stream",
     "text": [
      "PDB file generated successfully: /Users/jianchengluo/Desktop/CPPs/cpps_natrual/RRRERRAEK.pdb\n"
     ]
    },
    {
     "name": "stderr",
     "output_type": "stream",
     "text": [
      "  % Total    % Received % Xferd  Average Speed   Time    Time     Time  Current\n",
      "                                 Dload  Upload   Total   Spent    Left  Speed\n",
      "100 10016  100 10005  100    11   4275      4  0:00:02  0:00:02 --:--:--  4280\n"
     ]
    },
    {
     "name": "stdout",
     "output_type": "stream",
     "text": [
      "PDB file generated successfully: /Users/jianchengluo/Desktop/CPPs/cpps_natrual/NRARRNRRRVR.pdb\n"
     ]
    },
    {
     "name": "stderr",
     "output_type": "stream",
     "text": [
      "  % Total    % Received % Xferd  Average Speed   Time    Time     Time  Current\n",
      "                                 Dload  Upload   Total   Spent    Left  Speed\n",
      "100  9529  100  9519  100    10   1512      1  0:00:10  0:00:06  0:00:04  2364\n"
     ]
    },
    {
     "name": "stdout",
     "output_type": "stream",
     "text": [
      "PDB file generated successfully: /Users/jianchengluo/Desktop/CPPs/cpps_natrual/RTRRNRRRVR.pdb\n"
     ]
    },
    {
     "name": "stderr",
     "output_type": "stream",
     "text": [
      "  % Total    % Received % Xferd  Average Speed   Time    Time     Time  Current\n",
      "                                 Dload  Upload   Total   Spent    Left  Speed\n",
      "100  7907  100  7899  100     8   3425      3  0:00:02  0:00:02 --:--:--  3430\n"
     ]
    },
    {
     "name": "stdout",
     "output_type": "stream",
     "text": [
      "PDB file generated successfully: /Users/jianchengluo/Desktop/CPPs/cpps_natrual/RNRSRHRR.pdb\n"
     ]
    },
    {
     "name": "stderr",
     "output_type": "stream",
     "text": [
      "  % Total    % Received % Xferd  Average Speed   Time    Time     Time  Current\n",
      "                                 Dload  Upload   Total   Spent    Left  Speed\n",
      "100  7746  100  7737  100     9   3326      3  0:00:03  0:00:02  0:00:01  3331\n"
     ]
    },
    {
     "name": "stdout",
     "output_type": "stream",
     "text": [
      "PDB file generated successfully: /Users/jianchengluo/Desktop/CPPs/cpps_natrual/KCPSRRPKR.pdb\n"
     ]
    },
    {
     "name": "stderr",
     "output_type": "stream",
     "text": [
      "  % Total    % Received % Xferd  Average Speed   Time    Time     Time  Current\n",
      "                                 Dload  Upload   Total   Spent    Left  Speed\n",
      "100 11398  100 11382  100    16   4810      6  0:00:02  0:00:02 --:--:--  4815\n"
     ]
    },
    {
     "name": "stdout",
     "output_type": "stream",
     "text": [
      "PDB file generated successfully: /Users/jianchengluo/Desktop/CPPs/cpps_natrual/KRPAAIKKAGQAKKKK.pdb\n"
     ]
    },
    {
     "name": "stderr",
     "output_type": "stream",
     "text": [
      "  % Total    % Received % Xferd  Average Speed   Time    Time     Time  Current\n",
      "                                 Dload  Upload   Total   Spent    Left  Speed\n",
      "100 10665  100 10653  100    12   4411      4  0:00:03  0:00:02  0:00:01  4417\n"
     ]
    },
    {
     "name": "stdout",
     "output_type": "stream",
     "text": [
      "PDB file generated successfully: /Users/jianchengluo/Desktop/CPPs/cpps_natrual/TRRSKRRSHRKF.pdb\n"
     ]
    },
    {
     "name": "stderr",
     "output_type": "stream",
     "text": [
      "  % Total    % Received % Xferd  Average Speed   Time    Time     Time  Current\n",
      "                                 Dload  Upload   Total   Spent    Left  Speed\n",
      "100 12938  100 12921  100    17   5494      7  0:00:02  0:00:02 --:--:--  5500\n"
     ]
    },
    {
     "name": "stdout",
     "output_type": "stream",
     "text": [
      "PDB file generated successfully: /Users/jianchengluo/Desktop/CPPs/cpps_natrual/RAGLQFPVGRVHRLLRK.pdb\n"
     ]
    },
    {
     "name": "stderr",
     "output_type": "stream",
     "text": [
      "  % Total    % Received % Xferd  Average Speed   Time    Time     Time  Current\n",
      "                                 Dload  Upload   Total   Spent    Left  Speed\n",
      "100 16426  100 16404  100    22   3985      5  0:00:04  0:00:04 --:--:--  3991\n"
     ]
    },
    {
     "name": "stdout",
     "output_type": "stream",
     "text": [
      "PDB file generated successfully: /Users/jianchengluo/Desktop/CPPs/cpps_natrual/MVRRFLVTLRIRRACGPPRVRV.pdb\n"
     ]
    },
    {
     "name": "stderr",
     "output_type": "stream",
     "text": [
      "  % Total    % Received % Xferd  Average Speed   Time    Time     Time  Current\n",
      "                                 Dload  Upload   Total   Spent    Left  Speed\n",
      "100 16426  100 16404  100    22   6356      8  0:00:02  0:00:02 --:--:--  6366\n"
     ]
    },
    {
     "name": "stdout",
     "output_type": "stream",
     "text": [
      "PDB file generated successfully: /Users/jianchengluo/Desktop/CPPs/cpps_natrual/FVTRGCPRRLVARLIRVMVPRR.pdb\n"
     ]
    },
    {
     "name": "stderr",
     "output_type": "stream",
     "text": [
      "  % Total    % Received % Xferd  Average Speed   Time    Time     Time  Current\n",
      "                                 Dload  Upload   Total   Spent    Left  Speed\n",
      "100 10909  100 10896  100    13   4487      5  0:00:02  0:00:02 --:--:--  4492\n"
     ]
    },
    {
     "name": "stdout",
     "output_type": "stream",
     "text": [
      "PDB file generated successfully: /Users/jianchengluo/Desktop/CPPs/cpps_natrual/VRRFLVTLRIRRA.pdb\n"
     ]
    },
    {
     "name": "stderr",
     "output_type": "stream",
     "text": [
      "  % Total    % Received % Xferd  Average Speed   Time    Time     Time  Current\n",
      "                                 Dload  Upload   Total   Spent    Left  Speed\n",
      "100 10909  100 10896  100    13   4704      5  0:00:02  0:00:02 --:--:--  4710\n"
     ]
    },
    {
     "name": "stdout",
     "output_type": "stream",
     "text": [
      "PDB file generated successfully: /Users/jianchengluo/Desktop/CPPs/cpps_natrual/RVRILARFLRTRV.pdb\n"
     ]
    },
    {
     "name": "stderr",
     "output_type": "stream",
     "text": [
      "  % Total    % Received % Xferd  Average Speed   Time    Time     Time  Current\n",
      "                                 Dload  Upload   Total   Spent    Left  Speed\n",
      "100 10585  100 10572  100    13   4524      5  0:00:02  0:00:02 --:--:--  4529\n"
     ]
    },
    {
     "name": "stdout",
     "output_type": "stream",
     "text": [
      "PDB file generated successfully: /Users/jianchengluo/Desktop/CPPs/cpps_natrual/RVRVFVVHIPRLT.pdb\n"
     ]
    },
    {
     "name": "stderr",
     "output_type": "stream",
     "text": [
      "  % Total    % Received % Xferd  Average Speed   Time    Time     Time  Current\n",
      "                                 Dload  Upload   Total   Spent    Left  Speed\n",
      "100 10585  100 10572  100    13   4525      5  0:00:02  0:00:02 --:--:--  4533\n"
     ]
    },
    {
     "name": "stdout",
     "output_type": "stream",
     "text": [
      "PDB file generated successfully: /Users/jianchengluo/Desktop/CPPs/cpps_natrual/VIRVHFRLPVRTV.pdb\n"
     ]
    },
    {
     "name": "stderr",
     "output_type": "stream",
     "text": [
      "  % Total    % Received % Xferd  Average Speed   Time    Time     Time  Current\n",
      "                                 Dload  Upload   Total   Spent    Left  Speed\n",
      "100 26161  100 26124  100    37   9910     14  0:00:02  0:00:02 --:--:--  9924\n"
     ]
    },
    {
     "name": "stdout",
     "output_type": "stream",
     "text": [
      "PDB file generated successfully: /Users/jianchengluo/Desktop/CPPs/cpps_natrual/MVRRFLVTLRIRRACGPPRVRVFVVHIPRLTGEWAAP.pdb\n"
     ]
    },
    {
     "name": "stderr",
     "output_type": "stream",
     "text": [
      "  % Total    % Received % Xferd  Average Speed   Time    Time     Time  Current\n",
      "                                 Dload  Upload   Total   Spent    Left  Speed\n",
      "100 26161  100 26124  100    37   9664     13  0:00:02  0:00:02 --:--:--  9682\n"
     ]
    },
    {
     "name": "stdout",
     "output_type": "stream",
     "text": [
      "PDB file generated successfully: /Users/jianchengluo/Desktop/CPPs/cpps_natrual/FRVPLRIRPCVVAPRLVMVRHTFGRIARWVAGPLETR.pdb\n"
     ]
    },
    {
     "name": "stderr",
     "output_type": "stream",
     "text": [
      "  % Total    % Received % Xferd  Average Speed   Time    Time     Time  Current\n",
      "                                 Dload  Upload   Total   Spent    Left  Speed\n",
      "100 13914  100 13893  100    21  11013     16  0:00:01  0:00:01 --:--:-- 11025\n"
     ]
    },
    {
     "name": "stdout",
     "output_type": "stream",
     "text": [
      "PDB file generated successfully: /Users/jianchengluo/Desktop/CPPs/cpps_natrual/AGYLLGKINLKALAALAKKIL.pdb\n"
     ]
    },
    {
     "name": "stderr",
     "output_type": "stream",
     "text": [
      "  % Total    % Received % Xferd  Average Speed   Time    Time     Time  Current\n",
      "                                 Dload  Upload   Total   Spent    Left  Speed\n",
      "100 17644  100 17619  100    25   4236      6  0:00:04  0:00:04 --:--:--  4243\n"
     ]
    },
    {
     "name": "stdout",
     "output_type": "stream",
     "text": [
      "PDB file generated successfully: /Users/jianchengluo/Desktop/CPPs/cpps_natrual/GTKMIFVGIKKKEERADLIAYLKKA.pdb\n"
     ]
    },
    {
     "name": "stderr",
     "output_type": "stream",
     "text": [
      "  % Total    % Received % Xferd  Average Speed   Time    Time     Time  Current\n",
      "                                 Dload  Upload   Total   Spent    Left  Speed\n",
      "100 12289  100 12273  100    16   5245      6  0:00:02  0:00:02 --:--:--  5253\n"
     ]
    },
    {
     "name": "stdout",
     "output_type": "stream",
     "text": [
      "PDB file generated successfully: /Users/jianchengluo/Desktop/CPPs/cpps_natrual/KKKEERADLIAYLKKA.pdb\n"
     ]
    },
    {
     "name": "stderr",
     "output_type": "stream",
     "text": [
      "  % Total    % Received % Xferd  Average Speed   Time    Time     Time  Current\n",
      "                                 Dload  Upload   Total   Spent    Left  Speed\n",
      "100 10910  100 10896  100    14   4722      6  0:00:02  0:00:02 --:--:--  4729\n"
     ]
    },
    {
     "name": "stdout",
     "output_type": "stream",
     "text": [
      "PDB file generated successfully: /Users/jianchengluo/Desktop/CPPs/cpps_natrual/KMIFVGIKKKEERA.pdb\n"
     ]
    },
    {
     "name": "stderr",
     "output_type": "stream",
     "text": [
      "  % Total    % Received % Xferd  Average Speed   Time    Time     Time  Current\n",
      "                                 Dload  Upload   Total   Spent    Left  Speed\n",
      "100  8152  100  8142  100    10   2452      3  0:00:03  0:00:03 --:--:--  2456\n"
     ]
    },
    {
     "name": "stdout",
     "output_type": "stream",
     "text": [
      "PDB file generated successfully: /Users/jianchengluo/Desktop/CPPs/cpps_natrual/KMIFVGIKKK.pdb\n"
     ]
    },
    {
     "name": "stderr",
     "output_type": "stream",
     "text": [
      "  % Total    % Received % Xferd  Average Speed   Time    Time     Time  Current\n",
      "                                 Dload  Upload   Total   Spent    Left  Speed\n",
      "100  8314  100  8304  100    10   3600      4  0:00:02  0:00:02 --:--:--  3605\n"
     ]
    },
    {
     "name": "stdout",
     "output_type": "stream",
     "text": [
      "PDB file generated successfully: /Users/jianchengluo/Desktop/CPPs/cpps_natrual/EKGKKIFIMK.pdb\n"
     ]
    },
    {
     "name": "stderr",
     "output_type": "stream",
     "text": [
      "  % Total    % Received % Xferd  Average Speed   Time    Time     Time  Current\n",
      "                                 Dload  Upload   Total   Spent    Left  Speed\n",
      "100  7584  100  7575  100     9   7034      8  0:00:01  0:00:01 --:--:--  7048\n"
     ]
    },
    {
     "name": "stdout",
     "output_type": "stream",
     "text": [
      "PDB file generated successfully: /Users/jianchengluo/Desktop/CPPs/cpps_natrual/KGKKIFIMK.pdb\n"
     ]
    },
    {
     "name": "stderr",
     "output_type": "stream",
     "text": [
      "  % Total    % Received % Xferd  Average Speed   Time    Time     Time  Current\n",
      "                                 Dload  Upload   Total   Spent    Left  Speed\n",
      "100 14558  100 14541  100    17   5499      6  0:00:02  0:00:02 --:--:--  5506\n"
     ]
    },
    {
     "name": "stdout",
     "output_type": "stream",
     "text": [
      "PDB file generated successfully: /Users/jianchengluo/Desktop/CPPs/cpps_natrual/RRRRNRTRRNRRRVRGC.pdb\n"
     ]
    },
    {
     "name": "stderr",
     "output_type": "stream",
     "text": [
      "  % Total    % Received % Xferd  Average Speed   Time    Time     Time  Current\n",
      "                                 Dload  Upload   Total   Spent    Left  Speed\n",
      "100 12369  100 12354  100    15   5305      6  0:00:02  0:00:02 --:--:--  5313\n"
     ]
    },
    {
     "name": "stdout",
     "output_type": "stream",
     "text": [
      "PDB file generated successfully: /Users/jianchengluo/Desktop/CPPs/cpps_natrual/TRRQRTRRARRNRGC.pdb\n"
     ]
    },
    {
     "name": "stderr",
     "output_type": "stream",
     "text": [
      "  % Total    % Received % Xferd  Average Speed   Time    Time     Time  Current\n",
      "                                 Dload  Upload   Total   Spent    Left  Speed\n",
      "100 15615  100 15594  100    21   5866      7  0:00:03  0:00:02  0:00:01  5872\n"
     ]
    },
    {
     "name": "stdout",
     "output_type": "stream",
     "text": [
      "PDB file generated successfully: /Users/jianchengluo/Desktop/CPPs/cpps_natrual/KMTRAQRRAAARRNRWTARGC.pdb\n"
     ]
    },
    {
     "name": "stderr",
     "output_type": "stream",
     "text": [
      "  % Total    % Received % Xferd  Average Speed   Time    Time     Time  Current\n",
      "                                 Dload  Upload   Total   Spent    Left  Speed\n",
      "100 15291  100 15270  100    21   5785      7  0:00:03  0:00:02  0:00:01  5792\n"
     ]
    },
    {
     "name": "stdout",
     "output_type": "stream",
     "text": [
      "PDB file generated successfully: /Users/jianchengluo/Desktop/CPPs/cpps_natrual/KLTRAQRRAAARKNKRNTRGC.pdb\n"
     ]
    },
    {
     "name": "stderr",
     "output_type": "stream",
     "text": [
      "  % Total    % Received % Xferd  Average Speed   Time    Time     Time  Current\n",
      "                                 Dload  Upload   Total   Spent    Left  Speed\n",
      "100 14722  100 14703  100    19   5664      7  0:00:02  0:00:02 --:--:--  5673\n"
     ]
    },
    {
     "name": "stdout",
     "output_type": "stream",
     "text": [
      "PDB file generated successfully: /Users/jianchengluo/Desktop/CPPs/cpps_natrual/NAKTRRHERRRKLAIERGC.pdb\n"
     ]
    },
    {
     "name": "stderr",
     "output_type": "stream",
     "text": [
      "  % Total    % Received % Xferd  Average Speed   Time    Time     Time  Current\n",
      "                                 Dload  Upload   Total   Spent    Left  Speed\n",
      "100 17562  100 17538  100    24   6808      9  0:00:02  0:00:02 --:--:--  6817\n"
     ]
    },
    {
     "name": "stdout",
     "output_type": "stream",
     "text": [
      "PDB file generated successfully: /Users/jianchengluo/Desktop/CPPs/cpps_natrual/MDAQTRRRERRAEKQAQWKAANGC.pdb\n"
     ]
    },
    {
     "name": "stderr",
     "output_type": "stream",
     "text": [
      "  % Total    % Received % Xferd  Average Speed   Time    Time     Time  Current\n",
      "                                 Dload  Upload   Total   Spent    Left  Speed\n",
      "100 14723  100 14703  100    20   5740      7  0:00:02  0:00:02 --:--:--  5746\n"
     ]
    },
    {
     "name": "stdout",
     "output_type": "stream",
     "text": [
      "PDB file generated successfully: /Users/jianchengluo/Desktop/CPPs/cpps_natrual/TAKTRYKARRAELIAERRGC.pdb\n"
     ]
    },
    {
     "name": "stderr",
     "output_type": "stream",
     "text": [
      "  % Total    % Received % Xferd  Average Speed   Time    Time     Time  Current\n",
      "                                 Dload  Upload   Total   Spent    Left  Speed\n",
      "100 10181  100 10167  100    14   3195      4  0:00:03  0:00:03 --:--:--  3200\n"
     ]
    },
    {
     "name": "stdout",
     "output_type": "stream",
     "text": [
      "PDB file generated successfully: /Users/jianchengluo/Desktop/CPPs/cpps_natrual/SQMTRQARRLYBGC.pdb\n"
     ]
    },
    {
     "name": "stderr",
     "output_type": "stream",
     "text": [
      "  % Total    % Received % Xferd  Average Speed   Time    Time     Time  Current\n",
      "                                 Dload  Upload   Total   Spent    Left  Speed\n",
      "100 20725  100 20697  100    28   7329      9  0:00:03  0:00:02  0:00:01  7338\n"
     ]
    },
    {
     "name": "stdout",
     "output_type": "stream",
     "text": [
      "PDB file generated successfully: /Users/jianchengluo/Desktop/CPPs/cpps_natrual/KRRIRRERNKMAAAKSRNRRRELTDTGC.pdb\n"
     ]
    },
    {
     "name": "stderr",
     "output_type": "stream",
     "text": [
      "  % Total    % Received % Xferd  Average Speed   Time    Time     Time  Current\n",
      "                                 Dload  Upload   Total   Spent    Left  Speed\n",
      "100 21942  100 21912  100    30   8219     11  0:00:02  0:00:02 --:--:--  8233\n"
     ]
    },
    {
     "name": "stdout",
     "output_type": "stream",
     "text": [
      "PDB file generated successfully: /Users/jianchengluo/Desktop/CPPs/cpps_natrual/RIKAERKRMRNRIAASKSRKRKLERIARGC.pdb\n"
     ]
    },
    {
     "name": "stderr",
     "output_type": "stream",
     "text": [
      "  % Total    % Received % Xferd  Average Speed   Time    Time     Time  Current\n",
      "                                 Dload  Upload   Total   Spent    Left  Speed\n",
      "100 17562  100 17538  100    24   6177      8  0:00:03  0:00:02  0:00:01  6185\n"
     ]
    },
    {
     "name": "stdout",
     "output_type": "stream",
     "text": [
      "PDB file generated successfully: /Users/jianchengluo/Desktop/CPPs/cpps_natrual/KRARNTEAARRSRARKLQRMKQGC.pdb\n"
     ]
    },
    {
     "name": "stderr",
     "output_type": "stream",
     "text": [
      "  % Total    % Received % Xferd  Average Speed   Time    Time     Time  Current\n",
      "                                 Dload  Upload   Total   Spent    Left  Speed\n",
      "100 16750  100 16728  100    22  12784     16  0:00:01  0:00:01 --:--:-- 12796\n"
     ]
    },
    {
     "name": "stdout",
     "output_type": "stream",
     "text": [
      "PDB file generated successfully: /Users/jianchengluo/Desktop/CPPs/cpps_natrual/KCFQWQRNMRKVRGPPVSCIKR.pdb\n"
     ]
    },
    {
     "name": "stderr",
     "output_type": "stream",
     "text": [
      "  % Total    % Received % Xferd  Average Speed   Time    Time     Time  Current\n",
      "                                 Dload  Upload   Total   Spent    Left  Speed\n",
      "100 14479  100 14460  100    19   5643      7  0:00:02  0:00:02 --:--:--  5653\n"
     ]
    },
    {
     "name": "stdout",
     "output_type": "stream",
     "text": [
      "PDB file generated successfully: /Users/jianchengluo/Desktop/CPPs/cpps_natrual/KCFQWQRNMRKVRGPPVSC.pdb\n"
     ]
    },
    {
     "name": "stderr",
     "output_type": "stream",
     "text": [
      "  % Total    % Received % Xferd  Average Speed   Time    Time     Time  Current\n",
      "                                 Dload  Upload   Total   Spent    Left  Speed\n",
      "100 16750  100 16728  100    22   6369      8  0:00:02  0:00:02 --:--:--  6376\n"
     ]
    },
    {
     "name": "stdout",
     "output_type": "stream",
     "text": [
      "PDB file generated successfully: /Users/jianchengluo/Desktop/CPPs/cpps_natrual/KCFQWQRNMRKVRGPPVSSIKR.pdb\n"
     ]
    },
    {
     "name": "stderr",
     "output_type": "stream",
     "text": [
      "  % Total    % Received % Xferd  Average Speed   Time    Time     Time  Current\n",
      "                                 Dload  Upload   Total   Spent    Left  Speed\n",
      "100 11476  100 11463  100    13   3911      4  0:00:03  0:00:02  0:00:01  3915\n"
     ]
    },
    {
     "name": "stdout",
     "output_type": "stream",
     "text": [
      "PDB file generated successfully: /Users/jianchengluo/Desktop/CPPs/cpps_natrual/KCFQWQRNMRKVR.pdb\n"
     ]
    },
    {
     "name": "stderr",
     "output_type": "stream",
     "text": [
      "  % Total    % Received % Xferd  Average Speed   Time    Time     Time  Current\n",
      "                                 Dload  Upload   Total   Spent    Left  Speed\n",
      "100 12775  100 12759  100    16   4678      5  0:00:03  0:00:02  0:00:01  4684\n"
     ]
    },
    {
     "name": "stdout",
     "output_type": "stream",
     "text": [
      "PDB file generated successfully: /Users/jianchengluo/Desktop/CPPs/cpps_natrual/FQWQRNMRKVRGPPVS.pdb\n"
     ]
    },
    {
     "name": "stderr",
     "output_type": "stream",
     "text": [
      "  % Total    % Received % Xferd  Average Speed   Time    Time     Time  Current\n",
      "                                 Dload  Upload   Total   Spent    Left  Speed\n",
      "100 14641  100 14622  100    19   5683      7  0:00:02  0:00:02 --:--:--  5692\n"
     ]
    },
    {
     "name": "stdout",
     "output_type": "stream",
     "text": [
      "PDB file generated successfully: /Users/jianchengluo/Desktop/CPPs/cpps_natrual/QWQRNMRKVRGPPVSCIKR.pdb\n"
     ]
    },
    {
     "name": "stderr",
     "output_type": "stream",
     "text": [
      "  % Total    % Received % Xferd  Average Speed   Time    Time     Time  Current\n",
      "                                 Dload  Upload   Total   Spent    Left  Speed\n",
      "100  9367  100  9357  100    10   4053      4  0:00:02  0:00:02 --:--:--  4058\n"
     ]
    },
    {
     "name": "stdout",
     "output_type": "stream",
     "text": [
      "PDB file generated successfully: /Users/jianchengluo/Desktop/CPPs/cpps_natrual/QWQRNMRKVR.pdb\n"
     ]
    },
    {
     "name": "stderr",
     "output_type": "stream",
     "text": [
      "  % Total    % Received % Xferd  Average Speed   Time    Time     Time  Current\n",
      "                                 Dload  Upload   Total   Spent    Left  Speed\n",
      "100  9528  100  9519  100     9   9103      8  0:00:01  0:00:01 --:--:--  9108\n"
     ]
    },
    {
     "name": "stdout",
     "output_type": "stream",
     "text": [
      "PDB file generated successfully: /Users/jianchengluo/Desktop/CPPs/cpps_natrual/RRRRRRRRR.pdb\n"
     ]
    },
    {
     "name": "stderr",
     "output_type": "stream",
     "text": [
      "  % Total    % Received % Xferd  Average Speed   Time    Time     Time  Current\n",
      "                                 Dload  Upload   Total   Spent    Left  Speed\n",
      "100 14314  100 14298  100    16   6253      6  0:00:02  0:00:02 --:--:--  6261\n"
     ]
    },
    {
     "name": "stdout",
     "output_type": "stream",
     "text": [
      "PDB file generated successfully: /Users/jianchengluo/Desktop/CPPs/cpps_natrual/RQIKIWFQNRRMKWKK.pdb\n"
     ]
    },
    {
     "name": "stderr",
     "output_type": "stream",
     "text": [
      "  % Total    % Received % Xferd  Average Speed   Time    Time     Time  Current\n",
      "                                 Dload  Upload   Total   Spent    Left  Speed\n",
      "100 16183  100 16161  100    22   6160      8  0:00:02  0:00:02 --:--:--  6169\n"
     ]
    },
    {
     "name": "stdout",
     "output_type": "stream",
     "text": [
      "PDB file generated successfully: /Users/jianchengluo/Desktop/CPPs/cpps_natrual/KCFMWQEMLNKAGVPKLRCARK.pdb\n"
     ]
    },
    {
     "name": "stderr",
     "output_type": "stream",
     "text": [
      "  % Total    % Received % Xferd  Average Speed   Time    Time     Time  Current\n",
      "                                 Dload  Upload   Total   Spent    Left  Speed\n",
      "100 17964  100 17943  100    21  13737     16  0:00:01  0:00:01 --:--:-- 13765\n"
     ]
    },
    {
     "name": "stdout",
     "output_type": "stream",
     "text": [
      "PDB file generated successfully: /Users/jianchengluo/Desktop/CPPs/cpps_natrual/KETWWETWWTEWSQPKKKRKV.pdb\n"
     ]
    },
    {
     "name": "stderr",
     "output_type": "stream",
     "text": [
      "  % Total    % Received % Xferd  Average Speed   Time    Time     Time  Current\n",
      "                                 Dload  Upload   Total   Spent    Left  Speed\n",
      "100 17478  100 17457  100    21   6744      8  0:00:02  0:00:02 --:--:--  6756\n"
     ]
    },
    {
     "name": "stdout",
     "output_type": "stream",
     "text": [
      "PDB file generated successfully: /Users/jianchengluo/Desktop/CPPs/cpps_natrual/KETWFETWFTEWSQPKKKRKV.pdb\n"
     ]
    },
    {
     "name": "stderr",
     "output_type": "stream",
     "text": [
      "  % Total    % Received % Xferd  Average Speed   Time    Time     Time  Current\n",
      "                                 Dload  Upload   Total   Spent    Left  Speed\n",
      "100 13665  100 13650  100    15   3231      3  0:00:05  0:00:04  0:00:01  3238\n"
     ]
    },
    {
     "name": "stdout",
     "output_type": "stream",
     "text": [
      "PDB file generated successfully: /Users/jianchengluo/Desktop/CPPs/cpps_natrual/KWFETWFTEWPKKRK.pdb\n"
     ]
    },
    {
     "name": "stderr",
     "output_type": "stream",
     "text": [
      "  % Total    % Received % Xferd  Average Speed   Time    Time     Time  Current\n",
      "                                 Dload  Upload   Total   Spent    Left  Speed\n",
      "100 16667  100 16647  100    20   4771      5  0:00:04  0:00:03  0:00:01  4778\n"
     ]
    },
    {
     "name": "stdout",
     "output_type": "stream",
     "text": [
      "PDB file generated successfully: /Users/jianchengluo/Desktop/CPPs/cpps_natrual/GLWRALWRLLRSLWRLLWRA.pdb\n"
     ]
    },
    {
     "name": "stderr",
     "output_type": "stream",
     "text": [
      "  % Total    % Received % Xferd  Average Speed   Time    Time     Time  Current\n",
      "                                 Dload  Upload   Total   Spent    Left  Speed\n",
      "100 18368  100 18348  100    20   6927      7  0:00:02  0:00:02 --:--:--  6933\n"
     ]
    },
    {
     "name": "stdout",
     "output_type": "stream",
     "text": [
      "PDB file generated successfully: /Users/jianchengluo/Desktop/CPPs/cpps_natrual/GLWWRLWWRLRSWFRLWFRA.pdb\n"
     ]
    },
    {
     "name": "stderr",
     "output_type": "stream",
     "text": [
      "  % Total    % Received % Xferd  Average Speed   Time    Time     Time  Current\n",
      "                                 Dload  Upload   Total   Spent    Left  Speed\n",
      "100 22270  100 22236  100    34   5501      8  0:00:04  0:00:04 --:--:--  5511\n"
     ]
    },
    {
     "name": "stdout",
     "output_type": "stream",
     "text": [
      "PDB file generated successfully: /Users/jianchengluo/Desktop/CPPs/cpps_natrual/DAATATRGRSAASRPTQRPRAPARSASRPRRPVE.pdb\n"
     ]
    },
    {
     "name": "stderr",
     "output_type": "stream",
     "text": [
      "  % Total    % Received % Xferd  Average Speed   Time    Time     Time  Current\n",
      "                                 Dload  Upload   Total   Spent    Left  Speed\n",
      "100 17484  100 17457  100    27  13489     20  0:00:01  0:00:01 --:--:-- 13511\n"
     ]
    },
    {
     "name": "stdout",
     "output_type": "stream",
     "text": [
      "PDB file generated successfully: /Users/jianchengluo/Desktop/CPPs/cpps_natrual/GALFLGFLGAAGSTMGAWSQPKKKRKV.pdb\n"
     ]
    },
    {
     "name": "stderr",
     "output_type": "stream",
     "text": [
      "  % Total    % Received % Xferd  Average Speed   Time    Time     Time  Current\n",
      "                                 Dload  Upload   Total   Spent    Left  Speed\n",
      "100 17241  100 17214  100    27  13547     21  0:00:01  0:00:01 --:--:-- 13564\n"
     ]
    },
    {
     "name": "stdout",
     "output_type": "stream",
     "text": [
      "PDB file generated successfully: /Users/jianchengluo/Desktop/CPPs/cpps_natrual/GALFLGFLGAAGSTMGAWSQPKSKRKV.pdb\n"
     ]
    },
    {
     "name": "stderr",
     "output_type": "stream",
     "text": [
      "  % Total    % Received % Xferd  Average Speed   Time    Time     Time  Current\n",
      "                                 Dload  Upload   Total   Spent    Left  Speed\n",
      "100 22756  100 22722  100    34   8617     12  0:00:02  0:00:02 --:--:--  8632\n"
     ]
    },
    {
     "name": "stdout",
     "output_type": "stream",
     "text": [
      "PDB file generated successfully: /Users/jianchengluo/Desktop/CPPs/cpps_natrual/AKVKDEPQRRSARLSAKPAPPKPEPKPKKAPAKK.pdb\n"
     ]
    },
    {
     "name": "stderr",
     "output_type": "stream",
     "text": [
      "  % Total    % Received % Xferd  Average Speed   Time    Time     Time  Current\n",
      "                                 Dload  Upload   Total   Spent    Left  Speed\n",
      "100  8802  100  8790  100    12   3372      4  0:00:03  0:00:02  0:00:01  3376\n"
     ]
    },
    {
     "name": "stdout",
     "output_type": "stream",
     "text": [
      "PDB file generated successfully: /Users/jianchengluo/Desktop/CPPs/cpps_natrual/PLSSIFSRIGDP.pdb\n"
     ]
    },
    {
     "name": "stderr",
     "output_type": "stream",
     "text": [
      "  % Total    % Received % Xferd  Average Speed   Time    Time     Time  Current\n",
      "                                 Dload  Upload   Total   Spent    Left  Speed\n",
      "100  8073  100  8061  100    12   1441      2  0:00:06  0:00:05  0:00:01  2268\n"
     ]
    },
    {
     "name": "stdout",
     "output_type": "stream",
     "text": [
      "PDB file generated successfully: /Users/jianchengluo/Desktop/CPPs/cpps_natrual/PSSSSSSRIGDP.pdb\n"
     ]
    },
    {
     "name": "stderr",
     "output_type": "stream",
     "text": [
      "  % Total    % Received % Xferd  Average Speed   Time    Time     Time  Current\n",
      "                                 Dload  Upload   Total   Spent    Left  Speed\n",
      "100 12453  100 12435  100    18   5122      7  0:00:02  0:00:02 --:--:--  5131\n"
     ]
    },
    {
     "name": "stdout",
     "output_type": "stream",
     "text": [
      "PDB file generated successfully: /Users/jianchengluo/Desktop/CPPs/cpps_natrual/VELPPPVELPPPVELPPP.pdb\n"
     ]
    },
    {
     "name": "stderr",
     "output_type": "stream",
     "text": [
      "  % Total    % Received % Xferd  Average Speed   Time    Time     Time  Current\n",
      "                                 Dload  Upload   Total   Spent    Left  Speed\n",
      "100 17647  100 17619  100    28   3629      5  0:00:05  0:00:04  0:00:01  4070\n"
     ]
    },
    {
     "name": "stdout",
     "output_type": "stream",
     "text": [
      "PDB file generated successfully: /Users/jianchengluo/Desktop/CPPs/cpps_natrual/ALWMTLLKKVLKAAAKAALNAVLVGANA.pdb\n"
     ]
    },
    {
     "name": "stderr",
     "output_type": "stream",
     "text": [
      "  % Total    % Received % Xferd  Average Speed   Time    Time     Time  Current\n",
      "                                 Dload  Upload   Total   Spent    Left  Speed\n",
      "100 10099  100 10086  100    13   4201      5  0:00:02  0:00:02 --:--:--  4207\n"
     ]
    },
    {
     "name": "stdout",
     "output_type": "stream",
     "text": [
      "PDB file generated successfully: /Users/jianchengluo/Desktop/CPPs/cpps_natrual/ALWKTLLKKVLKA.pdb\n"
     ]
    },
    {
     "name": "stderr",
     "output_type": "stream",
     "text": [
      "  % Total    % Received % Xferd  Average Speed   Time    Time     Time  Current\n",
      "                                 Dload  Upload   Total   Spent    Left  Speed\n",
      "100 15047  100 15027  100    20   5834      7  0:00:02  0:00:02 --:--:--  5841\n"
     ]
    },
    {
     "name": "stdout",
     "output_type": "stream",
     "text": [
      "PDB file generated successfully: /Users/jianchengluo/Desktop/CPPs/cpps_natrual/ALWKTLLKKVLKAPKKKRKV.pdb\n"
     ]
    },
    {
     "name": "stderr",
     "output_type": "stream",
     "text": [
      "  % Total    % Received % Xferd  Average Speed   Time    Time     Time  Current\n",
      "                                 Dload  Upload   Total   Spent    Left  Speed\n",
      "100 15047  100 15027  100    20   5593      7  0:00:02  0:00:02 --:--:--  5599\n"
     ]
    },
    {
     "name": "stdout",
     "output_type": "stream",
     "text": [
      "PDB file generated successfully: /Users/jianchengluo/Desktop/CPPs/cpps_natrual/PKKKRKVALWKTLLKKVLKA.pdb\n"
     ]
    },
    {
     "name": "stderr",
     "output_type": "stream",
     "text": [
      "  % Total    % Received % Xferd  Average Speed   Time    Time     Time  Current\n",
      "                                 Dload  Upload   Total   Spent    Left  Speed\n",
      "100 15047  100 15027  100    20   5779      7  0:00:02  0:00:02 --:--:--  5789\n"
     ]
    },
    {
     "name": "stdout",
     "output_type": "stream",
     "text": [
      "PDB file generated successfully: /Users/jianchengluo/Desktop/CPPs/cpps_natrual/VKRKKKPALWKTLLKKVLKA.pdb\n"
     ]
    },
    {
     "name": "stderr",
     "output_type": "stream",
     "text": [
      "  % Total    % Received % Xferd  Average Speed   Time    Time     Time  Current\n",
      "                                 Dload  Upload   Total   Spent    Left  Speed\n",
      "100 17236  100 17214  100    22   6601      8  0:00:02  0:00:02 --:--:--  6608\n"
     ]
    },
    {
     "name": "stdout",
     "output_type": "stream",
     "text": [
      "PDB file generated successfully: /Users/jianchengluo/Desktop/CPPs/cpps_natrual/RQARRNRRRALWKTLLKKVLKA.pdb\n"
     ]
    },
    {
     "name": "stderr",
     "output_type": "stream",
     "text": [
      "  % Total    % Received % Xferd  Average Speed   Time    Time     Time  Current\n",
      "                                 Dload  Upload   Total   Spent    Left  Speed\n",
      "100  9124  100  9114  100    10   3760      4  0:00:02  0:00:02 --:--:--  3765\n"
     ]
    },
    {
     "name": "stdout",
     "output_type": "stream",
     "text": [
      "PDB file generated successfully: /Users/jianchengluo/Desktop/CPPs/cpps_natrual/RQARRNRRRC.pdb\n"
     ]
    },
    {
     "name": "stderr",
     "output_type": "stream",
     "text": [
      "  % Total    % Received % Xferd  Average Speed   Time    Time     Time  Current\n",
      "                                 Dload  Upload   Total   Spent    Left  Speed\n",
      "100 11720  100 11706  100    14  11087     13  0:00:01  0:00:01 --:--:-- 11109\n"
     ]
    },
    {
     "name": "stdout",
     "output_type": "stream",
     "text": [
      "PDB file generated successfully: /Users/jianchengluo/Desktop/CPPs/cpps_natrual/GRKKRRQRRRPPQC.pdb\n"
     ]
    },
    {
     "name": "stderr",
     "output_type": "stream",
     "text": [
      "  % Total    % Received % Xferd  Average Speed   Time    Time     Time  Current\n",
      "                                 Dload  Upload   Total   Spent    Left  Speed\n",
      "100 10261  100 10248  100    13   1955      2  0:00:06  0:00:05  0:00:01  2420\n"
     ]
    },
    {
     "name": "stdout",
     "output_type": "stream",
     "text": [
      "PDB file generated successfully: /Users/jianchengluo/Desktop/CPPs/cpps_natrual/EEEAAGRKRKKRT.pdb\n"
     ]
    },
    {
     "name": "stderr",
     "output_type": "stream",
     "text": [
      "  % Total    % Received % Xferd  Average Speed   Time    Time     Time  Current\n",
      "                                 Dload  Upload   Total   Spent    Left  Speed\n",
      "100  3690  100  3687  100     3   1575      1  0:00:03  0:00:02  0:00:01  1576\n"
     ]
    },
    {
     "name": "stdout",
     "output_type": "stream",
     "text": [
      "PDB file generated successfully: /Users/jianchengluo/Desktop/CPPs/cpps_natrual/EEE.pdb\n"
     ]
    },
    {
     "name": "stderr",
     "output_type": "stream",
     "text": [
      "  % Total    % Received % Xferd  Average Speed   Time    Time     Time  Current\n",
      "                                 Dload  Upload   Total   Spent    Left  Speed\n",
      "100  4502  100  4497  100     5   1946      2  0:00:02  0:00:02 --:--:--  1948\n"
     ]
    },
    {
     "name": "stdout",
     "output_type": "stream",
     "text": [
      "PDB file generated successfully: /Users/jianchengluo/Desktop/CPPs/cpps_natrual/EEEAA.pdb\n"
     ]
    },
    {
     "name": "stderr",
     "output_type": "stream",
     "text": [
      "  % Total    % Received % Xferd  Average Speed   Time    Time     Time  Current\n",
      "                                 Dload  Upload   Total   Spent    Left  Speed\n",
      "100  6692  100  6684  100     8   2810      3  0:00:02  0:00:02 --:--:--  2812\n"
     ]
    },
    {
     "name": "stdout",
     "output_type": "stream",
     "text": [
      "PDB file generated successfully: /Users/jianchengluo/Desktop/CPPs/cpps_natrual/EEEAAKKK.pdb\n"
     ]
    },
    {
     "name": "stderr",
     "output_type": "stream",
     "text": [
      "  % Total    % Received % Xferd  Average Speed   Time    Time     Time  Current\n",
      "                                 Dload  Upload   Total   Spent    Left  Speed\n",
      "100  7259  100  7251  100     8   2192      2  0:00:04  0:00:03  0:00:01  2195\n"
     ]
    },
    {
     "name": "stdout",
     "output_type": "stream",
     "text": [
      "PDB file generated successfully: /Users/jianchengluo/Desktop/CPPs/cpps_natrual/GRKRKKRT.pdb\n"
     ]
    },
    {
     "name": "stderr",
     "output_type": "stream",
     "text": [
      "  % Total    % Received % Xferd  Average Speed   Time    Time     Time  Current\n",
      "                                 Dload  Upload   Total   Spent    Left  Speed\n",
      "100 10747  100 10734  100    13   4601      5  0:00:02  0:00:02 --:--:--  4606\n"
     ]
    },
    {
     "name": "stdout",
     "output_type": "stream",
     "text": [
      "PDB file generated successfully: /Users/jianchengluo/Desktop/CPPs/cpps_natrual/FFFAAGRKRKKRT.pdb\n"
     ]
    },
    {
     "name": "stderr",
     "output_type": "stream",
     "text": [
      "  % Total    % Received % Xferd  Average Speed   Time    Time     Time  Current\n",
      "                                 Dload  Upload   Total   Spent    Left  Speed\n",
      "100 10018  100 10005  100    13   4350      5  0:00:02  0:00:02 --:--:--  4357\n"
     ]
    },
    {
     "name": "stdout",
     "output_type": "stream",
     "text": [
      "PDB file generated successfully: /Users/jianchengluo/Desktop/CPPs/cpps_natrual/NNNAAGRKRKKRT.pdb\n"
     ]
    },
    {
     "name": "stderr",
     "output_type": "stream",
     "text": [
      "  % Total    % Received % Xferd  Average Speed   Time    Time     Time  Current\n",
      "                                 Dload  Upload   Total   Spent    Left  Speed\n",
      "100 10990  100 10977  100    13   4779      5  0:00:02  0:00:02 --:--:--  4786\n"
     ]
    },
    {
     "name": "stdout",
     "output_type": "stream",
     "text": [
      "PDB file generated successfully: /Users/jianchengluo/Desktop/CPPs/cpps_natrual/YYYAAGRKRKKRT.pdb\n"
     ]
    },
    {
     "name": "stderr",
     "output_type": "stream",
     "text": [
      "  % Total    % Received % Xferd  Average Speed   Time    Time     Time  Current\n",
      "                                 Dload  Upload   Total   Spent    Left  Speed\n",
      "100 16426  100 16404  100    22  10131     13  0:00:01  0:00:01 --:--:-- 10139\n"
     ]
    },
    {
     "name": "stdout",
     "output_type": "stream",
     "text": [
      "PDB file generated successfully: /Users/jianchengluo/Desktop/CPPs/cpps_natrual/MVTVLFRRLRIRRACGPPRVRV.pdb\n"
     ]
    },
    {
     "name": "stderr",
     "output_type": "stream",
     "text": [
      "  % Total    % Received % Xferd  Average Speed   Time    Time     Time  Current\n",
      "                                 Dload  Upload   Total   Spent    Left  Speed\n",
      "100 14314  100 14298  100    16  11011     12  0:00:01  0:00:01 --:--:-- 11027\n"
     ]
    },
    {
     "name": "stdout",
     "output_type": "stream",
     "text": [
      "PDB file generated successfully: /Users/jianchengluo/Desktop/CPPs/cpps_natrual/RQIKIWFQNRRMKWKK.pdb\n"
     ]
    },
    {
     "name": "stderr",
     "output_type": "stream",
     "text": [
      "  % Total    % Received % Xferd  Average Speed   Time    Time     Time  Current\n",
      "                                 Dload  Upload   Total   Spent    Left  Speed\n",
      "100 13914  100 13893  100    21  11114     16  0:00:01  0:00:01 --:--:-- 11140\n"
     ]
    },
    {
     "name": "stdout",
     "output_type": "stream",
     "text": [
      "PDB file generated successfully: /Users/jianchengluo/Desktop/CPPs/cpps_natrual/AGYLLGKINLKALAALAKKIL.pdb\n"
     ]
    },
    {
     "name": "stderr",
     "output_type": "stream",
     "text": [
      "  % Total    % Received % Xferd  Average Speed   Time    Time     Time  Current\n",
      "                                 Dload  Upload   Total   Spent    Left  Speed\n",
      "100  8638  100  8628  100    10   3532      4  0:00:02  0:00:02 --:--:--  3535\n"
     ]
    },
    {
     "name": "stdout",
     "output_type": "stream",
     "text": [
      "PDB file generated successfully: /Users/jianchengluo/Desktop/CPPs/cpps_natrual/VQRKRQKLMP.pdb\n"
     ]
    },
    {
     "name": "stderr",
     "output_type": "stream",
     "text": [
      "  % Total    % Received % Xferd  Average Speed   Time    Time     Time  Current\n",
      "                                 Dload  Upload   Total   Spent    Left  Speed\n",
      "100  6773  100  6765  100     8   2957      3  0:00:02  0:00:02 --:--:--  2961\n"
     ]
    },
    {
     "name": "stdout",
     "output_type": "stream",
     "text": [
      "PDB file generated successfully: /Users/jianchengluo/Desktop/CPPs/cpps_natrual/SKKKKTKV.pdb\n"
     ]
    },
    {
     "name": "stderr",
     "output_type": "stream",
     "text": [
      "  % Total    % Received % Xferd  Average Speed   Time    Time     Time  Current\n",
      "                                 Dload  Upload   Total   Spent    Left  Speed\n",
      "100  7259  100  7251  100     8   3883      4  0:00:02  0:00:01  0:00:01  3888\n"
     ]
    },
    {
     "name": "stdout",
     "output_type": "stream",
     "text": [
      "PDB file generated successfully: /Users/jianchengluo/Desktop/CPPs/cpps_natrual/GRKRKKRT.pdb\n"
     ]
    },
    {
     "name": "stderr",
     "output_type": "stream",
     "text": [
      "  % Total    % Received % Xferd  Average Speed   Time    Time     Time  Current\n",
      "                                 Dload  Upload   Total   Spent    Left  Speed\n",
      "100  9368  100  9357  100    11   2701      3  0:00:03  0:00:03 --:--:--  2704\n"
     ]
    },
    {
     "name": "stdout",
     "output_type": "stream",
     "text": [
      "PDB file generated successfully: /Users/jianchengluo/Desktop/CPPs/cpps_natrual/GKKKKRKREKL.pdb\n"
     ]
    },
    {
     "name": "stderr",
     "output_type": "stream",
     "text": [
      "  % Total    % Received % Xferd  Average Speed   Time    Time     Time  Current\n",
      "                                 Dload  Upload   Total   Spent    Left  Speed\n",
      "100  6448  100  6441  100     7   2780      3  0:00:02  0:00:02 --:--:--  2785\n"
     ]
    },
    {
     "name": "stdout",
     "output_type": "stream",
     "text": [
      "PDB file generated successfully: /Users/jianchengluo/Desktop/CPPs/cpps_natrual/PKKKRKV.pdb\n"
     ]
    },
    {
     "name": "stderr",
     "output_type": "stream",
     "text": [
      "  % Total    % Received % Xferd  Average Speed   Time    Time     Time  Current\n",
      "                                 Dload  Upload   Total   Spent    Left  Speed\n",
      "100  7988  100  7980  100     8   3429      3  0:00:02  0:00:02 --:--:--  3434\n"
     ]
    },
    {
     "name": "stdout",
     "output_type": "stream",
     "text": [
      "PDB file generated successfully: /Users/jianchengluo/Desktop/CPPs/cpps_natrual/ERKKRRRE.pdb\n"
     ]
    },
    {
     "name": "stderr",
     "output_type": "stream",
     "text": [
      "  % Total    % Received % Xferd  Average Speed   Time    Time     Time  Current\n",
      "                                 Dload  Upload   Total   Spent    Left  Speed\n",
      "100  7258  100  7251  100     7   1760      1  0:00:07  0:00:04  0:00:03  1762\n"
     ]
    },
    {
     "name": "stdout",
     "output_type": "stream",
     "text": [
      "PDB file generated successfully: /Users/jianchengluo/Desktop/CPPs/cpps_natrual/FKKFRKF.pdb\n"
     ]
    },
    {
     "name": "stderr",
     "output_type": "stream",
     "text": [
      "  % Total    % Received % Xferd  Average Speed   Time    Time     Time  Current\n",
      "                                 Dload  Upload   Total   Spent    Left  Speed\n",
      "100 16509  100 16485  100    24  12613     18  0:00:01  0:00:01 --:--:-- 12631\n"
     ]
    },
    {
     "name": "stdout",
     "output_type": "stream",
     "text": [
      "PDB file generated successfully: /Users/jianchengluo/Desktop/CPPs/cpps_natrual/LGTYTQDFNKFHTFPQTAIGVGAP.pdb\n"
     ]
    },
    {
     "name": "stderr",
     "output_type": "stream",
     "text": [
      "  % Total    % Received % Xferd  Average Speed   Time    Time     Time  Current\n",
      "                                 Dload  Upload   Total   Spent    Left  Speed\n",
      "100 16509  100 16485  100    24  12708     18  0:00:01  0:00:01 --:--:-- 12728\n"
     ]
    },
    {
     "name": "stdout",
     "output_type": "stream",
     "text": [
      "PDB file generated successfully: /Users/jianchengluo/Desktop/CPPs/cpps_natrual/LGTYTQDFNKFHTFPQTAIGVGAP.pdb\n"
     ]
    },
    {
     "name": "stderr",
     "output_type": "stream",
     "text": [
      "  % Total    % Received % Xferd  Average Speed   Time    Time     Time  Current\n",
      "                                 Dload  Upload   Total   Spent    Left  Speed\n",
      "100 14967  100 14946  100    21   5525      7  0:00:03  0:00:02  0:00:01  5533\n"
     ]
    },
    {
     "name": "stdout",
     "output_type": "stream",
     "text": [
      "PDB file generated successfully: /Users/jianchengluo/Desktop/CPPs/cpps_natrual/YTQDFNKFHTFPQTAIGVGAP.pdb\n"
     ]
    },
    {
     "name": "stderr",
     "output_type": "stream",
     "text": [
      "  % Total    % Received % Xferd  Average Speed   Time    Time     Time  Current\n",
      "                                 Dload  Upload   Total   Spent    Left  Speed\n",
      "100 12696  100 12678  100    18   5371      7  0:00:02  0:00:02 --:--:--  5379\n"
     ]
    },
    {
     "name": "stdout",
     "output_type": "stream",
     "text": [
      "PDB file generated successfully: /Users/jianchengluo/Desktop/CPPs/cpps_natrual/DFNKFHTFPQTAIGVGAP.pdb\n"
     ]
    },
    {
     "name": "stderr",
     "output_type": "stream",
     "text": [
      "  % Total    % Received % Xferd  Average Speed   Time    Time     Time  Current\n",
      "                                 Dload  Upload   Total   Spent    Left  Speed\n",
      "100 10506  100 10491  100    15   4545      6  0:00:02  0:00:02 --:--:--  4551\n"
     ]
    },
    {
     "name": "stdout",
     "output_type": "stream",
     "text": [
      "PDB file generated successfully: /Users/jianchengluo/Desktop/CPPs/cpps_natrual/KFHTFPQTAIGVGAP.pdb\n"
     ]
    },
    {
     "name": "stderr",
     "output_type": "stream",
     "text": [
      "  % Total    % Received % Xferd  Average Speed   Time    Time     Time  Current\n",
      "                                 Dload  Upload   Total   Spent    Left  Speed\n",
      "100  8073  100  8061  100    12   1938      2  0:00:06  0:00:04  0:00:02  1942\n"
     ]
    },
    {
     "name": "stdout",
     "output_type": "stream",
     "text": [
      "PDB file generated successfully: /Users/jianchengluo/Desktop/CPPs/cpps_natrual/TFPQTAIGVGAP.pdb\n"
     ]
    },
    {
     "name": "stderr",
     "output_type": "stream",
     "text": [
      "  % Total    % Received % Xferd  Average Speed   Time    Time     Time  Current\n",
      "                                 Dload  Upload   Total   Spent    Left  Speed\n",
      "100 10990  100 10977  100    13   4613      5  0:00:02  0:00:02 --:--:--  4619\n"
     ]
    },
    {
     "name": "stdout",
     "output_type": "stream",
     "text": [
      "PDB file generated successfully: /Users/jianchengluo/Desktop/CPPs/cpps_natrual/GYGRKKRRQRRRG.pdb\n"
     ]
    },
    {
     "name": "stderr",
     "output_type": "stream",
     "text": [
      "  % Total    % Received % Xferd  Average Speed   Time    Time     Time  Current\n",
      "                                 Dload  Upload   Total   Spent    Left  Speed\n",
      "100 10990  100 10977  100    13  10485     12  0:00:01  0:00:01 --:--:-- 10506\n"
     ]
    },
    {
     "name": "stdout",
     "output_type": "stream",
     "text": [
      "PDB file generated successfully: /Users/jianchengluo/Desktop/CPPs/cpps_natrual/GYGRKKRRQRRRG.pdb\n"
     ]
    },
    {
     "name": "stderr",
     "output_type": "stream",
     "text": [
      "  % Total    % Received % Xferd  Average Speed   Time    Time     Time  Current\n",
      "                                 Dload  Upload   Total   Spent    Left  Speed\n",
      "100 10990  100 10977  100    13   3428      4  0:00:03  0:00:03 --:--:--  3433\n"
     ]
    },
    {
     "name": "stdout",
     "output_type": "stream",
     "text": [
      "PDB file generated successfully: /Users/jianchengluo/Desktop/CPPs/cpps_natrual/GYGRKKRRQRRRG.pdb\n"
     ]
    },
    {
     "name": "stderr",
     "output_type": "stream",
     "text": [
      "  % Total    % Received % Xferd  Average Speed   Time    Time     Time  Current\n",
      "                                 Dload  Upload   Total   Spent    Left  Speed\n",
      "100 14314  100 14298  100    16   4878      5  0:00:03  0:00:02  0:00:01  4885\n"
     ]
    },
    {
     "name": "stdout",
     "output_type": "stream",
     "text": [
      "PDB file generated successfully: /Users/jianchengluo/Desktop/CPPs/cpps_natrual/RQIKIWFQNRRMKWKK.pdb\n"
     ]
    },
    {
     "name": "stderr",
     "output_type": "stream",
     "text": [
      "  % Total    % Received % Xferd  Average Speed   Time    Time     Time  Current\n",
      "                                 Dload  Upload   Total   Spent    Left  Speed\n",
      "100 14314  100 14298  100    16  10963     12  0:00:01  0:00:01 --:--:-- 10976\n"
     ]
    },
    {
     "name": "stdout",
     "output_type": "stream",
     "text": [
      "PDB file generated successfully: /Users/jianchengluo/Desktop/CPPs/cpps_natrual/RQIKIWFQNRRMKWKK.pdb\n"
     ]
    },
    {
     "name": "stderr",
     "output_type": "stream",
     "text": [
      "  % Total    % Received % Xferd  Average Speed   Time    Time     Time  Current\n",
      "                                 Dload  Upload   Total   Spent    Left  Speed\n",
      "100 14314  100 14298  100    16  11137     12  0:00:01  0:00:01 --:--:-- 11156\n"
     ]
    },
    {
     "name": "stdout",
     "output_type": "stream",
     "text": [
      "PDB file generated successfully: /Users/jianchengluo/Desktop/CPPs/cpps_natrual/RQIKIWFQNRRMKWKK.pdb\n"
     ]
    },
    {
     "name": "stderr",
     "output_type": "stream",
     "text": [
      "  % Total    % Received % Xferd  Average Speed   Time    Time     Time  Current\n",
      "                                 Dload  Upload   Total   Spent    Left  Speed\n",
      "100 12450  100 12435  100    15   5328      6  0:00:02  0:00:02 --:--:--  5336\n"
     ]
    },
    {
     "name": "stdout",
     "output_type": "stream",
     "text": [
      "PDB file generated successfully: /Users/jianchengluo/Desktop/CPPs/cpps_natrual/FLGKKFKKYFLQLLK.pdb\n"
     ]
    },
    {
     "name": "stderr",
     "output_type": "stream",
     "text": [
      "  % Total    % Received % Xferd  Average Speed   Time    Time     Time  Current\n",
      "                                 Dload  Upload   Total   Spent    Left  Speed\n",
      "100 16346  100 16323  100    23   4823      6  0:00:03  0:00:03 --:--:--  4828\n"
     ]
    },
    {
     "name": "stdout",
     "output_type": "stream",
     "text": [
      "PDB file generated successfully: /Users/jianchengluo/Desktop/CPPs/cpps_natrual/FLIFIRVICIVIAKLKANLMCKT.pdb\n"
     ]
    },
    {
     "name": "stderr",
     "output_type": "stream",
     "text": [
      "  % Total    % Received % Xferd  Average Speed   Time    Time     Time  Current\n",
      "                                 Dload  Upload   Total   Spent    Left  Speed\n",
      "100 12614  100 12597  100    17   5004      6  0:00:02  0:00:02 --:--:--  5011\n"
     ]
    },
    {
     "name": "stdout",
     "output_type": "stream",
     "text": [
      "PDB file generated successfully: /Users/jianchengluo/Desktop/CPPs/cpps_natrual/KKAAQIRSQVMTHLRVI.pdb\n"
     ]
    },
    {
     "name": "stderr",
     "output_type": "stream",
     "text": [
      "  % Total    % Received % Xferd  Average Speed   Time    Time     Time  Current\n",
      "                                 Dload  Upload   Total   Spent    Left  Speed\n",
      "100 13423  100 13407  100    16   5665      6  0:00:02  0:00:02 --:--:--  5670\n"
     ]
    },
    {
     "name": "stdout",
     "output_type": "stream",
     "text": [
      "PDB file generated successfully: /Users/jianchengluo/Desktop/CPPs/cpps_natrual/YIVLRRRRKRVNTKRS.pdb\n"
     ]
    },
    {
     "name": "stderr",
     "output_type": "stream",
     "text": [
      "  % Total    % Received % Xferd  Average Speed   Time    Time     Time  Current\n",
      "                                 Dload  Upload   Total   Spent    Left  Speed\n",
      "100  9530  100  9519  100    11   4097      4  0:00:02  0:00:02 --:--:--  4102\n"
     ]
    },
    {
     "name": "stdout",
     "output_type": "stream",
     "text": [
      "PDB file generated successfully: /Users/jianchengluo/Desktop/CPPs/cpps_natrual/RRKLSQQKEKK.pdb\n"
     ]
    },
    {
     "name": "stderr",
     "output_type": "stream",
     "text": [
      "  % Total    % Received % Xferd  Average Speed   Time    Time     Time  Current\n",
      "                                 Dload  Upload   Total   Spent    Left  Speed\n",
      "100 12531  100 12516  100    15   5388      6  0:00:02  0:00:02 --:--:--  5394\n"
     ]
    },
    {
     "name": "stdout",
     "output_type": "stream",
     "text": [
      "PDB file generated successfully: /Users/jianchengluo/Desktop/CPPs/cpps_natrual/VQAILRRNWNQYKIQ.pdb\n"
     ]
    },
    {
     "name": "stderr",
     "output_type": "stream",
     "text": [
      "  % Total    % Received % Xferd  Average Speed   Time    Time     Time  Current\n",
      "                                 Dload  Upload   Total   Spent    Left  Speed\n",
      "100 12451  100 12435  100    16   5399      6  0:00:02  0:00:02 --:--:--  5408\n"
     ]
    },
    {
     "name": "stdout",
     "output_type": "stream",
     "text": [
      "PDB file generated successfully: /Users/jianchengluo/Desktop/CPPs/cpps_natrual/KTVLLRKLLKLLVRKI.pdb\n"
     ]
    },
    {
     "name": "stderr",
     "output_type": "stream",
     "text": [
      "  % Total    % Received % Xferd  Average Speed   Time    Time     Time  Current\n",
      "                                 Dload  Upload   Total   Spent    Left  Speed\n",
      "100 12856  100 12840  100    16   5352      6  0:00:02  0:00:02 --:--:--  5361\n"
     ]
    },
    {
     "name": "stdout",
     "output_type": "stream",
     "text": [
      "PDB file generated successfully: /Users/jianchengluo/Desktop/CPPs/cpps_natrual/LLKKRKVVRLIKFLLK.pdb\n"
     ]
    },
    {
     "name": "stderr",
     "output_type": "stream",
     "text": [
      "  % Total    % Received % Xferd  Average Speed   Time    Time     Time  Current\n",
      "                                 Dload  Upload   Total   Spent    Left  Speed\n",
      "100 14398  100 14379  100    19   5479      7  0:00:02  0:00:02 --:--:--  5484\n"
     ]
    },
    {
     "name": "stdout",
     "output_type": "stream",
     "text": [
      "PDB file generated successfully: /Users/jianchengluo/Desktop/CPPs/cpps_natrual/KLPCRSNTFLNIFRRKKPG.pdb\n"
     ]
    },
    {
     "name": "stderr",
     "output_type": "stream",
     "text": [
      "  % Total    % Received % Xferd  Average Speed   Time    Time     Time  Current\n",
      "                                 Dload  Upload   Total   Spent    Left  Speed\n",
      "100 12451  100 12435  100    16   5201      6  0:00:02  0:00:02 --:--:--  5209\n"
     ]
    },
    {
     "name": "stdout",
     "output_type": "stream",
     "text": [
      "PDB file generated successfully: /Users/jianchengluo/Desktop/CPPs/cpps_natrual/KKICTRKPRFMSAWAQ.pdb\n"
     ]
    },
    {
     "name": "stderr",
     "output_type": "stream",
     "text": [
      "  % Total    % Received % Xferd  Average Speed   Time    Time     Time  Current\n",
      "                                 Dload  Upload   Total   Spent    Left  Speed\n",
      "100 14314  100 14298  100    16  10996     12  0:00:01  0:00:01 --:--:-- 11002\n"
     ]
    },
    {
     "name": "stdout",
     "output_type": "stream",
     "text": [
      "PDB file generated successfully: /Users/jianchengluo/Desktop/CPPs/cpps_natrual/RQIKIWFQNRRMKWKK.pdb\n"
     ]
    },
    {
     "name": "stderr",
     "output_type": "stream",
     "text": [
      "  % Total    % Received % Xferd  Average Speed   Time    Time     Time  Current\n",
      "                                 Dload  Upload   Total   Spent    Left  Speed\n",
      "100 13425  100 13407  100    18   5474      7  0:00:02  0:00:02 --:--:--  5484\n"
     ]
    },
    {
     "name": "stdout",
     "output_type": "stream",
     "text": [
      "PDB file generated successfully: /Users/jianchengluo/Desktop/CPPs/cpps_natrual/RGGRLSYSRRRFSTSTGR.pdb\n"
     ]
    },
    {
     "name": "stderr",
     "output_type": "stream",
     "text": [
      "  % Total    % Received % Xferd  Average Speed   Time    Time     Time  Current\n",
      "                                 Dload  Upload   Total   Spent    Left  Speed\n",
      "100  9448  100  9438  100    10   8992      9  0:00:01  0:00:01 --:--:--  9006\n"
     ]
    },
    {
     "name": "stdout",
     "output_type": "stream",
     "text": [
      "PDB file generated successfully: /Users/jianchengluo/Desktop/CPPs/cpps_natrual/RRLSYSRRRF.pdb\n"
     ]
    },
    {
     "name": "stderr",
     "output_type": "stream",
     "text": [
      "  % Total    % Received % Xferd  Average Speed   Time    Time     Time  Current\n",
      "                                 Dload  Upload   Total   Spent    Left  Speed\n",
      "100 13262  100 13245  100    17   5562      7  0:00:02  0:00:02 --:--:--  5569\n"
     ]
    },
    {
     "name": "stdout",
     "output_type": "stream",
     "text": [
      "PDB file generated successfully: /Users/jianchengluo/Desktop/CPPs/cpps_natrual/RGGRLAYLRRRWAVLGR.pdb\n"
     ]
    },
    {
     "name": "stderr",
     "output_type": "stream",
     "text": [
      "  % Total    % Received % Xferd  Average Speed   Time    Time     Time  Current\n",
      "                                 Dload  Upload   Total   Spent    Left  Speed\n",
      "100 14314  100 14298  100    16  11051     12  0:00:01  0:00:01 --:--:-- 11070\n"
     ]
    },
    {
     "name": "stdout",
     "output_type": "stream",
     "text": [
      "PDB file generated successfully: /Users/jianchengluo/Desktop/CPPs/cpps_natrual/RQIKIWFQNRRMKWKK.pdb\n"
     ]
    },
    {
     "name": "stderr",
     "output_type": "stream",
     "text": [
      "  % Total    % Received % Xferd  Average Speed   Time    Time     Time  Current\n",
      "                                 Dload  Upload   Total   Spent    Left  Speed\n",
      "100 19915  100 19887  100    28   3494      4  0:00:07  0:00:05  0:00:02  5398\n"
     ]
    },
    {
     "name": "stdout",
     "output_type": "stream",
     "text": [
      "PDB file generated successfully: /Users/jianchengluo/Desktop/CPPs/cpps_natrual/MANLGYWLLALFVTMWTDVGLCKKRPKP.pdb\n"
     ]
    },
    {
     "name": "stderr",
     "output_type": "stream",
     "text": [
      "  % Total    % Received % Xferd  Average Speed   Time    Time     Time  Current\n",
      "                                 Dload  Upload   Total   Spent    Left  Speed\n",
      "100 19348  100 19320  100    28   7056     10  0:00:02  0:00:02 --:--:--  7066\n"
     ]
    },
    {
     "name": "stdout",
     "output_type": "stream",
     "text": [
      "PDB file generated successfully: /Users/jianchengluo/Desktop/CPPs/cpps_natrual/MANLGCWMLVLFVATWSDLGLCKKRPKP.pdb\n"
     ]
    },
    {
     "name": "stderr",
     "output_type": "stream",
     "text": [
      "  % Total    % Received % Xferd  Average Speed   Time    Time     Time  Current\n",
      "                                 Dload  Upload   Total   Spent    Left  Speed\n",
      "100 20808  100 20778  100    30   7694     11  0:00:02  0:00:02 --:--:--  7706\n"
     ]
    },
    {
     "name": "stdout",
     "output_type": "stream",
     "text": [
      "PDB file generated successfully: /Users/jianchengluo/Desktop/CPPs/cpps_natrual/MVKSKIGSWILVLFVAMWSDVGLCKKRPKP.pdb\n"
     ]
    },
    {
     "name": "stderr",
     "output_type": "stream",
     "text": [
      "  % Total    % Received % Xferd  Average Speed   Time    Time     Time  Current\n",
      "                                 Dload  Upload   Total   Spent    Left  Speed\n",
      "100 27701  100 27663  100    38  10681     14  0:00:02  0:00:02 --:--:-- 10695\n"
     ]
    },
    {
     "name": "stdout",
     "output_type": "stream",
     "text": [
      "PDB file generated successfully: /Users/jianchengluo/Desktop/CPPs/cpps_natrual/LLGDFFRKSKEKIGKEFKRIVQRIKDFLRNLVPRTESC.pdb\n"
     ]
    },
    {
     "name": "stderr",
     "output_type": "stream",
     "text": [
      "  % Total    % Received % Xferd  Average Speed   Time    Time     Time  Current\n",
      "                                 Dload  Upload   Total   Spent    Left  Speed\n",
      "100 14314  100 14298  100    16   9568     10  0:00:01  0:00:01 --:--:--  9580\n"
     ]
    },
    {
     "name": "stdout",
     "output_type": "stream",
     "text": [
      "PDB file generated successfully: /Users/jianchengluo/Desktop/CPPs/cpps_natrual/RQIKIWFQNRRMKWKK.pdb\n"
     ]
    },
    {
     "name": "stderr",
     "output_type": "stream",
     "text": [
      "  % Total    % Received % Xferd  Average Speed   Time    Time     Time  Current\n",
      "                                 Dload  Upload   Total   Spent    Left  Speed\n",
      "100 13423  100 13407  100    16   4095      4  0:00:04  0:00:03  0:00:01  4099\n"
     ]
    },
    {
     "name": "stdout",
     "output_type": "stream",
     "text": [
      "PDB file generated successfully: /Users/jianchengluo/Desktop/CPPs/cpps_natrual/RVIRVWFQNKRCKDKK.pdb\n"
     ]
    },
    {
     "name": "stderr",
     "output_type": "stream",
     "text": [
      "  % Total    % Received % Xferd  Average Speed   Time    Time     Time  Current\n",
      "                                 Dload  Upload   Total   Spent    Left  Speed\n",
      "100 15779  100 15756  100    23   6119      8  0:00:02  0:00:02 --:--:--  6130\n"
     ]
    },
    {
     "name": "stdout",
     "output_type": "stream",
     "text": [
      "PDB file generated successfully: /Users/jianchengluo/Desktop/CPPs/cpps_natrual/GIGKFLHSAKKWGKAFVGQIMNC.pdb\n"
     ]
    },
    {
     "name": "stderr",
     "output_type": "stream",
     "text": [
      "  % Total    % Received % Xferd  Average Speed   Time    Time     Time  Current\n",
      "                                 Dload  Upload   Total   Spent    Left  Speed\n",
      "100 16752  100 16728  100    24   6000      8  0:00:03  0:00:02  0:00:01  6008\n"
     ]
    },
    {
     "name": "stdout",
     "output_type": "stream",
     "text": [
      "PDB file generated successfully: /Users/jianchengluo/Desktop/CPPs/cpps_natrual/TRSSRAGLQWPVGRVHRLLRKGGC.pdb\n"
     ]
    },
    {
     "name": "stderr",
     "output_type": "stream",
     "text": [
      "  % Total    % Received % Xferd  Average Speed   Time    Time     Time  Current\n",
      "                                 Dload  Upload   Total   Spent    Left  Speed\n",
      "100 10340  100 10329  100    11   3005      3  0:00:03  0:00:03 --:--:--  3008\n"
     ]
    },
    {
     "name": "stdout",
     "output_type": "stream",
     "text": [
      "PDB file generated successfully: /Users/jianchengluo/Desktop/CPPs/cpps_natrual/YGRKKRRQRRR.pdb\n"
     ]
    },
    {
     "name": "stderr",
     "output_type": "stream",
     "text": [
      "  % Total    % Received % Xferd  Average Speed   Time    Time     Time  Current\n",
      "                                 Dload  Upload   Total   Spent    Left  Speed\n",
      "100 14395  100 14379  100    16   5467      6  0:00:02  0:00:02 --:--:--  5475\n"
     ]
    },
    {
     "name": "stdout",
     "output_type": "stream",
     "text": [
      "PDB file generated successfully: /Users/jianchengluo/Desktop/CPPs/cpps_natrual/RHIKIWFQNRRMKWKK.pdb\n"
     ]
    },
    {
     "name": "stderr",
     "output_type": "stream",
     "text": [
      "  % Total    % Received % Xferd  Average Speed   Time    Time     Time  Current\n",
      "                                 Dload  Upload   Total   Spent    Left  Speed\n",
      "100  9042  100  9033  100     9   8605      8  0:00:01  0:00:01 --:--:--  8619\n"
     ]
    },
    {
     "name": "stdout",
     "output_type": "stream",
     "text": [
      "PDB file generated successfully: /Users/jianchengluo/Desktop/CPPs/cpps_natrual/RKKRRQRRR.pdb\n"
     ]
    },
    {
     "name": "stderr",
     "output_type": "stream",
     "text": [
      "  % Total    % Received % Xferd  Average Speed   Time    Time     Time  Current\n",
      "                                 Dload  Upload   Total   Spent    Left  Speed\n",
      "100 14314  100 14298  100    16  11021     12  0:00:01  0:00:01 --:--:-- 11027\n"
     ]
    },
    {
     "name": "stdout",
     "output_type": "stream",
     "text": [
      "PDB file generated successfully: /Users/jianchengluo/Desktop/CPPs/cpps_natrual/RQIKIWFQNRRMKWKK.pdb\n"
     ]
    },
    {
     "name": "stderr",
     "output_type": "stream",
     "text": [
      "  % Total    % Received % Xferd  Average Speed   Time    Time     Time  Current\n",
      "                                 Dload  Upload   Total   Spent    Left  Speed\n",
      "100 45300  100 45240  100    60   8696     11  0:00:05  0:00:05 --:--:-- 10830\n"
     ]
    },
    {
     "name": "stdout",
     "output_type": "stream",
     "text": [
      "PDB file generated successfully: /Users/jianchengluo/Desktop/CPPs/cpps_natrual/SKRTRQTYTRYQTLELEKEFHFNRYITRRRRIDIANALSLSERQIKIWFQNRRMKSKKDR.pdb\n"
     ]
    },
    {
     "name": "stderr",
     "output_type": "stream",
     "text": [
      "  % Total    % Received % Xferd  Average Speed   Time    Time     Time  Current\n",
      "                                 Dload  Upload   Total   Spent    Left  Speed\n",
      "100 43843  100 43782  100    61  13711     19  0:00:03  0:00:03 --:--:-- 13735\n"
     ]
    },
    {
     "name": "stdout",
     "output_type": "stream",
     "text": [
      "PDB file generated successfully: /Users/jianchengluo/Desktop/CPPs/cpps_natrual/EKRPRTAFSSEQLARLKREFNENRYLTTERRRQQLSSELGLNEAQIKIWFQNKRAKIKKST.pdb\n"
     ]
    },
    {
     "name": "stderr",
     "output_type": "stream",
     "text": [
      "  % Total    % Received % Xferd  Average Speed   Time    Time     Time  Current\n",
      "                                 Dload  Upload   Total   Spent    Left  Speed\n",
      "100 11719  100 11706  100    13   4920      5  0:00:02  0:00:02 --:--:--  4926\n"
     ]
    },
    {
     "name": "stdout",
     "output_type": "stream",
     "text": [
      "PDB file generated successfully: /Users/jianchengluo/Desktop/CPPs/cpps_natrual/GRRRRRRRRRPPQ.pdb\n"
     ]
    },
    {
     "name": "stderr",
     "output_type": "stream",
     "text": [
      "  % Total    % Received % Xferd  Average Speed   Time    Time     Time  Current\n",
      "                                 Dload  Upload   Total   Spent    Left  Speed\n",
      "100 17484  100 17457  100    27  11331     17  0:00:01  0:00:01 --:--:-- 11353\n"
     ]
    },
    {
     "name": "stdout",
     "output_type": "stream",
     "text": [
      "PDB file generated successfully: /Users/jianchengluo/Desktop/CPPs/cpps_natrual/GALFLGFLGAAGSTMGAWSQPKKKRKV.pdb\n"
     ]
    },
    {
     "name": "stderr",
     "output_type": "stream",
     "text": [
      "  % Total    % Received % Xferd  Average Speed   Time    Time     Time  Current\n",
      "                                 Dload  Upload   Total   Spent    Left  Speed\n",
      "100 18456  100 18429  100    27   4746      6  0:00:04  0:00:03  0:00:01  4753\n"
     ]
    },
    {
     "name": "stdout",
     "output_type": "stream",
     "text": [
      "PDB file generated successfully: /Users/jianchengluo/Desktop/CPPs/cpps_natrual/GALFLAFLAAALSLMGLWSQPKKKRRV.pdb\n"
     ]
    },
    {
     "name": "stderr",
     "output_type": "stream",
     "text": [
      "  % Total    % Received % Xferd  Average Speed   Time    Time     Time  Current\n",
      "                                 Dload  Upload   Total   Spent    Left  Speed\n",
      "100  8395  100  8385  100    10   3606      4  0:00:02  0:00:02 --:--:--  3612\n"
     ]
    },
    {
     "name": "stdout",
     "output_type": "stream",
     "text": [
      "PDB file generated successfully: /Users/jianchengluo/Desktop/CPPs/cpps_natrual/MLLLTRRRST.pdb\n"
     ]
    },
    {
     "name": "stderr",
     "output_type": "stream",
     "text": [
      "  % Total    % Received % Xferd  Average Speed   Time    Time     Time  Current\n",
      "                                 Dload  Upload   Total   Spent    Left  Speed\n",
      "100  6855  100  6846  100     9   2892      3  0:00:03  0:00:02  0:00:01  2896\n"
     ]
    },
    {
     "name": "stdout",
     "output_type": "stream",
     "text": [
      "PDB file generated successfully: /Users/jianchengluo/Desktop/CPPs/cpps_natrual/CGNKRTRGC.pdb\n"
     ]
    },
    {
     "name": "stderr",
     "output_type": "stream",
     "text": [
      "  % Total    % Received % Xferd  Average Speed   Time    Time     Time  Current\n",
      "                                 Dload  Upload   Total   Spent    Left  Speed\n",
      "100  8964  100  8952  100    12   3821      5  0:00:02  0:00:02 --:--:--  3827\n"
     ]
    },
    {
     "name": "stdout",
     "output_type": "stream",
     "text": [
      "PDB file generated successfully: /Users/jianchengluo/Desktop/CPPs/cpps_natrual/TSPLNIHNGQKL.pdb\n"
     ]
    },
    {
     "name": "stderr",
     "output_type": "stream",
     "text": [
      "  % Total    % Received % Xferd  Average Speed   Time    Time     Time  Current\n",
      "                                 Dload  Upload   Total   Spent    Left  Speed\n",
      "100 13261  100 13245  100    16   8709     10  0:00:01  0:00:01 --:--:--  8718\n"
     ]
    },
    {
     "name": "stdout",
     "output_type": "stream",
     "text": [
      "PDB file generated successfully: /Users/jianchengluo/Desktop/CPPs/cpps_natrual/GLRKRLRKFRNKIKEK.pdb\n"
     ]
    },
    {
     "name": "stderr",
     "output_type": "stream",
     "text": [
      "  % Total    % Received % Xferd  Average Speed   Time    Time     Time  Current\n",
      "                                 Dload  Upload   Total   Spent    Left  Speed\n",
      "100 19833  100 19806  100    27   6928      9  0:00:03  0:00:02  0:00:01  6937\n"
     ]
    },
    {
     "name": "stdout",
     "output_type": "stream",
     "text": [
      "PDB file generated successfully: /Users/jianchengluo/Desktop/CPPs/cpps_natrual/GLLEALAELLEGLRKRLRKFRNKIKEK.pdb\n"
     ]
    },
    {
     "name": "stderr",
     "output_type": "stream",
     "text": [
      "  % Total    % Received % Xferd  Average Speed   Time    Time     Time  Current\n",
      "                                 Dload  Upload   Total   Spent    Left  Speed\n",
      "100 10180  100 10167  100    13   4212      5  0:00:02  0:00:02 --:--:--  4218\n"
     ]
    },
    {
     "name": "stdout",
     "output_type": "stream",
     "text": [
      "PDB file generated successfully: /Users/jianchengluo/Desktop/CPPs/cpps_natrual/CVQWSLLRGYQPC.pdb\n"
     ]
    },
    {
     "name": "stderr",
     "output_type": "stream",
     "text": [
      "  % Total    % Received % Xferd  Average Speed   Time    Time     Time  Current\n",
      "                                 Dload  Upload   Total   Spent    Left  Speed\n",
      "100  5313  100  5307  100     6   2264      2  0:00:03  0:00:02  0:00:01  2267\n"
     ]
    },
    {
     "name": "stdout",
     "output_type": "stream",
     "text": [
      "PDB file generated successfully: /Users/jianchengluo/Desktop/CPPs/cpps_natrual/VRLPPP.pdb\n"
     ]
    },
    {
     "name": "stderr",
     "output_type": "stream",
     "text": [
      "  % Total    % Received % Xferd  Average Speed   Time    Time     Time  Current\n",
      "                                 Dload  Upload   Total   Spent    Left  Speed\n",
      "100  9126  100  9114  100    12   3960      5  0:00:02  0:00:02 --:--:--  3964\n"
     ]
    },
    {
     "name": "stdout",
     "output_type": "stream",
     "text": [
      "PDB file generated successfully: /Users/jianchengluo/Desktop/CPPs/cpps_natrual/VRLPPPVRLPPP.pdb\n"
     ]
    },
    {
     "name": "stderr",
     "output_type": "stream",
     "text": [
      "  % Total    % Received % Xferd  Average Speed   Time    Time     Time  Current\n",
      "                                 Dload  Upload   Total   Spent    Left  Speed\n",
      "100 12939  100 12921  100    18   4392      6  0:00:03  0:00:02  0:00:01  4398\n"
     ]
    },
    {
     "name": "stdout",
     "output_type": "stream",
     "text": [
      "PDB file generated successfully: /Users/jianchengluo/Desktop/CPPs/cpps_natrual/VRLPPPVRLPPPVRLPPP.pdb\n"
     ]
    },
    {
     "name": "stderr",
     "output_type": "stream",
     "text": [
      "  % Total    % Received % Xferd  Average Speed   Time    Time     Time  Current\n",
      "                                 Dload  Upload   Total   Spent    Left  Speed\n",
      "100  5232  100  5226  100     6   2213      2  0:00:03  0:00:02  0:00:01  2216\n"
     ]
    },
    {
     "name": "stdout",
     "output_type": "stream",
     "text": [
      "PDB file generated successfully: /Users/jianchengluo/Desktop/CPPs/cpps_natrual/VHLPPP.pdb\n"
     ]
    },
    {
     "name": "stderr",
     "output_type": "stream",
     "text": [
      "  % Total    % Received % Xferd  Average Speed   Time    Time     Time  Current\n",
      "                                 Dload  Upload   Total   Spent    Left  Speed\n",
      "100  8964  100  8952  100    12   3861      5  0:00:02  0:00:02 --:--:--  3867\n"
     ]
    },
    {
     "name": "stdout",
     "output_type": "stream",
     "text": [
      "PDB file generated successfully: /Users/jianchengluo/Desktop/CPPs/cpps_natrual/VHLPPPVHLPPP.pdb\n"
     ]
    },
    {
     "name": "stderr",
     "output_type": "stream",
     "text": [
      "  % Total    % Received % Xferd  Average Speed   Time    Time     Time  Current\n",
      "                                 Dload  Upload   Total   Spent    Left  Speed\n",
      "100 12696  100 12678  100    18   2999      4  0:00:04  0:00:04 --:--:--  3202\n"
     ]
    },
    {
     "name": "stdout",
     "output_type": "stream",
     "text": [
      "PDB file generated successfully: /Users/jianchengluo/Desktop/CPPs/cpps_natrual/VHLPPPVHLPPPVHLPPP.pdb\n"
     ]
    },
    {
     "name": "stderr",
     "output_type": "stream",
     "text": [
      "  % Total    % Received % Xferd  Average Speed   Time    Time     Time  Current\n",
      "                                 Dload  Upload   Total   Spent    Left  Speed\n",
      "100  5151  100  5145  100     6   1802      2  0:00:03  0:00:02  0:00:01  1804\n"
     ]
    },
    {
     "name": "stdout",
     "output_type": "stream",
     "text": [
      "PDB file generated successfully: /Users/jianchengluo/Desktop/CPPs/cpps_natrual/VKLPPP.pdb\n"
     ]
    },
    {
     "name": "stderr",
     "output_type": "stream",
     "text": [
      "  % Total    % Received % Xferd  Average Speed   Time    Time     Time  Current\n",
      "                                 Dload  Upload   Total   Spent    Left  Speed\n",
      "100  8802  100  8790  100    12   2524      3  0:00:04  0:00:03  0:00:01  2528\n"
     ]
    },
    {
     "name": "stdout",
     "output_type": "stream",
     "text": [
      "PDB file generated successfully: /Users/jianchengluo/Desktop/CPPs/cpps_natrual/VKLPPPVKLPPP.pdb\n"
     ]
    },
    {
     "name": "stderr",
     "output_type": "stream",
     "text": [
      "  % Total    % Received % Xferd  Average Speed   Time    Time     Time  Current\n",
      "                                 Dload  Upload   Total   Spent    Left  Speed\n",
      "100 12453  100 12435  100    18   5259      7  0:00:02  0:00:02 --:--:--  5267\n"
     ]
    },
    {
     "name": "stdout",
     "output_type": "stream",
     "text": [
      "PDB file generated successfully: /Users/jianchengluo/Desktop/CPPs/cpps_natrual/VKLPPPVKLPPPVKLPPP.pdb\n"
     ]
    },
    {
     "name": "stderr",
     "output_type": "stream",
     "text": [
      "  % Total    % Received % Xferd  Average Speed   Time    Time     Time  Current\n",
      "                                 Dload  Upload   Total   Spent    Left  Speed\n",
      "100 14314  100 14298  100    16  10378     11  0:00:01  0:00:01 --:--:-- 10387\n"
     ]
    },
    {
     "name": "stdout",
     "output_type": "stream",
     "text": [
      "PDB file generated successfully: /Users/jianchengluo/Desktop/CPPs/cpps_natrual/RQIKIWFQNRRMKWKK.pdb\n"
     ]
    },
    {
     "name": "stderr",
     "output_type": "stream",
     "text": [
      "  % Total    % Received % Xferd  Average Speed   Time    Time     Time  Current\n",
      "                                 Dload  Upload   Total   Spent    Left  Speed\n",
      "100 14071  100 14055  100    16   5396      6  0:00:02  0:00:02 --:--:--  5401\n"
     ]
    },
    {
     "name": "stdout",
     "output_type": "stream",
     "text": [
      "PDB file generated successfully: /Users/jianchengluo/Desktop/CPPs/cpps_natrual/RQIKIFFQNRRMKWKK.pdb\n"
     ]
    },
    {
     "name": "stderr",
     "output_type": "stream",
     "text": [
      "  % Total    % Received % Xferd  Average Speed   Time    Time     Time  Current\n",
      "                                 Dload  Upload   Total   Spent    Left  Speed\n",
      "100 14238  100 14217  100    21   5381      7  0:00:03  0:00:02  0:00:01  5391\n"
     ]
    },
    {
     "name": "stdout",
     "output_type": "stream",
     "text": [
      "PDB file generated successfully: /Users/jianchengluo/Desktop/CPPs/cpps_natrual/ASMWERVKSIIKSSLAAASNI.pdb\n"
     ]
    },
    {
     "name": "stderr",
     "output_type": "stream",
     "text": [
      "  % Total    % Received % Xferd  Average Speed   Time    Time     Time  Current\n",
      "                                 Dload  Upload   Total   Spent    Left  Speed\n",
      "100 14238  100 14217  100    21  10639     15  0:00:01  0:00:01 --:--:-- 10649\n"
     ]
    },
    {
     "name": "stdout",
     "output_type": "stream",
     "text": [
      "PDB file generated successfully: /Users/jianchengluo/Desktop/CPPs/cpps_natrual/ASMWERVKSIIKSSLAAASNI.pdb\n"
     ]
    },
    {
     "name": "stderr",
     "output_type": "stream",
     "text": [
      "  % Total    % Received % Xferd  Average Speed   Time    Time     Time  Current\n",
      "                                 Dload  Upload   Total   Spent    Left  Speed\n",
      "100 16268  100 16242  100    26   5920      9  0:00:02  0:00:02 --:--:--  5930\n"
     ]
    },
    {
     "name": "stdout",
     "output_type": "stream",
     "text": [
      "PDB file generated successfully: /Users/jianchengluo/Desktop/CPPs/cpps_natrual/DPKGDPKGVTVTVTVTVTGKGDPKPD.pdb\n"
     ]
    },
    {
     "name": "stderr",
     "output_type": "stream",
     "text": [
      "  % Total    % Received % Xferd  Average Speed   Time    Time     Time  Current\n",
      "                                 Dload  Upload   Total   Spent    Left  Speed\n",
      "100 12127  100 12111  100    16   2479      3  0:00:05  0:00:04  0:00:01  2667\n"
     ]
    },
    {
     "name": "stdout",
     "output_type": "stream",
     "text": [
      "PDB file generated successfully: /Users/jianchengluo/Desktop/CPPs/cpps_natrual/CSIPPEVKFNPFVYLI.pdb\n"
     ]
    },
    {
     "name": "stderr",
     "output_type": "stream",
     "text": [
      "  % Total    % Received % Xferd  Average Speed   Time    Time     Time  Current\n",
      "                                 Dload  Upload   Total   Spent    Left  Speed\n",
      "100  5799  100  5793  100     6   2503      2  0:00:03  0:00:02  0:00:01  2506\n"
     ]
    },
    {
     "name": "stdout",
     "output_type": "stream",
     "text": [
      "PDB file generated successfully: /Users/jianchengluo/Desktop/CPPs/cpps_natrual/PFVYLI.pdb\n"
     ]
    },
    {
     "name": "stderr",
     "output_type": "stream",
     "text": [
      "  % Total    % Received % Xferd  Average Speed   Time    Time     Time  Current\n",
      "                                 Dload  Upload   Total   Spent    Left  Speed\n",
      "100  7178  100  7170  100     8   3162      3  0:00:02  0:00:02 --:--:--  3166\n"
     ]
    },
    {
     "name": "stdout",
     "output_type": "stream",
     "text": [
      "PDB file generated successfully: /Users/jianchengluo/Desktop/CPPs/cpps_natrual/NKPILVFY.pdb\n"
     ]
    },
    {
     "name": "stderr",
     "output_type": "stream",
     "text": [
      "  % Total    % Received % Xferd  Average Speed   Time    Time     Time  Current\n",
      "                                 Dload  Upload   Total   Spent    Left  Speed\n",
      "100  9938  100  9924  100    14   9458     13  0:00:01  0:00:01 --:--:--  9473\n"
     ]
    },
    {
     "name": "stdout",
     "output_type": "stream",
     "text": [
      "PDB file generated successfully: /Users/jianchengluo/Desktop/CPPs/cpps_natrual/YKQCHKKGGKKGSG.pdb\n"
     ]
    },
    {
     "name": "stderr",
     "output_type": "stream",
     "text": [
      "  % Total    % Received % Xferd  Average Speed   Time    Time     Time  Current\n",
      "                                 Dload  Upload   Total   Spent    Left  Speed\n",
      "100  9939  100  9924  100    15   4169      6  0:00:02  0:00:02 --:--:--  4177\n"
     ]
    },
    {
     "name": "stdout",
     "output_type": "stream",
     "text": [
      "PDB file generated successfully: /Users/jianchengluo/Desktop/CPPs/cpps_natrual/YKQCHKKGGXKKGSG.pdb\n"
     ]
    },
    {
     "name": "stderr",
     "output_type": "stream",
     "text": [
      "  % Total    % Received % Xferd  Average Speed   Time    Time     Time  Current\n",
      "                                 Dload  Upload   Total   Spent    Left  Speed\n",
      "100  9938  100  9924  100    14   4206      5  0:00:02  0:00:02 --:--:--  4211\n"
     ]
    },
    {
     "name": "stdout",
     "output_type": "stream",
     "text": [
      "PDB file generated successfully: /Users/jianchengluo/Desktop/CPPs/cpps_natrual/GSGKKGGKKHCQKY.pdb\n"
     ]
    },
    {
     "name": "stderr",
     "output_type": "stream",
     "text": [
      "  % Total    % Received % Xferd  Average Speed   Time    Time     Time  Current\n",
      "                                 Dload  Upload   Total   Spent    Left  Speed\n",
      "100  9776  100  9762  100    14   4174      5  0:00:02  0:00:02 --:--:--  4181\n"
     ]
    },
    {
     "name": "stdout",
     "output_type": "stream",
     "text": [
      "PDB file generated successfully: /Users/jianchengluo/Desktop/CPPs/cpps_natrual/GSGKKGGKKICQKY.pdb\n"
     ]
    },
    {
     "name": "stderr",
     "output_type": "stream",
     "text": [
      "  % Total    % Received % Xferd  Average Speed   Time    Time     Time  Current\n",
      "                                 Dload  Upload   Total   Spent    Left  Speed\n",
      "100 12775  100 12759  100    16   5537      6  0:00:02  0:00:02 --:--:--  5544\n"
     ]
    },
    {
     "name": "stdout",
     "output_type": "stream",
     "text": [
      "PDB file generated successfully: /Users/jianchengluo/Desktop/CPPs/cpps_natrual/YTAIAWVKAFIRKLRK.pdb\n"
     ]
    },
    {
     "name": "stderr",
     "output_type": "stream",
     "text": [
      "  % Total    % Received % Xferd  Average Speed   Time    Time     Time  Current\n",
      "                                 Dload  Upload   Total   Spent    Left  Speed\n",
      "100 12695  100 12678  100    17   3730      5  0:00:03  0:00:03 --:--:--  3736\n"
     ]
    },
    {
     "name": "stdout",
     "output_type": "stream",
     "text": [
      "PDB file generated successfully: /Users/jianchengluo/Desktop/CPPs/cpps_natrual/IAWVKAFIRKLRKGPLG.pdb\n"
     ]
    },
    {
     "name": "stderr",
     "output_type": "stream",
     "text": [
      "  % Total    % Received % Xferd  Average Speed   Time    Time     Time  Current\n",
      "                                 Dload  Upload   Total   Spent    Left  Speed\n",
      "100 19424  100 19401  100    23   8961     10  0:00:02  0:00:02 --:--:--  8975\n"
     ]
    },
    {
     "name": "stdout",
     "output_type": "stream",
     "text": [
      "PDB file generated successfully: /Users/jianchengluo/Desktop/CPPs/cpps_natrual/LIRLWSHLIHIWFQNRRLKWKKK.pdb\n"
     ]
    },
    {
     "name": "stderr",
     "output_type": "stream",
     "text": [
      "  % Total    % Received % Xferd  Average Speed   Time    Time     Time  Current\n",
      "                                 Dload  Upload   Total   Spent    Left  Speed\n",
      "100 24133  100 24099  100    34   9007     12  0:00:02  0:00:02 --:--:--  9018\n"
     ]
    },
    {
     "name": "stdout",
     "output_type": "stream",
     "text": [
      "PDB file generated successfully: /Users/jianchengluo/Desktop/CPPs/cpps_natrual/KKKKKKGGFLGFWRGENGRKTRSAYERMCILKGK.pdb\n"
     ]
    },
    {
     "name": "stderr",
     "output_type": "stream",
     "text": [
      "  % Total    % Received % Xferd  Average Speed   Time    Time     Time  Current\n",
      "                                 Dload  Upload   Total   Spent    Left  Speed\n",
      "100 11153  100 11139  100    14   4654      5  0:00:02  0:00:02 --:--:--  4660\n"
     ]
    },
    {
     "name": "stdout",
     "output_type": "stream",
     "text": [
      "PDB file generated successfully: /Users/jianchengluo/Desktop/CPPs/cpps_natrual/RLSGMNEVLSFRWL.pdb\n"
     ]
    },
    {
     "name": "stderr",
     "output_type": "stream",
     "text": [
      "  % Total    % Received % Xferd  Average Speed   Time    Time     Time  Current\n",
      "                                 Dload  Upload   Total   Spent    Left  Speed\n",
      "100 10828  100 10815  100    13   2069      2  0:00:06  0:00:05  0:00:01  3363\n"
     ]
    },
    {
     "name": "stdout",
     "output_type": "stream",
     "text": [
      "PDB file generated successfully: /Users/jianchengluo/Desktop/CPPs/cpps_natrual/GPFHFYQFLFPPV.pdb\n"
     ]
    },
    {
     "name": "stderr",
     "output_type": "stream",
     "text": [
      "  % Total    % Received % Xferd  Average Speed   Time    Time     Time  Current\n",
      "                                 Dload  Upload   Total   Spent    Left  Speed\n",
      "100  9937  100  9924  100    13   4179      5  0:00:02  0:00:02 --:--:--  4185\n"
     ]
    },
    {
     "name": "stdout",
     "output_type": "stream",
     "text": [
      "PDB file generated successfully: /Users/jianchengluo/Desktop/CPPs/cpps_natrual/GSPWGLQHHPPRT.pdb\n"
     ]
    },
    {
     "name": "stderr",
     "output_type": "stream",
     "text": [
      "  % Total    % Received % Xferd  Average Speed   Time    Time     Time  Current\n",
      "                                 Dload  Upload   Total   Spent    Left  Speed\n",
      "100 10102  100 10086  100    16   4281      6  0:00:02  0:00:02 --:--:--  4289\n"
     ]
    },
    {
     "name": "stdout",
     "output_type": "stream",
     "text": [
      "PDB file generated successfully: /Users/jianchengluo/Desktop/CPPs/cpps_natrual/AAVALLPAVLLALLAP.pdb\n"
     ]
    },
    {
     "name": "stderr",
     "output_type": "stream",
     "text": [
      "  % Total    % Received % Xferd  Average Speed   Time    Time     Time  Current\n",
      "                                 Dload  Upload   Total   Spent    Left  Speed\n",
      "100 26894  100 26853  100    41   9800     14  0:00:02  0:00:02 --:--:--  9815\n"
     ]
    },
    {
     "name": "stdout",
     "output_type": "stream",
     "text": [
      "PDB file generated successfully: /Users/jianchengluo/Desktop/CPPs/cpps_natrual/AAVALLPAVLLALLAPEILLPNNYNAYESYKYPGMFIALSK.pdb\n"
     ]
    },
    {
     "name": "stderr",
     "output_type": "stream",
     "text": [
      "  % Total    % Received % Xferd  Average Speed   Time    Time     Time  Current\n",
      "                                 Dload  Upload   Total   Spent    Left  Speed\n",
      "100 17240  100 17214  100    26   5846      8  0:00:03  0:00:02  0:00:01  5855\n"
     ]
    },
    {
     "name": "stdout",
     "output_type": "stream",
     "text": [
      "PDB file generated successfully: /Users/jianchengluo/Desktop/CPPs/cpps_natrual/AAVALLPAVLLALLAPVQRKRQKLMP.pdb\n"
     ]
    },
    {
     "name": "stderr",
     "output_type": "stream",
     "text": [
      "  % Total    % Received % Xferd  Average Speed   Time    Time     Time  Current\n",
      "                                 Dload  Upload   Total   Spent    Left  Speed\n",
      "100 19269  100 19239  100    30  14473     22  0:00:01  0:00:01 --:--:-- 14498\n"
     ]
    },
    {
     "name": "stdout",
     "output_type": "stream",
     "text": [
      "PDB file generated successfully: /Users/jianchengluo/Desktop/CPPs/cpps_natrual/WEAKLAKALAKALAKHLAKALAKALKACEA.pdb\n"
     ]
    },
    {
     "name": "stderr",
     "output_type": "stream",
     "text": [
      "  % Total    % Received % Xferd  Average Speed   Time    Time     Time  Current\n",
      "                                 Dload  Upload   Total   Spent    Left  Speed\n",
      "100 18051  100 18024  100    27   6889     10  0:00:02  0:00:02 --:--:--  6897\n"
     ]
    },
    {
     "name": "stdout",
     "output_type": "stream",
     "text": [
      "PDB file generated successfully: /Users/jianchengluo/Desktop/CPPs/cpps_natrual/MGLGLHLLVLAAALQGAWSQPKKKRKV.pdb\n"
     ]
    },
    {
     "name": "stderr",
     "output_type": "stream",
     "text": [
      "  % Total    % Received % Xferd  Average Speed   Time    Time     Time  Current\n",
      "                                 Dload  Upload   Total   Spent    Left  Speed\n",
      "100 15131  100 15108  100    23   5868      8  0:00:02  0:00:02 --:--:--  5876\n"
     ]
    },
    {
     "name": "stdout",
     "output_type": "stream",
     "text": [
      "PDB file generated successfully: /Users/jianchengluo/Desktop/CPPs/cpps_natrual/MGLGLHLLVLAAALQGAKKKRKV.pdb\n"
     ]
    },
    {
     "name": "stderr",
     "output_type": "stream",
     "text": [
      "  % Total    % Received % Xferd  Average Speed   Time    Time     Time  Current\n",
      "                                 Dload  Upload   Total   Spent    Left  Speed\n",
      "100 18783  100 18753  100    30   4277      6  0:00:05  0:00:04  0:00:01  4285\n"
     ]
    },
    {
     "name": "stdout",
     "output_type": "stream",
     "text": [
      "PDB file generated successfully: /Users/jianchengluo/Desktop/CPPs/cpps_natrual/WEAALAEALAEALAEHLAEALAEALEALAA.pdb\n"
     ]
    },
    {
     "name": "stderr",
     "output_type": "stream",
     "text": [
      "  % Total    % Received % Xferd  Average Speed   Time    Time     Time  Current\n",
      "                                 Dload  Upload   Total   Spent    Left  Speed\n",
      "100 14642  100 14622  100    20   5672      7  0:00:02  0:00:02 --:--:--  5679\n"
     ]
    },
    {
     "name": "stdout",
     "output_type": "stream",
     "text": [
      "PDB file generated successfully: /Users/jianchengluo/Desktop/CPPs/cpps_natrual/GLFEALLELLESLWELLLEA.pdb\n"
     ]
    },
    {
     "name": "stderr",
     "output_type": "stream",
     "text": [
      "  % Total    % Received % Xferd  Average Speed   Time    Time     Time  Current\n",
      "                                 Dload  Upload   Total   Spent    Left  Speed\n",
      "100 14642  100 14622  100    20   5343      7  0:00:02  0:00:02 --:--:--  5351\n"
     ]
    },
    {
     "name": "stdout",
     "output_type": "stream",
     "text": [
      "PDB file generated successfully: /Users/jianchengluo/Desktop/CPPs/cpps_natrual/GLFKALLKLLKSLWKLLLKA.pdb\n"
     ]
    },
    {
     "name": "stderr",
     "output_type": "stream",
     "text": [
      "  % Total    % Received % Xferd  Average Speed   Time    Time     Time  Current\n",
      "                                 Dload  Upload   Total   Spent    Left  Speed\n",
      "100 15452  100 15432  100    20  11853     15  0:00:01  0:00:01 --:--:-- 11867\n"
     ]
    },
    {
     "name": "stdout",
     "output_type": "stream",
     "text": [
      "PDB file generated successfully: /Users/jianchengluo/Desktop/CPPs/cpps_natrual/GLFRALLRLLRSLWRLLLRA.pdb\n"
     ]
    },
    {
     "name": "stderr",
     "output_type": "stream",
     "text": [
      "  % Total    % Received % Xferd  Average Speed   Time    Time     Time  Current\n",
      "                                 Dload  Upload   Total   Spent    Left  Speed\n",
      "100 18452  100 18429  100    23   7134      8  0:00:02  0:00:02 --:--:--  7143\n"
     ]
    },
    {
     "name": "stdout",
     "output_type": "stream",
     "text": [
      "PDB file generated successfully: /Users/jianchengluo/Desktop/CPPs/cpps_natrual/CGAYDLRRRERQSRLRRRERQSR.pdb\n"
     ]
    },
    {
     "name": "stderr",
     "output_type": "stream",
     "text": [
      "  % Total    % Received % Xferd  Average Speed   Time    Time     Time  Current\n",
      "                                 Dload  Upload   Total   Spent    Left  Speed\n",
      "100 14477  100 14460  100    17   5511      6  0:00:02  0:00:02 --:--:--  5517\n"
     ]
    },
    {
     "name": "stdout",
     "output_type": "stream",
     "text": [
      "PDB file generated successfully: /Users/jianchengluo/Desktop/CPPs/cpps_natrual/RKKRRRESRKKRRRESC.pdb\n"
     ]
    },
    {
     "name": "stderr",
     "output_type": "stream",
     "text": [
      "  % Total    % Received % Xferd  Average Speed   Time    Time     Time  Current\n",
      "                                 Dload  Upload   Total   Spent    Left  Speed\n",
      "100 14398  100 14379  100    19   5538      7  0:00:02  0:00:02 --:--:--  5544\n"
     ]
    },
    {
     "name": "stdout",
     "output_type": "stream",
     "text": [
      "PDB file generated successfully: /Users/jianchengluo/Desktop/CPPs/cpps_natrual/CVKRGLKLRHVRPRVTRDV.pdb\n"
     ]
    },
    {
     "name": "stderr",
     "output_type": "stream",
     "text": [
      "  % Total    % Received % Xferd  Average Speed   Time    Time     Time  Current\n",
      "                                 Dload  Upload   Total   Spent    Left  Speed\n",
      "100 14801  100 14784  100    17  11326     13  0:00:01  0:00:01 --:--:-- 11341\n"
     ]
    },
    {
     "name": "stdout",
     "output_type": "stream",
     "text": [
      "PDB file generated successfully: /Users/jianchengluo/Desktop/CPPs/cpps_natrual/CRQIKIWFQNRRMKWKK.pdb\n"
     ]
    },
    {
     "name": "stderr",
     "output_type": "stream",
     "text": [
      "  % Total    % Received % Xferd  Average Speed   Time    Time     Time  Current\n",
      "                                 Dload  Upload   Total   Spent    Left  Speed\n",
      "100  8315  100  8304  100    11   3582      4  0:00:02  0:00:02 --:--:--  3588\n"
     ]
    },
    {
     "name": "stdout",
     "output_type": "stream",
     "text": [
      "PDB file generated successfully: /Users/jianchengluo/Desktop/CPPs/cpps_natrual/YARAAARQARA.pdb\n"
     ]
    },
    {
     "name": "stderr",
     "output_type": "stream",
     "text": [
      "  % Total    % Received % Xferd  Average Speed   Time    Time     Time  Current\n",
      "                                 Dload  Upload   Total   Spent    Left  Speed\n",
      "100 11478  100 11463  100    15   3477      4  0:00:03  0:00:03 --:--:--  3481\n"
     ]
    },
    {
     "name": "stdout",
     "output_type": "stream",
     "text": [
      "PDB file generated successfully: /Users/jianchengluo/Desktop/CPPs/cpps_natrual/PPKKSAQCLRYKKPE.pdb\n"
     ]
    },
    {
     "name": "stderr",
     "output_type": "stream",
     "text": [
      "  % Total    % Received % Xferd  Average Speed   Time    Time     Time  Current\n",
      "                                 Dload  Upload   Total   Spent    Left  Speed\n",
      "100 10992  100 10977  100    15   4742      6  0:00:02  0:00:02 --:--:--  4750\n"
     ]
    },
    {
     "name": "stdout",
     "output_type": "stream",
     "text": [
      "PDB file generated successfully: /Users/jianchengluo/Desktop/CPPs/cpps_natrual/DPVDTPNPTRRKPGK.pdb\n"
     ]
    },
    {
     "name": "stderr",
     "output_type": "stream",
     "text": [
      "  % Total    % Received % Xferd  Average Speed   Time    Time     Time  Current\n",
      "                                 Dload  Upload   Total   Spent    Left  Speed\n",
      "100 10909  100 10896  100    13   4574      5  0:00:02  0:00:02 --:--:--  4581\n"
     ]
    },
    {
     "name": "stdout",
     "output_type": "stream",
     "text": [
      "PDB file generated successfully: /Users/jianchengluo/Desktop/CPPs/cpps_natrual/KRVSRNKSEKKRR.pdb\n"
     ]
    },
    {
     "name": "stderr",
     "output_type": "stream",
     "text": [
      "  % Total    % Received % Xferd  Average Speed   Time    Time     Time  Current\n",
      "                                 Dload  Upload   Total   Spent    Left  Speed\n",
      "100 12856  100 12840  100    16   5622      7  0:00:02  0:00:02 --:--:--  5631\n"
     ]
    },
    {
     "name": "stdout",
     "output_type": "stream",
     "text": [
      "PDB file generated successfully: /Users/jianchengluo/Desktop/CPPs/cpps_natrual/GRRHHCRSKAKRSRHH.pdb\n"
     ]
    },
    {
     "name": "stderr",
     "output_type": "stream",
     "text": [
      "  % Total    % Received % Xferd  Average Speed   Time    Time     Time  Current\n",
      "                                 Dload  Upload   Total   Spent    Left  Speed\n",
      "100 12532  100 12516  100    16   2923      3  0:00:05  0:00:04  0:00:01  2928\n"
     ]
    },
    {
     "name": "stdout",
     "output_type": "stream",
     "text": [
      "PDB file generated successfully: /Users/jianchengluo/Desktop/CPPs/cpps_natrual/SARHHCRSKAKRSRHH.pdb\n"
     ]
    },
    {
     "name": "stderr",
     "output_type": "stream",
     "text": [
      "  % Total    % Received % Xferd  Average Speed   Time    Time     Time  Current\n",
      "                                 Dload  Upload   Total   Spent    Left  Speed\n",
      "100 12532  100 12516  100    16   4826      6  0:00:02  0:00:02 --:--:--  4833\n"
     ]
    },
    {
     "name": "stdout",
     "output_type": "stream",
     "text": [
      "PDB file generated successfully: /Users/jianchengluo/Desktop/CPPs/cpps_natrual/SRAHHCRSKAKRSRHH.pdb\n"
     ]
    },
    {
     "name": "stderr",
     "output_type": "stream",
     "text": [
      "  % Total    % Received % Xferd  Average Speed   Time    Time     Time  Current\n",
      "                                 Dload  Upload   Total   Spent    Left  Speed\n",
      "100 12613  100 12597  100    16   5465      6  0:00:02  0:00:02 --:--:--  5474\n"
     ]
    },
    {
     "name": "stdout",
     "output_type": "stream",
     "text": [
      "PDB file generated successfully: /Users/jianchengluo/Desktop/CPPs/cpps_natrual/SRRAHCRSKAKRSRHH.pdb\n"
     ]
    },
    {
     "name": "stderr",
     "output_type": "stream",
     "text": [
      "  % Total    % Received % Xferd  Average Speed   Time    Time     Time  Current\n",
      "                                 Dload  Upload   Total   Spent    Left  Speed\n",
      "100 12613  100 12597  100    16   5419      6  0:00:02  0:00:02 --:--:--  5427\n"
     ]
    },
    {
     "name": "stdout",
     "output_type": "stream",
     "text": [
      "PDB file generated successfully: /Users/jianchengluo/Desktop/CPPs/cpps_natrual/SRRHACRSKAKRSRHH.pdb\n"
     ]
    },
    {
     "name": "stderr",
     "output_type": "stream",
     "text": [
      "  % Total    % Received % Xferd  Average Speed   Time    Time     Time  Current\n",
      "                                 Dload  Upload   Total   Spent    Left  Speed\n",
      "100 12937  100 12921  100    16   3106      3  0:00:05  0:00:04  0:00:01  3321\n"
     ]
    },
    {
     "name": "stdout",
     "output_type": "stream",
     "text": [
      "PDB file generated successfully: /Users/jianchengluo/Desktop/CPPs/cpps_natrual/SRRHHARSKAKRSRHH.pdb\n"
     ]
    },
    {
     "name": "stderr",
     "output_type": "stream",
     "text": [
      "  % Total    % Received % Xferd  Average Speed   Time    Time     Time  Current\n",
      "                                 Dload  Upload   Total   Spent    Left  Speed\n",
      "100 12937  100 12921  100    16   5541      6  0:00:02  0:00:02 --:--:--  5549\n"
     ]
    },
    {
     "name": "stdout",
     "output_type": "stream",
     "text": [
      "PDB file generated successfully: /Users/jianchengluo/Desktop/CPPs/cpps_natrual/SRRHHCRAKAKRSRHH.pdb\n"
     ]
    },
    {
     "name": "stderr",
     "output_type": "stream",
     "text": [
      "  % Total    % Received % Xferd  Average Speed   Time    Time     Time  Current\n",
      "                                 Dload  Upload   Total   Spent    Left  Speed\n",
      "100 12694  100 12678  100    16   5496      6  0:00:02  0:00:02 --:--:--  5504\n"
     ]
    },
    {
     "name": "stdout",
     "output_type": "stream",
     "text": [
      "PDB file generated successfully: /Users/jianchengluo/Desktop/CPPs/cpps_natrual/SRRHHCRSAAKRSRHH.pdb\n"
     ]
    },
    {
     "name": "stderr",
     "output_type": "stream",
     "text": [
      "  % Total    % Received % Xferd  Average Speed   Time    Time     Time  Current\n",
      "                                 Dload  Upload   Total   Spent    Left  Speed\n",
      "100 12694  100 12678  100    16   1907      2  0:00:08  0:00:06  0:00:02  2883\n"
     ]
    },
    {
     "name": "stdout",
     "output_type": "stream",
     "text": [
      "PDB file generated successfully: /Users/jianchengluo/Desktop/CPPs/cpps_natrual/SRRHHCRSKAARSRHH.pdb\n"
     ]
    },
    {
     "name": "stderr",
     "output_type": "stream",
     "text": [
      "  % Total    % Received % Xferd  Average Speed   Time    Time     Time  Current\n",
      "                                 Dload  Upload   Total   Spent    Left  Speed\n",
      "100 12532  100 12516  100    16   5165      6  0:00:02  0:00:02 --:--:--  5174\n"
     ]
    },
    {
     "name": "stdout",
     "output_type": "stream",
     "text": [
      "PDB file generated successfully: /Users/jianchengluo/Desktop/CPPs/cpps_natrual/SRRHHCRSKAKASRHH.pdb\n"
     ]
    },
    {
     "name": "stderr",
     "output_type": "stream",
     "text": [
      "  % Total    % Received % Xferd  Average Speed   Time    Time     Time  Current\n",
      "                                 Dload  Upload   Total   Spent    Left  Speed\n",
      "100 12937  100 12921  100    16   5572      6  0:00:02  0:00:02 --:--:--  5578\n"
     ]
    },
    {
     "name": "stdout",
     "output_type": "stream",
     "text": [
      "PDB file generated successfully: /Users/jianchengluo/Desktop/CPPs/cpps_natrual/SRRHHCRSKAKRARHH.pdb\n"
     ]
    },
    {
     "name": "stderr",
     "output_type": "stream",
     "text": [
      "  % Total    % Received % Xferd  Average Speed   Time    Time     Time  Current\n",
      "                                 Dload  Upload   Total   Spent    Left  Speed\n",
      "100 12532  100 12516  100    16   5367      6  0:00:02  0:00:02 --:--:--  5376\n"
     ]
    },
    {
     "name": "stdout",
     "output_type": "stream",
     "text": [
      "PDB file generated successfully: /Users/jianchengluo/Desktop/CPPs/cpps_natrual/SRRHHCRSKAKRSAHH.pdb\n"
     ]
    },
    {
     "name": "stderr",
     "output_type": "stream",
     "text": [
      "  % Total    % Received % Xferd  Average Speed   Time    Time     Time  Current\n",
      "                                 Dload  Upload   Total   Spent    Left  Speed\n",
      "100 10909  100 10896  100    13   4480      5  0:00:02  0:00:02 --:--:--  4485\n"
     ]
    },
    {
     "name": "stdout",
     "output_type": "stream",
     "text": [
      "PDB file generated successfully: /Users/jianchengluo/Desktop/CPPs/cpps_natrual/RRHHCRSKAKRSR.pdb\n"
     ]
    },
    {
     "name": "stderr",
     "output_type": "stream",
     "text": [
      "  % Total    % Received % Xferd  Average Speed   Time    Time     Time  Current\n",
      "                                 Dload  Upload   Total   Spent    Left  Speed\n",
      "100  9612  100  9600  100    12   3972      4  0:00:03  0:00:02  0:00:01  3978\n"
     ]
    },
    {
     "name": "stdout",
     "output_type": "stream",
     "text": [
      "PDB file generated successfully: /Users/jianchengluo/Desktop/CPPs/cpps_natrual/GRKGKHKRKKLP.pdb\n"
     ]
    },
    {
     "name": "stderr",
     "output_type": "stream",
     "text": [
      "  % Total    % Received % Xferd  Average Speed   Time    Time     Time  Current\n",
      "                                 Dload  Upload   Total   Spent    Left  Speed\n",
      "100  8395  100  8385  100    10   3640      4  0:00:02  0:00:02 --:--:--  3645\n"
     ]
    },
    {
     "name": "stdout",
     "output_type": "stream",
     "text": [
      "PDB file generated successfully: /Users/jianchengluo/Desktop/CPPs/cpps_natrual/GKKKKKKKKK.pdb\n"
     ]
    },
    {
     "name": "stderr",
     "output_type": "stream",
     "text": [
      "  % Total    % Received % Xferd  Average Speed   Time    Time     Time  Current\n",
      "                                 Dload  Upload   Total   Spent    Left  Speed\n",
      "100 14478  100 14460  100    18   5582      6  0:00:03  0:00:02  0:00:01  5587\n"
     ]
    },
    {
     "name": "stdout",
     "output_type": "stream",
     "text": [
      "PDB file generated successfully: /Users/jianchengluo/Desktop/CPPs/cpps_natrual/GKRVAKRKLIEQNRERRR.pdb\n"
     ]
    },
    {
     "name": "stderr",
     "output_type": "stream",
     "text": [
      "  % Total    % Received % Xferd  Average Speed   Time    Time     Time  Current\n",
      "                                 Dload  Upload   Total   Spent    Left  Speed\n",
      "100 14154  100 14136  100    18   4099      5  0:00:03  0:00:03 --:--:--  4104\n"
     ]
    },
    {
     "name": "stdout",
     "output_type": "stream",
     "text": [
      "PDB file generated successfully: /Users/jianchengluo/Desktop/CPPs/cpps_natrual/GRKLKKKKNEKEDKRPRT.pdb\n"
     ]
    },
    {
     "name": "stderr",
     "output_type": "stream",
     "text": [
      "  % Total    % Received % Xferd  Average Speed   Time    Time     Time  Current\n",
      "                                 Dload  Upload   Total   Spent    Left  Speed\n",
      "100 12128  100 12111  100    17   5000      7  0:00:02  0:00:02 --:--:--  5009\n"
     ]
    },
    {
     "name": "stdout",
     "output_type": "stream",
     "text": [
      "PDB file generated successfully: /Users/jianchengluo/Desktop/CPPs/cpps_natrual/GKKTNLFSALIKKKKTA.pdb\n"
     ]
    },
    {
     "name": "stderr",
     "output_type": "stream",
     "text": [
      "  % Total    % Received % Xferd  Average Speed   Time    Time     Time  Current\n",
      "                                 Dload  Upload   Total   Spent    Left  Speed\n",
      "100 13911  100 13893  100    18   5830      7  0:00:02  0:00:02 --:--:--  5840\n"
     ]
    },
    {
     "name": "stdout",
     "output_type": "stream",
     "text": [
      "PDB file generated successfully: /Users/jianchengluo/Desktop/CPPs/cpps_natrual/GRRERNKMAAAKCRNRRR.pdb\n"
     ]
    },
    {
     "name": "stderr",
     "output_type": "stream",
     "text": [
      "  % Total    % Received % Xferd  Average Speed   Time    Time     Time  Current\n",
      "                                 Dload  Upload   Total   Spent    Left  Speed\n",
      "100 13344  100 13326  100    18   3342      4  0:00:04  0:00:03  0:00:01  3346\n"
     ]
    },
    {
     "name": "stdout",
     "output_type": "stream",
     "text": [
      "PDB file generated successfully: /Users/jianchengluo/Desktop/CPPs/cpps_natrual/GKRARNTEAARRSRARKL.pdb\n"
     ]
    },
    {
     "name": "stderr",
     "output_type": "stream",
     "text": [
      "  % Total    % Received % Xferd  Average Speed   Time    Time     Time  Current\n",
      "                                 Dload  Upload   Total   Spent    Left  Speed\n",
      "100 11153  100 11139  100    14   3532      4  0:00:03  0:00:03 --:--:--  3537\n"
     ]
    },
    {
     "name": "stdout",
     "output_type": "stream",
     "text": [
      "PDB file generated successfully: /Users/jianchengluo/Desktop/CPPs/cpps_natrual/GRRRRATAKYRTAH.pdb\n"
     ]
    },
    {
     "name": "stderr",
     "output_type": "stream",
     "text": [
      "  % Total    % Received % Xferd  Average Speed   Time    Time     Time  Current\n",
      "                                 Dload  Upload   Total   Spent    Left  Speed\n",
      "100 11802  100 11787  100    15   5029      6  0:00:02  0:00:02 --:--:--  5037\n"
     ]
    },
    {
     "name": "stdout",
     "output_type": "stream",
     "text": [
      "PDB file generated successfully: /Users/jianchengluo/Desktop/CPPs/cpps_natrual/GKRRRRATAKYRSAH.pdb\n"
     ]
    },
    {
     "name": "stderr",
     "output_type": "stream",
     "text": [
      "  % Total    % Received % Xferd  Average Speed   Time    Time     Time  Current\n",
      "                                 Dload  Upload   Total   Spent    Left  Speed\n",
      "100 10422  100 10410  100    12   4262      4  0:00:03  0:00:02  0:00:01  4269\n"
     ]
    },
    {
     "name": "stdout",
     "output_type": "stream",
     "text": [
      "PDB file generated successfully: /Users/jianchengluo/Desktop/CPPs/cpps_natrual/GRRRRKRLSHRT.pdb\n"
     ]
    },
    {
     "name": "stderr",
     "output_type": "stream",
     "text": [
      "  % Total    % Received % Xferd  Average Speed   Time    Time     Time  Current\n",
      "                                 Dload  Upload   Total   Spent    Left  Speed\n",
      "100  9286  100  9276  100    10   2406      2  0:00:05  0:00:03  0:00:02  2408\n"
     ]
    },
    {
     "name": "stdout",
     "output_type": "stream",
     "text": [
      "PDB file generated successfully: /Users/jianchengluo/Desktop/CPPs/cpps_natrual/GRRRRRERNK.pdb\n"
     ]
    },
    {
     "name": "stderr",
     "output_type": "stream",
     "text": [
      "  % Total    % Received % Xferd  Average Speed   Time    Time     Time  Current\n",
      "                                 Dload  Upload   Total   Spent    Left  Speed\n",
      "100 13585  100 13569  100    16   4299      5  0:00:03  0:00:03 --:--:--  4305\n"
     ]
    },
    {
     "name": "stdout",
     "output_type": "stream",
     "text": [
      "PDB file generated successfully: /Users/jianchengluo/Desktop/CPPs/cpps_natrual/GKHRHERGHHRDRRER.pdb\n"
     ]
    },
    {
     "name": "stderr",
     "output_type": "stream",
     "text": [
      "  % Total    % Received % Xferd  Average Speed   Time    Time     Time  Current\n",
      "                                 Dload  Upload   Total   Spent    Left  Speed\n",
      "100 12938  100 12921  100    17   5229      6  0:00:02  0:00:02 --:--:--  5238\n"
     ]
    },
    {
     "name": "stdout",
     "output_type": "stream",
     "text": [
      "PDB file generated successfully: /Users/jianchengluo/Desktop/CPPs/cpps_natrual/GKKKRKLSNRESAKRSR.pdb\n"
     ]
    },
    {
     "name": "stderr",
     "output_type": "stream",
     "text": [
      "  % Total    % Received % Xferd  Average Speed   Time    Time     Time  Current\n",
      "                                 Dload  Upload   Total   Spent    Left  Speed\n",
      "100  8557  100  8547  100    10   4089      4  0:00:02  0:00:02 --:--:--  4096\n"
     ]
    },
    {
     "name": "stdout",
     "output_type": "stream",
     "text": [
      "PDB file generated successfully: /Users/jianchengluo/Desktop/CPPs/cpps_natrual/MIIYRDLISH.pdb\n"
     ]
    },
    {
     "name": "stderr",
     "output_type": "stream",
     "text": [
      "  % Total    % Received % Xferd  Average Speed   Time    Time     Time  Current\n",
      "                                 Dload  Upload   Total   Spent    Left  Speed\n",
      "100  7746  100  7737  100     9   1652      1  0:00:09  0:00:04  0:00:05  2109\n"
     ]
    },
    {
     "name": "stdout",
     "output_type": "stream",
     "text": [
      "PDB file generated successfully: /Users/jianchengluo/Desktop/CPPs/cpps_natrual/MIIYRDLIS.pdb\n"
     ]
    },
    {
     "name": "stderr",
     "output_type": "stream",
     "text": [
      "  % Total    % Received % Xferd  Average Speed   Time    Time     Time  Current\n",
      "                                 Dload  Upload   Total   Spent    Left  Speed\n",
      "100  7259  100  7251  100     8   2828      3  0:00:02  0:00:02 --:--:--  2832\n"
     ]
    },
    {
     "name": "stdout",
     "output_type": "stream",
     "text": [
      "PDB file generated successfully: /Users/jianchengluo/Desktop/CPPs/cpps_natrual/MIIYRDLI.pdb\n"
     ]
    },
    {
     "name": "stderr",
     "output_type": "stream",
     "text": [
      "  % Total    % Received % Xferd  Average Speed   Time    Time     Time  Current\n",
      "                                 Dload  Upload   Total   Spent    Left  Speed\n",
      "100  7908  100  7899  100     9   3154      3  0:00:03  0:00:02  0:00:01  3158\n"
     ]
    },
    {
     "name": "stdout",
     "output_type": "stream",
     "text": [
      "PDB file generated successfully: /Users/jianchengluo/Desktop/CPPs/cpps_natrual/IIYRDLISH.pdb\n"
     ]
    },
    {
     "name": "stderr",
     "output_type": "stream",
     "text": [
      "  % Total    % Received % Xferd  Average Speed   Time    Time     Time  Current\n",
      "                                 Dload  Upload   Total   Spent    Left  Speed\n",
      "100  6610  100  6603  100     7   1569      1  0:00:07  0:00:04  0:00:03  1571\n"
     ]
    },
    {
     "name": "stdout",
     "output_type": "stream",
     "text": [
      "PDB file generated successfully: /Users/jianchengluo/Desktop/CPPs/cpps_natrual/MIIYRDL.pdb\n"
     ]
    },
    {
     "name": "stderr",
     "output_type": "stream",
     "text": [
      "  % Total    % Received % Xferd  Average Speed   Time    Time     Time  Current\n",
      "                                 Dload  Upload   Total   Spent    Left  Speed\n",
      "100  5961  100  5955  100     6   2238      2  0:00:03  0:00:02  0:00:01  2240\n"
     ]
    },
    {
     "name": "stdout",
     "output_type": "stream",
     "text": [
      "PDB file generated successfully: /Users/jianchengluo/Desktop/CPPs/cpps_natrual/MIIYRD.pdb\n"
     ]
    },
    {
     "name": "stderr",
     "output_type": "stream",
     "text": [
      "  % Total    % Received % Xferd  Average Speed   Time    Time     Time  Current\n",
      "                                 Dload  Upload   Total   Spent    Left  Speed\n",
      "100  7259  100  7251  100     8   3040      3  0:00:02  0:00:02 --:--:--  3044\n"
     ]
    },
    {
     "name": "stdout",
     "output_type": "stream",
     "text": [
      "PDB file generated successfully: /Users/jianchengluo/Desktop/CPPs/cpps_natrual/IYRDLISH.pdb\n"
     ]
    },
    {
     "name": "stderr",
     "output_type": "stream",
     "text": [
      "  % Total    % Received % Xferd  Average Speed   Time    Time     Time  Current\n",
      "                                 Dload  Upload   Total   Spent    Left  Speed\n",
      "100  7503  100  7494  100     9   2722      3  0:00:03  0:00:02  0:00:01  2725\n"
     ]
    },
    {
     "name": "stdout",
     "output_type": "stream",
     "text": [
      "PDB file generated successfully: /Users/jianchengluo/Desktop/CPPs/cpps_natrual/AIIYRDLIS.pdb\n"
     ]
    },
    {
     "name": "stderr",
     "output_type": "stream",
     "text": [
      "  % Total    % Received % Xferd  Average Speed   Time    Time     Time  Current\n",
      "                                 Dload  Upload   Total   Spent    Left  Speed\n",
      "100  7503  100  7494  100     9   1873      2  0:00:04  0:00:03  0:00:01  1875\n"
     ]
    },
    {
     "name": "stdout",
     "output_type": "stream",
     "text": [
      "PDB file generated successfully: /Users/jianchengluo/Desktop/CPPs/cpps_natrual/MAIYRDLIS.pdb\n"
     ]
    },
    {
     "name": "stderr",
     "output_type": "stream",
     "text": [
      "  % Total    % Received % Xferd  Average Speed   Time    Time     Time  Current\n",
      "                                 Dload  Upload   Total   Spent    Left  Speed\n",
      "100  7503  100  7494  100     9   3283      3  0:00:03  0:00:02  0:00:01  3287\n"
     ]
    },
    {
     "name": "stdout",
     "output_type": "stream",
     "text": [
      "PDB file generated successfully: /Users/jianchengluo/Desktop/CPPs/cpps_natrual/MIAYRDLIS.pdb\n"
     ]
    },
    {
     "name": "stderr",
     "output_type": "stream",
     "text": [
      "  % Total    % Received % Xferd  Average Speed   Time    Time     Time  Current\n",
      "                                 Dload  Upload   Total   Spent    Left  Speed\n",
      "100  7179  100  7170  100     9   2481      3  0:00:03  0:00:02  0:00:01  2484\n"
     ]
    },
    {
     "name": "stdout",
     "output_type": "stream",
     "text": [
      "PDB file generated successfully: /Users/jianchengluo/Desktop/CPPs/cpps_natrual/MIIARDLIS.pdb\n"
     ]
    },
    {
     "name": "stderr",
     "output_type": "stream",
     "text": [
      "  % Total    % Received % Xferd  Average Speed   Time    Time     Time  Current\n",
      "                                 Dload  Upload   Total   Spent    Left  Speed\n",
      "100  7260  100  7251  100     9   1537      1  0:00:09  0:00:04  0:00:05  1876\n"
     ]
    },
    {
     "name": "stdout",
     "output_type": "stream",
     "text": [
      "PDB file generated successfully: /Users/jianchengluo/Desktop/CPPs/cpps_natrual/MIIYADLIS.pdb\n"
     ]
    },
    {
     "name": "stderr",
     "output_type": "stream",
     "text": [
      "  % Total    % Received % Xferd  Average Speed   Time    Time     Time  Current\n",
      "                                 Dload  Upload   Total   Spent    Left  Speed\n",
      "100  7503  100  7494  100     9   3239      3  0:00:03  0:00:02  0:00:01  3243\n"
     ]
    },
    {
     "name": "stdout",
     "output_type": "stream",
     "text": [
      "PDB file generated successfully: /Users/jianchengluo/Desktop/CPPs/cpps_natrual/MIIYRALIS.pdb\n"
     ]
    },
    {
     "name": "stderr",
     "output_type": "stream",
     "text": [
      "  % Total    % Received % Xferd  Average Speed   Time    Time     Time  Current\n",
      "                                 Dload  Upload   Total   Spent    Left  Speed\n",
      "100  7503  100  7494  100     9   2670      3  0:00:03  0:00:02  0:00:01  2672\n"
     ]
    },
    {
     "name": "stdout",
     "output_type": "stream",
     "text": [
      "PDB file generated successfully: /Users/jianchengluo/Desktop/CPPs/cpps_natrual/MIIYRDAIS.pdb\n"
     ]
    },
    {
     "name": "stderr",
     "output_type": "stream",
     "text": [
      "  % Total    % Received % Xferd  Average Speed   Time    Time     Time  Current\n",
      "                                 Dload  Upload   Total   Spent    Left  Speed\n",
      "100  7503  100  7494  100     9   2908      3  0:00:03  0:00:02  0:00:01  2911\n"
     ]
    },
    {
     "name": "stdout",
     "output_type": "stream",
     "text": [
      "PDB file generated successfully: /Users/jianchengluo/Desktop/CPPs/cpps_natrual/MIIYRDLAS.pdb\n"
     ]
    },
    {
     "name": "stderr",
     "output_type": "stream",
     "text": [
      "  % Total    % Received % Xferd  Average Speed   Time    Time     Time  Current\n",
      "                                 Dload  Upload   Total   Spent    Left  Speed\n",
      "100  7665  100  7656  100     9   3325      3  0:00:03  0:00:02  0:00:01  3331\n"
     ]
    },
    {
     "name": "stdout",
     "output_type": "stream",
     "text": [
      "PDB file generated successfully: /Users/jianchengluo/Desktop/CPPs/cpps_natrual/MIIYRDLIA.pdb\n"
     ]
    },
    {
     "name": "stderr",
     "output_type": "stream",
     "text": [
      "  % Total    % Received % Xferd  Average Speed   Time    Time     Time  Current\n",
      "                                 Dload  Upload   Total   Spent    Left  Speed\n",
      "100  9206  100  9195  100    11   4014      4  0:00:02  0:00:02 --:--:--  4020\n"
     ]
    },
    {
     "name": "stdout",
     "output_type": "stream",
     "text": [
      "PDB file generated successfully: /Users/jianchengluo/Desktop/CPPs/cpps_natrual/MIIYRDLISKK.pdb\n"
     ]
    },
    {
     "name": "stderr",
     "output_type": "stream",
     "text": [
      "  % Total    % Received % Xferd  Average Speed   Time    Time     Time  Current\n",
      "                                 Dload  Upload   Total   Spent    Left  Speed\n",
      "100  8719  100  8709  100    10   3592      4  0:00:02  0:00:02 --:--:--  3596\n"
     ]
    },
    {
     "name": "stdout",
     "output_type": "stream",
     "text": [
      "PDB file generated successfully: /Users/jianchengluo/Desktop/CPPs/cpps_natrual/MIIYRDKKSH.pdb\n"
     ]
    },
    {
     "name": "stderr",
     "output_type": "stream",
     "text": [
      "  % Total    % Received % Xferd  Average Speed   Time    Time     Time  Current\n",
      "                                 Dload  Upload   Total   Spent    Left  Speed\n",
      "100  8476  100  8466  100    10   2132      2  0:00:05  0:00:03  0:00:02  2134\n"
     ]
    },
    {
     "name": "stdout",
     "output_type": "stream",
     "text": [
      "PDB file generated successfully: /Users/jianchengluo/Desktop/CPPs/cpps_natrual/MIIFRDLISH.pdb\n"
     ]
    },
    {
     "name": "stderr",
     "output_type": "stream",
     "text": [
      "  % Total    % Received % Xferd  Average Speed   Time    Time     Time  Current\n",
      "                                 Dload  Upload   Total   Spent    Left  Speed\n",
      "100  8071  100  8061  100    10   3443      4  0:00:02  0:00:02 --:--:--  3449\n"
     ]
    },
    {
     "name": "stdout",
     "output_type": "stream",
     "text": [
      "PDB file generated successfully: /Users/jianchengluo/Desktop/CPPs/cpps_natrual/MIISRDLISH.pdb\n"
     ]
    },
    {
     "name": "stderr",
     "output_type": "stream",
     "text": [
      "  % Total    % Received % Xferd  Average Speed   Time    Time     Time  Current\n",
      "                                 Dload  Upload   Total   Spent    Left  Speed\n",
      "100  8152  100  8142  100    10   3494      4  0:00:02  0:00:02 --:--:--  3498\n"
     ]
    },
    {
     "name": "stdout",
     "output_type": "stream",
     "text": [
      "PDB file generated successfully: /Users/jianchengluo/Desktop/CPPs/cpps_natrual/QIISRDLISH.pdb\n"
     ]
    },
    {
     "name": "stderr",
     "output_type": "stream",
     "text": [
      "  % Total    % Received % Xferd  Average Speed   Time    Time     Time  Current\n",
      "                                 Dload  Upload   Total   Spent    Left  Speed\n",
      "100  7909  100  7899  100    10   3399      4  0:00:02  0:00:02 --:--:--  3404\n"
     ]
    },
    {
     "name": "stdout",
     "output_type": "stream",
     "text": [
      "PDB file generated successfully: /Users/jianchengluo/Desktop/CPPs/cpps_natrual/CIISRDLISH.pdb\n"
     ]
    },
    {
     "name": "stderr",
     "output_type": "stream",
     "text": [
      "  % Total    % Received % Xferd  Average Speed   Time    Time     Time  Current\n",
      "                                 Dload  Upload   Total   Spent    Left  Speed\n",
      "100  9774  100  9762  100    12   4139      5  0:00:02  0:00:02 --:--:--  4146\n"
     ]
    },
    {
     "name": "stdout",
     "output_type": "stream",
     "text": [
      "PDB file generated successfully: /Users/jianchengluo/Desktop/CPPs/cpps_natrual/MIIYRALISHKK.pdb\n"
     ]
    },
    {
     "name": "stderr",
     "output_type": "stream",
     "text": [
      "  % Total    % Received % Xferd  Average Speed   Time    Time     Time  Current\n",
      "                                 Dload  Upload   Total   Spent    Left  Speed\n",
      "100  9531  100  9519  100    12   4100      5  0:00:02  0:00:02 --:--:--  4104\n"
     ]
    },
    {
     "name": "stdout",
     "output_type": "stream",
     "text": [
      "PDB file generated successfully: /Users/jianchengluo/Desktop/CPPs/cpps_natrual/MIIYRIAASHKK.pdb\n"
     ]
    },
    {
     "name": "stderr",
     "output_type": "stream",
     "text": [
      "  % Total    % Received % Xferd  Average Speed   Time    Time     Time  Current\n",
      "                                 Dload  Upload   Total   Spent    Left  Speed\n",
      "100  8395  100  8385  100    10   3509      4  0:00:02  0:00:02 --:--:--  3515\n"
     ]
    },
    {
     "name": "stdout",
     "output_type": "stream",
     "text": [
      "PDB file generated successfully: /Users/jianchengluo/Desktop/CPPs/cpps_natrual/MIIRRDLISE.pdb\n"
     ]
    },
    {
     "name": "stderr",
     "output_type": "stream",
     "text": [
      "  % Total    % Received % Xferd  Average Speed   Time    Time     Time  Current\n",
      "                                 Dload  Upload   Total   Spent    Left  Speed\n",
      "100  8395  100  8385  100    10   3394      4  0:00:02  0:00:02 --:--:--  3398\n"
     ]
    },
    {
     "name": "stdout",
     "output_type": "stream",
     "text": [
      "PDB file generated successfully: /Users/jianchengluo/Desktop/CPPs/cpps_natrual/MIIYRAEISH.pdb\n"
     ]
    },
    {
     "name": "stderr",
     "output_type": "stream",
     "text": [
      "  % Total    % Received % Xferd  Average Speed   Time    Time     Time  Current\n",
      "                                 Dload  Upload   Total   Spent    Left  Speed\n",
      "100  8476  100  8466  100    10   3574      4  0:00:02  0:00:02 --:--:--  3579\n"
     ]
    },
    {
     "name": "stdout",
     "output_type": "stream",
     "text": [
      "PDB file generated successfully: /Users/jianchengluo/Desktop/CPPs/cpps_natrual/MIIYARRAEE.pdb\n"
     ]
    },
    {
     "name": "stderr",
     "output_type": "stream",
     "text": [
      "  % Total    % Received % Xferd  Average Speed   Time    Time     Time  Current\n",
      "                                 Dload  Upload   Total   Spent    Left  Speed\n",
      "100  9450  100  9438  100    12   4056      5  0:00:02  0:00:02 --:--:--  4062\n"
     ]
    },
    {
     "name": "stdout",
     "output_type": "stream",
     "text": [
      "PDB file generated successfully: /Users/jianchengluo/Desktop/CPPs/cpps_natrual/MIIFRIAASHKK.pdb\n"
     ]
    },
    {
     "name": "stderr",
     "output_type": "stream",
     "text": [
      "  % Total    % Received % Xferd  Average Speed   Time    Time     Time  Current\n",
      "                                 Dload  Upload   Total   Spent    Left  Speed\n",
      "100  9693  100  9681  100    12   3904      4  0:00:03  0:00:02  0:00:01  3908\n"
     ]
    },
    {
     "name": "stdout",
     "output_type": "stream",
     "text": [
      "PDB file generated successfully: /Users/jianchengluo/Desktop/CPPs/cpps_natrual/MIIFRALISHKK.pdb\n"
     ]
    },
    {
     "name": "stderr",
     "output_type": "stream",
     "text": [
      "  % Total    % Received % Xferd  Average Speed   Time    Time     Time  Current\n",
      "                                 Dload  Upload   Total   Spent    Left  Speed\n",
      "100  9207  100  9195  100    12   3924      5  0:00:02  0:00:02 --:--:--  3931\n"
     ]
    },
    {
     "name": "stdout",
     "output_type": "stream",
     "text": [
      "PDB file generated successfully: /Users/jianchengluo/Desktop/CPPs/cpps_natrual/MIIFRAAASHKK.pdb\n"
     ]
    },
    {
     "name": "stderr",
     "output_type": "stream",
     "text": [
      "  % Total    % Received % Xferd  Average Speed   Time    Time     Time  Current\n",
      "                                 Dload  Upload   Total   Spent    Left  Speed\n",
      "100  9693  100  9681  100    12   4191      5  0:00:02  0:00:02 --:--:--  4196\n"
     ]
    },
    {
     "name": "stdout",
     "output_type": "stream",
     "text": [
      "PDB file generated successfully: /Users/jianchengluo/Desktop/CPPs/cpps_natrual/FIIFRIAASHKK.pdb\n"
     ]
    },
    {
     "name": "stderr",
     "output_type": "stream",
     "text": [
      "  % Total    % Received % Xferd  Average Speed   Time    Time     Time  Current\n",
      "                                 Dload  Upload   Total   Spent    Left  Speed\n",
      "100  9450  100  9438  100    12   4106      5  0:00:02  0:00:02 --:--:--  4112\n"
     ]
    },
    {
     "name": "stdout",
     "output_type": "stream",
     "text": [
      "PDB file generated successfully: /Users/jianchengluo/Desktop/CPPs/cpps_natrual/LIIFRIAASHKK.pdb\n"
     ]
    },
    {
     "name": "stderr",
     "output_type": "stream",
     "text": [
      "  % Total    % Received % Xferd  Average Speed   Time    Time     Time  Current\n",
      "                                 Dload  Upload   Total   Spent    Left  Speed\n",
      "100  9936  100  9924  100    12   4265      5  0:00:02  0:00:02 --:--:--  4271\n"
     ]
    },
    {
     "name": "stdout",
     "output_type": "stream",
     "text": [
      "PDB file generated successfully: /Users/jianchengluo/Desktop/CPPs/cpps_natrual/WIIFRIAASHKK.pdb\n"
     ]
    },
    {
     "name": "stderr",
     "output_type": "stream",
     "text": [
      "  % Total    % Received % Xferd  Average Speed   Time    Time     Time  Current\n",
      "                                 Dload  Upload   Total   Spent    Left  Speed\n",
      "100  9693  100  9681  100    12   2324      2  0:00:06  0:00:04  0:00:02  2327\n"
     ]
    },
    {
     "name": "stdout",
     "output_type": "stream",
     "text": [
      "PDB file generated successfully: /Users/jianchengluo/Desktop/CPPs/cpps_natrual/WIIFRAAASHKK.pdb\n"
     ]
    },
    {
     "name": "stderr",
     "output_type": "stream",
     "text": [
      "  % Total    % Received % Xferd  Average Speed   Time    Time     Time  Current\n",
      "                                 Dload  Upload   Total   Spent    Left  Speed\n",
      "100 10179  100 10167  100    12   4387      5  0:00:02  0:00:02 --:--:--  4393\n"
     ]
    },
    {
     "name": "stdout",
     "output_type": "stream",
     "text": [
      "PDB file generated successfully: /Users/jianchengluo/Desktop/CPPs/cpps_natrual/WIIFRALISHKK.pdb\n"
     ]
    },
    {
     "name": "stderr",
     "output_type": "stream",
     "text": [
      "  % Total    % Received % Xferd  Average Speed   Time    Time     Time  Current\n",
      "                                 Dload  Upload   Total   Spent    Left  Speed\n",
      "100  9936  100  9924  100    12   2469      2  0:00:06  0:00:04  0:00:02  2473\n"
     ]
    },
    {
     "name": "stdout",
     "output_type": "stream",
     "text": [
      "PDB file generated successfully: /Users/jianchengluo/Desktop/CPPs/cpps_natrual/MIIFRIAAYHKK.pdb\n"
     ]
    },
    {
     "name": "stderr",
     "output_type": "stream",
     "text": [
      "  % Total    % Received % Xferd  Average Speed   Time    Time     Time  Current\n",
      "                                 Dload  Upload   Total   Spent    Left  Speed\n",
      "100 10422  100 10410  100    12   3451      3  0:00:04  0:00:03  0:00:01  3456\n"
     ]
    },
    {
     "name": "stdout",
     "output_type": "stream",
     "text": [
      "PDB file generated successfully: /Users/jianchengluo/Desktop/CPPs/cpps_natrual/WIIFRIAAYHKK.pdb\n"
     ]
    },
    {
     "name": "stderr",
     "output_type": "stream",
     "text": [
      "  % Total    % Received % Xferd  Average Speed   Time    Time     Time  Current\n",
      "                                 Dload  Upload   Total   Spent    Left  Speed\n",
      "100  9531  100  9519  100    12   4092      5  0:00:02  0:00:02 --:--:--  4097\n"
     ]
    },
    {
     "name": "stdout",
     "output_type": "stream",
     "text": [
      "PDB file generated successfully: /Users/jianchengluo/Desktop/CPPs/cpps_natrual/MIIFRIAATHKK.pdb\n"
     ]
    },
    {
     "name": "stderr",
     "output_type": "stream",
     "text": [
      "  % Total    % Received % Xferd  Average Speed   Time    Time     Time  Current\n",
      "                                 Dload  Upload   Total   Spent    Left  Speed\n",
      "100 10017  100 10005  100    12   4330      5  0:00:02  0:00:02 --:--:--  4334\n"
     ]
    },
    {
     "name": "stdout",
     "output_type": "stream",
     "text": [
      "PDB file generated successfully: /Users/jianchengluo/Desktop/CPPs/cpps_natrual/WIIFRIAATHKK.pdb\n"
     ]
    },
    {
     "name": "stderr",
     "output_type": "stream",
     "text": [
      "  % Total    % Received % Xferd  Average Speed   Time    Time     Time  Current\n",
      "                                 Dload  Upload   Total   Spent    Left  Speed\n",
      "100  9288  100  9276  100    12   1997      2  0:00:06  0:00:04  0:00:02  2000\n"
     ]
    },
    {
     "name": "stdout",
     "output_type": "stream",
     "text": [
      "PDB file generated successfully: /Users/jianchengluo/Desktop/CPPs/cpps_natrual/MIIFKIAASHKK.pdb\n"
     ]
    },
    {
     "name": "stderr",
     "output_type": "stream",
     "text": [
      "  % Total    % Received % Xferd  Average Speed   Time    Time     Time  Current\n",
      "                                 Dload  Upload   Total   Spent    Left  Speed\n",
      "100  9774  100  9762  100    12   3917      4  0:00:03  0:00:02  0:00:01  3922\n"
     ]
    },
    {
     "name": "stdout",
     "output_type": "stream",
     "text": [
      "PDB file generated successfully: /Users/jianchengluo/Desktop/CPPs/cpps_natrual/WIIFKIAASHKK.pdb\n"
     ]
    },
    {
     "name": "stderr",
     "output_type": "stream",
     "text": [
      "  % Total    % Received % Xferd  Average Speed   Time    Time     Time  Current\n",
      "                                 Dload  Upload   Total   Spent    Left  Speed\n",
      "100  8964  100  8952  100    12   3909      5  0:00:02  0:00:02 --:--:--  3916\n"
     ]
    },
    {
     "name": "stdout",
     "output_type": "stream",
     "text": [
      "PDB file generated successfully: /Users/jianchengluo/Desktop/CPPs/cpps_natrual/MIIFAIAASHKK.pdb\n"
     ]
    },
    {
     "name": "stderr",
     "output_type": "stream",
     "text": [
      "  % Total    % Received % Xferd  Average Speed   Time    Time     Time  Current\n",
      "                                 Dload  Upload   Total   Spent    Left  Speed\n",
      "100  9936  100  9924  100    12   2789      3  0:00:04  0:00:03  0:00:01  2793\n"
     ]
    },
    {
     "name": "stdout",
     "output_type": "stream",
     "text": [
      "PDB file generated successfully: /Users/jianchengluo/Desktop/CPPs/cpps_natrual/LIIFRILISHKK.pdb\n"
     ]
    },
    {
     "name": "stderr",
     "output_type": "stream",
     "text": [
      "  % Total    % Received % Xferd  Average Speed   Time    Time     Time  Current\n",
      "                                 Dload  Upload   Total   Spent    Left  Speed\n",
      "100  9936  100  9924  100    12   3008      3  0:00:04  0:00:03  0:00:01  3012\n"
     ]
    },
    {
     "name": "stdout",
     "output_type": "stream",
     "text": [
      "PDB file generated successfully: /Users/jianchengluo/Desktop/CPPs/cpps_natrual/MIIFRILISHKK.pdb\n"
     ]
    },
    {
     "name": "stderr",
     "output_type": "stream",
     "text": [
      "  % Total    % Received % Xferd  Average Speed   Time    Time     Time  Current\n",
      "                                 Dload  Upload   Total   Spent    Left  Speed\n",
      "100 10260  100 10248  100    12   4235      4  0:00:03  0:00:02  0:00:01  4239\n"
     ]
    },
    {
     "name": "stdout",
     "output_type": "stream",
     "text": [
      "PDB file generated successfully: /Users/jianchengluo/Desktop/CPPs/cpps_natrual/LIIFRILISHRR.pdb\n"
     ]
    },
    {
     "name": "stderr",
     "output_type": "stream",
     "text": [
      "  % Total    % Received % Xferd  Average Speed   Time    Time     Time  Current\n",
      "                                 Dload  Upload   Total   Spent    Left  Speed\n",
      "100 10098  100 10086  100    12   4329      5  0:00:02  0:00:02 --:--:--  4335\n"
     ]
    },
    {
     "name": "stdout",
     "output_type": "stream",
     "text": [
      "PDB file generated successfully: /Users/jianchengluo/Desktop/CPPs/cpps_natrual/LIIFRILISHHH.pdb\n"
     ]
    },
    {
     "name": "stderr",
     "output_type": "stream",
     "text": [
      "  % Total    % Received % Xferd  Average Speed   Time    Time     Time  Current\n",
      "                                 Dload  Upload   Total   Spent    Left  Speed\n",
      "100  9206  100  9195  100    11   3953      4  0:00:02  0:00:02 --:--:--  3959\n"
     ]
    },
    {
     "name": "stdout",
     "output_type": "stream",
     "text": [
      "PDB file generated successfully: /Users/jianchengluo/Desktop/CPPs/cpps_natrual/LIIFRILISHK.pdb\n"
     ]
    },
    {
     "name": "stderr",
     "output_type": "stream",
     "text": [
      "  % Total    % Received % Xferd  Average Speed   Time    Time     Time  Current\n",
      "                                 Dload  Upload   Total   Spent    Left  Speed\n",
      "100  9368  100  9357  100    11   2801      3  0:00:03  0:00:03 --:--:--  2803\n"
     ]
    },
    {
     "name": "stdout",
     "output_type": "stream",
     "text": [
      "PDB file generated successfully: /Users/jianchengluo/Desktop/CPPs/cpps_natrual/LIIFRILISHR.pdb\n"
     ]
    },
    {
     "name": "stderr",
     "output_type": "stream",
     "text": [
      "  % Total    % Received % Xferd  Average Speed   Time    Time     Time  Current\n",
      "                                 Dload  Upload   Total   Spent    Left  Speed\n",
      "100  8476  100  8466  100    10   3729      4  0:00:02  0:00:02 --:--:--  3735\n"
     ]
    },
    {
     "name": "stdout",
     "output_type": "stream",
     "text": [
      "PDB file generated successfully: /Users/jianchengluo/Desktop/CPPs/cpps_natrual/LIIFRILISH.pdb\n"
     ]
    },
    {
     "name": "stderr",
     "output_type": "stream",
     "text": [
      "  % Total    % Received % Xferd  Average Speed   Time    Time     Time  Current\n",
      "                                 Dload  Upload   Total   Spent    Left  Speed\n",
      "100  8964  100  8952  100    12   3732      5  0:00:02  0:00:02 --:--:--  3738\n"
     ]
    },
    {
     "name": "stdout",
     "output_type": "stream",
     "text": [
      "PDB file generated successfully: /Users/jianchengluo/Desktop/CPPs/cpps_natrual/LIIFAIAASHKK.pdb\n"
     ]
    },
    {
     "name": "stderr",
     "output_type": "stream",
     "text": [
      "  % Total    % Received % Xferd  Average Speed   Time    Time     Time  Current\n",
      "                                 Dload  Upload   Total   Spent    Left  Speed\n",
      "100  9450  100  9438  100    12   2266      2  0:00:06  0:00:04  0:00:02  2415\n"
     ]
    },
    {
     "name": "stdout",
     "output_type": "stream",
     "text": [
      "PDB file generated successfully: /Users/jianchengluo/Desktop/CPPs/cpps_natrual/LIIFAILISHKK.pdb\n"
     ]
    },
    {
     "name": "stderr",
     "output_type": "stream",
     "text": [
      "  % Total    % Received % Xferd  Average Speed   Time    Time     Time  Current\n",
      "                                 Dload  Upload   Total   Spent    Left  Speed\n",
      "100 15776  100 15756  100    20   5846      7  0:00:02  0:00:02 --:--:--  5855\n"
     ]
    },
    {
     "name": "stdout",
     "output_type": "stream",
     "text": [
      "PDB file generated successfully: /Users/jianchengluo/Desktop/CPPs/cpps_natrual/RILQQLLFIHFRIGCRHSRI.pdb\n"
     ]
    },
    {
     "name": "stderr",
     "output_type": "stream",
     "text": [
      "  % Total    % Received % Xferd  Average Speed   Time    Time     Time  Current\n",
      "                                 Dload  Upload   Total   Spent    Left  Speed\n",
      "100 13748  100 13731  100    17   1501      1  0:00:17  0:00:09  0:00:08  4030\n"
     ]
    },
    {
     "name": "stdout",
     "output_type": "stream",
     "text": [
      "PDB file generated successfully: /Users/jianchengluo/Desktop/CPPs/cpps_natrual/RILQQLLFIHFRIGCRH.pdb\n"
     ]
    },
    {
     "name": "stderr",
     "output_type": "stream",
     "text": [
      "  % Total    % Received % Xferd  Average Speed   Time    Time     Time  Current\n",
      "                                 Dload  Upload   Total   Spent    Left  Speed\n",
      "100 12045  100 12030  100    15   5058      6  0:00:02  0:00:02 --:--:--  5067\n"
     ]
    },
    {
     "name": "stdout",
     "output_type": "stream",
     "text": [
      "PDB file generated successfully: /Users/jianchengluo/Desktop/CPPs/cpps_natrual/RILQQLLFIHFRIGC.pdb\n"
     ]
    },
    {
     "name": "stderr",
     "output_type": "stream",
     "text": [
      "  % Total    % Received % Xferd  Average Speed   Time    Time     Time  Current\n",
      "                                 Dload  Upload   Total   Spent    Left  Speed\n",
      "100  8638  100  8628  100    10   3669      4  0:00:02  0:00:02 --:--:--  3674\n"
     ]
    },
    {
     "name": "stdout",
     "output_type": "stream",
     "text": [
      "PDB file generated successfully: /Users/jianchengluo/Desktop/CPPs/cpps_natrual/RIFIHFRIGC.pdb\n"
     ]
    },
    {
     "name": "stderr",
     "output_type": "stream",
     "text": [
      "  % Total    % Received % Xferd  Average Speed   Time    Time     Time  Current\n",
      "                                 Dload  Upload   Total   Spent    Left  Speed\n",
      "100  6935  100  6927  100     8   2565      2  0:00:04  0:00:02  0:00:02  2567\n"
     ]
    },
    {
     "name": "stdout",
     "output_type": "stream",
     "text": [
      "PDB file generated successfully: /Users/jianchengluo/Desktop/CPPs/cpps_natrual/RIFIRIGC.pdb\n"
     ]
    },
    {
     "name": "stderr",
     "output_type": "stream",
     "text": [
      "  % Total    % Received % Xferd  Average Speed   Time    Time     Time  Current\n",
      "                                 Dload  Upload   Total   Spent    Left  Speed\n",
      "100  9692  100  9681  100    11   4215      4  0:00:02  0:00:02 --:--:--  4221\n"
     ]
    },
    {
     "name": "stdout",
     "output_type": "stream",
     "text": [
      "PDB file generated successfully: /Users/jianchengluo/Desktop/CPPs/cpps_natrual/RILQQLLFIHF.pdb\n"
     ]
    },
    {
     "name": "stderr",
     "output_type": "stream",
     "text": [
      "  % Total    % Received % Xferd  Average Speed   Time    Time     Time  Current\n",
      "                                 Dload  Upload   Total   Spent    Left  Speed\n",
      "100  5394  100  5388  100     6   2300      2  0:00:03  0:00:02  0:00:01  2302\n"
     ]
    },
    {
     "name": "stdout",
     "output_type": "stream",
     "text": [
      "PDB file generated successfully: /Users/jianchengluo/Desktop/CPPs/cpps_natrual/RIFIGC.pdb\n"
     ]
    },
    {
     "name": "stderr",
     "output_type": "stream",
     "text": [
      "  % Total    % Received % Xferd  Average Speed   Time    Time     Time  Current\n",
      "                                 Dload  Upload   Total   Spent    Left  Speed\n",
      "100  5394  100  5388  100     6   2227      2  0:00:03  0:00:02  0:00:01  2230\n"
     ]
    },
    {
     "name": "stdout",
     "output_type": "stream",
     "text": [
      "PDB file generated successfully: /Users/jianchengluo/Desktop/CPPs/cpps_natrual/FIRIGC.pdb\n"
     ]
    },
    {
     "name": "stderr",
     "output_type": "stream",
     "text": [
      "  % Total    % Received % Xferd  Average Speed   Time    Time     Time  Current\n",
      "                                 Dload  Upload   Total   Spent    Left  Speed\n",
      "100 16669  100 16647  100    22   2333      3  0:00:07  0:00:07 --:--:--  4276\n"
     ]
    },
    {
     "name": "stdout",
     "output_type": "stream",
     "text": [
      "PDB file generated successfully: /Users/jianchengluo/Desktop/CPPs/cpps_natrual/DTWAGVEAIIRILQQLLFIHFR.pdb\n"
     ]
    },
    {
     "name": "stderr",
     "output_type": "stream",
     "text": [
      "  % Total    % Received % Xferd  Average Speed   Time    Time     Time  Current\n",
      "                                 Dload  Upload   Total   Spent    Left  Speed\n",
      "100  4664  100  4659  100     5   1923      2  0:00:02  0:00:02 --:--:--  1924\n"
     ]
    },
    {
     "name": "stdout",
     "output_type": "stream",
     "text": [
      "PDB file generated successfully: /Users/jianchengluo/Desktop/CPPs/cpps_natrual/IGCRH.pdb\n"
     ]
    },
    {
     "name": "stderr",
     "output_type": "stream",
     "text": [
      "  % Total    % Received % Xferd  Average Speed   Time    Time     Time  Current\n",
      "                                 Dload  Upload   Total   Spent    Left  Speed\n",
      "100 14314  100 14298  100    16  10957     12  0:00:01  0:00:01 --:--:-- 10976\n"
     ]
    },
    {
     "name": "stdout",
     "output_type": "stream",
     "text": [
      "PDB file generated successfully: /Users/jianchengluo/Desktop/CPPs/cpps_natrual/RQIKIWFQNRRMKWKK.pdb\n"
     ]
    },
    {
     "name": "stderr",
     "output_type": "stream",
     "text": [
      "  % Total    % Received % Xferd  Average Speed   Time    Time     Time  Current\n",
      "                                 Dload  Upload   Total   Spent    Left  Speed\n",
      "100 19100  100 19077  100    23   5357      6  0:00:03  0:00:03 --:--:--  5363\n"
     ]
    },
    {
     "name": "stdout",
     "output_type": "stream",
     "text": [
      "PDB file generated successfully: /Users/jianchengluo/Desktop/CPPs/cpps_natrual/GYGRKKRRGRRRTHRLPRRRRRR.pdb\n"
     ]
    },
    {
     "name": "stderr",
     "output_type": "stream",
     "text": [
      "  % Total    % Received % Xferd  Average Speed   Time    Time     Time  Current\n",
      "                                 Dload  Upload   Total   Spent    Left  Speed\n",
      "100  9855  100  9843  100    12   4313      5  0:00:02  0:00:02 --:--:--  4320\n"
     ]
    },
    {
     "name": "stdout",
     "output_type": "stream",
     "text": [
      "PDB file generated successfully: /Users/jianchengluo/Desktop/CPPs/cpps_natrual/KRIIQRILSRNS.pdb\n"
     ]
    },
    {
     "name": "stderr",
     "output_type": "stream",
     "text": [
      "  % Total    % Received % Xferd  Average Speed   Time    Time     Time  Current\n",
      "                                 Dload  Upload   Total   Spent    Left  Speed\n",
      "100 10179  100 10167  100    12   4275      5  0:00:02  0:00:02 --:--:--  4282\n"
     ]
    },
    {
     "name": "stdout",
     "output_type": "stream",
     "text": [
      "PDB file generated successfully: /Users/jianchengluo/Desktop/CPPs/cpps_natrual/KRIHPRLTRSIR.pdb\n"
     ]
    },
    {
     "name": "stderr",
     "output_type": "stream",
     "text": [
      "  % Total    % Received % Xferd  Average Speed   Time    Time     Time  Current\n",
      "                                 Dload  Upload   Total   Spent    Left  Speed\n",
      "100 10260  100 10248  100    12   4250      4  0:00:03  0:00:02  0:00:01  4257\n"
     ]
    },
    {
     "name": "stdout",
     "output_type": "stream",
     "text": [
      "PDB file generated successfully: /Users/jianchengluo/Desktop/CPPs/cpps_natrual/PPRLRKRRQLNM.pdb\n"
     ]
    },
    {
     "name": "stderr",
     "output_type": "stream",
     "text": [
      "  % Total    % Received % Xferd  Average Speed   Time    Time     Time  Current\n",
      "                                 Dload  Upload   Total   Spent    Left  Speed\n",
      "100 10665  100 10653  100    12   4594      5  0:00:02  0:00:02 --:--:--  4600\n"
     ]
    },
    {
     "name": "stdout",
     "output_type": "stream",
     "text": [
      "PDB file generated successfully: /Users/jianchengluo/Desktop/CPPs/cpps_natrual/PIRRRKKLRRLK.pdb\n"
     ]
    },
    {
     "name": "stderr",
     "output_type": "stream",
     "text": [
      "  % Total    % Received % Xferd  Average Speed   Time    Time     Time  Current\n",
      "                                 Dload  Upload   Total   Spent    Left  Speed\n",
      "100 10503  100 10491  100    12   4478      5  0:00:02  0:00:02 --:--:--  4482\n"
     ]
    },
    {
     "name": "stdout",
     "output_type": "stream",
     "text": [
      "PDB file generated successfully: /Users/jianchengluo/Desktop/CPPs/cpps_natrual/RRQRRTSKLMKR.pdb\n"
     ]
    },
    {
     "name": "stderr",
     "output_type": "stream",
     "text": [
      "  % Total    % Received % Xferd  Average Speed   Time    Time     Time  Current\n",
      "                                 Dload  Upload   Total   Spent    Left  Speed\n",
      "100  9612  100  9600  100    12   4161      5  0:00:02  0:00:02 --:--:--  4166\n"
     ]
    },
    {
     "name": "stdout",
     "output_type": "stream",
     "text": [
      "PDB file generated successfully: /Users/jianchengluo/Desktop/CPPs/cpps_natrual/MHKRPTTPSRKM.pdb\n"
     ]
    },
    {
     "name": "stderr",
     "output_type": "stream",
     "text": [
      "  % Total    % Received % Xferd  Average Speed   Time    Time     Time  Current\n",
      "                                 Dload  Upload   Total   Spent    Left  Speed\n",
      "100 10584  100 10572  100    12   4434      5  0:00:02  0:00:02 --:--:--  4441\n"
     ]
    },
    {
     "name": "stdout",
     "output_type": "stream",
     "text": [
      "PDB file generated successfully: /Users/jianchengluo/Desktop/CPPs/cpps_natrual/RQRSRRRPLNIR.pdb\n"
     ]
    },
    {
     "name": "stderr",
     "output_type": "stream",
     "text": [
      "  % Total    % Received % Xferd  Average Speed   Time    Time     Time  Current\n",
      "                                 Dload  Upload   Total   Spent    Left  Speed\n",
      "100  9936  100  9924  100    12   4304      5  0:00:02  0:00:02 --:--:--  4308\n"
     ]
    },
    {
     "name": "stdout",
     "output_type": "stream",
     "text": [
      "PDB file generated successfully: /Users/jianchengluo/Desktop/CPPs/cpps_natrual/RIRMIQNLIKKT.pdb\n"
     ]
    },
    {
     "name": "stderr",
     "output_type": "stream",
     "text": [
      "  % Total    % Received % Xferd  Average Speed   Time    Time     Time  Current\n",
      "                                 Dload  Upload   Total   Spent    Left  Speed\n",
      "100 10341  100 10329  100    12   2233      2  0:00:06  0:00:04  0:00:02  2236\n"
     ]
    },
    {
     "name": "stdout",
     "output_type": "stream",
     "text": [
      "PDB file generated successfully: /Users/jianchengluo/Desktop/CPPs/cpps_natrual/SRRKRQRSNMRI.pdb\n"
     ]
    },
    {
     "name": "stderr",
     "output_type": "stream",
     "text": [
      "  % Total    % Received % Xferd  Average Speed   Time    Time     Time  Current\n",
      "                                 Dload  Upload   Total   Spent    Left  Speed\n",
      "100  9855  100  9843  100    12   3969      4  0:00:03  0:00:02  0:00:01  3973\n"
     ]
    },
    {
     "name": "stdout",
     "output_type": "stream",
     "text": [
      "PDB file generated successfully: /Users/jianchengluo/Desktop/CPPs/cpps_natrual/QRIRKSKISRTL.pdb\n"
     ]
    },
    {
     "name": "stderr",
     "output_type": "stream",
     "text": [
      "  % Total    % Received % Xferd  Average Speed   Time    Time     Time  Current\n",
      "                                 Dload  Upload   Total   Spent    Left  Speed\n",
      "100 10017  100 10005  100    12   4292      5  0:00:02  0:00:02 --:--:--  4299\n"
     ]
    },
    {
     "name": "stdout",
     "output_type": "stream",
     "text": [
      "PDB file generated successfully: /Users/jianchengluo/Desktop/CPPs/cpps_natrual/PSKRLLHNNLRR.pdb\n"
     ]
    },
    {
     "name": "stderr",
     "output_type": "stream",
     "text": [
      "  % Total    % Received % Xferd  Average Speed   Time    Time     Time  Current\n",
      "                                 Dload  Upload   Total   Spent    Left  Speed\n",
      "100 10260  100 10248  100    12   2665      3  0:00:04  0:00:03  0:00:01  2668\n"
     ]
    },
    {
     "name": "stdout",
     "output_type": "stream",
     "text": [
      "PDB file generated successfully: /Users/jianchengluo/Desktop/CPPs/cpps_natrual/HRHIRRQSLIML.pdb\n"
     ]
    },
    {
     "name": "stderr",
     "output_type": "stream",
     "text": [
      "  % Total    % Received % Xferd  Average Speed   Time    Time     Time  Current\n",
      "                                 Dload  Upload   Total   Spent    Left  Speed\n",
      "100 10179  100 10167  100    12   2388      2  0:00:06  0:00:04  0:00:02  2391\n"
     ]
    },
    {
     "name": "stdout",
     "output_type": "stream",
     "text": [
      "PDB file generated successfully: /Users/jianchengluo/Desktop/CPPs/cpps_natrual/PQNRLQIRRHSK.pdb\n"
     ]
    },
    {
     "name": "stderr",
     "output_type": "stream",
     "text": [
      "  % Total    % Received % Xferd  Average Speed   Time    Time     Time  Current\n",
      "                                 Dload  Upload   Total   Spent    Left  Speed\n",
      "100 10098  100 10086  100    12   4038      4  0:00:03  0:00:02  0:00:01  4042\n"
     ]
    },
    {
     "name": "stdout",
     "output_type": "stream",
     "text": [
      "PDB file generated successfully: /Users/jianchengluo/Desktop/CPPs/cpps_natrual/PPHNRIQRRLNM.pdb\n"
     ]
    },
    {
     "name": "stderr",
     "output_type": "stream",
     "text": [
      "  % Total    % Received % Xferd  Average Speed   Time    Time     Time  Current\n",
      "                                 Dload  Upload   Total   Spent    Left  Speed\n",
      "100  9450  100  9438  100    12   4004      5  0:00:02  0:00:02 --:--:--  4011\n"
     ]
    },
    {
     "name": "stdout",
     "output_type": "stream",
     "text": [
      "PDB file generated successfully: /Users/jianchengluo/Desktop/CPPs/cpps_natrual/SMLKRNHSTSNR.pdb\n"
     ]
    },
    {
     "name": "stderr",
     "output_type": "stream",
     "text": [
      "  % Total    % Received % Xferd  Average Speed   Time    Time     Time  Current\n",
      "                                 Dload  Upload   Total   Spent    Left  Speed\n",
      "100  9207  100  9195  100    12   3170      4  0:00:03  0:00:02  0:00:01  3173\n"
     ]
    },
    {
     "name": "stdout",
     "output_type": "stream",
     "text": [
      "PDB file generated successfully: /Users/jianchengluo/Desktop/CPPs/cpps_natrual/GSRHPSLIIPRQ.pdb\n"
     ]
    },
    {
     "name": "stderr",
     "output_type": "stream",
     "text": [
      "  % Total    % Received % Xferd  Average Speed   Time    Time     Time  Current\n",
      "                                 Dload  Upload   Total   Spent    Left  Speed\n",
      "100  8964  100  8952  100    12   3787      5  0:00:02  0:00:02 --:--:--  3791\n"
     ]
    },
    {
     "name": "stdout",
     "output_type": "stream",
     "text": [
      "PDB file generated successfully: /Users/jianchengluo/Desktop/CPPs/cpps_natrual/SPMQKTMNLPPM.pdb\n"
     ]
    },
    {
     "name": "stderr",
     "output_type": "stream",
     "text": [
      "  % Total    % Received % Xferd  Average Speed   Time    Time     Time  Current\n",
      "                                 Dload  Upload   Total   Spent    Left  Speed\n",
      "100  9936  100  9924  100    12   4247      5  0:00:02  0:00:02 --:--:--  4253\n"
     ]
    },
    {
     "name": "stdout",
     "output_type": "stream",
     "text": [
      "PDB file generated successfully: /Users/jianchengluo/Desktop/CPPs/cpps_natrual/NKRILIRIMTRP.pdb\n"
     ]
    },
    {
     "name": "stderr",
     "output_type": "stream",
     "text": [
      "  % Total    % Received % Xferd  Average Speed   Time    Time     Time  Current\n",
      "                                 Dload  Upload   Total   Spent    Left  Speed\n",
      "100  8964  100  8952  100    12   3874      5  0:00:02  0:00:02 --:--:--  3880\n"
     ]
    },
    {
     "name": "stdout",
     "output_type": "stream",
     "text": [
      "PDB file generated successfully: /Users/jianchengluo/Desktop/CPPs/cpps_natrual/HGWZIHGLLHRA.pdb\n"
     ]
    },
    {
     "name": "stderr",
     "output_type": "stream",
     "text": [
      "  % Total    % Received % Xferd  Average Speed   Time    Time     Time  Current\n",
      "                                 Dload  Upload   Total   Spent    Left  Speed\n",
      "100  7586  100  7575  100    11   1907      2  0:00:05  0:00:03  0:00:02  1909\n"
     ]
    },
    {
     "name": "stdout",
     "output_type": "stream",
     "text": [
      "PDB file generated successfully: /Users/jianchengluo/Desktop/CPPs/cpps_natrual/AVPAKKRZKSV.pdb\n"
     ]
    },
    {
     "name": "stderr",
     "output_type": "stream",
     "text": [
      "  % Total    % Received % Xferd  Average Speed   Time    Time     Time  Current\n",
      "                                 Dload  Upload   Total   Spent    Left  Speed\n",
      "100  8801  100  8790  100    11   2789      3  0:00:03  0:00:03 --:--:--  2792\n"
     ]
    },
    {
     "name": "stdout",
     "output_type": "stream",
     "text": [
      "PDB file generated successfully: /Users/jianchengluo/Desktop/CPPs/cpps_natrual/PNTRVRPDVSF.pdb\n"
     ]
    },
    {
     "name": "stderr",
     "output_type": "stream",
     "text": [
      "  % Total    % Received % Xferd  Average Speed   Time    Time     Time  Current\n",
      "                                 Dload  Upload   Total   Spent    Left  Speed\n",
      "100  9774  100  9762  100    12   4146      5  0:00:02  0:00:02 --:--:--  4152\n"
     ]
    },
    {
     "name": "stdout",
     "output_type": "stream",
     "text": [
      "PDB file generated successfully: /Users/jianchengluo/Desktop/CPPs/cpps_natrual/LTRNYEAWVPTP.pdb\n"
     ]
    },
    {
     "name": "stderr",
     "output_type": "stream",
     "text": [
      "  % Total    % Received % Xferd  Average Speed   Time    Time     Time  Current\n",
      "                                 Dload  Upload   Total   Spent    Left  Speed\n",
      "100  9046  100  9033  100    13   3851      5  0:00:02  0:00:02 --:--:--  3857\n"
     ]
    },
    {
     "name": "stdout",
     "output_type": "stream",
     "text": [
      "PDB file generated successfully: /Users/jianchengluo/Desktop/CPPs/cpps_natrual/SAETVESCLAKSH.pdb\n"
     ]
    },
    {
     "name": "stderr",
     "output_type": "stream",
     "text": [
      "  % Total    % Received % Xferd  Average Speed   Time    Time     Time  Current\n",
      "                                 Dload  Upload   Total   Spent    Left  Speed\n",
      "100  9207  100  9195  100    12   4000      5  0:00:02  0:00:02 --:--:--  4004\n"
     ]
    },
    {
     "name": "stdout",
     "output_type": "stream",
     "text": [
      "PDB file generated successfully: /Users/jianchengluo/Desktop/CPPs/cpps_natrual/YSHIATLPFTPT.pdb\n"
     ]
    },
    {
     "name": "stderr",
     "output_type": "stream",
     "text": [
      "  % Total    % Received % Xferd  Average Speed   Time    Time     Time  Current\n",
      "                                 Dload  Upload   Total   Spent    Left  Speed\n",
      "100  9207  100  9195  100    12   3967      5  0:00:02  0:00:02 --:--:--  3973\n"
     ]
    },
    {
     "name": "stdout",
     "output_type": "stream",
     "text": [
      "PDB file generated successfully: /Users/jianchengluo/Desktop/CPPs/cpps_natrual/SYIQRTPSTTLP.pdb\n"
     ]
    },
    {
     "name": "stderr",
     "output_type": "stream",
     "text": [
      "  % Total    % Received % Xferd  Average Speed   Time    Time     Time  Current\n",
      "                                 Dload  Upload   Total   Spent    Left  Speed\n",
      "100  8640  100  8628  100    12   3734      5  0:00:02  0:00:02 --:--:--  3741\n"
     ]
    },
    {
     "name": "stdout",
     "output_type": "stream",
     "text": [
      "PDB file generated successfully: /Users/jianchengluo/Desktop/CPPs/cpps_natrual/AVPAENALNNPF.pdb\n"
     ]
    },
    {
     "name": "stderr",
     "output_type": "stream",
     "text": [
      "  % Total    % Received % Xferd  Average Speed   Time    Time     Time  Current\n",
      "                                 Dload  Upload   Total   Spent    Left  Speed\n",
      "100  9126  100  9114  100    12   2901      3  0:00:04  0:00:03  0:00:01  2905\n"
     ]
    },
    {
     "name": "stdout",
     "output_type": "stream",
     "text": [
      "PDB file generated successfully: /Users/jianchengluo/Desktop/CPPs/cpps_natrual/SFHQFARATLAS.pdb\n"
     ]
    },
    {
     "name": "stderr",
     "output_type": "stream",
     "text": [
      "  % Total    % Received % Xferd  Average Speed   Time    Time     Time  Current\n",
      "                                 Dload  Upload   Total   Spent    Left  Speed\n",
      "100  9288  100  9276  100    12   2812      3  0:00:04  0:00:03  0:00:01  2816\n"
     ]
    },
    {
     "name": "stdout",
     "output_type": "stream",
     "text": [
      "PDB file generated successfully: /Users/jianchengluo/Desktop/CPPs/cpps_natrual/QSPTDFTFPNPL.pdb\n"
     ]
    },
    {
     "name": "stderr",
     "output_type": "stream",
     "text": [
      "  % Total    % Received % Xferd  Average Speed   Time    Time     Time  Current\n",
      "                                 Dload  Upload   Total   Spent    Left  Speed\n",
      "100  9450  100  9438  100    12   3261      4  0:00:03  0:00:02  0:00:01  3264\n"
     ]
    },
    {
     "name": "stdout",
     "output_type": "stream",
     "text": [
      "PDB file generated successfully: /Users/jianchengluo/Desktop/CPPs/cpps_natrual/HFAAWGGWSLVH.pdb\n"
     ]
    },
    {
     "name": "stderr",
     "output_type": "stream",
     "text": [
      "  % Total    % Received % Xferd  Average Speed   Time    Time     Time  Current\n",
      "                                 Dload  Upload   Total   Spent    Left  Speed\n",
      "100 10017  100 10005  100    12   4151      4  0:00:03  0:00:02  0:00:01  4158\n"
     ]
    },
    {
     "name": "stdout",
     "output_type": "stream",
     "text": [
      "PDB file generated successfully: /Users/jianchengluo/Desktop/CPPs/cpps_natrual/HIQLSPFSQSWR.pdb\n"
     ]
    },
    {
     "name": "stderr",
     "output_type": "stream",
     "text": [
      "  % Total    % Received % Xferd  Average Speed   Time    Time     Time  Current\n",
      "                                 Dload  Upload   Total   Spent    Left  Speed\n",
      "100  9369  100  9357  100    12   4037      5  0:00:02  0:00:02 --:--:--  4041\n"
     ]
    },
    {
     "name": "stdout",
     "output_type": "stream",
     "text": [
      "PDB file generated successfully: /Users/jianchengluo/Desktop/CPPs/cpps_natrual/LTMPSDLQPVLW.pdb\n"
     ]
    },
    {
     "name": "stderr",
     "output_type": "stream",
     "text": [
      "  % Total    % Received % Xferd  Average Speed   Time    Time     Time  Current\n",
      "                                 Dload  Upload   Total   Spent    Left  Speed\n",
      "100  9855  100  9843  100    12   4215      5  0:00:02  0:00:02 --:--:--  4222\n"
     ]
    },
    {
     "name": "stdout",
     "output_type": "stream",
     "text": [
      "PDB file generated successfully: /Users/jianchengluo/Desktop/CPPs/cpps_natrual/FQPYDHPAEVSY.pdb\n"
     ]
    },
    {
     "name": "stderr",
     "output_type": "stream",
     "text": [
      "  % Total    % Received % Xferd  Average Speed   Time    Time     Time  Current\n",
      "                                 Dload  Upload   Total   Spent    Left  Speed\n",
      "100 10827  100 10815  100    12   4720      5  0:00:02  0:00:02 --:--:--  4727\n"
     ]
    },
    {
     "name": "stdout",
     "output_type": "stream",
     "text": [
      "PDB file generated successfully: /Users/jianchengluo/Desktop/CPPs/cpps_natrual/FDPFFWKYSPRD.pdb\n"
     ]
    },
    {
     "name": "stderr",
     "output_type": "stream",
     "text": [
      "  % Total    % Received % Xferd  Average Speed   Time    Time     Time  Current\n",
      "                                 Dload  Upload   Total   Spent    Left  Speed\n",
      "100  9126  100  9114  100    12   3888      5  0:00:02  0:00:02 --:--:--  3893\n"
     ]
    },
    {
     "name": "stdout",
     "output_type": "stream",
     "text": [
      "PDB file generated successfully: /Users/jianchengluo/Desktop/CPPs/cpps_natrual/FAPWDTASFMLG.pdb\n"
     ]
    },
    {
     "name": "stderr",
     "output_type": "stream",
     "text": [
      "  % Total    % Received % Xferd  Average Speed   Time    Time     Time  Current\n",
      "                                 Dload  Upload   Total   Spent    Left  Speed\n",
      "100 10827  100 10815  100    12   4570      5  0:00:02  0:00:02 --:--:--  4578\n"
     ]
    },
    {
     "name": "stdout",
     "output_type": "stream",
     "text": [
      "PDB file generated successfully: /Users/jianchengluo/Desktop/CPPs/cpps_natrual/FTYKNFFWLPEL.pdb\n"
     ]
    },
    {
     "name": "stderr",
     "output_type": "stream",
     "text": [
      "  % Total    % Received % Xferd  Average Speed   Time    Time     Time  Current\n",
      "                                 Dload  Upload   Total   Spent    Left  Speed\n",
      "100  9369  100  9357  100    12   3994      5  0:00:02  0:00:02 --:--:--  4000\n"
     ]
    },
    {
     "name": "stdout",
     "output_type": "stream",
     "text": [
      "PDB file generated successfully: /Users/jianchengluo/Desktop/CPPs/cpps_natrual/SATGAPWKMWVR.pdb\n"
     ]
    },
    {
     "name": "stderr",
     "output_type": "stream",
     "text": [
      "  % Total    % Received % Xferd  Average Speed   Time    Time     Time  Current\n",
      "                                 Dload  Upload   Total   Spent    Left  Speed\n",
      "100  9369  100  9357  100    12   2335      2  0:00:06  0:00:04  0:00:02  2339\n"
     ]
    },
    {
     "name": "stdout",
     "output_type": "stream",
     "text": [
      "PDB file generated successfully: /Users/jianchengluo/Desktop/CPPs/cpps_natrual/SLGWMLPFSPPF.pdb\n"
     ]
    },
    {
     "name": "stderr",
     "output_type": "stream",
     "text": [
      "  % Total    % Received % Xferd  Average Speed   Time    Time     Time  Current\n",
      "                                 Dload  Upload   Total   Spent    Left  Speed\n",
      "100  9936  100  9924  100    12   4249      5  0:00:02  0:00:02 --:--:--  4255\n"
     ]
    },
    {
     "name": "stdout",
     "output_type": "stream",
     "text": [
      "PDB file generated successfully: /Users/jianchengluo/Desktop/CPPs/cpps_natrual/SHAFTWPTYLQL.pdb\n"
     ]
    },
    {
     "name": "stderr",
     "output_type": "stream",
     "text": [
      "  % Total    % Received % Xferd  Average Speed   Time    Time     Time  Current\n",
      "                                 Dload  Upload   Total   Spent    Left  Speed\n",
      "100 10260  100 10248  100    12   4424      5  0:00:02  0:00:02 --:--:--  4431\n"
     ]
    },
    {
     "name": "stdout",
     "output_type": "stream",
     "text": [
      "PDB file generated successfully: /Users/jianchengluo/Desktop/CPPs/cpps_natrual/SHNWLPLWPLRP.pdb\n"
     ]
    },
    {
     "name": "stderr",
     "output_type": "stream",
     "text": [
      "  % Total    % Received % Xferd  Average Speed   Time    Time     Time  Current\n",
      "                                 Dload  Upload   Total   Spent    Left  Speed\n",
      "100  9936  100  9924  100    12   4294      5  0:00:02  0:00:02 --:--:--  4301\n"
     ]
    },
    {
     "name": "stdout",
     "output_type": "stream",
     "text": [
      "PDB file generated successfully: /Users/jianchengluo/Desktop/CPPs/cpps_natrual/SWLPYPWHVPSS.pdb\n"
     ]
    },
    {
     "name": "stderr",
     "output_type": "stream",
     "text": [
      "  % Total    % Received % Xferd  Average Speed   Time    Time     Time  Current\n",
      "                                 Dload  Upload   Total   Spent    Left  Speed\n",
      "100 10422  100 10410  100    12   4498      5  0:00:02  0:00:02 --:--:--  4501\n"
     ]
    },
    {
     "name": "stdout",
     "output_type": "stream",
     "text": [
      "PDB file generated successfully: /Users/jianchengluo/Desktop/CPPs/cpps_natrual/SWWTPWHVHSES.pdb\n"
     ]
    },
    {
     "name": "stderr",
     "output_type": "stream",
     "text": [
      "  % Total    % Received % Xferd  Average Speed   Time    Time     Time  Current\n",
      "                                 Dload  Upload   Total   Spent    Left  Speed\n",
      "100  9207  100  9195  100    12   3933      5  0:00:02  0:00:02 --:--:--  3939\n"
     ]
    },
    {
     "name": "stdout",
     "output_type": "stream",
     "text": [
      "PDB file generated successfully: /Users/jianchengluo/Desktop/CPPs/cpps_natrual/SWAQHLSLPPVL.pdb\n"
     ]
    },
    {
     "name": "stderr",
     "output_type": "stream",
     "text": [
      "  % Total    % Received % Xferd  Average Speed   Time    Time     Time  Current\n",
      "                                 Dload  Upload   Total   Spent    Left  Speed\n",
      "100  9693  100  9681  100    12   4162      5  0:00:02  0:00:02 --:--:--  4169\n"
     ]
    },
    {
     "name": "stdout",
     "output_type": "stream",
     "text": [
      "PDB file generated successfully: /Users/jianchengluo/Desktop/CPPs/cpps_natrual/SSSIFPPWLSFF.pdb\n"
     ]
    },
    {
     "name": "stderr",
     "output_type": "stream",
     "text": [
      "  % Total    % Received % Xferd  Average Speed   Time    Time     Time  Current\n",
      "                                 Dload  Upload   Total   Spent    Left  Speed\n",
      "100  9774  100  9762  100    12   4135      5  0:00:02  0:00:02 --:--:--  4141\n"
     ]
    },
    {
     "name": "stdout",
     "output_type": "stream",
     "text": [
      "PDB file generated successfully: /Users/jianchengluo/Desktop/CPPs/cpps_natrual/LNVPPSWFLSQR.pdb\n"
     ]
    },
    {
     "name": "stderr",
     "output_type": "stream",
     "text": [
      "  % Total    % Received % Xferd  Average Speed   Time    Time     Time  Current\n",
      "                                 Dload  Upload   Total   Spent    Left  Speed\n",
      "100  9045  100  9033  100    12   2279      3  0:00:04  0:00:03  0:00:01  2282\n"
     ]
    },
    {
     "name": "stdout",
     "output_type": "stream",
     "text": [
      "PDB file generated successfully: /Users/jianchengluo/Desktop/CPPs/cpps_natrual/LDITPFLSLTLP.pdb\n"
     ]
    },
    {
     "name": "stderr",
     "output_type": "stream",
     "text": [
      "  % Total    % Received % Xferd  Average Speed   Time    Time     Time  Current\n",
      "                                 Dload  Upload   Total   Spent    Left  Speed\n",
      "100  9207  100  9195  100    12   3958      5  0:00:02  0:00:02 --:--:--  3965\n"
     ]
    },
    {
     "name": "stdout",
     "output_type": "stream",
     "text": [
      "PDB file generated successfully: /Users/jianchengluo/Desktop/CPPs/cpps_natrual/LPHPVLHMGPLR.pdb\n"
     ]
    },
    {
     "name": "stderr",
     "output_type": "stream",
     "text": [
      "  % Total    % Received % Xferd  Average Speed   Time    Time     Time  Current\n",
      "                                 Dload  Upload   Total   Spent    Left  Speed\n",
      "100  9936  100  9924  100    12   4228      5  0:00:02  0:00:02 --:--:--  4231\n"
     ]
    },
    {
     "name": "stdout",
     "output_type": "stream",
     "text": [
      "PDB file generated successfully: /Users/jianchengluo/Desktop/CPPs/cpps_natrual/VSKQPYYMWNGN.pdb\n"
     ]
    },
    {
     "name": "stderr",
     "output_type": "stream",
     "text": [
      "  % Total    % Received % Xferd  Average Speed   Time    Time     Time  Current\n",
      "                                 Dload  Upload   Total   Spent    Left  Speed\n",
      "100 10422  100 10410  100    12   4478      5  0:00:02  0:00:02 --:--:--  4484\n"
     ]
    },
    {
     "name": "stdout",
     "output_type": "stream",
     "text": [
      "PDB file generated successfully: /Users/jianchengluo/Desktop/CPPs/cpps_natrual/NYTTYKSHFQDR.pdb\n"
     ]
    },
    {
     "name": "stderr",
     "output_type": "stream",
     "text": [
      "  % Total    % Received % Xferd  Average Speed   Time    Time     Time  Current\n",
      "                                 Dload  Upload   Total   Spent    Left  Speed\n",
      "100  9207  100  9195  100    12   3956      5  0:00:02  0:00:02 --:--:--  3961\n"
     ]
    },
    {
     "name": "stdout",
     "output_type": "stream",
     "text": [
      "PDB file generated successfully: /Users/jianchengluo/Desktop/CPPs/cpps_natrual/AIPNNQLGFPFK.pdb\n"
     ]
    },
    {
     "name": "stderr",
     "output_type": "stream",
     "text": [
      "  % Total    % Received % Xferd  Average Speed   Time    Time     Time  Current\n",
      "                                 Dload  Upload   Total   Spent    Left  Speed\n",
      "100  8559  100  8547  100    12   3708      5  0:00:02  0:00:02 --:--:--  3713\n"
     ]
    },
    {
     "name": "stdout",
     "output_type": "stream",
     "text": [
      "PDB file generated successfully: /Users/jianchengluo/Desktop/CPPs/cpps_natrual/NIENSTLATPLS.pdb\n"
     ]
    },
    {
     "name": "stderr",
     "output_type": "stream",
     "text": [
      "  % Total    % Received % Xferd  Average Speed   Time    Time     Time  Current\n",
      "                                 Dload  Upload   Total   Spent    Left  Speed\n",
      "100  9612  100  9600  100    12   3995      4  0:00:03  0:00:02  0:00:01  4001\n"
     ]
    },
    {
     "name": "stdout",
     "output_type": "stream",
     "text": [
      "PDB file generated successfully: /Users/jianchengluo/Desktop/CPPs/cpps_natrual/YPYDANHTRSPT.pdb\n"
     ]
    },
    {
     "name": "stderr",
     "output_type": "stream",
     "text": [
      "  % Total    % Received % Xferd  Average Speed   Time    Time     Time  Current\n",
      "                                 Dload  Upload   Total   Spent    Left  Speed\n",
      "100  8964  100  8952  100    12   3816      5  0:00:02  0:00:02 --:--:--  3822\n"
     ]
    },
    {
     "name": "stdout",
     "output_type": "stream",
     "text": [
      "PDB file generated successfully: /Users/jianchengluo/Desktop/CPPs/cpps_natrual/DPATNPGPHFPR.pdb\n"
     ]
    },
    {
     "name": "stderr",
     "output_type": "stream",
     "text": [
      "  % Total    % Received % Xferd  Average Speed   Time    Time     Time  Current\n",
      "                                 Dload  Upload   Total   Spent    Left  Speed\n",
      "100  8640  100  8628  100    12   3702      5  0:00:02  0:00:02 --:--:--  3706\n"
     ]
    },
    {
     "name": "stdout",
     "output_type": "stream",
     "text": [
      "PDB file generated successfully: /Users/jianchengluo/Desktop/CPPs/cpps_natrual/TLPSPLALLTVH.pdb\n"
     ]
    },
    {
     "name": "stderr",
     "output_type": "stream",
     "text": [
      "  % Total    % Received % Xferd  Average Speed   Time    Time     Time  Current\n",
      "                                 Dload  Upload   Total   Spent    Left  Speed\n",
      "100  9288  100  9276  100    12   3982      5  0:00:02  0:00:02 --:--:--  3987\n"
     ]
    },
    {
     "name": "stdout",
     "output_type": "stream",
     "text": [
      "PDB file generated successfully: /Users/jianchengluo/Desktop/CPPs/cpps_natrual/HPGSPFPPEHRP.pdb\n"
     ]
    },
    {
     "name": "stderr",
     "output_type": "stream",
     "text": [
      "  % Total    % Received % Xferd  Average Speed   Time    Time     Time  Current\n",
      "                                 Dload  Upload   Total   Spent    Left  Speed\n",
      "100  8478  100  8466  100    12   3673      5  0:00:02  0:00:02 --:--:--  3679\n"
     ]
    },
    {
     "name": "stdout",
     "output_type": "stream",
     "text": [
      "PDB file generated successfully: /Users/jianchengluo/Desktop/CPPs/cpps_natrual/TSHTDAPPARSP.pdb\n"
     ]
    },
    {
     "name": "stderr",
     "output_type": "stream",
     "text": [
      "  % Total    % Received % Xferd  Average Speed   Time    Time     Time  Current\n",
      "                                 Dload  Upload   Total   Spent    Left  Speed\n",
      "100  8883  100  8871  100    12   3841      5  0:00:02  0:00:02 --:--:--  3847\n"
     ]
    },
    {
     "name": "stdout",
     "output_type": "stream",
     "text": [
      "PDB file generated successfully: /Users/jianchengluo/Desktop/CPPs/cpps_natrual/MTPSSLSTLPWP.pdb\n"
     ]
    },
    {
     "name": "stderr",
     "output_type": "stream",
     "text": [
      "  % Total    % Received % Xferd  Average Speed   Time    Time     Time  Current\n",
      "                                 Dload  Upload   Total   Spent    Left  Speed\n",
      "100  8964  100  8952  100    12   2405      3  0:00:04  0:00:03  0:00:01  2409\n"
     ]
    },
    {
     "name": "stdout",
     "output_type": "stream",
     "text": [
      "PDB file generated successfully: /Users/jianchengluo/Desktop/CPPs/cpps_natrual/VLGQSGYLMPMR.pdb\n"
     ]
    },
    {
     "name": "stderr",
     "output_type": "stream",
     "text": [
      "  % Total    % Received % Xferd  Average Speed   Time    Time     Time  Current\n",
      "                                 Dload  Upload   Total   Spent    Left  Speed\n",
      "100  9045  100  9033  100    12   2741      3  0:00:04  0:00:03  0:00:01  2745\n"
     ]
    },
    {
     "name": "stdout",
     "output_type": "stream",
     "text": [
      "PDB file generated successfully: /Users/jianchengluo/Desktop/CPPs/cpps_natrual/QPIIITSPYLPS.pdb\n"
     ]
    },
    {
     "name": "stderr",
     "output_type": "stream",
     "text": [
      "  % Total    % Received % Xferd  Average Speed   Time    Time     Time  Current\n",
      "                                 Dload  Upload   Total   Spent    Left  Speed\n",
      "100  9450  100  9438  100    12   3761      4  0:00:03  0:00:02  0:00:01  3766\n"
     ]
    },
    {
     "name": "stdout",
     "output_type": "stream",
     "text": [
      "PDB file generated successfully: /Users/jianchengluo/Desktop/CPPs/cpps_natrual/TPKTMTQTYDFS.pdb\n"
     ]
    },
    {
     "name": "stderr",
     "output_type": "stream",
     "text": [
      "  % Total    % Received % Xferd  Average Speed   Time    Time     Time  Current\n",
      "                                 Dload  Upload   Total   Spent    Left  Speed\n",
      "100  8154  100  8142  100    12   2056      3  0:00:04  0:00:03  0:00:01  2059\n"
     ]
    },
    {
     "name": "stdout",
     "output_type": "stream",
     "text": [
      "PDB file generated successfully: /Users/jianchengluo/Desktop/CPPs/cpps_natrual/NSGTMQSASRAT.pdb\n"
     ]
    },
    {
     "name": "stderr",
     "output_type": "stream",
     "text": [
      "  % Total    % Received % Xferd  Average Speed   Time    Time     Time  Current\n",
      "                                 Dload  Upload   Total   Spent    Left  Speed\n",
      "100  9693  100  9681  100    12   2981      3  0:00:04  0:00:03  0:00:01  2984\n"
     ]
    },
    {
     "name": "stdout",
     "output_type": "stream",
     "text": [
      "PDB file generated successfully: /Users/jianchengluo/Desktop/CPPs/cpps_natrual/QAASRVENYMHR.pdb\n"
     ]
    },
    {
     "name": "stderr",
     "output_type": "stream",
     "text": [
      "  % Total    % Received % Xferd  Average Speed   Time    Time     Time  Current\n",
      "                                 Dload  Upload   Total   Spent    Left  Speed\n",
      "100  9936  100  9924  100    12   4241      5  0:00:02  0:00:02 --:--:--  4247\n"
     ]
    },
    {
     "name": "stdout",
     "output_type": "stream",
     "text": [
      "PDB file generated successfully: /Users/jianchengluo/Desktop/CPPs/cpps_natrual/HQHKPPPLTNNW.pdb\n"
     ]
    },
    {
     "name": "stderr",
     "output_type": "stream",
     "text": [
      "  % Total    % Received % Xferd  Average Speed   Time    Time     Time  Current\n",
      "                                 Dload  Upload   Total   Spent    Left  Speed\n",
      "100  8883  100  8871  100    12   3880      5  0:00:02  0:00:02 --:--:--  3887\n"
     ]
    },
    {
     "name": "stdout",
     "output_type": "stream",
     "text": [
      "PDB file generated successfully: /Users/jianchengluo/Desktop/CPPs/cpps_natrual/SNPWDSLLSVST.pdb\n"
     ]
    },
    {
     "name": "stderr",
     "output_type": "stream",
     "text": [
      "  % Total    % Received % Xferd  Average Speed   Time    Time     Time  Current\n",
      "                                 Dload  Upload   Total   Spent    Left  Speed\n",
      "100  9369  100  9357  100    12   1142      1  0:00:12  0:00:08  0:00:04  2953\n"
     ]
    },
    {
     "name": "stdout",
     "output_type": "stream",
     "text": [
      "PDB file generated successfully: /Users/jianchengluo/Desktop/CPPs/cpps_natrual/KTIEAHPPYYAS.pdb\n"
     ]
    },
    {
     "name": "stderr",
     "output_type": "stream",
     "text": [
      "  % Total    % Received % Xferd  Average Speed   Time    Time     Time  Current\n",
      "                                 Dload  Upload   Total   Spent    Left  Speed\n",
      "100 10260  100 10248  100    12   4237      4  0:00:03  0:00:02  0:00:01  4243\n"
     ]
    },
    {
     "name": "stdout",
     "output_type": "stream",
     "text": [
      "PDB file generated successfully: /Users/jianchengluo/Desktop/CPPs/cpps_natrual/EPDNWSLDFPRR.pdb\n"
     ]
    },
    {
     "name": "stderr",
     "output_type": "stream",
     "text": [
      "  % Total    % Received % Xferd  Average Speed   Time    Time     Time  Current\n",
      "                                 Dload  Upload   Total   Spent    Left  Speed\n",
      "100  9936  100  9924  100    12   9532     11  0:00:01  0:00:01 --:--:--  9553\n"
     ]
    },
    {
     "name": "stdout",
     "output_type": "stream",
     "text": [
      "PDB file generated successfully: /Users/jianchengluo/Desktop/CPPs/cpps_natrual/HQHKPPPLTNNW.pdb\n"
     ]
    },
    {
     "name": "stderr",
     "output_type": "stream",
     "text": [
      "  % Total    % Received % Xferd  Average Speed   Time    Time     Time  Current\n",
      "                                 Dload  Upload   Total   Spent    Left  Speed\n",
      "100 16505  100 16485  100    20   7134      8  0:00:02  0:00:02 --:--:--  7145\n"
     ]
    },
    {
     "name": "stdout",
     "output_type": "stream",
     "text": [
      "PDB file generated successfully: /Users/jianchengluo/Desktop/CPPs/cpps_natrual/GLWRALWRLLRSLWRLLWKA.pdb\n"
     ]
    },
    {
     "name": "stderr",
     "output_type": "stream",
     "text": [
      "  % Total    % Received % Xferd  Average Speed   Time    Time     Time  Current\n",
      "                                 Dload  Upload   Total   Spent    Left  Speed\n",
      "100 17235  100 17214  100    21   4659      5  0:00:04  0:00:03  0:00:01  4664\n"
     ]
    },
    {
     "name": "stdout",
     "output_type": "stream",
     "text": [
      "PDB file generated successfully: /Users/jianchengluo/Desktop/CPPs/cpps_natrual/GLWRALWRALWRSLWKLKRKV.pdb\n"
     ]
    },
    {
     "name": "stderr",
     "output_type": "stream",
     "text": [
      "  % Total    % Received % Xferd  Average Speed   Time    Time     Time  Current\n",
      "                                 Dload  Upload   Total   Spent    Left  Speed\n",
      "100 16100  100 16080  100    20   5439      6  0:00:03  0:00:02  0:00:01  5446\n"
     ]
    },
    {
     "name": "stdout",
     "output_type": "stream",
     "text": [
      "PDB file generated successfully: /Users/jianchengluo/Desktop/CPPs/cpps_natrual/GLWRALWRALRSLWKLKRKV.pdb\n"
     ]
    },
    {
     "name": "stderr",
     "output_type": "stream",
     "text": [
      "  % Total    % Received % Xferd  Average Speed   Time    Time     Time  Current\n",
      "                                 Dload  Upload   Total   Spent    Left  Speed\n",
      "100 16019  100 15999  100    20   5445      6  0:00:03  0:00:02  0:00:01  5452\n"
     ]
    },
    {
     "name": "stdout",
     "output_type": "stream",
     "text": [
      "PDB file generated successfully: /Users/jianchengluo/Desktop/CPPs/cpps_natrual/GLWRALWRGLRSLWKLKRKV.pdb\n"
     ]
    },
    {
     "name": "stderr",
     "output_type": "stream",
     "text": [
      "  % Total    % Received % Xferd  Average Speed   Time    Time     Time  Current\n",
      "                                 Dload  Upload   Total   Spent    Left  Speed\n",
      "100 16100  100 16080  100    20   3264      4  0:00:05  0:00:04  0:00:01  3648\n"
     ]
    },
    {
     "name": "stdout",
     "output_type": "stream",
     "text": [
      "PDB file generated successfully: /Users/jianchengluo/Desktop/CPPs/cpps_natrual/GLWRALWRGLRSLWKKKRKV.pdb\n"
     ]
    },
    {
     "name": "stderr",
     "output_type": "stream",
     "text": [
      "  % Total    % Received % Xferd  Average Speed   Time    Time     Time  Current\n",
      "                                 Dload  Upload   Total   Spent    Left  Speed\n",
      "100 17478  100 17457  100    21   6150      7  0:00:03  0:00:02  0:00:01  6156\n"
     ]
    },
    {
     "name": "stdout",
     "output_type": "stream",
     "text": [
      "PDB file generated successfully: /Users/jianchengluo/Desktop/CPPs/cpps_natrual/GLWRALWRALWRSLWKLKWKV.pdb\n"
     ]
    },
    {
     "name": "stderr",
     "output_type": "stream",
     "text": [
      "  % Total    % Received % Xferd  Average Speed   Time    Time     Time  Current\n",
      "                                 Dload  Upload   Total   Spent    Left  Speed\n",
      "100 17073  100 17052  100    21   6201      7  0:00:03  0:00:02  0:00:01  6208\n"
     ]
    },
    {
     "name": "stdout",
     "output_type": "stream",
     "text": [
      "PDB file generated successfully: /Users/jianchengluo/Desktop/CPPs/cpps_natrual/GLWRALWRALWRSLWKSKRKV.pdb\n"
     ]
    },
    {
     "name": "stderr",
     "output_type": "stream",
     "text": [
      "  % Total    % Received % Xferd  Average Speed   Time    Time     Time  Current\n",
      "                                 Dload  Upload   Total   Spent    Left  Speed\n",
      "100 17316  100 17295  100    21   2300      2  0:00:10  0:00:07  0:00:03  4072\n"
     ]
    },
    {
     "name": "stdout",
     "output_type": "stream",
     "text": [
      "PDB file generated successfully: /Users/jianchengluo/Desktop/CPPs/cpps_natrual/GLWRALWRALWRSLWKKKRKV.pdb\n"
     ]
    },
    {
     "name": "stderr",
     "output_type": "stream",
     "text": [
      "  % Total    % Received % Xferd  Average Speed   Time    Time     Time  Current\n",
      "                                 Dload  Upload   Total   Spent    Left  Speed\n",
      "100 17235  100 17214  100    21  13323     16  0:00:01  0:00:01 --:--:-- 13339\n"
     ]
    },
    {
     "name": "stdout",
     "output_type": "stream",
     "text": [
      "PDB file generated successfully: /Users/jianchengluo/Desktop/CPPs/cpps_natrual/GLWRALWRALWRSLWKLKRKV.pdb\n"
     ]
    },
    {
     "name": "stderr",
     "output_type": "stream",
     "text": [
      "  % Total    % Received % Xferd  Average Speed   Time    Time     Time  Current\n",
      "                                 Dload  Upload   Total   Spent    Left  Speed\n",
      "100 21534  100 21507  100    27   4996      6  0:00:04  0:00:04 --:--:--  5004\n"
     ]
    },
    {
     "name": "stdout",
     "output_type": "stream",
     "text": [
      "PDB file generated successfully: /Users/jianchengluo/Desktop/CPPs/cpps_natrual/GLWRALWRLLRSLWRLLWSQPKKKRKV.pdb\n"
     ]
    },
    {
     "name": "stderr",
     "output_type": "stream",
     "text": [
      "  % Total    % Received % Xferd  Average Speed   Time    Time     Time  Current\n",
      "                                 Dload  Upload   Total   Spent    Left  Speed\n",
      "100  8963  100  8952  100    11   3127      3  0:00:03  0:00:02  0:00:01  3130\n"
     ]
    },
    {
     "name": "stdout",
     "output_type": "stream",
     "text": [
      "PDB file generated successfully: /Users/jianchengluo/Desktop/CPPs/cpps_natrual/YARAARRAARR.pdb\n"
     ]
    },
    {
     "name": "stderr",
     "output_type": "stream",
     "text": [
      "  % Total    % Received % Xferd  Average Speed   Time    Time     Time  Current\n",
      "                                 Dload  Upload   Total   Spent    Left  Speed\n",
      "100  8558  100  8547  100    11   3643      4  0:00:02  0:00:02 --:--:--  3649\n"
     ]
    },
    {
     "name": "stdout",
     "output_type": "stream",
     "text": [
      "PDB file generated successfully: /Users/jianchengluo/Desktop/CPPs/cpps_natrual/PARAARRAARR.pdb\n"
     ]
    },
    {
     "name": "stderr",
     "output_type": "stream",
     "text": [
      "  % Total    % Received % Xferd  Average Speed   Time    Time     Time  Current\n",
      "                                 Dload  Upload   Total   Spent    Left  Speed\n",
      "100  9125  100  9114  100    11   3948      4  0:00:02  0:00:02 --:--:--  3951\n"
     ]
    },
    {
     "name": "stdout",
     "output_type": "stream",
     "text": [
      "PDB file generated successfully: /Users/jianchengluo/Desktop/CPPs/cpps_natrual/YPRAARRAARR.pdb\n"
     ]
    },
    {
     "name": "stderr",
     "output_type": "stream",
     "text": [
      "  % Total    % Received % Xferd  Average Speed   Time    Time     Time  Current\n",
      "                                 Dload  Upload   Total   Spent    Left  Speed\n",
      "100  8963  100  8952  100    11   1774      2  0:00:05  0:00:05 --:--:--  2393\n"
     ]
    },
    {
     "name": "stdout",
     "output_type": "stream",
     "text": [
      "PDB file generated successfully: /Users/jianchengluo/Desktop/CPPs/cpps_natrual/YRRAARRAARA.pdb\n"
     ]
    },
    {
     "name": "stderr",
     "output_type": "stream",
     "text": [
      "  % Total    % Received % Xferd  Average Speed   Time    Time     Time  Current\n",
      "                                 Dload  Upload   Total   Spent    Left  Speed\n",
      "100  8882  100  8871  100    11   3823      4  0:00:02  0:00:02 --:--:--  3830\n"
     ]
    },
    {
     "name": "stdout",
     "output_type": "stream",
     "text": [
      "PDB file generated successfully: /Users/jianchengluo/Desktop/CPPs/cpps_natrual/YGRAARRAARR.pdb\n"
     ]
    },
    {
     "name": "stderr",
     "output_type": "stream",
     "text": [
      "  % Total    % Received % Xferd  Average Speed   Time    Time     Time  Current\n",
      "                                 Dload  Upload   Total   Spent    Left  Speed\n",
      "100  9287  100  9276  100    11   2727      3  0:00:03  0:00:03 --:--:--  2731\n"
     ]
    },
    {
     "name": "stdout",
     "output_type": "stream",
     "text": [
      "PDB file generated successfully: /Users/jianchengluo/Desktop/CPPs/cpps_natrual/YAREARRAARR.pdb\n"
     ]
    },
    {
     "name": "stderr",
     "output_type": "stream",
     "text": [
      "  % Total    % Received % Xferd  Average Speed   Time    Time     Time  Current\n",
      "                                 Dload  Upload   Total   Spent    Left  Speed\n",
      "100  9611  100  9600  100    11   2286      2  0:00:05  0:00:04  0:00:01  2443\n"
     ]
    },
    {
     "name": "stdout",
     "output_type": "stream",
     "text": [
      "PDB file generated successfully: /Users/jianchengluo/Desktop/CPPs/cpps_natrual/YEREARRAARR.pdb\n"
     ]
    },
    {
     "name": "stderr",
     "output_type": "stream",
     "text": [
      "  % Total    % Received % Xferd  Average Speed   Time    Time     Time  Current\n",
      "                                 Dload  Upload   Total   Spent    Left  Speed\n",
      "100  9287  100  9276  100    11   3830      4  0:00:02  0:00:02 --:--:--  3836\n"
     ]
    },
    {
     "name": "stdout",
     "output_type": "stream",
     "text": [
      "PDB file generated successfully: /Users/jianchengluo/Desktop/CPPs/cpps_natrual/YKRAARRAARR.pdb\n"
     ]
    },
    {
     "name": "stderr",
     "output_type": "stream",
     "text": [
      "  % Total    % Received % Xferd  Average Speed   Time    Time     Time  Current\n",
      "                                 Dload  Upload   Total   Spent    Left  Speed\n",
      "100  9287  100  9276  100    11   3997      4  0:00:02  0:00:02 --:--:--  4003\n"
     ]
    },
    {
     "name": "stdout",
     "output_type": "stream",
     "text": [
      "PDB file generated successfully: /Users/jianchengluo/Desktop/CPPs/cpps_natrual/YARKARRAARR.pdb\n"
     ]
    },
    {
     "name": "stderr",
     "output_type": "stream",
     "text": [
      "  % Total    % Received % Xferd  Average Speed   Time    Time     Time  Current\n",
      "                                 Dload  Upload   Total   Spent    Left  Speed\n",
      "100  9611  100  9600  100    11   4051      4  0:00:02  0:00:02 --:--:--  4055\n"
     ]
    },
    {
     "name": "stdout",
     "output_type": "stream",
     "text": [
      "PDB file generated successfully: /Users/jianchengluo/Desktop/CPPs/cpps_natrual/YKRKARRAARR.pdb\n"
     ]
    },
    {
     "name": "stderr",
     "output_type": "stream",
     "text": [
      "  % Total    % Received % Xferd  Average Speed   Time    Time     Time  Current\n",
      "                                 Dload  Upload   Total   Spent    Left  Speed\n",
      "100  9368  100  9357  100    11   3797      4  0:00:02  0:00:02 --:--:--  3801\n"
     ]
    },
    {
     "name": "stdout",
     "output_type": "stream",
     "text": [
      "PDB file generated successfully: /Users/jianchengluo/Desktop/CPPs/cpps_natrual/YGRRARRAARR.pdb\n"
     ]
    },
    {
     "name": "stderr",
     "output_type": "stream",
     "text": [
      "  % Total    % Received % Xferd  Average Speed   Time    Time     Time  Current\n",
      "                                 Dload  Upload   Total   Spent    Left  Speed\n",
      "100  9854  100  9843  100    11   4300      4  0:00:02  0:00:02 --:--:--  4304\n"
     ]
    },
    {
     "name": "stdout",
     "output_type": "stream",
     "text": [
      "PDB file generated successfully: /Users/jianchengluo/Desktop/CPPs/cpps_natrual/YGRRARRRARR.pdb\n"
     ]
    },
    {
     "name": "stderr",
     "output_type": "stream",
     "text": [
      "  % Total    % Received % Xferd  Average Speed   Time    Time     Time  Current\n",
      "                                 Dload  Upload   Total   Spent    Left  Speed\n",
      "100 10340  100 10329  100    11   4241      4  0:00:02  0:00:02 --:--:--  4246\n"
     ]
    },
    {
     "name": "stdout",
     "output_type": "stream",
     "text": [
      "PDB file generated successfully: /Users/jianchengluo/Desktop/CPPs/cpps_natrual/YGRRARRRRRR.pdb\n"
     ]
    },
    {
     "name": "stderr",
     "output_type": "stream",
     "text": [
      "  % Total    % Received % Xferd  Average Speed   Time    Time     Time  Current\n",
      "                                 Dload  Upload   Total   Spent    Left  Speed\n",
      "100 10826  100 10815  100    11   4449      4  0:00:02  0:00:02 --:--:--  4453\n"
     ]
    },
    {
     "name": "stdout",
     "output_type": "stream",
     "text": [
      "PDB file generated successfully: /Users/jianchengluo/Desktop/CPPs/cpps_natrual/YGRRRRRRRRR.pdb\n"
     ]
    },
    {
     "name": "stderr",
     "output_type": "stream",
     "text": [
      "  % Total    % Received % Xferd  Average Speed   Time    Time     Time  Current\n",
      "                                 Dload  Upload   Total   Spent    Left  Speed\n",
      "100 11393  100 11382  100    11   4522      4  0:00:02  0:00:02 --:--:--  4528\n"
     ]
    },
    {
     "name": "stdout",
     "output_type": "stream",
     "text": [
      "PDB file generated successfully: /Users/jianchengluo/Desktop/CPPs/cpps_natrual/YRRRRRRRRRR.pdb\n"
     ]
    },
    {
     "name": "stderr",
     "output_type": "stream",
     "text": [
      "  % Total    % Received % Xferd  Average Speed   Time    Time     Time  Current\n",
      "                                 Dload  Upload   Total   Spent    Left  Speed\n",
      "100 10912  100 10896  100    16   4307      6  0:00:02  0:00:02 --:--:--  4313\n"
     ]
    },
    {
     "name": "stdout",
     "output_type": "stream",
     "text": [
      "PDB file generated successfully: /Users/jianchengluo/Desktop/CPPs/cpps_natrual/GKINLKALAALAKKIL.pdb\n"
     ]
    },
    {
     "name": "stderr",
     "output_type": "stream",
     "text": [
      "  % Total    % Received % Xferd  Average Speed   Time    Time     Time  Current\n",
      "                                 Dload  Upload   Total   Spent    Left  Speed\n",
      "100 13423  100 13407  100    16  10548     12  0:00:01  0:00:01 --:--:-- 10569\n"
     ]
    },
    {
     "name": "stdout",
     "output_type": "stream",
     "text": [
      "PDB file generated successfully: /Users/jianchengluo/Desktop/CPPs/cpps_natrual/RVIRVWFQNKRCKDKK.pdb\n"
     ]
    },
    {
     "name": "stderr",
     "output_type": "stream",
     "text": [
      "  % Total    % Received % Xferd  Average Speed   Time    Time     Time  Current\n",
      "                                 Dload  Upload   Total   Spent    Left  Speed\n",
      "100 30699  100 30660  100    39   7908     10  0:00:03  0:00:03 --:--:--  7918\n"
     ]
    },
    {
     "name": "stdout",
     "output_type": "stream",
     "text": [
      "PDB file generated successfully: /Users/jianchengluo/Desktop/CPPs/cpps_natrual/GRKKRRQRRRPPQGRKKRRQRRRPPQGRKKRRQRRRPPQ.pdb\n"
     ]
    },
    {
     "name": "stderr",
     "output_type": "stream",
     "text": [
      "  % Total    % Received % Xferd  Average Speed   Time    Time     Time  Current\n",
      "                                 Dload  Upload   Total   Spent    Left  Speed\n",
      "100 15454  100 15432  100    22   5730      8  0:00:02  0:00:02 --:--:--  5738\n"
     ]
    },
    {
     "name": "stdout",
     "output_type": "stream",
     "text": [
      "PDB file generated successfully: /Users/jianchengluo/Desktop/CPPs/cpps_natrual/GEQIAQLIAGYIDIILKKKKSK.pdb\n"
     ]
    },
    {
     "name": "stderr",
     "output_type": "stream",
     "text": [
      "  % Total    % Received % Xferd  Average Speed   Time    Time     Time  Current\n",
      "                                 Dload  Upload   Total   Spent    Left  Speed\n",
      "100 11720  100 11706  100    14   9365     11  0:00:01  0:00:01 --:--:--  9383\n"
     ]
    },
    {
     "name": "stdout",
     "output_type": "stream",
     "text": [
      "PDB file generated successfully: /Users/jianchengluo/Desktop/CPPs/cpps_natrual/GRKKRRQRRRPPQC.pdb\n"
     ]
    },
    {
     "name": "stderr",
     "output_type": "stream",
     "text": [
      "  % Total    % Received % Xferd  Average Speed   Time    Time     Time  Current\n",
      "                                 Dload  Upload   Total   Spent    Left  Speed\n",
      "100 19510  100 19482  100    28   6586      9  0:00:03  0:00:02  0:00:01  6595\n"
     ]
    },
    {
     "name": "stdout",
     "output_type": "stream",
     "text": [
      "PDB file generated successfully: /Users/jianchengluo/Desktop/CPPs/cpps_natrual/AAVALLPAVLLALLAPRKKRRQRRRPPQ.pdb\n"
     ]
    },
    {
     "name": "stderr",
     "output_type": "stream",
     "text": [
      "  % Total    % Received % Xferd  Average Speed   Time    Time     Time  Current\n",
      "                                 Dload  Upload   Total   Spent    Left  Speed\n",
      "100 19997  100 19968  100    29   6954     10  0:00:02  0:00:02 --:--:--  6965\n"
     ]
    },
    {
     "name": "stdout",
     "output_type": "stream",
     "text": [
      "PDB file generated successfully: /Users/jianchengluo/Desktop/CPPs/cpps_natrual/AAVALLPAVLLALLAPRKKRRQRRRPPQC.pdb\n"
     ]
    },
    {
     "name": "stderr",
     "output_type": "stream",
     "text": [
      "  % Total    % Received % Xferd  Average Speed   Time    Time     Time  Current\n",
      "                                 Dload  Upload   Total   Spent    Left  Speed\n",
      "100 19510  100 19482  100    28  12944     18  0:00:01  0:00:01 --:--:-- 12972\n"
     ]
    },
    {
     "name": "stdout",
     "output_type": "stream",
     "text": [
      "PDB file generated successfully: /Users/jianchengluo/Desktop/CPPs/cpps_natrual/AAVALLPAVLLALLAPRKKRRQRRRPPQ.pdb\n"
     ]
    },
    {
     "name": "stderr",
     "output_type": "stream",
     "text": [
      "  % Total    % Received % Xferd  Average Speed   Time    Time     Time  Current\n",
      "                                 Dload  Upload   Total   Spent    Left  Speed\n",
      "100 19997  100 19968  100    29   6540      9  0:00:03  0:00:03 --:--:--  6552\n"
     ]
    },
    {
     "name": "stdout",
     "output_type": "stream",
     "text": [
      "PDB file generated successfully: /Users/jianchengluo/Desktop/CPPs/cpps_natrual/RKKRRQRRRPPQCAAVALLPAVLLALLAP.pdb\n"
     ]
    },
    {
     "name": "stderr",
     "output_type": "stream",
     "text": [
      "  % Total    % Received % Xferd  Average Speed   Time    Time     Time  Current\n",
      "                                 Dload  Upload   Total   Spent    Left  Speed\n",
      "100 20321  100 20292  100    29   7037     10  0:00:02  0:00:02 --:--:--  7046\n"
     ]
    },
    {
     "name": "stdout",
     "output_type": "stream",
     "text": [
      "PDB file generated successfully: /Users/jianchengluo/Desktop/CPPs/cpps_natrual/RRRQRRKRGGDIMGEWGNEIFGAIAGFLG.pdb\n"
     ]
    },
    {
     "name": "stderr",
     "output_type": "stream",
     "text": [
      "  % Total    % Received % Xferd  Average Speed   Time    Time     Time  Current\n",
      "                                 Dload  Upload   Total   Spent    Left  Speed\n",
      "100 20321  100 20292  100    29  11645     16  0:00:01  0:00:01 --:--:-- 11658\n"
     ]
    },
    {
     "name": "stdout",
     "output_type": "stream",
     "text": [
      "PDB file generated successfully: /Users/jianchengluo/Desktop/CPPs/cpps_natrual/RRRQRRKRGGDIMGEWGNEIFGAIAGFLG.pdb\n"
     ]
    },
    {
     "name": "stderr",
     "output_type": "stream",
     "text": [
      "  % Total    % Received % Xferd  Average Speed   Time    Time     Time  Current\n",
      "                                 Dload  Upload   Total   Spent    Left  Speed\n",
      "100 20317  100 20292  100    25   6812      8  0:00:03  0:00:02  0:00:01  6820\n"
     ]
    },
    {
     "name": "stdout",
     "output_type": "stream",
     "text": [
      "PDB file generated successfully: /Users/jianchengluo/Desktop/CPPs/cpps_natrual/YGRKKRRQRRRGCYGRKKRRQRRRG.pdb\n"
     ]
    },
    {
     "name": "stderr",
     "output_type": "stream",
     "text": [
      "  % Total    % Received % Xferd  Average Speed   Time    Time     Time  Current\n",
      "                                 Dload  Upload   Total   Spent    Left  Speed\n",
      "100 11233  100 11220  100    13   7628      8  0:00:01  0:00:01 --:--:--  7636\n"
     ]
    },
    {
     "name": "stdout",
     "output_type": "stream",
     "text": [
      "PDB file generated successfully: /Users/jianchengluo/Desktop/CPPs/cpps_natrual/GRKKRRQRRRPPQ.pdb\n"
     ]
    },
    {
     "name": "stderr",
     "output_type": "stream",
     "text": [
      "  % Total    % Received % Xferd  Average Speed   Time    Time     Time  Current\n",
      "                                 Dload  Upload   Total   Spent    Left  Speed\n",
      "100 15454  100 15432  100    22   3591      5  0:00:04  0:00:04 --:--:--  3596\n"
     ]
    },
    {
     "name": "stdout",
     "output_type": "stream",
     "text": [
      "PDB file generated successfully: /Users/jianchengluo/Desktop/CPPs/cpps_natrual/AAVALLPAVLLALLAPRRRRRR.pdb\n"
     ]
    },
    {
     "name": "stderr",
     "output_type": "stream",
     "text": [
      "  % Total    % Received % Xferd  Average Speed   Time    Time     Time  Current\n",
      "                                 Dload  Upload   Total   Spent    Left  Speed\n",
      "100 13342  100 13326  100    16   5632      6  0:00:02  0:00:02 --:--:--  5641\n"
     ]
    },
    {
     "name": "stdout",
     "output_type": "stream",
     "text": [
      "PDB file generated successfully: /Users/jianchengluo/Desktop/CPPs/cpps_natrual/RLWRALPRVLRRLLRP.pdb\n"
     ]
    },
    {
     "name": "stderr",
     "output_type": "stream",
     "text": [
      "  % Total    % Received % Xferd  Average Speed   Time    Time     Time  Current\n",
      "                                 Dload  Upload   Total   Spent    Left  Speed\n",
      "100 17242  100 17214  100    28   5794      9  0:00:03  0:00:02  0:00:01  5803\n"
     ]
    },
    {
     "name": "stdout",
     "output_type": "stream",
     "text": [
      "PDB file generated successfully: /Users/jianchengluo/Desktop/CPPs/cpps_natrual/AAVALLPAVLLALLAPSGASGLDKRDYV.pdb\n"
     ]
    },
    {
     "name": "stderr",
     "output_type": "stream",
     "text": [
      "  % Total    % Received % Xferd  Average Speed   Time    Time     Time  Current\n",
      "                                 Dload  Upload   Total   Spent    Left  Speed\n",
      "100 25509  100 25476  100    33   8447     10  0:00:03  0:00:03 --:--:--  8460\n"
     ]
    },
    {
     "name": "stdout",
     "output_type": "stream",
     "text": [
      "PDB file generated successfully: /Users/jianchengluo/Desktop/CPPs/cpps_natrual/LLETLLKPFQCRICMRNFSTRQARRNHRRRHRR.pdb\n"
     ]
    },
    {
     "name": "stderr",
     "output_type": "stream",
     "text": [
      "  % Total    % Received % Xferd  Average Speed   Time    Time     Time  Current\n",
      "                                 Dload  Upload   Total   Spent    Left  Speed\n",
      "100 20481  100 20454  100    27   7634     10  0:00:02  0:00:02 --:--:--  7645\n"
     ]
    },
    {
     "name": "stdout",
     "output_type": "stream",
     "text": [
      "PDB file generated successfully: /Users/jianchengluo/Desktop/CPPs/cpps_natrual/AAVACRICMRNFSTRQARRNHRRRHRR.pdb\n"
     ]
    },
    {
     "name": "stderr",
     "output_type": "stream",
     "text": [
      "  % Total    % Received % Xferd  Average Speed   Time    Time     Time  Current\n",
      "                                 Dload  Upload   Total   Spent    Left  Speed\n",
      "100 14314  100 14298  100    16  10882     12  0:00:01  0:00:01 --:--:-- 10901\n"
     ]
    },
    {
     "name": "stdout",
     "output_type": "stream",
     "text": [
      "PDB file generated successfully: /Users/jianchengluo/Desktop/CPPs/cpps_natrual/RQIKIWFQNRRMKWKK.pdb\n"
     ]
    },
    {
     "name": "stderr",
     "output_type": "stream",
     "text": [
      "  % Total    % Received % Xferd  Average Speed   Time    Time     Time  Current\n",
      "                                 Dload  Upload   Total   Spent    Left  Speed\n",
      "100 14314  100 14298  100    16  10742     12  0:00:01  0:00:01 --:--:-- 10754\n"
     ]
    },
    {
     "name": "stdout",
     "output_type": "stream",
     "text": [
      "PDB file generated successfully: /Users/jianchengluo/Desktop/CPPs/cpps_natrual/RQIKIWFQNRRMKWKK.pdb\n"
     ]
    },
    {
     "name": "stderr",
     "output_type": "stream",
     "text": [
      "  % Total    % Received % Xferd  Average Speed   Time    Time     Time  Current\n",
      "                                 Dload  Upload   Total   Spent    Left  Speed\n",
      "100 25673  100 25638  100    35   8858     12  0:00:02  0:00:02 --:--:--  8868\n"
     ]
    },
    {
     "name": "stdout",
     "output_type": "stream",
     "text": [
      "PDB file generated successfully: /Users/jianchengluo/Desktop/CPPs/cpps_natrual/RQIKIWFQNRRMKWKKDIMGEWGNEIFGAIAGFLG.pdb\n"
     ]
    },
    {
     "name": "stderr",
     "output_type": "stream",
     "text": [
      "  % Total    % Received % Xferd  Average Speed   Time    Time     Time  Current\n",
      "                                 Dload  Upload   Total   Spent    Left  Speed\n",
      "100 24136  100 24099  100    37   7234     11  0:00:03  0:00:03 --:--:--  7245\n"
     ]
    },
    {
     "name": "stdout",
     "output_type": "stream",
     "text": [
      "PDB file generated successfully: /Users/jianchengluo/Desktop/CPPs/cpps_natrual/SGRGKQGGKARAKAKTRSSRAGLQFPVGRVHRLLRKG.pdb\n"
     ]
    },
    {
     "name": "stderr",
     "output_type": "stream",
     "text": [
      "  % Total    % Received % Xferd  Average Speed   Time    Time     Time  Current\n",
      "                                 Dload  Upload   Total   Spent    Left  Speed\n",
      "100 24623  100 24585  100    38   8719     13  0:00:02  0:00:02 --:--:--  8731\n"
     ]
    },
    {
     "name": "stdout",
     "output_type": "stream",
     "text": [
      "PDB file generated successfully: /Users/jianchengluo/Desktop/CPPs/cpps_natrual/SGRGKQGGKARAKAKTRSSRAGLQFPVGRVHRLLRKGC.pdb\n"
     ]
    },
    {
     "name": "stderr",
     "output_type": "stream",
     "text": [
      "  % Total    % Received % Xferd  Average Speed   Time    Time     Time  Current\n",
      "                                 Dload  Upload   Total   Spent    Left  Speed\n",
      "100 19183  100 19158  100    25   6885      8  0:00:03  0:00:02  0:00:01  6892\n"
     ]
    },
    {
     "name": "stdout",
     "output_type": "stream",
     "text": [
      "PDB file generated successfully: /Users/jianchengluo/Desktop/CPPs/cpps_natrual/KKDGKKRKRSRKESYSVYVYKVLKQ.pdb\n"
     ]
    },
    {
     "name": "stderr",
     "output_type": "stream",
     "text": [
      "  % Total    % Received % Xferd  Average Speed   Time    Time     Time  Current\n",
      "                                 Dload  Upload   Total   Spent    Left  Speed\n",
      "100 25593  100 25557  100    36   7951     11  0:00:03  0:00:03 --:--:--  7965\n"
     ]
    },
    {
     "name": "stdout",
     "output_type": "stream",
     "text": [
      "PDB file generated successfully: /Users/jianchengluo/Desktop/CPPs/cpps_natrual/KGSKKAVTKAQKKDGKKRKRSRKESYSVYVYKVLKQ.pdb\n"
     ]
    },
    {
     "name": "stderr",
     "output_type": "stream",
     "text": [
      "  % Total    % Received % Xferd  Average Speed   Time    Time     Time  Current\n",
      "                                 Dload  Upload   Total   Spent    Left  Speed\n",
      "100 17727  100 17700  100    27  12380     18  0:00:01  0:00:01 --:--:-- 12405\n"
     ]
    },
    {
     "name": "stdout",
     "output_type": "stream",
     "text": [
      "PDB file generated successfully: /Users/jianchengluo/Desktop/CPPs/cpps_natrual/GWTLNSAGYLLGKINLKALAALAKKIL.pdb\n"
     ]
    },
    {
     "name": "stderr",
     "output_type": "stream",
     "text": [
      "  % Total    % Received % Xferd  Average Speed   Time    Time     Time  Current\n",
      "                                 Dload  Upload   Total   Spent    Left  Speed\n",
      "100 12129  100 12111  100    18  11238     16  0:00:01  0:00:01 --:--:-- 11251\n"
     ]
    },
    {
     "name": "stdout",
     "output_type": "stream",
     "text": [
      "PDB file generated successfully: /Users/jianchengluo/Desktop/CPPs/cpps_natrual/KLALKLALKALKAALKLA.pdb\n"
     ]
    },
    {
     "name": "stderr",
     "output_type": "stream",
     "text": [
      "  % Total    % Received % Xferd  Average Speed   Time    Time     Time  Current\n",
      "                                 Dload  Upload   Total   Spent    Left  Speed\n",
      "100 17964  100 17943  100    21  13644     15  0:00:01  0:00:01 --:--:-- 13671\n"
     ]
    },
    {
     "name": "stdout",
     "output_type": "stream",
     "text": [
      "PDB file generated successfully: /Users/jianchengluo/Desktop/CPPs/cpps_natrual/KETWWETWWTEWSQPKKKRKV.pdb\n"
     ]
    },
    {
     "name": "stderr",
     "output_type": "stream",
     "text": [
      "  % Total    % Received % Xferd  Average Speed   Time    Time     Time  Current\n",
      "                                 Dload  Upload   Total   Spent    Left  Speed\n",
      "100 23317  100 23289  100    28   8235      9  0:00:03  0:00:02  0:00:01  8245\n"
     ]
    },
    {
     "name": "stdout",
     "output_type": "stream",
     "text": [
      "PDB file generated successfully: /Users/jianchengluo/Desktop/CPPs/cpps_natrual/KETWWETWWTEWSQPGRKKRRQRRRPPQ.pdb\n"
     ]
    },
    {
     "name": "stderr",
     "output_type": "stream",
     "text": [
      "  % Total    % Received % Xferd  Average Speed   Time    Time     Time  Current\n",
      "                                 Dload  Upload   Total   Spent    Left  Speed\n",
      "100 12855  100 12840  100    15   5289      6  0:00:02  0:00:02 --:--:--  5296\n"
     ]
    },
    {
     "name": "stdout",
     "output_type": "stream",
     "text": [
      "PDB file generated successfully: /Users/jianchengluo/Desktop/CPPs/cpps_natrual/RVIRWFQNKRCKDKK.pdb\n"
     ]
    },
    {
     "name": "stderr",
     "output_type": "stream",
     "text": [
      "  % Total    % Received % Xferd  Average Speed   Time    Time     Time  Current\n",
      "                                 Dload  Upload   Total   Spent    Left  Speed\n",
      "100 13425  100 13407  100    18   3779      5  0:00:03  0:00:03 --:--:--  3783\n"
     ]
    },
    {
     "name": "stdout",
     "output_type": "stream",
     "text": [
      "PDB file generated successfully: /Users/jianchengluo/Desktop/CPPs/cpps_natrual/LGLLLRHLRHHSNLLANI.pdb\n"
     ]
    },
    {
     "name": "stderr",
     "output_type": "stream",
     "text": [
      "  % Total    % Received % Xferd  Average Speed   Time    Time     Time  Current\n",
      "                                 Dload  Upload   Total   Spent    Left  Speed\n",
      "100 12937  100 12921  100    16   5517      6  0:00:02  0:00:02 --:--:--  5526\n"
     ]
    },
    {
     "name": "stdout",
     "output_type": "stream",
     "text": [
      "PDB file generated successfully: /Users/jianchengluo/Desktop/CPPs/cpps_natrual/KLWSAWPSLWSSLWKP.pdb\n"
     ]
    },
    {
     "name": "stderr",
     "output_type": "stream",
     "text": [
      "  % Total    % Received % Xferd  Average Speed   Time    Time     Time  Current\n",
      "                                 Dload  Upload   Total   Spent    Left  Speed\n",
      "100 15049  100 15027  100    22   5622      8  0:00:02  0:00:02 --:--:--  5630\n"
     ]
    },
    {
     "name": "stdout",
     "output_type": "stream",
     "text": [
      "PDB file generated successfully: /Users/jianchengluo/Desktop/CPPs/cpps_natrual/GLGSLLKKAGKKLKQPKSKRKV.pdb\n"
     ]
    },
    {
     "name": "stderr",
     "output_type": "stream",
     "text": [
      "  % Total    % Received % Xferd  Average Speed   Time    Time     Time  Current\n",
      "                                 Dload  Upload   Total   Spent    Left  Speed\n",
      "100  4987  100  4983  100     4   2152      1  0:00:04  0:00:02  0:00:02  2155\n"
     ]
    },
    {
     "name": "stdout",
     "output_type": "stream",
     "text": [
      "PDB file generated successfully: /Users/jianchengluo/Desktop/CPPs/cpps_natrual/YRFK.pdb\n"
     ]
    },
    {
     "name": "stderr",
     "output_type": "stream",
     "text": [
      "  % Total    % Received % Xferd  Average Speed   Time    Time     Time  Current\n",
      "                                 Dload  Upload   Total   Spent    Left  Speed\n",
      "100 12610  100 12597  100    13   5523      5  0:00:02  0:00:02 --:--:--  5528\n"
     ]
    },
    {
     "name": "stdout",
     "output_type": "stream",
     "text": [
      "PDB file generated successfully: /Users/jianchengluo/Desktop/CPPs/cpps_natrual/YRFKYRFKYRLFK.pdb\n"
     ]
    },
    {
     "name": "stderr",
     "output_type": "stream",
     "text": [
      "  % Total    % Received % Xferd  Average Speed   Time    Time     Time  Current\n",
      "                                 Dload  Upload   Total   Spent    Left  Speed\n",
      "100  9286  100  9276  100    10   3758      4  0:00:02  0:00:02 --:--:--  3762\n"
     ]
    },
    {
     "name": "stdout",
     "output_type": "stream",
     "text": [
      "PDB file generated successfully: /Users/jianchengluo/Desktop/CPPs/cpps_natrual/WRFKKSKRKV.pdb\n"
     ]
    },
    {
     "name": "stderr",
     "output_type": "stream",
     "text": [
      "  % Total    % Received % Xferd  Average Speed   Time    Time     Time  Current\n",
      "                                 Dload  Upload   Total   Spent    Left  Speed\n",
      "100 13751  100 13731  100    20   5643      8  0:00:02  0:00:02 --:--:--  5654\n"
     ]
    },
    {
     "name": "stdout",
     "output_type": "stream",
     "text": [
      "PDB file generated successfully: /Users/jianchengluo/Desktop/CPPs/cpps_natrual/WRFKAAVALLPAVLLALLAP.pdb\n"
     ]
    },
    {
     "name": "stderr",
     "output_type": "stream",
     "text": [
      "  % Total    % Received % Xferd  Average Speed   Time    Time     Time  Current\n",
      "                                 Dload  Upload   Total   Spent    Left  Speed\n",
      "100  8798  100  8790  100     8   2103      1  0:00:08  0:00:04  0:00:04  2105\n"
     ]
    },
    {
     "name": "stdout",
     "output_type": "stream",
     "text": [
      "PDB file generated successfully: /Users/jianchengluo/Desktop/CPPs/cpps_natrual/WRFKWRFK.pdb\n"
     ]
    },
    {
     "name": "stderr",
     "output_type": "stream",
     "text": [
      "  % Total    % Received % Xferd  Average Speed   Time    Time     Time  Current\n",
      "                                 Dload  Upload   Total   Spent    Left  Speed\n",
      "100 12447  100 12435  100    12   5354      5  0:00:02  0:00:02 --:--:--  5360\n"
     ]
    },
    {
     "name": "stdout",
     "output_type": "stream",
     "text": [
      "PDB file generated successfully: /Users/jianchengluo/Desktop/CPPs/cpps_natrual/WRFKWRFKWRFK.pdb\n"
     ]
    },
    {
     "name": "stderr",
     "output_type": "stream",
     "text": [
      "  % Total    % Received % Xferd  Average Speed   Time    Time     Time  Current\n",
      "                                 Dload  Upload   Total   Spent    Left  Speed\n",
      "100 25593  100 25557  100    36  19770     27  0:00:01  0:00:01 --:--:-- 19808\n"
     ]
    },
    {
     "name": "stdout",
     "output_type": "stream",
     "text": [
      "PDB file generated successfully: /Users/jianchengluo/Desktop/CPPs/cpps_natrual/KGSKKAVTKAQKKDGKKRKRSRKESYSVYVYKVLKQ.pdb\n"
     ]
    },
    {
     "name": "stderr",
     "output_type": "stream",
     "text": [
      "  % Total    % Received % Xferd  Average Speed   Time    Time     Time  Current\n",
      "                                 Dload  Upload   Total   Spent    Left  Speed\n",
      "100 27537  100 27501  100    36  10502     13  0:00:02  0:00:02 --:--:-- 10514\n"
     ]
    },
    {
     "name": "stdout",
     "output_type": "stream",
     "text": [
      "PDB file generated successfully: /Users/jianchengluo/Desktop/CPPs/cpps_natrual/RGSRRAVTRAQRRDGRRRRRSRRESYSVYVYRVLRQ.pdb\n"
     ]
    },
    {
     "name": "stderr",
     "output_type": "stream",
     "text": [
      "  % Total    % Received % Xferd  Average Speed   Time    Time     Time  Current\n",
      "                                 Dload  Upload   Total   Spent    Left  Speed\n",
      "100 12855  100 12840  100    15   5273      6  0:00:02  0:00:02 --:--:--  5281\n"
     ]
    },
    {
     "name": "stdout",
     "output_type": "stream",
     "text": [
      "PDB file generated successfully: /Users/jianchengluo/Desktop/CPPs/cpps_natrual/RVIRWFQNKRSKDKK.pdb\n"
     ]
    },
    {
     "name": "stderr",
     "output_type": "stream",
     "text": [
      "  % Total    % Received % Xferd  Average Speed   Time    Time     Time  Current\n",
      "                                 Dload  Upload   Total   Spent    Left  Speed\n",
      "100 17727  100 17700  100    27   7897     12  0:00:02  0:00:02 --:--:--  7906\n"
     ]
    },
    {
     "name": "stdout",
     "output_type": "stream",
     "text": [
      "PDB file generated successfully: /Users/jianchengluo/Desktop/CPPs/cpps_natrual/GWTLNSAGYLLGKINLKALAALAKKIL.pdb\n"
     ]
    },
    {
     "name": "stderr",
     "output_type": "stream",
     "text": [
      "  % Total    % Received % Xferd  Average Speed   Time    Time     Time  Current\n",
      "                                 Dload  Upload   Total   Spent    Left  Speed\n",
      "100 19510  100 19482  100    28  12910     18  0:00:01  0:00:01 --:--:-- 12937\n"
     ]
    },
    {
     "name": "stdout",
     "output_type": "stream",
     "text": [
      "PDB file generated successfully: /Users/jianchengluo/Desktop/CPPs/cpps_natrual/AAVALLPAVLLALLAPRKKRRQRRRPPQ.pdb\n"
     ]
    },
    {
     "name": "stderr",
     "output_type": "stream",
     "text": [
      "  % Total    % Received % Xferd  Average Speed   Time    Time     Time  Current\n",
      "                                 Dload  Upload   Total   Spent    Left  Speed\n",
      "100  5312  100  5307  100     5   2313      2  0:00:02  0:00:02 --:--:--  2314\n"
     ]
    },
    {
     "name": "stdout",
     "output_type": "stream",
     "text": [
      "PDB file generated successfully: /Users/jianchengluo/Desktop/CPPs/cpps_natrual/CWKKK.pdb\n"
     ]
    },
    {
     "name": "stderr",
     "output_type": "stream",
     "text": [
      "  % Total    % Received % Xferd  Average Speed   Time    Time     Time  Current\n",
      "                                 Dload  Upload   Total   Spent    Left  Speed\n",
      "100  8962  100  8952  100    10   3869      4  0:00:02  0:00:02 --:--:--  3874\n"
     ]
    },
    {
     "name": "stdout",
     "output_type": "stream",
     "text": [
      "PDB file generated successfully: /Users/jianchengluo/Desktop/CPPs/cpps_natrual/CWKKKKKKKK.pdb\n"
     ]
    },
    {
     "name": "stderr",
     "output_type": "stream",
     "text": [
      "  % Total    % Received % Xferd  Average Speed   Time    Time     Time  Current\n",
      "                                 Dload  Upload   Total   Spent    Left  Speed\n",
      "100 12612  100 12597  100    15   2247      2  0:00:07  0:00:05  0:00:02  3515\n"
     ]
    },
    {
     "name": "stdout",
     "output_type": "stream",
     "text": [
      "PDB file generated successfully: /Users/jianchengluo/Desktop/CPPs/cpps_natrual/CWKKKKKKKKKKKKK.pdb\n"
     ]
    },
    {
     "name": "stderr",
     "output_type": "stream",
     "text": [
      "  % Total    % Received % Xferd  Average Speed   Time    Time     Time  Current\n",
      "                                 Dload  Upload   Total   Spent    Left  Speed\n",
      "100 16262  100 16242  100    20   6090      7  0:00:02  0:00:02 --:--:--  6099\n"
     ]
    },
    {
     "name": "stdout",
     "output_type": "stream",
     "text": [
      "PDB file generated successfully: /Users/jianchengluo/Desktop/CPPs/cpps_natrual/CWKKKKKKKKKKKKKKKKKK.pdb\n"
     ]
    },
    {
     "name": "stderr",
     "output_type": "stream",
     "text": [
      "  % Total    % Received % Xferd  Average Speed   Time    Time     Time  Current\n",
      "                                 Dload  Upload   Total   Spent    Left  Speed\n",
      "100 15370  100 15351  100    19   5885      7  0:00:02  0:00:02 --:--:--  5891\n"
     ]
    },
    {
     "name": "stdout",
     "output_type": "stream",
     "text": [
      "PDB file generated successfully: /Users/jianchengluo/Desktop/CPPs/cpps_natrual/KKKKKKKKKKKKKKKKKKK.pdb\n"
     ]
    },
    {
     "name": "stderr",
     "output_type": "stream",
     "text": [
      "  % Total    % Received % Xferd  Average Speed   Time    Time     Time  Current\n",
      "                                 Dload  Upload   Total   Spent    Left  Speed\n",
      "100  9693  100  9681  100    12   9388     11  0:00:01  0:00:01 --:--:--  9401\n"
     ]
    },
    {
     "name": "stdout",
     "output_type": "stream",
     "text": [
      "PDB file generated successfully: /Users/jianchengluo/Desktop/CPPs/cpps_natrual/APWHLSSQYSRT.pdb\n"
     ]
    },
    {
     "name": "stderr",
     "output_type": "stream",
     "text": [
      "  % Total    % Received % Xferd  Average Speed   Time    Time     Time  Current\n",
      "                                 Dload  Upload   Total   Spent    Left  Speed\n",
      "100 16673  100 16647  100    26   5331      8  0:00:03  0:00:03 --:--:--  5340\n"
     ]
    },
    {
     "name": "stdout",
     "output_type": "stream",
     "text": [
      "PDB file generated successfully: /Users/jianchengluo/Desktop/CPPs/cpps_natrual/AAVALLPAVLLALLAKKNNLKDCGLF.pdb\n"
     ]
    },
    {
     "name": "stderr",
     "output_type": "stream",
     "text": [
      "  % Total    % Received % Xferd  Average Speed   Time    Time     Time  Current\n",
      "                                 Dload  Upload   Total   Spent    Left  Speed\n",
      "100 16835  100 16809  100    26   6326      9  0:00:02  0:00:02 --:--:--  6336\n"
     ]
    },
    {
     "name": "stdout",
     "output_type": "stream",
     "text": [
      "PDB file generated successfully: /Users/jianchengluo/Desktop/CPPs/cpps_natrual/AAVALLPAVLLALLAKKNNLKECGLY.pdb\n"
     ]
    },
    {
     "name": "stderr",
     "output_type": "stream",
     "text": [
      "  % Total    % Received % Xferd  Average Speed   Time    Time     Time  Current\n",
      "                                 Dload  Upload   Total   Spent    Left  Speed\n",
      "100 27868  100 27825  100    43  10687     16  0:00:02  0:00:02 --:--:-- 10706\n"
     ]
    },
    {
     "name": "stdout",
     "output_type": "stream",
     "text": [
      "PDB file generated successfully: /Users/jianchengluo/Desktop/CPPs/cpps_natrual/AAVALLPAVLLALLAVTDQLGEDFFAVDLEAFLQEFGLLPEKE.pdb\n"
     ]
    },
    {
     "name": "stderr",
     "output_type": "stream",
     "text": [
      "  % Total    % Received % Xferd  Average Speed   Time    Time     Time  Current\n",
      "                                 Dload  Upload   Total   Spent    Left  Speed\n",
      "100 10264  100 10248  100    16   4192      6  0:00:02  0:00:02 --:--:--  4197\n"
     ]
    },
    {
     "name": "stdout",
     "output_type": "stream",
     "text": [
      "PDB file generated successfully: /Users/jianchengluo/Desktop/CPPs/cpps_natrual/AAVALLPAVLLALLAK.pdb\n"
     ]
    },
    {
     "name": "stderr",
     "output_type": "stream",
     "text": [
      "  % Total    % Received % Xferd  Average Speed   Time    Time     Time  Current\n",
      "                                 Dload  Upload   Total   Spent    Left  Speed\n",
      "100 20399  100 20373  100    26   5277      6  0:00:04  0:00:03  0:00:01  5283\n"
     ]
    },
    {
     "name": "stdout",
     "output_type": "stream",
     "text": [
      "PDB file generated successfully: /Users/jianchengluo/Desktop/CPPs/cpps_natrual/AHALCLTERQIKIWFQNRRMKWKKEN.pdb\n"
     ]
    },
    {
     "name": "stderr",
     "output_type": "stream",
     "text": [
      "  % Total    % Received % Xferd  Average Speed   Time    Time     Time  Current\n",
      "                                 Dload  Upload   Total   Spent    Left  Speed\n",
      "100 20318  100 20292  100    26   6595      8  0:00:03  0:00:03 --:--:--  6605\n"
     ]
    },
    {
     "name": "stdout",
     "output_type": "stream",
     "text": [
      "PDB file generated successfully: /Users/jianchengluo/Desktop/CPPs/cpps_natrual/AHALCPPERQIKIWFQNRRMKWKKEN.pdb\n"
     ]
    },
    {
     "name": "stderr",
     "output_type": "stream",
     "text": [
      "  % Total    % Received % Xferd  Average Speed   Time    Time     Time  Current\n",
      "                                 Dload  Upload   Total   Spent    Left  Speed\n",
      "100 20237  100 20211  100    26   7517      9  0:00:02  0:00:02 --:--:--  7525\n"
     ]
    },
    {
     "name": "stdout",
     "output_type": "stream",
     "text": [
      "PDB file generated successfully: /Users/jianchengluo/Desktop/CPPs/cpps_natrual/AYALCLTERQIKIWFANRRMKWKKEN.pdb\n"
     ]
    },
    {
     "name": "stderr",
     "output_type": "stream",
     "text": [
      "  % Total    % Received % Xferd  Average Speed   Time    Time     Time  Current\n",
      "                                 Dload  Upload   Total   Spent    Left  Speed\n",
      "100 20650  100 20616  100    34  15443     25  0:00:01  0:00:01 --:--:-- 15479\n"
     ]
    },
    {
     "name": "stdout",
     "output_type": "stream",
     "text": [
      "PDB file generated successfully: /Users/jianchengluo/Desktop/CPPs/cpps_natrual/GGVCPKILKKCRRDSDCPGACICRGNGYCGSGSD.pdb\n"
     ]
    },
    {
     "name": "stderr",
     "output_type": "stream",
     "text": [
      "  % Total    % Received % Xferd  Average Speed   Time    Time     Time  Current\n",
      "                                 Dload  Upload   Total   Spent    Left  Speed\n",
      "100 20002  100 19968  100    34   7787     13  0:00:02  0:00:02 --:--:--  7801\n"
     ]
    },
    {
     "name": "stdout",
     "output_type": "stream",
     "text": [
      "PDB file generated successfully: /Users/jianchengluo/Desktop/CPPs/cpps_natrual/GGVCPKILAACRRDSDCPGACICRGNGYCGSGSD.pdb\n"
     ]
    },
    {
     "name": "stderr",
     "output_type": "stream",
     "text": [
      "  % Total    % Received % Xferd  Average Speed   Time    Time     Time  Current\n",
      "                                 Dload  Upload   Total   Spent    Left  Speed\n",
      "100 20326  100 20292  100    34   7710     12  0:00:02  0:00:02 --:--:--  7725\n"
     ]
    },
    {
     "name": "stdout",
     "output_type": "stream",
     "text": [
      "PDB file generated successfully: /Users/jianchengluo/Desktop/CPPs/cpps_natrual/GGVCPAILKKCRRDSDCPGACICRGNGYCGSGSD.pdb\n"
     ]
    },
    {
     "name": "stderr",
     "output_type": "stream",
     "text": [
      "  % Total    % Received % Xferd  Average Speed   Time    Time     Time  Current\n",
      "                                 Dload  Upload   Total   Spent    Left  Speed\n",
      "100 20326  100 20292  100    34   7491     12  0:00:02  0:00:02 --:--:--  7503\n"
     ]
    },
    {
     "name": "stdout",
     "output_type": "stream",
     "text": [
      "PDB file generated successfully: /Users/jianchengluo/Desktop/CPPs/cpps_natrual/GGVCPKILAKCRRDSDCPGACICRGNGYCGSGSD.pdb\n"
     ]
    },
    {
     "name": "stderr",
     "output_type": "stream",
     "text": [
      "  % Total    % Received % Xferd  Average Speed   Time    Time     Time  Current\n",
      "                                 Dload  Upload   Total   Spent    Left  Speed\n",
      "100 20326  100 20292  100    34   7659     12  0:00:02  0:00:02 --:--:--  7670\n"
     ]
    },
    {
     "name": "stdout",
     "output_type": "stream",
     "text": [
      "PDB file generated successfully: /Users/jianchengluo/Desktop/CPPs/cpps_natrual/GGVCPKILKACRRDSDCPGACICRGNGYCGSGSD.pdb\n"
     ]
    },
    {
     "name": "stderr",
     "output_type": "stream",
     "text": [
      "  % Total    % Received % Xferd  Average Speed   Time    Time     Time  Current\n",
      "                                 Dload  Upload   Total   Spent    Left  Speed\n",
      "100 17648  100 17619  100    29   4338      7  0:00:04  0:00:04 --:--:--  4345\n"
     ]
    },
    {
     "name": "stdout",
     "output_type": "stream",
     "text": [
      "PDB file generated successfully: /Users/jianchengluo/Desktop/CPPs/cpps_natrual/GLPVCGETCVGGTCNTPGCKCSWPVCTRN.pdb\n"
     ]
    },
    {
     "name": "stderr",
     "output_type": "stream",
     "text": [
      "  % Total    % Received % Xferd  Average Speed   Time    Time     Time  Current\n",
      "                                 Dload  Upload   Total   Spent    Left  Speed\n",
      "100 17648  100 17619  100    29   6446     10  0:00:02  0:00:02 --:--:--  6457\n"
     ]
    },
    {
     "name": "stdout",
     "output_type": "stream",
     "text": [
      "PDB file generated successfully: /Users/jianchengluo/Desktop/CPPs/cpps_natrual/GLPVCGETCVGGTCNTPGCTCSWPKCTRN.pdb\n"
     ]
    },
    {
     "name": "stderr",
     "output_type": "stream",
     "text": [
      "  % Total    % Received % Xferd  Average Speed   Time    Time     Time  Current\n",
      "                                 Dload  Upload   Total   Spent    Left  Speed\n",
      "100 10019  100 10005  100    14   9396     13  0:00:01  0:00:01 --:--:--  9416\n"
     ]
    },
    {
     "name": "stdout",
     "output_type": "stream",
     "text": [
      "PDB file generated successfully: /Users/jianchengluo/Desktop/CPPs/cpps_natrual/GRCTKSIPPICFPD.pdb\n"
     ]
    },
    {
     "name": "stderr",
     "output_type": "stream",
     "text": [
      "  % Total    % Received % Xferd  Average Speed   Time    Time     Time  Current\n",
      "                                 Dload  Upload   Total   Spent    Left  Speed\n",
      "100 14314  100 14298  100    16  10876     12  0:00:01  0:00:01 --:--:-- 10885\n"
     ]
    },
    {
     "name": "stdout",
     "output_type": "stream",
     "text": [
      "PDB file generated successfully: /Users/jianchengluo/Desktop/CPPs/cpps_natrual/RQIKIWFQNRRMKWKK.pdb\n"
     ]
    },
    {
     "name": "stderr",
     "output_type": "stream",
     "text": [
      "  % Total    % Received % Xferd  Average Speed   Time    Time     Time  Current\n",
      "                                 Dload  Upload   Total   Spent    Left  Speed\n",
      "100 24942  100 24909  100    33   5695      7  0:00:04  0:00:04 --:--:--  5703\n"
     ]
    },
    {
     "name": "stdout",
     "output_type": "stream",
     "text": [
      "PDB file generated successfully: /Users/jianchengluo/Desktop/CPPs/cpps_natrual/RQIKIWFQNRRMKWKKTYADFIASGRTGRRNAI.pdb\n"
     ]
    },
    {
     "name": "stderr",
     "output_type": "stream",
     "text": [
      "  % Total    % Received % Xferd  Average Speed   Time    Time     Time  Current\n",
      "                                 Dload  Upload   Total   Spent    Left  Speed\n",
      "100 11233  100 11220  100    13   9624     11  0:00:01  0:00:01 --:--:--  9642\n"
     ]
    },
    {
     "name": "stdout",
     "output_type": "stream",
     "text": [
      "PDB file generated successfully: /Users/jianchengluo/Desktop/CPPs/cpps_natrual/GRKKRRQRRRPPQ.pdb\n"
     ]
    },
    {
     "name": "stderr",
     "output_type": "stream",
     "text": [
      "  % Total    % Received % Xferd  Average Speed   Time    Time     Time  Current\n",
      "                                 Dload  Upload   Total   Spent    Left  Speed\n",
      "100 21861  100 21831  100    30   7785     10  0:00:03  0:00:02  0:00:01  7793\n"
     ]
    },
    {
     "name": "stdout",
     "output_type": "stream",
     "text": [
      "PDB file generated successfully: /Users/jianchengluo/Desktop/CPPs/cpps_natrual/GRKKRRQRRRPPQTYADFIASGRTGRRNAI.pdb\n"
     ]
    },
    {
     "name": "stderr",
     "output_type": "stream",
     "text": [
      "  % Total    % Received % Xferd  Average Speed   Time    Time     Time  Current\n",
      "                                 Dload  Upload   Total   Spent    Left  Speed\n",
      "100 13914  100 13893  100    21  10165     15  0:00:01  0:00:01 --:--:-- 10178\n"
     ]
    },
    {
     "name": "stdout",
     "output_type": "stream",
     "text": [
      "PDB file generated successfully: /Users/jianchengluo/Desktop/CPPs/cpps_natrual/AGYLLGKINLKALAALAKKIL.pdb\n"
     ]
    },
    {
     "name": "stderr",
     "output_type": "stream",
     "text": [
      "  % Total    % Received % Xferd  Average Speed   Time    Time     Time  Current\n",
      "                                 Dload  Upload   Total   Spent    Left  Speed\n",
      "100 24542  100 24504  100    38   8761     13  0:00:02  0:00:02 --:--:--  8777\n"
     ]
    },
    {
     "name": "stdout",
     "output_type": "stream",
     "text": [
      "PDB file generated successfully: /Users/jianchengluo/Desktop/CPPs/cpps_natrual/AGYLLGKINLKALAALAKKILTYADFIASGRTGRRNAI.pdb\n"
     ]
    },
    {
     "name": "stderr",
     "output_type": "stream",
     "text": [
      "  % Total    % Received % Xferd  Average Speed   Time    Time     Time  Current\n",
      "                                 Dload  Upload   Total   Spent    Left  Speed\n",
      "100 11312  100 11301  100    11   6435      6  0:00:01  0:00:01 --:--:--  6441\n"
     ]
    },
    {
     "name": "stdout",
     "output_type": "stream",
     "text": [
      "PDB file generated successfully: /Users/jianchengluo/Desktop/CPPs/cpps_natrual/RRRRRRRRRRR.pdb\n"
     ]
    },
    {
     "name": "stderr",
     "output_type": "stream",
     "text": [
      "  % Total    % Received % Xferd  Average Speed   Time    Time     Time  Current\n",
      "                                 Dload  Upload   Total   Spent    Left  Speed\n",
      "100 21940  100 21912  100    28   6797      8  0:00:03  0:00:03 --:--:--  6807\n"
     ]
    },
    {
     "name": "stdout",
     "output_type": "stream",
     "text": [
      "PDB file generated successfully: /Users/jianchengluo/Desktop/CPPs/cpps_natrual/RRRRRRRRRRRTYADFIASGRTGRRNAI.pdb\n"
     ]
    },
    {
     "name": "stderr",
     "output_type": "stream",
     "text": [
      "  % Total    % Received % Xferd  Average Speed   Time    Time     Time  Current\n",
      "                                 Dload  Upload   Total   Spent    Left  Speed\n",
      "100  9528  100  9519  100     9   8704      8  0:00:01  0:00:01 --:--:--  8717\n"
     ]
    },
    {
     "name": "stdout",
     "output_type": "stream",
     "text": [
      "PDB file generated successfully: /Users/jianchengluo/Desktop/CPPs/cpps_natrual/RRRRRRRRR.pdb\n"
     ]
    },
    {
     "name": "stderr",
     "output_type": "stream",
     "text": [
      "  % Total    % Received % Xferd  Average Speed   Time    Time     Time  Current\n",
      "                                 Dload  Upload   Total   Spent    Left  Speed\n",
      "100  9528  100  9519  100     9   8325      7  0:00:01  0:00:01 --:--:--  8335\n"
     ]
    },
    {
     "name": "stdout",
     "output_type": "stream",
     "text": [
      "PDB file generated successfully: /Users/jianchengluo/Desktop/CPPs/cpps_natrual/RRRRRRRRR.pdb\n"
     ]
    },
    {
     "name": "stderr",
     "output_type": "stream",
     "text": [
      "  % Total    % Received % Xferd  Average Speed   Time    Time     Time  Current\n",
      "                                 Dload  Upload   Total   Spent    Left  Speed\n",
      "100  9528  100  9519  100     9   8647      8  0:00:01  0:00:01 --:--:--  8661\n"
     ]
    },
    {
     "name": "stdout",
     "output_type": "stream",
     "text": [
      "PDB file generated successfully: /Users/jianchengluo/Desktop/CPPs/cpps_natrual/RRRRRRRRR.pdb\n"
     ]
    },
    {
     "name": "stderr",
     "output_type": "stream",
     "text": [
      "  % Total    % Received % Xferd  Average Speed   Time    Time     Time  Current\n",
      "                                 Dload  Upload   Total   Spent    Left  Speed\n",
      "100 14314  100 14298  100    16   9373     10  0:00:01  0:00:01 --:--:--  9386\n"
     ]
    },
    {
     "name": "stdout",
     "output_type": "stream",
     "text": [
      "PDB file generated successfully: /Users/jianchengluo/Desktop/CPPs/cpps_natrual/RQIKIWFQNRRMKWKK.pdb\n"
     ]
    },
    {
     "name": "stderr",
     "output_type": "stream",
     "text": [
      "  % Total    % Received % Xferd  Average Speed   Time    Time     Time  Current\n",
      "                                 Dload  Upload   Total   Spent    Left  Speed\n",
      "100 14314  100 14298  100    16   9069     10  0:00:01  0:00:01 --:--:--  9076\n"
     ]
    },
    {
     "name": "stdout",
     "output_type": "stream",
     "text": [
      "PDB file generated successfully: /Users/jianchengluo/Desktop/CPPs/cpps_natrual/RQIKIWFQNRRMKWKK.pdb\n"
     ]
    },
    {
     "name": "stderr",
     "output_type": "stream",
     "text": [
      "  % Total    % Received % Xferd  Average Speed   Time    Time     Time  Current\n",
      "                                 Dload  Upload   Total   Spent    Left  Speed\n",
      "100 16750  100 16728  100    22  11792     15  0:00:01  0:00:01 --:--:-- 11812\n"
     ]
    },
    {
     "name": "stdout",
     "output_type": "stream",
     "text": [
      "PDB file generated successfully: /Users/jianchengluo/Desktop/CPPs/cpps_natrual/KCFQWQRNMRKVRGPPVSCIKR.pdb\n"
     ]
    },
    {
     "name": "stderr",
     "output_type": "stream",
     "text": [
      "  % Total    % Received % Xferd  Average Speed   Time    Time     Time  Current\n",
      "                                 Dload  Upload   Total   Spent    Left  Speed\n",
      "100 16750  100 16728  100    22  11870     15  0:00:01  0:00:01 --:--:-- 11879\n"
     ]
    },
    {
     "name": "stdout",
     "output_type": "stream",
     "text": [
      "PDB file generated successfully: /Users/jianchengluo/Desktop/CPPs/cpps_natrual/KCFQWQRNMRKVRGPPVSCIKR.pdb\n"
     ]
    },
    {
     "name": "stderr",
     "output_type": "stream",
     "text": [
      "  % Total    % Received % Xferd  Average Speed   Time    Time     Time  Current\n",
      "                                 Dload  Upload   Total   Spent    Left  Speed\n",
      "100 12941  100 12921  100    20   4922      7  0:00:02  0:00:02 --:--:--  4929\n"
     ]
    },
    {
     "name": "stdout",
     "output_type": "stream",
     "text": [
      "PDB file generated successfully: /Users/jianchengluo/Desktop/CPPs/cpps_natrual/KLALKLALKALKAALKLAGC.pdb\n"
     ]
    },
    {
     "name": "stderr",
     "output_type": "stream",
     "text": [
      "  % Total    % Received % Xferd  Average Speed   Time    Time     Time  Current\n",
      "                                 Dload  Upload   Total   Spent    Left  Speed\n",
      "100 21299  100 21264  100    35   7194     11  0:00:03  0:00:02  0:00:01  7205\n"
     ]
    },
    {
     "name": "stdout",
     "output_type": "stream",
     "text": [
      "PDB file generated successfully: /Users/jianchengluo/Desktop/CPPs/cpps_natrual/GGGARKKAAKAARKKAAKAARKKAAKAARKKAAKA.pdb\n"
     ]
    },
    {
     "name": "stderr",
     "output_type": "stream",
     "text": [
      "  % Total    % Received % Xferd  Average Speed   Time    Time     Time  Current\n",
      "                                 Dload  Upload   Total   Spent    Left  Speed\n",
      "100 11720  100 11706  100    14   7832      9  0:00:01  0:00:01 --:--:--  7844\n"
     ]
    },
    {
     "name": "stdout",
     "output_type": "stream",
     "text": [
      "PDB file generated successfully: /Users/jianchengluo/Desktop/CPPs/cpps_natrual/GRKKRRQRRRPPQC.pdb\n"
     ]
    },
    {
     "name": "stderr",
     "output_type": "stream",
     "text": [
      "  % Total    % Received % Xferd  Average Speed   Time    Time     Time  Current\n",
      "                                 Dload  Upload   Total   Spent    Left  Speed\n",
      "100 16180  100 16161  100    19   4030      4  0:00:04  0:00:04 --:--:--  4035\n"
     ]
    },
    {
     "name": "stdout",
     "output_type": "stream",
     "text": [
      "PDB file generated successfully: /Users/jianchengluo/Desktop/CPPs/cpps_natrual/TRQARRNRRRRWRERQRGC.pdb\n"
     ]
    },
    {
     "name": "stderr",
     "output_type": "stream",
     "text": [
      "  % Total    % Received % Xferd  Average Speed   Time    Time     Time  Current\n",
      "                                 Dload  Upload   Total   Spent    Left  Speed\n",
      "100 14558  100 14541  100    17  10651     12  0:00:01  0:00:01 --:--:-- 10665\n"
     ]
    },
    {
     "name": "stdout",
     "output_type": "stream",
     "text": [
      "PDB file generated successfully: /Users/jianchengluo/Desktop/CPPs/cpps_natrual/RRRRNRTRRNRRRVRGC.pdb\n"
     ]
    },
    {
     "name": "stderr",
     "output_type": "stream",
     "text": [
      "  % Total    % Received % Xferd  Average Speed   Time    Time     Time  Current\n",
      "                                 Dload  Upload   Total   Spent    Left  Speed\n",
      "100 15615  100 15594  100    21  11198     15  0:00:01  0:00:01 --:--:-- 11209\n"
     ]
    },
    {
     "name": "stdout",
     "output_type": "stream",
     "text": [
      "PDB file generated successfully: /Users/jianchengluo/Desktop/CPPs/cpps_natrual/KMTRAQRRAAARRNRWTARGC.pdb\n"
     ]
    },
    {
     "name": "stderr",
     "output_type": "stream",
     "text": [
      "  % Total    % Received % Xferd  Average Speed   Time    Time     Time  Current\n",
      "                                 Dload  Upload   Total   Spent    Left  Speed\n",
      "100 12369  100 12354  100    15  10904     13  0:00:01  0:00:01 --:--:-- 10926\n"
     ]
    },
    {
     "name": "stdout",
     "output_type": "stream",
     "text": [
      "PDB file generated successfully: /Users/jianchengluo/Desktop/CPPs/cpps_natrual/TRRQRTRRARRNRGC.pdb\n"
     ]
    },
    {
     "name": "stderr",
     "output_type": "stream",
     "text": [
      "  % Total    % Received % Xferd  Average Speed   Time    Time     Time  Current\n",
      "                                 Dload  Upload   Total   Spent    Left  Speed\n",
      "100 21942  100 21912  100    30  14513     19  0:00:01  0:00:01 --:--:-- 14531\n"
     ]
    },
    {
     "name": "stdout",
     "output_type": "stream",
     "text": [
      "PDB file generated successfully: /Users/jianchengluo/Desktop/CPPs/cpps_natrual/RIKAERKRMRNRIAASKSRKRKLERIARGC.pdb\n"
     ]
    },
    {
     "name": "stderr",
     "output_type": "stream",
     "text": [
      "  % Total    % Received % Xferd  Average Speed   Time    Time     Time  Current\n",
      "                                 Dload  Upload   Total   Spent    Left  Speed\n",
      "100 20725  100 20697  100    28   4199      5  0:00:05  0:00:04  0:00:01  6197\n"
     ]
    },
    {
     "name": "stdout",
     "output_type": "stream",
     "text": [
      "PDB file generated successfully: /Users/jianchengluo/Desktop/CPPs/cpps_natrual/KRRIRRERNKMAAAKSRNRRRELTDTGC.pdb\n"
     ]
    },
    {
     "name": "stderr",
     "output_type": "stream",
     "text": [
      "  % Total    % Received % Xferd  Average Speed   Time    Time     Time  Current\n",
      "                                 Dload  Upload   Total   Spent    Left  Speed\n",
      "100 17480  100 17457  100    23   6477      8  0:00:02  0:00:02 --:--:--  6486\n"
     ]
    },
    {
     "name": "stdout",
     "output_type": "stream",
     "text": [
      "PDB file generated successfully: /Users/jianchengluo/Desktop/CPPs/cpps_natrual/WLRRIKAWLRRIKALNRQLGVAA.pdb\n"
     ]
    },
    {
     "name": "stderr",
     "output_type": "stream",
     "text": [
      "  % Total    % Received % Xferd  Average Speed   Time    Time     Time  Current\n",
      "                                 Dload  Upload   Total   Spent    Left  Speed\n",
      "100 10503  100 10491  100    12   4290      4  0:00:03  0:00:02  0:00:01  4295\n"
     ]
    },
    {
     "name": "stdout",
     "output_type": "stream",
     "text": [
      "PDB file generated successfully: /Users/jianchengluo/Desktop/CPPs/cpps_natrual/GRKKRRQRRRPP.pdb\n"
     ]
    },
    {
     "name": "stderr",
     "output_type": "stream",
     "text": [
      "  % Total    % Received % Xferd  Average Speed   Time    Time     Time  Current\n",
      "                                 Dload  Upload   Total   Spent    Left  Speed\n",
      "100  9528  100  9519  100     9   8850      8  0:00:01  0:00:01 --:--:--  8863\n"
     ]
    },
    {
     "name": "stdout",
     "output_type": "stream",
     "text": [
      "PDB file generated successfully: /Users/jianchengluo/Desktop/CPPs/cpps_natrual/RRRRRRRRR.pdb\n"
     ]
    },
    {
     "name": "stderr",
     "output_type": "stream",
     "text": [
      "  % Total    % Received % Xferd  Average Speed   Time    Time     Time  Current\n",
      "                                 Dload  Upload   Total   Spent    Left  Speed\n",
      "100  8636  100  8628  100     8   7556      7  0:00:01  0:00:01 --:--:--  7568\n"
     ]
    },
    {
     "name": "stdout",
     "output_type": "stream",
     "text": [
      "PDB file generated successfully: /Users/jianchengluo/Desktop/CPPs/cpps_natrual/RRRRRRRR.pdb\n"
     ]
    }
   ],
   "source": [
    "%%bash\n",
    "#esmfold prediction\n",
    "\n",
    "output_path=\"/Users/jianchengluo/Desktop/CPPs/cpps_natrual/\"\n",
    "file_path=\"cpps_natrual.fna\"\n",
    "sequences=$(awk '/^[>]/ {if (seq) {print seq}; seq=\"\"; next} /^[^>]/ {gsub(/\\n/, \"\"); seq = seq $0} END {print seq}' \"$file_path\")\n",
    "\n",
    "while read -r sequence; do\n",
    "\n",
    "  pdb_file=\"$output_path$sequence.pdb\"\n",
    "  while true; do\n",
    "    curl -X POST --data \"$sequence\" \"https://api.esmatlas.com/foldSequence/v1/pdb/\" > \"$pdb_file\"    \n",
    "    if [ -z \"$(cat \"$pdb_file\")\" ] || grep -q \"Internal server error\" \"$pdb_file\"; then\n",
    "      echo \"PDB file has INTERNAL SERVER ERROR or is empty, retrying...\"\n",
    "    else\n",
    "      echo \"PDB file generated successfully: $pdb_file\"\n",
    "      break\n",
    "    fi\n",
    "  done\n",
    "\n",
    "done <<< \"$sequences\"\n"
   ]
  }
 ],
 "metadata": {
  "kernelspec": {
   "display_name": "chroma",
   "language": "python",
   "name": "python3"
  },
  "language_info": {
   "codemirror_mode": {
    "name": "ipython",
    "version": 3
   },
   "file_extension": ".py",
   "mimetype": "text/x-python",
   "name": "python",
   "nbconvert_exporter": "python",
   "pygments_lexer": "ipython3",
   "version": "3.9.18"
  }
 },
 "nbformat": 4,
 "nbformat_minor": 2
}
